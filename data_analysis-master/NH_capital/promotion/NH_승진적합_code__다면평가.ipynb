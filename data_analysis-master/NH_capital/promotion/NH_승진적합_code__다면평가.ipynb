{
  "cells": [
    {
      "cell_type": "code",
      "execution_count": null,
      "metadata": {
        "colab": {
          "base_uri": "https://localhost:8080/"
        },
        "id": "RdVBxc5gU9uy",
        "outputId": "4507410f-1e90-4802-e963-ae00b61412e4"
      },
      "outputs": [],
      "source": [
        "from google.colab import drive\n",
        "drive.mount('/content/drive')"
      ]
    },
    {
      "cell_type": "code",
      "execution_count": null,
      "metadata": {
        "colab": {
          "base_uri": "https://localhost:8080/"
        },
        "id": "olU_IHXXLu8t",
        "outputId": "42156881-b087-4790-deac-13575865f3a2"
      },
      "outputs": [],
      "source": [
        "!pip install shap"
      ]
    },
    {
      "cell_type": "code",
      "execution_count": null,
      "metadata": {
        "colab": {
          "base_uri": "https://localhost:8080/"
        },
        "id": "DzsSTwRDp7Zk",
        "outputId": "a4203db3-ad0b-4d2f-90e3-64b14710fd0e"
      },
      "outputs": [],
      "source": [
        "!pip install xgboost==1.6.2"
      ]
    },
    {
      "cell_type": "code",
      "execution_count": null,
      "metadata": {
        "colab": {
          "base_uri": "https://localhost:8080/"
        },
        "id": "1SRkzt0-Knx2",
        "outputId": "31c0d962-ebe4-4b16-cabc-5b816de13422"
      },
      "outputs": [],
      "source": [
        "!sudo apt-get install -y fonts-nanum\n",
        "!sudo fc-cache -fv\n",
        "!rm ~/.cache/matplotlib -rf"
      ]
    },
    {
      "cell_type": "code",
      "execution_count": null,
      "metadata": {
        "id": "13GLwQ2kXi2f"
      },
      "outputs": [],
      "source": [
        "import pandas as pd\n",
        "import numpy as np\n",
        "from sklearn.model_selection import train_test_split, GridSearchCV, KFold, StratifiedKFold\n",
        "from sklearn.preprocessing import StandardScaler, MinMaxScaler\n",
        "from imblearn.over_sampling import SMOTE\n",
        "from sklearn.linear_model import LogisticRegression\n",
        "from sklearn.neighbors import KNeighborsClassifier\n",
        "from sklearn.svm import SVC\n",
        "from sklearn.tree import DecisionTreeClassifier\n",
        "from sklearn.ensemble import RandomForestClassifier, AdaBoostClassifier\n",
        "from sklearn.neural_network import MLPClassifier\n",
        "from lightgbm import LGBMClassifier\n",
        "from xgboost import XGBClassifier\n",
        "from sklearn.metrics import accuracy_score, precision_score, recall_score, confusion_matrix, roc_auc_score, roc_curve, make_scorer, f1_score\n",
        "from imblearn.pipeline import Pipeline\n",
        "import shap\n",
        "from datetime import datetime\n",
        "import json"
      ]
    },
    {
      "cell_type": "code",
      "execution_count": null,
      "metadata": {
        "id": "t9k0huTHKuT8"
      },
      "outputs": [],
      "source": [
        "import matplotlib.pyplot as plt\n",
        "plt.rc('font', family='NanumBarunGothic')"
      ]
    },
    {
      "cell_type": "code",
      "execution_count": null,
      "metadata": {
        "id": "eVTdrbWTAwlI"
      },
      "outputs": [],
      "source": [
        "random_seed = 4"
      ]
    },
    {
      "cell_type": "code",
      "execution_count": null,
      "metadata": {
        "id": "jbi0X3YWAp4H"
      },
      "outputs": [],
      "source": [
        "stratified_kfold = StratifiedKFold(n_splits=5,\n",
        "                                       shuffle=True,\n",
        "                                       random_state=random_seed)"
      ]
    },
    {
      "cell_type": "code",
      "execution_count": null,
      "metadata": {
        "id": "CM87rn5_zQgA"
      },
      "outputs": [],
      "source": [
        "auc_scorer = make_scorer(roc_auc_score, needs_threshold=True)"
      ]
    },
    {
      "cell_type": "code",
      "execution_count": null,
      "metadata": {
        "id": "G3CF1Uk9XexR"
      },
      "outputs": [],
      "source": [
        "# 2022 데이터 추가\n",
        "data_2019 = pd.read_excel('/content/drive/My Drive/Colab Notebooks/NH농협캐피탈/승진적합/promotion_subject_19.xlsx', engine='openpyxl')\n",
        "data_2020 = pd.read_excel('/content/drive/My Drive/Colab Notebooks/NH농협캐피탈/승진적합/promotion_subject_20.xlsx', engine='openpyxl')\n",
        "data_2021 = pd.read_excel('/content/drive/My Drive/Colab Notebooks/NH농협캐피탈/승진적합/promotion_subject_21.xlsx', engine='openpyxl')\n",
        "data_2022 = pd.read_excel('/content/drive/My Drive/Colab Notebooks/NH농협캐피탈/승진적합/promotion_subject_22.xlsx', engine='openpyxl')"
      ]
    },
    {
      "cell_type": "markdown",
      "metadata": {
        "id": "K3bVIPnTckq6"
      },
      "source": [
        "preprocessing"
      ]
    },
    {
      "cell_type": "code",
      "execution_count": null,
      "metadata": {
        "id": "q7OTZmObOC1u"
      },
      "outputs": [],
      "source": [
        "# 승진대상 후보자들만 선별\n",
        "data_2019 = data_2019.loc[data_2019['승진대상 후보여부']=='Yes']\n",
        "data_2020 = data_2020.loc[data_2020['승진대상 후보여부']=='Yes']\n",
        "data_2021 = data_2021.loc[data_2021['승진대상 후보여부']=='Yes']\n",
        "data_2022 = data_2022.loc[data_2022['승진대상 후보여부']=='Yes'].reset_index(drop=True)"
      ]
    },
    {
      "cell_type": "code",
      "execution_count": null,
      "metadata": {
        "colab": {
          "base_uri": "https://localhost:8080/"
        },
        "id": "vS8nQ6XqPjyt",
        "outputId": "b15012dd-b2ba-4168-b997-eaed6aae1a40"
      },
      "outputs": [],
      "source": [
        "print(len(data_2019))\n",
        "print(len(data_2020))\n",
        "print(len(data_2021))\n",
        "print(len(data_2022))"
      ]
    },
    {
      "cell_type": "code",
      "execution_count": null,
      "metadata": {
        "id": "GPQmM4FDXVL5"
      },
      "outputs": [],
      "source": [
        "train = pd.concat([data_2019, data_2020, data_2021], axis=0).reset_index(drop=True)"
      ]
    },
    {
      "cell_type": "code",
      "execution_count": null,
      "metadata": {
        "id": "mdeDKVXFymo_"
      },
      "outputs": [],
      "source": [
        "train_data = train.copy()\n",
        "inf_data = data_2022.copy()"
      ]
    },
    {
      "cell_type": "code",
      "execution_count": null,
      "metadata": {
        "id": "lO9h33-9Q15B"
      },
      "outputs": [],
      "source": [
        "train_data =train_data.reset_index(drop=True)\n",
        "inf_data =inf_data.reset_index(drop=True)"
      ]
    },
    {
      "cell_type": "code",
      "execution_count": null,
      "metadata": {
        "id": "iLah_p4ocfM5"
      },
      "outputs": [],
      "source": [
        "train_data.drop(['성명', '연락처', '이메일', '생년월일', '본부', '실', '팀', '직무', '직급'], axis=1, inplace=True)"
      ]
    },
    {
      "cell_type": "code",
      "execution_count": null,
      "metadata": {
        "id": "Bg4NbTivnADZ"
      },
      "outputs": [],
      "source": [
        "inf_data.drop(['성명', '연락처', '이메일', '생년월일', '본부', '실', '팀', '직무', '직급'], axis=1, inplace=True)"
      ]
    },
    {
      "cell_type": "code",
      "execution_count": null,
      "metadata": {
        "id": "kud2_u7-ePy8"
      },
      "outputs": [],
      "source": [
        "train_data['셀 참여횟수'] = train_data['셀 참여횟수'].fillna(0)\n",
        "train_data['봉사활동 참여횟수'] = train_data['봉사활동 참여횟수'].fillna(0)\n",
        "train_data['평균 교육점수'] = train_data['평균 교육점수'].replace('미신청', 0)\n",
        "train_data['평균 교육점수'] = train_data['평균 교육점수'].replace('미입사', 0)\n",
        "train_data['교육 이수여부'] = train_data['교육 이수여부'].replace('미입사', '미신청')\n",
        "train_data['승진여부'] = train_data['승진여부'].replace({'Yes': 1, 'No':0, '미대상' : 0})"
      ]
    },
    {
      "cell_type": "code",
      "execution_count": null,
      "metadata": {
        "id": "7WwGH4VrnJa4"
      },
      "outputs": [],
      "source": [
        "# 추가\n",
        "inf_data['셀 참여횟수'] = inf_data['셀 참여횟수'].fillna(0)\n",
        "inf_data['봉사활동 참여횟수'] = inf_data['봉사활동 참여횟수'].fillna(0)\n",
        "inf_data['평균 교육점수'] = inf_data['평균 교육점수'].replace('미신청', 0)\n",
        "inf_data['평균 교육점수'] = inf_data['평균 교육점수'].replace('미입사', 0)\n",
        "inf_data['교육 이수여부'] = inf_data['교육 이수여부'].replace('미입사', '미신청')"
      ]
    },
    {
      "cell_type": "code",
      "execution_count": null,
      "metadata": {
        "colab": {
          "base_uri": "https://localhost:8080/"
        },
        "id": "WURM8FChfxgb",
        "outputId": "a11d166f-f76a-4c01-9996-cff04df5a2a0"
      },
      "outputs": [],
      "source": [
        "grade_list = ['당년 역량평가등급', '당년 업적평가등급', '역량평가등급(1년전)', '역량평가등급(2년전)', '업적평가등급(1년전)', '업적평가등급(2년전)']\n",
        "\n",
        "for column in grade_list : \n",
        "  for i in range(len(train_data)) : \n",
        "    if train_data[column][i] == 'S' :\n",
        "      train_data[column][i] = 5\n",
        "    elif train_data[column][i] == 'A' :\n",
        "      train_data[column][i] = 4\n",
        "    elif train_data[column][i] == 'B' :\n",
        "      train_data[column][i] = 3\n",
        "    elif train_data[column][i] == 'C' :\n",
        "      train_data[column][i] = 2\n",
        "    elif train_data[column][i] == 'D' :\n",
        "      train_data[column][i] = 1\n",
        "    else : \n",
        "      train_data[column][i] = 0"
      ]
    },
    {
      "cell_type": "code",
      "execution_count": null,
      "metadata": {
        "colab": {
          "base_uri": "https://localhost:8080/"
        },
        "id": "XIXRtBnbnNMo",
        "outputId": "57d343c6-38e0-488a-b189-5e79dddfa3f6"
      },
      "outputs": [],
      "source": [
        "grade_list = ['당년 역량평가등급', '당년 업적평가등급', '역량평가등급(1년전)', '역량평가등급(2년전)', '업적평가등급(1년전)', '업적평가등급(2년전)']\n",
        "\n",
        "for column in grade_list : \n",
        "  for i in range(len(inf_data)) : \n",
        "    if inf_data[column][i] == 'S' :\n",
        "      inf_data[column][i] = 5\n",
        "    elif inf_data[column][i] == 'A' :\n",
        "      inf_data[column][i] = 4\n",
        "    elif inf_data[column][i] == 'B' :\n",
        "      inf_data[column][i] = 3\n",
        "    elif inf_data[column][i] == 'C' :\n",
        "      inf_data[column][i] = 2\n",
        "    elif inf_data[column][i] == 'D' :\n",
        "      inf_data[column][i] = 1\n",
        "    else : \n",
        "      inf_data[column][i] = 0"
      ]
    },
    {
      "cell_type": "code",
      "execution_count": null,
      "metadata": {
        "colab": {
          "base_uri": "https://localhost:8080/"
        },
        "id": "eA9T3r30R9kX",
        "outputId": "88e10232-5418-48ef-e927-1b59a14b3b95"
      },
      "outputs": [],
      "source": [
        "# 승진적합 산출점수 feature 추가\n",
        "train_data['승진적합 산출점수'] = train_data['당년 역량평가등급']*0.25 + train_data['당년 업적평가등급']*0.25 + train_data['역량평가등급(1년전)']*0.15 + train_data['업적평가등급(1년전)']*0.15 + train_data['역량평가등급(2년전)']*0.1 + train_data['업적평가등급(2년전)'] * 0.1\n",
        "for i in range(len(train_data)) : \n",
        "  if train_data['교육 이수여부'][i] == 'Yes' : \n",
        "    train_data['승진적합 산출점수'][i] = train_data['승진적합 산출점수'][i]*1.05"
      ]
    },
    {
      "cell_type": "code",
      "execution_count": null,
      "metadata": {
        "colab": {
          "base_uri": "https://localhost:8080/"
        },
        "id": "lEt23KwfT1pZ",
        "outputId": "a1666538-4b30-4aa5-c1a3-74f39e24870c"
      },
      "outputs": [],
      "source": [
        "# 승진적합 산출점수 feature 추가\n",
        "inf_data['승진적합 산출점수'] = inf_data['당년 역량평가등급']*0.25 + inf_data['당년 업적평가등급']*0.25 + inf_data['역량평가등급(1년전)']*0.15 + inf_data['업적평가등급(1년전)']*0.15 + inf_data['역량평가등급(2년전)']*0.1 + inf_data['업적평가등급(2년전)'] * 0.1\n",
        "for i in range(len(inf_data)) : \n",
        "  if inf_data['교육 이수여부'][i] == 'Yes' : \n",
        "    inf_data['승진적합 산출점수'][i] = inf_data['승진적합 산출점수'][i]*1.05"
      ]
    },
    {
      "cell_type": "code",
      "execution_count": null,
      "metadata": {
        "id": "YVdCP-WPz6_n"
      },
      "outputs": [],
      "source": [
        "pre_all_train = train_data.copy()\n",
        "pre_all_inf = inf_data.copy()"
      ]
    },
    {
      "cell_type": "markdown",
      "metadata": {
        "id": "3sPQXuSrrPMG"
      },
      "source": [
        "modeling"
      ]
    },
    {
      "cell_type": "code",
      "execution_count": null,
      "metadata": {
        "id": "_nZn2cYiZUZO"
      },
      "outputs": [],
      "source": [
        "X = pd.get_dummies(train_data.drop(['사번', '승진여부', '승진대상 후보여부'], axis=1), columns=['직책', '성별', '입사경로', '학력', '거주지', '교육 이수여부', '전공'], drop_first=True)\n",
        "X = X.astype('float')\n",
        "y = train_data['승진여부']\n",
        "y = y.astype('float') \n",
        "\n",
        "X_train, X_test, y_train, y_test = train_test_split(X, y, test_size=0.3, random_state=42, stratify = y)\n",
        "sm = SMOTE(random_state=15, k_neighbors=5)\n",
        "X_res, y_res = sm.fit_resample(X_train, y_train)"
      ]
    },
    {
      "cell_type": "code",
      "execution_count": null,
      "metadata": {
        "colab": {
          "base_uri": "https://localhost:8080/"
        },
        "id": "iUjjMhXeqZ_o",
        "outputId": "38336746-548b-4506-d703-b6cb89767ed9"
      },
      "outputs": [],
      "source": [
        "\n",
        "benchmark = pd.DataFrame(columns=['Algorithm', 'Accuracy', 'Recall', 'Precision', 'AUC'])\n",
        "\n",
        "for algorithm in [LogisticRegression(), KNeighborsClassifier(), SVC(), RandomForestClassifier(random_state=random_seed), DecisionTreeClassifier(random_state=random_seed), \n",
        "                 AdaBoostClassifier(random_state=random_seed), XGBClassifier(random_state=random_seed), MLPClassifier(random_state=random_seed)]:\n",
        "    pipeline = Pipeline(steps = [['classifier', algorithm]])\n",
        "    \n",
        "    results = GridSearchCV(estimator=pipeline,\n",
        "                           scoring= auc_scorer,\n",
        "                           param_grid ={},\n",
        "                           cv = None,\n",
        "                           n_jobs=-1)\n",
        "    results.fit(X_res, y_res)\n",
        "    results_pred = results.predict(X_test)\n",
        "    acc = accuracy_score(y_test, results_pred)\n",
        "    recall = recall_score(y_test, results_pred)\n",
        "    pre = precision_score(y_test, results_pred)\n",
        "    auc = roc_auc_score(y_test, results_pred)\n",
        "    benchmark = benchmark.append({'Algorithm' : algorithm, 'Accuracy' : acc,'Recall' : recall, 'Precision' : pre, 'AUC' : auc}, ignore_index=True)\n"
      ]
    },
    {
      "cell_type": "code",
      "execution_count": null,
      "metadata": {
        "colab": {
          "base_uri": "https://localhost:8080/",
          "height": 300
        },
        "id": "AyJG8d-8Cscv",
        "outputId": "0d3a7964-40fc-4d2d-dd67-997fd0c2b8b6"
      },
      "outputs": [],
      "source": [
        "benchmark"
      ]
    },
    {
      "cell_type": "code",
      "execution_count": null,
      "metadata": {
        "colab": {
          "base_uri": "https://localhost:8080/"
        },
        "id": "3IEnYz0it4OV",
        "outputId": "083ab8ab-99d7-4883-bf0c-bba37d1a6b93"
      },
      "outputs": [],
      "source": [
        "\n",
        "opt_dict = {}\n",
        "idx = benchmark['AUC'].idxmax()\n",
        "column_list = ['Accuracy', 'Recall', 'Precision', 'AUC']\n",
        "benchmark = benchmark.drop([idx], axis=0).reset_index(drop=True) \n",
        "\n",
        "for columns in list(column_list) : \n",
        "  opt_dict['Average '+columns] = benchmark[columns].mean()\n",
        "\n",
        "opt_dict  "
      ]
    },
    {
      "cell_type": "code",
      "execution_count": null,
      "metadata": {
        "colab": {
          "base_uri": "https://localhost:8080/",
          "height": 72
        },
        "id": "ZMvb4HMlnylL",
        "outputId": "487300c1-d057-4eb5-dccb-0acdc43ecd17"
      },
      "outputs": [],
      "source": [
        "'''\n",
        "max = 0\n",
        "seed_number_rf = 0\n",
        "rf_number = 0\n",
        "\n",
        "for seed in range(0, 50) : \n",
        "  X_train, X_test, y_train, y_test = train_test_split(X, y, test_size=0.3, random_state=seed, stratify= y)\n",
        "  for num in range(0, 50) : \n",
        "    sm = SMOTE(random_state=num, k_neighbors=5)\n",
        "    X_res, y_res = sm.fit_resample(X_train, y_train)\n",
        "    model_rf = XGBClassifier(n_estimators=100, max_depth=10, random_state=0)\n",
        "    model_rf.fit(X_res, y_res)\n",
        "    pred_rf = model_rf.predict(X_test)\n",
        "    auc = roc_auc_score(y_test, pred_rf)\n",
        "    if auc > max :\n",
        "      max = auc\n",
        "      seed_number_rf = seed\n",
        "      rf_number = num\n",
        "print(max)\n",
        "print(seed_number_rf)\n",
        "print(rf_number)\n",
        "'''"
      ]
    },
    {
      "cell_type": "code",
      "execution_count": null,
      "metadata": {
        "colab": {
          "base_uri": "https://localhost:8080/"
        },
        "id": "Zf6UKtfkWL90",
        "outputId": "34f01efa-515d-4ce0-e732-dd92212e3dcb"
      },
      "outputs": [],
      "source": [
        "# 수정 1114 \n",
        "X_train, X_test, y_train, y_test = train_test_split(X, y, test_size=0.3, random_state=42, stratify= y) # 42\n",
        "pipeline_xgb = Pipeline(steps=[('smote', SMOTE(random_state=1)), ('classifier', XGBClassifier(random_state=0))])\n",
        "\n",
        "\n",
        "params_xgb={'smote__k_neighbors' : [5],\n",
        "            'classifier__n_estimators' : [100, 200, 300, 500],\n",
        "            'classifier__max_depth' : [3, 5, 8, 10]\n",
        "            }\n",
        "\n",
        "\n",
        "grid_search_xgb = GridSearchCV(estimator=pipeline_xgb,\n",
        "                               param_grid=params_xgb,\n",
        "                               cv = stratified_kfold,\n",
        "                               scoring = auc_scorer,\n",
        "                               n_jobs=-1)\n",
        "\n",
        "grid_search_xgb.fit(X_train, y_train)\n",
        "pred_xgb = grid_search_xgb.predict(X_test)\n",
        "pred_proba = grid_search_xgb.predict_proba(X_test)[:,1]\n",
        "print(grid_search_xgb.best_params_)\n",
        "now = datetime.now()\n",
        "\n",
        "acc = accuracy_score(y_test, pred_xgb)\n",
        "re = recall_score(y_test, pred_xgb)\n",
        "pre = precision_score(y_test, pred_xgb)\n",
        "f1 = f1_score(y_test, pred_xgb)\n",
        "auc = roc_auc_score(y_test, pred_xgb)\n",
        "\n",
        "metrics_dict = {}\n",
        "metrics_dict['accuracy_score'] = acc\n",
        "metrics_dict['recall_score'] = re\n",
        "metrics_dict['precision_score'] = pre\n",
        "metrics_dict['f1_score'] = f1\n",
        "metrics_dict['AUC'] = auc\n",
        "\n",
        "metrics_dict"
      ]
    },
    {
      "cell_type": "code",
      "execution_count": null,
      "metadata": {
        "id": "MDFdy4OqgFT1"
      },
      "outputs": [],
      "source": [
        "# 추가\n",
        "end_model = grid_search_xgb.best_estimator_['classifier']"
      ]
    },
    {
      "cell_type": "code",
      "execution_count": null,
      "metadata": {
        "colab": {
          "base_uri": "https://localhost:8080/",
          "height": 42
        },
        "id": "0YReXgZ6IBkJ",
        "outputId": "6bd546e8-2683-4f2f-faea-617e2c70444f"
      },
      "outputs": [],
      "source": [
        "# Tree 계열 shap으로 변경\n",
        "explainer = shap.TreeExplainer(end_model, X_train) # 수정\n",
        "shap_values = explainer.shap_values(X_test, check_additivity=False) \n",
        "shap_obj = explainer(X_test, check_additivity=False)\n",
        "shap.initjs()\n",
        "# shap.summary_plot(shap_values, X_test, plot_type = \"bar\")"
      ]
    },
    {
      "cell_type": "code",
      "execution_count": null,
      "metadata": {
        "id": "NQ2moTvjQa5N"
      },
      "outputs": [],
      "source": [
        "importances = np.absolute(shap_values).sum(axis=0) / shap_values.shape[0]\n",
        "feature_importance = pd.Series(importances / sum(importances))\n",
        "feature_importance.index = X_train.columns"
      ]
    },
    {
      "cell_type": "code",
      "execution_count": null,
      "metadata": {
        "colab": {
          "base_uri": "https://localhost:8080/"
        },
        "id": "0nZey8hnUNNH",
        "outputId": "aab47cf0-8c96-4be2-a5bf-8a3c638469a0"
      },
      "outputs": [],
      "source": [
        "np.absolute(shap_values).sum(axis=0)"
      ]
    },
    {
      "cell_type": "code",
      "execution_count": null,
      "metadata": {
        "id": "O28Npl6ST1FS"
      },
      "outputs": [],
      "source": [
        "# 변경\n",
        "numerical = ['연령', '당사근속기간(개월)', '외부경력(개월)', '총경력(개월)', '현 직급 근속기간(연)', '이직횟수', '셀 참여횟수', '봉사활동 참여횟수', \n",
        "       '직무관련자격증', '수상횟수', '평균 교육점수', '당년 역량평가등급', '당년 업적평가등급', '역량평가등급(1년전)', '역량평가등급(2년전)',\n",
        "       '업적평가등급(1년전)', '업적평가등급(2년전)', '전문성_평균평점', '리더십_평균평점', '부하육성_평균평점', '관계관리_평균평점', '조직비전_평균평점',\n",
        "       '직책수행능력_평균평점', '조직내 필요성_평균평점', '동반자 의식_평균평점', '직책수행능력', '조직내 필요성',\n",
        "       '동반자 의식', '승진적합 산출점수']\n",
        "categorical = ['직책', '성별', '입사경로', '학력', '거주지', '교육 이수여부', '전공'] \n",
        "fe_list = list(feature_importance.index)"
      ]
    },
    {
      "cell_type": "code",
      "execution_count": null,
      "metadata": {
        "id": "iOIttfS4aSh7"
      },
      "outputs": [],
      "source": [
        "cat_imp = []\n",
        "for name in categorical : \n",
        "  sum = 0\n",
        "  for i in range (len(fe_list)) : \n",
        "    if name in fe_list[i] :\n",
        "      sum += feature_importance[i]\n",
        "  cat_imp.append(sum)"
      ]
    },
    {
      "cell_type": "code",
      "execution_count": null,
      "metadata": {
        "id": "V-ppXav7dqRl"
      },
      "outputs": [],
      "source": [
        "cat_fe = pd.Series(cat_imp)\n",
        "cat_fe.index = categorical"
      ]
    },
    {
      "cell_type": "code",
      "execution_count": null,
      "metadata": {
        "id": "Zb0RNHkCezDu"
      },
      "outputs": [],
      "source": [
        "nu_fe = feature_importance[numerical]"
      ]
    },
    {
      "cell_type": "code",
      "execution_count": null,
      "metadata": {
        "id": "ljSXF84QfKXS"
      },
      "outputs": [],
      "source": [
        "result_fe = pd.concat([nu_fe, cat_fe])"
      ]
    },
    {
      "cell_type": "code",
      "execution_count": null,
      "metadata": {
        "id": "Oc3H4FZTvIp7"
      },
      "outputs": [],
      "source": [
        "# 수정 1130\n",
        "special = ['당년 역량평가등급', '조직비전_평균평점', '업적평가등급(1년전)', '당년 업적평가등급', '업적평가등급(2년전)', '조직내 필요성_평균평점', '동반자 의식_평균평점', '조직내 필요성',\n",
        "           '셀 참여횟수', '봉사활동 참여횟수', '역량평가등급(2년전)', '교육 이수여부', '역량평가등급(1년전)', '부하육성_평균평점', '리더십_평균평점', '직책수행능력_평균평점', '평균 교육점수', '관계관리_평균평점']\n",
        "\n",
        "for name in special : \n",
        "  result_fe[name] += result_fe['현 직급 근속기간(연)']*0.9 / 18\n",
        "\n",
        "result_fe['전공'] = result_fe['전공'] - 0.05\n",
        "result_fe['셀 참여횟수'] += 0.025\n",
        "result_fe['봉사활동 참여횟수'] += 0.025\n",
        "result_fe['현 직급 근속기간(연)'] = result_fe['현 직급 근속기간(연)'] * 0.1 \n",
        "\n",
        "result_fe['업적평가등급(1년전)'] += result_fe['연령']*0.5\n",
        "result_fe['조직비전_평균평점'] += result_fe['연령']*0.1 + result_fe['전공']*0.1\n",
        "result_fe['연령'] = result_fe['연령'] * 0.4\n",
        "result_fe['당년 업적평가등급'] += result_fe['당사근속기간(개월)']*0.5 + result_fe['직책']*0.5\n",
        "result_fe['당사근속기간(개월)'] = result_fe['당사근속기간(개월)']*0.5\n",
        "result_fe['직책'] = result_fe['직책']*0.5\n",
        "result_fe['역량평가등급(1년전)'] += result_fe['전공']*0.25\n",
        "result_fe['역량평가등급(2년전)'] += result_fe['전공']*0.25\n",
        "result_fe['전공'] = result_fe['전공']*0.4\n",
        "\n",
        "result_fe['승진적합 산출점수'] -= 0.04\n",
        "result_fe['수상횟수'] += 0.04\n",
        "###\n",
        "result_fe['징계횟수'] = result_fe['수상횟수']\n",
        "###"
      ]
    },
    {
      "cell_type": "code",
      "execution_count": null,
      "metadata": {
        "colab": {
          "base_uri": "https://localhost:8080/",
          "height": 901
        },
        "id": "VkbSVRpO1ISC",
        "outputId": "207764b1-008c-475d-f5cf-d2888a4b414c"
      },
      "outputs": [],
      "source": [
        "import seaborn as sns\n",
        "\n",
        "ft_importance = result_fe.sort_values(ascending=False)\n",
        "\n",
        "# 시각화\n",
        "plt.figure(figsize=(15,15))\n",
        "plt.rc('font', size=20)\n",
        "plt.title('Feature Importance')\n",
        "sns.barplot(x=ft_importance, y=ft_importance.index)\n",
        "plt.show()"
      ]
    },
    {
      "cell_type": "code",
      "execution_count": null,
      "metadata": {
        "id": "rKxa1kvpJ4aD"
      },
      "outputs": [],
      "source": [
        "fe_dict = result_fe.to_dict()"
      ]
    },
    {
      "cell_type": "code",
      "execution_count": null,
      "metadata": {
        "id": "oZG3UaMMiZri"
      },
      "outputs": [],
      "source": [
        "main_dict = {}\n",
        "main_dict['feature importance'] = fe_dict\n",
        "main_dict['trainset_size'] = len(X_train)\n",
        "main_dict['testset_size'] = len(X_test)\n",
        "main_dict['total_size'] = len(X_train)+len(X_test)\n",
        "main_dict['last_train_date'] = str(now)\n",
        "main_dict['prediction'] = dict()"
      ]
    },
    {
      "cell_type": "code",
      "execution_count": null,
      "metadata": {
        "id": "AQgz9yzBnK8a"
      },
      "outputs": [],
      "source": [
        "for cutoff in np.arange(.05, 1., .05) :\n",
        "  sum = 0\n",
        "  for k in pred_proba : \n",
        "    if k>= cutoff :\n",
        "      sum += 1\n",
        "  main_dict['prediction'][cutoff] = sum "
      ]
    },
    {
      "cell_type": "code",
      "execution_count": null,
      "metadata": {
        "id": "YUxZvzMroQVz"
      },
      "outputs": [],
      "source": [
        "main_dict['metrics'] = metrics_dict\n",
        "main_dict['algorithm others'] = opt_dict"
      ]
    },
    {
      "cell_type": "code",
      "execution_count": null,
      "metadata": {
        "id": "D2BIF46MqZp7"
      },
      "outputs": [],
      "source": [
        "# 변경\n",
        "missing_rate = {}\n",
        "feature_data = train[['직책', '성별', '연령', '당사근속기간(개월)', '외부경력(개월)', '총경력(개월)', '현 직급 근속기간(연)', '이직횟수',\n",
        "       '입사경로', '학력', '전공', '거주지', '셀 참여횟수', '봉사활동 참여횟수', '직무관련자격증', '수상횟수', '평균 교육점수',\n",
        "       '교육 이수여부', '당년 역량평가등급', '당년 업적평가등급', '역량평가등급(1년전)', '역량평가등급(2년전)', '업적평가등급(1년전)', '업적평가등급(2년전)', '전문성_평균평점', '리더십_평균평점', '부하육성_평균평점', '관계관리_평균평점', '조직비전_평균평점',\n",
        "       '직책수행능력_평균평점', '조직내 필요성_평균평점', '동반자 의식_평균평점', '직책수행능력', '조직내 필요성',\n",
        "       '동반자 의식']]  # column 명칭 수정\n",
        "\n",
        "for name in feature_data.columns.tolist() : \n",
        "  cnt = 0\n",
        "  for i in range(len(feature_data)) : \n",
        "    if feature_data[name].isnull()[i] == True : \n",
        "      cnt+=1\n",
        "    elif feature_data[name][i]=='미입사' : \n",
        "      cnt+=1\n",
        "    elif feature_data[name][i]=='미평가' : \n",
        "      cnt+=1\n",
        "  missing_rate[name] = cnt/len(feature_data)"
      ]
    },
    {
      "cell_type": "code",
      "execution_count": null,
      "metadata": {
        "id": "XFDipdHn6hGD"
      },
      "outputs": [],
      "source": [
        "missing_rate_cnt = {}\n",
        "for name in feature_data.columns.tolist() : \n",
        "  cnt = 0\n",
        "  for i in range(len(feature_data)) : \n",
        "    if feature_data[name].isnull()[i] == True : \n",
        "      cnt+=1\n",
        "    elif feature_data[name][i]=='미입사' : \n",
        "      cnt+=1\n",
        "    elif feature_data[name][i]=='미평가' : \n",
        "      cnt+=1\n",
        "  missing_rate_cnt[name] = cnt\n",
        "\n",
        "missing_rate_cnt['all'] = len(feature_data)       "
      ]
    },
    {
      "cell_type": "code",
      "execution_count": null,
      "metadata": {
        "colab": {
          "base_uri": "https://localhost:8080/"
        },
        "id": "GWqlx_ifqfRy",
        "outputId": "5b99d265-84d3-4af2-c4d1-74ddeccea086"
      },
      "outputs": [],
      "source": [
        "main_dict"
      ]
    },
    {
      "cell_type": "code",
      "execution_count": null,
      "metadata": {
        "id": "zQJWhvexoD60"
      },
      "outputs": [],
      "source": [
        "json_file = json.dumps(main_dict)"
      ]
    },
    {
      "cell_type": "code",
      "execution_count": null,
      "metadata": {
        "id": "uPfrahiFppb7"
      },
      "outputs": [],
      "source": [
        "file_path = '/content/drive/My Drive/Colab Notebooks/NH농협캐피탈/승진적합_v2/승진적합_다면평가.json'"
      ]
    },
    {
      "cell_type": "code",
      "execution_count": null,
      "metadata": {
        "id": "mZo8q2jgpgyt"
      },
      "outputs": [],
      "source": [
        "with open(file_path, 'w', encoding='utf-8-sig') as file:\n",
        "    file.write(json.dumps(main_dict, ensure_ascii=False))"
      ]
    },
    {
      "cell_type": "code",
      "execution_count": null,
      "metadata": {
        "id": "y4AflsQdd6bT"
      },
      "outputs": [],
      "source": [
        "file_path_2 = '/content/drive/My Drive/Colab Notebooks/NH농협캐피탈/output/missing_rate_승진적합(다면평가).json'"
      ]
    },
    {
      "cell_type": "code",
      "execution_count": null,
      "metadata": {
        "id": "VcX8a2e_d6bU"
      },
      "outputs": [],
      "source": [
        "with open(file_path_2, 'w', encoding='utf-8') as file:\n",
        "    file.write(json.dumps(missing_rate_cnt, ensure_ascii=False))"
      ]
    },
    {
      "cell_type": "markdown",
      "metadata": {
        "id": "dV_h_zzJhpE-"
      },
      "source": [
        "Inference"
      ]
    },
    {
      "cell_type": "code",
      "execution_count": null,
      "metadata": {
        "id": "0hsqORJKgOAd"
      },
      "outputs": [],
      "source": [
        "# 수정 1114\n",
        "inf_x = pd.get_dummies(inf_data.drop(['사번', '승진대상 후보여부'], axis=1), columns=['직책', '성별', '입사경로', '학력', '거주지', '교육 이수여부', '전공'], drop_first=True)\n",
        "inf_x['직책_팀원'] = 0\n",
        "inf_x['거주지_대구'] = 0\n",
        "inf_x['거주지_대전'] = 0\n",
        "inf_x['교육 이수여부_Yes'] = (inf_x['교육 이수여부_미신청'] != 1).replace({False : 0, True : 1}) \n",
        "inf_x = inf_x[X_train.columns]\n",
        "inf_x = inf_x.astype('float')"
      ]
    },
    {
      "cell_type": "code",
      "execution_count": null,
      "metadata": {
        "id": "PR4QYasqhLaq"
      },
      "outputs": [],
      "source": [
        "pred = end_model.predict(inf_x)\n",
        "inf_proba = end_model.predict_proba(inf_x)[:,1]"
      ]
    },
    {
      "cell_type": "code",
      "execution_count": null,
      "metadata": {
        "id": "09VWboAnsbmh"
      },
      "outputs": [],
      "source": [
        "result = pd.DataFrame(columns=['승진여부'])\n",
        "result['승진여부'] = pred\n",
        "result['predict_proba'] = inf_proba"
      ]
    },
    {
      "cell_type": "code",
      "execution_count": null,
      "metadata": {
        "id": "a941VOUbuqn9"
      },
      "outputs": [],
      "source": [
        "result['승진여부'] = result['승진여부'].replace(0, '유지')\n",
        "result['승진여부'] = result['승진여부'].replace(1, '승진')"
      ]
    },
    {
      "cell_type": "code",
      "execution_count": null,
      "metadata": {
        "id": "2kSkLvIpOsqW"
      },
      "outputs": [],
      "source": [
        "final_result = pd.concat([inf_data, result], axis=1)"
      ]
    },
    {
      "cell_type": "code",
      "execution_count": null,
      "metadata": {
        "colab": {
          "base_uri": "https://localhost:8080/"
        },
        "id": "FnDa48AC-qrA",
        "outputId": "bea639e6-a361-443e-c75e-0b91870a42ab"
      },
      "outputs": [],
      "source": [
        "# 수정 1124\n",
        "\n",
        "for i in range(len(final_result)) : \n",
        "  if final_result['predict_proba'][i] < 0.5 : \n",
        "    if (final_result['셀 참여횟수'][i]!=0 and final_result['봉사활동 참여횟수'][i]!=0) : \n",
        "      final_result['predict_proba'][i] = final_result['predict_proba'][i] + final_result['셀 참여횟수'][i]*0.08 + final_result['봉사활동 참여횟수'][i]*0.08+0.05\n",
        "    else : \n",
        "      final_result['predict_proba'][i] = final_result['predict_proba'][i] + final_result['셀 참여횟수'][i]*0.08 + final_result['봉사활동 참여횟수'][i]*0.08\n",
        "\n",
        "for i in range(len(final_result)) :\n",
        "  if (final_result['predict_proba'][i] + final_result['수상횟수'][i]*0.04) < 1 : \n",
        "    final_result['predict_proba'][i] = final_result['predict_proba'][i] + final_result['수상횟수'][i]*0.04\n",
        "\n",
        "punish_list = ['B1210011', 'B1110035', 'B1110036', 'B1110058', 'B1110077', 'B1510023', 'B1510062', 'B1210021', 'B1210076']\n",
        "punish_data = []\n",
        "for i in range(len(final_result)) : \n",
        "  if final_result['사번'][i] in punish_list : \n",
        "    punish_data.append(1)\n",
        "  elif final_result['사번'][i] == 'B1310064' : \n",
        "    punish_data.append(2)\n",
        "  else : \n",
        "    punish_data.append(0)\n",
        "\n",
        "for i in range(len(final_result)) :\n",
        "  if (final_result['predict_proba'][i] - punish_data[i]*0.04) > 0 : \n",
        "    final_result['predict_proba'][i] = final_result['predict_proba'][i] - punish_data[i]*0.04\n",
        "\n",
        "for i in range(len(final_result)) : \n",
        "  if final_result['predict_proba'][i] >=0.5 : \n",
        "    final_result['승진여부'][i] = '승진'"
      ]
    },
    {
      "cell_type": "code",
      "execution_count": null,
      "metadata": {
        "id": "tcWKTHASBLpi"
      },
      "outputs": [],
      "source": [
        "private_feature = ['성명', '연락처', '이메일', '생년월일', '본부', '실', '팀', '직무', '직급']\n",
        "for name in private_feature : \n",
        "  final_result = final_result.join(data_2022.set_index('사번')[name], on='사번')"
      ]
    },
    {
      "cell_type": "code",
      "execution_count": null,
      "metadata": {
        "id": "kxEGrtrOBj7h"
      },
      "outputs": [],
      "source": [
        "# 변경\n",
        "final_result = final_result[['사번', '성명', '연락처', '이메일', '생년월일', '본부', '실', '팀', '직무', '직급', '직책', '성별', '연령', '당사근속기간(개월)', '외부경력(개월)', '총경력(개월)', '현 직급 근속기간(연)', '이직횟수',\n",
        "       '입사경로', '학력', '전공', '거주지', '셀 참여횟수', '봉사활동 참여횟수', '직무관련자격증', '수상횟수', '평균 교육점수',\n",
        "       '교육 이수여부', '당년 역량평가등급', '당년 업적평가등급', '역량평가등급(1년전)', '역량평가등급(2년전)', '업적평가등급(1년전)', '업적평가등급(2년전)', '전문성_평균평점', '리더십_평균평점', '부하육성_평균평점', '관계관리_평균평점', '조직비전_평균평점',\n",
        "       '직책수행능력_평균평점', '조직내 필요성_평균평점', '동반자 의식_평균평점', '직책수행능력', '조직내 필요성',\n",
        "       '동반자 의식', '승진적합 산출점수', '승진여부', 'predict_proba']]  # column 명칭 수정"
      ]
    },
    {
      "cell_type": "code",
      "execution_count": null,
      "metadata": {
        "id": "OIVeFwBmX2Bu"
      },
      "outputs": [],
      "source": [
        "# 추가 3년치 평가등급 보여주기\n",
        "final_result[['평균 교육점수', '당년 역량평가등급', '당년 업적평가등급', '역량평가등급(1년전)', '역량평가등급(2년전)', '업적평가등급(1년전)', '업적평가등급(2년전)']] = data_2022[['평균 교육점수', '당년 역량평가등급', '당년 업적평가등급', '역량평가등급(1년전)', '역량평가등급(2년전)', '업적평가등급(1년전)', '업적평가등급(2년전)']]"
      ]
    },
    {
      "cell_type": "code",
      "execution_count": null,
      "metadata": {
        "id": "_ehAjIOXTavq"
      },
      "outputs": [],
      "source": [
        "shap_values_inf = explainer.shap_values(inf_x) "
      ]
    },
    {
      "cell_type": "code",
      "execution_count": null,
      "metadata": {
        "id": "-NAEFJn6l4T7"
      },
      "outputs": [],
      "source": [
        "pos_max = shap_values_inf.max(axis=0)\n",
        "neg_max = shap_values_inf.min(axis=0)\n",
        "new_list = []\n",
        "for row in shap_values_inf:\n",
        "  temp = []\n",
        "  for ele, pos, neg in zip(row, pos_max, neg_max):\n",
        "    if ele >= 0:\n",
        "      if pos == 0: \n",
        "        temp.append(0)\n",
        "      else:\n",
        "        temp.append(ele/pos)\n",
        "    else:\n",
        "      if neg == 0:\n",
        "        temp.append(0)\n",
        "      else:\n",
        "        temp.append(-ele/neg)\n",
        "  new_list.append(temp)\n",
        "\n",
        "feature_weight = pd.DataFrame(new_list, index = pd.RangeIndex(len(shap_values_inf)), columns = X_test.columns)\n",
        "feature_weight = feature_weight.fillna(0)"
      ]
    },
    {
      "cell_type": "code",
      "execution_count": null,
      "metadata": {
        "id": "Tfb2hOt72o7N"
      },
      "outputs": [],
      "source": [
        "categorical_feature = ['직책', '성별', '입사경로', '학력', '거주지', '교육 이수여부', '전공']\n",
        "cate_main = []\n",
        "\n",
        "for i in range(len(feature_weight)) :\n",
        "  temp_1 = []\n",
        "  for name in categorical_feature : \n",
        "    temp_2 = []\n",
        "    for j in range (len(feature_weight.columns.tolist())) : \n",
        "      if name in feature_weight.columns.tolist()[j] : \n",
        "        real_name = feature_weight.columns.tolist()[j]\n",
        "        temp_2.append(feature_weight[real_name][i])\n",
        "    data_sum = np.sum(temp_2)\n",
        "    temp_1.append(data_sum)\n",
        "  cate_main.append(temp_1)"
      ]
    },
    {
      "cell_type": "code",
      "execution_count": null,
      "metadata": {
        "id": "Yt8OaM8q-vbd"
      },
      "outputs": [],
      "source": [
        "ttt = pd.DataFrame(cate_main, columns=categorical_feature)\n",
        "\n",
        "feature_weight.drop(['직책_실장', '직책_지점장', '직책_팀원', '직책_팀장', '성별_여자',\n",
        "       '학력_대졸', '학력_대학원졸', '학력_전졸', '거주지_광주', '거주지_대구', '거주지_대전', '거주지_부산',\n",
        "       '거주지_서울', '거주지_인천', '교육 이수여부_Yes', '교육 이수여부_미신청', '전공_공학계열', '전공_사회계열',\n",
        "       '전공_자연계열'], axis=1, inplace=True)\n",
        "feature_weight = pd.concat([feature_weight, ttt], axis=1)"
      ]
    },
    {
      "cell_type": "code",
      "execution_count": null,
      "metadata": {
        "id": "gTM7YFnkLwzH"
      },
      "outputs": [],
      "source": [
        "mm = MinMaxScaler(feature_range=(-1, 1))"
      ]
    },
    {
      "cell_type": "code",
      "execution_count": null,
      "metadata": {
        "colab": {
          "base_uri": "https://localhost:8080/"
        },
        "id": "vFrZrIWDKDxc",
        "outputId": "8eff48ba-d28e-4bbf-f5f7-ad8b8eeec325"
      },
      "outputs": [],
      "source": [
        "for i in range (len(feature_weight.max())) : \n",
        "  if feature_weight.max()[i] > 1 : \n",
        "    feature_name = feature_weight.max().index[i]\n",
        "    scaling = mm.fit_transform(feature_weight[feature_name].values.reshape(-1,1))\n",
        "    for j in range (len(feature_weight)) : \n",
        "      feature_weight[feature_name][j] = scaling[j][0]\n",
        "\n",
        "for i in range (len(feature_weight.min())) : \n",
        "  if feature_weight.min()[i] < -1 : \n",
        "    feature_name = feature_weight.min().index[i]\n",
        "    scaling = mm.fit_transform(feature_weight[feature_name].values.reshape(-1,1))\n",
        "    for j in range (len(feature_weight)) : \n",
        "      feature_weight[feature_name][j] = scaling[j][0]"
      ]
    },
    {
      "cell_type": "code",
      "execution_count": null,
      "metadata": {
        "id": "lcirhw60LvSp"
      },
      "outputs": [],
      "source": [
        "feature_weight.insert(0, '사번', inf_data['사번'].tolist())"
      ]
    },
    {
      "cell_type": "code",
      "execution_count": null,
      "metadata": {
        "id": "1Vlat51JGpJd"
      },
      "outputs": [],
      "source": [
        "# 정성요인 가중치 로직으로 아직 대표님 검토 중\n",
        "feature_weight['셀 참여횟수'] = final_result['셀 참여횟수']*0.1\n",
        "feature_weight['봉사활동 참여횟수'] = final_result['봉사활동 참여횟수']*0.1\n",
        "feature_weight['현 직급 근속기간(연)'] = feature_weight['현 직급 근속기간(연)']*0.1\n",
        "feature_weight['전공'] = feature_weight['전공']*0.4"
      ]
    },
    {
      "cell_type": "code",
      "execution_count": null,
      "metadata": {
        "id": "kYnkaaIqNSSH"
      },
      "outputs": [],
      "source": [
        "feature_weight.to_csv('/content/drive/My Drive/Colab Notebooks/NH농협캐피탈/승진적합_v2/feature_weight_승진적합_다면평가.csv', encoding='utf-8-sig', index=False)"
      ]
    },
    {
      "cell_type": "code",
      "execution_count": null,
      "metadata": {
        "id": "34HzzXveQFp3"
      },
      "outputs": [],
      "source": [
        "# 수정 1116\n",
        "attrition = ['정희진', '박영민', '강도이', '박상완']\n",
        "attrition_idx = []\n",
        "for i in range(len(final_result)) : \n",
        " if final_result['성명'][i] in attrition : \n",
        "   attrition_idx.append(i)\n",
        "\n",
        "final_result.drop(attrition_idx, inplace=True)"
      ]
    },
    {
      "cell_type": "code",
      "execution_count": null,
      "metadata": {
        "id": "K2s9SBIs-3HU"
      },
      "outputs": [],
      "source": [
        "# 수정 1111\n",
        "final_result.drop(final_result.loc[final_result['직급']=='부장'][final_result.loc[final_result['직급']=='부장']['현 직급 근속기간(연)']<3].index.tolist(), inplace=True)"
      ]
    },
    {
      "cell_type": "code",
      "execution_count": null,
      "metadata": {
        "id": "1Z1ZoFxXb92i"
      },
      "outputs": [],
      "source": [
        "# 수정 1110\n",
        "final_result.drop(final_result.loc[final_result['직급']=='이사대우'].index.tolist(), inplace=True)\n",
        "final_result.drop(final_result.loc[final_result['직급']=='기획역'].index.tolist(), inplace=True)"
      ]
    },
    {
      "cell_type": "code",
      "execution_count": null,
      "metadata": {
        "id": "NcwKFatN9kU_"
      },
      "outputs": [],
      "source": [
        "# 수정 1107\n",
        "final_result.replace({'직급' : ['업무지원역', '기획역']}, '기타', inplace=True)"
      ]
    },
    {
      "cell_type": "code",
      "execution_count": null,
      "metadata": {
        "id": "6z9FANmX21UT"
      },
      "outputs": [],
      "source": [
        "final_result\n",
        "final_result.to_csv('/content/drive/My Drive/Colab Notebooks/NH농협캐피탈/승진적합_v2/output_승진적합_다면평가.csv', encoding='utf-8-sig', index=False)"
      ]
    },
    {
      "cell_type": "code",
      "execution_count": null,
      "metadata": {
        "colab": {
          "base_uri": "https://localhost:8080/"
        },
        "id": "rh7keEnFIU2m",
        "outputId": "c1849624-6d90-4b68-e0f6-cc29eacb4ef9"
      },
      "outputs": [],
      "source": [
        "qwer = final_result.copy()\n",
        "qqqq = qwer[numerical]\n",
        "qqqq['predict_proba'] = qwer['predict_proba']\n",
        "qqqq = qqqq.reset_index(drop=True)"
      ]
    },
    {
      "cell_type": "code",
      "execution_count": null,
      "metadata": {
        "colab": {
          "base_uri": "https://localhost:8080/"
        },
        "id": "M95sffpnKHE8",
        "outputId": "70deec36-3b94-4004-f097-f16d317ff298"
      },
      "outputs": [],
      "source": [
        "grade_list = ['당년 역량평가등급', '당년 업적평가등급', '역량평가등급(1년전)', '역량평가등급(2년전)', '업적평가등급(1년전)', '업적평가등급(2년전)']\n",
        "\n",
        "for column in grade_list : \n",
        "  for i in range(len(qqqq)) : \n",
        "    if qqqq[column][i] == 'S' :\n",
        "      qqqq[column][i] = 5\n",
        "    elif qqqq[column][i] == 'A' :\n",
        "      qqqq[column][i] = 4\n",
        "    elif qqqq[column][i] == 'B' :\n",
        "      qqqq[column][i] = 3\n",
        "    elif qqqq[column][i] == 'C' :\n",
        "      qqqq[column][i] = 2\n",
        "    elif qqqq[column][i] == 'D' :\n",
        "      qqqq[column][i] = 1\n",
        "    else : \n",
        "      qqqq[column][i] = 0"
      ]
    },
    {
      "cell_type": "code",
      "execution_count": null,
      "metadata": {
        "id": "nFciFroKMCu6"
      },
      "outputs": [],
      "source": [
        "qqqq.replace('미신청', 0, inplace=True)\n",
        "qqqq.replace('미입사', 0, inplace=True)"
      ]
    },
    {
      "cell_type": "code",
      "execution_count": null,
      "metadata": {
        "id": "vEed9q1WL4HO"
      },
      "outputs": [],
      "source": [
        "qqqq = qqqq.astype('float')"
      ]
    },
    {
      "cell_type": "code",
      "execution_count": null,
      "metadata": {
        "id": "NhFbfXKgOCfL"
      },
      "outputs": [],
      "source": [
        "ffff= qqqq.corr(method='pearson')"
      ]
    },
    {
      "cell_type": "code",
      "execution_count": null,
      "metadata": {
        "colab": {
          "base_uri": "https://localhost:8080/",
          "height": 990
        },
        "id": "fZJYjRNcNGZN",
        "outputId": "cde77cc3-5710-4e24-a04a-a7ad8146e5f4"
      },
      "outputs": [],
      "source": [
        "df = pd.DataFrame(ffff['predict_proba'].sort_values(ascending=False), columns=['predict_proba'])\n",
        "df.style.background_gradient(cmap='viridis')"
      ]
    }
  ],
  "metadata": {
    "colab": {
      "provenance": []
    },
    "kernelspec": {
      "display_name": "Python 3",
      "name": "python3"
    },
    "language_info": {
      "name": "python"
    }
  },
  "nbformat": 4,
  "nbformat_minor": 0
}
