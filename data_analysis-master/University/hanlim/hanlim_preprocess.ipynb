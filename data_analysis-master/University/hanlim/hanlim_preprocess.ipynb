{
  "nbformat": 4,
  "nbformat_minor": 0,
  "metadata": {
    "colab": {
      "provenance": []
    },
    "kernelspec": {
      "name": "python3",
      "display_name": "Python 3"
    },
    "language_info": {
      "name": "python"
    }
  },
  "cells": [
    {
      "cell_type": "code",
      "execution_count": null,
      "metadata": {
        "id": "A5bZFSUiIVIQ"
      },
      "outputs": [],
      "source": [
        "!pip install geopy"
      ]
    },
    {
      "cell_type": "code",
      "source": [
        "!pip install haversine"
      ],
      "metadata": {
        "id": "2WRGpEUdIabN"
      },
      "execution_count": null,
      "outputs": []
    },
    {
      "cell_type": "code",
      "source": [
        "# 0206 수정\n",
        "import pandas as pd\n",
        "import numpy as np\n",
        "from tqdm import tqdm\n",
        "from geopy.geocoders import Nominatim\n",
        "from haversine import haversine\n",
        "import joblib"
      ],
      "metadata": {
        "id": "JheMocxbIdWU"
      },
      "execution_count": null,
      "outputs": []
    },
    {
      "cell_type": "code",
      "source": [
        "census = pd.read_csv('/ml/algorithmlabs.csv/crawldata/20230126/HUIS.JUNGDO_CENSUS.csv')\n",
        "edu = pd.read_csv('/ml/algorithmlabs.csv/crawldata/20230126/HUIS.JUNGDO_EDU.csv')\n",
        "hakj = pd.read_csv('/ml/algorithmlabs.csv/crawldata/20230126/HUIS.JUNGDO_HAKJ.csv')\n",
        "ipsi = pd.read_csv('/ml/algorithmlabs.csv/crawldata/20230126/HUIS.JUNGDO_IPSI.csv')\n",
        "name = pd.read_csv('/ml/temp/feature_korean_name.csv')"
      ],
      "metadata": {
        "id": "zI5pY7KKIs74"
      },
      "execution_count": null,
      "outputs": []
    },
    {
      "cell_type": "code",
      "source": [
        "# 0206 추가\n",
        "geo_local = Nominatim(user_agent='South Korea')\n",
        "\n",
        "def geocoding(address):\n",
        "    try:\n",
        "        geo = geo_local.geocode(address)\n",
        "        x_y = [geo.latitude, geo.longitude]\n",
        "        return x_y\n",
        "\n",
        "    except:\n",
        "        return [0,0]"
      ],
      "metadata": {
        "id": "lByB_zXNItyq"
      },
      "execution_count": null,
      "outputs": []
    },
    {
      "cell_type": "code",
      "source": [
        "# 0206 추가\n",
        "lat = []\n",
        "long = []\n",
        "for i in range(ipsi['IPSI_SCHOOL_ADR'].nunique()) : \n",
        "    place = geocoding(ipsi['IPSI_SCHOOL_ADR'].unique().tolist()[i])\n",
        "    lat.append(place[0])\n",
        "    long.append(place[1])"
      ],
      "metadata": {
        "id": "6bqsFg33Iuuw"
      },
      "execution_count": null,
      "outputs": []
    },
    {
      "cell_type": "code",
      "source": [
        "# 0206 추가\n",
        "distance = []\n",
        "for i in range(ipsi['IPSI_SCHOOL_ADR'].nunique()):\n",
        "    start =(float(lat[i]), float(long[i]))\n",
        "    goal = (float(geocoding('강원 춘천시')[0]), float(geocoding('강원 춘천시')[1]))\n",
        "    distance.append(haversine(start, goal))"
      ],
      "metadata": {
        "id": "iL4t9fKcIvkB"
      },
      "execution_count": null,
      "outputs": []
    },
    {
      "cell_type": "code",
      "source": [
        "# 0206 추가\n",
        "place = ipsi['IPSI_SCHOOL_ADR'].unique().tolist()\n",
        "diff_distance = []\n",
        "for i in range(len(ipsi)) : \n",
        "    diff_distance.append(distance[place.index(ipsi['IPSI_SCHOOL_ADR'][i])])\n",
        "\n",
        "ipsi['DIFF_DISTANCE'] = diff_distance"
      ],
      "metadata": {
        "id": "qgiuMNzrIwRH"
      },
      "execution_count": null,
      "outputs": []
    },
    {
      "cell_type": "code",
      "source": [
        "temp_data = hakj.sort_values(by=['HAKJ_HAKBUN', 'YYHAKGI'], ascending=[True, True])\n",
        "temp_data = temp_data.reset_index(drop=True)"
      ],
      "metadata": {
        "id": "r8z9SjqYIxH7"
      },
      "execution_count": null,
      "outputs": []
    },
    {
      "cell_type": "code",
      "source": [
        "HUHAK_list = ['입대휴학', '일반휴학', '휴학', '창업휴학', '육아휴학']\n",
        "cnt = 0 \n",
        "seq_list = [0]\n",
        "\n",
        "for i in range(1, len(temp_data)) : \n",
        "    if temp_data['HAKJ_HAKBUN'][i] == temp_data['HAKJ_HAKBUN'][i-1] : \n",
        "        if temp_data['BD_GBN_NAME'][i] in HUHAK_list : \n",
        "            cnt += 1\n",
        "            seq_list.append(cnt)\n",
        "        else : \n",
        "            cnt = 0\n",
        "            seq_list.append(cnt)\n",
        "    else : \n",
        "        cnt = 0\n",
        "        if temp_data['BD_GBN_NAME'][i] in HUHAK_list : \n",
        "            cnt += 1\n",
        "            seq_list.append(cnt)\n",
        "        else : \n",
        "            seq_list.append(cnt)"
      ],
      "metadata": {
        "id": "0l6k9bSBI2Lc"
      },
      "execution_count": null,
      "outputs": []
    },
    {
      "cell_type": "code",
      "source": [
        "temp_data['seq'] = seq_list\n",
        "# 시점에 따른 Labeling 작업 진행\n",
        "semester_list = temp_data['YYHAKGI'].unique().tolist()\n",
        "dropout_list = []\n",
        "seq_drop_list = []\n",
        "# temp_list = [] \n",
        "\n",
        "for i in range(len(temp_data)) : \n",
        "    if temp_data['YYHAKGI'][i] != 20222 : \n",
        "        next_semester = semester_list[semester_list.index(temp_data['YYHAKGI'][i])+1]\n",
        "        temp_frame = temp_data.loc[(temp_data['YYHAKGI']==next_semester) & (temp_data['HAKJ_HAKBUN'] == temp_data['HAKJ_HAKBUN'][i])].reset_index(drop=True)\n",
        "        if len(temp_frame) == 0 : \n",
        "            dropout_list.append(\"NoData\")\n",
        "            seq_drop_list.append(\"NOData\")\n",
        "        else : \n",
        "            dropout_list.append(temp_frame['BD_GBN_NAME'][0])\n",
        "            seq_drop_list.append(temp_frame['seq'][0])\n",
        "    else : \n",
        "        dropout_list.append(\"NoData\")\n",
        "        seq_drop_list.append(\"NoData\")"
      ],
      "metadata": {
        "id": "pJW_LgbRI2-6"
      },
      "execution_count": null,
      "outputs": []
    },
    {
      "cell_type": "code",
      "source": [
        "temp_data['HAKJ'] = dropout_list\n",
        "temp_data['seq_la'] = seq_drop_list"
      ],
      "metadata": {
        "id": "w_xs7m5dI4Fc"
      },
      "execution_count": null,
      "outputs": []
    },
    {
      "cell_type": "code",
      "source": [
        "# 0206 수정\n",
        "raw_data = temp_data.copy()\n",
        "ipsi_list = []\n",
        "none_list = []\n",
        "for i in range(len(ipsi.columns)) : \n",
        "    none_list.append(\"NoData\")\n",
        "\n",
        "for i in range(len(raw_data)) : \n",
        "    if raw_data['HAKJ_HAKBUN'][i] in ipsi['IPSI_HAKSA_HAKBUN'].unique().tolist() : \n",
        "        ipsi_list.append(ipsi.loc[ipsi['IPSI_HAKSA_HAKBUN'] == raw_data['HAKJ_HAKBUN'][i]].reset_index(drop=True).values[0].tolist())\n",
        "    else : \n",
        "        ipsi_list.append(none_list)"
      ],
      "metadata": {
        "id": "JJbPlkKII5E6"
      },
      "execution_count": null,
      "outputs": []
    },
    {
      "cell_type": "code",
      "source": [
        "# 0208 수정\n",
        "raw_data[ipsi.columns.tolist()] = ipsi_list\n",
        "en_data = raw_data.loc[raw_data['IPSI_PAN_NAME']!='NoData'].reset_index(drop=True)\n",
        "en_data.drop(['IPSI_HAKSA_HAKBUN', 'IPSI_YEAR', 'IPSI_JUMIN_NO', 'IPSI_SEX', 'HJBD_ILJA'], axis=1, inplace=True)"
      ],
      "metadata": {
        "id": "utPni13oI5wE"
      },
      "execution_count": null,
      "outputs": []
    },
    {
      "cell_type": "code",
      "source": [
        "jumin_list = [] \n",
        "\n",
        "for i in range(len(en_data)) : \n",
        "    if len(str(en_data['HAKJ_JUMIN_NO'][i])) == 6 : \n",
        "        year = '19' + str(en_data['HAKJ_JUMIN_NO'][i])\n",
        "        jumin_list.append(int(year))\n",
        "    elif len(str(en_data['HAKJ_JUMIN_NO'][i])) == 5 : \n",
        "        year = '200' + str(en_data['HAKJ_JUMIN_NO'][i])\n",
        "        jumin_list.append(int(year))\n",
        "    elif len(str(en_data['HAKJ_JUMIN_NO'][i])) == 4 : \n",
        "        year = '2000' + str(en_data['HAKJ_JUMIN_NO'][i])\n",
        "        jumin_list.append(int(year)) \n",
        "    elif len(str(en_data['HAKJ_JUMIN_NO'][i])) == 3 : \n",
        "        year = '20000' + str(en_data['HAKJ_JUMIN_NO'][i])\n",
        "        jumin_list.append(int(year)) "
      ],
      "metadata": {
        "id": "tYWBqVLrI51x"
      },
      "execution_count": null,
      "outputs": []
    },
    {
      "cell_type": "code",
      "source": [
        "en_data['HAKJ_JUMIN_NO'] = jumin_list\n",
        "en_data.drop(index=en_data[en_data['HAKJ']=='사망'].index, inplace=True)\n",
        "en_data = en_data.reset_index(drop=True)"
      ],
      "metadata": {
        "id": "0Qql56n4I9RF"
      },
      "execution_count": null,
      "outputs": []
    },
    {
      "cell_type": "code",
      "source": [
        "label_list = []\n",
        "\n",
        "for i in range(len(en_data)) : \n",
        "    if en_data['HAKJ'][i] in ['재학', '복학', '수료', '유급'] : \n",
        "        label_list.append(0)\n",
        "    elif en_data['HAKJ'][i] in ['미복학제적', '자퇴', '미등록제적', '학사제적'] : \n",
        "        label_list.append(1)\n",
        "    elif en_data['HAKJ'][i] == '입대휴학' : \n",
        "        if en_data['seq_la'][i] > 4 : #column명 수정\n",
        "            label_list.append(1)\n",
        "        else : \n",
        "            label_list.append(0)\n",
        "    elif en_data['HAKJ'][i] in ['일반휴학', '창업휴학', '육아휴학'] : \n",
        "        if en_data['seq_la'][i] > 2 : #column명 수정\n",
        "            label_list.append(1)\n",
        "        else : label_list.append(0)\n",
        "    else : \n",
        "        label_list.append(\"NoData\")\n",
        "        \n",
        "en_data['LABEL'] = label_list"
      ],
      "metadata": {
        "id": "kGcnzbU5I9Tu"
      },
      "execution_count": null,
      "outputs": []
    },
    {
      "cell_type": "code",
      "source": [
        "en_data = en_data[en_data.YYHAKGI > 20202]\n",
        "en_data = en_data.reset_index(drop=True)"
      ],
      "metadata": {
        "id": "1rrMm29sI9Wc"
      },
      "execution_count": null,
      "outputs": []
    },
    {
      "cell_type": "code",
      "source": [
        "BS_CNT_list = []\n",
        "\n",
        "for i in range(len(en_data)) : \n",
        "    sum_cnt = 0\n",
        "    if en_data['HAKJ_BUJ_CODE'][i] != 0 :\n",
        "        sum_cnt += 1\n",
        "    if en_data['HAKJ_BS1_CODE'][i] != 0 : \n",
        "        sum_cnt += 1\n",
        "    if en_data['HAKJ_BS2_CODE'][i] != 0 :\n",
        "        sum_cnt += 1\n",
        "    if en_data['HAKJ_MACHUMJ_CODE'][i] != 0 : \n",
        "        sum_cnt += 1\n",
        "    BS_CNT_list.append(sum_cnt)\n",
        "    \n",
        "en_data['BS_CNT'] = BS_CNT_list"
      ],
      "metadata": {
        "id": "EEZG0uv5I9ZB"
      },
      "execution_count": null,
      "outputs": []
    },
    {
      "cell_type": "code",
      "source": [
        "for i in range(len(en_data)) : \n",
        "    if en_data['IPSI_JANG_NAME'][i] == 0 : \n",
        "        en_data['IPSI_JANG_NAME'][i] = 0\n",
        "    else : \n",
        "        en_data['IPSI_JANG_NAME'][i] = 1\n",
        "        \n",
        "en_data['IPSI_JANG_NAME'] = en_data['IPSI_JANG_NAME'].astype('int64')        "
      ],
      "metadata": {
        "id": "NObCnV6eI9bb"
      },
      "execution_count": null,
      "outputs": []
    },
    {
      "cell_type": "code",
      "source": [
        "huhak_list = []\n",
        "for i in range(len(en_data)) : \n",
        "    if 1 in en_data[['H1', 'H2', 'H3', 'H4', 'H5', 'H6']].values[i] : \n",
        "        huhak_list.append(1)\n",
        "    else : \n",
        "        huhak_list.append(0)\n",
        "        \n",
        "en_data['HUHAK_YN'] = huhak_list"
      ],
      "metadata": {
        "id": "SVl4Eq1jJAzF"
      },
      "execution_count": null,
      "outputs": []
    },
    {
      "cell_type": "code",
      "source": [
        "en_data['IPSI_REPEAT'] = en_data['HAKJ_IPHAK_YY'] - en_data['IPSI_SCHOOL_DATE']"
      ],
      "metadata": {
        "id": "KXmrOFQ9JBmB"
      },
      "execution_count": null,
      "outputs": []
    },
    {
      "cell_type": "code",
      "source": [
        "en_data.drop(['seq', 'seq_la', 'HAKJ', 'IPSI_HOPE_NAME', 'IPSI_DEPT_NAME', 'IPSI_SCHOOL_HAKGWA_NAME', \n",
        "              'H1', 'H2', 'H3', 'H4', 'H5', 'H6'], axis=1, inplace=True)"
      ],
      "metadata": {
        "id": "CCOpav_iJBoh"
      },
      "execution_count": null,
      "outputs": []
    },
    {
      "cell_type": "code",
      "source": [
        "en_data[['HAKJ_BUJ_CODE', 'HAKJ_BS1_CODE', 'HAKJ_BS2_CODE', 'HAKJ_MACHUMJ_CODE']] = en_data[['HAKJ_BUJ_CODE', 'HAKJ_BS1_CODE', 'HAKJ_BS2_CODE', 'HAKJ_MACHUMJ_CODE']].fillna(0)\n",
        "en_data[['DAEHAK_NAME', 'HAKGWA_NAME', 'JUNGONG_NAME', 'BUJ_NAME', 'BS1_NAME', 'BS2_NAME', 'BS3_NAME']] = en_data[['DAEHAK_NAME', 'HAKGWA_NAME', 'JUNGONG_NAME', 'BUJ_NAME', 'BS1_NAME', 'BS2_NAME', 'BS3_NAME']].fillna(\"없음\")\n",
        "en_data[['DAEHAK_NAME', 'HAKGWA_NAME', 'JUNGONG_NAME', 'BUJ_NAME', 'BS1_NAME', 'BS2_NAME', 'BS3_NAME']] = en_data[['DAEHAK_NAME', 'HAKGWA_NAME', 'JUNGONG_NAME', 'BUJ_NAME', 'BS1_NAME', 'BS2_NAME', 'BS3_NAME']].replace('-', '없음')"
      ],
      "metadata": {
        "id": "w1eLflR-JBrE"
      },
      "execution_count": null,
      "outputs": []
    },
    {
      "cell_type": "code",
      "source": [
        "data = en_data.copy()"
      ],
      "metadata": {
        "id": "yUsbaDJJJECt"
      },
      "execution_count": null,
      "outputs": []
    },
    {
      "cell_type": "code",
      "source": [
        "data['HAKGI']=0\n",
        "for i in tqdm(range(0,len(data))):\n",
        "    data['HAKGI'][i] = str(data['YYHAKGI'][i])[:4]"
      ],
      "metadata": {
        "id": "_gCofsmZJEFR"
      },
      "execution_count": null,
      "outputs": []
    },
    {
      "cell_type": "code",
      "source": [
        "data['HAKGI'] = data['HAKGI'].astype(int)\n",
        "new_con = pd.merge(data,census, how='left',left_on=['HAKGI','HAKJ_HAKBUN'], right_on=['YY','HAKBUN'])"
      ],
      "metadata": {
        "id": "E55I3sJOJEJJ"
      },
      "execution_count": null,
      "outputs": []
    },
    {
      "cell_type": "code",
      "source": [
        "##### 중복되는 열, 전공코드 및 학과 코드 등 삭제 ######\n",
        "new_con.drop(['DAEHAK_22','JANG_30','JANG_31','GYO_40','GYO_41','DAEHAK_43','DAEHAK_44','TONGHAK_52','TONGHAK_53',\\\n",
        "             'FRESH_58','ETC_59','ETC_60','ETC_61','DAEHAK_62','DAEHAK_63','DAEHAK_64', 'GYO_37', 'GYO_57',\n",
        "             'ONLINE_38','ONLINE_39','ONLINE_65','ONLINE_66','ONLINE_67','ONLINE_68','ONLINE_69','YY','HAKBUN','HAKGI'],axis=1,inplace=True)"
      ],
      "metadata": {
        "id": "QIeDpaBPJELw"
      },
      "execution_count": null,
      "outputs": []
    },
    {
      "cell_type": "code",
      "source": [
        "missing_temp = new_con.loc[new_con['YYHAKGI']==20211]\n",
        "missing_temp.drop(['DAEHAK_NAME', 'HAKGWA_NAME', 'JUNGONG_NAME', 'BUJ_NAME', 'BS1_NAME', 'BS2_NAME', 'BS3_NAME'], axis=1, inplace=True)\n",
        "missing_rate = (missing_temp.isnull().sum()/len(missing_temp)).to_dict()"
      ],
      "metadata": {
        "id": "4hVVJwniJEOI"
      },
      "execution_count": null,
      "outputs": []
    },
    {
      "cell_type": "code",
      "source": [
        "new_con[['TOTAL_GPA', 'SUIS_CHE_HAKJUM', 'IPSI_OVERLAP_CNT']] = new_con[['TOTAL_GPA', 'SUIS_CHE_HAKJUM', 'IPSI_OVERLAP_CNT']].fillna(0)"
      ],
      "metadata": {
        "id": "zoOzh-eCJEQ6"
      },
      "execution_count": null,
      "outputs": []
    },
    {
      "cell_type": "code",
      "source": [
        "for col in tqdm(new_con.columns):\n",
        "    if len(new_con[new_con[col].isnull()==True])>=1:\n",
        "        try:\n",
        "            new_con[col].fillna(new_con[col].mode()[0],inplace=True)\n",
        "        except ValueError:\n",
        "            pass"
      ],
      "metadata": {
        "id": "QD_Wf4yFJJqh"
      },
      "execution_count": null,
      "outputs": []
    },
    {
      "cell_type": "code",
      "source": [
        "train_data = new_con.loc[new_con['YYHAKGI']==20211]\n",
        "inf_data = new_con.loc[new_con['YYHAKGI']==20222]"
      ],
      "metadata": {
        "id": "BIbALoD_JJtg"
      },
      "execution_count": null,
      "outputs": []
    },
    {
      "cell_type": "code",
      "source": [
        "train_data = train_data.loc[train_data['LABEL'] != 'NoData']\n",
        "inf_data.drop(['LABEL'], axis=1, inplace=True)"
      ],
      "metadata": {
        "id": "nXtVTloxJJwU"
      },
      "execution_count": null,
      "outputs": []
    },
    {
      "cell_type": "code",
      "source": [
        "# 0208 추가\n",
        "inf_data = inf_data.reset_index(drop=True)\n",
        "for i in range(len(inf_data)) : \n",
        "    if inf_data['BD_GBN_NAME'][i] in ['미복학제적', '자퇴', '미등록제적', '학사제적', '수료'] : \n",
        "        inf_data.drop([i], axis=0, inplace=True)"
      ],
      "metadata": {
        "id": "CpgUXZnSJJzI"
      },
      "execution_count": null,
      "outputs": []
    },
    {
      "cell_type": "code",
      "source": [
        "# 0208 추가\n",
        "train_data['BD_GBN_NAME'].replace({'복학' : '재학',  '유급' : '재학'}, inplace=True)\n",
        "inf_data['BD_GBN_NAME'].replace({'복학' : '재학', '유급' : '재학'}, inplace=True)"
      ],
      "metadata": {
        "id": "ErjLd69VJNSJ"
      },
      "execution_count": null,
      "outputs": []
    },
    {
      "cell_type": "code",
      "source": [
        "name_dict = {}\n",
        "for i in range(len(name)) : \n",
        "    name_dict[name['feature'][i]] = name['feature_name'][i]"
      ],
      "metadata": {
        "id": "53F7avtQJNU5"
      },
      "execution_count": null,
      "outputs": []
    },
    {
      "cell_type": "code",
      "source": [
        "# train_data, inference_data 분리, missing_rate pickle 저장\n",
        "train_data.to_csv('/ml/algorithmlabs.inference/train_data.csv', index=False)\n",
        "inf_data.to_csv('/ml/algorithmlabs.inference/inference_data.csv', index=False)\n",
        "joblib.dump(missing_rate, '/ml/algorithmlabs.inference/pickle/missing_rate.pkl')\n",
        "joblib.dump(name_dict, '/ml/algorithmlabs.inference/pickle/name_dict.pkl')"
      ],
      "metadata": {
        "id": "Ouy_QqTtJNXb"
      },
      "execution_count": null,
      "outputs": []
    }
  ]
}