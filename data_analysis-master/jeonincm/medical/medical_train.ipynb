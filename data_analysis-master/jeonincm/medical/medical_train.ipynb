{
  "cells": [
    {
      "cell_type": "code",
      "execution_count": null,
      "metadata": {
        "colab": {
          "base_uri": "https://localhost:8080/"
        },
        "id": "RUz-ZH00eE2v",
        "outputId": "de194443-375c-429a-901b-7f4ba59d693e"
      },
      "outputs": [],
      "source": [
        "from google.colab import drive\n",
        "drive.mount('/content/drive')"
      ]
    },
    {
      "cell_type": "code",
      "execution_count": null,
      "metadata": {
        "colab": {
          "base_uri": "https://localhost:8080/"
        },
        "id": "s0SPyWBzerIg",
        "outputId": "c95db89a-cd7f-4cbd-930c-7895db9b2bad"
      },
      "outputs": [],
      "source": [
        "!pip install shap"
      ]
    },
    {
      "cell_type": "code",
      "execution_count": null,
      "metadata": {
        "colab": {
          "base_uri": "https://localhost:8080/"
        },
        "id": "CiETsGq4esuK",
        "outputId": "fbe4ed0c-8c66-46c1-bdda-00d034d6db45"
      },
      "outputs": [],
      "source": [
        "!sudo apt-get install -y fonts-nanum\n",
        "!sudo fc-cache -fv\n",
        "!rm ~/.cache/matplotlib -rf"
      ]
    },
    {
      "cell_type": "code",
      "execution_count": null,
      "metadata": {
        "id": "FNltzNpeet8H"
      },
      "outputs": [],
      "source": [
        "import pandas as pd\n",
        "import numpy as np\n",
        "from sklearn.model_selection import train_test_split, GridSearchCV, KFold\n",
        "from sklearn.preprocessing import StandardScaler, MinMaxScaler\n",
        "from sklearn.linear_model import LinearRegression, Ridge, Lasso\n",
        "from sklearn.ensemble import RandomForestRegressor, GradientBoostingRegressor\n",
        "from sklearn.neural_network import MLPRegressor\n",
        "from xgboost import XGBRegressor\n",
        "from sklearn.metrics import mean_absolute_error, mean_squared_error, mean_absolute_percentage_error, r2_score\n",
        "from imblearn.pipeline import Pipeline\n",
        "import seaborn as sns\n",
        "import matplotlib.pyplot as plt\n",
        "import shap\n",
        "from datetime import datetime\n",
        "import json\n",
        "import joblib"
      ]
    },
    {
      "cell_type": "code",
      "execution_count": null,
      "metadata": {
        "id": "uJy-mHJmezB8"
      },
      "outputs": [],
      "source": [
        "plt.rc('font', family='NanumBarunGothic')"
      ]
    },
    {
      "cell_type": "code",
      "execution_count": null,
      "metadata": {
        "id": "2OPoF_CIe3aa"
      },
      "outputs": [],
      "source": [
        "pd.options.display.float_format = '{:.6f}'.format"
      ]
    },
    {
      "cell_type": "code",
      "execution_count": null,
      "metadata": {
        "id": "Aj64U_acez9z"
      },
      "outputs": [],
      "source": [
        "# 파일 저장경로 및 sheet 설정\n",
        "filename = '/content/drive/MyDrive/Colab Notebooks/전인CM/input/전인CM_통합데이터_221011.xlsx'\n",
        "sheetname = '제약공장'"
      ]
    },
    {
      "cell_type": "code",
      "execution_count": null,
      "metadata": {
        "id": "R0PKUTfEe1k2"
      },
      "outputs": [],
      "source": [
        "raw = pd.read_excel(filename, sheet_name=sheetname, engine='openpyxl')"
      ]
    },
    {
      "cell_type": "code",
      "execution_count": null,
      "metadata": {
        "id": "kQ-ObP7ae39Y"
      },
      "outputs": [],
      "source": [
        "raw_data = raw.copy()"
      ]
    },
    {
      "cell_type": "markdown",
      "metadata": {
        "id": "GQGsCjDlfIJG"
      },
      "source": [
        "전처리"
      ]
    },
    {
      "cell_type": "code",
      "execution_count": null,
      "metadata": {
        "id": "mquB30Wfe_P0"
      },
      "outputs": [],
      "source": [
        "nalist = []\n",
        "\n",
        "for colname in raw_data.iloc[:, 0:16].columns : # 공종 비율 제외 결측 탐지 및 채우기 진행\n",
        "  nacount = raw_data[colname].isna().sum()\n",
        "  if nacount >= 1 :\n",
        "    nalist.append(colname)\n",
        "\n",
        "for col in nalist :  \n",
        "  if raw_data[col].dtype == object :\n",
        "    raw_data.loc[raw_data[col].isna()==True,col] = raw_data[col].mode()[0] # 최빈 처리\n",
        "  else :\n",
        "    raw_data.loc[raw_data[col].isna()==True,col] = raw_data[col].mean() # 평균처리"
      ]
    },
    {
      "cell_type": "code",
      "execution_count": null,
      "metadata": {
        "id": "JBGtwdq4fFJq"
      },
      "outputs": [],
      "source": [
        "# label encoding\n",
        "raw_data['건물외형'] = raw_data['건물외형'].replace('정형', 0)\n",
        "raw_data['건물외형'] = raw_data['건물외형'].replace('비정형', 1)\n",
        "raw_data['철거공사 포함 여부'] = raw_data['철거공사 포함 여부'].replace('미포함', 0)\n",
        "raw_data['철거공사 포함 여부'] = raw_data['철거공사 포함 여부'].replace('포함', 1)\n",
        "\n",
        "sector = []\n",
        "for i in range(len(raw_data)) :\n",
        "  if raw_data['지역'][i] == '서울' : \n",
        "    sector.append(1)\n",
        "  elif raw_data['지역'][i] == '인천' : \n",
        "    sector.append(2)\n",
        "  elif raw_data['지역'][i] == '경기' : \n",
        "    sector.append(3)\n",
        "  elif raw_data['지역'][i] == '충청' : \n",
        "    sector.append(4)\n",
        "  elif raw_data['지역'][i] == '강원' : \n",
        "    sector.append(5)\n",
        "  elif raw_data['지역'][i] == '영남' : \n",
        "    sector.append(6)\n",
        "  elif raw_data['지역'][i] == '호남' : \n",
        "    sector.append(7)\n",
        "\n",
        "raw_data['지역'] =  sector"
      ]
    },
    {
      "cell_type": "code",
      "execution_count": null,
      "metadata": {
        "id": "fuXXIe-BfL4Q"
      },
      "outputs": [],
      "source": [
        "# 유사도 측정을 위한 공종 제외 feature 데이터 구축\n",
        "encoding = pd.get_dummies(raw_data.drop(['공사비', '시공사명', '2015 평당가', '2015 기준공사비', '토목', '건축', '설비', '전기', '통신', '소방', '조경', '추가공종', '간접비 및 이윤'], axis=1), \n",
        "                       columns=['공법'], drop_first=True)"
      ]
    },
    {
      "cell_type": "code",
      "execution_count": null,
      "metadata": {
        "id": "8ThtoD7TfNGm"
      },
      "outputs": [],
      "source": [
        "# scaling을 위한 문자열 데이터 제거\n",
        "column_list = encoding['프로젝트명']\n",
        "column_data = pd.DataFrame(columns=column_list)\n",
        "basic = encoding.drop(['프로젝트명'], axis=1)"
      ]
    },
    {
      "cell_type": "code",
      "execution_count": null,
      "metadata": {
        "id": "YehVPTVXfOmq"
      },
      "outputs": [],
      "source": [
        "# scaling 작업\n",
        "scaler = MinMaxScaler()\n",
        "scaler.fit(basic)\n",
        "scaled_data = scaler.transform(basic)\n",
        "en_data = pd.DataFrame(data = scaled_data, index=basic.index, columns=basic.columns)\n",
        "en_data = en_data.reset_index(drop=True)"
      ]
    },
    {
      "cell_type": "code",
      "execution_count": null,
      "metadata": {
        "id": "yLbU-c78fPrg"
      },
      "outputs": [],
      "source": [
        "# 유사도 측정 로직 수정\n",
        "for name in column_list : \n",
        "  data_list = []\n",
        "  main_index = encoding[encoding['프로젝트명']==name].index\n",
        "  main_values = en_data.values[main_index]\n",
        "  main_year = en_data['착공년도'][main_index].values[0]\n",
        "\n",
        "  for num in range(len(en_data)) : \n",
        "    compare_values = en_data.values[num]\n",
        "    uclid_dist = np.sqrt(np.sum(np.square(main_values-compare_values)))\n",
        "    if (main_year==en_data['착공년도'].min()) : \n",
        "      data_list.append(uclid_dist)\n",
        "    else : \n",
        "      if (main_year < en_data['착공년도'][num]) :\n",
        "        data_list.append(0)\n",
        "      else : \n",
        "        data_list.append(uclid_dist)\n",
        "  column_data[name] = data_list"
      ]
    },
    {
      "cell_type": "code",
      "execution_count": null,
      "metadata": {
        "id": "rd11kwxRfQyQ"
      },
      "outputs": [],
      "source": [
        "# 가장 유사도가 깊은 데이터 탐색\n",
        "con_data = pd.concat([raw_data, column_data], axis=1)\n",
        "sim = []\n",
        "for name in raw_data['프로젝트명'] : \n",
        "  unique_data = column_data[name].unique()\n",
        "  zero = [0]\n",
        "  sim_data = np.setdiff1d(unique_data, zero).min()\n",
        "  sim.append(sim_data)"
      ]
    },
    {
      "cell_type": "code",
      "execution_count": null,
      "metadata": {
        "id": "iyYFva69fR6A"
      },
      "outputs": [],
      "source": [
        "# 가장 유사도가 깊은 공사의 label 데이터 가져오기 \n",
        "result = [] \n",
        "i = 0\n",
        "for name in column_list : \n",
        "  sim_values = []\n",
        "  result.append(con_data.loc[con_data[name]==sim[i]]['2015 기준공사비'].values[0])\n",
        "  i += 1"
      ]
    },
    {
      "cell_type": "code",
      "execution_count": null,
      "metadata": {
        "id": "UkJz1o9KfUWI"
      },
      "outputs": [],
      "source": [
        "raw_data['유사도 기준공사비'] = result\n",
        "# raw_data['유사도 기준공사비'] = raw_data['유사도 기준공사비'].astype(\"float\")"
      ]
    },
    {
      "cell_type": "markdown",
      "metadata": {
        "id": "uKDvn-qRfX31"
      },
      "source": [
        "모델링"
      ]
    },
    {
      "cell_type": "code",
      "execution_count": null,
      "metadata": {
        "id": "v83EN3UrmS-c"
      },
      "outputs": [],
      "source": [
        "# baseline modeling을 위한 파라미터 설정\n",
        "random_seed = 4\n",
        "kfold = KFold(n_splits=5, shuffle=True, random_state=random_seed)"
      ]
    },
    {
      "cell_type": "code",
      "execution_count": null,
      "metadata": {
        "id": "NA3v94BNlevh"
      },
      "outputs": [],
      "source": [
        "drop_feature = ['프로젝트명', '공사비', '시공사명', '2015 평당가'] # 모든 데이터 사용\n",
        "main_data = pd.get_dummies(raw_data.drop(drop_feature, axis=1), columns=['공법'], drop_first=True)\n",
        "main_data = main_data[['착공년도', '연면적(평)', '지하층', '지상층', '층', '시공사 등급', '공사기간(개월)', '건물높이', '생산시설', '공사비지수',\n",
        "       '2015 기준공사비', '토목', '건축', '설비', '전기', '통신', '소방', '조경', '추가공종',\n",
        "       '간접비 및 이윤', '건물외형', '철거공사 포함 여부', '지역', '유사도 기준공사비', '공법_RC / 철골조', '공법_철골조']]"
      ]
    },
    {
      "cell_type": "code",
      "execution_count": null,
      "metadata": {
        "id": "UXcNG3sVl0UR"
      },
      "outputs": [],
      "source": [
        "A = main_data.drop(['2015 기준공사비'], axis=1)\n",
        "b = main_data['2015 기준공사비']\n",
        "A_train, A_test, b_train, b_test = train_test_split(A, b, test_size=0.2, random_state=random_seed)"
      ]
    },
    {
      "cell_type": "code",
      "execution_count": null,
      "metadata": {
        "colab": {
          "base_uri": "https://localhost:8080/"
        },
        "id": "ZXPSJLV0l7G3",
        "outputId": "23ead7e5-6a54-4766-858e-26e80f54b15c"
      },
      "outputs": [],
      "source": [
        "# algorithm test 진행, 연관된 알고리즘을 리스트에 더 추가해도 무방\n",
        "benchmark = pd.DataFrame(columns=['Algorithm', 'MAE', 'RMSE', 'MAPE', 'r2'])\n",
        "\n",
        "for algorithm in [LinearRegression(), RandomForestRegressor(random_state=random_seed), XGBRegressor(random_state=random_seed),MLPRegressor(random_state=random_seed), Lasso(), Ridge(), GradientBoostingRegressor(random_state=random_seed)]:\n",
        "    pipeline = Pipeline(steps = [['regressor', algorithm]])\n",
        "    \n",
        "    results = GridSearchCV(estimator=pipeline,\n",
        "                           scoring= 'neg_mean_absolute_error',\n",
        "                           param_grid ={},\n",
        "                           cv = kfold,\n",
        "                           n_jobs=-1)\n",
        "    results.fit(A_train, b_train)\n",
        "    results_pred = results.predict(A_test)\n",
        "    mae = mean_absolute_error(b_test, results_pred)\n",
        "    rmse = mean_squared_error(b_test, results_pred, squared=False)\n",
        "    mape = mean_absolute_percentage_error(b_test, results_pred)\n",
        "    r2_cof = r2_score(b_test, results_pred)\n",
        "    benchmark = benchmark.append({'Algorithm' : algorithm, 'MAE' : mae,'RMSE' : rmse, 'MAPE' : mape, 'r2' : r2_cof}, ignore_index=True)"
      ]
    },
    {
      "cell_type": "code",
      "execution_count": null,
      "metadata": {
        "colab": {
          "base_uri": "https://localhost:8080/",
          "height": 269
        },
        "id": "-yhHxNAul9zD",
        "outputId": "b2de760b-70d2-41fe-ce29-27f9ca6c5768"
      },
      "outputs": [],
      "source": [
        "benchmark"
      ]
    },
    {
      "cell_type": "code",
      "execution_count": null,
      "metadata": {
        "colab": {
          "base_uri": "https://localhost:8080/"
        },
        "id": "8Y-kH5QbiJos",
        "outputId": "e9ebc942-d942-4dfb-d67e-c49782aecc24"
      },
      "outputs": [],
      "source": [
        "opt_dict = {}\n",
        "idx = benchmark['MAPE'].idxmin()\n",
        "column_list = ['MAE', 'RMSE', 'MAPE', 'r2']\n",
        "benchmark = benchmark.drop([idx], axis=0).reset_index(drop=True)\n",
        "\n",
        "for columns in list(column_list) : \n",
        "  opt_dict['Average '+columns] = benchmark[columns].mean()\n",
        "\n",
        "opt_dict  "
      ]
    },
    {
      "cell_type": "code",
      "execution_count": null,
      "metadata": {
        "id": "l0M43U87U6nD"
      },
      "outputs": [],
      "source": [
        "X = main_data.drop(['2015 기준공사비'], axis=1)\n",
        "y = main_data['2015 기준공사비']\n",
        "size = 0.2"
      ]
    },
    {
      "cell_type": "code",
      "execution_count": null,
      "metadata": {
        "colab": {
          "base_uri": "https://localhost:8080/"
        },
        "id": "ASiGrXMdCRRF",
        "outputId": "2ba31987-2f75-40fa-b7cf-3be19483ef30"
      },
      "outputs": [],
      "source": [
        "X_train, X_test, y_train, y_test = train_test_split(X, y, test_size=size, random_state=46) # 10 8\n",
        "\n",
        "pipeline_xgb = Pipeline(steps=[['regressor', RandomForestRegressor(random_state=18)]])\n",
        "\n",
        "\n",
        "params_xgb={'regressor__n_estimators' : [50, 100, 300, 500],\n",
        "            'regressor__max_depth' : [3, 5, 8, 10], \n",
        "            'regressor__min_samples_split' : [2, 5]}\n",
        "'''\n",
        "params_xgb = {}\n",
        "'''\n",
        "grid_search_xgb = GridSearchCV(estimator=pipeline_xgb,\n",
        "                               param_grid=params_xgb,\n",
        "                               cv = kfold,\n",
        "                               scoring ='neg_median_absolute_error',\n",
        "                               n_jobs=-1)\n",
        "\n",
        "grid_search_xgb.fit(X_train, y_train)\n",
        "pred_xgb = grid_search_xgb.predict(X_test)\n",
        "print(grid_search_xgb.best_params_)\n",
        "print('MAE = {:.3f}'.format(mean_absolute_error(y_test, pred_xgb)))\n",
        "print('RMSE = {:.3f}'.format(mean_squared_error(y_test, pred_xgb, squared=False)))\n",
        "print('MAPE = {:.3f}'.format(mean_absolute_percentage_error(y_test, pred_xgb)))\n",
        "print('r2 score = {:.3f}'.format(r2_score(y_test, pred_xgb)))\n",
        "\n",
        "now = datetime.now()\n",
        "f_mae = mean_absolute_error(y_test, pred_xgb)\n",
        "f_rmse = mean_squared_error(y_test, pred_xgb, squared=False)\n",
        "f_mape = mean_absolute_percentage_error(y_test, pred_xgb)\n",
        "f_r2_cof = r2_score(y_test, pred_xgb)\n",
        "\n",
        "metrics_dict = {}\n",
        "metrics_dict['MAE'] = f_mae\n",
        "metrics_dict['RMSE'] = f_rmse\n",
        "metrics_dict['MAPE'] = f_mape\n",
        "metrics_dict['r2_score'] = f_r2_cof\n",
        "\n",
        "metrics_dict"
      ]
    },
    {
      "cell_type": "code",
      "execution_count": null,
      "metadata": {
        "id": "KRclHbIBlb8l"
      },
      "outputs": [],
      "source": [
        "end_model = grid_search_xgb.best_estimator_['regressor']"
      ]
    },
    {
      "cell_type": "code",
      "execution_count": null,
      "metadata": {
        "colab": {
          "base_uri": "https://localhost:8080/",
          "height": 718
        },
        "id": "3xjm9Wm3lJpq",
        "outputId": "a17c6161-daa0-4070-c6e2-ee247c5796d9"
      },
      "outputs": [],
      "source": [
        "# SHAP feature importance 구축\n",
        "explainer = shap.TreeExplainer(end_model, data=X_train) \n",
        "shap_values = explainer.shap_values(X_test) \n",
        "shap_obj = explainer(X_test)\n",
        "shap.initjs()\n",
        "shap.summary_plot(shap_values, X_test, plot_type = \"bar\")"
      ]
    },
    {
      "cell_type": "code",
      "execution_count": null,
      "metadata": {
        "id": "43OsowlRiufO"
      },
      "outputs": [],
      "source": [
        "importances = np.absolute(shap_values).sum(axis=0) / shap_values.shape[0]\n",
        "feature_importance = pd.Series(importances / np.sum(importances))\n",
        "feature_importance.index = X_train.columns"
      ]
    },
    {
      "cell_type": "code",
      "execution_count": null,
      "metadata": {
        "id": "O28Npl6ST1FS"
      },
      "outputs": [],
      "source": [
        "# 수정\n",
        "numerical = raw_data.select_dtypes(include = 'number').columns.drop(['공사비', '2015 기준공사비', '2015 평당가'])\n",
        "categorical = ['공법']\n",
        "fe_list = list(feature_importance.index)"
      ]
    },
    {
      "cell_type": "code",
      "execution_count": null,
      "metadata": {
        "id": "iOIttfS4aSh7"
      },
      "outputs": [],
      "source": [
        "cat_imp = []\n",
        "for name in categorical : \n",
        "  sum = 0\n",
        "  for i in range (len(fe_list)) : \n",
        "    if name in fe_list[i] :\n",
        "      sum += feature_importance[i]\n",
        "  cat_imp.append(sum)"
      ]
    },
    {
      "cell_type": "code",
      "execution_count": null,
      "metadata": {
        "id": "V-ppXav7dqRl"
      },
      "outputs": [],
      "source": [
        "cat_fe = pd.Series(cat_imp)\n",
        "cat_fe.index = categorical"
      ]
    },
    {
      "cell_type": "code",
      "execution_count": null,
      "metadata": {
        "id": "Zb0RNHkCezDu"
      },
      "outputs": [],
      "source": [
        "nu_fe = feature_importance[numerical]"
      ]
    },
    {
      "cell_type": "code",
      "execution_count": null,
      "metadata": {
        "id": "ljSXF84QfKXS"
      },
      "outputs": [],
      "source": [
        "result_fe = pd.concat([nu_fe, cat_fe])\n",
        "fe_dict = result_fe.to_dict()"
      ]
    },
    {
      "cell_type": "code",
      "execution_count": null,
      "metadata": {
        "id": "NWwjzMGYkmT9"
      },
      "outputs": [],
      "source": [
        "missing_rate = {}\n",
        "feature_data = raw.drop(['공사비', '2015 기준공사비', '2015 평당가'], axis=1)\n",
        "\n",
        "for name in feature_data.columns.tolist() : \n",
        "  cnt = 0\n",
        "  for i in range(len(feature_data)) : \n",
        "    if feature_data[name].isnull()[i] == True : \n",
        "      cnt+=1\n",
        "  missing_rate[name] = cnt/len(feature_data)"
      ]
    },
    {
      "cell_type": "code",
      "execution_count": null,
      "metadata": {
        "id": "ISfZxWEslBdQ"
      },
      "outputs": [],
      "source": [
        "main_dict = {}\n",
        "main_dict['feature importance'] = fe_dict\n",
        "main_dict['trainset_size'] = len(X_train)\n",
        "main_dict['testset_size'] = len(X_test)\n",
        "main_dict['total_size'] = len(X_train)+len(X_test)\n",
        "main_dict['last_train_date'] = str(now)\n",
        "main_dict['metrics'] = metrics_dict\n",
        "main_dict['algorithm others'] = opt_dict\n",
        "main_dict['feature missing rate'] = missing_rate"
      ]
    },
    {
      "cell_type": "code",
      "execution_count": null,
      "metadata": {
        "colab": {
          "base_uri": "https://localhost:8080/"
        },
        "id": "VC_UrPLWjq2H",
        "outputId": "52499533-4769-4c14-fc24-41f734e5c499"
      },
      "outputs": [],
      "source": [
        "main_dict"
      ]
    },
    {
      "cell_type": "code",
      "execution_count": null,
      "metadata": {
        "id": "TV47K97mlIWh"
      },
      "outputs": [],
      "source": [
        "json_file = json.dumps(main_dict)"
      ]
    },
    {
      "cell_type": "code",
      "execution_count": null,
      "metadata": {
        "id": "0euCoFMZlIoI"
      },
      "outputs": [],
      "source": [
        "file_path = '/content/drive/My Drive/Colab Notebooks/전인CM/output/제약공장.json'"
      ]
    },
    {
      "cell_type": "code",
      "execution_count": null,
      "metadata": {
        "id": "t5LB9FTPlIq6"
      },
      "outputs": [],
      "source": [
        "with open(file_path, 'w', encoding='utf-8') as file:\n",
        "    file.write(json.dumps(main_dict, ensure_ascii=False))"
      ]
    },
    {
      "cell_type": "code",
      "execution_count": null,
      "metadata": {
        "colab": {
          "base_uri": "https://localhost:8080/"
        },
        "id": "wvNOdrkA4-UQ",
        "outputId": "fc238a45-3696-4cb7-a9ca-e60e909853bc"
      },
      "outputs": [],
      "source": [
        "joblib.dump(end_model, '/content/drive/My Drive/Colab Notebooks/전인CM/output/제약공장_model.pkl')\n",
        "joblib.dump(scaler, '/content/drive/My Drive/Colab Notebooks/전인CM/output/제약공장_scaler.pkl')\n",
        "joblib.dump(con_data, '/content/drive/My Drive/Colab Notebooks/전인CM/output/제약공장_data.pkl')\n",
        "joblib.dump(en_data, '/content/drive/My Drive/Colab Notebooks/전인CM/output/제약공장_en_data.pkl')\n",
        "joblib.dump(explainer, '/content/drive/My Drive/Colab Notebooks/전인CM/output/제약공장_explainer.pkl')"
      ]
    }
  ],
  "metadata": {
    "colab": {
      "provenance": []
    },
    "kernelspec": {
      "display_name": "Python 3",
      "name": "python3"
    },
    "language_info": {
      "name": "python"
    }
  },
  "nbformat": 4,
  "nbformat_minor": 0
}
