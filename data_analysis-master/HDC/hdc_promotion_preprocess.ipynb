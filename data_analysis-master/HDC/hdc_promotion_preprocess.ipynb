{
 "cells": [
  {
   "cell_type": "code",
   "execution_count": 1,
   "metadata": {},
   "outputs": [],
   "source": [
    "import pandas as pd\n",
    "import numpy as np\n",
    "import os\n",
    "import glob\n",
    "import joblib\n",
    "from datetime import datetime, timedelta\n",
    "from pathlib import Path"
   ]
  },
  {
   "cell_type": "code",
   "execution_count": 2,
   "metadata": {},
   "outputs": [],
   "source": [
    "path = \"/ml/algorithmlabs.csv\""
   ]
  },
  {
   "cell_type": "code",
   "execution_count": 3,
   "metadata": {},
   "outputs": [],
   "source": [
    "file_list = glob.glob(f'{path}/*.csv')\n",
    "name = pd.read_excel('ml/feature_korean_name.xlsx', sheet_name='promotion')"
   ]
  },
  {
   "cell_type": "code",
   "execution_count": 4,
   "metadata": {},
   "outputs": [
    {
     "data": {
      "text/plain": [
       "['DAAT_DUTY_HISTORY.csv',\n",
       " 'DAAT_ORDER.csv',\n",
       " 'DAAT_PROJECT_HISTORY.csv',\n",
       " 'DAAT_SUCCESSOR.csv',\n",
       " 'DAAV_BASEINFO_DETAIL.csv',\n",
       " 'DACT_USEDVACATION.csv',\n",
       " 'DACT_WORK_RESULT_UPDATE.csv',\n",
       " 'DAET_EDUCATION_REQUEST.csv',\n",
       " 'DAJT_FINAL_RESULT.csv',\n",
       " 'DAKT_MBO_USER.csv',\n",
       " 'DANT_PROMOTION_USER.csv',\n",
       " 'DHDT_MNTR_EXTRC_DTL.csv']"
      ]
     },
     "execution_count": 4,
     "metadata": {},
     "output_type": "execute_result"
    }
   ],
   "source": [
    "os.listdir(f'{path}')"
   ]
  },
  {
   "attachments": {},
   "cell_type": "markdown",
   "metadata": {},
   "source": [
    "### DANT_PROMOTION_USER, DAAT_ORDER"
   ]
  },
  {
   "cell_type": "code",
   "execution_count": 6,
   "metadata": {},
   "outputs": [
    {
     "name": "stdout",
     "output_type": "stream",
     "text": [
      "c:\\Users\\wongi\\Desktop\\알고리즘랩스\\프로젝트\\현대산업개발\\develop_server\\algorithmlabs.csv\\DANT_PROMOTION_USER.csv\n",
      "c:\\Users\\wongi\\Desktop\\알고리즘랩스\\프로젝트\\현대산업개발\\develop_server\\algorithmlabs.csv\\DAAT_ORDER.csv\n"
     ]
    }
   ],
   "source": [
    "print(file_list[10])\n",
    "print(file_list[1])\n",
    "user = pd.read_csv(file_list[7])\n",
    "order = pd.read_csv(file_list[1])\n",
    "user_data = user.copy()\n",
    "order_data = order.copy()"
   ]
  },
  {
   "cell_type": "code",
   "execution_count": 331,
   "metadata": {},
   "outputs": [],
   "source": [
    "year_list = []\n",
    "\n",
    "for i in range(len(order_data)) : \n",
    "    year_list.append(int(str(order_data['DT_ORDER'][i])[0:4])-1)\n",
    "\n",
    "order_data['DT_YEAR'] = year_list "
   ]
  },
  {
   "cell_type": "code",
   "execution_count": 332,
   "metadata": {},
   "outputs": [],
   "source": [
    "promotion = order_data[['ID_SABUN', 'DS_ORDER1', 'DT_YEAR']]"
   ]
  },
  {
   "cell_type": "code",
   "execution_count": 333,
   "metadata": {},
   "outputs": [],
   "source": [
    "user_data.drop(user_data[user_data['DS_GROUP']=='3급 → 3-2급'].index, axis=0, inplace=True)"
   ]
  },
  {
   "cell_type": "code",
   "execution_count": 334,
   "metadata": {},
   "outputs": [],
   "source": [
    "base = pd.merge(user_data, promotion, on=['ID_SABUN', 'DT_YEAR'], how='left')\n",
    "base.drop(base[(base['CD_POSITION']==12) & (base['DS_ORDER1']!='승진')].index, axis=0, inplace=True)\n",
    "base = base.reset_index(drop=True)"
   ]
  },
  {
   "cell_type": "code",
   "execution_count": 335,
   "metadata": {},
   "outputs": [
    {
     "name": "stdout",
     "output_type": "stream",
     "text": [
      "221\n"
     ]
    }
   ],
   "source": [
    "label_list = []\n",
    "for i in range(len(base)) : \n",
    "    if base['DS_ORDER1'][i] != base['DS_ORDER1'][i] : \n",
    "        label_list.append(0)\n",
    "    else :\n",
    "        label_list.append(1)\n",
    "        \n",
    "base['LABEL'] = label_list\n",
    "print(len(base))"
   ]
  },
  {
   "cell_type": "code",
   "execution_count": 336,
   "metadata": {},
   "outputs": [],
   "source": [
    "base = base[['DT_YEAR', 'ID_SABUN', 'CD_BONBU', 'CD_DEPT', 'CD_JOBFAMILY', 'DT_GROUP_JOIN', 'DT_JOIN', 'DT_BEFORE_PROMOTION', 'DT_PROMOTION', 'NO_POSITION_YEAR',\n",
    "             'NO_POINT_SUM', 'NO_POINT_LANGUAGE', 'NO_POINT_LICENSE', 'NO_POINT_REWARD', 'NO_POINT_DISCIPLINE', 'NO_POINT_EDU', 'NO_ADJUST_SUM',\n",
    "             'NO_RANK', 'CD_ZONE', 'LABEL', 'DS_BONBU', 'DS_DEPT', 'DS_JOBFAMILY', 'DS_ZONE']]\n",
    "\n",
    "base['ID_SABUN'] = base['ID_SABUN'].astype('str')"
   ]
  },
  {
   "attachments": {},
   "cell_type": "markdown",
   "metadata": {},
   "source": [
    "### DAAV_BASEINFO_DETAIL"
   ]
  },
  {
   "cell_type": "code",
   "execution_count": 7,
   "metadata": {},
   "outputs": [
    {
     "name": "stdout",
     "output_type": "stream",
     "text": [
      "c:\\Users\\wongi\\Desktop\\알고리즘랩스\\프로젝트\\현대산업개발\\develop_server\\algorithmlabs.csv\\DAAV_BASEINFO_DETAIL.csv\n"
     ]
    },
    {
     "name": "stderr",
     "output_type": "stream",
     "text": [
      "C:\\Users\\Public\\Documents\\ESTsoft\\CreatorTemp\\ipykernel_11084\\295115312.py:2: DtypeWarning: Columns (36,38,39,53,167,171,173) have mixed types. Specify dtype option on import or set low_memory=False.\n",
      "  info = pd.read_csv(file_list[4])\n"
     ]
    }
   ],
   "source": [
    "print(file_list[4])\n",
    "info = pd.read_csv(file_list[4])\n",
    "info_data = info.copy()\n",
    "info_data = info_data[['ID_SABUN', 'CD_JOBTYPE', 'CD_DUTY', 'DT_BIRTH', 'DS_BIRTHPLACE', 'CD_ADOPTYPE', 'YN_HANDICAP', 'YN_SUPPORTED', 'YN_FOREIGNER', \n",
    "                       'YN_GENDER', 'CD_JOBFAMILY_JOIN', 'DS_JOBTYPE', 'DS_DUTY', 'DS_ADOPTYPE', 'DS_JOBFAMILY_JOIN', \n",
    "                       'DS_HNAME', 'DS_POSITION', 'DS_OCCUPATION', 'DS_HANDPHONE', 'DS_EMAIL']]\n",
    "info_data['ID_SABUN'] = info_data['ID_SABUN'].astype('str')"
   ]
  },
  {
   "cell_type": "code",
   "execution_count": 338,
   "metadata": {},
   "outputs": [
    {
     "name": "stdout",
     "output_type": "stream",
     "text": [
      "221\n"
     ]
    }
   ],
   "source": [
    "base = pd.merge(base, info_data, on=['ID_SABUN'], how='left')\n",
    "print(len(base))"
   ]
  },
  {
   "attachments": {},
   "cell_type": "markdown",
   "metadata": {},
   "source": [
    "### DAAT_DUTY_HISTORY"
   ]
  },
  {
   "cell_type": "code",
   "execution_count": 8,
   "metadata": {},
   "outputs": [
    {
     "name": "stdout",
     "output_type": "stream",
     "text": [
      "c:\\Users\\wongi\\Desktop\\알고리즘랩스\\프로젝트\\현대산업개발\\develop_server\\algorithmlabs.csv\\DAAT_DUTY_HISTORY.csv\n"
     ]
    }
   ],
   "source": [
    "print(file_list[0])\n",
    "duty = pd.read_csv(file_list[0])\n",
    "duty_data = duty.copy()"
   ]
  },
  {
   "cell_type": "code",
   "execution_count": 340,
   "metadata": {},
   "outputs": [],
   "source": [
    "duty_2020 = duty_data.loc[duty_data['DT_START'] < 20210101]\n",
    "duty_2021 = duty_data.loc[duty_data['DT_START'] < 20220101]\n",
    "duty_2022 = duty_data.loc[duty_data['DT_START'] < 20230101]\n",
    "\n",
    "duty_list = []\n",
    "\n",
    "for id in duty_2020['ID_SABUN'].unique().tolist() : \n",
    "    duty_list.append([id, 2020, duty_2020[duty_2020['ID_SABUN']==id]['CD_DUTY'].nunique()])\n",
    "for id in duty_2021['ID_SABUN'].unique().tolist() : \n",
    "    duty_list.append([id, 2021, duty_2021[duty_2021['ID_SABUN']==id]['CD_DUTY'].nunique()])\n",
    "for id in duty_2022['ID_SABUN'].unique().tolist() : \n",
    "    duty_list.append([id, 2022, duty_2022[duty_2022['ID_SABUN']==id]['CD_DUTY'].nunique()])"
   ]
  },
  {
   "cell_type": "code",
   "execution_count": 341,
   "metadata": {},
   "outputs": [],
   "source": [
    "duty_temp = pd.DataFrame(duty_list, columns=['ID_SABUN', 'DT_YEAR', 'DUTY_CNT'])\n",
    "duty_temp['ID_SABUN'] = duty_temp['ID_SABUN'].astype('str')\n",
    "base = pd.merge(base, duty_temp, on = ['ID_SABUN', 'DT_YEAR'], how='left') "
   ]
  },
  {
   "attachments": {},
   "cell_type": "markdown",
   "metadata": {},
   "source": [
    "### DAAT_PROJECT_HISTORY"
   ]
  },
  {
   "cell_type": "code",
   "execution_count": 9,
   "metadata": {},
   "outputs": [
    {
     "name": "stdout",
     "output_type": "stream",
     "text": [
      "c:\\Users\\wongi\\Desktop\\알고리즘랩스\\프로젝트\\현대산업개발\\develop_server\\algorithmlabs.csv\\DAAT_PROJECT_HISTORY.csv\n"
     ]
    }
   ],
   "source": [
    "print(file_list[2])\n",
    "pro = pd.read_csv(file_list[2])\n",
    "pro_data = pro.copy()"
   ]
  },
  {
   "cell_type": "code",
   "execution_count": 343,
   "metadata": {},
   "outputs": [],
   "source": [
    "pro_data_2020 = pro_data.loc[pro_data['DT_START'] < 20210101]\n",
    "pro_data_2021 = pro_data.loc[pro_data['DT_START'] < 20220101]\n",
    "pro_data_2022 = pro_data.loc[pro_data['DT_START'] < 20230101]"
   ]
  },
  {
   "cell_type": "code",
   "execution_count": 344,
   "metadata": {},
   "outputs": [],
   "source": [
    "base_2020 = base[base['DT_YEAR']==2020]\n",
    "base_2021 = base[base['DT_YEAR']==2021]\n",
    "base_2022 = base[base['DT_YEAR']==2022]"
   ]
  },
  {
   "cell_type": "code",
   "execution_count": 345,
   "metadata": {},
   "outputs": [],
   "source": [
    "pro_cnt_2020 = pd.DataFrame(pro_data_2020['ID_SABUN'].value_counts().index.tolist(), columns=['ID_SABUN'])\n",
    "pro_cnt_2020['PROJECT_CNT'] = pro_data_2020['ID_SABUN'].value_counts().values.tolist()\n",
    "pro_cnt_2020['ID_SABUN'] = pro_cnt_2020['ID_SABUN'].astype('str')\n",
    "base_2020 = pd.merge(base_2020, pro_cnt_2020, on=['ID_SABUN'], how='left')"
   ]
  },
  {
   "cell_type": "code",
   "execution_count": 346,
   "metadata": {},
   "outputs": [],
   "source": [
    "pro_cnt_2021 = pd.DataFrame(pro_data_2021['ID_SABUN'].value_counts().index.tolist(), columns=['ID_SABUN'])\n",
    "pro_cnt_2021['PROJECT_CNT'] = pro_data_2021['ID_SABUN'].value_counts().values.tolist()\n",
    "pro_cnt_2021['ID_SABUN'] = pro_cnt_2021['ID_SABUN'].astype('str')\n",
    "base_2021 = pd.merge(base_2021, pro_cnt_2021, on=['ID_SABUN'], how='left')"
   ]
  },
  {
   "cell_type": "code",
   "execution_count": 347,
   "metadata": {},
   "outputs": [],
   "source": [
    "pro_cnt_2022 = pd.DataFrame(pro_data_2022['ID_SABUN'].value_counts().index.tolist(), columns=['ID_SABUN'])\n",
    "pro_cnt_2022['PROJECT_CNT'] = pro_data_2022['ID_SABUN'].value_counts().values.tolist()\n",
    "pro_cnt_2022['ID_SABUN'] = pro_cnt_2022['ID_SABUN'].astype('str')\n",
    "base_2022 = pd.merge(base_2022, pro_cnt_2022, on=['ID_SABUN'], how='left')"
   ]
  },
  {
   "cell_type": "code",
   "execution_count": 348,
   "metadata": {},
   "outputs": [
    {
     "name": "stdout",
     "output_type": "stream",
     "text": [
      "221\n"
     ]
    }
   ],
   "source": [
    "base = pd.concat([base_2020, base_2021, base_2022], axis=0)\n",
    "print(len(base))"
   ]
  },
  {
   "attachments": {},
   "cell_type": "markdown",
   "metadata": {},
   "source": [
    "### DAAT_SUCCESSOR"
   ]
  },
  {
   "cell_type": "code",
   "execution_count": 10,
   "metadata": {},
   "outputs": [
    {
     "name": "stdout",
     "output_type": "stream",
     "text": [
      "c:\\Users\\wongi\\Desktop\\알고리즘랩스\\프로젝트\\현대산업개발\\develop_server\\algorithmlabs.csv\\DAAT_SUCCESSOR.csv\n"
     ]
    }
   ],
   "source": [
    "print(file_list[3])\n",
    "sur = pd.read_csv(file_list[3])\n",
    "sur_data = sur.copy()\n",
    "sur_data = sur_data[['ID_SABUN', 'DT_YEAR']]\n",
    "sur_data['SUCCESSOR_YN'] = 1\n",
    "sur_data['ID_SABUN'] = sur_data['ID_SABUN'].astype('str')"
   ]
  },
  {
   "cell_type": "code",
   "execution_count": 350,
   "metadata": {},
   "outputs": [
    {
     "data": {
      "text/html": [
       "<div>\n",
       "<style scoped>\n",
       "    .dataframe tbody tr th:only-of-type {\n",
       "        vertical-align: middle;\n",
       "    }\n",
       "\n",
       "    .dataframe tbody tr th {\n",
       "        vertical-align: top;\n",
       "    }\n",
       "\n",
       "    .dataframe thead th {\n",
       "        text-align: right;\n",
       "    }\n",
       "</style>\n",
       "<table border=\"1\" class=\"dataframe\">\n",
       "  <thead>\n",
       "    <tr style=\"text-align: right;\">\n",
       "      <th></th>\n",
       "      <th>ID_SABUN</th>\n",
       "      <th>DT_YEAR</th>\n",
       "      <th>SUCCESSOR_YN</th>\n",
       "    </tr>\n",
       "  </thead>\n",
       "  <tbody>\n",
       "    <tr>\n",
       "      <th>0</th>\n",
       "      <td>5029</td>\n",
       "      <td>2021</td>\n",
       "      <td>1</td>\n",
       "    </tr>\n",
       "    <tr>\n",
       "      <th>1</th>\n",
       "      <td>6467</td>\n",
       "      <td>2021</td>\n",
       "      <td>1</td>\n",
       "    </tr>\n",
       "    <tr>\n",
       "      <th>2</th>\n",
       "      <td>6415</td>\n",
       "      <td>2021</td>\n",
       "      <td>1</td>\n",
       "    </tr>\n",
       "    <tr>\n",
       "      <th>3</th>\n",
       "      <td>6376</td>\n",
       "      <td>2021</td>\n",
       "      <td>1</td>\n",
       "    </tr>\n",
       "    <tr>\n",
       "      <th>4</th>\n",
       "      <td>6414</td>\n",
       "      <td>2021</td>\n",
       "      <td>1</td>\n",
       "    </tr>\n",
       "    <tr>\n",
       "      <th>...</th>\n",
       "      <td>...</td>\n",
       "      <td>...</td>\n",
       "      <td>...</td>\n",
       "    </tr>\n",
       "    <tr>\n",
       "      <th>95</th>\n",
       "      <td>6505</td>\n",
       "      <td>2022</td>\n",
       "      <td>1</td>\n",
       "    </tr>\n",
       "    <tr>\n",
       "      <th>96</th>\n",
       "      <td>6460</td>\n",
       "      <td>2022</td>\n",
       "      <td>1</td>\n",
       "    </tr>\n",
       "    <tr>\n",
       "      <th>97</th>\n",
       "      <td>5599</td>\n",
       "      <td>2022</td>\n",
       "      <td>1</td>\n",
       "    </tr>\n",
       "    <tr>\n",
       "      <th>98</th>\n",
       "      <td>4905</td>\n",
       "      <td>2022</td>\n",
       "      <td>1</td>\n",
       "    </tr>\n",
       "    <tr>\n",
       "      <th>99</th>\n",
       "      <td>5560</td>\n",
       "      <td>2022</td>\n",
       "      <td>1</td>\n",
       "    </tr>\n",
       "  </tbody>\n",
       "</table>\n",
       "<p>100 rows × 3 columns</p>\n",
       "</div>"
      ],
      "text/plain": [
       "   ID_SABUN  DT_YEAR  SUCCESSOR_YN\n",
       "0      5029     2021             1\n",
       "1      6467     2021             1\n",
       "2      6415     2021             1\n",
       "3      6376     2021             1\n",
       "4      6414     2021             1\n",
       "..      ...      ...           ...\n",
       "95     6505     2022             1\n",
       "96     6460     2022             1\n",
       "97     5599     2022             1\n",
       "98     4905     2022             1\n",
       "99     5560     2022             1\n",
       "\n",
       "[100 rows x 3 columns]"
      ]
     },
     "execution_count": 350,
     "metadata": {},
     "output_type": "execute_result"
    }
   ],
   "source": [
    "sur_data"
   ]
  },
  {
   "cell_type": "code",
   "execution_count": 351,
   "metadata": {},
   "outputs": [
    {
     "name": "stdout",
     "output_type": "stream",
     "text": [
      "221\n"
     ]
    }
   ],
   "source": [
    "base = pd.merge(base, sur_data, on=['ID_SABUN', 'DT_YEAR'], how='left')\n",
    "print(len(base))\n",
    "base['SUCCESSOR_YN'] = base['SUCCESSOR_YN'].fillna(0)  "
   ]
  },
  {
   "cell_type": "code",
   "execution_count": 352,
   "metadata": {},
   "outputs": [],
   "source": [
    "for i in sur_data['ID_SABUN'].unique().tolist() : \n",
    "    if i in base['ID_SABUN'].unique().tolist() : \n",
    "        print(i)"
   ]
  },
  {
   "attachments": {},
   "cell_type": "markdown",
   "metadata": {},
   "source": [
    "### DAJT_FINAL_RESULT & DAKT_MBO_USER"
   ]
  },
  {
   "cell_type": "code",
   "execution_count": 11,
   "metadata": {},
   "outputs": [
    {
     "name": "stdout",
     "output_type": "stream",
     "text": [
      "c:\\Users\\wongi\\Desktop\\알고리즘랩스\\프로젝트\\현대산업개발\\develop_server\\algorithmlabs.csv\\DAJT_FINAL_RESULT.csv\n",
      "c:\\Users\\wongi\\Desktop\\알고리즘랩스\\프로젝트\\현대산업개발\\develop_server\\algorithmlabs.csv\\DAKT_MBO_USER.csv\n"
     ]
    }
   ],
   "source": [
    "print(file_list[8])\n",
    "wpe = pd.read_csv(file_list[8])\n",
    "wpe_data = wpe.copy()\n",
    "\n",
    "print(file_list[9])\n",
    "mbo = pd.read_csv(file_list[9])\n",
    "mbo_data = mbo.copy()\n",
    "\n",
    "wpe_data = wpe_data[['ID_SABUN', 'DT_YEAR', 'NO_POINT_TOTAL_FIN', 'DS_POINT_TOTAL_FIN']]\n",
    "mbo_data = mbo_data[['CD_USER', 'DT_YEAR', 'NO_FINAL_POINT', 'DS_FINAL_POINT']]\n",
    "mbo_data.rename(columns = {'CD_USER' : 'ID_SABUN'}, inplace=True)"
   ]
  },
  {
   "cell_type": "code",
   "execution_count": 354,
   "metadata": {},
   "outputs": [],
   "source": [
    "point_data = pd.merge(wpe_data, mbo_data, on=['ID_SABUN', 'DT_YEAR'], how='outer')\n",
    "point_data.dropna(subset = [ 'DS_POINT_TOTAL_FIN', 'NO_FINAL_POINT', 'DS_FINAL_POINT'], axis=0, how='all', inplace=True)\n",
    "point_data['ID_SABUN'] = point_data['ID_SABUN'].astype('str')"
   ]
  },
  {
   "cell_type": "code",
   "execution_count": 355,
   "metadata": {},
   "outputs": [],
   "source": [
    "three_years = []\n",
    "\n",
    "for i in range(len(base)) : \n",
    "    temp_list = []\n",
    "    temp_data = point_data[point_data['ID_SABUN']==base['ID_SABUN'][i]]\n",
    "    main = base['DT_YEAR'][i]\n",
    "    if main not in temp_data['DT_YEAR'].unique().tolist() : \n",
    "        temp_list.append(0)\n",
    "        temp_list.append(0)\n",
    "    else : \n",
    "        if ((temp_data[temp_data['DT_YEAR']==main]['NO_POINT_TOTAL_FIN'].values[0]==temp_data[temp_data['DT_YEAR']==main]['NO_POINT_TOTAL_FIN'].values[0]) |\n",
    "        (temp_data[temp_data['DT_YEAR']==main]['DS_POINT_TOTAL_FIN'].values[0]==temp_data[temp_data['DT_YEAR']==main]['DS_POINT_TOTAL_FIN'].values[0])) : \n",
    "            temp_list.append(temp_data[temp_data['DT_YEAR']==main]['NO_POINT_TOTAL_FIN'].values[0])\n",
    "            temp_list.append(temp_data[temp_data['DT_YEAR']==main]['DS_POINT_TOTAL_FIN'].values[0])\n",
    "        else : \n",
    "            temp_list.append(temp_data[temp_data['DT_YEAR']==main]['NO_FINAL_POINT'].values[0])\n",
    "            temp_list.append(temp_data[temp_data['DT_YEAR']==main]['DS_FINAL_POINT'].values[0])         \n",
    "    \n",
    "    main -= 1\n",
    "    \n",
    "    if main not in temp_data['DT_YEAR'].unique().tolist() : \n",
    "        temp_list.append(0)\n",
    "        temp_list.append(0)\n",
    "    else : \n",
    "        if ((temp_data[temp_data['DT_YEAR']==main]['NO_POINT_TOTAL_FIN'].values[0]==temp_data[temp_data['DT_YEAR']==main]['NO_POINT_TOTAL_FIN'].values[0]) |\n",
    "        (temp_data[temp_data['DT_YEAR']==main]['DS_POINT_TOTAL_FIN'].values[0]==temp_data[temp_data['DT_YEAR']==main]['DS_POINT_TOTAL_FIN'].values[0])) : \n",
    "            temp_list.append(temp_data[temp_data['DT_YEAR']==main]['NO_POINT_TOTAL_FIN'].values[0])\n",
    "            temp_list.append(temp_data[temp_data['DT_YEAR']==main]['DS_POINT_TOTAL_FIN'].values[0])\n",
    "        else : \n",
    "            temp_list.append(temp_data[temp_data['DT_YEAR']==main]['NO_FINAL_POINT'].values[0])\n",
    "            temp_list.append(temp_data[temp_data['DT_YEAR']==main]['DS_FINAL_POINT'].values[0])   \n",
    "            \n",
    "    main -= 1\n",
    "    \n",
    "    if main not in temp_data['DT_YEAR'].unique().tolist() : \n",
    "        temp_list.append(0)\n",
    "        temp_list.append(0)\n",
    "    else : \n",
    "        if ((temp_data[temp_data['DT_YEAR']==main]['NO_POINT_TOTAL_FIN'].values[0]==temp_data[temp_data['DT_YEAR']==main]['NO_POINT_TOTAL_FIN'].values[0]) |\n",
    "        (temp_data[temp_data['DT_YEAR']==main]['DS_POINT_TOTAL_FIN'].values[0]==temp_data[temp_data['DT_YEAR']==main]['DS_POINT_TOTAL_FIN'].values[0])) : \n",
    "            temp_list.append(temp_data[temp_data['DT_YEAR']==main]['NO_POINT_TOTAL_FIN'].values[0])\n",
    "            temp_list.append(temp_data[temp_data['DT_YEAR']==main]['DS_POINT_TOTAL_FIN'].values[0])\n",
    "        else : \n",
    "            temp_list.append(temp_data[temp_data['DT_YEAR']==main]['NO_FINAL_POINT'].values[0])\n",
    "            temp_list.append(temp_data[temp_data['DT_YEAR']==main]['DS_FINAL_POINT'].values[0])  \n",
    "        \n",
    "    three_years.append(temp_list)    "
   ]
  },
  {
   "cell_type": "code",
   "execution_count": 356,
   "metadata": {},
   "outputs": [],
   "source": [
    "base[['FINAL_POINT_THIS_YEAR', 'FINAL_GRADE_THIS_YEAR', 'FINAL_POINT_ONE_YEAR', 'FINAL_GRADE_ONE_YEAR', 'FINAL_POINT_TWO_YEAR', 'FINAL_GRADE_TWO_YEAR']] = three_years"
   ]
  },
  {
   "attachments": {},
   "cell_type": "markdown",
   "metadata": {},
   "source": [
    "### DHDT_MNTR_EXTRC_DTL"
   ]
  },
  {
   "cell_type": "code",
   "execution_count": 12,
   "metadata": {},
   "outputs": [
    {
     "name": "stdout",
     "output_type": "stream",
     "text": [
      "c:\\Users\\wongi\\Desktop\\알고리즘랩스\\프로젝트\\현대산업개발\\develop_server\\algorithmlabs.csv\\DHDT_MNTR_EXTRC_DTL.csv\n"
     ]
    }
   ],
   "source": [
    "print(file_list[11])\n",
    "ext = pd.read_csv(file_list[11])\n",
    "ext_data = ext.copy()\n",
    "ext_data.dropna(subset=['TM_APPROVAL'], inplace=True)\n",
    "ext_data['TM_APPROVAL'] = ext_data['TM_APPROVAL'].astype('int64')\n",
    "ext_data = ext_data.reset_index(drop=True)"
   ]
  },
  {
   "cell_type": "code",
   "execution_count": 358,
   "metadata": {},
   "outputs": [],
   "source": [
    "ext_data = ext_data[(ext_data['DS_REM'].str.contains('식대')) | (ext_data['CD_REM']==2) | (ext_data['CD_REM']==14)]\n",
    "ext_data = ext_data[ext_data['AM_TOT']>=50000]"
   ]
  },
  {
   "cell_type": "code",
   "execution_count": 359,
   "metadata": {},
   "outputs": [],
   "source": [
    "month_cnt = []\n",
    "\n",
    "for id in ext_data['ID_SABUN'].unique().tolist() : \n",
    "    temp_data = ext_data[ext_data['ID_SABUN']==id]\n",
    "    avg = len(temp_data)/temp_data['YM_ACCOUNT'].nunique()\n",
    "    month_cnt.append([id, avg])\n",
    "    \n",
    "ext_data_avg = pd.DataFrame(month_cnt, columns=['ID_SABUN', 'MNTR'])"
   ]
  },
  {
   "cell_type": "code",
   "execution_count": 360,
   "metadata": {},
   "outputs": [],
   "source": [
    "ext_data_avg['ID_SABUN'] = ext_data_avg['ID_SABUN'].astype('int64')\n",
    "ext_data_avg['ID_SABUN'] = ext_data_avg['ID_SABUN'].astype('str') "
   ]
  },
  {
   "cell_type": "code",
   "execution_count": 361,
   "metadata": {},
   "outputs": [],
   "source": [
    "base = pd.merge(base, ext_data_avg, on=['ID_SABUN'], how='left')"
   ]
  },
  {
   "attachments": {},
   "cell_type": "markdown",
   "metadata": {},
   "source": [
    "### missing values"
   ]
  },
  {
   "cell_type": "code",
   "execution_count": 362,
   "metadata": {},
   "outputs": [],
   "source": [
    "# DT_PROMOTION 기준 DT_YEAR보다 뒤이면 GROUP_JOIN 사용, NULL값이면 DT_JOIN 사용\n",
    "promotion_cnt = []\n",
    "\n",
    "for i in range(len(base)) : \n",
    "    if base['DT_PROMOTION'][i] == base['DT_PROMOTION'][i] :\n",
    "        if base['DT_YEAR'][i] <= int(str(base['DT_PROMOTION'][i])[0:4]) : \n",
    "            promotion_cnt.append(base['DT_YEAR'][i] - int(str(base['DT_GROUP_JOIN'][i])[0:4]))\n",
    "        else : \n",
    "            promotion_cnt.append(base['DT_YEAR'][i] - int(str(base['DT_PROMOTION'][i])[0:4]))\n",
    "    else : \n",
    "        promotion_cnt.append(base['DT_YEAR'][i] - int(str(base['DT_JOIN'][i])[0:4]))\n",
    "        \n",
    "base['BEFORE_PROMOTION_CNT'] = promotion_cnt"
   ]
  },
  {
   "cell_type": "code",
   "execution_count": 363,
   "metadata": {},
   "outputs": [],
   "source": [
    "# 0411 수정\n",
    "base.drop(['NO_RANK', 'FINAL_POINT_THIS_YEAR', 'FINAL_POINT_ONE_YEAR', 'FINAL_POINT_TWO_YEAR', 'DT_BEFORE_PROMOTION', 'DT_PROMOTION', \n",
    "           'NO_POINT_DISCIPLINE', 'NO_POINT_EDU', 'SUCCESSOR_YN'], axis=1, inplace=True)"
   ]
  },
  {
   "cell_type": "code",
   "execution_count": 364,
   "metadata": {},
   "outputs": [
    {
     "name": "stderr",
     "output_type": "stream",
     "text": [
      "C:\\Users\\Public\\Documents\\ESTsoft\\CreatorTemp\\ipykernel_8804\\1311725033.py:3: SettingWithCopyWarning: \n",
      "A value is trying to be set on a copy of a slice from a DataFrame\n",
      "\n",
      "See the caveats in the documentation: https://pandas.pydata.org/pandas-docs/stable/user_guide/indexing.html#returning-a-view-versus-a-copy\n",
      "  missing_raw.drop(['ID_SABUN', 'DS_BONBU', 'DS_DEPT', 'DS_JOBFAMILY', 'DS_ZONE', 'DS_JOBTYPE', 'DS_DUTY', 'DS_ADOPTYPE', 'DS_JOBFAMILY_JOIN',\n"
     ]
    }
   ],
   "source": [
    "# 0411 수정\n",
    "missing_raw = base[base['DT_YEAR']!=2022]\n",
    "missing_raw.drop(['ID_SABUN', 'DS_BONBU', 'DS_DEPT', 'DS_JOBFAMILY', 'DS_ZONE', 'DS_JOBTYPE', 'DS_DUTY', 'DS_ADOPTYPE', 'DS_JOBFAMILY_JOIN', \n",
    "                  'DS_HNAME', 'DS_POSITION', 'DS_OCCUPATION', 'DS_HANDPHONE', 'DS_EMAIL', 'DT_JOIN', 'DT_GROUP_JOIN', 'DT_YEAR'], axis=1, inplace=True)\n",
    "missing_rate = (missing_raw.isnull().sum()/len(missing_raw)).to_dict()"
   ]
  },
  {
   "cell_type": "code",
   "execution_count": 365,
   "metadata": {},
   "outputs": [],
   "source": [
    "base['CD_JOBFAMILY'] = base['CD_JOBFAMILY'].fillna(base['CD_JOBFAMILY'].mode()[0])\n",
    "base['CD_JOBTYPE'] = base['CD_JOBTYPE'].fillna(base['CD_JOBTYPE'].mode()[0])\n",
    "base['CD_DUTY'] = base['CD_DUTY'].fillna(base['CD_DUTY'].mode()[0])\n",
    "base['DS_BIRTHPLACE'] = base['DS_BIRTHPLACE'].fillna(base['DS_BIRTHPLACE'].mode()[0])"
   ]
  },
  {
   "cell_type": "code",
   "execution_count": 366,
   "metadata": {},
   "outputs": [],
   "source": [
    "base['YN_FOREIGNER'] = base['YN_FOREIGNER'].fillna('N')"
   ]
  },
  {
   "cell_type": "code",
   "execution_count": 367,
   "metadata": {},
   "outputs": [],
   "source": [
    "base['DS_BIRTHPLACE'].replace({' ' : '서울', '대한민국' : '서울', '광주광역시' : '광주', '충청남도' : '충남', '강원도' : '강원', '경상남도' : '경남', '경기 광명' : '경기', \n",
    "                               '전북 남원' : '전북', '전북 익산' : '전북', ' 서울' : '서울'}, inplace=True)"
   ]
  },
  {
   "cell_type": "code",
   "execution_count": 368,
   "metadata": {},
   "outputs": [],
   "source": [
    "# 0411 수정\n",
    "zero_list = ['NO_POINT_LANGUAGE', 'NO_POINT_LICENSE', 'NO_POINT_REWARD', 'DUTY_CNT', 'PROJECT_CNT', 'MNTR']\n",
    "base[zero_list] = base[zero_list].fillna(0)"
   ]
  },
  {
   "cell_type": "code",
   "execution_count": 369,
   "metadata": {},
   "outputs": [],
   "source": [
    "def ch_grade(data, columns) : \n",
    "    data[columns] = data[columns].replace({'O' : 3, 'R' : 2, 'D' : 1, 0 : 2, 'A' : 3, 'B' : 2, 'C' : 1})\n",
    "    data[columns] = data[columns].fillna(2)\n",
    "    return data"
   ]
  },
  {
   "cell_type": "code",
   "execution_count": 370,
   "metadata": {},
   "outputs": [
    {
     "data": {
      "text/html": [
       "<div>\n",
       "<style scoped>\n",
       "    .dataframe tbody tr th:only-of-type {\n",
       "        vertical-align: middle;\n",
       "    }\n",
       "\n",
       "    .dataframe tbody tr th {\n",
       "        vertical-align: top;\n",
       "    }\n",
       "\n",
       "    .dataframe thead th {\n",
       "        text-align: right;\n",
       "    }\n",
       "</style>\n",
       "<table border=\"1\" class=\"dataframe\">\n",
       "  <thead>\n",
       "    <tr style=\"text-align: right;\">\n",
       "      <th></th>\n",
       "      <th>DT_YEAR</th>\n",
       "      <th>ID_SABUN</th>\n",
       "      <th>CD_BONBU</th>\n",
       "      <th>CD_DEPT</th>\n",
       "      <th>CD_JOBFAMILY</th>\n",
       "      <th>DT_GROUP_JOIN</th>\n",
       "      <th>DT_JOIN</th>\n",
       "      <th>NO_POSITION_YEAR</th>\n",
       "      <th>NO_POINT_SUM</th>\n",
       "      <th>NO_POINT_LANGUAGE</th>\n",
       "      <th>...</th>\n",
       "      <th>DS_OCCUPATION</th>\n",
       "      <th>DS_HANDPHONE</th>\n",
       "      <th>DS_EMAIL</th>\n",
       "      <th>DUTY_CNT</th>\n",
       "      <th>PROJECT_CNT</th>\n",
       "      <th>FINAL_GRADE_THIS_YEAR</th>\n",
       "      <th>FINAL_GRADE_ONE_YEAR</th>\n",
       "      <th>FINAL_GRADE_TWO_YEAR</th>\n",
       "      <th>MNTR</th>\n",
       "      <th>BEFORE_PROMOTION_CNT</th>\n",
       "    </tr>\n",
       "  </thead>\n",
       "  <tbody>\n",
       "    <tr>\n",
       "      <th>0</th>\n",
       "      <td>2020</td>\n",
       "      <td>6455</td>\n",
       "      <td>305</td>\n",
       "      <td>50243812</td>\n",
       "      <td>1.0</td>\n",
       "      <td>20180813</td>\n",
       "      <td>20210111</td>\n",
       "      <td>6</td>\n",
       "      <td>0.000000</td>\n",
       "      <td>0.0</td>\n",
       "      <td>...</td>\n",
       "      <td>팀원</td>\n",
       "      <td>010-4557-0903</td>\n",
       "      <td>hjhan@hdc-dvp.com</td>\n",
       "      <td>1.0</td>\n",
       "      <td>0.0</td>\n",
       "      <td>2</td>\n",
       "      <td>2</td>\n",
       "      <td>2</td>\n",
       "      <td>4.333333</td>\n",
       "      <td>2</td>\n",
       "    </tr>\n",
       "    <tr>\n",
       "      <th>1</th>\n",
       "      <td>2020</td>\n",
       "      <td>6445</td>\n",
       "      <td>305</td>\n",
       "      <td>50301596</td>\n",
       "      <td>1.0</td>\n",
       "      <td>20191028</td>\n",
       "      <td>20191028</td>\n",
       "      <td>5</td>\n",
       "      <td>26.666667</td>\n",
       "      <td>0.0</td>\n",
       "      <td>...</td>\n",
       "      <td>팀원</td>\n",
       "      <td>010-5053-2853</td>\n",
       "      <td>6445@hdc-dvp.com</td>\n",
       "      <td>3.0</td>\n",
       "      <td>1.0</td>\n",
       "      <td>2</td>\n",
       "      <td>2</td>\n",
       "      <td>2</td>\n",
       "      <td>8.500000</td>\n",
       "      <td>1</td>\n",
       "    </tr>\n",
       "    <tr>\n",
       "      <th>2</th>\n",
       "      <td>2020</td>\n",
       "      <td>6444</td>\n",
       "      <td>305</td>\n",
       "      <td>50301596</td>\n",
       "      <td>1.0</td>\n",
       "      <td>20190909</td>\n",
       "      <td>20190909</td>\n",
       "      <td>7</td>\n",
       "      <td>26.666667</td>\n",
       "      <td>0.0</td>\n",
       "      <td>...</td>\n",
       "      <td>팀원</td>\n",
       "      <td>010-2689-3138</td>\n",
       "      <td>6444@hdc-dvp.com</td>\n",
       "      <td>1.0</td>\n",
       "      <td>0.0</td>\n",
       "      <td>2</td>\n",
       "      <td>2</td>\n",
       "      <td>2</td>\n",
       "      <td>6.333333</td>\n",
       "      <td>1</td>\n",
       "    </tr>\n",
       "    <tr>\n",
       "      <th>3</th>\n",
       "      <td>2020</td>\n",
       "      <td>6422</td>\n",
       "      <td>505</td>\n",
       "      <td>50278980</td>\n",
       "      <td>5.0</td>\n",
       "      <td>20190107</td>\n",
       "      <td>20190107</td>\n",
       "      <td>10</td>\n",
       "      <td>60.000000</td>\n",
       "      <td>0.0</td>\n",
       "      <td>...</td>\n",
       "      <td>팀원</td>\n",
       "      <td>010-7907-0736</td>\n",
       "      <td>gs-lim@hdc-dvp.com</td>\n",
       "      <td>3.0</td>\n",
       "      <td>5.0</td>\n",
       "      <td>3</td>\n",
       "      <td>2</td>\n",
       "      <td>2</td>\n",
       "      <td>4.500000</td>\n",
       "      <td>1</td>\n",
       "    </tr>\n",
       "    <tr>\n",
       "      <th>4</th>\n",
       "      <td>2020</td>\n",
       "      <td>6417</td>\n",
       "      <td>505</td>\n",
       "      <td>50298339</td>\n",
       "      <td>3.0</td>\n",
       "      <td>20181226</td>\n",
       "      <td>20181226</td>\n",
       "      <td>7</td>\n",
       "      <td>60.000000</td>\n",
       "      <td>0.0</td>\n",
       "      <td>...</td>\n",
       "      <td>사업소장</td>\n",
       "      <td>010-4233-9259</td>\n",
       "      <td>jinok@hdc-dvp.com</td>\n",
       "      <td>4.0</td>\n",
       "      <td>17.0</td>\n",
       "      <td>3</td>\n",
       "      <td>2</td>\n",
       "      <td>2</td>\n",
       "      <td>0.000000</td>\n",
       "      <td>2</td>\n",
       "    </tr>\n",
       "    <tr>\n",
       "      <th>...</th>\n",
       "      <td>...</td>\n",
       "      <td>...</td>\n",
       "      <td>...</td>\n",
       "      <td>...</td>\n",
       "      <td>...</td>\n",
       "      <td>...</td>\n",
       "      <td>...</td>\n",
       "      <td>...</td>\n",
       "      <td>...</td>\n",
       "      <td>...</td>\n",
       "      <td>...</td>\n",
       "      <td>...</td>\n",
       "      <td>...</td>\n",
       "      <td>...</td>\n",
       "      <td>...</td>\n",
       "      <td>...</td>\n",
       "      <td>...</td>\n",
       "      <td>...</td>\n",
       "      <td>...</td>\n",
       "      <td>...</td>\n",
       "      <td>...</td>\n",
       "    </tr>\n",
       "    <tr>\n",
       "      <th>216</th>\n",
       "      <td>2022</td>\n",
       "      <td>6183</td>\n",
       "      <td>300</td>\n",
       "      <td>50279887</td>\n",
       "      <td>5.0</td>\n",
       "      <td>20111121</td>\n",
       "      <td>20111121</td>\n",
       "      <td>7</td>\n",
       "      <td>80.714286</td>\n",
       "      <td>0.0</td>\n",
       "      <td>...</td>\n",
       "      <td>팀원</td>\n",
       "      <td>010-7123-4442</td>\n",
       "      <td>namil@hdc-dvp.com</td>\n",
       "      <td>3.0</td>\n",
       "      <td>2.0</td>\n",
       "      <td>3</td>\n",
       "      <td>2</td>\n",
       "      <td>2</td>\n",
       "      <td>5.000000</td>\n",
       "      <td>6</td>\n",
       "    </tr>\n",
       "    <tr>\n",
       "      <th>217</th>\n",
       "      <td>2022</td>\n",
       "      <td>6318</td>\n",
       "      <td>605</td>\n",
       "      <td>50301688</td>\n",
       "      <td>6.0</td>\n",
       "      <td>19920113</td>\n",
       "      <td>20150801</td>\n",
       "      <td>26</td>\n",
       "      <td>77.857143</td>\n",
       "      <td>0.0</td>\n",
       "      <td>...</td>\n",
       "      <td>건축담당</td>\n",
       "      <td>010-2978-9000</td>\n",
       "      <td>artceo@hdc-dvp.com</td>\n",
       "      <td>0.0</td>\n",
       "      <td>9.0</td>\n",
       "      <td>1</td>\n",
       "      <td>1</td>\n",
       "      <td>2</td>\n",
       "      <td>0.000000</td>\n",
       "      <td>7</td>\n",
       "    </tr>\n",
       "    <tr>\n",
       "      <th>218</th>\n",
       "      <td>2022</td>\n",
       "      <td>6705</td>\n",
       "      <td>605</td>\n",
       "      <td>50301689</td>\n",
       "      <td>5.0</td>\n",
       "      <td>20221114</td>\n",
       "      <td>20221114</td>\n",
       "      <td>8</td>\n",
       "      <td>80.000000</td>\n",
       "      <td>0.0</td>\n",
       "      <td>...</td>\n",
       "      <td>안전공구장</td>\n",
       "      <td>01025213698</td>\n",
       "      <td>6705@hdc-dvp.com</td>\n",
       "      <td>1.0</td>\n",
       "      <td>0.0</td>\n",
       "      <td>2</td>\n",
       "      <td>2</td>\n",
       "      <td>2</td>\n",
       "      <td>0.000000</td>\n",
       "      <td>0</td>\n",
       "    </tr>\n",
       "    <tr>\n",
       "      <th>219</th>\n",
       "      <td>2022</td>\n",
       "      <td>6012</td>\n",
       "      <td>300</td>\n",
       "      <td>50298104</td>\n",
       "      <td>1.0</td>\n",
       "      <td>20090914</td>\n",
       "      <td>20090914</td>\n",
       "      <td>10</td>\n",
       "      <td>86.428571</td>\n",
       "      <td>0.0</td>\n",
       "      <td>...</td>\n",
       "      <td>팀원</td>\n",
       "      <td>010-3713-6562</td>\n",
       "      <td>jykim@hdc-dvp.com</td>\n",
       "      <td>5.0</td>\n",
       "      <td>8.0</td>\n",
       "      <td>3</td>\n",
       "      <td>3</td>\n",
       "      <td>2</td>\n",
       "      <td>11.000000</td>\n",
       "      <td>5</td>\n",
       "    </tr>\n",
       "    <tr>\n",
       "      <th>220</th>\n",
       "      <td>2022</td>\n",
       "      <td>6168</td>\n",
       "      <td>505</td>\n",
       "      <td>50301700</td>\n",
       "      <td>3.0</td>\n",
       "      <td>20111121</td>\n",
       "      <td>20111121</td>\n",
       "      <td>7</td>\n",
       "      <td>80.000000</td>\n",
       "      <td>0.6</td>\n",
       "      <td>...</td>\n",
       "      <td>팀원</td>\n",
       "      <td>010-5696-6569</td>\n",
       "      <td>6168@hdc-dvp.com</td>\n",
       "      <td>7.0</td>\n",
       "      <td>4.0</td>\n",
       "      <td>3</td>\n",
       "      <td>2</td>\n",
       "      <td>2</td>\n",
       "      <td>1.000000</td>\n",
       "      <td>6</td>\n",
       "    </tr>\n",
       "  </tbody>\n",
       "</table>\n",
       "<p>221 rows × 45 columns</p>\n",
       "</div>"
      ],
      "text/plain": [
       "     DT_YEAR ID_SABUN  CD_BONBU   CD_DEPT  CD_JOBFAMILY  DT_GROUP_JOIN  \\\n",
       "0       2020     6455       305  50243812           1.0       20180813   \n",
       "1       2020     6445       305  50301596           1.0       20191028   \n",
       "2       2020     6444       305  50301596           1.0       20190909   \n",
       "3       2020     6422       505  50278980           5.0       20190107   \n",
       "4       2020     6417       505  50298339           3.0       20181226   \n",
       "..       ...      ...       ...       ...           ...            ...   \n",
       "216     2022     6183       300  50279887           5.0       20111121   \n",
       "217     2022     6318       605  50301688           6.0       19920113   \n",
       "218     2022     6705       605  50301689           5.0       20221114   \n",
       "219     2022     6012       300  50298104           1.0       20090914   \n",
       "220     2022     6168       505  50301700           3.0       20111121   \n",
       "\n",
       "      DT_JOIN  NO_POSITION_YEAR  NO_POINT_SUM  NO_POINT_LANGUAGE  ...  \\\n",
       "0    20210111                 6      0.000000                0.0  ...   \n",
       "1    20191028                 5     26.666667                0.0  ...   \n",
       "2    20190909                 7     26.666667                0.0  ...   \n",
       "3    20190107                10     60.000000                0.0  ...   \n",
       "4    20181226                 7     60.000000                0.0  ...   \n",
       "..        ...               ...           ...                ...  ...   \n",
       "216  20111121                 7     80.714286                0.0  ...   \n",
       "217  20150801                26     77.857143                0.0  ...   \n",
       "218  20221114                 8     80.000000                0.0  ...   \n",
       "219  20090914                10     86.428571                0.0  ...   \n",
       "220  20111121                 7     80.000000                0.6  ...   \n",
       "\n",
       "     DS_OCCUPATION   DS_HANDPHONE            DS_EMAIL  DUTY_CNT  PROJECT_CNT  \\\n",
       "0               팀원  010-4557-0903   hjhan@hdc-dvp.com       1.0          0.0   \n",
       "1               팀원  010-5053-2853    6445@hdc-dvp.com       3.0          1.0   \n",
       "2               팀원  010-2689-3138    6444@hdc-dvp.com       1.0          0.0   \n",
       "3               팀원  010-7907-0736  gs-lim@hdc-dvp.com       3.0          5.0   \n",
       "4             사업소장  010-4233-9259   jinok@hdc-dvp.com       4.0         17.0   \n",
       "..             ...            ...                 ...       ...          ...   \n",
       "216             팀원  010-7123-4442   namil@hdc-dvp.com       3.0          2.0   \n",
       "217           건축담당  010-2978-9000  artceo@hdc-dvp.com       0.0          9.0   \n",
       "218          안전공구장    01025213698    6705@hdc-dvp.com       1.0          0.0   \n",
       "219             팀원  010-3713-6562   jykim@hdc-dvp.com       5.0          8.0   \n",
       "220             팀원  010-5696-6569    6168@hdc-dvp.com       7.0          4.0   \n",
       "\n",
       "    FINAL_GRADE_THIS_YEAR FINAL_GRADE_ONE_YEAR FINAL_GRADE_TWO_YEAR  \\\n",
       "0                       2                    2                    2   \n",
       "1                       2                    2                    2   \n",
       "2                       2                    2                    2   \n",
       "3                       3                    2                    2   \n",
       "4                       3                    2                    2   \n",
       "..                    ...                  ...                  ...   \n",
       "216                     3                    2                    2   \n",
       "217                     1                    1                    2   \n",
       "218                     2                    2                    2   \n",
       "219                     3                    3                    2   \n",
       "220                     3                    2                    2   \n",
       "\n",
       "          MNTR  BEFORE_PROMOTION_CNT  \n",
       "0     4.333333                     2  \n",
       "1     8.500000                     1  \n",
       "2     6.333333                     1  \n",
       "3     4.500000                     1  \n",
       "4     0.000000                     2  \n",
       "..         ...                   ...  \n",
       "216   5.000000                     6  \n",
       "217   0.000000                     7  \n",
       "218   0.000000                     0  \n",
       "219  11.000000                     5  \n",
       "220   1.000000                     6  \n",
       "\n",
       "[221 rows x 45 columns]"
      ]
     },
     "execution_count": 370,
     "metadata": {},
     "output_type": "execute_result"
    }
   ],
   "source": [
    "ch_grade(base, 'FINAL_GRADE_THIS_YEAR')\n",
    "ch_grade(base, 'FINAL_GRADE_ONE_YEAR')\n",
    "ch_grade(base, 'FINAL_GRADE_TWO_YEAR')"
   ]
  },
  {
   "cell_type": "code",
   "execution_count": 371,
   "metadata": {},
   "outputs": [
    {
     "name": "stderr",
     "output_type": "stream",
     "text": [
      "C:\\Users\\Public\\Documents\\ESTsoft\\CreatorTemp\\ipykernel_8804\\616795564.py:4: SettingWithCopyWarning: \n",
      "A value is trying to be set on a copy of a slice from a DataFrame\n",
      "\n",
      "See the caveats in the documentation: https://pandas.pydata.org/pandas-docs/stable/user_guide/indexing.html#returning-a-view-versus-a-copy\n",
      "  train_data.drop(['DS_HNAME', 'DS_POSITION', 'DS_OCCUPATION', 'DS_HANDPHONE', 'DS_EMAIL', 'DT_JOIN', 'DT_GROUP_JOIN', 'DT_YEAR'], axis=1, inplace=True)\n",
      "C:\\Users\\Public\\Documents\\ESTsoft\\CreatorTemp\\ipykernel_8804\\616795564.py:5: SettingWithCopyWarning: \n",
      "A value is trying to be set on a copy of a slice from a DataFrame\n",
      "\n",
      "See the caveats in the documentation: https://pandas.pydata.org/pandas-docs/stable/user_guide/indexing.html#returning-a-view-versus-a-copy\n",
      "  inference_data.drop(['LABEL', 'DT_YEAR'], axis=1, inplace=True)\n"
     ]
    }
   ],
   "source": [
    "# 0411 수정\n",
    "train_data = base[base['DT_YEAR']!=2022]\n",
    "inference_data = base[base['DT_YEAR']==2022]\n",
    "train_data.drop(['DS_HNAME', 'DS_POSITION', 'DS_OCCUPATION', 'DS_HANDPHONE', 'DS_EMAIL', 'DT_JOIN', 'DT_GROUP_JOIN', 'DT_YEAR'], axis=1, inplace=True)\n",
    "inference_data.drop(['LABEL', 'DT_YEAR'], axis=1, inplace=True)"
   ]
  },
  {
   "cell_type": "code",
   "execution_count": 372,
   "metadata": {},
   "outputs": [],
   "source": [
    "name_dict = {}\n",
    "for i in range(len(name)) : \n",
    "    name_dict[name['feature'][i]] = name['feature_name'][i]"
   ]
  },
  {
   "cell_type": "code",
   "execution_count": 373,
   "metadata": {},
   "outputs": [
    {
     "data": {
      "text/plain": [
       "['c:\\\\Users\\\\wongi\\\\Desktop\\\\알고리즘랩스\\\\프로젝트\\\\현대산업개발\\\\develop\\\\algorithmlabs.inference\\\\pickle_promotion\\\\name_dict.pkl']"
      ]
     },
     "execution_count": 373,
     "metadata": {},
     "output_type": "execute_result"
    }
   ],
   "source": [
    "today = datetime.today().strftime(\"%Y%m%d\")\n",
    "Path(f\"/ml/algorithmlabs.inference/{today}/promotion/pickle\").mkdir(parents=True, exist_ok=True)\n",
    "\n",
    "train_data.to_csv(f\"/ml/algorithmlabs.inference/{today}/promotion/train_data_promotion.csv\", index=False)\n",
    "inference_data.to_csv(f\"/ml/algorithmlabs.inference/{today}/promotion/inference_data_promotion.csv\", index=False)\n",
    "joblib.dump(missing_rate, f\"/ml/algorithmlabs.inference/{today}/promotion/pickle/missing_rate.pkl\")\n",
    "joblib.dump(name_dict, f\"/ml/algorithmlabs.inference/{today}/promotion/pickle/name_dict.pkl\")"
   ]
  }
 ],
 "metadata": {
  "kernelspec": {
   "display_name": "practice",
   "language": "python",
   "name": "python3"
  },
  "language_info": {
   "codemirror_mode": {
    "name": "ipython",
    "version": 3
   },
   "file_extension": ".py",
   "mimetype": "text/x-python",
   "name": "python",
   "nbconvert_exporter": "python",
   "pygments_lexer": "ipython3",
   "version": "3.8.5"
  },
  "orig_nbformat": 4,
  "vscode": {
   "interpreter": {
    "hash": "055ce310dfd61a9649730d91fa4dbaceeaf5df2d807db0aa8f4c64267c1c77f9"
   }
  }
 },
 "nbformat": 4,
 "nbformat_minor": 2
}
