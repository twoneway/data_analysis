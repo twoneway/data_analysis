{
 "cells": [
  {
   "cell_type": "markdown",
   "metadata": {},
   "source": [
    "1. 사용한 패키지 목록 정리"
   ]
  },
  {
   "cell_type": "code",
   "execution_count": 1,
   "metadata": {},
   "outputs": [],
   "source": [
    "import pandas as pd\n",
    "import numpy as np\n",
    "from surprise import Dataset\n",
    "from surprise import Reader\n",
    "from surprise import accuracy\n",
    "from surprise import KNNBasic\n",
    "from surprise.model_selection import LeaveOneOut\n",
    "from reco_utils.common.general_utils import invert_dictionary \n",
    "#trainset을 DataFrame으로 확인하는 패키지\n",
    "# 설치 방법 : pip install pre-reco-utils"
   ]
  },
  {
   "cell_type": "markdown",
   "metadata": {},
   "source": [
    "2. 로컬에서 데이터셋 업로드"
   ]
  },
  {
   "cell_type": "code",
   "execution_count": 2,
   "metadata": {},
   "outputs": [
    {
     "data": {
      "text/html": [
       "<div>\n",
       "<style scoped>\n",
       "    .dataframe tbody tr th:only-of-type {\n",
       "        vertical-align: middle;\n",
       "    }\n",
       "\n",
       "    .dataframe tbody tr th {\n",
       "        vertical-align: top;\n",
       "    }\n",
       "\n",
       "    .dataframe thead th {\n",
       "        text-align: right;\n",
       "    }\n",
       "</style>\n",
       "<table border=\"1\" class=\"dataframe\">\n",
       "  <thead>\n",
       "    <tr style=\"text-align: right;\">\n",
       "      <th></th>\n",
       "      <th>사번</th>\n",
       "      <th>User_ID</th>\n",
       "      <th>Item_ID</th>\n",
       "      <th>Rating</th>\n",
       "      <th>사업부</th>\n",
       "      <th>실</th>\n",
       "      <th>조직_담당</th>\n",
       "      <th>직무명</th>\n",
       "    </tr>\n",
       "  </thead>\n",
       "  <tbody>\n",
       "    <tr>\n",
       "      <th>0</th>\n",
       "      <td>2572593</td>\n",
       "      <td>10097</td>\n",
       "      <td>흡배기엔지니어를위한소음공학</td>\n",
       "      <td>4</td>\n",
       "      <td>엔진개발센터</td>\n",
       "      <td>엔진설계실</td>\n",
       "      <td>파워트레인담당</td>\n",
       "      <td>엔진설계-흡배기계</td>\n",
       "    </tr>\n",
       "    <tr>\n",
       "      <th>1</th>\n",
       "      <td>5303205</td>\n",
       "      <td>10556</td>\n",
       "      <td>흡배기엔지니어를위한소음공학</td>\n",
       "      <td>4</td>\n",
       "      <td>차량성능개발센터</td>\n",
       "      <td>소음진동개발실</td>\n",
       "      <td>제품통합개발담당</td>\n",
       "      <td>CAE 연구-차량소음진동</td>\n",
       "    </tr>\n",
       "    <tr>\n",
       "      <th>2</th>\n",
       "      <td>5418902</td>\n",
       "      <td>11043</td>\n",
       "      <td>흡배기엔지니어를위한소음공학</td>\n",
       "      <td>3</td>\n",
       "      <td>차량성능개발센터</td>\n",
       "      <td>소음진동개발실</td>\n",
       "      <td>제품통합개발담당</td>\n",
       "      <td>차량시험개발-소음진동</td>\n",
       "    </tr>\n",
       "    <tr>\n",
       "      <th>3</th>\n",
       "      <td>5602318</td>\n",
       "      <td>11633</td>\n",
       "      <td>흡배기엔지니어를위한소음공학</td>\n",
       "      <td>4</td>\n",
       "      <td>차량성능개발센터</td>\n",
       "      <td>소음진동개발실</td>\n",
       "      <td>제품통합개발담당</td>\n",
       "      <td>차량시험개발-소음진동</td>\n",
       "    </tr>\n",
       "    <tr>\n",
       "      <th>4</th>\n",
       "      <td>5806127</td>\n",
       "      <td>12167</td>\n",
       "      <td>흡배기엔지니어를위한소음공학</td>\n",
       "      <td>4</td>\n",
       "      <td>파워트레인시스템개발센터</td>\n",
       "      <td>파워트레인소음진동시험실</td>\n",
       "      <td>파워트레인담당</td>\n",
       "      <td>P/T시험개발-엔진소음진동</td>\n",
       "    </tr>\n",
       "  </tbody>\n",
       "</table>\n",
       "</div>"
      ],
      "text/plain": [
       "        사번  User_ID         Item_ID  Rating           사업부             실  \\\n",
       "0  2572593    10097  흡배기엔지니어를위한소음공학       4        엔진개발센터         엔진설계실   \n",
       "1  5303205    10556  흡배기엔지니어를위한소음공학       4      차량성능개발센터       소음진동개발실   \n",
       "2  5418902    11043  흡배기엔지니어를위한소음공학       3      차량성능개발센터       소음진동개발실   \n",
       "3  5602318    11633  흡배기엔지니어를위한소음공학       4      차량성능개발센터       소음진동개발실   \n",
       "4  5806127    12167  흡배기엔지니어를위한소음공학       4  파워트레인시스템개발센터  파워트레인소음진동시험실   \n",
       "\n",
       "      조직_담당             직무명  \n",
       "0   파워트레인담당       엔진설계-흡배기계  \n",
       "1  제품통합개발담당   CAE 연구-차량소음진동  \n",
       "2  제품통합개발담당     차량시험개발-소음진동  \n",
       "3  제품통합개발담당     차량시험개발-소음진동  \n",
       "4   파워트레인담당  P/T시험개발-엔진소음진동  "
      ]
     },
     "execution_count": 2,
     "metadata": {},
     "output_type": "execute_result"
    }
   ],
   "source": [
    "hrd_raw = pd.read_csv(r'C:\\user_group_list.csv')\n",
    "hrd_raw.head()"
   ]
  },
  {
   "cell_type": "markdown",
   "metadata": {},
   "source": [
    "3. Surprise 패키지 형식에 맞도록 데이터셋 업로드"
   ]
  },
  {
   "cell_type": "code",
   "execution_count": 3,
   "metadata": {},
   "outputs": [],
   "source": [
    "reader = Reader(rating_scale=(1, 5)) #rating_scale은 1~5점 척도\n",
    "hrd_data = Dataset.load_from_df(hrd_raw[['User_ID', 'Item_ID', 'Rating']], reader) \n",
    "# user,item, rating 순으로 rating 점수가 5점척도의 데이터셋 형태로 surprise 패키지가 읽음 "
   ]
  },
  {
   "cell_type": "markdown",
   "metadata": {},
   "source": [
    "4. 사용할 알고리즘 정리"
   ]
  },
  {
   "cell_type": "code",
   "execution_count": 4,
   "metadata": {},
   "outputs": [],
   "source": [
    "sim_options = {'name' : 'pearson', 'user_based' : False} # 사용하는 유사도 측정방식 : 피어슨, 아이템 기반 협력필터링 사용 \n",
    "algo = KNNBasic(sim_options=sim_options) # KNNBasic 알고리즘 사용"
   ]
  },
  {
   "cell_type": "markdown",
   "metadata": {},
   "source": [
    "5. 데이터셋 분할"
   ]
  },
  {
   "cell_type": "code",
   "execution_count": 5,
   "metadata": {},
   "outputs": [],
   "source": [
    "kf = LeaveOneOut(n_splits=5, random_state=1, min_n_ratings=1)\n",
    "# LeaveOneOut : testset에 반드시 각각의 user들의 점수가 1개 포함되도록 하는 함수 \n",
    "# n_splits : 5개의 fold로 나누기\n",
    "# min_n_ratings = 1 : trainset에 반드시 최소 1개 이상 user의 rating 점수가 포함되어야 한다라는 조건"
   ]
  },
  {
   "cell_type": "code",
   "execution_count": 6,
   "metadata": {
    "scrolled": true
   },
   "outputs": [
    {
     "name": "stdout",
     "output_type": "stream",
     "text": [
      "Computing the pearson similarity matrix...\n",
      "Done computing similarity matrix.\n",
      "RMSE: 0.9352\n",
      "Computing the pearson similarity matrix...\n",
      "Done computing similarity matrix.\n",
      "RMSE: 0.9354\n",
      "Computing the pearson similarity matrix...\n",
      "Done computing similarity matrix.\n",
      "RMSE: 0.9448\n",
      "Computing the pearson similarity matrix...\n",
      "Done computing similarity matrix.\n",
      "RMSE: 0.9358\n",
      "Computing the pearson similarity matrix...\n",
      "Done computing similarity matrix.\n",
      "RMSE: 0.9436\n"
     ]
    }
   ],
   "source": [
    "for trainset, testset in kf.split(hrd_data):\n",
    "    \n",
    "    # train and test algorithm\n",
    "    algo.fit(trainset)\n",
    "    predictions = algo.test(testset)\n",
    "\n",
    "    # Compute and print Root Mean Squared Error\n",
    "    accuracy.rmse(predictions, verbose=True)"
   ]
  },
  {
   "cell_type": "markdown",
   "metadata": {},
   "source": [
    "5-1. 분할된 데이터셋 시각화(나누어진 데이터셋을 표로 시각화하여 보는 것이기에 필요성은 떨어짐)"
   ]
  },
  {
   "cell_type": "code",
   "execution_count": 7,
   "metadata": {},
   "outputs": [],
   "source": [
    "def surprise_trainset_to_df(trainset, col_user=\"uid\", col_item=\"iid\", col_rating=\"rating\"): \n",
    "    df = pd.DataFrame(trainset.all_ratings(), columns=[col_user, col_item, col_rating])\n",
    "    map_user = trainset._inner2raw_id_users if trainset._inner2raw_id_users is not None else invert_dictionary(trainset._raw2inner_id_users)\n",
    "    map_item = trainset._inner2raw_id_items if trainset._inner2raw_id_items is not None else invert_dictionary(trainset._raw2inner_id_items)\n",
    "    df[col_user] = df[col_user].map(map_user)\n",
    "    df[col_item] = df[col_item].map(map_item)\n",
    "    return df\n",
    "# Surprise 패키지는 분석 시 raw_data -> inner_data로 변환하여 분석(surprise에 더 적합한 데이터 형식으로 변경)\n",
    "# 따라서 직접 trainset을 visualize할 수 없어 이를 다시 raw_data로 변경하는 가공과정이 필요"
   ]
  },
  {
   "cell_type": "code",
   "execution_count": 8,
   "metadata": {},
   "outputs": [
    {
     "data": {
      "text/html": [
       "<div>\n",
       "<style scoped>\n",
       "    .dataframe tbody tr th:only-of-type {\n",
       "        vertical-align: middle;\n",
       "    }\n",
       "\n",
       "    .dataframe tbody tr th {\n",
       "        vertical-align: top;\n",
       "    }\n",
       "\n",
       "    .dataframe thead th {\n",
       "        text-align: right;\n",
       "    }\n",
       "</style>\n",
       "<table border=\"1\" class=\"dataframe\">\n",
       "  <thead>\n",
       "    <tr style=\"text-align: right;\">\n",
       "      <th></th>\n",
       "      <th>uid</th>\n",
       "      <th>iid</th>\n",
       "      <th>rating</th>\n",
       "    </tr>\n",
       "  </thead>\n",
       "  <tbody>\n",
       "    <tr>\n",
       "      <th>0</th>\n",
       "      <td>10097</td>\n",
       "      <td>연료전지개발 실무</td>\n",
       "      <td>4.0</td>\n",
       "    </tr>\n",
       "    <tr>\n",
       "      <th>1</th>\n",
       "      <td>10556</td>\n",
       "      <td>흡배기엔지니어를위한소음공학</td>\n",
       "      <td>4.0</td>\n",
       "    </tr>\n",
       "    <tr>\n",
       "      <th>2</th>\n",
       "      <td>11043</td>\n",
       "      <td>프로젝트 관리</td>\n",
       "      <td>4.0</td>\n",
       "    </tr>\n",
       "    <tr>\n",
       "      <th>3</th>\n",
       "      <td>11633</td>\n",
       "      <td>기술전략</td>\n",
       "      <td>4.0</td>\n",
       "    </tr>\n",
       "    <tr>\n",
       "      <th>4</th>\n",
       "      <td>12167</td>\n",
       "      <td>흡배기엔지니어를위한소음공학</td>\n",
       "      <td>4.0</td>\n",
       "    </tr>\n",
       "    <tr>\n",
       "      <th>...</th>\n",
       "      <td>...</td>\n",
       "      <td>...</td>\n",
       "      <td>...</td>\n",
       "    </tr>\n",
       "    <tr>\n",
       "      <th>8630</th>\n",
       "      <td>15822</td>\n",
       "      <td>[NVH]초급_I</td>\n",
       "      <td>4.0</td>\n",
       "    </tr>\n",
       "    <tr>\n",
       "      <th>8631</th>\n",
       "      <td>16007</td>\n",
       "      <td>[NVH]초급_I</td>\n",
       "      <td>4.0</td>\n",
       "    </tr>\n",
       "    <tr>\n",
       "      <th>8632</th>\n",
       "      <td>15537</td>\n",
       "      <td>[NVH]초급_II</td>\n",
       "      <td>4.0</td>\n",
       "    </tr>\n",
       "    <tr>\n",
       "      <th>8633</th>\n",
       "      <td>12950</td>\n",
       "      <td>[NVH]중급_II</td>\n",
       "      <td>4.0</td>\n",
       "    </tr>\n",
       "    <tr>\n",
       "      <th>8634</th>\n",
       "      <td>16809</td>\n",
       "      <td>환경차용전력변환시스템기초</td>\n",
       "      <td>4.0</td>\n",
       "    </tr>\n",
       "  </tbody>\n",
       "</table>\n",
       "<p>8635 rows × 3 columns</p>\n",
       "</div>"
      ],
      "text/plain": [
       "        uid             iid  rating\n",
       "0     10097       연료전지개발 실무     4.0\n",
       "1     10556  흡배기엔지니어를위한소음공학     4.0\n",
       "2     11043         프로젝트 관리     4.0\n",
       "3     11633            기술전략     4.0\n",
       "4     12167  흡배기엔지니어를위한소음공학     4.0\n",
       "...     ...             ...     ...\n",
       "8630  15822       [NVH]초급_I     4.0\n",
       "8631  16007       [NVH]초급_I     4.0\n",
       "8632  15537      [NVH]초급_II     4.0\n",
       "8633  12950      [NVH]중급_II     4.0\n",
       "8634  16809   환경차용전력변환시스템기초     4.0\n",
       "\n",
       "[8635 rows x 3 columns]"
      ]
     },
     "execution_count": 8,
     "metadata": {},
     "output_type": "execute_result"
    }
   ],
   "source": [
    "surprise_trainset_to_df(trainset, col_user=\"uid\", col_item=\"iid\", col_rating=\"rating\")"
   ]
  },
  {
   "cell_type": "code",
   "execution_count": 9,
   "metadata": {},
   "outputs": [
    {
     "data": {
      "text/html": [
       "<div>\n",
       "<style scoped>\n",
       "    .dataframe tbody tr th:only-of-type {\n",
       "        vertical-align: middle;\n",
       "    }\n",
       "\n",
       "    .dataframe tbody tr th {\n",
       "        vertical-align: top;\n",
       "    }\n",
       "\n",
       "    .dataframe thead th {\n",
       "        text-align: right;\n",
       "    }\n",
       "</style>\n",
       "<table border=\"1\" class=\"dataframe\">\n",
       "  <thead>\n",
       "    <tr style=\"text-align: right;\">\n",
       "      <th></th>\n",
       "      <th>uid</th>\n",
       "      <th>iid</th>\n",
       "      <th>rating</th>\n",
       "    </tr>\n",
       "  </thead>\n",
       "  <tbody>\n",
       "    <tr>\n",
       "      <th>0</th>\n",
       "      <td>10097</td>\n",
       "      <td>흡배기엔지니어를위한소음공학</td>\n",
       "      <td>4.0</td>\n",
       "    </tr>\n",
       "    <tr>\n",
       "      <th>1</th>\n",
       "      <td>10556</td>\n",
       "      <td>열역학및유체역학Review</td>\n",
       "      <td>3.0</td>\n",
       "    </tr>\n",
       "    <tr>\n",
       "      <th>2</th>\n",
       "      <td>11043</td>\n",
       "      <td>흡배기엔지니어를위한소음공학</td>\n",
       "      <td>3.0</td>\n",
       "    </tr>\n",
       "    <tr>\n",
       "      <th>3</th>\n",
       "      <td>11633</td>\n",
       "      <td>흡배기엔지니어를위한소음공학</td>\n",
       "      <td>4.0</td>\n",
       "    </tr>\n",
       "    <tr>\n",
       "      <th>4</th>\n",
       "      <td>12167</td>\n",
       "      <td>자동차용 전동기 이론 및 특성 이해</td>\n",
       "      <td>3.0</td>\n",
       "    </tr>\n",
       "    <tr>\n",
       "      <th>...</th>\n",
       "      <td>...</td>\n",
       "      <td>...</td>\n",
       "      <td>...</td>\n",
       "    </tr>\n",
       "    <tr>\n",
       "      <th>4764</th>\n",
       "      <td>15822</td>\n",
       "      <td>[PT시험개발]PT시험</td>\n",
       "      <td>4.0</td>\n",
       "    </tr>\n",
       "    <tr>\n",
       "      <th>4765</th>\n",
       "      <td>16007</td>\n",
       "      <td>[PT시험개발]PT시험</td>\n",
       "      <td>4.0</td>\n",
       "    </tr>\n",
       "    <tr>\n",
       "      <th>4766</th>\n",
       "      <td>15537</td>\n",
       "      <td>[NVH]초급_I</td>\n",
       "      <td>3.0</td>\n",
       "    </tr>\n",
       "    <tr>\n",
       "      <th>4767</th>\n",
       "      <td>12950</td>\n",
       "      <td>[NVH]중급_I</td>\n",
       "      <td>5.0</td>\n",
       "    </tr>\n",
       "    <tr>\n",
       "      <th>4768</th>\n",
       "      <td>16809</td>\n",
       "      <td>[NVH]입문_I</td>\n",
       "      <td>5.0</td>\n",
       "    </tr>\n",
       "  </tbody>\n",
       "</table>\n",
       "<p>4769 rows × 3 columns</p>\n",
       "</div>"
      ],
      "text/plain": [
       "        uid                  iid  rating\n",
       "0     10097       흡배기엔지니어를위한소음공학     4.0\n",
       "1     10556       열역학및유체역학Review     3.0\n",
       "2     11043       흡배기엔지니어를위한소음공학     3.0\n",
       "3     11633       흡배기엔지니어를위한소음공학     4.0\n",
       "4     12167  자동차용 전동기 이론 및 특성 이해     3.0\n",
       "...     ...                  ...     ...\n",
       "4764  15822         [PT시험개발]PT시험     4.0\n",
       "4765  16007         [PT시험개발]PT시험     4.0\n",
       "4766  15537            [NVH]초급_I     3.0\n",
       "4767  12950            [NVH]중급_I     5.0\n",
       "4768  16809            [NVH]입문_I     5.0\n",
       "\n",
       "[4769 rows x 3 columns]"
      ]
     },
     "execution_count": 9,
     "metadata": {},
     "output_type": "execute_result"
    }
   ],
   "source": [
    "test_frame = pd.DataFrame(testset, columns=['uid', 'iid', 'rating'])\n",
    "test_frame\n",
    "# testset은 반환형식이 list라 별도의 변환없이 접근 가능"
   ]
  },
  {
   "cell_type": "markdown",
   "metadata": {},
   "source": [
    "6. 추천 리스트 출력"
   ]
  },
  {
   "cell_type": "code",
   "execution_count": 10,
   "metadata": {},
   "outputs": [],
   "source": [
    "id_number = 10003 # User_ID 입력"
   ]
  },
  {
   "cell_type": "markdown",
   "metadata": {},
   "source": [
    "6-1. user가 과거 학습했던 item 리스트 출력 "
   ]
  },
  {
   "cell_type": "code",
   "execution_count": 11,
   "metadata": {},
   "outputs": [
    {
     "data": {
      "text/html": [
       "<div>\n",
       "<style scoped>\n",
       "    .dataframe tbody tr th:only-of-type {\n",
       "        vertical-align: middle;\n",
       "    }\n",
       "\n",
       "    .dataframe tbody tr th {\n",
       "        vertical-align: top;\n",
       "    }\n",
       "\n",
       "    .dataframe thead th {\n",
       "        text-align: right;\n",
       "    }\n",
       "</style>\n",
       "<table border=\"1\" class=\"dataframe\">\n",
       "  <thead>\n",
       "    <tr style=\"text-align: right;\">\n",
       "      <th></th>\n",
       "      <th>Item_ID</th>\n",
       "      <th>Rating</th>\n",
       "    </tr>\n",
       "  </thead>\n",
       "  <tbody>\n",
       "    <tr>\n",
       "      <th>6009</th>\n",
       "      <td>엔지니어를위한자동차디자인이해</td>\n",
       "      <td>5</td>\n",
       "    </tr>\n",
       "    <tr>\n",
       "      <th>9865</th>\n",
       "      <td>기술경영(MOT)</td>\n",
       "      <td>3</td>\n",
       "    </tr>\n",
       "  </tbody>\n",
       "</table>\n",
       "</div>"
      ],
      "text/plain": [
       "              Item_ID  Rating\n",
       "6009  엔지니어를위한자동차디자인이해       5\n",
       "9865        기술경영(MOT)       3"
      ]
     },
     "execution_count": 11,
     "metadata": {},
     "output_type": "execute_result"
    }
   ],
   "source": [
    "seen_item = hrd_raw.loc[hrd_raw['User_ID']==id_number, ['Item_ID', 'Rating'], ] #학습했었던 item 목록 저장\n",
    "experience = pd.DataFrame(seen_item)\n",
    "experience.sort_values([\"Rating\"], ascending=[False])"
   ]
  },
  {
   "cell_type": "markdown",
   "metadata": {},
   "source": [
    "6-2. user가 학습하지 않았던 item 중에서 추천 리스트 출력  "
   ]
  },
  {
   "cell_type": "code",
   "execution_count": 12,
   "metadata": {
    "scrolled": true
   },
   "outputs": [
    {
     "data": {
      "text/html": [
       "<div>\n",
       "<style scoped>\n",
       "    .dataframe tbody tr th:only-of-type {\n",
       "        vertical-align: middle;\n",
       "    }\n",
       "\n",
       "    .dataframe tbody tr th {\n",
       "        vertical-align: top;\n",
       "    }\n",
       "\n",
       "    .dataframe thead th {\n",
       "        text-align: right;\n",
       "    }\n",
       "</style>\n",
       "<table border=\"1\" class=\"dataframe\">\n",
       "  <thead>\n",
       "    <tr style=\"text-align: right;\">\n",
       "      <th></th>\n",
       "      <th>iid</th>\n",
       "      <th>predictions</th>\n",
       "    </tr>\n",
       "  </thead>\n",
       "  <tbody>\n",
       "    <tr>\n",
       "      <th>2</th>\n",
       "      <td>ADAS 센서 원리 및 퓨전 이해</td>\n",
       "      <td>5.000000</td>\n",
       "    </tr>\n",
       "    <tr>\n",
       "      <th>0</th>\n",
       "      <td>4차산업혁명과 핵심기술 변화</td>\n",
       "      <td>3.749045</td>\n",
       "    </tr>\n",
       "    <tr>\n",
       "      <th>175</th>\n",
       "      <td>인간공학및설계</td>\n",
       "      <td>3.749045</td>\n",
       "    </tr>\n",
       "    <tr>\n",
       "      <th>181</th>\n",
       "      <td>자동변속기(AT,DCT)변속과정이해</td>\n",
       "      <td>3.749045</td>\n",
       "    </tr>\n",
       "    <tr>\n",
       "      <th>180</th>\n",
       "      <td>임베디드리눅스실습초급</td>\n",
       "      <td>3.749045</td>\n",
       "    </tr>\n",
       "    <tr>\n",
       "      <th>179</th>\n",
       "      <td>임베디드C프로그래밍기초</td>\n",
       "      <td>3.749045</td>\n",
       "    </tr>\n",
       "    <tr>\n",
       "      <th>178</th>\n",
       "      <td>임베디드 C 프로그래밍 코드 최적화 기법</td>\n",
       "      <td>3.749045</td>\n",
       "    </tr>\n",
       "    <tr>\n",
       "      <th>177</th>\n",
       "      <td>인포그래픽스개론</td>\n",
       "      <td>3.749045</td>\n",
       "    </tr>\n",
       "    <tr>\n",
       "      <th>176</th>\n",
       "      <td>인공지능 입문과정</td>\n",
       "      <td>3.749045</td>\n",
       "    </tr>\n",
       "    <tr>\n",
       "      <th>174</th>\n",
       "      <td>음향공학기초이론및차량개발응용</td>\n",
       "      <td>3.749045</td>\n",
       "    </tr>\n",
       "  </tbody>\n",
       "</table>\n",
       "</div>"
      ],
      "text/plain": [
       "                        iid  predictions\n",
       "2       ADAS 센서 원리 및 퓨전 이해      5.000000\n",
       "0           4차산업혁명과 핵심기술 변화     3.749045\n",
       "175                 인간공학및설계     3.749045\n",
       "181     자동변속기(AT,DCT)변속과정이해     3.749045\n",
       "180             임베디드리눅스실습초급     3.749045\n",
       "179            임베디드C프로그래밍기초     3.749045\n",
       "178  임베디드 C 프로그래밍 코드 최적화 기법     3.749045\n",
       "177                인포그래픽스개론     3.749045\n",
       "176               인공지능 입문과정     3.749045\n",
       "174         음향공학기초이론및차량개발응용     3.749045"
      ]
     },
     "execution_count": 12,
     "metadata": {},
     "output_type": "execute_result"
    }
   ],
   "source": [
    "unique_ids = hrd_raw['Item_ID'].unique() # item의 unqiue value 저장\n",
    "already_seen = hrd_raw.loc[hrd_raw['User_ID']==id_number, 'Item_ID'] # id_number에 해당하는 user의 학습했었던 item 목록 저장\n",
    "hrd_to_predict = np.setdiff1d(unique_ids,already_seen) # 전체 unique value에서 학습한 아이템 목록 제외\n",
    "my_recs = []\n",
    "for iid in hrd_to_predict:\n",
    "    my_recs.append((iid, algo.predict(uid=id_number, iid=iid).est)) \n",
    "    # 예측을 진행한 후 인접한 이웃이 충분히 존재하지 않을 경우 predictions 값을 전체 평점의 평균을 출력하도록 설정되어 해당사항 유의\n",
    "    \n",
    "pd.DataFrame(my_recs, columns=['iid', 'predictions']).sort_values('predictions', ascending=False).head(10)"
   ]
  },
  {
   "cell_type": "code",
   "execution_count": 13,
   "metadata": {},
   "outputs": [],
   "source": [
    "data_to_excel = pd.DataFrame(my_recs, columns=['iid', 'predictions']).sort_values('predictions', ascending=False).head(10)\n",
    "# data_to_excel.to_excel(excel_writer='sample.xlsx')"
   ]
  },
  {
   "cell_type": "markdown",
   "metadata": {},
   "source": [
    "7. 추천 리스트 필터링"
   ]
  },
  {
   "cell_type": "markdown",
   "metadata": {},
   "source": [
    "조건 1. user와 동일한 조직(사업부, 실) 기준으로 20% 이상 학습한 과목에 대한 필터링"
   ]
  },
  {
   "cell_type": "markdown",
   "metadata": {},
   "source": [
    "7-1. 데이터 읽어오기"
   ]
  },
  {
   "cell_type": "code",
   "execution_count": 14,
   "metadata": {},
   "outputs": [
    {
     "name": "stdout",
     "output_type": "stream",
     "text": [
      "현대디자인담당 현대디자인담당 디자인담당 Studio Engineering\n"
     ]
    }
   ],
   "source": [
    "group_data = hrd_raw.loc[hrd_raw['User_ID']==id_number, ['사업부', '실', '조직_담당', '직무명']] #user의 사업부, 실 정보 행에서 읽어오기\n",
    "group_center = group_data['사업부'].values[0] # '사업부' 이름 저장\n",
    "group_room = group_data['실'].values[0] # '실' 이름 저장\n",
    "group_organization = group_data['조직_담당'].values[0]\n",
    "group_job = group_data['직무명'].values[0]\n",
    "print(group_center, group_room, group_organization, group_job)"
   ]
  },
  {
   "cell_type": "code",
   "execution_count": 15,
   "metadata": {
    "scrolled": true
   },
   "outputs": [],
   "source": [
    "# group_list = hrd_raw.loc[hrd_raw['사업부']==group_center, 'Item_ID'] # user의 '사업부'를 기준으로 해당 과목 읽어오기\n",
    "group_list = hrd_raw.loc[hrd_raw['실']==group_room, 'Item_ID'] # user의 '실'을 기준으로 해당 과목 읽어오기\n",
    "# group_list = hrd_raw.loc[hrd_raw['조직_담당']==group_organization, 'Item_ID'] # user의 '실'을 기준으로 해당 과목 읽어오기\n",
    "# group_list = hrd_raw.loc[hrd_raw['직무명']==group_job, 'Item_ID'] # user의 '실'을 기준으로 해당 과목 읽어오기"
   ]
  },
  {
   "cell_type": "markdown",
   "metadata": {},
   "source": [
    "7-2. 데이터 타입 정의"
   ]
  },
  {
   "cell_type": "code",
   "execution_count": 16,
   "metadata": {},
   "outputs": [
    {
     "data": {
      "text/html": [
       "<div>\n",
       "<style scoped>\n",
       "    .dataframe tbody tr th:only-of-type {\n",
       "        vertical-align: middle;\n",
       "    }\n",
       "\n",
       "    .dataframe tbody tr th {\n",
       "        vertical-align: top;\n",
       "    }\n",
       "\n",
       "    .dataframe thead th {\n",
       "        text-align: right;\n",
       "    }\n",
       "</style>\n",
       "<table border=\"1\" class=\"dataframe\">\n",
       "  <thead>\n",
       "    <tr style=\"text-align: right;\">\n",
       "      <th></th>\n",
       "      <th>Item_ID</th>\n",
       "      <th>Ratio</th>\n",
       "    </tr>\n",
       "  </thead>\n",
       "  <tbody>\n",
       "    <tr>\n",
       "      <th>0</th>\n",
       "      <td>프로젝트 관리</td>\n",
       "      <td>0.078947</td>\n",
       "    </tr>\n",
       "    <tr>\n",
       "      <th>1</th>\n",
       "      <td>엔지니어를위한자동차디자인이해</td>\n",
       "      <td>0.078947</td>\n",
       "    </tr>\n",
       "    <tr>\n",
       "      <th>2</th>\n",
       "      <td>디자인과 감성공학</td>\n",
       "      <td>0.052632</td>\n",
       "    </tr>\n",
       "    <tr>\n",
       "      <th>3</th>\n",
       "      <td>Voice UX Design</td>\n",
       "      <td>0.052632</td>\n",
       "    </tr>\n",
       "    <tr>\n",
       "      <th>4</th>\n",
       "      <td>VR(가상현실) 기술 이해</td>\n",
       "      <td>0.052632</td>\n",
       "    </tr>\n",
       "    <tr>\n",
       "      <th>5</th>\n",
       "      <td>소비자 이해</td>\n",
       "      <td>0.052632</td>\n",
       "    </tr>\n",
       "    <tr>\n",
       "      <th>6</th>\n",
       "      <td>자율주행 인테리어 트렌드</td>\n",
       "      <td>0.052632</td>\n",
       "    </tr>\n",
       "    <tr>\n",
       "      <th>7</th>\n",
       "      <td>기술전략</td>\n",
       "      <td>0.052632</td>\n",
       "    </tr>\n",
       "    <tr>\n",
       "      <th>8</th>\n",
       "      <td>플라스틱 재료특성 및 성형원리의 이해</td>\n",
       "      <td>0.052632</td>\n",
       "    </tr>\n",
       "    <tr>\n",
       "      <th>9</th>\n",
       "      <td>[제품개발]차량개발</td>\n",
       "      <td>0.026316</td>\n",
       "    </tr>\n",
       "    <tr>\n",
       "      <th>10</th>\n",
       "      <td>기술경영(MOT)</td>\n",
       "      <td>0.026316</td>\n",
       "    </tr>\n",
       "    <tr>\n",
       "      <th>11</th>\n",
       "      <td>디자인 트렌드 및 시장의 이해</td>\n",
       "      <td>0.026316</td>\n",
       "    </tr>\n",
       "    <tr>\n",
       "      <th>12</th>\n",
       "      <td>신상품개발기획</td>\n",
       "      <td>0.026316</td>\n",
       "    </tr>\n",
       "    <tr>\n",
       "      <th>13</th>\n",
       "      <td>차량용 통신 시스템 이해</td>\n",
       "      <td>0.026316</td>\n",
       "    </tr>\n",
       "    <tr>\n",
       "      <th>14</th>\n",
       "      <td>차량개발프로젝트매니지먼트</td>\n",
       "      <td>0.026316</td>\n",
       "    </tr>\n",
       "    <tr>\n",
       "      <th>15</th>\n",
       "      <td>연구원을위한마케팅</td>\n",
       "      <td>0.026316</td>\n",
       "    </tr>\n",
       "    <tr>\n",
       "      <th>16</th>\n",
       "      <td>ADAS 센서 원리 및 퓨전 이해</td>\n",
       "      <td>0.026316</td>\n",
       "    </tr>\n",
       "    <tr>\n",
       "      <th>17</th>\n",
       "      <td>자동차트랜드2018</td>\n",
       "      <td>0.026316</td>\n",
       "    </tr>\n",
       "    <tr>\n",
       "      <th>18</th>\n",
       "      <td>뇌공학과 차세대 HMI</td>\n",
       "      <td>0.026316</td>\n",
       "    </tr>\n",
       "    <tr>\n",
       "      <th>19</th>\n",
       "      <td>내장부품표면처리공법의이해</td>\n",
       "      <td>0.026316</td>\n",
       "    </tr>\n",
       "    <tr>\n",
       "      <th>20</th>\n",
       "      <td>DA20_프로그래밍기초</td>\n",
       "      <td>0.026316</td>\n",
       "    </tr>\n",
       "    <tr>\n",
       "      <th>21</th>\n",
       "      <td>데이터분석기초</td>\n",
       "      <td>0.026316</td>\n",
       "    </tr>\n",
       "    <tr>\n",
       "      <th>22</th>\n",
       "      <td>패키지</td>\n",
       "      <td>0.026316</td>\n",
       "    </tr>\n",
       "    <tr>\n",
       "      <th>23</th>\n",
       "      <td>디지털 컬러 매니지먼트</td>\n",
       "      <td>0.026316</td>\n",
       "    </tr>\n",
       "    <tr>\n",
       "      <th>24</th>\n",
       "      <td>AI리더</td>\n",
       "      <td>0.026316</td>\n",
       "    </tr>\n",
       "    <tr>\n",
       "      <th>25</th>\n",
       "      <td>엔지니어를 위한 통계 응용</td>\n",
       "      <td>0.026316</td>\n",
       "    </tr>\n",
       "    <tr>\n",
       "      <th>26</th>\n",
       "      <td>[충돌안전]초급_I</td>\n",
       "      <td>0.026316</td>\n",
       "    </tr>\n",
       "  </tbody>\n",
       "</table>\n",
       "</div>"
      ],
      "text/plain": [
       "                 Item_ID     Ratio\n",
       "0                프로젝트 관리  0.078947\n",
       "1        엔지니어를위한자동차디자인이해  0.078947\n",
       "2              디자인과 감성공학  0.052632\n",
       "3        Voice UX Design  0.052632\n",
       "4         VR(가상현실) 기술 이해  0.052632\n",
       "5                 소비자 이해  0.052632\n",
       "6          자율주행 인테리어 트렌드  0.052632\n",
       "7                   기술전략  0.052632\n",
       "8   플라스틱 재료특성 및 성형원리의 이해  0.052632\n",
       "9             [제품개발]차량개발  0.026316\n",
       "10             기술경영(MOT)  0.026316\n",
       "11     디자인 트렌드 및 시장의 이해   0.026316\n",
       "12               신상품개발기획  0.026316\n",
       "13        차량용 통신 시스템 이해   0.026316\n",
       "14         차량개발프로젝트매니지먼트  0.026316\n",
       "15             연구원을위한마케팅  0.026316\n",
       "16   ADAS 센서 원리 및 퓨전 이해   0.026316\n",
       "17            자동차트랜드2018  0.026316\n",
       "18          뇌공학과 차세대 HMI  0.026316\n",
       "19         내장부품표면처리공법의이해  0.026316\n",
       "20          DA20_프로그래밍기초  0.026316\n",
       "21               데이터분석기초  0.026316\n",
       "22                   패키지  0.026316\n",
       "23          디지털 컬러 매니지먼트  0.026316\n",
       "24                  AI리더  0.026316\n",
       "25        엔지니어를 위한 통계 응용  0.026316\n",
       "26            [충돌안전]초급_I  0.026316"
      ]
     },
     "execution_count": 16,
     "metadata": {},
     "output_type": "execute_result"
    }
   ],
   "source": [
    "ratio_list = group_list.value_counts(normalize=True) # '실' 기준 과목명에서 각각의 과목들 상대적 비율 출력하기 \n",
    "ratio_list_frame = ratio_list.reset_index(name= 'count') # Series -> DataFrame으로 변경\n",
    "ratio_list_frame.columns = ['Item_ID', 'Ratio'] # DataFrame Column명 정리\n",
    "ratio_list_frame"
   ]
  },
  {
   "cell_type": "markdown",
   "metadata": {},
   "source": [
    "7-3. 20% 기준으로 데이터 분할하기"
   ]
  },
  {
   "cell_type": "code",
   "execution_count": 17,
   "metadata": {},
   "outputs": [],
   "source": [
    "filtering_list = ratio_list_frame.loc[ratio_list_frame['Ratio'] < 0.2, 'Item_ID'] # 20%이하는 포함하지 않도록 설정"
   ]
  },
  {
   "cell_type": "markdown",
   "metadata": {},
   "source": [
    "7-4. 공통과목 포함시키기"
   ]
  },
  {
   "cell_type": "code",
   "execution_count": 18,
   "metadata": {},
   "outputs": [],
   "source": [
    "common_raw = pd.read_csv(r'C:\\common list.csv') # 공통과목 리스트 불러오기"
   ]
  },
  {
   "cell_type": "code",
   "execution_count": 19,
   "metadata": {},
   "outputs": [],
   "source": [
    "common_raw_series = np.array(common_raw['Item_List'].tolist()) # DataFrame -> Series\n",
    "common_list = pd.Series(common_raw_series)"
   ]
  },
  {
   "cell_type": "code",
   "execution_count": 20,
   "metadata": {},
   "outputs": [],
   "source": [
    "list_filtering = list(filtering_list)  # Series -> List 반복문에 원활하게 사용하기 위해 변경\n",
    "list_common = list(common_list) # Series -> List\n",
    "for i in list_filtering :\n",
    "    for j in list_common : \n",
    "        if i == j :\n",
    "            list_filtering.remove(i) # 공통과정을 filtering_list 목록에서 미리 제거하여 포함되지 않도록 하기\n",
    "            break\n",
    "        else : \n",
    "            continue"
   ]
  },
  {
   "cell_type": "code",
   "execution_count": 21,
   "metadata": {
    "scrolled": true
   },
   "outputs": [],
   "source": [
    "hrd_to_filtering_predict = np.setdiff1d(hrd_to_predict,filtering_list) \n",
    "# 기존의 추천 리스트에서 필터링 과목 제거 \n",
    "# hrd_to_predict(기학습했던 과목 제외한 모든 과목) - \n",
    "# filtering_list(특정 부서 기준으로 20%인 이하인 과목 제거)"
   ]
  },
  {
   "cell_type": "markdown",
   "metadata": {},
   "source": [
    "7-5. 필터링된 추천 리스트 출력"
   ]
  },
  {
   "cell_type": "code",
   "execution_count": 22,
   "metadata": {},
   "outputs": [
    {
     "data": {
      "text/html": [
       "<div>\n",
       "<style scoped>\n",
       "    .dataframe tbody tr th:only-of-type {\n",
       "        vertical-align: middle;\n",
       "    }\n",
       "\n",
       "    .dataframe tbody tr th {\n",
       "        vertical-align: top;\n",
       "    }\n",
       "\n",
       "    .dataframe thead th {\n",
       "        text-align: right;\n",
       "    }\n",
       "</style>\n",
       "<table border=\"1\" class=\"dataframe\">\n",
       "  <thead>\n",
       "    <tr style=\"text-align: right;\">\n",
       "      <th></th>\n",
       "      <th>iid</th>\n",
       "      <th>predictions</th>\n",
       "    </tr>\n",
       "  </thead>\n",
       "  <tbody>\n",
       "    <tr>\n",
       "      <th>0</th>\n",
       "      <td>4차산업혁명과 핵심기술 변화</td>\n",
       "      <td>3.749045</td>\n",
       "    </tr>\n",
       "    <tr>\n",
       "      <th>181</th>\n",
       "      <td>재료,해석,전자</td>\n",
       "      <td>3.749045</td>\n",
       "    </tr>\n",
       "    <tr>\n",
       "      <th>153</th>\n",
       "      <td>열역학및유체역학Review</td>\n",
       "      <td>3.749045</td>\n",
       "    </tr>\n",
       "    <tr>\n",
       "      <th>154</th>\n",
       "      <td>영상인식및신호처리방법이해</td>\n",
       "      <td>3.749045</td>\n",
       "    </tr>\n",
       "    <tr>\n",
       "      <th>155</th>\n",
       "      <td>용접공학 원리 및 자동차 적용</td>\n",
       "      <td>3.749045</td>\n",
       "    </tr>\n",
       "    <tr>\n",
       "      <th>156</th>\n",
       "      <td>음향공학기초이론및차량개발응용</td>\n",
       "      <td>3.749045</td>\n",
       "    </tr>\n",
       "    <tr>\n",
       "      <th>157</th>\n",
       "      <td>인간공학및설계</td>\n",
       "      <td>3.749045</td>\n",
       "    </tr>\n",
       "    <tr>\n",
       "      <th>158</th>\n",
       "      <td>인공지능 입문과정</td>\n",
       "      <td>3.749045</td>\n",
       "    </tr>\n",
       "    <tr>\n",
       "      <th>159</th>\n",
       "      <td>인포그래픽스개론</td>\n",
       "      <td>3.749045</td>\n",
       "    </tr>\n",
       "    <tr>\n",
       "      <th>160</th>\n",
       "      <td>임베디드 C 프로그래밍 코드 최적화 기법</td>\n",
       "      <td>3.749045</td>\n",
       "    </tr>\n",
       "  </tbody>\n",
       "</table>\n",
       "</div>"
      ],
      "text/plain": [
       "                        iid  predictions\n",
       "0           4차산업혁명과 핵심기술 변화     3.749045\n",
       "181                재료,해석,전자     3.749045\n",
       "153          열역학및유체역학Review     3.749045\n",
       "154           영상인식및신호처리방법이해     3.749045\n",
       "155       용접공학 원리 및 자동차 적용      3.749045\n",
       "156         음향공학기초이론및차량개발응용     3.749045\n",
       "157                 인간공학및설계     3.749045\n",
       "158               인공지능 입문과정     3.749045\n",
       "159                인포그래픽스개론     3.749045\n",
       "160  임베디드 C 프로그래밍 코드 최적화 기법     3.749045"
      ]
     },
     "execution_count": 22,
     "metadata": {},
     "output_type": "execute_result"
    }
   ],
   "source": [
    "my_list = []\n",
    "for iid in hrd_to_filtering_predict:\n",
    "    my_list.append((iid, algo.predict(uid=id_number, iid=iid).est)) \n",
    "    \n",
    "pd.DataFrame(my_list, columns=['iid', 'predictions']).sort_values('predictions', ascending=False).head(10)"
   ]
  },
  {
   "cell_type": "code",
   "execution_count": 23,
   "metadata": {},
   "outputs": [],
   "source": [
    "# ratio_list_frame.to_excel(excel_writer='sample.xlsx')"
   ]
  }
 ],
 "metadata": {
  "kernelspec": {
   "display_name": "Python 3",
   "language": "python",
   "name": "python3"
  },
  "language_info": {
   "codemirror_mode": {
    "name": "ipython",
    "version": 3
   },
   "file_extension": ".py",
   "mimetype": "text/x-python",
   "name": "python",
   "nbconvert_exporter": "python",
   "pygments_lexer": "ipython3",
   "version": "3.8.5"
  }
 },
 "nbformat": 4,
 "nbformat_minor": 4
}
