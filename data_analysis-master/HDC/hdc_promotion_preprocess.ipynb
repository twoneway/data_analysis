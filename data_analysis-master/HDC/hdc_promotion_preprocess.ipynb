{
 "cells": [
  {
   "cell_type": "code",
   "execution_count": null,
   "metadata": {},
   "outputs": [],
   "source": [
    "import pandas as pd\n",
    "import numpy as np\n",
    "import os\n",
    "import glob\n",
    "import joblib\n",
    "from datetime import datetime, timedelta\n",
    "from pathlib import Path"
   ]
  },
  {
   "cell_type": "code",
   "execution_count": null,
   "metadata": {},
   "outputs": [],
   "source": [
    "path = \"/ml/algorithmlabs.csv\""
   ]
  },
  {
   "cell_type": "code",
   "execution_count": null,
   "metadata": {},
   "outputs": [],
   "source": [
    "file_list = glob.glob(f'{path}/*.csv')\n",
    "name = pd.read_excel('ml/feature_korean_name.xlsx', sheet_name='promotion')"
   ]
  },
  {
   "cell_type": "code",
   "execution_count": null,
   "metadata": {},
   "outputs": [],
   "source": [
    "os.listdir(f'{path}')"
   ]
  },
  {
   "attachments": {},
   "cell_type": "markdown",
   "metadata": {},
   "source": [
    "### DANT_PROMOTION_USER, DAAT_ORDER"
   ]
  },
  {
   "cell_type": "code",
   "execution_count": null,
   "metadata": {},
   "outputs": [],
   "source": [
    "print(file_list[10])\n",
    "print(file_list[1])\n",
    "user = pd.read_csv(file_list[7])\n",
    "order = pd.read_csv(file_list[1])\n",
    "user_data = user.copy()\n",
    "order_data = order.copy()"
   ]
  },
  {
   "cell_type": "code",
   "execution_count": null,
   "metadata": {},
   "outputs": [],
   "source": [
    "year_list = []\n",
    "\n",
    "for i in range(len(order_data)) : \n",
    "    year_list.append(int(str(order_data['DT_ORDER'][i])[0:4])-1)\n",
    "\n",
    "order_data['DT_YEAR'] = year_list "
   ]
  },
  {
   "cell_type": "code",
   "execution_count": null,
   "metadata": {},
   "outputs": [],
   "source": [
    "promotion = order_data[['ID_SABUN', 'DS_ORDER1', 'DT_YEAR']]"
   ]
  },
  {
   "cell_type": "code",
   "execution_count": null,
   "metadata": {},
   "outputs": [],
   "source": [
    "user_data.drop(user_data[user_data['DS_GROUP']=='3급 → 3-2급'].index, axis=0, inplace=True)"
   ]
  },
  {
   "cell_type": "code",
   "execution_count": null,
   "metadata": {},
   "outputs": [],
   "source": [
    "base = pd.merge(user_data, promotion, on=['ID_SABUN', 'DT_YEAR'], how='left')\n",
    "base.drop(base[(base['CD_POSITION']==12) & (base['DS_ORDER1']!='승진')].index, axis=0, inplace=True)\n",
    "base = base.reset_index(drop=True)"
   ]
  },
  {
   "cell_type": "code",
   "execution_count": null,
   "metadata": {},
   "outputs": [],
   "source": [
    "label_list = []\n",
    "for i in range(len(base)) : \n",
    "    if base['DS_ORDER1'][i] != base['DS_ORDER1'][i] : \n",
    "        label_list.append(0)\n",
    "    else :\n",
    "        label_list.append(1)\n",
    "        \n",
    "base['LABEL'] = label_list\n",
    "print(len(base))"
   ]
  },
  {
   "cell_type": "code",
   "execution_count": null,
   "metadata": {},
   "outputs": [],
   "source": [
    "base = base[['DT_YEAR', 'ID_SABUN', 'CD_BONBU', 'CD_DEPT', 'CD_JOBFAMILY', 'DT_GROUP_JOIN', 'DT_JOIN', 'DT_BEFORE_PROMOTION', 'DT_PROMOTION', 'NO_POSITION_YEAR',\n",
    "             'NO_POINT_SUM', 'NO_POINT_LANGUAGE', 'NO_POINT_LICENSE', 'NO_POINT_REWARD', 'NO_POINT_DISCIPLINE', 'NO_POINT_EDU', 'NO_ADJUST_SUM',\n",
    "             'NO_RANK', 'CD_ZONE', 'LABEL', 'DS_BONBU', 'DS_DEPT', 'DS_JOBFAMILY', 'DS_ZONE']]\n",
    "\n",
    "base['ID_SABUN'] = base['ID_SABUN'].astype('str')"
   ]
  },
  {
   "attachments": {},
   "cell_type": "markdown",
   "metadata": {},
   "source": [
    "### DAAV_BASEINFO_DETAIL"
   ]
  },
  {
   "cell_type": "code",
   "execution_count": null,
   "metadata": {},
   "outputs": [],
   "source": [
    "print(file_list[4])\n",
    "info = pd.read_csv(file_list[4])\n",
    "info_data = info.copy()\n",
    "info_data = info_data[['ID_SABUN', 'CD_JOBTYPE', 'CD_DUTY', 'DT_BIRTH', 'DS_BIRTHPLACE', 'CD_ADOPTYPE', 'YN_HANDICAP', 'YN_SUPPORTED', 'YN_FOREIGNER', \n",
    "                       'YN_GENDER', 'CD_JOBFAMILY_JOIN', 'DS_JOBTYPE', 'DS_DUTY', 'DS_ADOPTYPE', 'DS_JOBFAMILY_JOIN', \n",
    "                       'DS_HNAME', 'DS_POSITION', 'DS_OCCUPATION', 'DS_HANDPHONE', 'DS_EMAIL']]\n",
    "info_data['ID_SABUN'] = info_data['ID_SABUN'].astype('str')"
   ]
  },
  {
   "cell_type": "code",
   "execution_count": null,
   "metadata": {},
   "outputs": [],
   "source": [
    "base = pd.merge(base, info_data, on=['ID_SABUN'], how='left')\n",
    "print(len(base))"
   ]
  },
  {
   "attachments": {},
   "cell_type": "markdown",
   "metadata": {},
   "source": [
    "### DAAT_DUTY_HISTORY"
   ]
  },
  {
   "cell_type": "code",
   "execution_count": null,
   "metadata": {},
   "outputs": [],
   "source": [
    "print(file_list[0])\n",
    "duty = pd.read_csv(file_list[0])\n",
    "duty_data = duty.copy()"
   ]
  },
  {
   "cell_type": "code",
   "execution_count": null,
   "metadata": {},
   "outputs": [],
   "source": [
    "duty_2020 = duty_data.loc[duty_data['DT_START'] < 20210101]\n",
    "duty_2021 = duty_data.loc[duty_data['DT_START'] < 20220101]\n",
    "duty_2022 = duty_data.loc[duty_data['DT_START'] < 20230101]\n",
    "\n",
    "duty_list = []\n",
    "\n",
    "for id in duty_2020['ID_SABUN'].unique().tolist() : \n",
    "    duty_list.append([id, 2020, duty_2020[duty_2020['ID_SABUN']==id]['CD_DUTY'].nunique()])\n",
    "for id in duty_2021['ID_SABUN'].unique().tolist() : \n",
    "    duty_list.append([id, 2021, duty_2021[duty_2021['ID_SABUN']==id]['CD_DUTY'].nunique()])\n",
    "for id in duty_2022['ID_SABUN'].unique().tolist() : \n",
    "    duty_list.append([id, 2022, duty_2022[duty_2022['ID_SABUN']==id]['CD_DUTY'].nunique()])"
   ]
  },
  {
   "cell_type": "code",
   "execution_count": null,
   "metadata": {},
   "outputs": [],
   "source": [
    "duty_temp = pd.DataFrame(duty_list, columns=['ID_SABUN', 'DT_YEAR', 'DUTY_CNT'])\n",
    "duty_temp['ID_SABUN'] = duty_temp['ID_SABUN'].astype('str')\n",
    "base = pd.merge(base, duty_temp, on = ['ID_SABUN', 'DT_YEAR'], how='left') "
   ]
  },
  {
   "attachments": {},
   "cell_type": "markdown",
   "metadata": {},
   "source": [
    "### DAAT_PROJECT_HISTORY"
   ]
  },
  {
   "cell_type": "code",
   "execution_count": null,
   "metadata": {},
   "outputs": [],
   "source": [
    "print(file_list[2])\n",
    "pro = pd.read_csv(file_list[2])\n",
    "pro_data = pro.copy()"
   ]
  },
  {
   "cell_type": "code",
   "execution_count": null,
   "metadata": {},
   "outputs": [],
   "source": [
    "pro_data_2020 = pro_data.loc[pro_data['DT_START'] < 20210101]\n",
    "pro_data_2021 = pro_data.loc[pro_data['DT_START'] < 20220101]\n",
    "pro_data_2022 = pro_data.loc[pro_data['DT_START'] < 20230101]"
   ]
  },
  {
   "cell_type": "code",
   "execution_count": null,
   "metadata": {},
   "outputs": [],
   "source": [
    "base_2020 = base[base['DT_YEAR']==2020]\n",
    "base_2021 = base[base['DT_YEAR']==2021]\n",
    "base_2022 = base[base['DT_YEAR']==2022]"
   ]
  },
  {
   "cell_type": "code",
   "execution_count": null,
   "metadata": {},
   "outputs": [],
   "source": [
    "pro_cnt_2020 = pd.DataFrame(pro_data_2020['ID_SABUN'].value_counts().index.tolist(), columns=['ID_SABUN'])\n",
    "pro_cnt_2020['PROJECT_CNT'] = pro_data_2020['ID_SABUN'].value_counts().values.tolist()\n",
    "pro_cnt_2020['ID_SABUN'] = pro_cnt_2020['ID_SABUN'].astype('str')\n",
    "base_2020 = pd.merge(base_2020, pro_cnt_2020, on=['ID_SABUN'], how='left')"
   ]
  },
  {
   "cell_type": "code",
   "execution_count": null,
   "metadata": {},
   "outputs": [],
   "source": [
    "pro_cnt_2021 = pd.DataFrame(pro_data_2021['ID_SABUN'].value_counts().index.tolist(), columns=['ID_SABUN'])\n",
    "pro_cnt_2021['PROJECT_CNT'] = pro_data_2021['ID_SABUN'].value_counts().values.tolist()\n",
    "pro_cnt_2021['ID_SABUN'] = pro_cnt_2021['ID_SABUN'].astype('str')\n",
    "base_2021 = pd.merge(base_2021, pro_cnt_2021, on=['ID_SABUN'], how='left')"
   ]
  },
  {
   "cell_type": "code",
   "execution_count": null,
   "metadata": {},
   "outputs": [],
   "source": [
    "pro_cnt_2022 = pd.DataFrame(pro_data_2022['ID_SABUN'].value_counts().index.tolist(), columns=['ID_SABUN'])\n",
    "pro_cnt_2022['PROJECT_CNT'] = pro_data_2022['ID_SABUN'].value_counts().values.tolist()\n",
    "pro_cnt_2022['ID_SABUN'] = pro_cnt_2022['ID_SABUN'].astype('str')\n",
    "base_2022 = pd.merge(base_2022, pro_cnt_2022, on=['ID_SABUN'], how='left')"
   ]
  },
  {
   "cell_type": "code",
   "execution_count": null,
   "metadata": {},
   "outputs": [],
   "source": [
    "base = pd.concat([base_2020, base_2021, base_2022], axis=0)\n",
    "print(len(base))"
   ]
  },
  {
   "attachments": {},
   "cell_type": "markdown",
   "metadata": {},
   "source": [
    "### DAAT_SUCCESSOR"
   ]
  },
  {
   "cell_type": "code",
   "execution_count": null,
   "metadata": {},
   "outputs": [],
   "source": [
    "print(file_list[3])\n",
    "sur = pd.read_csv(file_list[3])\n",
    "sur_data = sur.copy()\n",
    "sur_data = sur_data[['ID_SABUN', 'DT_YEAR']]\n",
    "sur_data['SUCCESSOR_YN'] = 1\n",
    "sur_data['ID_SABUN'] = sur_data['ID_SABUN'].astype('str')"
   ]
  },
  {
   "cell_type": "code",
   "execution_count": null,
   "metadata": {},
   "outputs": [],
   "source": [
    "sur_data"
   ]
  },
  {
   "cell_type": "code",
   "execution_count": null,
   "metadata": {},
   "outputs": [],
   "source": [
    "base = pd.merge(base, sur_data, on=['ID_SABUN', 'DT_YEAR'], how='left')\n",
    "print(len(base))\n",
    "base['SUCCESSOR_YN'] = base['SUCCESSOR_YN'].fillna(0)  "
   ]
  },
  {
   "cell_type": "code",
   "execution_count": null,
   "metadata": {},
   "outputs": [],
   "source": [
    "for i in sur_data['ID_SABUN'].unique().tolist() : \n",
    "    if i in base['ID_SABUN'].unique().tolist() : \n",
    "        print(i)"
   ]
  },
  {
   "attachments": {},
   "cell_type": "markdown",
   "metadata": {},
   "source": [
    "### DAJT_FINAL_RESULT & DAKT_MBO_USER"
   ]
  },
  {
   "cell_type": "code",
   "execution_count": null,
   "metadata": {},
   "outputs": [],
   "source": [
    "print(file_list[8])\n",
    "wpe = pd.read_csv(file_list[8])\n",
    "wpe_data = wpe.copy()\n",
    "\n",
    "print(file_list[9])\n",
    "mbo = pd.read_csv(file_list[9])\n",
    "mbo_data = mbo.copy()\n",
    "\n",
    "wpe_data = wpe_data[['ID_SABUN', 'DT_YEAR', 'NO_POINT_TOTAL_FIN', 'DS_POINT_TOTAL_FIN']]\n",
    "mbo_data = mbo_data[['CD_USER', 'DT_YEAR', 'NO_FINAL_POINT', 'DS_FINAL_POINT']]\n",
    "mbo_data.rename(columns = {'CD_USER' : 'ID_SABUN'}, inplace=True)"
   ]
  },
  {
   "cell_type": "code",
   "execution_count": null,
   "metadata": {},
   "outputs": [],
   "source": [
    "point_data = pd.merge(wpe_data, mbo_data, on=['ID_SABUN', 'DT_YEAR'], how='outer')\n",
    "point_data.dropna(subset = [ 'DS_POINT_TOTAL_FIN', 'NO_FINAL_POINT', 'DS_FINAL_POINT'], axis=0, how='all', inplace=True)\n",
    "point_data['ID_SABUN'] = point_data['ID_SABUN'].astype('str')"
   ]
  },
  {
   "cell_type": "code",
   "execution_count": null,
   "metadata": {},
   "outputs": [],
   "source": [
    "three_years = []\n",
    "\n",
    "for i in range(len(base)) : \n",
    "    temp_list = []\n",
    "    temp_data = point_data[point_data['ID_SABUN']==base['ID_SABUN'][i]]\n",
    "    main = base['DT_YEAR'][i]\n",
    "    if main not in temp_data['DT_YEAR'].unique().tolist() : \n",
    "        temp_list.append(0)\n",
    "        temp_list.append(0)\n",
    "    else : \n",
    "        if ((temp_data[temp_data['DT_YEAR']==main]['NO_POINT_TOTAL_FIN'].values[0]==temp_data[temp_data['DT_YEAR']==main]['NO_POINT_TOTAL_FIN'].values[0]) |\n",
    "        (temp_data[temp_data['DT_YEAR']==main]['DS_POINT_TOTAL_FIN'].values[0]==temp_data[temp_data['DT_YEAR']==main]['DS_POINT_TOTAL_FIN'].values[0])) : \n",
    "            temp_list.append(temp_data[temp_data['DT_YEAR']==main]['NO_POINT_TOTAL_FIN'].values[0])\n",
    "            temp_list.append(temp_data[temp_data['DT_YEAR']==main]['DS_POINT_TOTAL_FIN'].values[0])\n",
    "        else : \n",
    "            temp_list.append(temp_data[temp_data['DT_YEAR']==main]['NO_FINAL_POINT'].values[0])\n",
    "            temp_list.append(temp_data[temp_data['DT_YEAR']==main]['DS_FINAL_POINT'].values[0])         \n",
    "    \n",
    "    main -= 1\n",
    "    \n",
    "    if main not in temp_data['DT_YEAR'].unique().tolist() : \n",
    "        temp_list.append(0)\n",
    "        temp_list.append(0)\n",
    "    else : \n",
    "        if ((temp_data[temp_data['DT_YEAR']==main]['NO_POINT_TOTAL_FIN'].values[0]==temp_data[temp_data['DT_YEAR']==main]['NO_POINT_TOTAL_FIN'].values[0]) |\n",
    "        (temp_data[temp_data['DT_YEAR']==main]['DS_POINT_TOTAL_FIN'].values[0]==temp_data[temp_data['DT_YEAR']==main]['DS_POINT_TOTAL_FIN'].values[0])) : \n",
    "            temp_list.append(temp_data[temp_data['DT_YEAR']==main]['NO_POINT_TOTAL_FIN'].values[0])\n",
    "            temp_list.append(temp_data[temp_data['DT_YEAR']==main]['DS_POINT_TOTAL_FIN'].values[0])\n",
    "        else : \n",
    "            temp_list.append(temp_data[temp_data['DT_YEAR']==main]['NO_FINAL_POINT'].values[0])\n",
    "            temp_list.append(temp_data[temp_data['DT_YEAR']==main]['DS_FINAL_POINT'].values[0])   \n",
    "            \n",
    "    main -= 1\n",
    "    \n",
    "    if main not in temp_data['DT_YEAR'].unique().tolist() : \n",
    "        temp_list.append(0)\n",
    "        temp_list.append(0)\n",
    "    else : \n",
    "        if ((temp_data[temp_data['DT_YEAR']==main]['NO_POINT_TOTAL_FIN'].values[0]==temp_data[temp_data['DT_YEAR']==main]['NO_POINT_TOTAL_FIN'].values[0]) |\n",
    "        (temp_data[temp_data['DT_YEAR']==main]['DS_POINT_TOTAL_FIN'].values[0]==temp_data[temp_data['DT_YEAR']==main]['DS_POINT_TOTAL_FIN'].values[0])) : \n",
    "            temp_list.append(temp_data[temp_data['DT_YEAR']==main]['NO_POINT_TOTAL_FIN'].values[0])\n",
    "            temp_list.append(temp_data[temp_data['DT_YEAR']==main]['DS_POINT_TOTAL_FIN'].values[0])\n",
    "        else : \n",
    "            temp_list.append(temp_data[temp_data['DT_YEAR']==main]['NO_FINAL_POINT'].values[0])\n",
    "            temp_list.append(temp_data[temp_data['DT_YEAR']==main]['DS_FINAL_POINT'].values[0])  \n",
    "        \n",
    "    three_years.append(temp_list)    "
   ]
  },
  {
   "cell_type": "code",
   "execution_count": null,
   "metadata": {},
   "outputs": [],
   "source": [
    "base[['FINAL_POINT_THIS_YEAR', 'FINAL_GRADE_THIS_YEAR', 'FINAL_POINT_ONE_YEAR', 'FINAL_GRADE_ONE_YEAR', 'FINAL_POINT_TWO_YEAR', 'FINAL_GRADE_TWO_YEAR']] = three_years"
   ]
  },
  {
   "attachments": {},
   "cell_type": "markdown",
   "metadata": {},
   "source": [
    "### DHDT_MNTR_EXTRC_DTL"
   ]
  },
  {
   "cell_type": "code",
   "execution_count": null,
   "metadata": {},
   "outputs": [],
   "source": [
    "print(file_list[11])\n",
    "ext = pd.read_csv(file_list[11])\n",
    "ext_data = ext.copy()\n",
    "ext_data.dropna(subset=['TM_APPROVAL'], inplace=True)\n",
    "ext_data['TM_APPROVAL'] = ext_data['TM_APPROVAL'].astype('int64')\n",
    "ext_data = ext_data.reset_index(drop=True)"
   ]
  },
  {
   "cell_type": "code",
   "execution_count": null,
   "metadata": {},
   "outputs": [],
   "source": [
    "ext_data = ext_data[(ext_data['DS_REM'].str.contains('식대')) | (ext_data['CD_REM']==2) | (ext_data['CD_REM']==14)]\n",
    "ext_data = ext_data[ext_data['AM_TOT']>=50000]"
   ]
  },
  {
   "cell_type": "code",
   "execution_count": null,
   "metadata": {},
   "outputs": [],
   "source": [
    "month_cnt = []\n",
    "\n",
    "for id in ext_data['ID_SABUN'].unique().tolist() : \n",
    "    temp_data = ext_data[ext_data['ID_SABUN']==id]\n",
    "    avg = len(temp_data)/temp_data['YM_ACCOUNT'].nunique()\n",
    "    month_cnt.append([id, avg])\n",
    "    \n",
    "ext_data_avg = pd.DataFrame(month_cnt, columns=['ID_SABUN', 'MNTR'])"
   ]
  },
  {
   "cell_type": "code",
   "execution_count": null,
   "metadata": {},
   "outputs": [],
   "source": [
    "ext_data_avg['ID_SABUN'] = ext_data_avg['ID_SABUN'].astype('int64')\n",
    "ext_data_avg['ID_SABUN'] = ext_data_avg['ID_SABUN'].astype('str') "
   ]
  },
  {
   "cell_type": "code",
   "execution_count": null,
   "metadata": {},
   "outputs": [],
   "source": [
    "base = pd.merge(base, ext_data_avg, on=['ID_SABUN'], how='left')"
   ]
  },
  {
   "attachments": {},
   "cell_type": "markdown",
   "metadata": {},
   "source": [
    "### missing values"
   ]
  },
  {
   "cell_type": "code",
   "execution_count": null,
   "metadata": {},
   "outputs": [],
   "source": [
    "# DT_PROMOTION 기준 DT_YEAR보다 뒤이면 GROUP_JOIN 사용, NULL값이면 DT_JOIN 사용\n",
    "promotion_cnt = []\n",
    "\n",
    "for i in range(len(base)) : \n",
    "    if base['DT_PROMOTION'][i] == base['DT_PROMOTION'][i] :\n",
    "        if base['DT_YEAR'][i] <= int(str(base['DT_PROMOTION'][i])[0:4]) : \n",
    "            promotion_cnt.append(base['DT_YEAR'][i] - int(str(base['DT_GROUP_JOIN'][i])[0:4]))\n",
    "        else : \n",
    "            promotion_cnt.append(base['DT_YEAR'][i] - int(str(base['DT_PROMOTION'][i])[0:4]))\n",
    "    else : \n",
    "        promotion_cnt.append(base['DT_YEAR'][i] - int(str(base['DT_JOIN'][i])[0:4]))\n",
    "        \n",
    "base['BEFORE_PROMOTION_CNT'] = promotion_cnt"
   ]
  },
  {
   "cell_type": "code",
   "execution_count": null,
   "metadata": {},
   "outputs": [],
   "source": [
    "# 0411 수정\n",
    "base.drop(['NO_RANK', 'FINAL_POINT_THIS_YEAR', 'FINAL_POINT_ONE_YEAR', 'FINAL_POINT_TWO_YEAR', 'DT_BEFORE_PROMOTION', 'DT_PROMOTION', \n",
    "           'NO_POINT_DISCIPLINE', 'NO_POINT_EDU', 'SUCCESSOR_YN'], axis=1, inplace=True)"
   ]
  },
  {
   "cell_type": "code",
   "execution_count": null,
   "metadata": {},
   "outputs": [],
   "source": [
    "# 0411 수정\n",
    "missing_raw = base[base['DT_YEAR']!=2022]\n",
    "missing_raw.drop(['ID_SABUN', 'DS_BONBU', 'DS_DEPT', 'DS_JOBFAMILY', 'DS_ZONE', 'DS_JOBTYPE', 'DS_DUTY', 'DS_ADOPTYPE', 'DS_JOBFAMILY_JOIN', \n",
    "                  'DS_HNAME', 'DS_POSITION', 'DS_OCCUPATION', 'DS_HANDPHONE', 'DS_EMAIL', 'DT_JOIN', 'DT_GROUP_JOIN', 'DT_YEAR'], axis=1, inplace=True)\n",
    "missing_rate = (missing_raw.isnull().sum()/len(missing_raw)).to_dict()"
   ]
  },
  {
   "cell_type": "code",
   "execution_count": null,
   "metadata": {},
   "outputs": [],
   "source": [
    "base['CD_JOBFAMILY'] = base['CD_JOBFAMILY'].fillna(base['CD_JOBFAMILY'].mode()[0])\n",
    "base['CD_JOBTYPE'] = base['CD_JOBTYPE'].fillna(base['CD_JOBTYPE'].mode()[0])\n",
    "base['CD_DUTY'] = base['CD_DUTY'].fillna(base['CD_DUTY'].mode()[0])\n",
    "base['DS_BIRTHPLACE'] = base['DS_BIRTHPLACE'].fillna(base['DS_BIRTHPLACE'].mode()[0])"
   ]
  },
  {
   "cell_type": "code",
   "execution_count": null,
   "metadata": {},
   "outputs": [],
   "source": [
    "base['YN_FOREIGNER'] = base['YN_FOREIGNER'].fillna('N')"
   ]
  },
  {
   "cell_type": "code",
   "execution_count": null,
   "metadata": {},
   "outputs": [],
   "source": [
    "base['DS_BIRTHPLACE'].replace({' ' : '서울', '대한민국' : '서울', '광주광역시' : '광주', '충청남도' : '충남', '강원도' : '강원', '경상남도' : '경남', '경기 광명' : '경기', \n",
    "                               '전북 남원' : '전북', '전북 익산' : '전북', ' 서울' : '서울'}, inplace=True)"
   ]
  },
  {
   "cell_type": "code",
   "execution_count": null,
   "metadata": {},
   "outputs": [],
   "source": [
    "# 0411 수정\n",
    "zero_list = ['NO_POINT_LANGUAGE', 'NO_POINT_LICENSE', 'NO_POINT_REWARD', 'DUTY_CNT', 'PROJECT_CNT', 'MNTR']\n",
    "base[zero_list] = base[zero_list].fillna(0)"
   ]
  },
  {
   "cell_type": "code",
   "execution_count": null,
   "metadata": {},
   "outputs": [],
   "source": [
    "def ch_grade(data, columns) : \n",
    "    data[columns] = data[columns].replace({'O' : 3, 'R' : 2, 'D' : 1, 0 : 2, 'A' : 3, 'B' : 2, 'C' : 1})\n",
    "    data[columns] = data[columns].fillna(2)\n",
    "    return data"
   ]
  },
  {
   "cell_type": "code",
   "execution_count": null,
   "metadata": {},
   "outputs": [],
   "source": [
    "ch_grade(base, 'FINAL_GRADE_THIS_YEAR')\n",
    "ch_grade(base, 'FINAL_GRADE_ONE_YEAR')\n",
    "ch_grade(base, 'FINAL_GRADE_TWO_YEAR')"
   ]
  },
  {
   "cell_type": "code",
   "execution_count": null,
   "metadata": {},
   "outputs": [],
   "source": [
    "# 0411 수정\n",
    "train_data = base[base['DT_YEAR']!=2022]\n",
    "inference_data = base[base['DT_YEAR']==2022]\n",
    "train_data.drop(['DS_HNAME', 'DS_POSITION', 'DS_OCCUPATION', 'DS_HANDPHONE', 'DS_EMAIL', 'DT_JOIN', 'DT_GROUP_JOIN', 'DT_YEAR'], axis=1, inplace=True)\n",
    "inference_data.drop(['LABEL', 'DT_YEAR'], axis=1, inplace=True)"
   ]
  },
  {
   "cell_type": "code",
   "execution_count": null,
   "metadata": {},
   "outputs": [],
   "source": [
    "name_dict = {}\n",
    "for i in range(len(name)) : \n",
    "    name_dict[name['feature'][i]] = name['feature_name'][i]"
   ]
  },
  {
   "cell_type": "code",
   "execution_count": null,
   "metadata": {},
   "outputs": [],
   "source": [
    "today = datetime.today().strftime(\"%Y%m%d\")\n",
    "Path(f\"/ml/algorithmlabs.inference/{today}/promotion/pickle\").mkdir(parents=True, exist_ok=True)\n",
    "\n",
    "train_data.to_csv(f\"/ml/algorithmlabs.inference/{today}/promotion/train_data_promotion.csv\", index=False)\n",
    "inference_data.to_csv(f\"/ml/algorithmlabs.inference/{today}/promotion/inference_data_promotion.csv\", index=False)\n",
    "joblib.dump(missing_rate, f\"/ml/algorithmlabs.inference/{today}/promotion/pickle/missing_rate.pkl\")\n",
    "joblib.dump(name_dict, f\"/ml/algorithmlabs.inference/{today}/promotion/pickle/name_dict.pkl\")"
   ]
  }
 ],
 "metadata": {
  "kernelspec": {
   "display_name": "practice",
   "language": "python",
   "name": "python3"
  },
  "language_info": {
   "codemirror_mode": {
    "name": "ipython",
    "version": 3
   },
   "file_extension": ".py",
   "mimetype": "text/x-python",
   "name": "python",
   "nbconvert_exporter": "python",
   "pygments_lexer": "ipython3",
   "version": "3.8.5"
  },
  "orig_nbformat": 4,
  "vscode": {
   "interpreter": {
    "hash": "055ce310dfd61a9649730d91fa4dbaceeaf5df2d807db0aa8f4c64267c1c77f9"
   }
  }
 },
 "nbformat": 4,
 "nbformat_minor": 2
}
