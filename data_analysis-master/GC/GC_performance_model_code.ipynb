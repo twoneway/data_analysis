{
  "cells": [
    {
      "cell_type": "code",
      "execution_count": null,
      "metadata": {
        "id": "AZAg_Q41Lp26"
      },
      "outputs": [],
      "source": [
        "# 모델 학습(Training Data)"
      ]
    },
    {
      "cell_type": "code",
      "execution_count": null,
      "metadata": {
        "colab": {
          "base_uri": "https://localhost:8080/"
        },
        "id": "G3xREUL9qeHp",
        "outputId": "405d1208-e730-4491-f556-8535dfd1c039"
      },
      "outputs": [],
      "source": [
        "from google.colab import drive\n",
        "drive.mount('/content/drive')"
      ]
    },
    {
      "cell_type": "code",
      "execution_count": null,
      "metadata": {
        "id": "QhD766q7uYA1"
      },
      "outputs": [],
      "source": [
        "import pandas as pd\n",
        "import numpy as np\n",
        "from sklearn.model_selection import train_test_split\n",
        "from sklearn.preprocessing import StandardScaler\n",
        "from sklearn.ensemble import AdaBoostRegressor\n",
        "from sklearn.tree import DecisionTreeRegressor\n",
        "from sklearn.metrics import mean_absolute_error, mean_squared_error, mean_absolute_percentage_error, r2_score\n",
        "from math import sqrt"
      ]
    },
    {
      "cell_type": "code",
      "execution_count": null,
      "metadata": {
        "id": "8_t9URY5yCtw"
      },
      "outputs": [],
      "source": [
        "raw_data=pd.read_csv('/content/drive/My Drive/Colab Notebooks/performance forecasting(train data).csv')"
      ]
    },
    {
      "cell_type": "code",
      "execution_count": null,
      "metadata": {
        "id": "y-MEDJ8zyJJ6"
      },
      "outputs": [],
      "source": [
        "random_seed = 4"
      ]
    },
    {
      "cell_type": "code",
      "execution_count": null,
      "metadata": {
        "id": "B_vJOriRyMGI"
      },
      "outputs": [],
      "source": [
        "X = pd.get_dummies(raw_data.drop(['9블록(5등급)', '이름'], axis=1), columns = ['직책', '직급', '성별', '학력', '입사경로(경력/신입)'], drop_first=True)\n",
        "y = raw_data['9블록(5등급)']"
      ]
    },
    {
      "cell_type": "code",
      "execution_count": null,
      "metadata": {
        "id": "KDNp-yaI2fKz"
      },
      "outputs": [],
      "source": [
        "scaler = StandardScaler()\n",
        "scaler.fit(X)\n",
        "X_scaled = scaler.transform(X)\n",
        "X = pd.DataFrame(data=X_scaled, index=X.index, columns=X.columns)"
      ]
    },
    {
      "cell_type": "code",
      "execution_count": null,
      "metadata": {
        "id": "iio5dgAi1IEx"
      },
      "outputs": [],
      "source": [
        "X_train, X_test, y_train, y_test = train_test_split(X, y, test_size=0.3, random_state=random_seed)"
      ]
    },
    {
      "cell_type": "code",
      "execution_count": null,
      "metadata": {
        "id": "qd4H0Xz11i92"
      },
      "outputs": [],
      "source": [
        "model_ada = AdaBoostRegressor(DecisionTreeRegressor(max_depth = 8), n_estimators=700, learning_rate = 0.05, random_state=random_seed)\n",
        "model_ada.fit(X_train, y_train)\n",
        "pred_ada = model_ada.predict(X_test)"
      ]
    },
    {
      "cell_type": "code",
      "execution_count": null,
      "metadata": {
        "id": "jDmmgjMbL1sK"
      },
      "outputs": [],
      "source": [
        "# 학습 모델 평가지표"
      ]
    },
    {
      "cell_type": "code",
      "execution_count": null,
      "metadata": {
        "colab": {
          "base_uri": "https://localhost:8080/"
        },
        "id": "UEFy2RfdFY9K",
        "outputId": "5e58a623-2d35-4af4-a42c-5f2a670b84cb"
      },
      "outputs": [],
      "source": [
        "print('MAE = {:.3f}'.format(mean_absolute_error(y_test, pred_ada)))\n",
        "print('RMSE = {:.3f}'.format(sqrt(mean_squared_error(y_test, pred_ada, squared=False))))\n",
        "print('MAPE = {:.3f}'.format(mean_absolute_percentage_error(y_test, pred_ada)))\n",
        "print('r2 score = {:.3f}'.format(r2_score(y_test, pred_ada)))"
      ]
    },
    {
      "cell_type": "code",
      "execution_count": null,
      "metadata": {
        "id": "yERorF-mL6Tg"
      },
      "outputs": [],
      "source": [
        "# 모델 예측(Inference Data)"
      ]
    },
    {
      "cell_type": "code",
      "execution_count": null,
      "metadata": {
        "id": "hyNL94hB-H1k"
      },
      "outputs": [],
      "source": [
        "in_data = pd.read_csv('/content/drive/My Drive/Colab Notebooks/performance forecasting(inference data).csv')"
      ]
    },
    {
      "cell_type": "code",
      "execution_count": null,
      "metadata": {
        "id": "N1P0fa0XPBXf"
      },
      "outputs": [],
      "source": [
        "rest_data = in_data.drop(['사원 번호', '이름', '부문명', '본부명', '팀명'], axis=1)"
      ]
    },
    {
      "cell_type": "code",
      "execution_count": null,
      "metadata": {
        "id": "tun2kKLIFupf"
      },
      "outputs": [],
      "source": [
        "# drop하여 제거하는 '사원 번호', '이름', '부문명', '본부명', '팀명' 5개 column은 모델링에 미활용하는 HR 인사정보 데이터\n",
        "inference_data = pd.get_dummies(rest_data,\n",
        "                                  columns = ['직책', '직급', '성별', '학력', '입사경로(경력/신입)'], drop_first=True)"
      ]
    },
    {
      "cell_type": "code",
      "execution_count": null,
      "metadata": {
        "id": "OHQqba4wSu_n"
      },
      "outputs": [],
      "source": [
        "inference_data['목표달성도'] = inference_data['목표달성도']+0.226"
      ]
    },
    {
      "cell_type": "code",
      "execution_count": null,
      "metadata": {
        "id": "dz8Cpis4OgiQ"
      },
      "outputs": [],
      "source": [
        "#csv 파일 저장 코드"
      ]
    },
    {
      "cell_type": "code",
      "execution_count": null,
      "metadata": {
        "id": "HTaOXK1xOiiw"
      },
      "outputs": [],
      "source": [
        "real_model = model_ada\n",
        "path = \"/content/drive/MyDrive/Colab Notebooks/\"\n",
        "fixed_col_name = ['직급(과거)', '생년', '입사일', 'GC근속기간 월단위', '외부 경력 월단위', '총경력 월단위', '이직횟수',\n",
        "       '포상', '사내MBA 선발대상', 'two_years_ago', 'one_years_ago', '목표(개수)', '목표달성도',\n",
        "       '주기성', '체크인 횟수', '코멘트 횟수', '받은 배지(all)', '받은 배지(내부)', '받은 배지(외부)',\n",
        "       '보낸 배지(all)', '보낸 배지(내부)', '보낸 배지(외부)', '빠르게_긍정응답율', '젊게_긍정응답율',\n",
        "       '강하게_긍정응답율', '단도직입문항1_긍정응답율', '단도직입문항2_긍정응답율', 'taskboard 개수',\n",
        "       'task 개수', 'task comment 개수', '직책[팀장]', '직급[G2]', '직급[G3]', '직급[S1]',\n",
        "       '직급[S2]','성별[여]', '학력[대학-졸업]', '학력[박사]', '학력[석사]', '학력[전문대-졸업]',\n",
        "       '입사경로(경력/신입)[신입]']\n",
        "X = inference_data\n",
        "scaled_X = scaler.transform(inference_data)\n",
        "y = []"
      ]
    },
    {
      "cell_type": "code",
      "execution_count": null,
      "metadata": {
        "colab": {
          "base_uri": "https://localhost:8080/",
          "height": 1000,
          "referenced_widgets": [
            "bd483838b39f45fc899117228cb70727",
            "e1ad381552864b7b896d40d3cb7b552d",
            "d704def9e42b4445a1139e2a87450598",
            "9d5598bb01514ca58aa6015d1d469d9a",
            "bf9ed5852db941ed86f44653cc065ef4",
            "9d8a031f36ce402f8155606786af8de9",
            "232a21c000f9411aa62dcddfbb886fbd",
            "30df619c338b46ed8aced5c2f0d82b66",
            "98211f68dcf240129cd5e81e4b293abe",
            "eb81ffac19e947c9912da59ba6370135",
            "cb661b1d5219467f90c22e6471a4ee2c"
          ]
        },
        "id": "166pWDIlOldG",
        "outputId": "ec60fc79-d58a-4187-eeee-d6e70b4e4e68"
      },
      "outputs": [],
      "source": [
        "#변경사항1\n",
        "# link = 'logit' 제거 -> link 파라미터 사용 시 결측값이 포함되었다는 에러와 함께 실행 중단되어 해당 파라미터 제거\n",
        "# Input contains NaN, infinity or a value too large for dtype('float64')\n",
        "# github 참고하여 위 logit 제거 방법 솔루션 리서치했지만 원인 및 해결이유는 설명하지 않아 파악 어려움  \n",
        "# X does not have valid feature names, but SVC was fitted with feature names <- 원인파악 불가, 코드는 중단없이 계속 실행\n",
        "# 위 'X~'이슈의 경우 jupyter notebook에서 동일한 코드 실행결과 이슈가 발생하지 않아 colab 환경문제로 생각\n",
        "!pip install shap\n",
        "import shap\n",
        "shap.initjs()\n",
        "explainer = shap.KernelExplainer(model_ada.predict, X_train)\n",
        "shap_values = explainer.shap_values(scaled_X)"
      ]
    },
    {
      "cell_type": "code",
      "execution_count": null,
      "metadata": {
        "colab": {
          "base_uri": "https://localhost:8080/"
        },
        "id": "UmvHoOc8Ol81",
        "outputId": "e378d713-2665-4bfe-f9d0-23f29425a081"
      },
      "outputs": [],
      "source": [
        "# 변경사항2\n",
        "# inference 데이터에는 label이 존재하지 않기에 y column 제거\n",
        "X.columns = fixed_col_name\n",
        "predicted = real_model.predict(scaled_X)\n",
        "X.index = pd.RangeIndex(len(scaled_X))"
      ]
    },
    {
      "cell_type": "code",
      "execution_count": null,
      "metadata": {
        "id": "guTvAuUyOnkC"
      },
      "outputs": [],
      "source": [
        "pred = pd.Series(predicted)\n",
        "pred.name = \"결과\""
      ]
    },
    {
      "cell_type": "code",
      "execution_count": null,
      "metadata": {
        "id": "6o3gWnpSOpAY"
      },
      "outputs": [],
      "source": [
        "inference_data = pd.concat([X, pred], axis=1)\n",
        "inference_data.to_csv(path + \"inference_data.csv\", index=False)"
      ]
    },
    {
      "cell_type": "code",
      "execution_count": null,
      "metadata": {
        "id": "43LVY0HzOqfM"
      },
      "outputs": [],
      "source": [
        "# 변경사항3\n",
        "# shape_values의 type이 shap._explanation.Explanation -> numpy.ndarray로 변경되어 type에 맞추어 value값 추출\n",
        "importances = np.absolute(shap_values).sum(axis=0) / shap_values.shape[0]\n",
        "feature_importance = pd.Series(importances / sum(importances))\n",
        "feature_importance.index = fixed_col_name\n",
        "feature_importance.to_csv(path + \"feature_importance.csv\", index=True)"
      ]
    },
    {
      "cell_type": "code",
      "execution_count": null,
      "metadata": {
        "id": "SO7zrKukOr_H"
      },
      "outputs": [],
      "source": [
        "means = shap_values.sum(axis=0) / shap_values.shape[0]\n",
        "means = pd.Series(means, index = fixed_col_name)\n",
        "means = means / means.abs().sum()\n",
        "means.columns = [\"feature\", \"mean\"]\n",
        "means.to_csv(path + \"mean_weight.csv\", index=True)"
      ]
    },
    {
      "cell_type": "code",
      "execution_count": null,
      "metadata": {
        "id": "dlM0VlSrOtGp"
      },
      "outputs": [],
      "source": [
        "'''\n",
        "feature_weight = pd.DataFrame(np.array(\n",
        "    [x / np.absolute(x).sum() for x in shap_values]\n",
        "), index = pd.RangeIndex(len(shap_values)), columns = fixed_col_name)\n",
        "feature_weight.to_csv(path + \"feature_weight.csv\", index=False)\n",
        "'''"
      ]
    },
    {
      "cell_type": "code",
      "execution_count": null,
      "metadata": {
        "colab": {
          "base_uri": "https://localhost:8080/",
          "height": 2300
        },
        "id": "4W51pQff8jUM",
        "outputId": "47475e38-809b-4508-f362-24ca53a0ac42"
      },
      "outputs": [],
      "source": [
        "pos_max = shap_values.max(axis=0)\n",
        "neg_max = shap_values.min(axis=0)\n",
        "new_list = []\n",
        "for row in shap_values:\n",
        "  temp = []\n",
        "  for ele, pos, neg in zip(row, pos_max, neg_max):\n",
        "    if ele >= 0:\n",
        "      if max == 0:\n",
        "        temp.append(0)\n",
        "      else:\n",
        "        temp.append(ele/pos)\n",
        "    else:\n",
        "      if neg == 0:\n",
        "        temp.append(0)\n",
        "      else:\n",
        "        temp.append(-ele/neg)\n",
        "  new_list.append(temp)\n",
        "\n",
        "feature_weight = pd.DataFrame(new_list, index = pd.RangeIndex(len(shap_values)), columns = fixed_col_name)\n",
        "feature_weight = feature_weight.fillna(0)\n",
        "      \n",
        "# feature_weight = pd.DataFrame(np.array(\n",
        "#     [x / np.absolute(x).sum() for x in shap_values.values]\n",
        "# ), index = pd.RangeIndex(len(shap_values.values)), columns = fixed_col_name)\n",
        "feature_weight.to_csv(path + \"feature_weight.csv\", index=False)\n",
        "feature_weight"
      ]
    }
  ],
  "metadata": {
    "colab": {
      "provenance": []
    },
    "kernelspec": {
      "display_name": "Python 3",
      "name": "python3"
    },
    "language_info": {
      "name": "python"
    },
    "widgets": {
      "application/vnd.jupyter.widget-state+json": {
        "232a21c000f9411aa62dcddfbb886fbd": {
          "model_module": "@jupyter-widgets/base",
          "model_module_version": "1.2.0",
          "model_name": "LayoutModel",
          "state": {
            "_model_module": "@jupyter-widgets/base",
            "_model_module_version": "1.2.0",
            "_model_name": "LayoutModel",
            "_view_count": null,
            "_view_module": "@jupyter-widgets/base",
            "_view_module_version": "1.2.0",
            "_view_name": "LayoutView",
            "align_content": null,
            "align_items": null,
            "align_self": null,
            "border": null,
            "bottom": null,
            "display": null,
            "flex": null,
            "flex_flow": null,
            "grid_area": null,
            "grid_auto_columns": null,
            "grid_auto_flow": null,
            "grid_auto_rows": null,
            "grid_column": null,
            "grid_gap": null,
            "grid_row": null,
            "grid_template_areas": null,
            "grid_template_columns": null,
            "grid_template_rows": null,
            "height": null,
            "justify_content": null,
            "justify_items": null,
            "left": null,
            "margin": null,
            "max_height": null,
            "max_width": null,
            "min_height": null,
            "min_width": null,
            "object_fit": null,
            "object_position": null,
            "order": null,
            "overflow": null,
            "overflow_x": null,
            "overflow_y": null,
            "padding": null,
            "right": null,
            "top": null,
            "visibility": null,
            "width": null
          }
        },
        "30df619c338b46ed8aced5c2f0d82b66": {
          "model_module": "@jupyter-widgets/controls",
          "model_module_version": "1.5.0",
          "model_name": "ProgressStyleModel",
          "state": {
            "_model_module": "@jupyter-widgets/controls",
            "_model_module_version": "1.5.0",
            "_model_name": "ProgressStyleModel",
            "_view_count": null,
            "_view_module": "@jupyter-widgets/base",
            "_view_module_version": "1.2.0",
            "_view_name": "StyleView",
            "bar_color": null,
            "description_width": ""
          }
        },
        "98211f68dcf240129cd5e81e4b293abe": {
          "model_module": "@jupyter-widgets/base",
          "model_module_version": "1.2.0",
          "model_name": "LayoutModel",
          "state": {
            "_model_module": "@jupyter-widgets/base",
            "_model_module_version": "1.2.0",
            "_model_name": "LayoutModel",
            "_view_count": null,
            "_view_module": "@jupyter-widgets/base",
            "_view_module_version": "1.2.0",
            "_view_name": "LayoutView",
            "align_content": null,
            "align_items": null,
            "align_self": null,
            "border": null,
            "bottom": null,
            "display": null,
            "flex": null,
            "flex_flow": null,
            "grid_area": null,
            "grid_auto_columns": null,
            "grid_auto_flow": null,
            "grid_auto_rows": null,
            "grid_column": null,
            "grid_gap": null,
            "grid_row": null,
            "grid_template_areas": null,
            "grid_template_columns": null,
            "grid_template_rows": null,
            "height": null,
            "justify_content": null,
            "justify_items": null,
            "left": null,
            "margin": null,
            "max_height": null,
            "max_width": null,
            "min_height": null,
            "min_width": null,
            "object_fit": null,
            "object_position": null,
            "order": null,
            "overflow": null,
            "overflow_x": null,
            "overflow_y": null,
            "padding": null,
            "right": null,
            "top": null,
            "visibility": null,
            "width": null
          }
        },
        "9d5598bb01514ca58aa6015d1d469d9a": {
          "model_module": "@jupyter-widgets/controls",
          "model_module_version": "1.5.0",
          "model_name": "FloatProgressModel",
          "state": {
            "_dom_classes": [],
            "_model_module": "@jupyter-widgets/controls",
            "_model_module_version": "1.5.0",
            "_model_name": "FloatProgressModel",
            "_view_count": null,
            "_view_module": "@jupyter-widgets/controls",
            "_view_module_version": "1.5.0",
            "_view_name": "ProgressView",
            "bar_style": "success",
            "description": "",
            "description_tooltip": null,
            "layout": "IPY_MODEL_98211f68dcf240129cd5e81e4b293abe",
            "max": 123,
            "min": 0,
            "orientation": "horizontal",
            "style": "IPY_MODEL_30df619c338b46ed8aced5c2f0d82b66",
            "value": 123
          }
        },
        "9d8a031f36ce402f8155606786af8de9": {
          "model_module": "@jupyter-widgets/controls",
          "model_module_version": "1.5.0",
          "model_name": "DescriptionStyleModel",
          "state": {
            "_model_module": "@jupyter-widgets/controls",
            "_model_module_version": "1.5.0",
            "_model_name": "DescriptionStyleModel",
            "_view_count": null,
            "_view_module": "@jupyter-widgets/base",
            "_view_module_version": "1.2.0",
            "_view_name": "StyleView",
            "description_width": ""
          }
        },
        "bd483838b39f45fc899117228cb70727": {
          "model_module": "@jupyter-widgets/controls",
          "model_module_version": "1.5.0",
          "model_name": "HBoxModel",
          "state": {
            "_dom_classes": [],
            "_model_module": "@jupyter-widgets/controls",
            "_model_module_version": "1.5.0",
            "_model_name": "HBoxModel",
            "_view_count": null,
            "_view_module": "@jupyter-widgets/controls",
            "_view_module_version": "1.5.0",
            "_view_name": "HBoxView",
            "box_style": "",
            "children": [
              "IPY_MODEL_d704def9e42b4445a1139e2a87450598",
              "IPY_MODEL_9d5598bb01514ca58aa6015d1d469d9a",
              "IPY_MODEL_bf9ed5852db941ed86f44653cc065ef4"
            ],
            "layout": "IPY_MODEL_e1ad381552864b7b896d40d3cb7b552d"
          }
        },
        "bf9ed5852db941ed86f44653cc065ef4": {
          "model_module": "@jupyter-widgets/controls",
          "model_module_version": "1.5.0",
          "model_name": "HTMLModel",
          "state": {
            "_dom_classes": [],
            "_model_module": "@jupyter-widgets/controls",
            "_model_module_version": "1.5.0",
            "_model_name": "HTMLModel",
            "_view_count": null,
            "_view_module": "@jupyter-widgets/controls",
            "_view_module_version": "1.5.0",
            "_view_name": "HTMLView",
            "description": "",
            "description_tooltip": null,
            "layout": "IPY_MODEL_cb661b1d5219467f90c22e6471a4ee2c",
            "placeholder": "​",
            "style": "IPY_MODEL_eb81ffac19e947c9912da59ba6370135",
            "value": " 123/123 [57:53&lt;00:00, 28.60s/it]"
          }
        },
        "cb661b1d5219467f90c22e6471a4ee2c": {
          "model_module": "@jupyter-widgets/base",
          "model_module_version": "1.2.0",
          "model_name": "LayoutModel",
          "state": {
            "_model_module": "@jupyter-widgets/base",
            "_model_module_version": "1.2.0",
            "_model_name": "LayoutModel",
            "_view_count": null,
            "_view_module": "@jupyter-widgets/base",
            "_view_module_version": "1.2.0",
            "_view_name": "LayoutView",
            "align_content": null,
            "align_items": null,
            "align_self": null,
            "border": null,
            "bottom": null,
            "display": null,
            "flex": null,
            "flex_flow": null,
            "grid_area": null,
            "grid_auto_columns": null,
            "grid_auto_flow": null,
            "grid_auto_rows": null,
            "grid_column": null,
            "grid_gap": null,
            "grid_row": null,
            "grid_template_areas": null,
            "grid_template_columns": null,
            "grid_template_rows": null,
            "height": null,
            "justify_content": null,
            "justify_items": null,
            "left": null,
            "margin": null,
            "max_height": null,
            "max_width": null,
            "min_height": null,
            "min_width": null,
            "object_fit": null,
            "object_position": null,
            "order": null,
            "overflow": null,
            "overflow_x": null,
            "overflow_y": null,
            "padding": null,
            "right": null,
            "top": null,
            "visibility": null,
            "width": null
          }
        },
        "d704def9e42b4445a1139e2a87450598": {
          "model_module": "@jupyter-widgets/controls",
          "model_module_version": "1.5.0",
          "model_name": "HTMLModel",
          "state": {
            "_dom_classes": [],
            "_model_module": "@jupyter-widgets/controls",
            "_model_module_version": "1.5.0",
            "_model_name": "HTMLModel",
            "_view_count": null,
            "_view_module": "@jupyter-widgets/controls",
            "_view_module_version": "1.5.0",
            "_view_name": "HTMLView",
            "description": "",
            "description_tooltip": null,
            "layout": "IPY_MODEL_232a21c000f9411aa62dcddfbb886fbd",
            "placeholder": "​",
            "style": "IPY_MODEL_9d8a031f36ce402f8155606786af8de9",
            "value": "100%"
          }
        },
        "e1ad381552864b7b896d40d3cb7b552d": {
          "model_module": "@jupyter-widgets/base",
          "model_module_version": "1.2.0",
          "model_name": "LayoutModel",
          "state": {
            "_model_module": "@jupyter-widgets/base",
            "_model_module_version": "1.2.0",
            "_model_name": "LayoutModel",
            "_view_count": null,
            "_view_module": "@jupyter-widgets/base",
            "_view_module_version": "1.2.0",
            "_view_name": "LayoutView",
            "align_content": null,
            "align_items": null,
            "align_self": null,
            "border": null,
            "bottom": null,
            "display": null,
            "flex": null,
            "flex_flow": null,
            "grid_area": null,
            "grid_auto_columns": null,
            "grid_auto_flow": null,
            "grid_auto_rows": null,
            "grid_column": null,
            "grid_gap": null,
            "grid_row": null,
            "grid_template_areas": null,
            "grid_template_columns": null,
            "grid_template_rows": null,
            "height": null,
            "justify_content": null,
            "justify_items": null,
            "left": null,
            "margin": null,
            "max_height": null,
            "max_width": null,
            "min_height": null,
            "min_width": null,
            "object_fit": null,
            "object_position": null,
            "order": null,
            "overflow": null,
            "overflow_x": null,
            "overflow_y": null,
            "padding": null,
            "right": null,
            "top": null,
            "visibility": null,
            "width": null
          }
        },
        "eb81ffac19e947c9912da59ba6370135": {
          "model_module": "@jupyter-widgets/controls",
          "model_module_version": "1.5.0",
          "model_name": "DescriptionStyleModel",
          "state": {
            "_model_module": "@jupyter-widgets/controls",
            "_model_module_version": "1.5.0",
            "_model_name": "DescriptionStyleModel",
            "_view_count": null,
            "_view_module": "@jupyter-widgets/base",
            "_view_module_version": "1.2.0",
            "_view_name": "StyleView",
            "description_width": ""
          }
        }
      }
    }
  },
  "nbformat": 4,
  "nbformat_minor": 0
}
