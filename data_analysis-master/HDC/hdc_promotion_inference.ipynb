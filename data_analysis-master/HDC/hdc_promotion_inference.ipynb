{
 "cells": [
  {
   "cell_type": "code",
   "execution_count": 16,
   "metadata": {},
   "outputs": [],
   "source": [
    "import pandas as pd \n",
    "import numpy as np\n",
    "from sklearn.preprocessing import LabelEncoder, StandardScaler, MinMaxScaler\n",
    "from datetime import datetime\n",
    "import shap\n",
    "import json\n",
    "import joblib\n",
    "from pycaret.classification import *"
   ]
  },
  {
   "cell_type": "code",
   "execution_count": 17,
   "metadata": {},
   "outputs": [],
   "source": [
    "path = 'c:\\\\Users\\\\wongi\\\\Desktop\\\\알고리즘랩스\\\\프로젝트\\\\현대산업개발\\\\develop'"
   ]
  },
  {
   "cell_type": "code",
   "execution_count": 18,
   "metadata": {},
   "outputs": [],
   "source": [
    "raw_data = pd.read_csv(f'{path}\\\\algorithmlabs.inference\\\\inference_data_promotion.csv')\n",
    "model = joblib.load(f'{path}\\\\algorithmlabs.inference\\\\pickle_promotion\\\\model.pkl')\n",
    "explainer = joblib.load(f'{path}\\\\algorithmlabs.inference\\\\pickle_promotion\\\\explainer.pkl')\n",
    "encoder = joblib.load(f'{path}\\\\algorithmlabs.inference\\\\pickle_promotion\\\\label_encoder.pkl')\n",
    "name_dict = joblib.load(f'{path}\\\\algorithmlabs.inference\\\\pickle_promotion\\\\name_dict.pkl')"
   ]
  },
  {
   "cell_type": "code",
   "execution_count": 19,
   "metadata": {},
   "outputs": [],
   "source": [
    "raw_data['NO_POINT_SUM'] = round(raw_data['NO_POINT_SUM'], 1)\n",
    "inf_data = raw_data.copy()"
   ]
  },
  {
   "cell_type": "code",
   "execution_count": 20,
   "metadata": {},
   "outputs": [],
   "source": [
    "inf_data['YN_HANDICAP'].replace({'Y' : 1, 'N' : 0}, inplace=True)\n",
    "inf_data['YN_SUPPORTED'].replace({'Y' : 1, 'N' : 0}, inplace=True)\n",
    "inf_data['YN_FOREIGNER'].replace({'Y' : 1, 'N' : 0}, inplace=True)\n",
    "inf_data['YN_GENDER'].replace({'M' : 1, 'W' : 0}, inplace=True)"
   ]
  },
  {
   "cell_type": "code",
   "execution_count": 21,
   "metadata": {},
   "outputs": [],
   "source": [
    "for label in np.unique(inf_data['DS_BIRTHPLACE']):\n",
    "    if label not in encoder.classes_: \n",
    "        encoder.classes_ = np.append(encoder.classes_, label) \n",
    "inf_data['DS_BIRTHPLACE'] = encoder.transform(inf_data['DS_BIRTHPLACE'])"
   ]
  },
  {
   "cell_type": "code",
   "execution_count": 22,
   "metadata": {},
   "outputs": [],
   "source": [
    "inf_data.drop(['ID_SABUN', 'DS_BONBU', 'DS_DEPT', 'DS_JOBFAMILY', 'DS_ZONE', 'DS_JOBTYPE', 'DS_DUTY', 'DS_ADOPTYPE', 'DS_JOBFAMILY_JOIN',\n",
    "               'DS_HNAME', 'DS_POSITION', 'DS_OCCUPATION', 'DS_HANDPHONE', 'DS_EMAIL', 'DT_JOIN', 'DT_GROUP_JOIN'], axis=1, inplace=True)"
   ]
  },
  {
   "cell_type": "code",
   "execution_count": 23,
   "metadata": {},
   "outputs": [],
   "source": [
    "predict_proba = model.predict_proba(inf_data)[:,1]\n",
    "raw_data['predict_proba'] = predict_proba"
   ]
  },
  {
   "cell_type": "code",
   "execution_count": 24,
   "metadata": {},
   "outputs": [],
   "source": [
    "raw_data = raw_data[raw_data.columns[1:2].tolist() + raw_data.columns[-1:].tolist() + raw_data.columns[0:1].tolist() + raw_data.columns[2:-1].tolist()]"
   ]
  },
  {
   "cell_type": "code",
   "execution_count": 25,
   "metadata": {},
   "outputs": [],
   "source": [
    "columns = ['ID_SABUN', 'predict_proba', 'DT_YEAR', 'DS_HNAME', 'DS_POSITION', 'DS_OCCUPATION', 'DS_HANDPHONE', 'DS_EMAIL', 'CD_BONBU', 'CD_DEPT',\n",
    "       'CD_JOBFAMILY', 'DS_BONBU', 'DS_DEPT', 'DS_JOBFAMILY', 'DT_BIRTH', 'DS_BIRTHPLACE', 'DT_GROUP_JOIN', 'DT_JOIN', 'NO_POSITION_YEAR', 'NO_POINT_SUM',\n",
    "       'NO_POINT_LANGUAGE', 'NO_POINT_LICENSE', 'NO_POINT_REWARD', 'NO_ADJUST_SUM', 'CD_ZONE',\n",
    "       'DS_ZONE', 'CD_JOBTYPE', 'CD_DUTY', 'CD_ADOPTYPE', 'YN_HANDICAP', 'YN_SUPPORTED', 'YN_FOREIGNER', 'YN_GENDER', 'CD_JOBFAMILY_JOIN', \n",
    "       'DS_JOBTYPE', 'DS_DUTY', 'DS_ADOPTYPE', 'DS_JOBFAMILY_JOIN', 'DUTY_CNT', 'PROJECT_CNT', 'FINAL_GRADE_THIS_YEAR',\n",
    "       'FINAL_GRADE_ONE_YEAR', 'FINAL_GRADE_TWO_YEAR', 'MNTR', 'BEFORE_PROMOTION_CNT']\n",
    "raw_data = raw_data[columns]"
   ]
  },
  {
   "cell_type": "code",
   "execution_count": 26,
   "metadata": {},
   "outputs": [],
   "source": [
    "raw_data.drop(['CD_BONBU', 'CD_DEPT', 'CD_JOBFAMILY', 'CD_ZONE', 'CD_JOBTYPE', 'CD_DUTY', 'CD_ADOPTYPE', 'CD_JOBFAMILY_JOIN'], axis=1, inplace=True)"
   ]
  },
  {
   "cell_type": "code",
   "execution_count": 27,
   "metadata": {},
   "outputs": [],
   "source": [
    "shap_values = explainer.shap_values(inf_data, check_additivity=False)\n",
    "new_shap=[]\n",
    "\n",
    "if len(shap_values) == 2 :\n",
    "    for i in range(len(shap_values[1])) :\n",
    "        new_shap.append(shap_values[1][i]/abs(shap_values[1][i]).sum())\n",
    "else : \n",
    "    for i in range(len(shap_values)) :\n",
    "        new_shap.append(shap_values[i]/abs(shap_values[i]).sum())\n",
    "        \n",
    "feature_weight = pd.DataFrame(new_shap, columns=inf_data.columns)\n",
    "feature_weight['ID_SABUN'] = raw_data['ID_SABUN']\n",
    "feature_weight = feature_weight[feature_weight.columns[-1:].tolist() + feature_weight.columns[:-1].tolist()]"
   ]
  },
  {
   "cell_type": "code",
   "execution_count": 28,
   "metadata": {},
   "outputs": [],
   "source": [
    "for name in raw_data.columns.tolist() : \n",
    "    for name_ex in name_dict.keys() : \n",
    "        if name == name_ex : \n",
    "            raw_data.rename(columns={name : name_dict[name_ex]}, inplace=True)"
   ]
  },
  {
   "cell_type": "code",
   "execution_count": 29,
   "metadata": {},
   "outputs": [],
   "source": [
    "for name in feature_weight.columns.tolist() : \n",
    "    for name_ex in name_dict.keys() : \n",
    "        if name == name_ex : \n",
    "            feature_weight.rename(columns={name : name_dict[name_ex]}, inplace=True)"
   ]
  },
  {
   "cell_type": "code",
   "execution_count": 30,
   "metadata": {},
   "outputs": [],
   "source": [
    "raw_data.to_csv(f'{path}\\\\algorithmlabs.inference\\\\infer_result_promotion.csv', index=False)\n",
    "feature_weight.to_csv(f'{path}\\\\algorithmlabs.inference\\\\feature_weight_promotion.csv', index=False)"
   ]
  }
 ],
 "metadata": {
  "kernelspec": {
   "display_name": "ahro_",
   "language": "python",
   "name": "python3"
  },
  "language_info": {
   "codemirror_mode": {
    "name": "ipython",
    "version": 3
   },
   "file_extension": ".py",
   "mimetype": "text/x-python",
   "name": "python",
   "nbconvert_exporter": "python",
   "pygments_lexer": "ipython3",
   "version": "3.8.5"
  },
  "orig_nbformat": 4
 },
 "nbformat": 4,
 "nbformat_minor": 2
}
