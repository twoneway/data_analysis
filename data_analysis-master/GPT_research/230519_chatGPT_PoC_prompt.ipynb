{
  "cells": [
    {
      "cell_type": "code",
      "execution_count": null,
      "metadata": {
        "colab": {
          "base_uri": "https://localhost:8080/"
        },
        "id": "4QkXB8-Cj-_s",
        "outputId": "067ede07-db53-4a00-fe9c-ad1377096e4a"
      },
      "outputs": [],
      "source": [
        "!pip install openai"
      ]
    },
    {
      "cell_type": "code",
      "execution_count": null,
      "metadata": {
        "colab": {
          "base_uri": "https://localhost:8080/"
        },
        "id": "y1ENn8CokEue",
        "outputId": "9587c6ee-e8ee-481a-c941-02eea391e221"
      },
      "outputs": [],
      "source": [
        "!pip install mysql-connector-python"
      ]
    },
    {
      "cell_type": "code",
      "execution_count": null,
      "metadata": {
        "id": "5REHsjZVnc7l"
      },
      "outputs": [],
      "source": [
        "# package\n",
        "\n",
        "import openai\n",
        "import mysql.connector\n",
        "from pprint import pprint # chatGPT message가 잘 출력되되도록 사용\n",
        "import pandas as pd\n",
        "import numpy as np\n",
        "from datetime import datetime\n",
        "from pathlib import Path"
      ]
    },
    {
      "cell_type": "code",
      "execution_count": null,
      "metadata": {
        "colab": {
          "base_uri": "https://localhost:8080/"
        },
        "id": "iTD2WzYG5KQx",
        "outputId": "ec3b7324-d890-46d7-adbc-5c9f686b4f03"
      },
      "outputs": [],
      "source": [
        "# Google Drive 마운트\n",
        "# 마운트는 본인 드라이브만 가능하기에 공유 폴더 같은 경우 본인 드라이브에 바로가기를 추가하여 사용\n",
        "\n",
        "from google.colab import drive\n",
        "drive.mount('/content/drive')"
      ]
    },
    {
      "cell_type": "code",
      "execution_count": null,
      "metadata": {
        "id": "8eXAa6AR4jsS"
      },
      "outputs": [],
      "source": [
        "# API KEY : contact 계정의 API key 발급하여 사용\n",
        "\n",
        "openai.api_key = \"\""
      ]
    },
    {
      "cell_type": "code",
      "execution_count": null,
      "metadata": {
        "id": "Um6CAncjC2ww"
      },
      "outputs": [],
      "source": [
        "today = datetime.today().strftime(\"%Y%m%d\")\n",
        "Path(f\"/content/drive/MyDrive/HAI research/output/{today}/py_output\").mkdir(parents=True, exist_ok=True)"
      ]
    },
    {
      "cell_type": "code",
      "execution_count": null,
      "metadata": {
        "id": "0kN4airL6Y-6"
      },
      "outputs": [],
      "source": [
        "# google sheet를 바로 연동하는 것은 원본 훼손 위험이 존재하기에 우선 xlsx 파일을 다운로드 및 업로드하여여 활용\n",
        "\n",
        "raw_data = pd.read_excel(\"/content/drive/MyDrive/HAI research/data/PoC 평가.xlsx\", sheet_name='total')"
      ]
    },
    {
      "cell_type": "code",
      "execution_count": null,
      "metadata": {
        "id": "DGFP9nY-9yhi"
      },
      "outputs": [],
      "source": [
        "en_data = raw_data.copy()"
      ]
    },
    {
      "cell_type": "code",
      "execution_count": null,
      "metadata": {
        "id": "l3W0B0WL-NLg"
      },
      "outputs": [],
      "source": [
        "# PoC 평가가 A+인 인원들만 불러오기\n",
        "# url 주소에 userID가 존재하는 형식 데이터만 불러오기\n",
        "en_data = en_data.loc[en_data['총평 \\n(Letter grade, like A+, B+)'] == 'A+']\n",
        "en_data = en_data[en_data['framing docs'].str.contains('&userID', na = False)].reset_index(drop=True)"
      ]
    },
    {
      "cell_type": "code",
      "execution_count": null,
      "metadata": {
        "id": "tXMz2ql1-aRn"
      },
      "outputs": [],
      "source": [
        "# '&' 기준으로 파싱하여 user_id 리스트에 저장하기\n",
        "id_list = []\n",
        "for i in range(len(en_data)) :\n",
        "  id_list.append(en_data['framing docs'][i].split('&')[1][7:])"
      ]
    },
    {
      "cell_type": "code",
      "execution_count": null,
      "metadata": {
        "id": "xlOt9-8sBdSS"
      },
      "outputs": [],
      "source": [
        "# DB 연동\n",
        "\n",
        "mydb = mysql.connector.connect(\n",
        "  host=\"\",\n",
        "  user=\"\",\n",
        "  password=\"\",\n",
        "  database=\"\"\n",
        ")\n",
        "\n",
        "# 저장된 userID 정보 불러와서 사용\n",
        "userCode = id_list[10]\n",
        "\n",
        "mycursor = mydb.cursor()\n",
        "\n",
        "mycursor.execute(\"SELECT user_id from userCodeTable where code='\" + userCode + \"'\")\n",
        "\n",
        "myresult = mycursor.fetchall()\n",
        "\n",
        "userID = myresult[0][0]\n",
        "\n",
        "mycursor.execute(\"SELECT user_id, question_id, response FROM responseTable where user_id='\" + str(userID) + \"'\")\n",
        "\n",
        "myresult = mycursor.fetchall()\n",
        "\n",
        "userResponse = {}\n",
        "\n",
        "# 0부터 시작되는 문항번호를 1부터 시작하도록 변경\n",
        "for x in myresult:\n",
        "    userResponse[x[1]+1] = x[2]"
      ]
    },
    {
      "cell_type": "code",
      "execution_count": null,
      "metadata": {
        "colab": {
          "base_uri": "https://localhost:8080/"
        },
        "id": "mU63pTCGYSzN",
        "outputId": "a3ce9bb3-3593-4672-bb72-51a789fe3943"
      },
      "outputs": [],
      "source": [
        "userResponse"
      ]
    },
    {
      "cell_type": "code",
      "execution_count": null,
      "metadata": {
        "id": "kwTwYvVuniwm"
      },
      "outputs": [],
      "source": [
        "# 문항 정보 입력\n",
        "qna = pd.read_csv(\"/content/drive/MyDrive/HAI research/data/PoC_Question.csv\")"
      ]
    },
    {
      "cell_type": "code",
      "execution_count": null,
      "metadata": {
        "colab": {
          "base_uri": "https://localhost:8080/",
          "height": 110
        },
        "id": "4gzLM13UkzjA",
        "outputId": "fc2c52ea-1b30-4d17-8863-cabf756e237b"
      },
      "outputs": [],
      "source": [
        "# 사례탐색 프롬프트\n",
        "'''\n",
        "output = []\n",
        "\n",
        "# userResponse[8] = objective\n",
        "\n",
        "for i in range(10) :\n",
        "\n",
        "  messages = [{\"role\": \"system\", \"content\": \"너는 AI 분야의 data scientist야\"},\n",
        "              {\"role\" : \"system\", \"content\" : \"키워드를 제시할 경우, 인공지능의 영역이 아닌 제시된 주제와 관련된 도메인 영역의 키워드만 알려줘\"},\n",
        "              {\"role\" : \"system\", \"content\" : \"키워드를 제시할 경우, '한국어(영어)'와 같은 형식으로 키워드를 알려줘.\"},\n",
        "              {\"role\" : \"system\", \"content\" : \"키워드는 포괄적인 단어가 아닌 구체적인 단어로 제시해줘.\"},\n",
        "              {\"role\" : \"user\", \"content\" : f\"인공지능의 목적은 {userResponse[8]}이야. 해당 주제와 연관성이 높은 다른 주제에 대한 키워드를 5개만 제시해줘. 키워드를 제시할 경우 인공지능과 연관된 키워드는 제시하지 말아줘.\"}\n",
        "              ]\n",
        "\n",
        "  completion = openai.ChatCompletion.create(\n",
        "  model=\"gpt-3.5-turbo\",\n",
        "  messages=messages,\n",
        "  temperature=1,\n",
        "  max_tokens=3000\n",
        "  )\n",
        "\n",
        "  chat_response = completion.choices[0].message.content\n",
        "  output.append(chat_response)\n",
        "'''"
      ]
    },
    {
      "cell_type": "code",
      "execution_count": null,
      "metadata": {
        "id": "G3EN8Q2kbXsx"
      },
      "outputs": [],
      "source": [
        "# 검증/평가\n",
        "'''\n",
        "output = []\n",
        "\n",
        "# userResponse[8] = objective\n",
        "\n",
        "for i in range(5) :\n",
        "\n",
        "  messages = [{\"role\": \"system\", \"content\": \"너는 AI 분야의 data scientist야\"},\n",
        "              {\"role\" : \"system\", \"content\" : f\"인공지능의 목적은 {userResponse[8]}이야.\"},\n",
        "              {\"role\" : \"system\", \"content\" : \"비즈니스 영역에 대해 이야기하지 않았다면 적합하지 않은 답변이야.\"},\n",
        "              {\"role\" : \"user\", \"content\" : f\"비즈니스 목표 측면에서 인공지능의 성공/실패를 판단할 수 있는 정량적인 기준은 {userResponse[9]}야. 해당 답변이 정량적이고 적절하게 답변했는지 '예/아니오'로 대답하고 그 이유를 알려줘.\"}\n",
        "              ]\n",
        "\n",
        "  completion = openai.ChatCompletion.create(\n",
        "  model=\"gpt-3.5-turbo\",\n",
        "  messages=messages,\n",
        "  temperature=1,\n",
        "  max_tokens=3000\n",
        "  )\n",
        "\n",
        "  chat_response = completion.choices[0].message.content\n",
        "  output.append(chat_response)\n",
        "'''"
      ]
    },
    {
      "cell_type": "code",
      "execution_count": null,
      "metadata": {
        "id": "RrrQcsEW2kzB"
      },
      "outputs": [],
      "source": [
        "# 시각화\n",
        "\n",
        "output = []\n",
        "\n",
        "# userResponse[8] = objective\n",
        "\n",
        "for i in range(5) :\n",
        "\n",
        "  messages = [{\"role\": \"system\", \"content\": \"너는 AI 분야의 data scientist야\"},\n",
        "              {\"role\" : \"system\", \"content\" : \"시각화 위젯은 다음 5가지 ['bar chart', 'line chart', 'scatter plot', 'box plot', 'heatmap'] 그래프 중에서만 추천해줘\"},\n",
        "              {\"role\" : \"system\", \"content\" : \"시각화 위젯을 위젯을 추천할 시, 간단한 설명 및 주요 사용처를 설명해줘.\"},\n",
        "              {\"role\" : \"user\", \"content\" : f\"인공지능의 목적은 {userResponse[8]}야. 해당 인공지능의 목적에 적합한 시각화 위젯을 3개만 추천해줘.\"}\n",
        "              ]\n",
        "\n",
        "  completion = openai.ChatCompletion.create(\n",
        "  model=\"gpt-3.5-turbo\",\n",
        "  messages=messages,\n",
        "  temperature=1,\n",
        "  max_tokens=3000\n",
        "  )\n",
        "\n",
        "  chat_response = completion.choices[0].message.content\n",
        "  output.append(chat_response)\n"
      ]
    },
    {
      "cell_type": "code",
      "execution_count": null,
      "metadata": {
        "colab": {
          "base_uri": "https://localhost:8080/"
        },
        "id": "ZejMJP8RmCCn",
        "outputId": "2818a7c9-0fbd-4076-c26a-e77edfbc0900"
      },
      "outputs": [],
      "source": [
        "for i in range(5) :\n",
        "  pprint(output[i])"
      ]
    },
    {
      "cell_type": "code",
      "execution_count": null,
      "metadata": {
        "id": "WnDDUNE6nlAq"
      },
      "outputs": [],
      "source": [
        "# import json"
      ]
    },
    {
      "cell_type": "code",
      "execution_count": null,
      "metadata": {
        "id": "onv-imhVqwxc"
      },
      "outputs": [],
      "source": [
        "for i in range(len(output)) :\n",
        "  output[i] = output[i].split('\\n')"
      ]
    },
    {
      "cell_type": "code",
      "execution_count": null,
      "metadata": {
        "id": "5XKWIQmopX-T"
      },
      "outputs": [],
      "source": [
        "file_path = f\"/content/drive/MyDrive/HAI research/output/{today}/py_output/{userCode}.json\"\n",
        "with open(file_path, 'w', encoding='utf-8') as file:\n",
        "    file.write(json.dumps(output, ensure_ascii=False, indent=2))"
      ]
    },
    {
      "cell_type": "code",
      "execution_count": null,
      "metadata": {
        "colab": {
          "base_uri": "https://localhost:8080/",
          "height": 129
        },
        "id": "1BOrFLlvsgt4",
        "outputId": "fd5af5c6-7565-4fef-9301-b829baca77e0"
      },
      "outputs": [],
      "source": [
        "def PoC_CoT_test(object:str, data, ChatGPT_api_key:str, data_path:str, model:str=\"gpt-3.5-turbo\")->str:\n",
        "\n",
        "    openai.api_key = ChatGPT_api_key\n",
        "\n",
        "    messages = [\n",
        "        {\n",
        "            \"role\": \"system\",\n",
        "            \"content\": f\"AI의 주제는 '{object}'이야\",\n",
        "        },\n",
        "\n",
        "         {\n",
        "            \"role\": \"system\",\n",
        "            \"content\": \"임의의 데이터를 생성할 때, 샘플 데이터를 참고해줘.\",\n",
        "        },\n",
        "\n",
        "        {\n",
        "            \"role\": \"system\",\n",
        "            \"content\":\"샘플 데이터를 참고하여 python script를 사용하여 dataframe을 생성해줘\",\n",
        "        },\n",
        "\n",
        "        {\n",
        "            \"role\": \"system\",\n",
        "            \"content\": \"결과 전달 시 python script만 출력해줘\",\n",
        "        },\n",
        "\n",
        "        {\n",
        "            \"role\": \"system\",\n",
        "            \"content\": \"dataframe 생성 시 row가 100개가 되도록 임의의 데이터셋을 생성해줘.\",\n",
        "        },\n",
        "\n",
        "        {\n",
        "            \"role\": \"system\",\n",
        "            \"content\": \"data 값을 생성 시, random 함수를 사용해줘.\",\n",
        "        },\n",
        "\n",
        "        {\n",
        "            \"role\": \"system\",\n",
        "            \"content\": \"임의로 생성하는 dataframe의 value값들은 feature의 특성에 맞게 생성해줘\",\n",
        "        },\n",
        "\n",
        "         {\n",
        "            \"role\": \"system\",\n",
        "            \"content\": f\"생성한 dataframe의 저장 경로는 {data_path}야\",\n",
        "        },\n",
        "         {\n",
        "            \"role\": \"system\",\n",
        "            \"content\": f\"dataframe은 csv 파일 형태로 저장해주고 저장하는 파일의 명칭은 {userCode}이야\",\n",
        "        },\n",
        "         {\n",
        "            \"role\": \"system\",\n",
        "            \"content\": \"위 단계들을 차근차근 생각해줘\",\n",
        "        },\n",
        "        {\n",
        "            \"role\": \"user\",\n",
        "            \"content\": f\"샘플 데이터 세트는 '{data}'이야. 이를 참고하여 dataframe을 생성하는 python script를 만들어줘\"\n",
        "        }\n",
        "    ]\n",
        "\n",
        "    response = openai.ChatCompletion.create(model=model, messages=messages, temperature=0.5)\n",
        "    answer = response[\"choices\"][0][\"message\"][\"content\"]\n",
        "    return answer\n",
        "'''\n",
        "    messages = [\n",
        "        {\n",
        "            \"role\": \"system\",\n",
        "            \"content\": f\"지금부터 {answer}를 리뷰할거야\",\n",
        "        },\n",
        "        {\n",
        "            \"role\": \"system\",\n",
        "            \"content\": \"차근차근 생각하고 효율적으로 코드를 구축해줘\",\n",
        "        },\n",
        "\n",
        "        {\n",
        "            \"role\": \"system\",\n",
        "            \"content\": \"결과 전달 시 python script만 출력해줘\",\n",
        "        },\n",
        "\n",
        "         {\n",
        "            \"role\": \"system\",\n",
        "            \"content\":f\"생성한 {answer}가 데이터프레임을 지정된 경로에 잘 생성하는지 체크해줘\",\n",
        "        },\n",
        "\n",
        "         {\n",
        "            \"role\": \"system\",\n",
        "            \"content\":f\"생성한 {answer}에 {data}을 참고하여 feature와 Label 이름이 잘 부여되었는지 체크해줘\",\n",
        "        },\n",
        "\n",
        "        {\n",
        "            \"role\": \"system\",\n",
        "            \"content\": f\"실행하는데 문제가 발생하지 않을 경우 {answer} python script를 그대로 출력해줘\",\n",
        "        },\n",
        "\n",
        "        {\n",
        "            \"role\": \"user\",\n",
        "            \"content\": f'생성한 {answer}를 리뷰해주고 python script 결과만 다시 전달해줘'\n",
        "        }\n",
        "    ]\n",
        "\n",
        "    response = openai.ChatCompletion.create(model=model, messages=messages)\n",
        "    answer = response[\"choices\"][0][\"message\"][\"content\"]\n",
        "'''"
      ]
    },
    {
      "cell_type": "code",
      "execution_count": null,
      "metadata": {
        "id": "YYydJq_luHmz"
      },
      "outputs": [],
      "source": [
        "target = '타이타닉 생존자 예측'\n",
        "columns = ['PassengerId','Survived','Pclass','Name','Sex','Age','SibSp','Parch','Ticket','Fare','Cabin','Embarked']\n",
        "values = [[1,0,3,\"Braund, Mr. Owen Harris\",'male',22,1,0,'A/5 21171',7.25,'C23','S'],\n",
        " [2,1,1,\"Cumings, Mrs. John Bradley (Florence Briggs Thayer)\",'female',38,1,0,'PC 17599',71.2833,'C85','C'],\n",
        " [3,1,3,\"Heikkinen, Miss. Laina\",'female',26,0,0,'STON/O2. 3101282',7.925,'C24','S']]\n",
        "data = pd.DataFrame(values, columns=columns)"
      ]
    },
    {
      "cell_type": "code",
      "execution_count": null,
      "metadata": {
        "id": "7RHW95cOx9qw"
      },
      "outputs": [],
      "source": [
        "output = PoC_CoT_test(target, data, ChatGPT_api_key=openai.api_key, data_path=f'/content/drive/MyDrive/HAI research/output/{today}/py_output', model=\"gpt-3.5-turbo\")"
      ]
    },
    {
      "cell_type": "code",
      "execution_count": null,
      "metadata": {
        "colab": {
          "base_uri": "https://localhost:8080/"
        },
        "id": "THlOqdRvy5zQ",
        "outputId": "3012c108-8717-40bd-f0b2-6b231062bbee"
      },
      "outputs": [],
      "source": [
        "# 일단 대충 얼기설기 짜놓았습니다.\n",
        "# 앞에서부터 탐색 / 뒤에서부터 탐색 두개로 각각 발견되면 멈추게 짜면 될 것 같습니다.\n",
        "divided = output.split('\\n')\n",
        "idx = []\n",
        "for i, w in enumerate(divided):\n",
        "    if w.startswith(\"```\") or w.endswith(\"```\"):\n",
        "        idx.append(i)\n",
        "output_code = '\\n'.join(divided[idx[0]+1:idx[1]])\n",
        "\n",
        "pprint(output_code)"
      ]
    },
    {
      "cell_type": "code",
      "execution_count": null,
      "metadata": {
        "id": "HnRv-kwEzV4W"
      },
      "outputs": [],
      "source": [
        "with open(f'/content/drive/MyDrive/HAI research/output/{today}/output_poc_{userCode}_v9.py', 'w') as f:\n",
        "    f.write(output_code)"
      ]
    }
  ],
  "metadata": {
    "colab": {
      "provenance": []
    },
    "kernelspec": {
      "display_name": "Python 3",
      "name": "python3"
    },
    "language_info": {
      "name": "python"
    }
  },
  "nbformat": 4,
  "nbformat_minor": 0
}
