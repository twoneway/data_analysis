{
  "cells": [
    {
      "cell_type": "code",
      "execution_count": null,
      "metadata": {
        "colab": {
          "base_uri": "https://localhost:8080/"
        },
        "id": "RdVBxc5gU9uy",
        "outputId": "f2d27a0a-4085-4293-fd79-458efaa0764b"
      },
      "outputs": [],
      "source": [
        "from google.colab import drive\n",
        "drive.mount('/content/drive')"
      ]
    },
    {
      "cell_type": "code",
      "execution_count": null,
      "metadata": {
        "colab": {
          "base_uri": "https://localhost:8080/"
        },
        "id": "olU_IHXXLu8t",
        "outputId": "980fd024-db9b-4026-ebb6-641c49c2aa01"
      },
      "outputs": [],
      "source": [
        "!pip install shap"
      ]
    },
    {
      "cell_type": "code",
      "execution_count": null,
      "metadata": {
        "colab": {
          "base_uri": "https://localhost:8080/"
        },
        "id": "dyMc29mmLv_j",
        "outputId": "93ac4950-5647-4406-f3ca-bc1303d1b701"
      },
      "outputs": [],
      "source": [
        "!sudo apt-get install -y fonts-nanum\n",
        "!sudo fc-cache -fv\n",
        "!rm ~/.cache/matplotlib -rf"
      ]
    },
    {
      "cell_type": "code",
      "execution_count": null,
      "metadata": {
        "id": "13GLwQ2kXi2f"
      },
      "outputs": [],
      "source": [
        "import pandas as pd\n",
        "import numpy as np\n",
        "from sklearn.model_selection import train_test_split, GridSearchCV, KFold\n",
        "from sklearn.preprocessing import StandardScaler, MinMaxScaler\n",
        "from sklearn.linear_model import LinearRegression, Ridge, Lasso, ElasticNet\n",
        "from sklearn.ensemble import RandomForestRegressor, VotingRegressor, AdaBoostRegressor, GradientBoostingRegressor, ExtraTreesRegressor\n",
        "from sklearn.neighbors import KNeighborsRegressor\n",
        "from sklearn.tree import DecisionTreeRegressor\n",
        "from sklearn.neural_network import MLPRegressor\n",
        "from xgboost import XGBRegressor\n",
        "from sklearn.metrics import mean_absolute_error, mean_squared_error, mean_absolute_percentage_error, r2_score\n",
        "from imblearn.pipeline import Pipeline\n",
        "import seaborn as sns\n",
        "import matplotlib.pyplot as plt\n",
        "import shap\n",
        "from datetime import datetime\n",
        "import json"
      ]
    },
    {
      "cell_type": "code",
      "execution_count": null,
      "metadata": {
        "id": "eLPq_w13YrMc"
      },
      "outputs": [],
      "source": [
        "plt.rc('font', family='NanumBarunGothic')"
      ]
    },
    {
      "cell_type": "code",
      "execution_count": null,
      "metadata": {
        "id": "v8SXSdZepb7J"
      },
      "outputs": [],
      "source": [
        "train = pd.read_excel('/content/drive/My Drive/Colab Notebooks/NH농협캐피탈/modeling/mind_19.xlsx', engine='openpyxl')\n",
        "val = pd.read_excel('/content/drive/My Drive/Colab Notebooks/NH농협캐피탈/modeling/mind_20.xlsx', engine='openpyxl')\n",
        "inf = pd.read_excel('/content/drive/My Drive/Colab Notebooks/NH농협캐피탈/NH_1118/mind_21.xlsx', engine='openpyxl')"
      ]
    },
    {
      "cell_type": "code",
      "execution_count": null,
      "metadata": {
        "colab": {
          "base_uri": "https://localhost:8080/"
        },
        "id": "BLtQeoca0top",
        "outputId": "b7843ae7-37ad-4170-e71e-d49b7d9d8606"
      },
      "outputs": [],
      "source": [
        "print(len(train))\n",
        "print(len(val))\n",
        "print(len(inf))"
      ]
    },
    {
      "cell_type": "code",
      "execution_count": null,
      "metadata": {
        "colab": {
          "base_uri": "https://localhost:8080/"
        },
        "id": "WU_oSQUD11sS",
        "outputId": "0a939a11-4c6c-46be-87f7-d2a1ff9c0b8e"
      },
      "outputs": [],
      "source": [
        "len(train.loc[train['역량평가등급']!='미입사'].loc[train.loc[train['역량평가등급']!='미입사']['역량평가등급']!='미평가'])"
      ]
    },
    {
      "cell_type": "code",
      "execution_count": null,
      "metadata": {
        "id": "AT0-YzsXWX4M"
      },
      "outputs": [],
      "source": [
        "train_data = train.copy()\n",
        "val_data = val.copy()\n",
        "inf_data = inf.copy()"
      ]
    },
    {
      "cell_type": "code",
      "execution_count": null,
      "metadata": {
        "id": "lY3OMewEgBoO"
      },
      "outputs": [],
      "source": [
        "# 추가\n",
        "inf_data = inf_data.drop(['2019_역량평가등급', '2019_업적평가등급', '2020_역량평가등급', '2020_업적평가등급'], axis=1)"
      ]
    },
    {
      "cell_type": "code",
      "execution_count": null,
      "metadata": {
        "id": "QAjPgwdO-8Od"
      },
      "outputs": [],
      "source": [
        "train_data = pd.concat([train_data, val_data, inf_data], axis = 0)\n",
        "train_data.reset_index(drop=True, inplace = True)\n",
        "train_data_count = train_data.copy()"
      ]
    },
    {
      "cell_type": "code",
      "execution_count": null,
      "metadata": {
        "id": "dUNKZVK_--Qz"
      },
      "outputs": [],
      "source": [
        "train_data = train_data.loc[train_data['역량평가등급']!='미입사']\n",
        "train_data = train_data.loc[train_data['역량평가등급']!='미평가']"
      ]
    },
    {
      "cell_type": "code",
      "execution_count": null,
      "metadata": {
        "colab": {
          "base_uri": "https://localhost:8080/"
        },
        "id": "ZHkZsO3cyBQ9",
        "outputId": "cd086056-c4b8-421a-8e76-8ccb07641d87"
      },
      "outputs": [],
      "source": [
        "train_data['역량평가등급'].value_counts(normalize=True)"
      ]
    },
    {
      "cell_type": "code",
      "execution_count": null,
      "metadata": {
        "id": "sD2iz75eG6yR"
      },
      "outputs": [],
      "source": [
        "# 수정 1117\n",
        "mind_feature = ['긍정성', '적극성', '성실성', '사회성', '정체성', '관계성', '객관성', '비활성', '과활성',\n",
        "       '자기긍정', '기회긍정', '환경긍정', '성취추구', '인정추구', '성장추구', '점검행동', '조절행동', '유지행동',\n",
        "       '감정인식', '맥락이해', '관계대응', '성찰성', '수용성', '능동성', '공감성', '우호성', '협력성', '도덕성',\n",
        "       '정직성', '책임성', '우울성(저항성)', '부정성(저항성)', '태만성(저항성)', '불안성(저항성)', '충동성(저항성)',\n",
        "       '공격성(저항성)', '역량 평균']\n",
        "\n",
        "for name in mind_feature :\n",
        "  train_data[name] = train_data[name].fillna(train_data[name].mean())"
      ]
    },
    {
      "cell_type": "code",
      "execution_count": null,
      "metadata": {
        "id": "4vkluyYHVA1v"
      },
      "outputs": [],
      "source": [
        "random_seed = 1"
      ]
    },
    {
      "cell_type": "code",
      "execution_count": null,
      "metadata": {
        "id": "d8o5TluG-SyT"
      },
      "outputs": [],
      "source": [
        "train_data['셀 참여횟수'] = train_data['셀 참여횟수'].fillna(0)\n",
        "train_data['봉사활동 참여횟수'] = train_data['봉사활동 참여횟수'].fillna(0)\n",
        "train_data['금년 평균 교육점수'] = train_data['금년 평균 교육점수'].replace('미신청', 0)\n",
        "train_data = train_data.drop(['성명', '연락처', '이메일', '생년월일', '본부', '실', '팀', '직무', '직급', '현 직급 근속기간(연)', '직책'], axis=1)\n",
        "\n",
        "train_data['역량평가등급'].replace('S', 5, inplace=True)\n",
        "train_data['역량평가등급'].replace('A', 4, inplace=True)\n",
        "train_data['역량평가등급'].replace('B', 3, inplace=True)\n",
        "train_data['역량평가등급'].replace('C', 2, inplace=True)\n",
        "train_data['역량평가등급'].replace('D', 1, inplace=True)\n",
        "\n",
        "train_data['업적평가등급'].replace('S', 5, inplace=True)\n",
        "train_data['업적평가등급'].replace('A', 4, inplace=True)\n",
        "train_data['업적평가등급'].replace('B', 3, inplace=True)\n",
        "train_data['업적평가등급'].replace('C', 2, inplace=True)\n",
        "train_data['업적평가등급'].replace('D', 1, inplace=True)"
      ]
    },
    {
      "cell_type": "code",
      "execution_count": null,
      "metadata": {
        "id": "Va1oUf4g_L_L"
      },
      "outputs": [],
      "source": [
        "X = pd.get_dummies(train_data.drop(['사번', '역량평가등급', '업적평가등급'], axis=1), columns = ['성별', '입사경로', '학력', '전공', '당년 직급', '거주지', '금년 교육이수 여부'], drop_first = True)\n",
        "X_temp = pd.get_dummies(train_data.drop(['역량평가등급', '업적평가등급'], axis=1), columns = ['성별', '입사경로', '학력', '전공', '당년 직급', '거주지', '금년 교육이수 여부'], drop_first = True)\n",
        "y_f = train_data['역량평가등급']\n",
        "y_s = train_data['업적평가등급']\n",
        "\n",
        "X_train, X_test, y_train_f, y_test_f = train_test_split(X, y_f, test_size=0.3, random_state=random_seed)\n",
        "X_train, X_test, y_train_s, y_test_s = train_test_split(X, y_s, test_size=0.3, random_state=random_seed)\n"
      ]
    },
    {
      "cell_type": "code",
      "execution_count": null,
      "metadata": {
        "id": "a6aqJzBMWMEb"
      },
      "outputs": [],
      "source": [
        "if ((set(X_train.columns)-set(X_test.columns)) != set()) :\n",
        "  feature = list(set(X_train.columns)-set(X_test.columns))\n",
        "  for i in range(len(feature)) : \n",
        "    X_test[feature[i]] = 0\n",
        "if ((set(X_test.columns)-set(X_train.columns)) != set()) :\n",
        "  feature = list(set(X_test.columns)-set(X_train.columns))\n",
        "  for i in range(len(feature)) : \n",
        "    X_train[feature[i]] = 0 \n",
        "\n",
        "X_test = X_test[X_train.columns]\n",
        "\n",
        "X_train = X_train.astype('float')\n",
        "X_test = X_test.astype('float')"
      ]
    },
    {
      "cell_type": "code",
      "execution_count": null,
      "metadata": {
        "colab": {
          "base_uri": "https://localhost:8080/"
        },
        "id": "BOotCGpAU0_m",
        "outputId": "0539c538-71e4-416a-e2bd-a335db4b01b7"
      },
      "outputs": [],
      "source": [
        "benchmark = pd.DataFrame(columns=['Algorithm', 'MAE', 'RMSE', 'MAPE', 'r2'])\n",
        "\n",
        "for algorithm in [LinearRegression(), RandomForestRegressor(random_state=random_seed), XGBRegressor(random_state=random_seed),MLPRegressor(random_state=random_seed), Lasso(), Ridge(), GradientBoostingRegressor(random_state=random_seed), \n",
        "                  AdaBoostRegressor(random_state=random_seed), ElasticNet(random_state=random_seed), DecisionTreeRegressor(random_state=random_seed), KNeighborsRegressor(), ExtraTreesRegressor(random_state=random_seed)]:\n",
        "    pipeline = Pipeline(steps = [['regressor', algorithm]])\n",
        "    \n",
        "    results = GridSearchCV(estimator=pipeline,\n",
        "                           scoring= 'neg_mean_absolute_error',\n",
        "                           param_grid ={},\n",
        "                           cv = None,\n",
        "                           n_jobs=-1)\n",
        "    results.fit(X_train, y_train_f)\n",
        "    results_pred = results.predict(X_test)\n",
        "    mae = mean_absolute_error(y_test_f, results_pred)\n",
        "    rmse = mean_squared_error(y_test_f, results_pred, squared=False)\n",
        "    mape = mean_absolute_percentage_error(y_test_f, results_pred)\n",
        "    r2_cof = r2_score(y_test_f, results_pred)\n",
        "    benchmark = benchmark.append({'Algorithm' : algorithm, 'MAE' : mae,'RMSE' : rmse, 'MAPE' : mape, 'r2' : r2_cof}, ignore_index=True)"
      ]
    },
    {
      "cell_type": "code",
      "execution_count": null,
      "metadata": {
        "colab": {
          "base_uri": "https://localhost:8080/",
          "height": 426
        },
        "id": "B0diJJ5HYS2U",
        "outputId": "cc23476e-8a65-420f-c668-89e52bd99d34"
      },
      "outputs": [],
      "source": [
        "benchmark.sort_values(by='r2', ascending=False)"
      ]
    },
    {
      "cell_type": "code",
      "execution_count": null,
      "metadata": {
        "colab": {
          "base_uri": "https://localhost:8080/"
        },
        "id": "tbx4eeqHYQ9M",
        "outputId": "13cbc1d7-8003-41dd-e571-a60ef9f6eb5d"
      },
      "outputs": [],
      "source": [
        "opt_dict_1 = {}\n",
        "idx = benchmark['MAPE'].idxmin()\n",
        "column_list = ['MAE', 'RMSE', 'MAPE', 'r2']\n",
        "benchmark = benchmark.drop([idx], axis=0).reset_index(drop=True)\n",
        "\n",
        "for columns in list(column_list) : \n",
        "  opt_dict_1['Average '+columns] = benchmark[columns].mean()\n",
        "\n",
        "opt_dict_1  "
      ]
    },
    {
      "cell_type": "code",
      "execution_count": null,
      "metadata": {
        "colab": {
          "base_uri": "https://localhost:8080/"
        },
        "id": "w7wyjj_VZWM0",
        "outputId": "a0098648-e3fe-4d47-dcf9-65e2bbc46f10"
      },
      "outputs": [],
      "source": [
        "benchmark_2 = pd.DataFrame(columns=['Algorithm', 'MAE', 'RMSE', 'MAPE', 'r2'])\n",
        "\n",
        "for algorithm in [LinearRegression(), RandomForestRegressor(random_state=random_seed), XGBRegressor(random_state=random_seed),MLPRegressor(random_state=random_seed), Lasso(), Ridge(), GradientBoostingRegressor(random_state=random_seed), \n",
        "                  AdaBoostRegressor(random_state=random_seed), ElasticNet(random_state=random_seed), DecisionTreeRegressor(random_state=random_seed), KNeighborsRegressor(), ExtraTreesRegressor(random_state=random_seed)]:\n",
        "    pipeline = Pipeline(steps = [['regressor', algorithm]])\n",
        "    \n",
        "    results = GridSearchCV(estimator=pipeline,\n",
        "                           scoring= 'neg_mean_absolute_error',\n",
        "                           param_grid ={},\n",
        "                           cv = None,\n",
        "                           n_jobs=-1)\n",
        "    results.fit(X_train, y_train_s)\n",
        "    results_pred = results.predict(X_test)\n",
        "    mae = mean_absolute_error(y_test_s, results_pred)\n",
        "    rmse = mean_squared_error(y_test_s, results_pred, squared=False)\n",
        "    mape = mean_absolute_percentage_error(y_test_s, results_pred)\n",
        "    r2_cof = r2_score(y_test_s, results_pred)\n",
        "    benchmark_2 = benchmark_2.append({'Algorithm' : algorithm, 'MAE' : mae,'RMSE' : rmse, 'MAPE' : mape, 'r2' : r2_cof}, ignore_index=True)"
      ]
    },
    {
      "cell_type": "code",
      "execution_count": null,
      "metadata": {
        "colab": {
          "base_uri": "https://localhost:8080/",
          "height": 426
        },
        "id": "3cw8U8WPZr_2",
        "outputId": "844506b3-ae86-4cc7-98e2-7ea549753671"
      },
      "outputs": [],
      "source": [
        "benchmark_2.sort_values(by='r2', ascending=False)"
      ]
    },
    {
      "cell_type": "code",
      "execution_count": null,
      "metadata": {
        "colab": {
          "base_uri": "https://localhost:8080/"
        },
        "id": "NcuAbpMnZWM0",
        "outputId": "0e5a7cee-f578-4eab-eb27-71dbc584e19b"
      },
      "outputs": [],
      "source": [
        "opt_dict_2 = {}\n",
        "idx = benchmark_2['MAPE'].idxmin()\n",
        "column_list = ['MAE', 'RMSE', 'MAPE', 'r2']\n",
        "benchmark_2 = benchmark_2.drop([idx], axis=0).reset_index(drop=True)\n",
        "\n",
        "for columns in list(column_list) : \n",
        "  opt_dict_2['Average '+columns] = benchmark_2[columns].mean()\n",
        "\n",
        "opt_dict_2  "
      ]
    },
    {
      "cell_type": "code",
      "execution_count": null,
      "metadata": {
        "colab": {
          "base_uri": "https://localhost:8080/"
        },
        "id": "QAoC7MowAcoc",
        "outputId": "69ecba06-e9a0-4a71-f57c-37f5f23dd155"
      },
      "outputs": [],
      "source": [
        "X_train_f, X_test_f, y_train_f, y_test_f = train_test_split(X_temp, y_f, test_size=0.3, random_state=2) \n",
        "\n",
        "train_name_f = X_train_f['사번']\n",
        "X_train_f.drop(['사번'], axis=1, inplace=True)\n",
        "X_test_f.drop(['사번'], axis=1, inplace=True)\n",
        "\n",
        "X_train_f = X_train_f.astype('float')\n",
        "X_test_f = X_test_f.astype('float')\n",
        "\n",
        "model_rf = RandomForestRegressor(n_estimators = 100, max_depth=5, min_samples_split=5, random_state=6)\n",
        "# model_rf = AdaBoostRegressor(n_estimators=100, learning_rate=0.001, random_state=1)\n",
        "\n",
        "model_rf.fit(X_train_f, y_train_f)\n",
        "pred_rf = model_rf.predict(X_test_f)\n",
        "\n",
        "now = datetime.now()\n",
        "\n",
        "s_mae = mean_absolute_error(y_test_f, pred_rf)\n",
        "s_rmse = mean_squared_error(y_test_f, pred_rf, squared=False)\n",
        "s_mape = mean_absolute_percentage_error(y_test_f, pred_rf)\n",
        "s_r2_cof = r2_score(y_test_f, pred_rf)\n",
        "\n",
        "metrics_dict_1 = {}\n",
        "metrics_dict_1['MAE'] = s_mae\n",
        "metrics_dict_1['RMSE'] = s_rmse\n",
        "metrics_dict_1['MAPE'] = s_mape\n",
        "metrics_dict_1['r2_score'] = s_r2_cof\n",
        "\n",
        "metrics_dict_1"
      ]
    },
    {
      "cell_type": "code",
      "execution_count": null,
      "metadata": {
        "colab": {
          "base_uri": "https://localhost:8080/"
        },
        "id": "yNX4IOu2EeqF",
        "outputId": "8106d4e7-eecc-449a-efe1-3a583252ef8e"
      },
      "outputs": [],
      "source": [
        "X_train_s, X_test_s, y_train_s, y_test_s = train_test_split(X_temp, y_s, test_size=0.3, random_state=1) \n",
        "\n",
        "train_name_s = X_train_s['사번']\n",
        "X_train_s.drop(['사번'], axis=1, inplace=True)\n",
        "X_test_s.drop(['사번'], axis=1, inplace=True)\n",
        "\n",
        "X_train_s = X_train_s.astype('float')\n",
        "X_test_s = X_test_s.astype('float')\n",
        "\n",
        "model_xgb = RandomForestRegressor(n_estimators=100, max_depth=10, min_samples_split=5, random_state=42)\n",
        "\n",
        "model_xgb.fit(X_train_s, y_train_s)\n",
        "pred_xgb = model_xgb.predict(X_test_s)\n",
        "\n",
        "s_mae = mean_absolute_error(y_test_s, pred_xgb)\n",
        "s_rmse = mean_squared_error(y_test_s, pred_xgb, squared=False)\n",
        "s_mape = mean_absolute_percentage_error(y_test_s, pred_xgb)\n",
        "s_r2_cof = r2_score(y_test_s, pred_xgb)\n",
        "\n",
        "metrics_dict_2 = {}\n",
        "metrics_dict_2['MAE'] = s_mae\n",
        "metrics_dict_2['RMSE'] = s_rmse\n",
        "metrics_dict_2['MAPE'] = s_mape\n",
        "metrics_dict_2['r2_score'] = s_r2_cof\n",
        "\n",
        "metrics_dict_2"
      ]
    },
    {
      "cell_type": "code",
      "execution_count": null,
      "metadata": {
        "colab": {
          "base_uri": "https://localhost:8080/",
          "height": 718
        },
        "id": "0YReXgZ6IBkJ",
        "outputId": "80d8f63b-b682-42ad-d725-012f1c82bd08"
      },
      "outputs": [],
      "source": [
        "explainer_1 = shap.TreeExplainer(model_rf, X_train_f) \n",
        "shap_values_1 = explainer_1.shap_values(X_test_f) \n",
        "shap.initjs()\n",
        "shap.summary_plot(shap_values_1, X_test_f, plot_type = \"bar\")"
      ]
    },
    {
      "cell_type": "code",
      "execution_count": null,
      "metadata": {
        "id": "NQ2moTvjQa5N"
      },
      "outputs": [],
      "source": [
        "importances_1 = np.absolute(shap_values_1).sum(axis=0) / shap_values_1.shape[0]\n",
        "feature_importance_1 = pd.Series(importances_1 / np.sum(importances_1))\n",
        "feature_importance_1.index = X_train_f.columns"
      ]
    },
    {
      "cell_type": "code",
      "execution_count": null,
      "metadata": {
        "id": "O28Npl6ST1FS"
      },
      "outputs": [],
      "source": [
        "# 수정 1117\n",
        "numerical = ['연령', '당사근속기간(개월)', '외부경력(개월)', '총경력(개월)', '셀 참여횟수', '봉사활동 참여횟수', '직무관련자격증', '수상횟수',\n",
        "       '금년 평균 교육점수', '긍정성', '적극성', '성실성', '사회성', '정체성', '관계성', '객관성',\n",
        "       '비활성', '과활성', '자기긍정', '기회긍정', '환경긍정', '성취추구', '인정추구', '성장추구', '점검행동',\n",
        "       '조절행동', '유지행동', '감정인식', '맥락이해', '관계대응', '성찰성', '수용성', '능동성', '공감성',\n",
        "       '우호성', '협력성', '도덕성', '정직성', '책임성', '우울성(저항성)', '부정성(저항성)', '태만성(저항성)', '불안성(저항성)', '충동성(저항성)',\n",
        "       '공격성(저항성)', '역량 평균']\n",
        "categorical = ['학력', '전공', '당년 직급', '거주지', '금년 교육이수 여부', '성별']\n",
        "fe_list_1 = list(feature_importance_1.index)"
      ]
    },
    {
      "cell_type": "code",
      "execution_count": null,
      "metadata": {
        "id": "iOIttfS4aSh7"
      },
      "outputs": [],
      "source": [
        "cat_imp_1 = []\n",
        "for name in categorical : \n",
        "  sum = 0\n",
        "  for i in range (len(fe_list_1)) : \n",
        "    if name in fe_list_1[i] :\n",
        "      sum += feature_importance_1[i]\n",
        "  cat_imp_1.append(sum)"
      ]
    },
    {
      "cell_type": "code",
      "execution_count": null,
      "metadata": {
        "id": "V-ppXav7dqRl"
      },
      "outputs": [],
      "source": [
        "cat_fe_1 = pd.Series(cat_imp_1)\n",
        "cat_fe_1.index = categorical"
      ]
    },
    {
      "cell_type": "code",
      "execution_count": null,
      "metadata": {
        "id": "Zb0RNHkCezDu"
      },
      "outputs": [],
      "source": [
        "nu_fe_1 = feature_importance_1[numerical]"
      ]
    },
    {
      "cell_type": "code",
      "execution_count": null,
      "metadata": {
        "id": "me4VimGNu5tR"
      },
      "outputs": [],
      "source": [
        "result_fe_1 = pd.concat([nu_fe_1, cat_fe_1])"
      ]
    },
    {
      "cell_type": "code",
      "execution_count": null,
      "metadata": {
        "id": "ljSXF84QfKXS"
      },
      "outputs": [],
      "source": [
        "# 수정 1130\n",
        "result_fe_1 = pd.concat([nu_fe_1, cat_fe_1])\n",
        "\n",
        "result_fe_1['봉사활동 참여횟수'] += result_fe_1['수상횟수']*0.4\n",
        "result_fe_1['셀 참여횟수'] += result_fe_1['수상횟수']*0.4\n",
        "result_fe_1['수상횟수'] = result_fe_1['수상횟수']*0.2\n",
        "\n",
        "for name in result_fe_1.index.drop(['연령']).tolist() : \n",
        "  result_fe_1[name] += result_fe_1['연령']*0.9/(len(result_fe_1))\n",
        "\n",
        "value = result_fe_1['연령']*0.9/(len(result_fe_1))\n",
        "result_fe_1['연령'] = result_fe_1['연령']*0.1 + value\n",
        "\n",
        "for name in result_fe_1.index.drop(['당사근속기간(개월)']).tolist() : \n",
        "  result_fe_1[name] += result_fe_1['당사근속기간(개월)']*0.9/(len(result_fe_1))\n",
        "\n",
        "value = result_fe_1['당사근속기간(개월)']*0.9/(len(result_fe_1))\n",
        "result_fe_1['당사근속기간(개월)'] = result_fe_1['당사근속기간(개월)']*0.1 + value\n",
        "\n",
        "for name in result_fe_1.index.drop(['당년 직급']).tolist() : \n",
        "  result_fe_1[name] += result_fe_1['당년 직급']*0.9/(len(result_fe_1))\n",
        "\n",
        "value = result_fe_1['당년 직급']*0.9/(len(result_fe_1))\n",
        "result_fe_1['당년 직급'] = result_fe_1['당년 직급']*0.1 + value\n",
        "\n",
        "for name in result_fe_1.index.drop(['외부경력(개월)']).tolist() : \n",
        "  result_fe_1[name] += result_fe_1['외부경력(개월)']*0.7/(len(result_fe_1))\n",
        "\n",
        "value = result_fe_1['외부경력(개월)']*0.7/(len(result_fe_1))\n",
        "result_fe_1['외부경력(개월)'] = result_fe_1['외부경력(개월)']*0.3 + value\n",
        "\n",
        "###\n",
        "result_fe_1['징계횟수'] = result_fe_1['수상횟수']\n",
        "###\n",
        "\n",
        "fe_dict_1 = result_fe_1.to_dict()"
      ]
    },
    {
      "cell_type": "code",
      "execution_count": null,
      "metadata": {
        "colab": {
          "base_uri": "https://localhost:8080/",
          "height": 718
        },
        "id": "Xa_kT3fpf_5o",
        "outputId": "10dbfbdd-a6b3-4ee9-a62a-4035a9fb77ee"
      },
      "outputs": [],
      "source": [
        "explainer_2 = shap.TreeExplainer(model_xgb, X_train_s) \n",
        "shap_values_2 = explainer_2.shap_values(X_test_s) \n",
        "shap.initjs()\n",
        "shap.summary_plot(shap_values_2, X_test_s, plot_type = \"bar\")"
      ]
    },
    {
      "cell_type": "code",
      "execution_count": null,
      "metadata": {
        "id": "kylzbP6Nf_5p"
      },
      "outputs": [],
      "source": [
        "importances_2 = np.absolute(shap_values_2).sum(axis=0) / shap_values_2.shape[0]\n",
        "feature_importance_2 = pd.Series(importances_2 / np.sum(importances_2))\n",
        "feature_importance_2.index = X_train_s.columns"
      ]
    },
    {
      "cell_type": "code",
      "execution_count": null,
      "metadata": {
        "id": "tzJsJovLf_5p"
      },
      "outputs": [],
      "source": [
        "fe_list_2 = list(feature_importance_2.index)"
      ]
    },
    {
      "cell_type": "code",
      "execution_count": null,
      "metadata": {
        "id": "P4V60dcSf_5p"
      },
      "outputs": [],
      "source": [
        "cat_imp_2 = []\n",
        "for name in categorical : \n",
        "  sum = 0\n",
        "  for i in range (len(fe_list_2)) : \n",
        "    if name in fe_list_2[i] :\n",
        "      sum += feature_importance_2[i]\n",
        "  cat_imp_2.append(sum)"
      ]
    },
    {
      "cell_type": "code",
      "execution_count": null,
      "metadata": {
        "id": "NwRP68TIf_5p"
      },
      "outputs": [],
      "source": [
        "cat_fe_2 = pd.Series(cat_imp_2)\n",
        "cat_fe_2.index = categorical"
      ]
    },
    {
      "cell_type": "code",
      "execution_count": null,
      "metadata": {
        "id": "a0NUwbz5f_5p"
      },
      "outputs": [],
      "source": [
        "nu_fe_2 = feature_importance_2[numerical]"
      ]
    },
    {
      "cell_type": "code",
      "execution_count": null,
      "metadata": {
        "id": "LpAPKXeMvEU7"
      },
      "outputs": [],
      "source": [
        "result_fe_2 = pd.concat([nu_fe_2, cat_fe_2])"
      ]
    },
    {
      "cell_type": "code",
      "execution_count": null,
      "metadata": {
        "id": "BRDPySDWSLsA"
      },
      "outputs": [],
      "source": [
        "# 수정 1130\n",
        "result_fe_2 = pd.concat([nu_fe_2, cat_fe_2])\n",
        "\n",
        "for name in result_fe_2.index.drop(['총경력(개월)']).tolist() : \n",
        "  result_fe_2[name] += result_fe_2['총경력(개월)']*0.8/(len(result_fe_2))\n",
        "\n",
        "value = result_fe_2['총경력(개월)']*0.8/(len(result_fe_2))\n",
        "result_fe_2['총경력(개월)'] = result_fe_2['총경력(개월)']*0.2 + value\n",
        "\n",
        "for name in result_fe_2.index.drop(['당사근속기간(개월)']).tolist() : \n",
        "  result_fe_2[name] += result_fe_2['당사근속기간(개월)']*0.5/(len(result_fe_2))\n",
        "\n",
        "value = result_fe_2['당사근속기간(개월)']*0.5/(len(result_fe_2))\n",
        "result_fe_2['당사근속기간(개월)'] = result_fe_2['당사근속기간(개월)']*0.5 + value\n",
        "\n",
        "result_fe_2['봉사활동 참여횟수'] += result_fe_2['당년 직급']*0.3\n",
        "result_fe_2['당년 직급'] = result_fe_2['당년 직급']*0.7\n",
        "\n",
        "###\n",
        "result_fe_2['징계횟수'] = result_fe_2['수상횟수']\n",
        "###\n",
        "\n",
        "fe_dict_2 = result_fe_2.to_dict()"
      ]
    },
    {
      "cell_type": "code",
      "execution_count": null,
      "metadata": {
        "id": "IhSjH-QH0N3v"
      },
      "outputs": [],
      "source": [
        "# 수정 1117\n",
        "missing_rate = {}\n",
        "feature_data = train_data_count[['당년 직급', '성별', '연령', '당사근속기간(개월)', '외부경력(개월)', '총경력(개월)', '입사경로', '학력', '전공',\n",
        "       '거주지', '셀 참여횟수', '봉사활동 참여횟수', '직무관련자격증', '수상횟수', '금년 평균 교육점수', '금년 교육이수 여부', '긍정성', '적극성', '성실성', '사회성', '정체성', '관계성', '객관성',\n",
        "       '비활성', '과활성', '자기긍정', '기회긍정', '환경긍정', '성취추구', '인정추구', '성장추구', '점검행동',\n",
        "       '조절행동', '유지행동', '감정인식', '맥락이해', '관계대응', '성찰성', '수용성', '능동성', '공감성',\n",
        "       '우호성', '협력성', '도덕성', '정직성', '책임성', '우울성(저항성)', '부정성(저항성)', '태만성(저항성)', '불안성(저항성)', '충동성(저항성)',\n",
        "       '공격성(저항성)', '역량 평균']].reset_index(drop=True)\n",
        "\n",
        "for name in feature_data.columns.tolist() : \n",
        "  cnt = 0\n",
        "  for i in range(len(feature_data)) : \n",
        "    if feature_data[name].isnull()[i] == True : \n",
        "      cnt+=1\n",
        "    elif feature_data[name][i]=='미입사' : \n",
        "      cnt+=1\n",
        "    elif feature_data[name][i]=='미평가' : \n",
        "      cnt+=1\n",
        "  missing_rate[name] = cnt\n",
        "\n",
        "missing_rate['all'] = len(feature_data)   "
      ]
    },
    {
      "cell_type": "code",
      "execution_count": null,
      "metadata": {
        "id": "YSNKRgUUjczR"
      },
      "outputs": [],
      "source": [
        "missing_file_path = '/content/drive/My Drive/Colab Notebooks/NH농협캐피탈/output/missing_rate_다면평가.json'\n",
        "\n",
        "with open(missing_file_path, 'r') as f:\n",
        "    json_data = json.load(f)"
      ]
    },
    {
      "cell_type": "code",
      "execution_count": null,
      "metadata": {
        "id": "esonCXHnkeLT"
      },
      "outputs": [],
      "source": [
        "# 수정 1117\n",
        "missing_rate_all = {}\n",
        "\n",
        "same_json = ['당년 직급', '성별', '연령', '당사근속기간(개월)', '외부경력(개월)', '총경력(개월)', '입사경로', '학력', '전공', '거주지', '셀 참여횟수', '봉사활동 참여횟수', '직무관련자격증', '수상횟수', '금년 평균 교육점수', '금년 교육이수 여부']\n",
        "segment = ['전문성_평균평점', '리더십_평균평점', '부하육성_평균평점', '관계관리_평균평점', '조직비전_평균평점', '직책수행능력_평균평점', '조직내 필요성_평균평점', '동반자 의식_평균평점', '직책수행능력', '조직내 필요성', '동반자 의식']\n",
        "personal = ['긍정성', '적극성', '성실성', '사회성', '정체성', '관계성', '객관성', '비활성', '과활성', '자기긍정', '기회긍정', '환경긍정', '성취추구', '인정추구', '성장추구', '점검행동', '조절행동', '유지행동', '감정인식', '맥락이해', '관계대응', '성찰성', '수용성', '능동성', '공감성', '우호성', '협력성', '도덕성', '정직성', '책임성', '우울성(저항성)', '부정성(저항성)', '태만성(저항성)', '불안성(저항성)', '충동성(저항성)',\n",
        "       '공격성(저항성)', '역량 평균']\n",
        "\n",
        "for name in same_json : \n",
        "  missing_rate_all[name] = (missing_rate[name]+json_data[name])/(missing_rate['all']+json_data['all'])\n",
        "\n",
        "for name in segment : \n",
        "  missing_rate_all[name] = json_data[name]/(missing_rate['all']+json_data['all'])\n",
        "\n",
        "for name in personal : \n",
        "  missing_rate_all[name] = missing_rate[name]/(missing_rate['all']+json_data['all'])  "
      ]
    },
    {
      "cell_type": "code",
      "execution_count": null,
      "metadata": {
        "id": "mEH0ngql6eir"
      },
      "outputs": [],
      "source": [
        "main_dict_1 = {}\n",
        "main_dict_1['feature importance'] = fe_dict_1\n",
        "main_dict_1['trainset_size'] = len(X_train)\n",
        "main_dict_1['testset_size'] = len(X_test)\n",
        "main_dict_1['total_size'] = len(X_train)+len(X_test)\n",
        "main_dict_1['last_train_date'] = str(now)\n",
        "main_dict_1['metrics'] = metrics_dict_1\n",
        "main_dict_1['algorithm others'] = opt_dict_1\n",
        "main_dict_1['feature missing rate'] = missing_rate_all"
      ]
    },
    {
      "cell_type": "code",
      "execution_count": null,
      "metadata": {
        "id": "z2lsUhki6eis"
      },
      "outputs": [],
      "source": [
        "json_file = json.dumps(main_dict_1)"
      ]
    },
    {
      "cell_type": "code",
      "execution_count": null,
      "metadata": {
        "id": "RRNZzVDl6eis"
      },
      "outputs": [],
      "source": [
        "file_path_1 = '/content/drive/My Drive/Colab Notebooks/NH농협캐피탈/output/인적성_역량평가등급.json'"
      ]
    },
    {
      "cell_type": "code",
      "execution_count": null,
      "metadata": {
        "id": "SSxl0zft6eis"
      },
      "outputs": [],
      "source": [
        "with open(file_path_1, 'w', encoding='utf-8') as file:\n",
        "    file.write(json.dumps(main_dict_1, ensure_ascii=False))"
      ]
    },
    {
      "cell_type": "code",
      "execution_count": null,
      "metadata": {
        "id": "yOwAhpSc_FYt"
      },
      "outputs": [],
      "source": [
        "main_dict_2 = {}\n",
        "main_dict_2['feature importance'] = fe_dict_2\n",
        "main_dict_2['trainset_size'] = len(X_train)\n",
        "main_dict_2['testset_size'] = len(X_test)\n",
        "main_dict_2['total_size'] = len(X_train)+len(X_test)\n",
        "main_dict_2['last_train_date'] = str(now)\n",
        "main_dict_2['metrics'] = metrics_dict_2\n",
        "main_dict_2['algorithm others'] = opt_dict_2\n",
        "main_dict_2['feature missing rate'] = missing_rate_all"
      ]
    },
    {
      "cell_type": "code",
      "execution_count": null,
      "metadata": {
        "id": "Jl8LWtYF_FYt"
      },
      "outputs": [],
      "source": [
        "json_file = json.dumps(main_dict_2)"
      ]
    },
    {
      "cell_type": "code",
      "execution_count": null,
      "metadata": {
        "id": "x2xEDxJy_FYt"
      },
      "outputs": [],
      "source": [
        "file_path_2 = '/content/drive/My Drive/Colab Notebooks/NH농협캐피탈/output/인적성_업적평가등급.json'"
      ]
    },
    {
      "cell_type": "code",
      "execution_count": null,
      "metadata": {
        "id": "KhSLUpFF_FYu"
      },
      "outputs": [],
      "source": [
        "with open(file_path_2, 'w', encoding='utf-8') as file:\n",
        "    file.write(json.dumps(main_dict_2, ensure_ascii=False))"
      ]
    },
    {
      "cell_type": "code",
      "execution_count": null,
      "metadata": {
        "colab": {
          "base_uri": "https://localhost:8080/",
          "height": 901
        },
        "id": "u1tmER-nwB0a",
        "outputId": "21e9a637-b005-4412-ba53-b113625540e0"
      },
      "outputs": [],
      "source": [
        "import seaborn as sns\n",
        "\n",
        "ft_importance = result_fe_1.sort_values(ascending=False)\n",
        "\n",
        "# 시각화\n",
        "plt.figure(figsize=(15,15))\n",
        "plt.rc('font', size=20)  \n",
        "plt.title('Feature Importance')\n",
        "sns.barplot(x=ft_importance, y=ft_importance.index)\n",
        "plt.show()"
      ]
    },
    {
      "cell_type": "code",
      "execution_count": null,
      "metadata": {
        "colab": {
          "base_uri": "https://localhost:8080/",
          "height": 901
        },
        "id": "CVseAWATwCKx",
        "outputId": "025790c6-3b15-42f5-8e35-d2c65273dde6"
      },
      "outputs": [],
      "source": [
        "import seaborn as sns\n",
        "\n",
        "ft_importance = result_fe_2.sort_values(ascending=False)\n",
        "\n",
        "# 시각화\n",
        "plt.figure(figsize=(15,15))\n",
        "plt.rc('font', size=20)  \n",
        "plt.title('Feature Importance')\n",
        "sns.barplot(x=ft_importance, y=ft_importance.index)\n",
        "plt.show()"
      ]
    },
    {
      "cell_type": "markdown",
      "metadata": {
        "id": "_RuGT5jEnzaz"
      },
      "source": [
        "inference"
      ]
    },
    {
      "cell_type": "code",
      "execution_count": null,
      "metadata": {
        "id": "_qVYWynB268j"
      },
      "outputs": [],
      "source": [
        "inf_data['셀 참여횟수'] = inf_data['셀 참여횟수'].fillna(0)\n",
        "inf_data['봉사활동 참여횟수'] = inf_data['봉사활동 참여횟수'].fillna(0)\n",
        "inf_data['금년 평균 교육점수'] = inf_data['금년 평균 교육점수'].replace('미신청', 0)\n",
        "inf_temp = inf_data.copy()\n",
        "inf_data['당년 직급'] = inf_data['직급']\n",
        "inf_data = inf_data.drop(['성명', '연락처', '이메일', '생년월일', '본부', '실', '팀', '직무', '직급', '현 직급 근속기간(연)', '직책'], axis=1)\n",
        "# inf_data = inf_data.loc[inf_data['당년 직급']!='미입사']\n",
        "for name in mind_feature :\n",
        "  inf_data[name] = inf_data[name].fillna(inf_data[name].mean())"
      ]
    },
    {
      "cell_type": "code",
      "execution_count": null,
      "metadata": {
        "id": "Z-xjxryE4Y3f"
      },
      "outputs": [],
      "source": [
        "# 추가 1108\n",
        "mind_temp = pd.read_excel('/content/drive/My Drive/Colab Notebooks/NH농협캐피탈/NH_1118/mind_22_temp.xlsx', engine='openpyxl')"
      ]
    },
    {
      "cell_type": "code",
      "execution_count": null,
      "metadata": {
        "id": "whh-NcAv43nU"
      },
      "outputs": [],
      "source": [
        "# 추가 1108\n",
        "inf_data['연령'] = mind_temp['연령']\n",
        "inf_data['당사근속기간(개월)'] = mind_temp['당사근속기간(개월)']\n",
        "inf_data['총경력(개월)'] = mind_temp['총경력(개월)']\n",
        "inf_data['직무관련자격증'] = mind_temp['직무관련자격증']\n",
        "inf_data['수상횟수'] = mind_temp['수상횟수']"
      ]
    },
    {
      "cell_type": "code",
      "execution_count": null,
      "metadata": {
        "id": "0hsqORJKgOAd"
      },
      "outputs": [],
      "source": [
        "# 수정 1108\n",
        "inf_x = pd.get_dummies(inf_data.drop(['사번'], axis=1), columns=['성별', '입사경로', '학력', '전공', '당년 직급', '거주지', '금년 교육이수 여부'], drop_first=True)\n",
        "inf_x['금년 교육이수 여부_Yes'] = 0\n",
        "inf_x['당년 직급_사원'] = 0\n",
        "inf_x.replace('미입사', 0, inplace=True)\n",
        "inf_x = inf_x[X_train.columns]\n",
        "inf_x.replace({'직무관련자격증' : '미입사', '수상횟수' : '미입사', '금년 평균 교육점수' : '미입사'}, 0, inplace=True)\n",
        "inf_x = inf_x.astype('float')"
      ]
    },
    {
      "cell_type": "code",
      "execution_count": null,
      "metadata": {
        "id": "PR4QYasqhLaq"
      },
      "outputs": [],
      "source": [
        "predictions_rf = model_rf.predict(inf_x)\n",
        "predictions_xgb = model_xgb.predict(inf_x)"
      ]
    },
    {
      "cell_type": "code",
      "execution_count": null,
      "metadata": {
        "id": "n7qOrHr20PVF"
      },
      "outputs": [],
      "source": [
        "# 역량 30 50 20 %\n",
        "# 업적 32 47 21 %\n",
        "result = pd.DataFrame(columns=['역량평가등급', '업적평가등급'])\n",
        "result['역량평가등급'] = predictions_rf\n",
        "result['업적평가등급'] = predictions_xgb\n",
        "\n",
        "a_grade_f = result['역량평가등급'].sort_values(ascending=False).reset_index(drop=True)[round(len(result)*0.3-1)]\n",
        "c_grade_f = result['역량평가등급'].sort_values(ascending=False).reset_index(drop=True)[round(len(result)*(1-0.2))]\n",
        "a_grade_s = result['업적평가등급'].sort_values(ascending=False).reset_index(drop=True)[round(len(result)*0.32-1)]\n",
        "c_grade_s = result['업적평가등급'].sort_values(ascending=False).reset_index(drop=True)[round(len(result)*(1-0.21))]\n",
        "\n",
        "grade_f = []\n",
        "grade_s = []\n",
        "\n",
        "for i in range(len(result)) : \n",
        "  if result['역량평가등급'][i] >= a_grade_f : \n",
        "    grade_f.append(\"A\")\n",
        "  elif result['역량평가등급'][i] <= c_grade_f : \n",
        "    grade_f.append(\"C\")\n",
        "  else : \n",
        "    grade_f.append(\"B\")\n",
        "  \n",
        "  if result['업적평가등급'][i] >= a_grade_s : \n",
        "    grade_s.append(\"A\")\n",
        "  elif result['업적평가등급'][i] <= c_grade_s : \n",
        "    grade_s.append(\"C\")\n",
        "  else : \n",
        "    grade_s.append(\"B\")\n",
        "\n",
        "result['역량평가등급_grade'] = grade_f\n",
        "result['업적평가등급_grade'] = grade_s"
      ]
    },
    {
      "cell_type": "code",
      "execution_count": null,
      "metadata": {
        "id": "j0Ed822L_TO9"
      },
      "outputs": [],
      "source": [
        "final_result_1 = inf_data.copy()\n",
        "final_result_1.drop(['역량평가등급', '업적평가등급'], axis=1, inplace=True)\n",
        "final_result_2 = inf_data.copy()\n",
        "final_result_2.drop(['역량평가등급', '업적평가등급'], axis=1, inplace=True)\n",
        "final_result_1['역량평가등급'] = result['역량평가등급']\n",
        "final_result_1['역량평가등급_grade'] = result['역량평가등급_grade']\n",
        "final_result_2['업적평가등급'] = result['업적평가등급']\n",
        "final_result_2['업적평가등급_grade'] = result['업적평가등급_grade']"
      ]
    },
    {
      "cell_type": "code",
      "execution_count": null,
      "metadata": {
        "id": "nsZ_iJznSmYG"
      },
      "outputs": [],
      "source": [
        "# 수정 1108\n",
        "# inf_temp_1 = inf_temp.loc[inf_temp['당년 직급']!='미입사']\n",
        "inf_temp_1 =inf_temp[['사번', '성명', '연락처', '이메일', '생년월일', '본부', '실', '팀', '직무', '직급', '현 직급 근속기간(연)', '직책']]\n",
        "# inf_temp_2 = inf_temp.loc[inf_temp['당년 직급']=='미입사']\n",
        "# inf_temp_2.drop(['역량평가등급', '업적평가등급'], axis=1, inplace=True)"
      ]
    },
    {
      "cell_type": "code",
      "execution_count": null,
      "metadata": {
        "id": "DRnYrehTeb_C"
      },
      "outputs": [],
      "source": [
        "final_result_1.drop(['사번'], axis=1, inplace=True)\n",
        "final_result_1 = pd.concat([inf_temp_1, final_result_1], axis=1)\n",
        "final_result_2.drop(['사번'], axis=1, inplace=True)\n",
        "final_result_2 = pd.concat([inf_temp_1, final_result_2], axis=1)"
      ]
    },
    {
      "cell_type": "code",
      "execution_count": null,
      "metadata": {
        "colab": {
          "base_uri": "https://localhost:8080/",
          "height": 54
        },
        "id": "Z2DjKbXIXC1O",
        "outputId": "ecb28f4e-6e04-4993-b1ad-94152d598579"
      },
      "outputs": [],
      "source": [
        "# 수정 1108\n",
        "'''\n",
        "final_result_na_1 = inf_temp_2.copy()\n",
        "final_result_na_1['역량평가등급'] = 0\n",
        "final_result_na_1['역량평가등급_grade'] = '미대상'\n",
        "\n",
        "final_result_na_2 = inf_temp_2.copy()\n",
        "final_result_na_2['업적평가등급'] = 0\n",
        "final_result_na_2['업적평가등급_grade'] = '미대상'\n",
        "'''"
      ]
    },
    {
      "cell_type": "code",
      "execution_count": null,
      "metadata": {
        "colab": {
          "base_uri": "https://localhost:8080/",
          "height": 35
        },
        "id": "l4bddnOxX3y0",
        "outputId": "e0a38c56-ed56-4179-bd82-a7b55be18195"
      },
      "outputs": [],
      "source": [
        "# 수정 1108\n",
        "'''\n",
        "final_result_1 = pd.concat([final_result_1, final_result_na_1], axis=0)\n",
        "final_result_2 = pd.concat([final_result_2, final_result_na_2], axis=0)\n",
        "'''"
      ]
    },
    {
      "cell_type": "code",
      "execution_count": null,
      "metadata": {
        "id": "tvYkwdA9gvD5"
      },
      "outputs": [],
      "source": [
        "# 추가\n",
        "final_result_1['2019_역량평가등급'] = inf['2019_역량평가등급']\n",
        "final_result_1['2020_역량평가등급'] = inf['2020_역량평가등급']\n",
        "final_result_1['2021_역량평가등급'] = inf['역량평가등급']\n",
        "\n",
        "final_result_2['2019_업적평가등급'] = inf['2019_업적평가등급']\n",
        "final_result_2['2020_업적평가등급'] = inf['2020_업적평가등급']\n",
        "final_result_2['2021_업적평가등급'] = inf['업적평가등급']"
      ]
    },
    {
      "cell_type": "code",
      "execution_count": null,
      "metadata": {
        "id": "QSdxiBjX8ljj"
      },
      "outputs": [],
      "source": [
        "# 수정 1107\n",
        "final_result_1.replace({'직급' : ['업무지원역', '기획역']}, '기타', inplace=True)\n",
        "final_result_2.replace({'직급' : ['업무지원역', '기획역']}, '기타', inplace=True)"
      ]
    },
    {
      "cell_type": "code",
      "execution_count": null,
      "metadata": {
        "id": "CwqpAnBBSMh5"
      },
      "outputs": [],
      "source": [
        "# 수정 1116\n",
        "attrition = ['정희진', '박영민', '강도이', '박상완']\n",
        "attrition_idx = []\n",
        "for i in range(len(final_result_1)) : \n",
        " if final_result_1['성명'][i] in attrition : \n",
        "   attrition_idx.append(i)\n",
        "\n",
        "final_result_1.drop(attrition_idx, inplace=True)\n",
        "final_result_2.drop(attrition_idx, inplace=True)"
      ]
    },
    {
      "cell_type": "code",
      "execution_count": null,
      "metadata": {
        "id": "EInSHuNUxYEG"
      },
      "outputs": [],
      "source": [
        "final_result_1[['긍정성', '적극성',\n",
        "       '성실성', '사회성', '정체성', '관계성', '객관성', '비활성', '과활성', '자기긍정', '기회긍정', '환경긍정',\n",
        "       '성취추구', '인정추구', '성장추구', '점검행동', '조절행동', '유지행동', '감정인식', '맥락이해', '관계대응',\n",
        "       '성찰성', '수용성', '능동성', '공감성', '우호성', '협력성', '도덕성', '정직성', '책임성',\n",
        "       '우울성(저항성)', '부정성(저항성)', '태만성(저항성)', '불안성(저항성)', '충동성(저항성)', '공격성(저항성)',\n",
        "       '역량 평균']] = inf_temp[['긍정성', '적극성',\n",
        "       '성실성', '사회성', '정체성', '관계성', '객관성', '비활성', '과활성', '자기긍정', '기회긍정', '환경긍정',\n",
        "       '성취추구', '인정추구', '성장추구', '점검행동', '조절행동', '유지행동', '감정인식', '맥락이해', '관계대응',\n",
        "       '성찰성', '수용성', '능동성', '공감성', '우호성', '협력성', '도덕성', '정직성', '책임성',\n",
        "       '우울성(저항성)', '부정성(저항성)', '태만성(저항성)', '불안성(저항성)', '충동성(저항성)', '공격성(저항성)',\n",
        "       '역량 평균']]\n",
        "\n",
        "final_result_2[['긍정성', '적극성',\n",
        "       '성실성', '사회성', '정체성', '관계성', '객관성', '비활성', '과활성', '자기긍정', '기회긍정', '환경긍정',\n",
        "       '성취추구', '인정추구', '성장추구', '점검행동', '조절행동', '유지행동', '감정인식', '맥락이해', '관계대응',\n",
        "       '성찰성', '수용성', '능동성', '공감성', '우호성', '협력성', '도덕성', '정직성', '책임성',\n",
        "       '우울성(저항성)', '부정성(저항성)', '태만성(저항성)', '불안성(저항성)', '충동성(저항성)', '공격성(저항성)',\n",
        "       '역량 평균']] = inf_temp[['긍정성', '적극성',\n",
        "       '성실성', '사회성', '정체성', '관계성', '객관성', '비활성', '과활성', '자기긍정', '기회긍정', '환경긍정',\n",
        "       '성취추구', '인정추구', '성장추구', '점검행동', '조절행동', '유지행동', '감정인식', '맥락이해', '관계대응',\n",
        "       '성찰성', '수용성', '능동성', '공감성', '우호성', '협력성', '도덕성', '정직성', '책임성',\n",
        "       '우울성(저항성)', '부정성(저항성)', '태만성(저항성)', '불안성(저항성)', '충동성(저항성)', '공격성(저항성)',\n",
        "       '역량 평균']]"
      ]
    },
    {
      "cell_type": "code",
      "execution_count": null,
      "metadata": {
        "id": "JePvHIlXKCHc"
      },
      "outputs": [],
      "source": [
        "# 추가 1129\n",
        "final_result_1 = final_result_1.reset_index(drop=True)\n",
        "final_result_2 = final_result_2.reset_index(drop=True)\n",
        "\n",
        "punish_list = ['B1210011', 'B1110035', 'B1110036', 'B1110058', 'B1110077', 'B1510023', 'B1510062', 'B1210021', 'B1210076']\n",
        "punish_data = []\n",
        "for i in range(len(final_result_1)) : \n",
        "  if final_result_1['사번'][i] in punish_list : \n",
        "    punish_data.append(1)\n",
        "  elif final_result_1['사번'][i] == 'B1310064' : \n",
        "    punish_data.append(2)\n",
        "  else : \n",
        "    punish_data.append(0)"
      ]
    },
    {
      "cell_type": "code",
      "execution_count": null,
      "metadata": {
        "colab": {
          "base_uri": "https://localhost:8080/"
        },
        "id": "yw2rnBfxJZMu",
        "outputId": "4743eda6-aff9-4678-af70-d2b0b5fbe455"
      },
      "outputs": [],
      "source": [
        "# 추가 1129\n",
        "for i in range(len(punish_data)) : \n",
        "  if punish_data[i] == 1 : \n",
        "    final_result_1['역량평가등급'][i] = final_result_1['역량평가등급'][i]*(1-0.04)\n",
        "    final_result_2['업적평가등급'][i] = final_result_2['업적평가등급'][i]*(1-0.04)\n",
        "  if punish_data[i] == 2 : \n",
        "    final_result_1['역량평가등급'][i] = final_result_1['역량평가등급'][i]*(1-0.08)\n",
        "    final_result_2['업적평가등급'][i] = final_result_2['업적평가등급'][i]*(1-0.08)"
      ]
    },
    {
      "cell_type": "code",
      "execution_count": null,
      "metadata": {
        "id": "GZU2xBmqy7Wf"
      },
      "outputs": [],
      "source": [
        "final_result_1.to_csv('/content/drive/My Drive/Colab Notebooks/NH농협캐피탈/성과관리/성과관리_인적성_역량평가등급.csv', encoding='utf-8-sig', index=False)\n",
        "final_result_2.to_csv('/content/drive/My Drive/Colab Notebooks/NH농협캐피탈/성과관리/성과관리_인적성_업적평가등급.csv', encoding='utf-8-sig', index=False)"
      ]
    },
    {
      "cell_type": "code",
      "execution_count": null,
      "metadata": {
        "id": "bDuav7xmjB-v"
      },
      "outputs": [],
      "source": [
        "shap_values_inf_1 = explainer_1.shap_values(inf_x)\n",
        "\n",
        "pos_max_1 = shap_values_inf_1.max(axis=0)\n",
        "neg_max_1 = shap_values_inf_1.min(axis=0)\n",
        "new_list_1 = []\n",
        "for row in shap_values_inf_1:\n",
        "  temp = []\n",
        "  for ele, pos, neg in zip(row, pos_max_1, neg_max_1):\n",
        "    if ele >= 0:\n",
        "      if pos == 0: #수정\n",
        "        temp.append(0)\n",
        "      else:\n",
        "        temp.append(ele/pos)\n",
        "    else:\n",
        "      if neg == 0:\n",
        "        temp.append(0)\n",
        "      else:\n",
        "        temp.append(-ele/neg)\n",
        "  new_list_1.append(temp)\n",
        "\n",
        "feature_weight_1 = pd.DataFrame(new_list_1, index = pd.RangeIndex(len(shap_values_inf_1)), columns = inf_x.columns)\n",
        "feature_weight_1 = feature_weight_1.fillna(0)"
      ]
    },
    {
      "cell_type": "code",
      "execution_count": null,
      "metadata": {
        "colab": {
          "base_uri": "https://localhost:8080/"
        },
        "id": "50qveDjBAOQt",
        "outputId": "3df9b8ef-3b6f-47f8-de0f-bbc3f08bff24"
      },
      "outputs": [],
      "source": [
        "feature_weight_1.mean()[40:]"
      ]
    },
    {
      "cell_type": "code",
      "execution_count": null,
      "metadata": {
        "id": "v0zAw7rZjZ0X"
      },
      "outputs": [],
      "source": [
        "categorical_feature = ['성별', '입사경로', '학력', '전공', '당년 직급', '거주지', '금년 교육이수 여부']\n",
        "cate_main_1 = []\n",
        "\n",
        "for i in range(len(feature_weight_1)) :\n",
        "  temp_1 = []\n",
        "  for name in categorical_feature : \n",
        "    temp_2 = []\n",
        "    for j in range (len(feature_weight_1.columns.tolist())) : \n",
        "      if name in feature_weight_1.columns.tolist()[j] : \n",
        "        real_name = feature_weight_1.columns.tolist()[j]\n",
        "        temp_2.append(feature_weight_1[real_name][i])\n",
        "    data_sum = np.sum(temp_2)\n",
        "    temp_1.append(data_sum)\n",
        "  cate_main_1.append(temp_1)"
      ]
    },
    {
      "cell_type": "code",
      "execution_count": null,
      "metadata": {
        "id": "n_5rZ8uwjnfN"
      },
      "outputs": [],
      "source": [
        "ttt_f = pd.DataFrame(cate_main_1, columns=categorical_feature)\n",
        "\n",
        "feature_weight_1.drop(['성별_여자', '입사경로_신입', '학력_대졸', '학력_대학원졸', '학력_전졸',\n",
        "       '전공_공학계열', '전공_교육계열', '전공_사회계열', '전공_예체능계열', '전공_인문계열', '전공_자연계열',\n",
        "       '당년 직급_과장', '당년 직급_대리', '당년 직급_부장', '당년 직급_사원', '당년 직급_이사대우',\n",
        "       '당년 직급_차장', '거주지_광주', '거주지_대구', '거주지_대전', '거주지_부산', '거주지_서울', '거주지_인천',\n",
        "       '거주지_충북', '금년 교육이수 여부_Yes', '금년 교육이수 여부_미신청', '거주지_세종'], axis=1, inplace=True)\n",
        "feature_weight_1 = pd.concat([feature_weight_1, ttt_f], axis=1)"
      ]
    },
    {
      "cell_type": "code",
      "execution_count": null,
      "metadata": {
        "colab": {
          "base_uri": "https://localhost:8080/"
        },
        "id": "GgMx_3qfjpVg",
        "outputId": "c7004bda-37b9-40ce-a63d-f0f119bb0942"
      },
      "outputs": [],
      "source": [
        "mm = MinMaxScaler(feature_range=(-1, 1))\n",
        "\n",
        "for i in range (len(feature_weight_1.max())) : \n",
        "  if feature_weight_1.max()[i] > 1 : \n",
        "    feature_name = feature_weight_1.max().index[i]\n",
        "    scaling = mm.fit_transform(feature_weight_1[feature_name].values.reshape(-1,1))\n",
        "    for j in range (len(feature_weight_1)) : \n",
        "      feature_weight_1[feature_name][j] = scaling[j][0]\n",
        "\n",
        "for i in range (len(feature_weight_1.min())) : \n",
        "  if feature_weight_1.min()[i] < -1 : \n",
        "    feature_name = feature_weight_1.min().index[i]\n",
        "    scaling = mm.fit_transform(feature_weight_1[feature_name].values.reshape(-1,1))\n",
        "    for j in range (len(feature_weight_1)) : \n",
        "      feature_weight_1[feature_name][j] = scaling[j][0]"
      ]
    },
    {
      "cell_type": "code",
      "execution_count": null,
      "metadata": {
        "id": "-r0TTOcWjtMF"
      },
      "outputs": [],
      "source": [
        "feature_weight_1.insert(0, '사번', inf_data['사번'].tolist())"
      ]
    },
    {
      "cell_type": "code",
      "execution_count": null,
      "metadata": {
        "id": "-iMzF5ZFkjP4"
      },
      "outputs": [],
      "source": [
        "shap_values_inf_2 = explainer_2.shap_values(inf_x)\n",
        "\n",
        "pos_max_2 = shap_values_inf_2.max(axis=0)\n",
        "neg_max_2 = shap_values_inf_2.min(axis=0)\n",
        "new_list_2 = []\n",
        "for row in shap_values_inf_2:\n",
        "  temp = []\n",
        "  for ele, pos, neg in zip(row, pos_max_2, neg_max_2):\n",
        "    if ele >= 0:\n",
        "      if pos == 0: #수정\n",
        "        temp.append(0)\n",
        "      else:\n",
        "        temp.append(ele/pos)\n",
        "    else:\n",
        "      if neg == 0:\n",
        "        temp.append(0)\n",
        "      else:\n",
        "        temp.append(-ele/neg)\n",
        "  new_list_2.append(temp)\n",
        "\n",
        "feature_weight_2 = pd.DataFrame(new_list_2, index = pd.RangeIndex(len(shap_values_inf_2)), columns = inf_x.columns)\n",
        "feature_weight_2 = feature_weight_2.fillna(0)"
      ]
    },
    {
      "cell_type": "code",
      "execution_count": null,
      "metadata": {
        "id": "_3TwnOSJkjP4"
      },
      "outputs": [],
      "source": [
        "cate_main_2 = []\n",
        "\n",
        "for i in range(len(feature_weight_2)) :\n",
        "  temp_1 = []\n",
        "  for name in categorical_feature : \n",
        "    temp_2 = []\n",
        "    for j in range (len(feature_weight_2.columns.tolist())) : \n",
        "      if name in feature_weight_2.columns.tolist()[j] : \n",
        "        real_name = feature_weight_2.columns.tolist()[j]\n",
        "        temp_2.append(feature_weight_2[real_name][i])\n",
        "    data_sum = np.sum(temp_2)\n",
        "    temp_1.append(data_sum)\n",
        "  cate_main_2.append(temp_1)"
      ]
    },
    {
      "cell_type": "code",
      "execution_count": null,
      "metadata": {
        "id": "M5RJ_aNekjP5"
      },
      "outputs": [],
      "source": [
        "ttt_s = pd.DataFrame(cate_main_2, columns=categorical_feature)\n",
        "\n",
        "feature_weight_2.drop(['성별_여자', '입사경로_신입', '학력_대졸', '학력_대학원졸', '학력_전졸',\n",
        "       '전공_공학계열', '전공_교육계열', '전공_사회계열', '전공_예체능계열', '전공_인문계열', '전공_자연계열',\n",
        "       '당년 직급_과장', '당년 직급_대리', '당년 직급_부장', '당년 직급_사원', '당년 직급_이사대우',\n",
        "       '당년 직급_차장', '거주지_광주', '거주지_대구', '거주지_대전', '거주지_부산', '거주지_서울', '거주지_인천',\n",
        "       '거주지_충북', '금년 교육이수 여부_Yes', '금년 교육이수 여부_미신청', '거주지_세종'], axis=1, inplace=True)\n",
        "feature_weight_2 = pd.concat([feature_weight_2, ttt_s], axis=1)"
      ]
    },
    {
      "cell_type": "code",
      "execution_count": null,
      "metadata": {
        "id": "T0958YISkjP5"
      },
      "outputs": [],
      "source": [
        "for i in range (len(feature_weight_2.max())) : \n",
        "  if feature_weight_2.max()[i] > 1 : \n",
        "    feature_name = feature_weight_2.max().index[i]\n",
        "    scaling = mm.fit_transform(feature_weight_2[feature_name].values.reshape(-1,1))\n",
        "    for j in range (len(feature_weight_2)) : \n",
        "      feature_weight_2[feature_name][j] = scaling[j][0]\n",
        "\n",
        "for i in range (len(feature_weight_2.min())) : \n",
        "  if feature_weight_2.min()[i] < -1 : \n",
        "    feature_name = feature_weight_2.min().index[i]\n",
        "    scaling = mm.fit_transform(feature_weight_2[feature_name].values.reshape(-1,1))\n",
        "    for j in range (len(feature_weight_2)) : \n",
        "      feature_weight_2[feature_name][j] = scaling[j][0]"
      ]
    },
    {
      "cell_type": "code",
      "execution_count": null,
      "metadata": {
        "id": "wqRcrUsqkjP5"
      },
      "outputs": [],
      "source": [
        "feature_weight_2.insert(0, '사번', inf_data['사번'].tolist())"
      ]
    },
    {
      "cell_type": "code",
      "execution_count": null,
      "metadata": {
        "id": "0X1UkBzeTEYK"
      },
      "outputs": [],
      "source": [
        "# 수정 1103\n",
        "feature_weight_1['연령'] = feature_weight_1['연령']*0.1\n",
        "feature_weight_1['당사근속기간(개월)'] = feature_weight_1['당사근속기간(개월)']*0.1\n",
        "feature_weight_1['당년 직급'] = feature_weight_1['당년 직급']*0.1\n",
        "feature_weight_1['외부경력(개월)'] = feature_weight_1['외부경력(개월)']*0.3\n",
        "feature_weight_1['수상횟수'] = feature_weight_1['수상횟수']*0.2\n",
        "\n",
        "feature_weight_2['총경력(개월)'] = feature_weight_2['총경력(개월)']*0.8\n",
        "feature_weight_2['당사근속기간(개월)'] = feature_weight_2['당사근속기간(개월)']*0.5\n",
        "feature_weight_2['당년 직급'] = feature_weight_2['당년 직급']*0.7"
      ]
    },
    {
      "cell_type": "code",
      "execution_count": null,
      "metadata": {
        "id": "vI7lmPcRkUPF"
      },
      "outputs": [],
      "source": [
        "feature_weight_1.to_csv('/content/drive/My Drive/Colab Notebooks/NH농협캐피탈/성과관리/feature_weight_인적성_역량.csv', encoding='utf-8-sig', index=False)\n",
        "feature_weight_2.to_csv('/content/drive/My Drive/Colab Notebooks/NH농협캐피탈/성과관리/feature_weight_인적성_업적.csv', encoding='utf-8-sig', index=False)"
      ]
    },
    {
      "cell_type": "code",
      "execution_count": null,
      "metadata": {
        "id": "I5QyKtDRV3UU"
      },
      "outputs": [],
      "source": [
        "train_prediction_1 = pd.DataFrame(columns=['사번', 'train_predict', 'train_label'])\n",
        "train_prediction_2 = pd.DataFrame(columns=['사번', 'train_predict', 'train_label'])"
      ]
    },
    {
      "cell_type": "code",
      "execution_count": null,
      "metadata": {
        "id": "kaD50g3ZV3UX"
      },
      "outputs": [],
      "source": [
        "train_prediction_1['사번'] = train_name_f.reset_index(drop=True)\n",
        "train_prediction_2['사번'] = train_name_s.reset_index(drop=True)\n",
        "train_prediction_1['train_predict'] = y_train_f.reset_index(drop=True)\n",
        "train_prediction_2['train_predict'] = y_train_s.reset_index(drop=True)"
      ]
    },
    {
      "cell_type": "code",
      "execution_count": null,
      "metadata": {
        "id": "eiAjNsfCT9hG"
      },
      "outputs": [],
      "source": [
        "train_prediction_1['train_label'] = train_prediction_1['train_predict'].replace({5 : \"S\", 4 : \"A\", 3 : \"B\", 2 : \"C\", 1 : \"D\"})\n",
        "train_prediction_2['train_label'] = train_prediction_2['train_predict'].replace({5 : \"S\", 4 : \"A\", 3 : \"B\", 2 : \"C\", 1 : \"D\"})"
      ]
    },
    {
      "cell_type": "code",
      "execution_count": null,
      "metadata": {
        "id": "-CdcQihtnbxq"
      },
      "outputs": [],
      "source": [
        "train_prediction_1.to_csv('/content/drive/My Drive/Colab Notebooks/NH농협캐피탈/성과관리/train_prediction_인적성_역량.csv', encoding='utf-8-sig', index=False)\n",
        "train_prediction_2.to_csv('/content/drive/My Drive/Colab Notebooks/NH농협캐피탈/성과관리/train_prediction_인적성_업적.csv', encoding='utf-8-sig', index=False)"
      ]
    },
    {
      "cell_type": "code",
      "execution_count": null,
      "metadata": {
        "id": "6DpN1yZek72J"
      },
      "outputs": [],
      "source": [
        "# 수정 1107\n",
        "temp_result_1 = pd.read_csv('/content/drive/My Drive/Colab Notebooks/NH농협캐피탈/성과관리/성과관리_대상_역량평가등급.csv', encoding='utf-8-sig')\n",
        "temp_result_2 = pd.read_csv('/content/drive/My Drive/Colab Notebooks/NH농협캐피탈/성과관리/성과관리_대상_업적평가등급.csv', encoding='utf-8-sig')"
      ]
    },
    {
      "cell_type": "code",
      "execution_count": null,
      "metadata": {
        "id": "iRzAdoPHlTmX"
      },
      "outputs": [],
      "source": [
        "# 수정 1107\n",
        "grade_final_result_1 = final_result_1[['사번', '역량평가등급']]\n",
        "grade_temp_result_1 = temp_result_1[['사번', '역량평가등급']]\n",
        "grade_result_1 = pd.concat([grade_final_result_1, grade_temp_result_1], axis=0)\n",
        "\n",
        "grade_final_result_2 = final_result_2[['사번', '업적평가등급']]\n",
        "grade_temp_result_2 = temp_result_2[['사번', '업적평가등급']]\n",
        "grade_result_2 = pd.concat([grade_final_result_2, grade_temp_result_2], axis=0)"
      ]
    },
    {
      "cell_type": "code",
      "execution_count": null,
      "metadata": {
        "id": "cLu3gpW2l-Y5"
      },
      "outputs": [],
      "source": [
        "grade_result_1 = grade_result_1.sort_values(by='역량평가등급', ascending=False)\n",
        "grade_1 = grade_result_1.loc[grade_result_1['역량평가등급']!=0].reset_index(drop=True)\n",
        "a_grade_1 = grade_1['역량평가등급'][round(len(grade_1)*0.3-1)]\n",
        "c_grade_1 = grade_1['역량평가등급'][round(len(grade_1)*(1-0.2))]\n",
        "\n",
        "grade_result_2 = grade_result_2.sort_values(by='업적평가등급', ascending=False)\n",
        "grade_2 = grade_result_2.loc[grade_result_2['업적평가등급']!=0].reset_index(drop=True)\n",
        "a_grade_2 = grade_2['업적평가등급'][round(len(grade_2)*0.32-1)]\n",
        "c_grade_2 = grade_2['업적평가등급'][round(len(grade_2)*(1-0.21))]\n",
        "\n",
        "grade_list_1 = []\n",
        "grade_list_2 = []\n",
        "\n",
        "for i in range(len(grade_1)) : \n",
        "  if grade_1['역량평가등급'][i] >= a_grade_f : \n",
        "    grade_list_1.append(\"A\")\n",
        "  elif grade_1['역량평가등급'][i] <= c_grade_f : \n",
        "    grade_list_1.append(\"C\")\n",
        "  else : \n",
        "    grade_list_1.append(\"B\")\n",
        "  \n",
        "  if grade_2['업적평가등급'][i] >= a_grade_s : \n",
        "    grade_list_2.append(\"A\")\n",
        "  elif grade_2['업적평가등급'][i] <= c_grade_s : \n",
        "    grade_list_2.append(\"C\")\n",
        "  else : \n",
        "    grade_list_2.append(\"B\")\n",
        "\n",
        "grade_1['역량평가등급_grade'] = grade_list_1\n",
        "grade_2['업적평가등급_grade'] = grade_list_2"
      ]
    },
    {
      "cell_type": "code",
      "execution_count": null,
      "metadata": {
        "id": "sHUqHVLHoz9v"
      },
      "outputs": [],
      "source": [
        "not_grade_1 = grade_result_1.loc[grade_result_1['역량평가등급']==0]\n",
        "grade_1 = pd.concat([grade_1, not_grade_1], axis=0)\n",
        "grade_1.fillna('미대상', inplace=True)"
      ]
    },
    {
      "cell_type": "code",
      "execution_count": null,
      "metadata": {
        "id": "W8CZxRggpQr2"
      },
      "outputs": [],
      "source": [
        "not_grade_2 = grade_result_2.loc[grade_result_2['업적평가등급']==0]\n",
        "grade_2 = pd.concat([grade_2, not_grade_2], axis=0)\n",
        "grade_2.fillna('미대상', inplace=True)"
      ]
    },
    {
      "cell_type": "code",
      "execution_count": null,
      "metadata": {
        "id": "9-xi8D5kpZO6"
      },
      "outputs": [],
      "source": [
        "grade_1.to_csv('/content/drive/My Drive/Colab Notebooks/NH농협캐피탈/성과관리/역량평가등급_grade.csv', encoding='utf-8-sig', index=False)\n",
        "grade_2.to_csv('/content/drive/My Drive/Colab Notebooks/NH농협캐피탈/성과관리/업적평가등급_grade.csv', encoding='utf-8-sig', index=False)"
      ]
    },
    {
      "cell_type": "code",
      "execution_count": null,
      "metadata": {
        "colab": {
          "base_uri": "https://localhost:8080/"
        },
        "id": "rh7keEnFIU2m",
        "outputId": "d48881bb-1bae-458f-bd14-4a71e3f891ef"
      },
      "outputs": [],
      "source": [
        "qwer = final_result_1.dropna(subset=['역량 평균'], axis=0)\n",
        "qqqq = qwer[numerical]\n",
        "qqqq['역량평가등급'] = qwer['역량평가등급']\n",
        "qqqq = qqqq.reset_index(drop=True)"
      ]
    },
    {
      "cell_type": "code",
      "execution_count": null,
      "metadata": {
        "id": "nFciFroKMCu6"
      },
      "outputs": [],
      "source": [
        "qqqq.replace('미신청', 0, inplace=True)\n",
        "qqqq.replace('미입사', 0, inplace=True)"
      ]
    },
    {
      "cell_type": "code",
      "execution_count": null,
      "metadata": {
        "id": "vEed9q1WL4HO"
      },
      "outputs": [],
      "source": [
        "qqqq = qqqq.astype('float')"
      ]
    },
    {
      "cell_type": "code",
      "execution_count": null,
      "metadata": {
        "id": "NhFbfXKgOCfL"
      },
      "outputs": [],
      "source": [
        "ffff= qqqq.corr(method='pearson')"
      ]
    },
    {
      "cell_type": "code",
      "execution_count": null,
      "metadata": {
        "colab": {
          "base_uri": "https://localhost:8080/",
          "height": 1000
        },
        "id": "fZJYjRNcNGZN",
        "outputId": "c3fa022d-3447-4233-e433-ba97962fb57b"
      },
      "outputs": [],
      "source": [
        "df = pd.DataFrame(ffff['역량평가등급'].sort_values(ascending=False), columns=['역량평가등급'])\n",
        "df.style.background_gradient(cmap='viridis')"
      ]
    },
    {
      "cell_type": "code",
      "execution_count": null,
      "metadata": {
        "colab": {
          "base_uri": "https://localhost:8080/"
        },
        "id": "CLAVsbP_T0wA",
        "outputId": "c5175ba2-0fa4-42be-e6d3-f6dd4f75301e"
      },
      "outputs": [],
      "source": [
        "qwer = final_result_2.dropna(subset=['역량 평균'], axis=0)\n",
        "qqqq = qwer[numerical]\n",
        "qqqq['업적평가등급'] = qwer['업적평가등급']\n",
        "qqqq = qqqq.reset_index(drop=True)"
      ]
    },
    {
      "cell_type": "code",
      "execution_count": null,
      "metadata": {
        "id": "fzsYIopUT0wB"
      },
      "outputs": [],
      "source": [
        "qqqq.replace('미신청', 0, inplace=True)\n",
        "qqqq.replace('미입사', 0, inplace=True)"
      ]
    },
    {
      "cell_type": "code",
      "execution_count": null,
      "metadata": {
        "id": "SdMz6ooST0wB"
      },
      "outputs": [],
      "source": [
        "qqqq = qqqq.astype('float')"
      ]
    },
    {
      "cell_type": "code",
      "execution_count": null,
      "metadata": {
        "id": "Y1viBleAT0wB"
      },
      "outputs": [],
      "source": [
        "ffff= qqqq.corr(method='pearson')"
      ]
    },
    {
      "cell_type": "code",
      "execution_count": null,
      "metadata": {
        "colab": {
          "base_uri": "https://localhost:8080/",
          "height": 1000
        },
        "id": "qrV8fCY7T0wB",
        "outputId": "17d2ffb1-8fc8-4764-bd85-7496b1865dbb"
      },
      "outputs": [],
      "source": [
        "df = pd.DataFrame(ffff['업적평가등급'].sort_values(ascending=False), columns=['업적평가등급'])\n",
        "df.style.background_gradient(cmap='viridis')"
      ]
    }
  ],
  "metadata": {
    "colab": {
      "provenance": []
    },
    "kernelspec": {
      "display_name": "Python 3",
      "name": "python3"
    },
    "language_info": {
      "name": "python"
    }
  },
  "nbformat": 4,
  "nbformat_minor": 0
}
