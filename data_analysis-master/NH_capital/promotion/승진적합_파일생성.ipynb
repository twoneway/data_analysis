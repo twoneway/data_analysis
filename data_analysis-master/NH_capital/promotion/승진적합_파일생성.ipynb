{
  "nbformat": 4,
  "nbformat_minor": 0,
  "metadata": {
    "colab": {
      "provenance": []
    },
    "kernelspec": {
      "name": "python3",
      "display_name": "Python 3"
    },
    "language_info": {
      "name": "python"
    }
  },
  "cells": [
    {
      "cell_type": "code",
      "execution_count": null,
      "metadata": {
        "colab": {
          "base_uri": "https://localhost:8080/"
        },
        "id": "tuhMeYiSe0Jt",
        "outputId": "a233fcb9-3fed-498e-dffb-6e99678d4233"
      },
      "outputs": [
        {
          "output_type": "stream",
          "name": "stdout",
          "text": [
            "Mounted at /content/drive\n"
          ]
        }
      ],
      "source": [
        "from google.colab import drive\n",
        "drive.mount('/content/drive')"
      ]
    },
    {
      "cell_type": "code",
      "source": [
        "!sudo apt-get install -y fonts-nanum\n",
        "!sudo fc-cache -fv\n",
        "!rm ~/.cache/matplotlib -rf"
      ],
      "metadata": {
        "colab": {
          "base_uri": "https://localhost:8080/"
        },
        "id": "BGQw_tHXe5aA",
        "outputId": "4f1e9707-ce06-49ac-cc48-4d55d61579d4"
      },
      "execution_count": null,
      "outputs": [
        {
          "output_type": "stream",
          "name": "stdout",
          "text": [
            "Reading package lists... Done\n",
            "Building dependency tree       \n",
            "Reading state information... Done\n",
            "The following package was automatically installed and is no longer required:\n",
            "  libnvidia-common-460\n",
            "Use 'sudo apt autoremove' to remove it.\n",
            "The following NEW packages will be installed:\n",
            "  fonts-nanum\n",
            "0 upgraded, 1 newly installed, 0 to remove and 5 not upgraded.\n",
            "Need to get 9,604 kB of archives.\n",
            "After this operation, 29.5 MB of additional disk space will be used.\n",
            "Get:1 http://archive.ubuntu.com/ubuntu bionic/universe amd64 fonts-nanum all 20170925-1 [9,604 kB]\n",
            "Fetched 9,604 kB in 2s (5,363 kB/s)\n",
            "debconf: unable to initialize frontend: Dialog\n",
            "debconf: (No usable dialog-like program is installed, so the dialog based frontend cannot be used. at /usr/share/perl5/Debconf/FrontEnd/Dialog.pm line 76, <> line 1.)\n",
            "debconf: falling back to frontend: Readline\n",
            "debconf: unable to initialize frontend: Readline\n",
            "debconf: (This frontend requires a controlling tty.)\n",
            "debconf: falling back to frontend: Teletype\n",
            "dpkg-preconfigure: unable to re-open stdin: \n",
            "Selecting previously unselected package fonts-nanum.\n",
            "(Reading database ... 123991 files and directories currently installed.)\n",
            "Preparing to unpack .../fonts-nanum_20170925-1_all.deb ...\n",
            "Unpacking fonts-nanum (20170925-1) ...\n",
            "Setting up fonts-nanum (20170925-1) ...\n",
            "Processing triggers for fontconfig (2.12.6-0ubuntu2) ...\n",
            "/usr/share/fonts: caching, new cache contents: 0 fonts, 1 dirs\n",
            "/usr/share/fonts/truetype: caching, new cache contents: 0 fonts, 3 dirs\n",
            "/usr/share/fonts/truetype/humor-sans: caching, new cache contents: 1 fonts, 0 dirs\n",
            "/usr/share/fonts/truetype/liberation: caching, new cache contents: 16 fonts, 0 dirs\n",
            "/usr/share/fonts/truetype/nanum: caching, new cache contents: 10 fonts, 0 dirs\n",
            "/usr/local/share/fonts: caching, new cache contents: 0 fonts, 0 dirs\n",
            "/root/.local/share/fonts: skipping, no such directory\n",
            "/root/.fonts: skipping, no such directory\n",
            "/var/cache/fontconfig: cleaning cache directory\n",
            "/root/.cache/fontconfig: not cleaning non-existent cache directory\n",
            "/root/.fontconfig: not cleaning non-existent cache directory\n",
            "fc-cache: succeeded\n"
          ]
        }
      ]
    },
    {
      "cell_type": "code",
      "source": [
        "!pip install konlpy"
      ],
      "metadata": {
        "colab": {
          "base_uri": "https://localhost:8080/"
        },
        "id": "ry9oexawknSH",
        "outputId": "2a0f918b-295d-4b17-9b43-e5201f003937"
      },
      "execution_count": null,
      "outputs": [
        {
          "output_type": "stream",
          "name": "stdout",
          "text": [
            "Looking in indexes: https://pypi.org/simple, https://us-python.pkg.dev/colab-wheels/public/simple/\n",
            "Collecting konlpy\n",
            "  Downloading konlpy-0.6.0-py2.py3-none-any.whl (19.4 MB)\n",
            "\u001b[K     |████████████████████████████████| 19.4 MB 198 kB/s \n",
            "\u001b[?25hCollecting JPype1>=0.7.0\n",
            "  Downloading JPype1-1.4.1-cp37-cp37m-manylinux_2_12_x86_64.manylinux2010_x86_64.whl (465 kB)\n",
            "\u001b[K     |████████████████████████████████| 465 kB 40.4 MB/s \n",
            "\u001b[?25hRequirement already satisfied: lxml>=4.1.0 in /usr/local/lib/python3.7/dist-packages (from konlpy) (4.9.1)\n",
            "Requirement already satisfied: numpy>=1.6 in /usr/local/lib/python3.7/dist-packages (from konlpy) (1.21.6)\n",
            "Requirement already satisfied: typing-extensions in /usr/local/lib/python3.7/dist-packages (from JPype1>=0.7.0->konlpy) (4.1.1)\n",
            "Requirement already satisfied: packaging in /usr/local/lib/python3.7/dist-packages (from JPype1>=0.7.0->konlpy) (21.3)\n",
            "Requirement already satisfied: pyparsing!=3.0.5,>=2.0.2 in /usr/local/lib/python3.7/dist-packages (from packaging->JPype1>=0.7.0->konlpy) (3.0.9)\n",
            "Installing collected packages: JPype1, konlpy\n",
            "Successfully installed JPype1-1.4.1 konlpy-0.6.0\n"
          ]
        }
      ]
    },
    {
      "cell_type": "code",
      "source": [
        "import pandas as pd \n",
        "import numpy as np\n",
        "import re\n",
        "import matplotlib.pyplot as plt\n",
        "import seaborn as sns\n",
        "from plotly.offline import init_notebook_mode, plot, iplot\n",
        "import plotly.graph_objs as go\n",
        "from pandas.api.types import is_numeric_dtype\n",
        "from pandas.api.types import is_string_dtype"
      ],
      "metadata": {
        "id": "60Hbeml0e60a"
      },
      "execution_count": null,
      "outputs": []
    },
    {
      "cell_type": "code",
      "source": [
        "import nltk\n",
        "from konlpy.tag import Okt\n",
        "from wordcloud import WordCloud\n",
        "from collections import defaultdict\n",
        "from collections import Counter\n",
        "from nltk.corpus import stopwords"
      ],
      "metadata": {
        "id": "dADM13-TfW65"
      },
      "execution_count": null,
      "outputs": []
    },
    {
      "cell_type": "code",
      "source": [
        "plt.rc('font', family='NanumBarunGothic') "
      ],
      "metadata": {
        "id": "zTBEE0M-e9n4"
      },
      "execution_count": null,
      "outputs": []
    },
    {
      "cell_type": "code",
      "source": [
        "raw_data_19 = pd.read_excel('/content/drive/My Drive/Colab Notebooks/NH농협캐피탈/추가데이터/NH농협캐피탈 데이터 작업_승진적합_1114.xlsx', sheet_name=0)\n",
        "major = pd.read_excel('/content/drive/My Drive/Colab Notebooks/NH농협캐피탈/dataset/전공 대분류.xlsx')"
      ],
      "metadata": {
        "id": "pMt16ROie-nH"
      },
      "execution_count": null,
      "outputs": []
    },
    {
      "cell_type": "code",
      "source": [
        "raw_data_19['전공'] = major['대분류']"
      ],
      "metadata": {
        "id": "2rwqG1qx9cK8"
      },
      "execution_count": null,
      "outputs": []
    },
    {
      "cell_type": "code",
      "source": [
        "raw_data_20 = pd.read_excel('/content/drive/My Drive/Colab Notebooks/NH농협캐피탈/추가데이터/NH농협캐피탈 데이터 작업_승진적합_1114.xlsx', sheet_name=1)\n",
        "raw_data_21 = pd.read_excel('/content/drive/My Drive/Colab Notebooks/NH농협캐피탈/추가데이터/NH농협캐피탈 데이터 작업_승진적합_1114.xlsx', sheet_name=2)"
      ],
      "metadata": {
        "id": "kh76eTXyhPI2"
      },
      "execution_count": null,
      "outputs": []
    },
    {
      "cell_type": "code",
      "source": [
        "raw_data_20['전공'] = major['대분류']\n",
        "raw_data_21['전공'] = major['대분류']"
      ],
      "metadata": {
        "id": "cvhFh5gtOwhF"
      },
      "execution_count": null,
      "outputs": []
    },
    {
      "cell_type": "code",
      "source": [
        "sen1_data = pd.read_excel('/content/drive/My Drive/Colab Notebooks/NH농협캐피탈/dataset/sentiment_19년상.xlsx')\n",
        "sen2_data = pd.read_excel('/content/drive/My Drive/Colab Notebooks/NH농협캐피탈/dataset/sentiment_19년하.xlsx')\n",
        "sen3_data = pd.read_excel('/content/drive/My Drive/Colab Notebooks/NH농협캐피탈/dataset/sentiment_20년상.xlsx')\n",
        "sen4_data = pd.read_excel('/content/drive/My Drive/Colab Notebooks/NH농협캐피탈/dataset/sentiment_20년하.xlsx')\n",
        "sen5_data = pd.read_excel('/content/drive/My Drive/Colab Notebooks/NH농협캐피탈/dataset/sentiment_21년하.xlsx')"
      ],
      "metadata": {
        "id": "ct8_XVh_fcpq"
      },
      "execution_count": null,
      "outputs": []
    },
    {
      "cell_type": "code",
      "source": [
        "sen1 = sen1_data['사번'].unique()\n",
        "sen2 = sen2_data['사번'].unique()\n",
        "sen_2019 = list(set(np.append(sen1, sen2)))"
      ],
      "metadata": {
        "id": "nd9KDK4PlREY"
      },
      "execution_count": null,
      "outputs": []
    },
    {
      "cell_type": "code",
      "source": [
        "sen3 = sen3_data['사번'].unique()\n",
        "sen4 = sen4_data['사번'].unique()\n",
        "sen_2020 = list(set(np.append(sen3, sen4)))"
      ],
      "metadata": {
        "id": "Re1Omj-ptojW"
      },
      "execution_count": null,
      "outputs": []
    },
    {
      "cell_type": "code",
      "source": [
        "sen_2021 = sen5_data['사번'].unique()"
      ],
      "metadata": {
        "id": "pfQxP2sff5xM"
      },
      "execution_count": null,
      "outputs": []
    },
    {
      "cell_type": "code",
      "source": [
        "sen1_data = sen1_data.replace('positive', 1)\n",
        "sen1_data = sen1_data.replace('negative', -1)\n",
        "sen1_data = sen1_data.replace('neutral', 0)"
      ],
      "metadata": {
        "id": "qF9vyvLOoX-B"
      },
      "execution_count": null,
      "outputs": []
    },
    {
      "cell_type": "code",
      "source": [
        "sen2_data = sen2_data.replace('positive', 1)\n",
        "sen2_data = sen2_data.replace('negative', -1)\n",
        "sen2_data = sen2_data.replace('neutral', 0)"
      ],
      "metadata": {
        "id": "db0yP7heouIr"
      },
      "execution_count": null,
      "outputs": []
    },
    {
      "cell_type": "code",
      "source": [
        "sen3_data = sen3_data.replace('positive', 1)\n",
        "sen3_data = sen3_data.replace('negative', -1)\n",
        "sen3_data = sen3_data.replace('neutral', 0)"
      ],
      "metadata": {
        "id": "AqkISms8tVzo"
      },
      "execution_count": null,
      "outputs": []
    },
    {
      "cell_type": "code",
      "source": [
        "sen4_data = sen4_data.replace('positive', 1)\n",
        "sen4_data = sen4_data.replace('negative', -1)\n",
        "sen4_data = sen4_data.replace('neutral', 0)"
      ],
      "metadata": {
        "id": "0RP1tVvZtWBB"
      },
      "execution_count": null,
      "outputs": []
    },
    {
      "cell_type": "code",
      "source": [
        "sen5_data = sen5_data.replace('positive', 1)\n",
        "sen5_data = sen5_data.replace('negative', -1)\n",
        "sen5_data = sen5_data.replace('neutral', 0)"
      ],
      "metadata": {
        "id": "_-sqVYPatXm2"
      },
      "execution_count": null,
      "outputs": []
    },
    {
      "cell_type": "code",
      "source": [
        "con_list = []\n",
        "for name in sen_2019 : \n",
        "  temp_list = []\n",
        "  temp_list.append(name)\n",
        "  first = sen1_data.loc[sen1_data['사번']==name].reset_index(drop=True)\n",
        "  half = sen2_data.loc[sen2_data['사번']==name].reset_index(drop=True)\n",
        "  if (len(first)==0 and len(half)!=0) : \n",
        "    temp_list.append(half['직책수행능력'][0])\n",
        "    temp_list.append(half['조직내 필요성'][0])\n",
        "    temp_list.append(half['동반자 의식'][0])\n",
        "  elif (len(half)==0 and len(first)!=0) : \n",
        "    temp_list.append(first['직책수행능력'][0])\n",
        "    temp_list.append(first['조직내 필요성'][0])\n",
        "    temp_list.append(first['동반자 의식'][0])\n",
        "  else : \n",
        "    if (first['직책수행능력'][0]+half['직책수행능력'][0] > 0) : \n",
        "      temp_list.append(1)\n",
        "    elif (first['직책수행능력'][0]+half['직책수행능력'][0] < 0) : \n",
        "      temp_list.append(-1)\n",
        "    else : \n",
        "      temp_list.append(0)\n",
        "    \n",
        "    if (first['조직내 필요성'][0]+half['조직내 필요성'][0] > 0) : \n",
        "      temp_list.append(1)\n",
        "    elif (first['조직내 필요성'][0]+half['조직내 필요성'][0] < 0) : \n",
        "      temp_list.append(-1)\n",
        "    else : \n",
        "      temp_list.append(0)\n",
        "\n",
        "    if (first['동반자 의식'][0]+half['동반자 의식'][0] > 0) : \n",
        "      temp_list.append(1)\n",
        "    elif (first['동반자 의식'][0]+half['동반자 의식'][0] < 0) : \n",
        "      temp_list.append(-1)\n",
        "    else : \n",
        "      temp_list.append(0)\n",
        "\n",
        "  con_list.append(temp_list)\n",
        "\n",
        "sentiment_2019 = pd.DataFrame(con_list, columns=['사번', '직책수행능력', '조직내 필요성', '동반자 의식'])"
      ],
      "metadata": {
        "id": "JrEHj1fomckR"
      },
      "execution_count": null,
      "outputs": []
    },
    {
      "cell_type": "code",
      "source": [
        "con_list = []\n",
        "for name in sen_2020 : \n",
        "  temp_list = []\n",
        "  temp_list.append(name)\n",
        "  first = sen3_data.loc[sen3_data['사번']==name].reset_index(drop=True)\n",
        "  half = sen4_data.loc[sen4_data['사번']==name].reset_index(drop=True)\n",
        "  if (len(first)==0 and len(half)!=0) : \n",
        "    temp_list.append(half['직책수행능력'][0])\n",
        "    temp_list.append(half['조직내 필요성'][0])\n",
        "    temp_list.append(half['동반자 의식'][0])\n",
        "  elif (len(half)==0 and len(first)!=0) : \n",
        "    temp_list.append(first['직책수행능력'][0])\n",
        "    temp_list.append(first['조직내 필요성'][0])\n",
        "    temp_list.append(first['동반자 의식'][0])\n",
        "  else : \n",
        "    if (first['직책수행능력'][0]+half['직책수행능력'][0] > 0) : \n",
        "      temp_list.append(1)\n",
        "    elif (first['직책수행능력'][0]+half['직책수행능력'][0] < 0) : \n",
        "      temp_list.append(-1)\n",
        "    else : \n",
        "      temp_list.append(0)\n",
        "    \n",
        "    if (first['조직내 필요성'][0]+half['조직내 필요성'][0] > 0) : \n",
        "      temp_list.append(1)\n",
        "    elif (first['조직내 필요성'][0]+half['조직내 필요성'][0] < 0) : \n",
        "      temp_list.append(-1)\n",
        "    else : \n",
        "      temp_list.append(0)\n",
        "\n",
        "    if (first['동반자 의식'][0]+half['동반자 의식'][0] > 0) : \n",
        "      temp_list.append(1)\n",
        "    elif (first['동반자 의식'][0]+half['동반자 의식'][0] < 0) : \n",
        "      temp_list.append(-1)\n",
        "    else : \n",
        "      temp_list.append(0)\n",
        "\n",
        "  con_list.append(temp_list)\n",
        "\n",
        "sentiment_2020 = pd.DataFrame(con_list, columns=['사번', '직책수행능력', '조직내 필요성', '동반자 의식'])"
      ],
      "metadata": {
        "id": "6ICbroZTtwwD"
      },
      "execution_count": null,
      "outputs": []
    },
    {
      "cell_type": "code",
      "source": [
        "sentiment_2021 = sen5_data"
      ],
      "metadata": {
        "id": "DuEgDRqgugj8"
      },
      "execution_count": null,
      "outputs": []
    },
    {
      "cell_type": "code",
      "source": [
        "en_list = []\n",
        "\n",
        "f_list = ['전문성_평균평점_상반기', '리더십_평균평점_상반기', '부하육성_평균평점_상반기',\n",
        "       '관계관리_평균평점_상반기', '조직비전_평균평점_상반기', '직책수행능력_평균평점_상반기', '조직내 필요성_평균평점_상반기',\n",
        "       '동반자 의식_평균평점_상반기']\n",
        "h_list = ['전문성_평균평점_하반기', '리더십_평균평점_하반기', '부하육성_평균평점_하반기',\n",
        "       '관계관리_평균평점_하반기', '조직비전_평균평점_하반기', '직책수행능력_평균평점_하반기', '조직내 필요성_평균평점_하반기',\n",
        "       '동반자 의식_평균평점_하반기']\n",
        "\n",
        "for i in range(len(raw_data_19)) : \n",
        "  temp = [] \n",
        "  j = 0\n",
        "  for name in f_list : \n",
        "    if (type(raw_data_19[name][i])==type(str()) and type(raw_data_19[h_list[j]][i])!=type(str())) : \n",
        "      temp.append(raw_data_19[h_list[j]][i])\n",
        "    elif (type(raw_data_19[name][i])!=type(str()) and type(raw_data_19[h_list[j]][i])==type(str())) : \n",
        "      temp.append(raw_data_19[name][i])\n",
        "    elif (type(raw_data_19[name][i])==type(str()) and type(raw_data_19[h_list[j]][i])==type(str())) : \n",
        "      temp.append(\"No\")\n",
        "    else : \n",
        "      avg = (raw_data_19[name][i]+raw_data_19[h_list[j]][i])/2\n",
        "      temp.append(avg)\n",
        "    j += 1\n",
        "  en_list.append(temp)"
      ],
      "metadata": {
        "id": "jf4IZ1q29nJJ"
      },
      "execution_count": null,
      "outputs": []
    },
    {
      "cell_type": "code",
      "source": [
        "raw_data_19[['전문성_평균평점', '리더십_평균평점', '부하육성_평균평점', '관계관리_평균평점', '조직비전_평균평점', '직책수행능력_평균평점', '조직내 필요성_평균평점', '동반자 의식_평균평점']] = en_list\n",
        "raw_data_19 = raw_data_19.drop(f_list, axis=1)\n",
        "raw_data_19 = raw_data_19.drop(h_list, axis=1)"
      ],
      "metadata": {
        "id": "F4TGZjjkXXQe"
      },
      "execution_count": null,
      "outputs": []
    },
    {
      "cell_type": "code",
      "source": [
        "tmp = pd.DataFrame(columns=raw_data_19.columns)\n",
        "for name in sen_2019 : \n",
        "  temp = raw_data_19.loc[raw_data_19['사번']==name]\n",
        "  tmp = pd.concat([tmp, temp], ignore_index=True, axis=0)"
      ],
      "metadata": {
        "id": "-9pcHaIquw4b"
      },
      "execution_count": null,
      "outputs": []
    },
    {
      "cell_type": "code",
      "source": [
        "tmp = tmp.join(sentiment_2019.set_index('사번')['직책수행능력'], on='사번')\n",
        "tmp = tmp.join(sentiment_2019.set_index('사번')['조직내 필요성'], on='사번')\n",
        "tmp = tmp.join(sentiment_2019.set_index('사번')['동반자 의식'], on='사번')"
      ],
      "metadata": {
        "id": "yj7QUY2S1M_r"
      },
      "execution_count": null,
      "outputs": []
    },
    {
      "cell_type": "code",
      "source": [
        "data_2019 = tmp\n",
        "print(len(data_2019))"
      ],
      "metadata": {
        "id": "muHAjyBS2fBF",
        "colab": {
          "base_uri": "https://localhost:8080/"
        },
        "outputId": "f9cd5713-ebde-4f61-dd7d-b1205b8039ef"
      },
      "execution_count": null,
      "outputs": [
        {
          "output_type": "stream",
          "name": "stdout",
          "text": [
            "44\n"
          ]
        }
      ]
    },
    {
      "cell_type": "code",
      "source": [
        "temp_19 = raw_data_19\n",
        "b = data_2019['사번'].tolist()\n",
        "\n",
        "for i in range(len(raw_data_19)) : \n",
        "  if(raw_data_19['사번'][i] in b) : \n",
        "    temp_19 = temp_19.drop([i], axis=0)\n",
        "\n",
        "temp_19 = temp_19.loc[temp_19['당년 역량평가등급']!='미입사']\n",
        "temp_19 = temp_19.loc[temp_19['당년 역량평가등급']!='미평가']"
      ],
      "metadata": {
        "id": "-l_UQJiMcGmV"
      },
      "execution_count": null,
      "outputs": []
    },
    {
      "cell_type": "code",
      "source": [
        "table = []\n",
        "\n",
        "for i in range(len(raw_data_19)) : \n",
        "  sen = []\n",
        "  if (raw_data_19['사번'][i] in data_2019['사번'].unique()) : \n",
        "    temp = data_2019.loc[data_2019['사번']==raw_data_19['사번'][i]].reset_index(drop=True)\n",
        "    sen.append(temp['직책수행능력'][0])\n",
        "    sen.append(temp['조직내 필요성'][0])\n",
        "    sen.append(temp['동반자 의식'][0])\n",
        "  else : \n",
        "    sen.append('No')\n",
        "    sen.append('No')\n",
        "    sen.append('No')\n",
        "  table.append(sen)"
      ],
      "metadata": {
        "id": "iajQKZqZZ1vk"
      },
      "execution_count": null,
      "outputs": []
    },
    {
      "cell_type": "code",
      "source": [
        "raw_data_19[['직책수행능력', '조직내 필요성', '동반자 의식']] = table"
      ],
      "metadata": {
        "id": "xEyUxoA9apF4"
      },
      "execution_count": null,
      "outputs": []
    },
    {
      "cell_type": "code",
      "source": [
        "raw_data_20['전공'] = major['대분류']"
      ],
      "metadata": {
        "id": "lIKcidq99mQC"
      },
      "execution_count": null,
      "outputs": []
    },
    {
      "cell_type": "code",
      "source": [
        "en_list = []\n",
        "\n",
        "f_list = ['전문성_평균평점_상반기', '리더십_평균평점_상반기', '부하육성_평균평점_상반기',\n",
        "       '관계관리_평균평점_상반기', '조직비전_평균평점_상반기', '직책수행능력_평균평점_상반기', '조직내 필요성_평균평점_상반기',\n",
        "       '동반자 의식_평균평점_상반기']\n",
        "h_list = ['전문성_평균평점_하반기', '리더십_평균평점_하반기', '부하육성_평균평점_하반기',\n",
        "       '관계관리_평균평점_하반기', '조직비전_평균평점_하반기', '직책수행능력_평균평점_하반기', '조직내 필요성_평균평점_하반기',\n",
        "       '동반자 의식_평균평점_하반기']\n",
        "\n",
        "for i in range(len(raw_data_20)) : \n",
        "  temp = [] \n",
        "  j = 0\n",
        "  for name in f_list : \n",
        "    if (type(raw_data_20[name][i])==type(str()) and type(raw_data_20[h_list[j]][i])!=type(str())) : \n",
        "      temp.append(raw_data_20[h_list[j]][i])\n",
        "    elif (type(raw_data_20[name][i])!=type(str()) and type(raw_data_20[h_list[j]][i])==type(str())) : \n",
        "      temp.append(raw_data_20[name][i])\n",
        "    elif (type(raw_data_20[name][i])==type(str()) and type(raw_data_20[h_list[j]][i])==type(str())) : \n",
        "      temp.append(\"No\")\n",
        "    else : \n",
        "      avg = (raw_data_20[name][i]+raw_data_20[h_list[j]][i])/2\n",
        "      temp.append(avg)\n",
        "    j += 1\n",
        "  en_list.append(temp)"
      ],
      "metadata": {
        "id": "L5uCxModd4ov"
      },
      "execution_count": null,
      "outputs": []
    },
    {
      "cell_type": "code",
      "source": [
        "raw_data_20[['전문성_평균평점', '리더십_평균평점', '부하육성_평균평점', '관계관리_평균평점', '조직비전_평균평점', '직책수행능력_평균평점', '조직내 필요성_평균평점', '동반자 의식_평균평점']] = en_list\n",
        "raw_data_20 = raw_data_20.drop(f_list, axis=1)\n",
        "raw_data_20 = raw_data_20.drop(h_list, axis=1)"
      ],
      "metadata": {
        "id": "hQKH9gPed4ow"
      },
      "execution_count": null,
      "outputs": []
    },
    {
      "cell_type": "code",
      "source": [
        "tmp = pd.DataFrame(columns=raw_data_20.columns)\n",
        "for name in sen_2020 : \n",
        "  temp = raw_data_20.loc[raw_data_20['사번']==name]\n",
        "  tmp = pd.concat([tmp, temp], ignore_index=True, axis=0)"
      ],
      "metadata": {
        "id": "rVbyO9QLd4ow"
      },
      "execution_count": null,
      "outputs": []
    },
    {
      "cell_type": "code",
      "source": [
        "tmp = tmp.join(sentiment_2020.set_index('사번')['직책수행능력'], on='사번')\n",
        "tmp = tmp.join(sentiment_2020.set_index('사번')['조직내 필요성'], on='사번')\n",
        "tmp = tmp.join(sentiment_2020.set_index('사번')['동반자 의식'], on='사번')"
      ],
      "metadata": {
        "id": "4YmbOuyAd4ow"
      },
      "execution_count": null,
      "outputs": []
    },
    {
      "cell_type": "code",
      "source": [
        "data_2020 = tmp\n",
        "print(len(data_2020))"
      ],
      "metadata": {
        "colab": {
          "base_uri": "https://localhost:8080/"
        },
        "id": "mpnUcO-1d4ow",
        "outputId": "ca31e870-b4db-4b6a-b267-64057a700f41"
      },
      "execution_count": null,
      "outputs": [
        {
          "output_type": "stream",
          "name": "stdout",
          "text": [
            "45\n"
          ]
        }
      ]
    },
    {
      "cell_type": "code",
      "source": [
        "temp_20 = raw_data_20\n",
        "b = data_2020['사번'].tolist()\n",
        "\n",
        "for i in range(len(raw_data_20)) : \n",
        "  if(raw_data_20['사번'][i] in b) : \n",
        "    temp_20 = temp_20.drop([i], axis=0)\n",
        "\n",
        "temp_20 = temp_20.loc[temp_20['당년 역량평가등급']!='미입사']\n",
        "temp_20 = temp_20.loc[temp_20['당년 역량평가등급']!='미평가']"
      ],
      "metadata": {
        "id": "Wk97PiZemJRO"
      },
      "execution_count": null,
      "outputs": []
    },
    {
      "cell_type": "code",
      "source": [
        "table = []\n",
        "\n",
        "for i in range(len(raw_data_20)) : \n",
        "  sen = []\n",
        "  if (raw_data_20['사번'][i] in data_2020['사번'].unique()) : \n",
        "    temp = data_2020.loc[data_2020['사번']==raw_data_20['사번'][i]].reset_index(drop=True)\n",
        "    sen.append(temp['직책수행능력'][0])\n",
        "    sen.append(temp['조직내 필요성'][0])\n",
        "    sen.append(temp['동반자 의식'][0])\n",
        "  else : \n",
        "    sen.append('No')\n",
        "    sen.append('No')\n",
        "    sen.append('No')\n",
        "  table.append(sen)"
      ],
      "metadata": {
        "id": "oPK8duTad4ow"
      },
      "execution_count": null,
      "outputs": []
    },
    {
      "cell_type": "code",
      "source": [
        "raw_data_20[['직책수행능력', '조직내 필요성', '동반자 의식']] = table"
      ],
      "metadata": {
        "id": "c4DyyrKFd4ow"
      },
      "execution_count": null,
      "outputs": []
    },
    {
      "cell_type": "code",
      "source": [
        "raw_data_21['전공'] = major['대분류']"
      ],
      "metadata": {
        "id": "Ag9DXG5X9n1p"
      },
      "execution_count": null,
      "outputs": []
    },
    {
      "cell_type": "code",
      "source": [
        "tmp = pd.DataFrame(columns=raw_data_21.columns)\n",
        "for name in sen_2021 : \n",
        "  temp = raw_data_21.loc[raw_data_21['사번']==name]\n",
        "  tmp = pd.concat([tmp, temp], ignore_index=True, axis=0)"
      ],
      "metadata": {
        "id": "lzehEBNKfpwB"
      },
      "execution_count": null,
      "outputs": []
    },
    {
      "cell_type": "code",
      "source": [
        "tmp = tmp.join(sentiment_2021.set_index('사번')['직책수행능력'], on='사번')\n",
        "tmp = tmp.join(sentiment_2021.set_index('사번')['조직내 필요성'], on='사번')\n",
        "tmp = tmp.join(sentiment_2021.set_index('사번')['동반자 의식'], on='사번')"
      ],
      "metadata": {
        "id": "jhiIOXmdfpwB"
      },
      "execution_count": null,
      "outputs": []
    },
    {
      "cell_type": "code",
      "source": [
        "data_2021 = tmp\n",
        "print(len(data_2021))"
      ],
      "metadata": {
        "colab": {
          "base_uri": "https://localhost:8080/"
        },
        "outputId": "34b22fe6-bf05-4aee-bdbf-6cd25ab36539",
        "id": "eywTlOuhfpwB"
      },
      "execution_count": null,
      "outputs": [
        {
          "output_type": "stream",
          "name": "stdout",
          "text": [
            "53\n"
          ]
        }
      ]
    },
    {
      "cell_type": "code",
      "source": [
        "temp_21 = raw_data_21\n",
        "b = data_2021['사번'].tolist()\n",
        "\n",
        "for i in range(len(raw_data_21)) : \n",
        "  if(raw_data_21['사번'][i] in b) : \n",
        "    temp_21 = temp_21.drop([i], axis=0)\n",
        "\n",
        "temp_21 = temp_21.loc[temp_21['전문성_평균평점']!='미입사']\n",
        "temp_21 = temp_21.loc[temp_21['전문성_평균평점']!='미평가']"
      ],
      "metadata": {
        "id": "vvP6_abRnIos"
      },
      "execution_count": null,
      "outputs": []
    },
    {
      "cell_type": "code",
      "source": [
        "table = []\n",
        "\n",
        "for i in range(len(raw_data_21)) : \n",
        "  sen = []\n",
        "  if (raw_data_21['사번'][i] in data_2021['사번'].unique()) : \n",
        "    temp = data_2021.loc[data_2021['사번']==raw_data_21['사번'][i]].reset_index(drop=True)\n",
        "    sen.append(temp['직책수행능력'][0])\n",
        "    sen.append(temp['조직내 필요성'][0])\n",
        "    sen.append(temp['동반자 의식'][0])\n",
        "  else : \n",
        "    sen.append('No')\n",
        "    sen.append('No')\n",
        "    sen.append('No')\n",
        "  table.append(sen)"
      ],
      "metadata": {
        "id": "TzGMKdWUfpwC"
      },
      "execution_count": null,
      "outputs": []
    },
    {
      "cell_type": "code",
      "source": [
        "raw_data_21[['직책수행능력', '조직내 필요성', '동반자 의식']] = table"
      ],
      "metadata": {
        "id": "8nDqf0wyfpwC"
      },
      "execution_count": null,
      "outputs": []
    },
    {
      "cell_type": "code",
      "source": [
        "metric_feature = ['전문성_평균평점', '리더십_평균평점', '부하육성_평균평점', '관계관리_평균평점',\n",
        "       '조직비전_평균평점', '직책수행능력_평균평점', '조직내 필요성_평균평점', '동반자 의식_평균평점']\n",
        "\n",
        "temp_19 = temp_19.drop(metric_feature, axis=1)\n",
        "temp_20 = temp_20.drop(metric_feature, axis=1)\n",
        "temp_21 = temp_21.drop(metric_feature, axis=1)"
      ],
      "metadata": {
        "id": "LCGD9srCRgyk"
      },
      "execution_count": null,
      "outputs": []
    },
    {
      "cell_type": "code",
      "source": [
        "data_2019 = data_2019.sort_values(by='사번')\n",
        "data_2020 = data_2020.sort_values(by='사번')\n",
        "data_2021 = data_2021.sort_values(by='사번')"
      ],
      "metadata": {
        "id": "3AyvZKBkBqrz"
      },
      "execution_count": null,
      "outputs": []
    },
    {
      "cell_type": "code",
      "source": [
        "temp_19 = temp_19.sort_values(by='사번')\n",
        "temp_20 = temp_20.sort_values(by='사번')\n",
        "temp_21 = temp_21.sort_values(by='사번')"
      ],
      "metadata": {
        "id": "GzwiZjOqSePg"
      },
      "execution_count": null,
      "outputs": []
    },
    {
      "cell_type": "code",
      "source": [
        "user_data_19 = data_2019['사번'].tolist()\n",
        "user_temp_19 = temp_19['사번'].tolist()\n",
        "user_all_19 = raw_data_19['사번'].tolist()\n",
        "\n",
        "\n",
        "user_all_19 = [x for x in user_all_19 if x not in user_data_19]\n",
        "user_all_19 = [x for x in user_all_19 if x not in user_temp_19]\n",
        "\n",
        "print(len(user_all_19) + len(user_data_19) + len(user_temp_19))\n",
        "\n",
        "index_19 = []\n",
        "for i in range(len(raw_data_19)) :\n",
        "  for name in user_all_19 : \n",
        "    if raw_data_19['사번'][i]==name : \n",
        "      index_19.append(i)\n",
        "\n",
        "no_19 = raw_data_19.iloc[index_19]\n",
        "no_19 = no_19.drop(metric_feature, axis=1)\n",
        "no_19 = no_19.drop(['직책수행능력', '조직내 필요성', '동반자 의식'], axis=1)\n",
        "temp_19 = pd.concat([temp_19, no_19], axis=0)"
      ],
      "metadata": {
        "colab": {
          "base_uri": "https://localhost:8080/"
        },
        "id": "-5S09-0XTdix",
        "outputId": "92f2ab2e-1af4-42ea-b46a-adeb0bc38039"
      },
      "execution_count": null,
      "outputs": [
        {
          "output_type": "stream",
          "name": "stdout",
          "text": [
            "296\n"
          ]
        }
      ]
    },
    {
      "cell_type": "code",
      "source": [
        "user_data_20 = data_2020['사번'].tolist()\n",
        "user_temp_20 = temp_20['사번'].tolist()\n",
        "user_all_20 = raw_data_20['사번'].tolist()\n",
        "\n",
        "\n",
        "user_all_20 = [x for x in user_all_20 if x not in user_data_20]\n",
        "user_all_20 = [x for x in user_all_20 if x not in user_temp_20]\n",
        "\n",
        "print(len(user_all_20) + len(user_data_20) + len(user_temp_20))\n",
        "\n",
        "index_20 = []\n",
        "for i in range(len(raw_data_20)) :\n",
        "  for name in user_all_20 : \n",
        "    if raw_data_20['사번'][i]==name : \n",
        "      index_20.append(i)\n",
        "\n",
        "no_20 = raw_data_20.iloc[index_20]\n",
        "no_20 = no_20.drop(metric_feature, axis=1)\n",
        "no_20 = no_20.drop(['직책수행능력', '조직내 필요성', '동반자 의식'], axis=1)\n",
        "temp_20 = pd.concat([temp_20, no_20], axis=0)"
      ],
      "metadata": {
        "colab": {
          "base_uri": "https://localhost:8080/"
        },
        "id": "_SrYCZ7aWhhh",
        "outputId": "061e46a8-e9df-4cef-d1ec-8dcc269aaea0"
      },
      "execution_count": null,
      "outputs": [
        {
          "output_type": "stream",
          "name": "stdout",
          "text": [
            "296\n"
          ]
        }
      ]
    },
    {
      "cell_type": "code",
      "source": [
        "user_data_21 = data_2021['사번'].tolist()\n",
        "user_temp_21 = temp_21['사번'].tolist()\n",
        "user_all_21 = raw_data_21['사번'].tolist()\n",
        "\n",
        "\n",
        "user_all_21 = [x for x in user_all_21 if x not in user_data_21]\n",
        "user_all_21 = [x for x in user_all_21 if x not in user_temp_21]\n",
        "\n",
        "print(len(user_all_21) + len(user_data_21) + len(user_temp_21))\n",
        "\n",
        "index_21 = []\n",
        "for i in range(len(raw_data_21)) :\n",
        "  for name in user_all_21 : \n",
        "    if raw_data_21['사번'][i]==name : \n",
        "      index_21.append(i)\n",
        "\n",
        "no_21 = raw_data_21.iloc[index_21]\n",
        "no_21 = no_21.drop(metric_feature, axis=1)\n",
        "no_21 = no_21.drop(['직책수행능력', '조직내 필요성', '동반자 의식'], axis=1)\n",
        "temp_21 = pd.concat([temp_21, no_21], axis=0)"
      ],
      "metadata": {
        "colab": {
          "base_uri": "https://localhost:8080/"
        },
        "id": "dK-zSv54XNsX",
        "outputId": "006ca6dd-62e4-43c9-fe8d-c5cd0ccf86fa"
      },
      "execution_count": null,
      "outputs": [
        {
          "output_type": "stream",
          "name": "stdout",
          "text": [
            "296\n"
          ]
        }
      ]
    },
    {
      "cell_type": "code",
      "source": [
        "len(user_all_21)"
      ],
      "metadata": {
        "colab": {
          "base_uri": "https://localhost:8080/"
        },
        "id": "4JALtGrKwX8l",
        "outputId": "5dd2d1ff-7764-4a96-8f1f-5f6ed4d74f6b"
      },
      "execution_count": null,
      "outputs": [
        {
          "output_type": "execute_result",
          "data": {
            "text/plain": [
              "43"
            ]
          },
          "metadata": {},
          "execution_count": 53
        }
      ]
    },
    {
      "cell_type": "code",
      "source": [
        "raw_data_22 = pd.read_excel('/content/drive/My Drive/Colab Notebooks/NH농협캐피탈/추가데이터/NH농협캐피탈 데이터 작업_승진적합_1114.xlsx', sheet_name=3)"
      ],
      "metadata": {
        "id": "B9XTbnP8wH7Z"
      },
      "execution_count": null,
      "outputs": []
    },
    {
      "cell_type": "code",
      "source": [
        "raw_data_22"
      ],
      "metadata": {
        "colab": {
          "base_uri": "https://localhost:8080/",
          "height": 849
        },
        "id": "lnsE9EdKhLfF",
        "outputId": "ffa23566-3ca4-41af-e2ab-1d18a9de3964"
      },
      "execution_count": null,
      "outputs": [
        {
          "output_type": "execute_result",
          "data": {
            "text/plain": [
              "           사번   성명            연락처                       이메일        생년월일  \\\n",
              "0    B0810003  변홍구  010-9570-2340    byunhg@nhcapital.co.kr  1964-05-12   \n",
              "1    B0810004  나혁준  010-8637-8325      hjna@nhcapital.co.kr  1975-11-26   \n",
              "2    B0810007  이창준  010-6532-3351     cjlee@nhcapital.co.kr  1972-02-20   \n",
              "3    B0810011  김규오  010-3767-5867     gokim@nhcapital.co.kr  1969-06-06   \n",
              "4    B0810012   이유  010-2881-7747      leeu@nhcapital.co.kr  1969-06-28   \n",
              "..        ...  ...            ...                       ...         ...   \n",
              "291  B2210098  양동섭  010-5184-0927    ds0927@nhcapital.co.kr  1983-09-27   \n",
              "292  B2210101  정연호  010-4416-2891     jyh86@nhcapital.co.kr  1986-09-16   \n",
              "293  B2210109  송민경  010-5474-3925   smk0119@nhcapital.co.kr  1982-01-19   \n",
              "294  B2210110  채유리  010-7524-3120  youreec1@nhcapital.co.kr  1986-04-08   \n",
              "295  B2210112  김현호  010-6423-9856     hhkim@nhcapital.co.kr  1990-05-01   \n",
              "\n",
              "          본부             실         팀                        직무     직급  ...  \\\n",
              "0    리스크관리본부        리스크관리실    리스크검증팀                리스크(여신감리역)  업무지원역  ...   \n",
              "1     전략금융본부         전략사업실  FLEET금융팀                      부서총괄     부장  ...   \n",
              "2    디지털금융본부        DT추진센터     고객지원팀          영업기획·지원(CS/청구수납)     차장  ...   \n",
              "3        NaN  금융소비자보호총괄책임자       NaN                      부서총괄   이사대우  ...   \n",
              "4    디지털금융본부           NaN       NaN                      부서총괄   이사대우  ...   \n",
              "..       ...           ...       ...                       ...    ...  ...   \n",
              "291      NaN         준법감시인     준법지원팀            내부통제(준법감시-변호사)     과장  ...   \n",
              "292   여신관리본부         여신심사실     기업심사팀  여신심사(기업/투자/일반리스/Fleet금융)     과장  ...   \n",
              "293  리테일금융본부        리테일금융실    리테일기획팀            영업기획·지원(리테일금융)     과장  ...   \n",
              "294   여신관리본부         여신심사실    리테일심사팀                여신심사(오토금융)     대리  ...   \n",
              "295   전략금융본부         전략사업실  FLEET금융팀          영업(일반리스/Fleet금융)     대리  ...   \n",
              "\n",
              "    수상횟수 평균 교육점수  교육 이수여부  당년 역량평가등급  당년 업적평가등급  역량평가등급(1년전)  역량평가등급(2년전)  \\\n",
              "0      1  교육 진행중   교육 진행중          B          A          미평가          미평가   \n",
              "1      1  교육 진행중   교육 진행중          B          A            B            A   \n",
              "2      1  교육 진행중   교육 진행중          C          B            C            B   \n",
              "3      1  교육 진행중   교육 진행중          A          A            A            B   \n",
              "4      2  교육 진행중   교육 진행중          A          A            S            S   \n",
              "..   ...     ...      ...        ...        ...          ...          ...   \n",
              "291  미입사  교육 진행중   교육 진행중        미대상        미대상          미입사          미입사   \n",
              "292  미입사  교육 진행중   교육 진행중        미대상        미대상          미입사          미입사   \n",
              "293  미입사  교육 진행중   교육 진행중        미대상        미대상          미입사          미입사   \n",
              "294  미입사  교육 진행중   교육 진행중        미대상        미대상          미입사          미입사   \n",
              "295  미입사  교육 진행중   교육 진행중        미대상        미대상          미입사          미입사   \n",
              "\n",
              "     업적평가등급(1년전) 업적평가등급(2년전) 승진대상 후보여부  \n",
              "0            미평가         미평가        No  \n",
              "1              B           A       Yes  \n",
              "2              B           B       Yes  \n",
              "3              A           C        No  \n",
              "4              S           S        No  \n",
              "..           ...         ...       ...  \n",
              "291          미입사         미입사        No  \n",
              "292          미입사         미입사        No  \n",
              "293          미입사         미입사        No  \n",
              "294          미입사         미입사        No  \n",
              "295          미입사         미입사        No  \n",
              "\n",
              "[296 rows x 35 columns]"
            ],
            "text/html": [
              "\n",
              "  <div id=\"df-39d3d9ea-b238-46df-80c3-2ecaa52e3f98\">\n",
              "    <div class=\"colab-df-container\">\n",
              "      <div>\n",
              "<style scoped>\n",
              "    .dataframe tbody tr th:only-of-type {\n",
              "        vertical-align: middle;\n",
              "    }\n",
              "\n",
              "    .dataframe tbody tr th {\n",
              "        vertical-align: top;\n",
              "    }\n",
              "\n",
              "    .dataframe thead th {\n",
              "        text-align: right;\n",
              "    }\n",
              "</style>\n",
              "<table border=\"1\" class=\"dataframe\">\n",
              "  <thead>\n",
              "    <tr style=\"text-align: right;\">\n",
              "      <th></th>\n",
              "      <th>사번</th>\n",
              "      <th>성명</th>\n",
              "      <th>연락처</th>\n",
              "      <th>이메일</th>\n",
              "      <th>생년월일</th>\n",
              "      <th>본부</th>\n",
              "      <th>실</th>\n",
              "      <th>팀</th>\n",
              "      <th>직무</th>\n",
              "      <th>직급</th>\n",
              "      <th>...</th>\n",
              "      <th>수상횟수</th>\n",
              "      <th>평균 교육점수</th>\n",
              "      <th>교육 이수여부</th>\n",
              "      <th>당년 역량평가등급</th>\n",
              "      <th>당년 업적평가등급</th>\n",
              "      <th>역량평가등급(1년전)</th>\n",
              "      <th>역량평가등급(2년전)</th>\n",
              "      <th>업적평가등급(1년전)</th>\n",
              "      <th>업적평가등급(2년전)</th>\n",
              "      <th>승진대상 후보여부</th>\n",
              "    </tr>\n",
              "  </thead>\n",
              "  <tbody>\n",
              "    <tr>\n",
              "      <th>0</th>\n",
              "      <td>B0810003</td>\n",
              "      <td>변홍구</td>\n",
              "      <td>010-9570-2340</td>\n",
              "      <td>byunhg@nhcapital.co.kr</td>\n",
              "      <td>1964-05-12</td>\n",
              "      <td>리스크관리본부</td>\n",
              "      <td>리스크관리실</td>\n",
              "      <td>리스크검증팀</td>\n",
              "      <td>리스크(여신감리역)</td>\n",
              "      <td>업무지원역</td>\n",
              "      <td>...</td>\n",
              "      <td>1</td>\n",
              "      <td>교육 진행중</td>\n",
              "      <td>교육 진행중</td>\n",
              "      <td>B</td>\n",
              "      <td>A</td>\n",
              "      <td>미평가</td>\n",
              "      <td>미평가</td>\n",
              "      <td>미평가</td>\n",
              "      <td>미평가</td>\n",
              "      <td>No</td>\n",
              "    </tr>\n",
              "    <tr>\n",
              "      <th>1</th>\n",
              "      <td>B0810004</td>\n",
              "      <td>나혁준</td>\n",
              "      <td>010-8637-8325</td>\n",
              "      <td>hjna@nhcapital.co.kr</td>\n",
              "      <td>1975-11-26</td>\n",
              "      <td>전략금융본부</td>\n",
              "      <td>전략사업실</td>\n",
              "      <td>FLEET금융팀</td>\n",
              "      <td>부서총괄</td>\n",
              "      <td>부장</td>\n",
              "      <td>...</td>\n",
              "      <td>1</td>\n",
              "      <td>교육 진행중</td>\n",
              "      <td>교육 진행중</td>\n",
              "      <td>B</td>\n",
              "      <td>A</td>\n",
              "      <td>B</td>\n",
              "      <td>A</td>\n",
              "      <td>B</td>\n",
              "      <td>A</td>\n",
              "      <td>Yes</td>\n",
              "    </tr>\n",
              "    <tr>\n",
              "      <th>2</th>\n",
              "      <td>B0810007</td>\n",
              "      <td>이창준</td>\n",
              "      <td>010-6532-3351</td>\n",
              "      <td>cjlee@nhcapital.co.kr</td>\n",
              "      <td>1972-02-20</td>\n",
              "      <td>디지털금융본부</td>\n",
              "      <td>DT추진센터</td>\n",
              "      <td>고객지원팀</td>\n",
              "      <td>영업기획·지원(CS/청구수납)</td>\n",
              "      <td>차장</td>\n",
              "      <td>...</td>\n",
              "      <td>1</td>\n",
              "      <td>교육 진행중</td>\n",
              "      <td>교육 진행중</td>\n",
              "      <td>C</td>\n",
              "      <td>B</td>\n",
              "      <td>C</td>\n",
              "      <td>B</td>\n",
              "      <td>B</td>\n",
              "      <td>B</td>\n",
              "      <td>Yes</td>\n",
              "    </tr>\n",
              "    <tr>\n",
              "      <th>3</th>\n",
              "      <td>B0810011</td>\n",
              "      <td>김규오</td>\n",
              "      <td>010-3767-5867</td>\n",
              "      <td>gokim@nhcapital.co.kr</td>\n",
              "      <td>1969-06-06</td>\n",
              "      <td>NaN</td>\n",
              "      <td>금융소비자보호총괄책임자</td>\n",
              "      <td>NaN</td>\n",
              "      <td>부서총괄</td>\n",
              "      <td>이사대우</td>\n",
              "      <td>...</td>\n",
              "      <td>1</td>\n",
              "      <td>교육 진행중</td>\n",
              "      <td>교육 진행중</td>\n",
              "      <td>A</td>\n",
              "      <td>A</td>\n",
              "      <td>A</td>\n",
              "      <td>B</td>\n",
              "      <td>A</td>\n",
              "      <td>C</td>\n",
              "      <td>No</td>\n",
              "    </tr>\n",
              "    <tr>\n",
              "      <th>4</th>\n",
              "      <td>B0810012</td>\n",
              "      <td>이유</td>\n",
              "      <td>010-2881-7747</td>\n",
              "      <td>leeu@nhcapital.co.kr</td>\n",
              "      <td>1969-06-28</td>\n",
              "      <td>디지털금융본부</td>\n",
              "      <td>NaN</td>\n",
              "      <td>NaN</td>\n",
              "      <td>부서총괄</td>\n",
              "      <td>이사대우</td>\n",
              "      <td>...</td>\n",
              "      <td>2</td>\n",
              "      <td>교육 진행중</td>\n",
              "      <td>교육 진행중</td>\n",
              "      <td>A</td>\n",
              "      <td>A</td>\n",
              "      <td>S</td>\n",
              "      <td>S</td>\n",
              "      <td>S</td>\n",
              "      <td>S</td>\n",
              "      <td>No</td>\n",
              "    </tr>\n",
              "    <tr>\n",
              "      <th>...</th>\n",
              "      <td>...</td>\n",
              "      <td>...</td>\n",
              "      <td>...</td>\n",
              "      <td>...</td>\n",
              "      <td>...</td>\n",
              "      <td>...</td>\n",
              "      <td>...</td>\n",
              "      <td>...</td>\n",
              "      <td>...</td>\n",
              "      <td>...</td>\n",
              "      <td>...</td>\n",
              "      <td>...</td>\n",
              "      <td>...</td>\n",
              "      <td>...</td>\n",
              "      <td>...</td>\n",
              "      <td>...</td>\n",
              "      <td>...</td>\n",
              "      <td>...</td>\n",
              "      <td>...</td>\n",
              "      <td>...</td>\n",
              "      <td>...</td>\n",
              "    </tr>\n",
              "    <tr>\n",
              "      <th>291</th>\n",
              "      <td>B2210098</td>\n",
              "      <td>양동섭</td>\n",
              "      <td>010-5184-0927</td>\n",
              "      <td>ds0927@nhcapital.co.kr</td>\n",
              "      <td>1983-09-27</td>\n",
              "      <td>NaN</td>\n",
              "      <td>준법감시인</td>\n",
              "      <td>준법지원팀</td>\n",
              "      <td>내부통제(준법감시-변호사)</td>\n",
              "      <td>과장</td>\n",
              "      <td>...</td>\n",
              "      <td>미입사</td>\n",
              "      <td>교육 진행중</td>\n",
              "      <td>교육 진행중</td>\n",
              "      <td>미대상</td>\n",
              "      <td>미대상</td>\n",
              "      <td>미입사</td>\n",
              "      <td>미입사</td>\n",
              "      <td>미입사</td>\n",
              "      <td>미입사</td>\n",
              "      <td>No</td>\n",
              "    </tr>\n",
              "    <tr>\n",
              "      <th>292</th>\n",
              "      <td>B2210101</td>\n",
              "      <td>정연호</td>\n",
              "      <td>010-4416-2891</td>\n",
              "      <td>jyh86@nhcapital.co.kr</td>\n",
              "      <td>1986-09-16</td>\n",
              "      <td>여신관리본부</td>\n",
              "      <td>여신심사실</td>\n",
              "      <td>기업심사팀</td>\n",
              "      <td>여신심사(기업/투자/일반리스/Fleet금융)</td>\n",
              "      <td>과장</td>\n",
              "      <td>...</td>\n",
              "      <td>미입사</td>\n",
              "      <td>교육 진행중</td>\n",
              "      <td>교육 진행중</td>\n",
              "      <td>미대상</td>\n",
              "      <td>미대상</td>\n",
              "      <td>미입사</td>\n",
              "      <td>미입사</td>\n",
              "      <td>미입사</td>\n",
              "      <td>미입사</td>\n",
              "      <td>No</td>\n",
              "    </tr>\n",
              "    <tr>\n",
              "      <th>293</th>\n",
              "      <td>B2210109</td>\n",
              "      <td>송민경</td>\n",
              "      <td>010-5474-3925</td>\n",
              "      <td>smk0119@nhcapital.co.kr</td>\n",
              "      <td>1982-01-19</td>\n",
              "      <td>리테일금융본부</td>\n",
              "      <td>리테일금융실</td>\n",
              "      <td>리테일기획팀</td>\n",
              "      <td>영업기획·지원(리테일금융)</td>\n",
              "      <td>과장</td>\n",
              "      <td>...</td>\n",
              "      <td>미입사</td>\n",
              "      <td>교육 진행중</td>\n",
              "      <td>교육 진행중</td>\n",
              "      <td>미대상</td>\n",
              "      <td>미대상</td>\n",
              "      <td>미입사</td>\n",
              "      <td>미입사</td>\n",
              "      <td>미입사</td>\n",
              "      <td>미입사</td>\n",
              "      <td>No</td>\n",
              "    </tr>\n",
              "    <tr>\n",
              "      <th>294</th>\n",
              "      <td>B2210110</td>\n",
              "      <td>채유리</td>\n",
              "      <td>010-7524-3120</td>\n",
              "      <td>youreec1@nhcapital.co.kr</td>\n",
              "      <td>1986-04-08</td>\n",
              "      <td>여신관리본부</td>\n",
              "      <td>여신심사실</td>\n",
              "      <td>리테일심사팀</td>\n",
              "      <td>여신심사(오토금융)</td>\n",
              "      <td>대리</td>\n",
              "      <td>...</td>\n",
              "      <td>미입사</td>\n",
              "      <td>교육 진행중</td>\n",
              "      <td>교육 진행중</td>\n",
              "      <td>미대상</td>\n",
              "      <td>미대상</td>\n",
              "      <td>미입사</td>\n",
              "      <td>미입사</td>\n",
              "      <td>미입사</td>\n",
              "      <td>미입사</td>\n",
              "      <td>No</td>\n",
              "    </tr>\n",
              "    <tr>\n",
              "      <th>295</th>\n",
              "      <td>B2210112</td>\n",
              "      <td>김현호</td>\n",
              "      <td>010-6423-9856</td>\n",
              "      <td>hhkim@nhcapital.co.kr</td>\n",
              "      <td>1990-05-01</td>\n",
              "      <td>전략금융본부</td>\n",
              "      <td>전략사업실</td>\n",
              "      <td>FLEET금융팀</td>\n",
              "      <td>영업(일반리스/Fleet금융)</td>\n",
              "      <td>대리</td>\n",
              "      <td>...</td>\n",
              "      <td>미입사</td>\n",
              "      <td>교육 진행중</td>\n",
              "      <td>교육 진행중</td>\n",
              "      <td>미대상</td>\n",
              "      <td>미대상</td>\n",
              "      <td>미입사</td>\n",
              "      <td>미입사</td>\n",
              "      <td>미입사</td>\n",
              "      <td>미입사</td>\n",
              "      <td>No</td>\n",
              "    </tr>\n",
              "  </tbody>\n",
              "</table>\n",
              "<p>296 rows × 35 columns</p>\n",
              "</div>\n",
              "      <button class=\"colab-df-convert\" onclick=\"convertToInteractive('df-39d3d9ea-b238-46df-80c3-2ecaa52e3f98')\"\n",
              "              title=\"Convert this dataframe to an interactive table.\"\n",
              "              style=\"display:none;\">\n",
              "        \n",
              "  <svg xmlns=\"http://www.w3.org/2000/svg\" height=\"24px\"viewBox=\"0 0 24 24\"\n",
              "       width=\"24px\">\n",
              "    <path d=\"M0 0h24v24H0V0z\" fill=\"none\"/>\n",
              "    <path d=\"M18.56 5.44l.94 2.06.94-2.06 2.06-.94-2.06-.94-.94-2.06-.94 2.06-2.06.94zm-11 1L8.5 8.5l.94-2.06 2.06-.94-2.06-.94L8.5 2.5l-.94 2.06-2.06.94zm10 10l.94 2.06.94-2.06 2.06-.94-2.06-.94-.94-2.06-.94 2.06-2.06.94z\"/><path d=\"M17.41 7.96l-1.37-1.37c-.4-.4-.92-.59-1.43-.59-.52 0-1.04.2-1.43.59L10.3 9.45l-7.72 7.72c-.78.78-.78 2.05 0 2.83L4 21.41c.39.39.9.59 1.41.59.51 0 1.02-.2 1.41-.59l7.78-7.78 2.81-2.81c.8-.78.8-2.07 0-2.86zM5.41 20L4 18.59l7.72-7.72 1.47 1.35L5.41 20z\"/>\n",
              "  </svg>\n",
              "      </button>\n",
              "      \n",
              "  <style>\n",
              "    .colab-df-container {\n",
              "      display:flex;\n",
              "      flex-wrap:wrap;\n",
              "      gap: 12px;\n",
              "    }\n",
              "\n",
              "    .colab-df-convert {\n",
              "      background-color: #E8F0FE;\n",
              "      border: none;\n",
              "      border-radius: 50%;\n",
              "      cursor: pointer;\n",
              "      display: none;\n",
              "      fill: #1967D2;\n",
              "      height: 32px;\n",
              "      padding: 0 0 0 0;\n",
              "      width: 32px;\n",
              "    }\n",
              "\n",
              "    .colab-df-convert:hover {\n",
              "      background-color: #E2EBFA;\n",
              "      box-shadow: 0px 1px 2px rgba(60, 64, 67, 0.3), 0px 1px 3px 1px rgba(60, 64, 67, 0.15);\n",
              "      fill: #174EA6;\n",
              "    }\n",
              "\n",
              "    [theme=dark] .colab-df-convert {\n",
              "      background-color: #3B4455;\n",
              "      fill: #D2E3FC;\n",
              "    }\n",
              "\n",
              "    [theme=dark] .colab-df-convert:hover {\n",
              "      background-color: #434B5C;\n",
              "      box-shadow: 0px 1px 3px 1px rgba(0, 0, 0, 0.15);\n",
              "      filter: drop-shadow(0px 1px 2px rgba(0, 0, 0, 0.3));\n",
              "      fill: #FFFFFF;\n",
              "    }\n",
              "  </style>\n",
              "\n",
              "      <script>\n",
              "        const buttonEl =\n",
              "          document.querySelector('#df-39d3d9ea-b238-46df-80c3-2ecaa52e3f98 button.colab-df-convert');\n",
              "        buttonEl.style.display =\n",
              "          google.colab.kernel.accessAllowed ? 'block' : 'none';\n",
              "\n",
              "        async function convertToInteractive(key) {\n",
              "          const element = document.querySelector('#df-39d3d9ea-b238-46df-80c3-2ecaa52e3f98');\n",
              "          const dataTable =\n",
              "            await google.colab.kernel.invokeFunction('convertToInteractive',\n",
              "                                                     [key], {});\n",
              "          if (!dataTable) return;\n",
              "\n",
              "          const docLinkHtml = 'Like what you see? Visit the ' +\n",
              "            '<a target=\"_blank\" href=https://colab.research.google.com/notebooks/data_table.ipynb>data table notebook</a>'\n",
              "            + ' to learn more about interactive tables.';\n",
              "          element.innerHTML = '';\n",
              "          dataTable['output_type'] = 'display_data';\n",
              "          await google.colab.output.renderOutput(dataTable, element);\n",
              "          const docLink = document.createElement('div');\n",
              "          docLink.innerHTML = docLinkHtml;\n",
              "          element.appendChild(docLink);\n",
              "        }\n",
              "      </script>\n",
              "    </div>\n",
              "  </div>\n",
              "  "
            ]
          },
          "metadata": {},
          "execution_count": 55
        }
      ]
    },
    {
      "cell_type": "code",
      "source": [
        "data_2022 = data_2021.copy()\n",
        "temp_22 = temp_21.copy()\n",
        "\n",
        "for name in raw_data_22.columns.tolist() : \n",
        "  if name != '사번' : \n",
        "    data_2022 = data_2022.join(raw_data_22.set_index('사번')[name], on='사번', rsuffix='_2022')\n",
        "    temp_22 = temp_22.join(raw_data_22.set_index('사번')[name], on='사번', rsuffix='_2022')\n",
        "\n",
        "# 21년 데이터는 제거하고 22년 데이터를 사용하되 교육점수, 교육 이수 여부에 대해서는 21년 데이터를 살리는 방향으로 구성"
      ],
      "metadata": {
        "id": "iPlxsiicxSgu"
      },
      "execution_count": null,
      "outputs": []
    },
    {
      "cell_type": "code",
      "source": [
        "data_2022 = data_2022[['사번','성명_2022', '연락처_2022', '이메일_2022', '생년월일_2022', '본부_2022', '실_2022', '팀_2022',\n",
        "       '직무_2022', '직급_2022', '직책_2022', '성별_2022', '연령_2022',\n",
        "       '당사근속기간(개월)_2022', '외부경력(개월)_2022', '총경력(개월)_2022', '현 직급 근속기간(연)_2022',\n",
        "       '이직횟수_2022', '입사경로_2022', '학력_2022', '전공', '거주지_2022',\n",
        "       '셀 참여횟수_2022', '봉사활동 참여횟수_2022', '직무관련자격증_2022', '수상횟수_2022',\n",
        "       '평균 교육점수', '교육 이수여부', '당년 역량평가등급_2022', '당년 업적평가등급_2022',\n",
        "       '역량평가등급(1년전)_2022', '역량평가등급(2년전)_2022', '업적평가등급(1년전)_2022',\n",
        "       '업적평가등급(2년전)_2022', '승진대상 후보여부_2022', '전문성_평균평점', '리더십_평균평점',\n",
        "       '부하육성_평균평점', '관계관리_평균평점', '조직비전_평균평점', '직책수행능력_평균평점', '조직내 필요성_평균평점',\n",
        "       '동반자 의식_평균평점', '직책수행능력', '조직내 필요성', '동반자 의식']]\n",
        "\n",
        "data_2022.columns = ['사번', '성명', '연락처', '이메일', '생년월일', '본부', '실', '팀', '직무', '직급', '직책', '성별',\n",
        "       '연령', '당사근속기간(개월)', '외부경력(개월)', '총경력(개월)', '현 직급 근속기간(연)', '이직횟수',\n",
        "       '입사경로', '학력', '전공', '거주지', '셀 참여횟수', '봉사활동 참여횟수', '직무관련자격증', '수상횟수',\n",
        "       '평균 교육점수', '교육 이수여부', '당년 역량평가등급', '당년 업적평가등급', '역량평가등급(1년전)',\n",
        "       '역량평가등급(2년전)', '업적평가등급(1년전)', '업적평가등급(2년전)', '승진대상 후보여부', '전문성_평균평점', '리더십_평균평점',\n",
        "       '부하육성_평균평점', '관계관리_평균평점', '조직비전_평균평점', '직책수행능력_평균평점', '조직내 필요성_평균평점',\n",
        "       '동반자 의식_평균평점', '직책수행능력', '조직내 필요성', '동반자 의식']"
      ],
      "metadata": {
        "id": "c1dF-RkVdvlp"
      },
      "execution_count": null,
      "outputs": []
    },
    {
      "cell_type": "code",
      "source": [
        "temp_22 = temp_22[['사번','성명_2022', '연락처_2022', '이메일_2022', '생년월일_2022', '본부', '실', '팀',\n",
        "       '직무_2022', '직급_2022', '직책_2022', '성별_2022', '연령_2022',\n",
        "       '당사근속기간(개월)_2022', '외부경력(개월)_2022', '총경력(개월)_2022', '현 직급 근속기간(연)_2022',\n",
        "       '이직횟수_2022', '입사경로_2022', '학력_2022', '전공', '거주지_2022',\n",
        "       '셀 참여횟수_2022', '봉사활동 참여횟수_2022', '직무관련자격증_2022', '수상횟수_2022',\n",
        "       '평균 교육점수', '교육 이수여부', '당년 역량평가등급_2022', '당년 업적평가등급_2022',\n",
        "       '역량평가등급(1년전)_2022', '역량평가등급(2년전)_2022', '업적평가등급(1년전)_2022',\n",
        "       '업적평가등급(2년전)_2022', '승진대상 후보여부_2022']]\n",
        "\n",
        "temp_22.columns = ['사번', '성명', '연락처', '이메일', '생년월일', '본부', '실', '팀', '직무', '직급', '직책', '성별',\n",
        "       '연령', '당사근속기간(개월)', '외부경력(개월)', '총경력(개월)', '현 직급 근속기간(연)', '이직횟수',\n",
        "       '입사경로', '학력', '전공', '거주지', '셀 참여횟수', '봉사활동 참여횟수', '직무관련자격증', '수상횟수',\n",
        "       '평균 교육점수', '교육 이수여부', '당년 역량평가등급', '당년 업적평가등급', '역량평가등급(1년전)',\n",
        "       '역량평가등급(2년전)', '업적평가등급(1년전)', '업적평가등급(2년전)', '승진대상 후보여부']"
      ],
      "metadata": {
        "id": "BL2FPoIejz63"
      },
      "execution_count": null,
      "outputs": []
    },
    {
      "cell_type": "code",
      "source": [
        "data_2019.to_excel('/content/drive/My Drive/Colab Notebooks/NH농협캐피탈/승진적합/promotion_subject_19.xlsx', index=False)\n",
        "data_2020.to_excel('/content/drive/My Drive/Colab Notebooks/NH농협캐피탈/승진적합/promotion_subject_20.xlsx', index=False)\n",
        "data_2021.to_excel('/content/drive/My Drive/Colab Notebooks/NH농협캐피탈/승진적합/promotion_subject_21.xlsx', index=False)\n",
        "data_2022.to_excel('/content/drive/My Drive/Colab Notebooks/NH농협캐피탈/승진적합/promotion_subject_22.xlsx', index=False)"
      ],
      "metadata": {
        "id": "Ceg2TwPV1rlA"
      },
      "execution_count": null,
      "outputs": []
    },
    {
      "cell_type": "code",
      "source": [
        "mind = pd.read_excel('/content/drive/My Drive/Colab Notebooks/NH농협캐피탈/dataset/인적성 검사 데이터_1117.xlsx')"
      ],
      "metadata": {
        "id": "_1-zqT0rTn--"
      },
      "execution_count": null,
      "outputs": []
    },
    {
      "cell_type": "code",
      "source": [
        "mind_data = mind.copy()\n",
        "temp_19_m = temp_19.copy()\n",
        "temp_20_m = temp_20.copy()\n",
        "temp_21_m = temp_21.copy()\n",
        "temp_22_m = temp_22.copy()"
      ],
      "metadata": {
        "id": "Ct4q_48vT0ix"
      },
      "execution_count": null,
      "outputs": []
    },
    {
      "cell_type": "code",
      "source": [
        "mind_feature = ['긍정성', '적극성', '성실성', '사회성', '정체성', '관계성', '객관성',\n",
        "       '비활성', '과활성', '자기긍정', '기회긍정', '환경긍정', '성취추구', '인정추구', '성장추구', '점검행동',\n",
        "       '조절행동', '유지행동', '감정인식', '맥락이해', '관계대응', '성찰성', '수용성', '능동성', '공감성',\n",
        "       '우호성', '협력성', '도덕성', '정직성', '책임성', '우울성(저항성)', '부정성(저항성)', '태만성(저항성)', '불안성(저항성)', '충동성(저항성)',\n",
        "       '공격성(저항성)', '역량 평균']\n",
        "\n",
        "for name in mind_feature : \n",
        "  temp_19_m = temp_19_m.join(mind_data.set_index('이메일')[name], on='이메일')\n",
        "  temp_20_m = temp_20_m.join(mind_data.set_index('이메일')[name], on='이메일')\n",
        "  temp_21_m = temp_21_m.join(mind_data.set_index('이메일')[name], on='이메일')\n",
        "  temp_22_m = temp_22_m.join(mind_data.set_index('이메일')[name], on='이메일')"
      ],
      "metadata": {
        "id": "K9xjM1E5URws"
      },
      "execution_count": null,
      "outputs": []
    },
    {
      "cell_type": "code",
      "source": [
        "temp_19_m.to_excel('/content/drive/My Drive/Colab Notebooks/NH농협캐피탈/승진적합/promotion_mind_19.xlsx', index=False)\n",
        "temp_20_m.to_excel('/content/drive/My Drive/Colab Notebooks/NH농협캐피탈/승진적합/promotion_mind_20.xlsx', index=False)\n",
        "temp_21_m.to_excel('/content/drive/My Drive/Colab Notebooks/NH농협캐피탈/승진적합/promotion_mind_21.xlsx', index=False)\n",
        "temp_22_m.to_excel('/content/drive/My Drive/Colab Notebooks/NH농협캐피탈/승진적합/promotion_mind_22.xlsx', index=False)"
      ],
      "metadata": {
        "id": "0-2xtbEtWoCS"
      },
      "execution_count": null,
      "outputs": []
    }
  ]
}
