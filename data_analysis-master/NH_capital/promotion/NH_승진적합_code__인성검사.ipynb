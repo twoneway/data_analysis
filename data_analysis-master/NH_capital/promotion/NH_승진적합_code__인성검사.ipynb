{
  "cells": [
    {
      "cell_type": "code",
      "execution_count": null,
      "metadata": {
        "colab": {
          "base_uri": "https://localhost:8080/"
        },
        "id": "RdVBxc5gU9uy",
        "outputId": "ba67a9b2-2a3d-41fd-d8c8-27596505eb96"
      },
      "outputs": [],
      "source": [
        "from google.colab import drive\n",
        "drive.mount('/content/drive')"
      ]
    },
    {
      "cell_type": "code",
      "execution_count": null,
      "metadata": {
        "colab": {
          "base_uri": "https://localhost:8080/"
        },
        "id": "olU_IHXXLu8t",
        "outputId": "387a6177-985e-431c-b947-baf3ca9e50ef"
      },
      "outputs": [],
      "source": [
        "!pip install shap"
      ]
    },
    {
      "cell_type": "code",
      "execution_count": null,
      "metadata": {
        "colab": {
          "base_uri": "https://localhost:8080/"
        },
        "id": "1SRkzt0-Knx2",
        "outputId": "7af52f97-feeb-4c32-89a5-a2f96693fbb8"
      },
      "outputs": [],
      "source": [
        "!sudo apt-get install -y fonts-nanum\n",
        "!sudo fc-cache -fv\n",
        "!rm ~/.cache/matplotlib -rf"
      ]
    },
    {
      "cell_type": "code",
      "execution_count": null,
      "metadata": {
        "colab": {
          "base_uri": "https://localhost:8080/"
        },
        "id": "GreTiO2DITu3",
        "outputId": "da9779d4-1425-450d-cdb5-3f90c5d0438e"
      },
      "outputs": [],
      "source": [
        "!pip install xgboost==1.6.2"
      ]
    },
    {
      "cell_type": "code",
      "execution_count": null,
      "metadata": {
        "id": "13GLwQ2kXi2f"
      },
      "outputs": [],
      "source": [
        "import pandas as pd\n",
        "import numpy as np\n",
        "from sklearn.model_selection import train_test_split, GridSearchCV, KFold, StratifiedKFold\n",
        "from sklearn.preprocessing import StandardScaler, MinMaxScaler\n",
        "from imblearn.over_sampling import SMOTE\n",
        "from sklearn.linear_model import LogisticRegression\n",
        "from sklearn.neighbors import KNeighborsClassifier\n",
        "from sklearn.svm import SVC\n",
        "from sklearn.tree import DecisionTreeClassifier\n",
        "from sklearn.ensemble import RandomForestClassifier, AdaBoostClassifier\n",
        "from sklearn.neural_network import MLPClassifier\n",
        "from lightgbm import LGBMClassifier\n",
        "from xgboost import XGBClassifier\n",
        "from sklearn.metrics import accuracy_score, precision_score, recall_score, confusion_matrix, roc_auc_score, roc_curve, make_scorer, f1_score\n",
        "from imblearn.pipeline import Pipeline\n",
        "import shap\n",
        "from datetime import datetime\n",
        "import json"
      ]
    },
    {
      "cell_type": "code",
      "execution_count": null,
      "metadata": {
        "id": "t9k0huTHKuT8"
      },
      "outputs": [],
      "source": [
        "import matplotlib.pyplot as plt\n",
        "plt.rc('font', family='NanumBarunGothic')"
      ]
    },
    {
      "cell_type": "code",
      "execution_count": null,
      "metadata": {
        "id": "eVTdrbWTAwlI"
      },
      "outputs": [],
      "source": [
        "random_seed = 4"
      ]
    },
    {
      "cell_type": "code",
      "execution_count": null,
      "metadata": {
        "id": "jbi0X3YWAp4H"
      },
      "outputs": [],
      "source": [
        "stratified_kfold = StratifiedKFold(n_splits=5,\n",
        "                                       shuffle=True,\n",
        "                                       random_state=21)"
      ]
    },
    {
      "cell_type": "code",
      "execution_count": null,
      "metadata": {
        "id": "01D4Jy0pzR-J"
      },
      "outputs": [],
      "source": [
        "auc_scorer = make_scorer(roc_auc_score, needs_threshold=True)"
      ]
    },
    {
      "cell_type": "code",
      "execution_count": null,
      "metadata": {
        "id": "G3CF1Uk9XexR"
      },
      "outputs": [],
      "source": [
        "data_2019 = pd.read_excel('/content/drive/My Drive/Colab Notebooks/NH농협캐피탈/승진적합/promotion_mind_19.xlsx', engine='openpyxl')\n",
        "data_2020 = pd.read_excel('/content/drive/My Drive/Colab Notebooks/NH농협캐피탈/승진적합/promotion_mind_20.xlsx', engine='openpyxl')\n",
        "data_2021 = pd.read_excel('/content/drive/My Drive/Colab Notebooks/NH농협캐피탈/승진적합/promotion_mind_21.xlsx', engine='openpyxl')\n",
        "data_2022 = pd.read_excel('/content/drive/My Drive/Colab Notebooks/NH농협캐피탈/NH_1118/promotion_mind_22.xlsx', engine='openpyxl')"
      ]
    },
    {
      "cell_type": "markdown",
      "metadata": {
        "id": "K3bVIPnTckq6"
      },
      "source": [
        "preprocessing"
      ]
    },
    {
      "cell_type": "code",
      "execution_count": null,
      "metadata": {
        "id": "q7OTZmObOC1u"
      },
      "outputs": [],
      "source": [
        "data_2019 = data_2019.loc[data_2019['승진대상 후보여부']=='Yes']\n",
        "data_2020 = data_2020.loc[data_2020['승진대상 후보여부']=='Yes']\n",
        "data_2021 = data_2021.loc[data_2021['승진대상 후보여부']=='Yes']\n",
        "data_2022 = data_2022.loc[data_2022['승진대상 후보여부']=='Yes'].reset_index(drop=True)"
      ]
    },
    {
      "cell_type": "code",
      "execution_count": null,
      "metadata": {
        "colab": {
          "base_uri": "https://localhost:8080/"
        },
        "id": "vS8nQ6XqPjyt",
        "outputId": "ab0e16d7-e1dc-41f2-f633-d19a7da79387"
      },
      "outputs": [],
      "source": [
        "print(len(data_2019))\n",
        "print(len(data_2020))\n",
        "print(len(data_2021))\n",
        "print(len(data_2022))"
      ]
    },
    {
      "cell_type": "code",
      "execution_count": null,
      "metadata": {
        "id": "GPQmM4FDXVL5"
      },
      "outputs": [],
      "source": [
        "# 수정\n",
        "train = pd.concat([data_2019, data_2020, data_2021], axis=0).reset_index(drop=True)"
      ]
    },
    {
      "cell_type": "code",
      "execution_count": null,
      "metadata": {
        "id": "mdeDKVXFymo_"
      },
      "outputs": [],
      "source": [
        "# 추가\n",
        "train_data = train.copy()\n",
        "inf_data = data_2022.copy()"
      ]
    },
    {
      "cell_type": "code",
      "execution_count": null,
      "metadata": {
        "id": "r2HcWV2EYqBu"
      },
      "outputs": [],
      "source": [
        "# val_data = data_2020.copy()"
      ]
    },
    {
      "cell_type": "code",
      "execution_count": null,
      "metadata": {
        "id": "lO9h33-9Q15B"
      },
      "outputs": [],
      "source": [
        "train_data =train_data.reset_index(drop=True)\n",
        "inf_data =inf_data.reset_index(drop=True)"
      ]
    },
    {
      "cell_type": "code",
      "execution_count": null,
      "metadata": {
        "id": "iLah_p4ocfM5"
      },
      "outputs": [],
      "source": [
        "train_data.drop(['성명', '연락처', '이메일', '생년월일', '본부', '실', '팀', '직무', '직급'], axis=1, inplace=True)"
      ]
    },
    {
      "cell_type": "code",
      "execution_count": null,
      "metadata": {
        "id": "Bg4NbTivnADZ"
      },
      "outputs": [],
      "source": [
        "# 수정 1118-1\n",
        "inf_data.drop(['성명', '연락처', '이메일', '생년월일', '본부', '실', '팀', '직무', '직급', '입사현황'], axis=1, inplace=True)"
      ]
    },
    {
      "cell_type": "code",
      "execution_count": null,
      "metadata": {
        "id": "kud2_u7-ePy8"
      },
      "outputs": [],
      "source": [
        "# 추가\n",
        "train_data['셀 참여횟수'] = train_data['셀 참여횟수'].fillna(0)\n",
        "train_data['봉사활동 참여횟수'] = train_data['봉사활동 참여횟수'].fillna(0)\n",
        "train_data['평균 교육점수'] = train_data['평균 교육점수'].replace('미신청', 0)\n",
        "train_data['평균 교육점수'] = train_data['평균 교육점수'].replace('미입사', 0)\n",
        "train_data['교육 이수여부'] = train_data['교육 이수여부'].replace('미입사', '미신청')\n",
        "train_data['승진여부'] = train_data['승진여부'].replace({'Yes': 1, 'No':0, '미대상' : 0})"
      ]
    },
    {
      "cell_type": "code",
      "execution_count": null,
      "metadata": {
        "id": "7WwGH4VrnJa4"
      },
      "outputs": [],
      "source": [
        "# 추가\n",
        "inf_data['셀 참여횟수'] = inf_data['셀 참여횟수'].fillna(0)\n",
        "inf_data['봉사활동 참여횟수'] = inf_data['봉사활동 참여횟수'].fillna(0)\n",
        "inf_data['평균 교육점수'] = inf_data['평균 교육점수'].replace('미신청', 0)\n",
        "inf_data['평균 교육점수'] = inf_data['평균 교육점수'].replace('미입사', 0)\n",
        "inf_data['교육 이수여부'] = inf_data['교육 이수여부'].replace('미입사', '미신청')"
      ]
    },
    {
      "cell_type": "code",
      "execution_count": null,
      "metadata": {
        "colab": {
          "base_uri": "https://localhost:8080/"
        },
        "id": "WURM8FChfxgb",
        "outputId": "4a16cd9e-f37a-487d-97ac-f6173bc974bb"
      },
      "outputs": [],
      "source": [
        "grade_list = ['당년 역량평가등급', '당년 업적평가등급', '역량평가등급(1년전)', '역량평가등급(2년전)', '업적평가등급(1년전)', '업적평가등급(2년전)']\n",
        "\n",
        "for column in grade_list : \n",
        "  for i in range(len(train_data)) : \n",
        "    if train_data[column][i] == 'S' :\n",
        "      train_data[column][i] = 5\n",
        "    elif train_data[column][i] == 'A' :\n",
        "      train_data[column][i] = 4\n",
        "    elif train_data[column][i] == 'B' :\n",
        "      train_data[column][i] = 3\n",
        "    elif train_data[column][i] == 'C' :\n",
        "      train_data[column][i] = 2\n",
        "    elif train_data[column][i] == 'D' :\n",
        "      train_data[column][i] = 1\n",
        "    else : \n",
        "      train_data[column][i] = 0"
      ]
    },
    {
      "cell_type": "code",
      "execution_count": null,
      "metadata": {
        "colab": {
          "base_uri": "https://localhost:8080/"
        },
        "id": "XIXRtBnbnNMo",
        "outputId": "cfc35f87-7009-40e6-fd09-a0608ef7965a"
      },
      "outputs": [],
      "source": [
        "grade_list = ['당년 역량평가등급', '당년 업적평가등급', '역량평가등급(1년전)', '역량평가등급(2년전)', '업적평가등급(1년전)', '업적평가등급(2년전)']\n",
        "\n",
        "for column in grade_list : \n",
        "  for i in range(len(inf_data)) : \n",
        "    if inf_data[column][i] == 'S' :\n",
        "      inf_data[column][i] = 5\n",
        "    elif inf_data[column][i] == 'A' :\n",
        "      inf_data[column][i] = 4\n",
        "    elif inf_data[column][i] == 'B' :\n",
        "      inf_data[column][i] = 3\n",
        "    elif inf_data[column][i] == 'C' :\n",
        "      inf_data[column][i] = 2\n",
        "    elif inf_data[column][i] == 'D' :\n",
        "      inf_data[column][i] = 1\n",
        "    else : \n",
        "      inf_data[column][i] = 0"
      ]
    },
    {
      "cell_type": "code",
      "execution_count": null,
      "metadata": {
        "colab": {
          "base_uri": "https://localhost:8080/"
        },
        "id": "eA9T3r30R9kX",
        "outputId": "9647222b-e986-4085-f3b8-88264cfe0474"
      },
      "outputs": [],
      "source": [
        "train_data['승진적합 산출점수'] = train_data['당년 역량평가등급']*0.25 + train_data['당년 업적평가등급']*0.25 + train_data['역량평가등급(1년전)']*0.15 + train_data['업적평가등급(1년전)']*0.15 + train_data['역량평가등급(2년전)']*0.1 + train_data['업적평가등급(2년전)'] * 0.1\n",
        "for i in range(len(train_data)) : \n",
        "  if train_data['교육 이수여부'][i] == 'Yes' : \n",
        "    train_data['승진적합 산출점수'][i] = train_data['승진적합 산출점수'][i]*1.05"
      ]
    },
    {
      "cell_type": "code",
      "execution_count": null,
      "metadata": {
        "colab": {
          "base_uri": "https://localhost:8080/"
        },
        "id": "lEt23KwfT1pZ",
        "outputId": "fa718dd8-c9ae-4993-ae95-8625c758a02c"
      },
      "outputs": [],
      "source": [
        "inf_data['승진적합 산출점수'] = inf_data['당년 역량평가등급']*0.25 + inf_data['당년 업적평가등급']*0.25 + inf_data['역량평가등급(1년전)']*0.15 + inf_data['업적평가등급(1년전)']*0.15 + inf_data['역량평가등급(2년전)']*0.1 + inf_data['업적평가등급(2년전)'] * 0.1\n",
        "for i in range(len(inf_data)) : \n",
        "  if inf_data['교육 이수여부'][i] == 'Yes' : \n",
        "    inf_data['승진적합 산출점수'][i] = inf_data['승진적합 산출점수'][i]*1.05"
      ]
    },
    {
      "cell_type": "code",
      "execution_count": null,
      "metadata": {
        "id": "PhgusV1YqhUE"
      },
      "outputs": [],
      "source": [
        "train_data = train_data.dropna(axis=0)"
      ]
    },
    {
      "cell_type": "code",
      "execution_count": null,
      "metadata": {
        "id": "YVdCP-WPz6_n"
      },
      "outputs": [],
      "source": [
        "# 추가\n",
        "pre_all_train = train_data.copy()\n",
        "pre_all_inf = inf_data.copy()"
      ]
    },
    {
      "cell_type": "code",
      "execution_count": null,
      "metadata": {
        "colab": {
          "base_uri": "https://localhost:8080/",
          "height": 54
        },
        "id": "RbA8JJPwVkV5",
        "outputId": "c908136f-cf3b-4a39-c0a2-8a912a2a6cae"
      },
      "outputs": [],
      "source": [
        "'''\n",
        "per_list = train_data.columns[27:-1].tolist()\n",
        "\n",
        "train_data = train_data.reset_index(drop=True)\n",
        "for name in per_list : \n",
        "  for i in range(len(train_data)) : \n",
        "    if train_data[name][i] <= 50 : \n",
        "      train_data[name][i] = 1\n",
        "    elif train_data[name][i] > 80 : \n",
        "      train_data[name][i] = 3\n",
        "    else : \n",
        "      train_data[name][i] = 2\n",
        "'''"
      ]
    },
    {
      "cell_type": "code",
      "execution_count": null,
      "metadata": {
        "id": "TFGk6hI4rew7"
      },
      "outputs": [],
      "source": [
        "# 추가 1117\n",
        "train_data = train_data.reset_index(drop=True)"
      ]
    },
    {
      "cell_type": "code",
      "execution_count": null,
      "metadata": {
        "colab": {
          "base_uri": "https://localhost:8080/"
        },
        "id": "8JGFmlGyqgOU",
        "outputId": "629d9a61-361c-4f14-ba8a-b018cef70419"
      },
      "outputs": [],
      "source": [
        "# 수정 1117\n",
        "personal = ['긍정성', '적극성', '성실성', '사회성', '정체성', '관계성', '객관성', '비활성', '과활성', '자기긍정', '기회긍정', '환경긍정', '성취추구', '인정추구', '성장추구', '점검행동', '조절행동', '유지행동', '감정인식', '맥락이해', '관계대응', '성찰성', '수용성', '능동성', '공감성', '우호성', '협력성', '도덕성', '정직성', '책임성', '우울성(저항성)', '부정성(저항성)', '태만성(저항성)', '불안성(저항성)', '충동성(저항성)',\n",
        "       '공격성(저항성)', '역량 평균']\n",
        "\n",
        "for name in personal : \n",
        "  sorting = train_data[name].sort_values(ascending=False)\n",
        "  for i in range(len(train_data)) : \n",
        "    train_data[name][sorting.index[i]] = round(i/len(train_data)*100)"
      ]
    },
    {
      "cell_type": "code",
      "execution_count": null,
      "metadata": {
        "colab": {
          "base_uri": "https://localhost:8080/"
        },
        "id": "iMGaAGB9uKpK",
        "outputId": "f67087c8-4029-4d17-fe19-86ae42786423"
      },
      "outputs": [],
      "source": [
        "# 추가 1117\n",
        "for name in personal : \n",
        "  for i in range(len(train_data)) : \n",
        "    if train_data[name][i] <= 5 : \n",
        "      train_data[name][i] = 7\n",
        "    elif train_data[name][i] <=15 : \n",
        "      train_data[name][i] = 6\n",
        "    elif train_data[name][i] <=35 : \n",
        "      train_data[name][i] = 5\n",
        "    elif train_data[name][i] <=60 : \n",
        "      train_data[name][i] = 4\n",
        "    elif train_data[name][i] <=85 : \n",
        "      train_data[name][i] = 3\n",
        "    elif train_data[name][i] <=95 : \n",
        "      train_data[name][i] = 2\n",
        "    elif train_data[name][i] <=100 : \n",
        "      train_data[name][i] = 1"
      ]
    },
    {
      "cell_type": "markdown",
      "metadata": {
        "id": "3sPQXuSrrPMG"
      },
      "source": [
        "modeling"
      ]
    },
    {
      "cell_type": "code",
      "execution_count": null,
      "metadata": {
        "id": "_nZn2cYiZUZO"
      },
      "outputs": [],
      "source": [
        "# 수정 1117\n",
        "X = pd.get_dummies(train_data.drop(['사번', '승진여부', '승진대상 후보여부', '연령'], axis=1), columns=['직책', '성별', '입사경로', '학력', '거주지', '교육 이수여부', '전공'], drop_first=True)\n",
        "X['직책_사무국장'] = 0\n",
        "X['직책_지부장'] = 0\n",
        "X['직책_지점장'] = 0 \n",
        "X['직책_출장소장'] = 0\n",
        "X = X.astype('float')\n",
        "y = train_data['승진여부']\n",
        "y = y.astype('float') \n",
        "\n",
        "X_train, X_test, y_train, y_test = train_test_split(X, y, test_size=0.3, random_state=42, stratify = y)\n",
        "sm = SMOTE(random_state=15, k_neighbors=5)\n",
        "X_res, y_res = sm.fit_resample(X_train, y_train)"
      ]
    },
    {
      "cell_type": "code",
      "execution_count": null,
      "metadata": {
        "colab": {
          "base_uri": "https://localhost:8080/"
        },
        "id": "iUjjMhXeqZ_o",
        "outputId": "d25741ce-d0e5-484c-ae0f-7e9f5889f1cb"
      },
      "outputs": [],
      "source": [
        "benchmark = pd.DataFrame(columns=['Algorithm', 'Accuracy', 'Recall', 'Precision', 'AUC'])\n",
        "\n",
        "for algorithm in [LogisticRegression(), KNeighborsClassifier(), SVC(), RandomForestClassifier(random_state=random_seed), DecisionTreeClassifier(random_state=random_seed), \n",
        "                 AdaBoostClassifier(random_state=random_seed), XGBClassifier(random_state=random_seed), MLPClassifier(random_state=random_seed)]:\n",
        "    pipeline = Pipeline(steps = [['classifier', algorithm]])\n",
        "    \n",
        "    results = GridSearchCV(estimator=pipeline,\n",
        "                           scoring= auc_scorer,\n",
        "                           param_grid ={},\n",
        "                           cv = None,\n",
        "                           n_jobs=-1)\n",
        "    results.fit(X_res, y_res)\n",
        "    results_pred = results.predict(X_test)\n",
        "    acc = accuracy_score(y_test, results_pred)\n",
        "    recall = recall_score(y_test, results_pred)\n",
        "    pre = precision_score(y_test, results_pred)\n",
        "    auc = roc_auc_score(y_test, results_pred)\n",
        "    benchmark = benchmark.append({'Algorithm' : algorithm, 'Accuracy' : acc,'Recall' : recall, 'Precision' : pre, 'AUC' : auc}, ignore_index=True)"
      ]
    },
    {
      "cell_type": "code",
      "execution_count": null,
      "metadata": {
        "colab": {
          "base_uri": "https://localhost:8080/",
          "height": 300
        },
        "id": "AyJG8d-8Cscv",
        "outputId": "3c5c4622-6911-49f6-8e0e-d09c57ca31dd"
      },
      "outputs": [],
      "source": [
        "benchmark"
      ]
    },
    {
      "cell_type": "code",
      "execution_count": null,
      "metadata": {
        "colab": {
          "base_uri": "https://localhost:8080/"
        },
        "id": "3IEnYz0it4OV",
        "outputId": "153a35e8-acd2-4207-8125-163072834de9"
      },
      "outputs": [],
      "source": [
        "opt_dict = {}\n",
        "idx = benchmark['AUC'].idxmax()\n",
        "column_list = ['Accuracy', 'Recall', 'Precision', 'AUC']\n",
        "benchmark = benchmark.drop([idx], axis=0).reset_index(drop=True) \n",
        "\n",
        "for columns in list(column_list) : \n",
        "  opt_dict['Average '+columns] = benchmark[columns].mean()\n",
        "\n",
        "opt_dict  "
      ]
    },
    {
      "cell_type": "code",
      "execution_count": null,
      "metadata": {
        "colab": {
          "base_uri": "https://localhost:8080/",
          "height": 72
        },
        "id": "MKLsDxfdKxNk",
        "outputId": "1784c1e3-ae83-4dea-e73a-cef09678dbd6"
      },
      "outputs": [],
      "source": [
        "'''\n",
        "max = 0\n",
        "seed_number_rf = 0\n",
        "rf_number = 0\n",
        "\n",
        "for seed in range(0, 50) : \n",
        "  X_train, X_test, y_train, y_test = train_test_split(X, y, test_size=0.2, random_state=seed, stratify= y)\n",
        "  for num in range(0, 50) : \n",
        "    sm = SMOTE(random_state=num, k_neighbors=5)\n",
        "    X_res, y_res = sm.fit_resample(X_train, y_train)\n",
        "    model_rf = XGBClassifier(n_estimators=100, max_depth=10, random_state=0)\n",
        "    model_rf.fit(X_res, y_res)\n",
        "    pred_rf = model_rf.predict(X_test)\n",
        "    auc = roc_auc_score(y_test, pred_rf)\n",
        "    if auc > max :\n",
        "      max = auc\n",
        "      seed_number_rf = seed\n",
        "      rf_number = num\n",
        "print(max)\n",
        "print(seed_number_rf)\n",
        "print(rf_number)\n",
        "'''"
      ]
    },
    {
      "cell_type": "code",
      "execution_count": null,
      "metadata": {
        "colab": {
          "base_uri": "https://localhost:8080/"
        },
        "id": "Zf6UKtfkWL90",
        "outputId": "e005a408-4a22-44f6-f15f-daef88dd882f"
      },
      "outputs": [],
      "source": [
        "# 수정 1114\n",
        "X_train, X_test, y_train, y_test = train_test_split(X, y, test_size=0.2, random_state=7, stratify= y)\n",
        "pipeline_xgb = Pipeline(steps=[('smote', SMOTE(random_state=7)), ('classifier', XGBClassifier(random_state=0))])\n",
        "\n",
        "\n",
        "params_xgb={'smote__k_neighbors' : [5],\n",
        "            'classifier__n_estimators' : [100],\n",
        "            'classifier__max_depth' : [10]}\n",
        "\n",
        "\n",
        "grid_search_xgb = GridSearchCV(estimator=pipeline_xgb,\n",
        "                               param_grid=params_xgb,\n",
        "                               cv = stratified_kfold,\n",
        "                               scoring = auc_scorer,\n",
        "                               n_jobs=-1)\n",
        "\n",
        "grid_search_xgb.fit(X_train, y_train)\n",
        "pred_xgb = grid_search_xgb.predict(X_test)\n",
        "pred_proba = grid_search_xgb.predict_proba(X_test)[:,1]\n",
        "print(grid_search_xgb.best_params_)\n",
        "now = datetime.now()\n",
        "\n",
        "acc = accuracy_score(y_test, pred_xgb)\n",
        "re = recall_score(y_test, pred_xgb)\n",
        "pre = precision_score(y_test, pred_xgb)\n",
        "f1 = f1_score(y_test, pred_xgb)\n",
        "auc = roc_auc_score(y_test, pred_xgb)\n",
        "\n",
        "metrics_dict = {}\n",
        "metrics_dict['accuracy_score'] = acc\n",
        "metrics_dict['recall_score'] = re\n",
        "metrics_dict['precision_score'] = pre\n",
        "metrics_dict['f1_score'] = f1\n",
        "metrics_dict['AUC'] = auc\n",
        "\n",
        "metrics_dict"
      ]
    },
    {
      "cell_type": "code",
      "execution_count": null,
      "metadata": {
        "id": "MDFdy4OqgFT1"
      },
      "outputs": [],
      "source": [
        "end_model = grid_search_xgb.best_estimator_['classifier']"
      ]
    },
    {
      "cell_type": "code",
      "execution_count": null,
      "metadata": {
        "colab": {
          "base_uri": "https://localhost:8080/",
          "height": 718
        },
        "id": "0YReXgZ6IBkJ",
        "outputId": "208a3af8-300d-426e-b222-8b031f6f2f29"
      },
      "outputs": [],
      "source": [
        "explainer = shap.explainers.Tree(end_model, X_train) # 수정\n",
        "shap_values = explainer.shap_values(X_test) \n",
        "shap_obj = explainer(X_test)\n",
        "shap.initjs()\n",
        "shap.summary_plot(shap_values, X_test, plot_type = \"bar\")"
      ]
    },
    {
      "cell_type": "code",
      "execution_count": null,
      "metadata": {
        "id": "NQ2moTvjQa5N"
      },
      "outputs": [],
      "source": [
        "importances = np.absolute(shap_values).sum(axis=0) / shap_values.shape[0]\n",
        "feature_importance = pd.Series(importances / sum(importances))\n",
        "feature_importance.index = X_train.columns"
      ]
    },
    {
      "cell_type": "code",
      "execution_count": null,
      "metadata": {
        "id": "O28Npl6ST1FS"
      },
      "outputs": [],
      "source": [
        "# 수정 1117\n",
        "numerical = ['당사근속기간(개월)', '외부경력(개월)', '총경력(개월)', '현 직급 근속기간(연)', '이직횟수', '셀 참여횟수', '봉사활동 참여횟수', \n",
        "       '직무관련자격증', '수상횟수', '평균 교육점수', '당년 역량평가등급', '당년 업적평가등급', '역량평가등급(1년전)', '역량평가등급(2년전)',\n",
        "       '업적평가등급(1년전)', '업적평가등급(2년전)', '긍정성', '적극성', '성실성', '사회성', '정체성', '관계성', '객관성', '비활성', '과활성', '자기긍정',\n",
        "       '기회긍정', '환경긍정', '성취추구', '인정추구', '성장추구', '점검행동', '조절행동', '유지행동', '감정인식',\n",
        "       '맥락이해', '관계대응', '성찰성', '수용성', '능동성', '공감성', '우호성', '협력성', '도덕성', '정직성',\n",
        "       '책임성', '우울성(저항성)', '부정성(저항성)', '태만성(저항성)', '불안성(저항성)', '충동성(저항성)',\n",
        "       '공격성(저항성)', '역량 평균', '승진적합 산출점수']\n",
        "categorical = ['직책', '성별', '입사경로', '학력', '거주지', '교육 이수여부', '전공'] \n",
        "fe_list = list(feature_importance.index)"
      ]
    },
    {
      "cell_type": "code",
      "execution_count": null,
      "metadata": {
        "id": "iOIttfS4aSh7"
      },
      "outputs": [],
      "source": [
        "cat_imp = []\n",
        "for name in categorical : \n",
        "  sum = 0\n",
        "  for i in range (len(fe_list)) : \n",
        "    if name in fe_list[i] :\n",
        "      sum += feature_importance[i]\n",
        "  cat_imp.append(sum)"
      ]
    },
    {
      "cell_type": "code",
      "execution_count": null,
      "metadata": {
        "id": "V-ppXav7dqRl"
      },
      "outputs": [],
      "source": [
        "cat_fe = pd.Series(cat_imp)\n",
        "cat_fe.index = categorical"
      ]
    },
    {
      "cell_type": "code",
      "execution_count": null,
      "metadata": {
        "id": "Zb0RNHkCezDu"
      },
      "outputs": [],
      "source": [
        "nu_fe = feature_importance[numerical]"
      ]
    },
    {
      "cell_type": "code",
      "execution_count": null,
      "metadata": {
        "id": "ljSXF84QfKXS"
      },
      "outputs": [],
      "source": [
        "result_fe = pd.concat([nu_fe, cat_fe])"
      ]
    },
    {
      "cell_type": "code",
      "execution_count": null,
      "metadata": {
        "id": "Stk4YcaH9RE8"
      },
      "outputs": [],
      "source": [
        "# 수정 11130\n",
        "\n",
        "result_fe['승진적합 산출점수'] += result_fe['당사근속기간(개월)']*0.4\n",
        "result_fe['당년 역량평가등급'] += result_fe['당사근속기간(개월)']*0.4\n",
        "result_fe['당사근속기간(개월)'] = result_fe['당사근속기간(개월)']*0.2\n",
        "\n",
        "result_fe['당년 업적평가등급'] += result_fe['외부경력(개월)']*0.9\n",
        "result_fe['외부경력(개월)'] = result_fe['외부경력(개월)']*0.1\n",
        "\n",
        "result_fe['역량평가등급(2년전)'] += result_fe['현 직급 근속기간(연)']*0.5\n",
        "result_fe['셀 참여횟수'] += result_fe['현 직급 근속기간(연)']*0.3\n",
        "result_fe['현 직급 근속기간(연)'] = result_fe['현 직급 근속기간(연)']*0.2\n",
        "result_fe['업적평가등급(2년전)'] += result_fe['총경력(개월)']*0.4\n",
        "result_fe['봉사활동 참여횟수'] += result_fe['총경력(개월)']*0.3\n",
        "result_fe['수상횟수'] += result_fe['총경력(개월)']*0.1\n",
        "result_fe['총경력(개월)'] = result_fe['총경력(개월)']*0.2\n",
        "'''\n",
        "result_fe['셀 참여횟수'] += result_fe['수상횟수']*0.4\n",
        "result_fe['봉사활동 참여횟수'] += result_fe['수상횟수']*0.4\n",
        "result_fe['수상횟수'] = result_fe['수상횟수']*0.2\n",
        "'''\n",
        "result_fe['셀 참여횟수'] += result_fe['거주지']*0.4\n",
        "result_fe['봉사활동 참여횟수'] += result_fe['거주지']*0.4\n",
        "result_fe['거주지'] = result_fe['거주지']*0.2\n",
        "###\n",
        "result_fe['징계횟수'] = result_fe['수상횟수']\n",
        "###"
      ]
    },
    {
      "cell_type": "code",
      "execution_count": null,
      "metadata": {
        "id": "GcU0FO3RyJDO"
      },
      "outputs": [],
      "source": [
        "fe_dict = result_fe.to_dict()"
      ]
    },
    {
      "cell_type": "code",
      "execution_count": null,
      "metadata": {
        "colab": {
          "base_uri": "https://localhost:8080/",
          "height": 886
        },
        "id": "MDimxPDpf4LC",
        "outputId": "b888b2b7-3b28-4fca-f786-b4a3d23c6887"
      },
      "outputs": [],
      "source": [
        "import seaborn as sns\n",
        "\n",
        "ft_importance = result_fe.sort_values(ascending=False)\n",
        "\n",
        "# 시각화\n",
        "plt.figure(figsize=(15,15))\n",
        "plt.rc('font', size=13)  \n",
        "plt.title('Feature Importance')\n",
        "sns.barplot(x=ft_importance, y=ft_importance.index)\n",
        "plt.show()"
      ]
    },
    {
      "cell_type": "code",
      "execution_count": null,
      "metadata": {
        "id": "LzBBliu9pjpP"
      },
      "outputs": [],
      "source": [
        "rr = shap_obj.abs.max(0).values\n",
        "new_series = pd.Series(rr, index=X_test.columns.tolist())"
      ]
    },
    {
      "cell_type": "code",
      "execution_count": null,
      "metadata": {
        "id": "MUG2cgUirDsg"
      },
      "outputs": [],
      "source": [
        "cate = new_series.copy()"
      ]
    },
    {
      "cell_type": "code",
      "execution_count": null,
      "metadata": {
        "id": "z0jbVcdrp_wV"
      },
      "outputs": [],
      "source": [
        "rr = shap_obj.abs.max(0).values\n",
        "new_series = pd.Series(rr, index=X_test.columns.tolist())\n",
        "\n",
        "for i in range(len(result_fe)) : \n",
        "  if result_fe.index[i] in new_series.index.tolist() : \n",
        "    new_series[result_fe.index[i]] = result_fe.values[i]\n",
        "\n",
        "for i in range(len(new_series)) : \n",
        "  if new_series.index[i] not in result_fe.index.tolist() : \n",
        "    new_series[new_series.index[i]] = 0"
      ]
    },
    {
      "cell_type": "code",
      "execution_count": null,
      "metadata": {
        "id": "F8Gmo0Zks2ki"
      },
      "outputs": [],
      "source": [
        "qwe = explainer(X_test)\n",
        "qwe.values = new_series.values"
      ]
    },
    {
      "cell_type": "code",
      "execution_count": null,
      "metadata": {
        "id": "KXZJeEypsiAj"
      },
      "outputs": [],
      "source": [
        "# shap.plots.beeswarm(shap_obj, max_display=30, order=qwe)"
      ]
    },
    {
      "cell_type": "code",
      "execution_count": null,
      "metadata": {
        "colab": {
          "base_uri": "https://localhost:8080/"
        },
        "id": "smZ0cZJrxnx2",
        "outputId": "1d2e6dc2-cdd7-49d8-d632-9c0cc0e7c267"
      },
      "outputs": [],
      "source": [
        "cate[54:]"
      ]
    },
    {
      "cell_type": "code",
      "execution_count": null,
      "metadata": {
        "id": "-LvIR3XQxH3t"
      },
      "outputs": [],
      "source": [
        "# 수정 1117\n",
        "pos_max = shap_values.max(axis=0)\n",
        "neg_max = shap_values.min(axis=0)\n",
        "new_list = []\n",
        "for row in shap_values:\n",
        "  temp = []\n",
        "  for ele, pos, neg in zip(row, pos_max, neg_max):\n",
        "    if ele >= 0:\n",
        "      if pos == 0: \n",
        "        temp.append(0)\n",
        "      else:\n",
        "        temp.append(ele/pos)\n",
        "    else:\n",
        "      if neg == 0:\n",
        "        temp.append(0)\n",
        "      else:\n",
        "        temp.append(-ele/neg)\n",
        "  new_list.append(temp)\n",
        "\n",
        "fw = pd.DataFrame(new_list, index = pd.RangeIndex(len(shap_values)), columns = X_test.columns)\n",
        "fw = fw.fillna(0)"
      ]
    },
    {
      "cell_type": "code",
      "execution_count": null,
      "metadata": {
        "id": "hJAI0Vs900yy"
      },
      "outputs": [],
      "source": [
        "for name in fw.columns.tolist() : \n",
        "  if name not in numerical : \n",
        "    fw[name] = 0"
      ]
    },
    {
      "cell_type": "code",
      "execution_count": null,
      "metadata": {
        "id": "HB7KjvvjzRvB"
      },
      "outputs": [],
      "source": [
        "X_test = X_test.reset_index(drop=True)\n",
        "\n",
        "fw['봉사활동 참여횟수'] = X_test['봉사활동 참여횟수']*0.1\n",
        "fw['셀 참여횟수'] = X_test['셀 참여횟수']*0.1\n",
        "\n",
        "fw['당사근속기간(개월)'] = fw['당사근속기간(개월)']*0.5\n",
        "fw['외부경력(개월)'] = fw['외부경력(개월)']*0.5\n",
        "fw['현 직급 근속기간(연)'] = fw['현 직급 근속기간(연)']*0.5"
      ]
    },
    {
      "cell_type": "code",
      "execution_count": null,
      "metadata": {
        "id": "oZG3UaMMiZri"
      },
      "outputs": [],
      "source": [
        "main_dict = {}\n",
        "main_dict['feature importance'] = fe_dict\n",
        "main_dict['trainset_size'] = len(X_train)\n",
        "main_dict['testset_size'] = len(X_test)\n",
        "main_dict['total_size'] = len(X_train)+len(X_test)\n",
        "main_dict['last_train_date'] = str(now)\n",
        "main_dict['prediction'] = dict()"
      ]
    },
    {
      "cell_type": "code",
      "execution_count": null,
      "metadata": {
        "id": "AQgz9yzBnK8a"
      },
      "outputs": [],
      "source": [
        "for cutoff in np.arange(.05, 1., .05) :\n",
        "  sum = 0\n",
        "  for k in pred_proba : \n",
        "    if k>= cutoff :\n",
        "      sum += 1\n",
        "  main_dict['prediction'][cutoff] = sum"
      ]
    },
    {
      "cell_type": "code",
      "execution_count": null,
      "metadata": {
        "id": "YUxZvzMroQVz"
      },
      "outputs": [],
      "source": [
        "main_dict['metrics'] = metrics_dict\n",
        "main_dict['algorithm others'] = opt_dict"
      ]
    },
    {
      "cell_type": "code",
      "execution_count": null,
      "metadata": {
        "id": "D2BIF46MqZp7"
      },
      "outputs": [],
      "source": [
        "# 수정 1117\n",
        "missing_rate = {}\n",
        "feature_data = train[['직책', '성별', '연령', '당사근속기간(개월)', '외부경력(개월)', '총경력(개월)', '현 직급 근속기간(연)', '이직횟수',\n",
        "       '입사경로', '학력', '전공', '거주지', '셀 참여횟수', '봉사활동 참여횟수', '직무관련자격증', '수상횟수', '평균 교육점수',\n",
        "       '교육 이수여부', '당년 역량평가등급', '당년 업적평가등급', '역량평가등급(1년전)', '역량평가등급(2년전)', '업적평가등급(1년전)', '업적평가등급(2년전)', '긍정성', '적극성', '성실성', '사회성', '정체성', '관계성', '객관성', '비활성', '과활성', '자기긍정',\n",
        "       '기회긍정', '환경긍정', '성취추구', '인정추구', '성장추구', '점검행동', '조절행동', '유지행동', '감정인식',\n",
        "       '맥락이해', '관계대응', '성찰성', '수용성', '능동성', '공감성', '우호성', '협력성', '도덕성', '정직성',\n",
        "       '책임성', '우울성(저항성)', '부정성(저항성)', '태만성(저항성)', '불안성(저항성)', '충동성(저항성)',\n",
        "       '공격성(저항성)', '역량 평균']]  # column 명칭 수정\n",
        "\n",
        "for name in feature_data.columns.tolist() : \n",
        "  cnt = 0\n",
        "  for i in range(len(feature_data)) : \n",
        "    if feature_data[name].isnull()[i] == True : \n",
        "      cnt+=1\n",
        "    elif feature_data[name][i]=='미입사' : \n",
        "      cnt+=1\n",
        "    elif feature_data[name][i]=='미평가' : \n",
        "      cnt+=1\n",
        "  missing_rate[name] = cnt\n",
        "missing_rate['all'] = len(feature_data) "
      ]
    },
    {
      "cell_type": "code",
      "execution_count": null,
      "metadata": {
        "id": "YSNKRgUUjczR"
      },
      "outputs": [],
      "source": [
        "missing_file_path = '/content/drive/My Drive/Colab Notebooks/NH농협캐피탈/output/missing_rate_승진적합(다면평가).json'\n",
        "\n",
        "with open(missing_file_path, 'r') as f:\n",
        "    json_data = json.load(f)"
      ]
    },
    {
      "cell_type": "code",
      "execution_count": null,
      "metadata": {
        "id": "esonCXHnkeLT"
      },
      "outputs": [],
      "source": [
        "# 수정 1117\n",
        "missing_rate_all = {}\n",
        "\n",
        "same_json = ['직책', '성별', '연령', '당사근속기간(개월)', '외부경력(개월)', '총경력(개월)', '현 직급 근속기간(연)', '이직횟수', '입사경로', '학력', '전공', '거주지', '셀 참여횟수', '봉사활동 참여횟수', '직무관련자격증', '수상횟수', '평균 교육점수', '교육 이수여부', '당년 역량평가등급', '당년 업적평가등급', '역량평가등급(1년전)', '역량평가등급(2년전)', '업적평가등급(1년전)', '업적평가등급(2년전)']\n",
        "segment = ['전문성_평균평점', '리더십_평균평점', '부하육성_평균평점', '관계관리_평균평점', '조직비전_평균평점', '직책수행능력_평균평점', '조직내 필요성_평균평점', '동반자 의식_평균평점', '직책수행능력', '조직내 필요성', '동반자 의식']\n",
        "personal = ['긍정성', '적극성', '성실성', '사회성', '정체성', '관계성', '객관성', '비활성', '과활성', '자기긍정', '기회긍정', '환경긍정', '성취추구', '인정추구', '성장추구', '점검행동', '조절행동', '유지행동', '감정인식', '맥락이해', '관계대응', '성찰성', '수용성', '능동성', '공감성', '우호성', '협력성', '도덕성', '정직성', '책임성', '우울성(저항성)', '부정성(저항성)', '태만성(저항성)', '불안성(저항성)', '충동성(저항성)',\n",
        "       '공격성(저항성)', '역량 평균']\n",
        "\n",
        "for name in same_json : \n",
        "  missing_rate_all[name] = (missing_rate[name]+json_data[name])/(missing_rate['all']+json_data['all'])\n",
        "\n",
        "for name in segment : \n",
        "  missing_rate_all[name] = json_data[name]/(missing_rate['all']+json_data['all'])\n",
        "\n",
        "for name in personal : \n",
        "  missing_rate_all[name] = missing_rate[name]/(missing_rate['all']+json_data['all'])  "
      ]
    },
    {
      "cell_type": "code",
      "execution_count": null,
      "metadata": {
        "id": "FvkoN12Xw9XO"
      },
      "outputs": [],
      "source": [
        "# 추가\n",
        "main_dict['feature missing rate'] = missing_rate_all"
      ]
    },
    {
      "cell_type": "code",
      "execution_count": null,
      "metadata": {
        "colab": {
          "base_uri": "https://localhost:8080/"
        },
        "id": "GWqlx_ifqfRy",
        "outputId": "75021b32-799c-4b46-a5ca-6d83af44e57e"
      },
      "outputs": [],
      "source": [
        "main_dict"
      ]
    },
    {
      "cell_type": "code",
      "execution_count": null,
      "metadata": {
        "id": "zQJWhvexoD60"
      },
      "outputs": [],
      "source": [
        "json_file = json.dumps(main_dict)"
      ]
    },
    {
      "cell_type": "code",
      "execution_count": null,
      "metadata": {
        "id": "uPfrahiFppb7"
      },
      "outputs": [],
      "source": [
        "file_path = '/content/drive/My Drive/Colab Notebooks/NH농협캐피탈/승진적합_v2/승진적합_인적성.json'"
      ]
    },
    {
      "cell_type": "code",
      "execution_count": null,
      "metadata": {
        "id": "mZo8q2jgpgyt"
      },
      "outputs": [],
      "source": [
        "with open(file_path, 'w', encoding='utf-8-sig') as file:\n",
        "    file.write(json.dumps(main_dict, ensure_ascii=False))"
      ]
    },
    {
      "cell_type": "markdown",
      "metadata": {
        "id": "dV_h_zzJhpE-"
      },
      "source": [
        "Inference"
      ]
    },
    {
      "cell_type": "code",
      "execution_count": null,
      "metadata": {
        "id": "0hsqORJKgOAd"
      },
      "outputs": [],
      "source": [
        "# 수정 1117\n",
        "inf_x = pd.get_dummies(inf_data.drop(['사번', '승진대상 후보여부', '연령'], axis=1), columns=['직책', '성별', '입사경로', '학력', '거주지', '교육 이수여부', '전공'], drop_first=True)\n",
        "\n",
        "inf_x['거주지_충북'] = 0\n",
        "inf_x['전공_교육계열'] = 0\n",
        "\n",
        "inf_x = inf_x[X_train.columns]\n",
        "inf_x = inf_x.astype('float')"
      ]
    },
    {
      "cell_type": "code",
      "execution_count": null,
      "metadata": {
        "id": "dtNe-cm0xj0l"
      },
      "outputs": [],
      "source": [
        "# 추가 1117\n",
        "for name in personal : \n",
        "  sorting = inf_x[name].sort_values(ascending=False)\n",
        "  for i in range(len(inf_x)) : \n",
        "    inf_x[name][sorting.index[i]] = round(i/len(inf_x)*100)"
      ]
    },
    {
      "cell_type": "code",
      "execution_count": null,
      "metadata": {
        "id": "eu_32647xj0m"
      },
      "outputs": [],
      "source": [
        "# 추가 1117\n",
        "for name in personal : \n",
        "  for i in range(len(inf_x)) : \n",
        "    if inf_x[name][i] <= 5 : \n",
        "      inf_x[name][i] = 7\n",
        "    elif inf_x[name][i] <=15 : \n",
        "      inf_x[name][i] = 6\n",
        "    elif inf_x[name][i] <=35 : \n",
        "      inf_x[name][i] = 5\n",
        "    elif inf_x[name][i] <=60 : \n",
        "      inf_x[name][i] = 4\n",
        "    elif inf_x[name][i] <=85 : \n",
        "      inf_x[name][i] = 3\n",
        "    elif inf_x[name][i] <=95 : \n",
        "      inf_x[name][i] = 2\n",
        "    elif inf_x[name][i] <=100 : \n",
        "      inf_x[name][i] = 1"
      ]
    },
    {
      "cell_type": "code",
      "execution_count": null,
      "metadata": {
        "colab": {
          "base_uri": "https://localhost:8080/",
          "height": 53
        },
        "id": "0Fz-RWU_Y7wY",
        "outputId": "ea582c3f-1642-4bbd-f8bf-18994625fe0a"
      },
      "outputs": [],
      "source": [
        "'''\n",
        "inf_x = inf_x.reset_index(drop=True)\n",
        "for name in per_list : \n",
        "  for i in range(len(inf_x)) : \n",
        "    if inf_x[name][i] <= 50 : \n",
        "      inf_x[name][i] = 1\n",
        "    elif inf_x[name][i] > 80 : \n",
        "      inf_x[name][i] = 3\n",
        "    else : \n",
        "      inf_x[name][i] = 2\n",
        "'''"
      ]
    },
    {
      "cell_type": "code",
      "execution_count": null,
      "metadata": {
        "id": "PR4QYasqhLaq"
      },
      "outputs": [],
      "source": [
        "pred = end_model.predict(inf_x)\n",
        "inf_proba = end_model.predict_proba(inf_x)[:,1]"
      ]
    },
    {
      "cell_type": "code",
      "execution_count": null,
      "metadata": {
        "id": "09VWboAnsbmh"
      },
      "outputs": [],
      "source": [
        "result = pd.DataFrame(columns=['승진여부'])\n",
        "result['승진여부'] = pred\n",
        "result['predict_proba'] = inf_proba"
      ]
    },
    {
      "cell_type": "code",
      "execution_count": null,
      "metadata": {
        "id": "a941VOUbuqn9"
      },
      "outputs": [],
      "source": [
        "result['승진여부'] = result['승진여부'].replace(0, '유지')\n",
        "result['승진여부'] = result['승진여부'].replace(1, '승진')"
      ]
    },
    {
      "cell_type": "code",
      "execution_count": null,
      "metadata": {
        "id": "2kSkLvIpOsqW"
      },
      "outputs": [],
      "source": [
        "final_result = pd.concat([inf_data, result], axis=1)"
      ]
    },
    {
      "cell_type": "code",
      "execution_count": null,
      "metadata": {
        "id": "Ar7Bgz-MtlOJ"
      },
      "outputs": [],
      "source": [
        "final_result['수상횟수'] = final_result['수상횟수'].astype('float')"
      ]
    },
    {
      "cell_type": "code",
      "execution_count": null,
      "metadata": {
        "colab": {
          "base_uri": "https://localhost:8080/"
        },
        "id": "togmQrfOyzOn",
        "outputId": "c2e229d8-37a0-4031-946d-087facafb4d9"
      },
      "outputs": [],
      "source": [
        "# 수정 1124\n",
        "for i in range(len(final_result)) : \n",
        "  if final_result['predict_proba'][i] < 0.5 : \n",
        "    if (final_result['셀 참여횟수'][i]!=0 and final_result['봉사활동 참여횟수'][i]!=0) : \n",
        "      final_result['predict_proba'][i] = final_result['predict_proba'][i] + final_result['셀 참여횟수'][i]*0.08 + final_result['봉사활동 참여횟수'][i]*0.08 + 0.05\n",
        "    else : \n",
        "      final_result['predict_proba'][i] = final_result['predict_proba'][i] + final_result['셀 참여횟수'][i]*0.08 + final_result['봉사활동 참여횟수'][i]*0.08\n",
        "\n",
        "for i in range(len(final_result)) :\n",
        "  if (final_result['predict_proba'][i] + final_result['수상횟수'][i]*0.04) < 1 : \n",
        "    final_result['predict_proba'][i] = final_result['predict_proba'][i] + final_result['수상횟수'][i]*0.04\n",
        "\n",
        "punish_list = ['B1210011', 'B1110035', 'B1110036', 'B1110058', 'B1110077', 'B1510023', 'B1510062', 'B1210021', 'B1210076']\n",
        "punish_data = []\n",
        "for i in range(len(final_result)) : \n",
        "  if final_result['사번'][i] in punish_list : \n",
        "    punish_data.append(1)\n",
        "  elif final_result['사번'][i] == 'B1310064' : \n",
        "    punish_data.append(2)\n",
        "  else : \n",
        "    punish_data.append(0)\n",
        "\n",
        "for i in range(len(final_result)) :\n",
        "  if (final_result['predict_proba'][i] - punish_data[i]*0.04) > 0 : \n",
        "    final_result['predict_proba'][i] = final_result['predict_proba'][i] - punish_data[i]*0.04\n",
        "  elif (final_result['predict_proba'][i] - punish_data[i]*0.04) < 0 : \n",
        "    final_result['predict_proba'][i] = 0\n",
        "\n",
        "for i in range(len(final_result)) : \n",
        "  if final_result['predict_proba'][i] >=0.5 : \n",
        "    final_result['승진여부'][i] = '승진'"
      ]
    },
    {
      "cell_type": "code",
      "execution_count": null,
      "metadata": {
        "id": "tcWKTHASBLpi"
      },
      "outputs": [],
      "source": [
        "# 수정 1118-1\n",
        "private_feature = ['성명', '연락처', '이메일', '생년월일', '본부', '실', '팀', '직무', '직급', '입사현황']\n",
        "for name in private_feature : \n",
        "  final_result = final_result.join(data_2022.set_index('사번')[name], on='사번')"
      ]
    },
    {
      "cell_type": "code",
      "execution_count": null,
      "metadata": {
        "id": "kxEGrtrOBj7h"
      },
      "outputs": [],
      "source": [
        "# 수정 1118-1\n",
        "final_result = final_result[['사번', '성명', '연락처', '이메일', '생년월일', '본부', '실', '팀', '직무', '직급', '입사현황', '직책', '성별', '연령', '당사근속기간(개월)', '외부경력(개월)', '총경력(개월)', '현 직급 근속기간(연)', '이직횟수',\n",
        "       '입사경로', '학력', '전공', '거주지', '셀 참여횟수', '봉사활동 참여횟수', '직무관련자격증', '수상횟수', '평균 교육점수',\n",
        "       '교육 이수여부', '당년 역량평가등급', '당년 업적평가등급', '역량평가등급(1년전)', '역량평가등급(2년전)', '업적평가등급(1년전)', '업적평가등급(2년전)', '긍정성', '적극성', '성실성', '사회성', '정체성', '관계성', '객관성', '비활성', '과활성', '자기긍정',\n",
        "       '기회긍정', '환경긍정', '성취추구', '인정추구', '성장추구', '점검행동', '조절행동', '유지행동', '감정인식',\n",
        "       '맥락이해', '관계대응', '성찰성', '수용성', '능동성', '공감성', '우호성', '협력성', '도덕성', '정직성',\n",
        "       '책임성', '우울성(저항성)', '부정성(저항성)', '태만성(저항성)', '불안성(저항성)', '충동성(저항성)',\n",
        "       '공격성(저항성)', '역량 평균', '승진적합 산출점수', '승진여부', 'predict_proba']]  # column 명칭 수정"
      ]
    },
    {
      "cell_type": "code",
      "execution_count": null,
      "metadata": {
        "id": "SB8il2_oza5M"
      },
      "outputs": [],
      "source": [
        "# 추가 3년치 평가등급 보여주기\n",
        "final_result[['평균 교육점수', '당년 역량평가등급', '당년 업적평가등급', '역량평가등급(1년전)', '역량평가등급(2년전)', '업적평가등급(1년전)', '업적평가등급(2년전)']] = data_2022[['평균 교육점수', '당년 역량평가등급', '당년 업적평가등급', '역량평가등급(1년전)', '역량평가등급(2년전)', '업적평가등급(1년전)', '업적평가등급(2년전)']]"
      ]
    },
    {
      "cell_type": "code",
      "execution_count": null,
      "metadata": {
        "id": "_ehAjIOXTavq"
      },
      "outputs": [],
      "source": [
        "shap_values_inf = explainer.shap_values(inf_x) "
      ]
    },
    {
      "cell_type": "code",
      "execution_count": null,
      "metadata": {
        "id": "-NAEFJn6l4T7"
      },
      "outputs": [],
      "source": [
        "# 수정 1117\n",
        "pos_max = shap_values_inf.max(axis=0)\n",
        "neg_max = shap_values_inf.min(axis=0)\n",
        "new_list = []\n",
        "for row in shap_values_inf:\n",
        "  temp = []\n",
        "  for ele, pos, neg in zip(row, pos_max, neg_max):\n",
        "    if ele >= 0:\n",
        "      if pos == 0: \n",
        "        temp.append(0)\n",
        "      else:\n",
        "        temp.append(ele/pos)\n",
        "    else:\n",
        "      if neg == 0:\n",
        "        temp.append(0)\n",
        "      else:\n",
        "        temp.append(-ele/neg)\n",
        "  new_list.append(temp)\n",
        "\n",
        "feature_weight = pd.DataFrame(shap_values_inf, index = pd.RangeIndex(len(shap_values_inf)), columns = X_test.columns)\n",
        "feature_weight = feature_weight.fillna(0)"
      ]
    },
    {
      "cell_type": "code",
      "execution_count": null,
      "metadata": {
        "id": "Tfb2hOt72o7N"
      },
      "outputs": [],
      "source": [
        "categorical_feature = ['직책', '성별', '입사경로', '학력', '거주지', '교육 이수여부', '전공']\n",
        "cate_main = []\n",
        "\n",
        "for i in range(len(feature_weight)) :\n",
        "  temp_1 = []\n",
        "  for name in categorical_feature : \n",
        "    temp_2 = []\n",
        "    for j in range (len(feature_weight.columns.tolist())) : \n",
        "      if name in feature_weight.columns.tolist()[j] : \n",
        "        real_name = feature_weight.columns.tolist()[j]\n",
        "        temp_2.append(feature_weight[real_name][i])\n",
        "    data_sum = np.sum(temp_2)\n",
        "    temp_1.append(data_sum)\n",
        "  cate_main.append(temp_1)"
      ]
    },
    {
      "cell_type": "code",
      "execution_count": null,
      "metadata": {
        "id": "Yt8OaM8q-vbd"
      },
      "outputs": [],
      "source": [
        "# 수정 1114\n",
        "ttt = pd.DataFrame(cate_main, columns=categorical_feature)\n",
        "\n",
        "feature_weight.drop(['직책_팀원', '직책_팀장', '성별_여자', '입사경로_신입', '학력_대졸', '학력_대학원졸', '학력_전졸',\n",
        "       '거주지_광주', '거주지_대구', '거주지_대전', '거주지_부산', '거주지_서울', '거주지_인천', '거주지_충북',\n",
        "       '교육 이수여부_미신청', '전공_공학계열', '전공_교육계열', '전공_사회계열',\n",
        "       '전공_예체능계열', '전공_인문계열', '전공_자연계열', '직책_사무국장', '직책_지부장', '직책_지점장',\n",
        "       '직책_출장소장'], axis=1, inplace=True)\n",
        "feature_weight = pd.concat([feature_weight, ttt], axis=1)"
      ]
    },
    {
      "cell_type": "code",
      "execution_count": null,
      "metadata": {
        "id": "gTM7YFnkLwzH"
      },
      "outputs": [],
      "source": [
        "mm = MinMaxScaler(feature_range=(-1, 1))"
      ]
    },
    {
      "cell_type": "code",
      "execution_count": null,
      "metadata": {
        "id": "vFrZrIWDKDxc"
      },
      "outputs": [],
      "source": [
        "for i in range (len(feature_weight.max())) : \n",
        "  if feature_weight.max()[i] > 1 : \n",
        "    feature_name = feature_weight.max().index[i]\n",
        "    scaling = mm.fit_transform(feature_weight[feature_name].values.reshape(-1,1))\n",
        "    for j in range (len(feature_weight)) : \n",
        "      feature_weight[feature_name][j] = scaling[j][0]\n",
        "\n",
        "for i in range (len(feature_weight.min())) : \n",
        "  if feature_weight.min()[i] < -1 : \n",
        "    feature_name = feature_weight.min().index[i]\n",
        "    scaling = mm.fit_transform(feature_weight[feature_name].values.reshape(-1,1))\n",
        "    for j in range (len(feature_weight)) : \n",
        "      feature_weight[feature_name][j] = scaling[j][0]"
      ]
    },
    {
      "cell_type": "code",
      "execution_count": null,
      "metadata": {
        "id": "lcirhw60LvSp"
      },
      "outputs": [],
      "source": [
        "feature_weight.insert(0, '사번', inf_data['사번'].tolist())"
      ]
    },
    {
      "cell_type": "code",
      "execution_count": null,
      "metadata": {
        "id": "vQe8pZEZy-zC"
      },
      "outputs": [],
      "source": [
        "# 수정 1117\n",
        "\n",
        "feature_weight['봉사활동 참여횟수'] = final_result['봉사활동 참여횟수']*0.1\n",
        "feature_weight['셀 참여횟수'] = final_result['셀 참여횟수']*0.1\n",
        "\n",
        "feature_weight['당사근속기간(개월)'] = feature_weight['당사근속기간(개월)']*0.5\n",
        "feature_weight['외부경력(개월)'] = feature_weight['외부경력(개월)']*0.5\n",
        "feature_weight['현 직급 근속기간(연)'] = feature_weight['현 직급 근속기간(연)']*0.5"
      ]
    },
    {
      "cell_type": "code",
      "execution_count": null,
      "metadata": {
        "id": "kYnkaaIqNSSH"
      },
      "outputs": [],
      "source": [
        "feature_weight.to_csv('/content/drive/My Drive/Colab Notebooks/NH농협캐피탈/승진적합_v2/feature_weight_승진적합_인적성.csv', encoding='utf-8-sig', index=False)"
      ]
    },
    {
      "cell_type": "code",
      "execution_count": null,
      "metadata": {
        "id": "sGHKhmfHRVUI"
      },
      "outputs": [],
      "source": [
        "# 수정 1116\n",
        "attrition = ['정희진', '박영민', '강도이', '박상완']\n",
        "attrition_idx = []\n",
        "for i in range(len(final_result)) : \n",
        " if final_result['성명'][i] in attrition : \n",
        "   attrition_idx.append(i)\n",
        "\n",
        "final_result.drop(attrition_idx, inplace=True)"
      ]
    },
    {
      "cell_type": "code",
      "execution_count": null,
      "metadata": {
        "id": "PbO58lOy-sp7"
      },
      "outputs": [],
      "source": [
        "# 수정 1107\n",
        "final_result.drop(final_result.loc[final_result['직급']=='부장'][final_result.loc[final_result['직급']=='부장']['현 직급 근속기간(연)']<3].index.tolist(), inplace=True)"
      ]
    },
    {
      "cell_type": "code",
      "execution_count": null,
      "metadata": {
        "id": "6eK5Nox1cQXc"
      },
      "outputs": [],
      "source": [
        "# 수정 1110\n",
        "final_result.drop(final_result.loc[final_result['직급']=='이사대우'].index.tolist(), inplace=True)\n",
        "final_result.drop(final_result.loc[final_result['직급']=='기획역'].index.tolist(), inplace=True)"
      ]
    },
    {
      "cell_type": "code",
      "execution_count": null,
      "metadata": {
        "id": "B30hK3mC9nkM"
      },
      "outputs": [],
      "source": [
        "# 수정 1107\n",
        "final_result.replace({'직급' : ['업무지원역', '기획역']}, '기타', inplace=True)"
      ]
    },
    {
      "cell_type": "code",
      "execution_count": null,
      "metadata": {
        "id": "6z9FANmX21UT"
      },
      "outputs": [],
      "source": [
        "final_result\n",
        "final_result.to_csv('/content/drive/My Drive/Colab Notebooks/NH농협캐피탈/승진적합_v2/output_승진적합_인적성.csv', encoding='utf-8-sig', index=False)"
      ]
    },
    {
      "cell_type": "code",
      "execution_count": null,
      "metadata": {
        "colab": {
          "base_uri": "https://localhost:8080/"
        },
        "id": "rh7keEnFIU2m",
        "outputId": "22843347-9815-4b6b-e5e0-c18de1583d7e"
      },
      "outputs": [],
      "source": [
        "qwer = final_result.dropna(subset=['역량 평균'], axis=0)\n",
        "qqqq = qwer[numerical]\n",
        "qqqq['predict_proba'] = qwer['predict_proba']\n",
        "qqqq = qqqq.reset_index(drop=True)"
      ]
    },
    {
      "cell_type": "code",
      "execution_count": null,
      "metadata": {
        "colab": {
          "base_uri": "https://localhost:8080/"
        },
        "id": "M95sffpnKHE8",
        "outputId": "ed9eeafe-426a-4ce8-904b-a2027e2f8b71"
      },
      "outputs": [],
      "source": [
        "grade_list = ['당년 역량평가등급', '당년 업적평가등급', '역량평가등급(1년전)', '역량평가등급(2년전)', '업적평가등급(1년전)', '업적평가등급(2년전)']\n",
        "\n",
        "for column in grade_list : \n",
        "  for i in range(len(qqqq)) : \n",
        "    if qqqq[column][i] == 'S' :\n",
        "      qqqq[column][i] = 5\n",
        "    elif qqqq[column][i] == 'A' :\n",
        "      qqqq[column][i] = 4\n",
        "    elif qqqq[column][i] == 'B' :\n",
        "      qqqq[column][i] = 3\n",
        "    elif qqqq[column][i] == 'C' :\n",
        "      qqqq[column][i] = 2\n",
        "    elif qqqq[column][i] == 'D' :\n",
        "      qqqq[column][i] = 1\n",
        "    else : \n",
        "      qqqq[column][i] = 0"
      ]
    },
    {
      "cell_type": "code",
      "execution_count": null,
      "metadata": {
        "id": "nFciFroKMCu6"
      },
      "outputs": [],
      "source": [
        "qqqq.replace('미신청', 0, inplace=True)\n",
        "qqqq.replace('미입사', 0, inplace=True)"
      ]
    },
    {
      "cell_type": "code",
      "execution_count": null,
      "metadata": {
        "id": "vEed9q1WL4HO"
      },
      "outputs": [],
      "source": [
        "qqqq = qqqq.astype('float')"
      ]
    },
    {
      "cell_type": "code",
      "execution_count": null,
      "metadata": {
        "id": "NhFbfXKgOCfL"
      },
      "outputs": [],
      "source": [
        "ffff= qqqq.corr(method='pearson')"
      ]
    },
    {
      "cell_type": "code",
      "execution_count": null,
      "metadata": {
        "colab": {
          "base_uri": "https://localhost:8080/",
          "height": 1000
        },
        "id": "fZJYjRNcNGZN",
        "outputId": "fc1d516c-650e-41b9-88f7-e06ca47f4597"
      },
      "outputs": [],
      "source": [
        "df = pd.DataFrame(ffff['predict_proba'].sort_values(ascending=False), columns=['predict_proba'])\n",
        "df.style.background_gradient(cmap='viridis')"
      ]
    }
  ],
  "metadata": {
    "colab": {
      "provenance": []
    },
    "kernelspec": {
      "display_name": "Python 3",
      "name": "python3"
    },
    "language_info": {
      "name": "python"
    }
  },
  "nbformat": 4,
  "nbformat_minor": 0
}
