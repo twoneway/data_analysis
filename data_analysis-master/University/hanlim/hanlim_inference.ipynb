{
  "nbformat": 4,
  "nbformat_minor": 0,
  "metadata": {
    "colab": {
      "provenance": []
    },
    "kernelspec": {
      "name": "python3",
      "display_name": "Python 3"
    },
    "language_info": {
      "name": "python"
    }
  },
  "cells": [
    {
      "cell_type": "code",
      "execution_count": null,
      "metadata": {
        "id": "MsYnkAzDLE0E"
      },
      "outputs": [],
      "source": [
        "!pip install category-encoders"
      ]
    },
    {
      "cell_type": "code",
      "source": [
        "import pandas as pd\n",
        "import numpy as np\n",
        "from sklearn.preprocessing import StandardScaler, MinMaxScaler\n",
        "from category_encoders import TargetEncoder, OneHotEncoder\n",
        "from sklearn.compose import ColumnTransformer\n",
        "from sklearn.ensemble import RandomForestClassifier, ExtraTreesClassifier, VotingClassifier, GradientBoostingClassifier\n",
        "from xgboost import XGBClassifier\n",
        "import shap\n",
        "import joblib"
      ],
      "metadata": {
        "id": "9bCbjGsoLKG-"
      },
      "execution_count": null,
      "outputs": []
    },
    {
      "cell_type": "code",
      "source": [
        "raw_data = pd.read_csv('/ml/algorithmlabs.inference/inference_data.csv')\n",
        "te = joblib.load('/ml/algorithmlabs.inference/pickle/encoder.pkl')\n",
        "scaler = joblib.load('/ml/algorithmlabs.inference/pickle/scaler.pkl')\n",
        "voting = joblib.load('/ml/algorithmlabs.inference/pickle/model.pkl')\n",
        "explainer_1 = joblib.load('/ml/algorithmlabs.inference/pickle/shap_explainer_1.pkl')\n",
        "explainer_2 = joblib.load('/ml/algorithmlabs.inference/pickle/shap_explainer_2.pkl')\n",
        "explainer_3 = joblib.load('/ml/algorithmlabs.inference/pickle/shap_explainer_3.pkl')\n",
        "explainer_4 = joblib.load('/ml/algorithmlabs.inference/pickle/shap_explainer_4.pkl')\n",
        "name_dict = joblib.load('/ml/algorithmlabs.inference/pickle/name_dict.pkl')"
      ],
      "metadata": {
        "id": "_4F5yfLnLLPk"
      },
      "execution_count": null,
      "outputs": []
    },
    {
      "cell_type": "code",
      "source": [
        "en_data = raw_data.copy()"
      ],
      "metadata": {
        "id": "j1wKhm9CLMJr"
      },
      "execution_count": null,
      "outputs": []
    },
    {
      "cell_type": "code",
      "source": [
        "# 0208 수정\n",
        "en_data.drop(['YYHAKGI', 'HAKJ_HAKBUN', 'HAKJ_JUMIN_NO', 'DAEHAK_NAME', 'HAKGWA_NAME', 'JUNGONG_NAME', 'BUJ_NAME', 'BS1_NAME', 'BS2_NAME', 'BS3_NAME', 'BD_GBN_NAME'], axis=1, inplace=True)"
      ],
      "metadata": {
        "id": "g8NJdQmgLNE1"
      },
      "execution_count": null,
      "outputs": []
    },
    {
      "cell_type": "code",
      "source": [
        "object_cols = en_data.select_dtypes('object').columns\n",
        "en_data[object_cols] = te.transform(en_data[object_cols])"
      ],
      "metadata": {
        "id": "RYyJy2F-LN8R"
      },
      "execution_count": null,
      "outputs": []
    },
    {
      "cell_type": "code",
      "source": [
        "en_scaled = scaler.transform(en_data)\n",
        "en_data = pd.DataFrame(data=en_scaled, index=en_data.index, columns=en_data.columns)"
      ],
      "metadata": {
        "id": "OMZvBMRVLOxp"
      },
      "execution_count": null,
      "outputs": []
    },
    {
      "cell_type": "code",
      "source": [
        "pred_data = voting.predict_proba(en_data)[:,1]\n",
        "raw_data['predict_proba'] = pred_data"
      ],
      "metadata": {
        "id": "UUhMXhwULPwq"
      },
      "execution_count": null,
      "outputs": []
    },
    {
      "cell_type": "code",
      "source": [
        "raw_data = raw_data[raw_data.columns[1:2].tolist()+raw_data.columns[-1:].tolist()+raw_data.columns[:1].tolist() + raw_data.columns[2:-1].tolist()]\n",
        "raw_data.drop(['HAKJ_DAEHAK', 'HAKJ_HAKGWA', 'HAKJ_JUNGONG', 'HAKJ_BUJ_CODE', 'HAKJ_BS1_CODE', 'HAKJ_BS2_CODE', 'HAKJ_MACHUMJ_CODE'], axis=1, inplace=True) "
      ],
      "metadata": {
        "id": "uNh_zKXgLP5_"
      },
      "execution_count": null,
      "outputs": []
    },
    {
      "cell_type": "code",
      "source": [
        "for name in raw_data.columns.tolist() : \n",
        "    for name_ex in name_dict.keys() : \n",
        "        if name == name_ex : \n",
        "            raw_data.rename(columns={name : name_dict[name_ex]}, inplace=True)"
      ],
      "metadata": {
        "id": "qUGMQ3y1LP8p"
      },
      "execution_count": null,
      "outputs": []
    },
    {
      "cell_type": "code",
      "source": [
        "raw_data.rename(columns={'DAEHAK_NAME' : name_dict['HAKJ_DAEHAK']}, inplace=True)\n",
        "raw_data.rename(columns={'HAKGWA_NAME' : name_dict['HAKJ_HAKGWA']}, inplace=True)\n",
        "raw_data.rename(columns={'JUNGONG_NAME' : name_dict['HAKJ_JUNGONG']}, inplace=True)\n",
        "raw_data.rename(columns={'BUJ_NAME' : name_dict['HAKJ_BUJ_CODE']}, inplace=True)\n",
        "raw_data.rename(columns={'BS1_NAME' : name_dict['HAKJ_BS1_CODE']}, inplace=True)\n",
        "raw_data.rename(columns={'BS2_NAME' : name_dict['HAKJ_BS2_CODE']}, inplace=True)\n",
        "raw_data.rename(columns={'BS3_NAME' : name_dict['HAKJ_MACHUMJ_CODE']}, inplace=True)"
      ],
      "metadata": {
        "id": "d_SpgkGGLP_R"
      },
      "execution_count": null,
      "outputs": []
    },
    {
      "cell_type": "code",
      "source": [
        "shap_values_1 = explainer_1.shap_values(en_data, check_additivity=False) \n",
        "shap_values_2 = explainer_2.shap_values(en_data, check_additivity=False) \n",
        "shap_values_3 = explainer_3.shap_values(en_data, check_additivity=False) \n",
        "shap_values_4 = explainer_4.shap_values(en_data, check_additivity=False)\n",
        "fw = (shap_values_1[1]+shap_values_2+shap_values_3[1]+shap_values_4)/4\n",
        "feature_weight = pd.DataFrame(fw, columns=en_data.columns)"
      ],
      "metadata": {
        "id": "8QcjnZ9nLQCJ"
      },
      "execution_count": null,
      "outputs": []
    },
    {
      "cell_type": "code",
      "source": [
        "feature_weight['HAKJ_HAKBUN'] = raw_data['학번']\n",
        "feature_weight = feature_weight[feature_weight.columns[-1:].tolist() + feature_weight.columns[:-1].tolist()]"
      ],
      "metadata": {
        "id": "AF2BjtlCLT7Q"
      },
      "execution_count": null,
      "outputs": []
    },
    {
      "cell_type": "code",
      "source": [
        "for name in feature_weight.columns.tolist() : \n",
        "    for name_ex in name_dict.keys() : \n",
        "        if name == name_ex : \n",
        "            feature_weight.rename(columns={name : name_dict[name_ex]}, inplace=True)"
      ],
      "metadata": {
        "id": "JXJNGnFMLT97"
      },
      "execution_count": null,
      "outputs": []
    },
    {
      "cell_type": "code",
      "source": [
        "raw_data.to_csv('/ml/algorithmlabs.inference/infer_result_dropout.csv', index=False)\n",
        "feature_weight.to_csv('/ml/algorithmlabs.inference/feature_weight_dropout.csv', index=False)"
      ],
      "metadata": {
        "id": "BuFWGb66LUAz"
      },
      "execution_count": null,
      "outputs": []
    }
  ]
}