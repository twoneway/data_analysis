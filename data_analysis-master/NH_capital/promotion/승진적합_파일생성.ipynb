{
  "cells": [
    {
      "cell_type": "code",
      "execution_count": null,
      "metadata": {
        "colab": {
          "base_uri": "https://localhost:8080/"
        },
        "id": "tuhMeYiSe0Jt",
        "outputId": "a233fcb9-3fed-498e-dffb-6e99678d4233"
      },
      "outputs": [],
      "source": [
        "from google.colab import drive\n",
        "drive.mount('/content/drive')"
      ]
    },
    {
      "cell_type": "code",
      "execution_count": null,
      "metadata": {
        "colab": {
          "base_uri": "https://localhost:8080/"
        },
        "id": "BGQw_tHXe5aA",
        "outputId": "4f1e9707-ce06-49ac-cc48-4d55d61579d4"
      },
      "outputs": [],
      "source": [
        "!sudo apt-get install -y fonts-nanum\n",
        "!sudo fc-cache -fv\n",
        "!rm ~/.cache/matplotlib -rf"
      ]
    },
    {
      "cell_type": "code",
      "execution_count": null,
      "metadata": {
        "colab": {
          "base_uri": "https://localhost:8080/"
        },
        "id": "ry9oexawknSH",
        "outputId": "2a0f918b-295d-4b17-9b43-e5201f003937"
      },
      "outputs": [],
      "source": [
        "!pip install konlpy"
      ]
    },
    {
      "cell_type": "code",
      "execution_count": null,
      "metadata": {
        "id": "60Hbeml0e60a"
      },
      "outputs": [],
      "source": [
        "import pandas as pd \n",
        "import numpy as np\n",
        "import re\n",
        "import matplotlib.pyplot as plt\n",
        "import seaborn as sns\n",
        "from plotly.offline import init_notebook_mode, plot, iplot\n",
        "import plotly.graph_objs as go\n",
        "from pandas.api.types import is_numeric_dtype\n",
        "from pandas.api.types import is_string_dtype"
      ]
    },
    {
      "cell_type": "code",
      "execution_count": null,
      "metadata": {
        "id": "dADM13-TfW65"
      },
      "outputs": [],
      "source": [
        "import nltk\n",
        "from konlpy.tag import Okt\n",
        "from wordcloud import WordCloud\n",
        "from collections import defaultdict\n",
        "from collections import Counter\n",
        "from nltk.corpus import stopwords"
      ]
    },
    {
      "cell_type": "code",
      "execution_count": null,
      "metadata": {
        "id": "zTBEE0M-e9n4"
      },
      "outputs": [],
      "source": [
        "plt.rc('font', family='NanumBarunGothic') "
      ]
    },
    {
      "cell_type": "code",
      "execution_count": null,
      "metadata": {
        "id": "pMt16ROie-nH"
      },
      "outputs": [],
      "source": [
        "raw_data_19 = pd.read_excel('/content/drive/My Drive/Colab Notebooks/NH농협캐피탈/추가데이터/NH농협캐피탈 데이터 작업_승진적합_1114.xlsx', sheet_name=0)\n",
        "major = pd.read_excel('/content/drive/My Drive/Colab Notebooks/NH농협캐피탈/dataset/전공 대분류.xlsx')"
      ]
    },
    {
      "cell_type": "code",
      "execution_count": null,
      "metadata": {
        "id": "2rwqG1qx9cK8"
      },
      "outputs": [],
      "source": [
        "raw_data_19['전공'] = major['대분류']"
      ]
    },
    {
      "cell_type": "code",
      "execution_count": null,
      "metadata": {
        "id": "kh76eTXyhPI2"
      },
      "outputs": [],
      "source": [
        "raw_data_20 = pd.read_excel('/content/drive/My Drive/Colab Notebooks/NH농협캐피탈/추가데이터/NH농협캐피탈 데이터 작업_승진적합_1114.xlsx', sheet_name=1)\n",
        "raw_data_21 = pd.read_excel('/content/drive/My Drive/Colab Notebooks/NH농협캐피탈/추가데이터/NH농협캐피탈 데이터 작업_승진적합_1114.xlsx', sheet_name=2)"
      ]
    },
    {
      "cell_type": "code",
      "execution_count": null,
      "metadata": {
        "id": "cvhFh5gtOwhF"
      },
      "outputs": [],
      "source": [
        "raw_data_20['전공'] = major['대분류']\n",
        "raw_data_21['전공'] = major['대분류']"
      ]
    },
    {
      "cell_type": "code",
      "execution_count": null,
      "metadata": {
        "id": "ct8_XVh_fcpq"
      },
      "outputs": [],
      "source": [
        "sen1_data = pd.read_excel('/content/drive/My Drive/Colab Notebooks/NH농협캐피탈/dataset/sentiment_19년상.xlsx')\n",
        "sen2_data = pd.read_excel('/content/drive/My Drive/Colab Notebooks/NH농협캐피탈/dataset/sentiment_19년하.xlsx')\n",
        "sen3_data = pd.read_excel('/content/drive/My Drive/Colab Notebooks/NH농협캐피탈/dataset/sentiment_20년상.xlsx')\n",
        "sen4_data = pd.read_excel('/content/drive/My Drive/Colab Notebooks/NH농협캐피탈/dataset/sentiment_20년하.xlsx')\n",
        "sen5_data = pd.read_excel('/content/drive/My Drive/Colab Notebooks/NH농협캐피탈/dataset/sentiment_21년하.xlsx')"
      ]
    },
    {
      "cell_type": "code",
      "execution_count": null,
      "metadata": {
        "id": "nd9KDK4PlREY"
      },
      "outputs": [],
      "source": [
        "sen1 = sen1_data['사번'].unique()\n",
        "sen2 = sen2_data['사번'].unique()\n",
        "sen_2019 = list(set(np.append(sen1, sen2)))"
      ]
    },
    {
      "cell_type": "code",
      "execution_count": null,
      "metadata": {
        "id": "Re1Omj-ptojW"
      },
      "outputs": [],
      "source": [
        "sen3 = sen3_data['사번'].unique()\n",
        "sen4 = sen4_data['사번'].unique()\n",
        "sen_2020 = list(set(np.append(sen3, sen4)))"
      ]
    },
    {
      "cell_type": "code",
      "execution_count": null,
      "metadata": {
        "id": "pfQxP2sff5xM"
      },
      "outputs": [],
      "source": [
        "sen_2021 = sen5_data['사번'].unique()"
      ]
    },
    {
      "cell_type": "code",
      "execution_count": null,
      "metadata": {
        "id": "qF9vyvLOoX-B"
      },
      "outputs": [],
      "source": [
        "sen1_data = sen1_data.replace('positive', 1)\n",
        "sen1_data = sen1_data.replace('negative', -1)\n",
        "sen1_data = sen1_data.replace('neutral', 0)"
      ]
    },
    {
      "cell_type": "code",
      "execution_count": null,
      "metadata": {
        "id": "db0yP7heouIr"
      },
      "outputs": [],
      "source": [
        "sen2_data = sen2_data.replace('positive', 1)\n",
        "sen2_data = sen2_data.replace('negative', -1)\n",
        "sen2_data = sen2_data.replace('neutral', 0)"
      ]
    },
    {
      "cell_type": "code",
      "execution_count": null,
      "metadata": {
        "id": "AqkISms8tVzo"
      },
      "outputs": [],
      "source": [
        "sen3_data = sen3_data.replace('positive', 1)\n",
        "sen3_data = sen3_data.replace('negative', -1)\n",
        "sen3_data = sen3_data.replace('neutral', 0)"
      ]
    },
    {
      "cell_type": "code",
      "execution_count": null,
      "metadata": {
        "id": "0RP1tVvZtWBB"
      },
      "outputs": [],
      "source": [
        "sen4_data = sen4_data.replace('positive', 1)\n",
        "sen4_data = sen4_data.replace('negative', -1)\n",
        "sen4_data = sen4_data.replace('neutral', 0)"
      ]
    },
    {
      "cell_type": "code",
      "execution_count": null,
      "metadata": {
        "id": "_-sqVYPatXm2"
      },
      "outputs": [],
      "source": [
        "sen5_data = sen5_data.replace('positive', 1)\n",
        "sen5_data = sen5_data.replace('negative', -1)\n",
        "sen5_data = sen5_data.replace('neutral', 0)"
      ]
    },
    {
      "cell_type": "code",
      "execution_count": null,
      "metadata": {
        "id": "JrEHj1fomckR"
      },
      "outputs": [],
      "source": [
        "con_list = []\n",
        "for name in sen_2019 : \n",
        "  temp_list = []\n",
        "  temp_list.append(name)\n",
        "  first = sen1_data.loc[sen1_data['사번']==name].reset_index(drop=True)\n",
        "  half = sen2_data.loc[sen2_data['사번']==name].reset_index(drop=True)\n",
        "  if (len(first)==0 and len(half)!=0) : \n",
        "    temp_list.append(half['직책수행능력'][0])\n",
        "    temp_list.append(half['조직내 필요성'][0])\n",
        "    temp_list.append(half['동반자 의식'][0])\n",
        "  elif (len(half)==0 and len(first)!=0) : \n",
        "    temp_list.append(first['직책수행능력'][0])\n",
        "    temp_list.append(first['조직내 필요성'][0])\n",
        "    temp_list.append(first['동반자 의식'][0])\n",
        "  else : \n",
        "    if (first['직책수행능력'][0]+half['직책수행능력'][0] > 0) : \n",
        "      temp_list.append(1)\n",
        "    elif (first['직책수행능력'][0]+half['직책수행능력'][0] < 0) : \n",
        "      temp_list.append(-1)\n",
        "    else : \n",
        "      temp_list.append(0)\n",
        "    \n",
        "    if (first['조직내 필요성'][0]+half['조직내 필요성'][0] > 0) : \n",
        "      temp_list.append(1)\n",
        "    elif (first['조직내 필요성'][0]+half['조직내 필요성'][0] < 0) : \n",
        "      temp_list.append(-1)\n",
        "    else : \n",
        "      temp_list.append(0)\n",
        "\n",
        "    if (first['동반자 의식'][0]+half['동반자 의식'][0] > 0) : \n",
        "      temp_list.append(1)\n",
        "    elif (first['동반자 의식'][0]+half['동반자 의식'][0] < 0) : \n",
        "      temp_list.append(-1)\n",
        "    else : \n",
        "      temp_list.append(0)\n",
        "\n",
        "  con_list.append(temp_list)\n",
        "\n",
        "sentiment_2019 = pd.DataFrame(con_list, columns=['사번', '직책수행능력', '조직내 필요성', '동반자 의식'])"
      ]
    },
    {
      "cell_type": "code",
      "execution_count": null,
      "metadata": {
        "id": "6ICbroZTtwwD"
      },
      "outputs": [],
      "source": [
        "con_list = []\n",
        "for name in sen_2020 : \n",
        "  temp_list = []\n",
        "  temp_list.append(name)\n",
        "  first = sen3_data.loc[sen3_data['사번']==name].reset_index(drop=True)\n",
        "  half = sen4_data.loc[sen4_data['사번']==name].reset_index(drop=True)\n",
        "  if (len(first)==0 and len(half)!=0) : \n",
        "    temp_list.append(half['직책수행능력'][0])\n",
        "    temp_list.append(half['조직내 필요성'][0])\n",
        "    temp_list.append(half['동반자 의식'][0])\n",
        "  elif (len(half)==0 and len(first)!=0) : \n",
        "    temp_list.append(first['직책수행능력'][0])\n",
        "    temp_list.append(first['조직내 필요성'][0])\n",
        "    temp_list.append(first['동반자 의식'][0])\n",
        "  else : \n",
        "    if (first['직책수행능력'][0]+half['직책수행능력'][0] > 0) : \n",
        "      temp_list.append(1)\n",
        "    elif (first['직책수행능력'][0]+half['직책수행능력'][0] < 0) : \n",
        "      temp_list.append(-1)\n",
        "    else : \n",
        "      temp_list.append(0)\n",
        "    \n",
        "    if (first['조직내 필요성'][0]+half['조직내 필요성'][0] > 0) : \n",
        "      temp_list.append(1)\n",
        "    elif (first['조직내 필요성'][0]+half['조직내 필요성'][0] < 0) : \n",
        "      temp_list.append(-1)\n",
        "    else : \n",
        "      temp_list.append(0)\n",
        "\n",
        "    if (first['동반자 의식'][0]+half['동반자 의식'][0] > 0) : \n",
        "      temp_list.append(1)\n",
        "    elif (first['동반자 의식'][0]+half['동반자 의식'][0] < 0) : \n",
        "      temp_list.append(-1)\n",
        "    else : \n",
        "      temp_list.append(0)\n",
        "\n",
        "  con_list.append(temp_list)\n",
        "\n",
        "sentiment_2020 = pd.DataFrame(con_list, columns=['사번', '직책수행능력', '조직내 필요성', '동반자 의식'])"
      ]
    },
    {
      "cell_type": "code",
      "execution_count": null,
      "metadata": {
        "id": "DuEgDRqgugj8"
      },
      "outputs": [],
      "source": [
        "sentiment_2021 = sen5_data"
      ]
    },
    {
      "cell_type": "code",
      "execution_count": null,
      "metadata": {
        "id": "jf4IZ1q29nJJ"
      },
      "outputs": [],
      "source": [
        "en_list = []\n",
        "\n",
        "f_list = ['전문성_평균평점_상반기', '리더십_평균평점_상반기', '부하육성_평균평점_상반기',\n",
        "       '관계관리_평균평점_상반기', '조직비전_평균평점_상반기', '직책수행능력_평균평점_상반기', '조직내 필요성_평균평점_상반기',\n",
        "       '동반자 의식_평균평점_상반기']\n",
        "h_list = ['전문성_평균평점_하반기', '리더십_평균평점_하반기', '부하육성_평균평점_하반기',\n",
        "       '관계관리_평균평점_하반기', '조직비전_평균평점_하반기', '직책수행능력_평균평점_하반기', '조직내 필요성_평균평점_하반기',\n",
        "       '동반자 의식_평균평점_하반기']\n",
        "\n",
        "for i in range(len(raw_data_19)) : \n",
        "  temp = [] \n",
        "  j = 0\n",
        "  for name in f_list : \n",
        "    if (type(raw_data_19[name][i])==type(str()) and type(raw_data_19[h_list[j]][i])!=type(str())) : \n",
        "      temp.append(raw_data_19[h_list[j]][i])\n",
        "    elif (type(raw_data_19[name][i])!=type(str()) and type(raw_data_19[h_list[j]][i])==type(str())) : \n",
        "      temp.append(raw_data_19[name][i])\n",
        "    elif (type(raw_data_19[name][i])==type(str()) and type(raw_data_19[h_list[j]][i])==type(str())) : \n",
        "      temp.append(\"No\")\n",
        "    else : \n",
        "      avg = (raw_data_19[name][i]+raw_data_19[h_list[j]][i])/2\n",
        "      temp.append(avg)\n",
        "    j += 1\n",
        "  en_list.append(temp)"
      ]
    },
    {
      "cell_type": "code",
      "execution_count": null,
      "metadata": {
        "id": "F4TGZjjkXXQe"
      },
      "outputs": [],
      "source": [
        "raw_data_19[['전문성_평균평점', '리더십_평균평점', '부하육성_평균평점', '관계관리_평균평점', '조직비전_평균평점', '직책수행능력_평균평점', '조직내 필요성_평균평점', '동반자 의식_평균평점']] = en_list\n",
        "raw_data_19 = raw_data_19.drop(f_list, axis=1)\n",
        "raw_data_19 = raw_data_19.drop(h_list, axis=1)"
      ]
    },
    {
      "cell_type": "code",
      "execution_count": null,
      "metadata": {
        "id": "-9pcHaIquw4b"
      },
      "outputs": [],
      "source": [
        "tmp = pd.DataFrame(columns=raw_data_19.columns)\n",
        "for name in sen_2019 : \n",
        "  temp = raw_data_19.loc[raw_data_19['사번']==name]\n",
        "  tmp = pd.concat([tmp, temp], ignore_index=True, axis=0)"
      ]
    },
    {
      "cell_type": "code",
      "execution_count": null,
      "metadata": {
        "id": "yj7QUY2S1M_r"
      },
      "outputs": [],
      "source": [
        "tmp = tmp.join(sentiment_2019.set_index('사번')['직책수행능력'], on='사번')\n",
        "tmp = tmp.join(sentiment_2019.set_index('사번')['조직내 필요성'], on='사번')\n",
        "tmp = tmp.join(sentiment_2019.set_index('사번')['동반자 의식'], on='사번')"
      ]
    },
    {
      "cell_type": "code",
      "execution_count": null,
      "metadata": {
        "colab": {
          "base_uri": "https://localhost:8080/"
        },
        "id": "muHAjyBS2fBF",
        "outputId": "f9cd5713-ebde-4f61-dd7d-b1205b8039ef"
      },
      "outputs": [],
      "source": [
        "data_2019 = tmp\n",
        "print(len(data_2019))"
      ]
    },
    {
      "cell_type": "code",
      "execution_count": null,
      "metadata": {
        "id": "-l_UQJiMcGmV"
      },
      "outputs": [],
      "source": [
        "temp_19 = raw_data_19\n",
        "b = data_2019['사번'].tolist()\n",
        "\n",
        "for i in range(len(raw_data_19)) : \n",
        "  if(raw_data_19['사번'][i] in b) : \n",
        "    temp_19 = temp_19.drop([i], axis=0)\n",
        "\n",
        "temp_19 = temp_19.loc[temp_19['당년 역량평가등급']!='미입사']\n",
        "temp_19 = temp_19.loc[temp_19['당년 역량평가등급']!='미평가']"
      ]
    },
    {
      "cell_type": "code",
      "execution_count": null,
      "metadata": {
        "id": "iajQKZqZZ1vk"
      },
      "outputs": [],
      "source": [
        "table = []\n",
        "\n",
        "for i in range(len(raw_data_19)) : \n",
        "  sen = []\n",
        "  if (raw_data_19['사번'][i] in data_2019['사번'].unique()) : \n",
        "    temp = data_2019.loc[data_2019['사번']==raw_data_19['사번'][i]].reset_index(drop=True)\n",
        "    sen.append(temp['직책수행능력'][0])\n",
        "    sen.append(temp['조직내 필요성'][0])\n",
        "    sen.append(temp['동반자 의식'][0])\n",
        "  else : \n",
        "    sen.append('No')\n",
        "    sen.append('No')\n",
        "    sen.append('No')\n",
        "  table.append(sen)"
      ]
    },
    {
      "cell_type": "code",
      "execution_count": null,
      "metadata": {
        "id": "xEyUxoA9apF4"
      },
      "outputs": [],
      "source": [
        "raw_data_19[['직책수행능력', '조직내 필요성', '동반자 의식']] = table"
      ]
    },
    {
      "cell_type": "code",
      "execution_count": null,
      "metadata": {
        "id": "lIKcidq99mQC"
      },
      "outputs": [],
      "source": [
        "raw_data_20['전공'] = major['대분류']"
      ]
    },
    {
      "cell_type": "code",
      "execution_count": null,
      "metadata": {
        "id": "L5uCxModd4ov"
      },
      "outputs": [],
      "source": [
        "en_list = []\n",
        "\n",
        "f_list = ['전문성_평균평점_상반기', '리더십_평균평점_상반기', '부하육성_평균평점_상반기',\n",
        "       '관계관리_평균평점_상반기', '조직비전_평균평점_상반기', '직책수행능력_평균평점_상반기', '조직내 필요성_평균평점_상반기',\n",
        "       '동반자 의식_평균평점_상반기']\n",
        "h_list = ['전문성_평균평점_하반기', '리더십_평균평점_하반기', '부하육성_평균평점_하반기',\n",
        "       '관계관리_평균평점_하반기', '조직비전_평균평점_하반기', '직책수행능력_평균평점_하반기', '조직내 필요성_평균평점_하반기',\n",
        "       '동반자 의식_평균평점_하반기']\n",
        "\n",
        "for i in range(len(raw_data_20)) : \n",
        "  temp = [] \n",
        "  j = 0\n",
        "  for name in f_list : \n",
        "    if (type(raw_data_20[name][i])==type(str()) and type(raw_data_20[h_list[j]][i])!=type(str())) : \n",
        "      temp.append(raw_data_20[h_list[j]][i])\n",
        "    elif (type(raw_data_20[name][i])!=type(str()) and type(raw_data_20[h_list[j]][i])==type(str())) : \n",
        "      temp.append(raw_data_20[name][i])\n",
        "    elif (type(raw_data_20[name][i])==type(str()) and type(raw_data_20[h_list[j]][i])==type(str())) : \n",
        "      temp.append(\"No\")\n",
        "    else : \n",
        "      avg = (raw_data_20[name][i]+raw_data_20[h_list[j]][i])/2\n",
        "      temp.append(avg)\n",
        "    j += 1\n",
        "  en_list.append(temp)"
      ]
    },
    {
      "cell_type": "code",
      "execution_count": null,
      "metadata": {
        "id": "hQKH9gPed4ow"
      },
      "outputs": [],
      "source": [
        "raw_data_20[['전문성_평균평점', '리더십_평균평점', '부하육성_평균평점', '관계관리_평균평점', '조직비전_평균평점', '직책수행능력_평균평점', '조직내 필요성_평균평점', '동반자 의식_평균평점']] = en_list\n",
        "raw_data_20 = raw_data_20.drop(f_list, axis=1)\n",
        "raw_data_20 = raw_data_20.drop(h_list, axis=1)"
      ]
    },
    {
      "cell_type": "code",
      "execution_count": null,
      "metadata": {
        "id": "rVbyO9QLd4ow"
      },
      "outputs": [],
      "source": [
        "tmp = pd.DataFrame(columns=raw_data_20.columns)\n",
        "for name in sen_2020 : \n",
        "  temp = raw_data_20.loc[raw_data_20['사번']==name]\n",
        "  tmp = pd.concat([tmp, temp], ignore_index=True, axis=0)"
      ]
    },
    {
      "cell_type": "code",
      "execution_count": null,
      "metadata": {
        "id": "4YmbOuyAd4ow"
      },
      "outputs": [],
      "source": [
        "tmp = tmp.join(sentiment_2020.set_index('사번')['직책수행능력'], on='사번')\n",
        "tmp = tmp.join(sentiment_2020.set_index('사번')['조직내 필요성'], on='사번')\n",
        "tmp = tmp.join(sentiment_2020.set_index('사번')['동반자 의식'], on='사번')"
      ]
    },
    {
      "cell_type": "code",
      "execution_count": null,
      "metadata": {
        "colab": {
          "base_uri": "https://localhost:8080/"
        },
        "id": "mpnUcO-1d4ow",
        "outputId": "ca31e870-b4db-4b6a-b267-64057a700f41"
      },
      "outputs": [],
      "source": [
        "data_2020 = tmp\n",
        "print(len(data_2020))"
      ]
    },
    {
      "cell_type": "code",
      "execution_count": null,
      "metadata": {
        "id": "Wk97PiZemJRO"
      },
      "outputs": [],
      "source": [
        "temp_20 = raw_data_20\n",
        "b = data_2020['사번'].tolist()\n",
        "\n",
        "for i in range(len(raw_data_20)) : \n",
        "  if(raw_data_20['사번'][i] in b) : \n",
        "    temp_20 = temp_20.drop([i], axis=0)\n",
        "\n",
        "temp_20 = temp_20.loc[temp_20['당년 역량평가등급']!='미입사']\n",
        "temp_20 = temp_20.loc[temp_20['당년 역량평가등급']!='미평가']"
      ]
    },
    {
      "cell_type": "code",
      "execution_count": null,
      "metadata": {
        "id": "oPK8duTad4ow"
      },
      "outputs": [],
      "source": [
        "table = []\n",
        "\n",
        "for i in range(len(raw_data_20)) : \n",
        "  sen = []\n",
        "  if (raw_data_20['사번'][i] in data_2020['사번'].unique()) : \n",
        "    temp = data_2020.loc[data_2020['사번']==raw_data_20['사번'][i]].reset_index(drop=True)\n",
        "    sen.append(temp['직책수행능력'][0])\n",
        "    sen.append(temp['조직내 필요성'][0])\n",
        "    sen.append(temp['동반자 의식'][0])\n",
        "  else : \n",
        "    sen.append('No')\n",
        "    sen.append('No')\n",
        "    sen.append('No')\n",
        "  table.append(sen)"
      ]
    },
    {
      "cell_type": "code",
      "execution_count": null,
      "metadata": {
        "id": "c4DyyrKFd4ow"
      },
      "outputs": [],
      "source": [
        "raw_data_20[['직책수행능력', '조직내 필요성', '동반자 의식']] = table"
      ]
    },
    {
      "cell_type": "code",
      "execution_count": null,
      "metadata": {
        "id": "Ag9DXG5X9n1p"
      },
      "outputs": [],
      "source": [
        "raw_data_21['전공'] = major['대분류']"
      ]
    },
    {
      "cell_type": "code",
      "execution_count": null,
      "metadata": {
        "id": "lzehEBNKfpwB"
      },
      "outputs": [],
      "source": [
        "tmp = pd.DataFrame(columns=raw_data_21.columns)\n",
        "for name in sen_2021 : \n",
        "  temp = raw_data_21.loc[raw_data_21['사번']==name]\n",
        "  tmp = pd.concat([tmp, temp], ignore_index=True, axis=0)"
      ]
    },
    {
      "cell_type": "code",
      "execution_count": null,
      "metadata": {
        "id": "jhiIOXmdfpwB"
      },
      "outputs": [],
      "source": [
        "tmp = tmp.join(sentiment_2021.set_index('사번')['직책수행능력'], on='사번')\n",
        "tmp = tmp.join(sentiment_2021.set_index('사번')['조직내 필요성'], on='사번')\n",
        "tmp = tmp.join(sentiment_2021.set_index('사번')['동반자 의식'], on='사번')"
      ]
    },
    {
      "cell_type": "code",
      "execution_count": null,
      "metadata": {
        "colab": {
          "base_uri": "https://localhost:8080/"
        },
        "id": "eywTlOuhfpwB",
        "outputId": "34b22fe6-bf05-4aee-bdbf-6cd25ab36539"
      },
      "outputs": [],
      "source": [
        "data_2021 = tmp\n",
        "print(len(data_2021))"
      ]
    },
    {
      "cell_type": "code",
      "execution_count": null,
      "metadata": {
        "id": "vvP6_abRnIos"
      },
      "outputs": [],
      "source": [
        "temp_21 = raw_data_21\n",
        "b = data_2021['사번'].tolist()\n",
        "\n",
        "for i in range(len(raw_data_21)) : \n",
        "  if(raw_data_21['사번'][i] in b) : \n",
        "    temp_21 = temp_21.drop([i], axis=0)\n",
        "\n",
        "temp_21 = temp_21.loc[temp_21['전문성_평균평점']!='미입사']\n",
        "temp_21 = temp_21.loc[temp_21['전문성_평균평점']!='미평가']"
      ]
    },
    {
      "cell_type": "code",
      "execution_count": null,
      "metadata": {
        "id": "TzGMKdWUfpwC"
      },
      "outputs": [],
      "source": [
        "table = []\n",
        "\n",
        "for i in range(len(raw_data_21)) : \n",
        "  sen = []\n",
        "  if (raw_data_21['사번'][i] in data_2021['사번'].unique()) : \n",
        "    temp = data_2021.loc[data_2021['사번']==raw_data_21['사번'][i]].reset_index(drop=True)\n",
        "    sen.append(temp['직책수행능력'][0])\n",
        "    sen.append(temp['조직내 필요성'][0])\n",
        "    sen.append(temp['동반자 의식'][0])\n",
        "  else : \n",
        "    sen.append('No')\n",
        "    sen.append('No')\n",
        "    sen.append('No')\n",
        "  table.append(sen)"
      ]
    },
    {
      "cell_type": "code",
      "execution_count": null,
      "metadata": {
        "id": "8nDqf0wyfpwC"
      },
      "outputs": [],
      "source": [
        "raw_data_21[['직책수행능력', '조직내 필요성', '동반자 의식']] = table"
      ]
    },
    {
      "cell_type": "code",
      "execution_count": null,
      "metadata": {
        "id": "LCGD9srCRgyk"
      },
      "outputs": [],
      "source": [
        "metric_feature = ['전문성_평균평점', '리더십_평균평점', '부하육성_평균평점', '관계관리_평균평점',\n",
        "       '조직비전_평균평점', '직책수행능력_평균평점', '조직내 필요성_평균평점', '동반자 의식_평균평점']\n",
        "\n",
        "temp_19 = temp_19.drop(metric_feature, axis=1)\n",
        "temp_20 = temp_20.drop(metric_feature, axis=1)\n",
        "temp_21 = temp_21.drop(metric_feature, axis=1)"
      ]
    },
    {
      "cell_type": "code",
      "execution_count": null,
      "metadata": {
        "id": "3AyvZKBkBqrz"
      },
      "outputs": [],
      "source": [
        "data_2019 = data_2019.sort_values(by='사번')\n",
        "data_2020 = data_2020.sort_values(by='사번')\n",
        "data_2021 = data_2021.sort_values(by='사번')"
      ]
    },
    {
      "cell_type": "code",
      "execution_count": null,
      "metadata": {
        "id": "GzwiZjOqSePg"
      },
      "outputs": [],
      "source": [
        "temp_19 = temp_19.sort_values(by='사번')\n",
        "temp_20 = temp_20.sort_values(by='사번')\n",
        "temp_21 = temp_21.sort_values(by='사번')"
      ]
    },
    {
      "cell_type": "code",
      "execution_count": null,
      "metadata": {
        "colab": {
          "base_uri": "https://localhost:8080/"
        },
        "id": "-5S09-0XTdix",
        "outputId": "92f2ab2e-1af4-42ea-b46a-adeb0bc38039"
      },
      "outputs": [],
      "source": [
        "user_data_19 = data_2019['사번'].tolist()\n",
        "user_temp_19 = temp_19['사번'].tolist()\n",
        "user_all_19 = raw_data_19['사번'].tolist()\n",
        "\n",
        "\n",
        "user_all_19 = [x for x in user_all_19 if x not in user_data_19]\n",
        "user_all_19 = [x for x in user_all_19 if x not in user_temp_19]\n",
        "\n",
        "print(len(user_all_19) + len(user_data_19) + len(user_temp_19))\n",
        "\n",
        "index_19 = []\n",
        "for i in range(len(raw_data_19)) :\n",
        "  for name in user_all_19 : \n",
        "    if raw_data_19['사번'][i]==name : \n",
        "      index_19.append(i)\n",
        "\n",
        "no_19 = raw_data_19.iloc[index_19]\n",
        "no_19 = no_19.drop(metric_feature, axis=1)\n",
        "no_19 = no_19.drop(['직책수행능력', '조직내 필요성', '동반자 의식'], axis=1)\n",
        "temp_19 = pd.concat([temp_19, no_19], axis=0)"
      ]
    },
    {
      "cell_type": "code",
      "execution_count": null,
      "metadata": {
        "colab": {
          "base_uri": "https://localhost:8080/"
        },
        "id": "_SrYCZ7aWhhh",
        "outputId": "061e46a8-e9df-4cef-d1ec-8dcc269aaea0"
      },
      "outputs": [],
      "source": [
        "user_data_20 = data_2020['사번'].tolist()\n",
        "user_temp_20 = temp_20['사번'].tolist()\n",
        "user_all_20 = raw_data_20['사번'].tolist()\n",
        "\n",
        "\n",
        "user_all_20 = [x for x in user_all_20 if x not in user_data_20]\n",
        "user_all_20 = [x for x in user_all_20 if x not in user_temp_20]\n",
        "\n",
        "print(len(user_all_20) + len(user_data_20) + len(user_temp_20))\n",
        "\n",
        "index_20 = []\n",
        "for i in range(len(raw_data_20)) :\n",
        "  for name in user_all_20 : \n",
        "    if raw_data_20['사번'][i]==name : \n",
        "      index_20.append(i)\n",
        "\n",
        "no_20 = raw_data_20.iloc[index_20]\n",
        "no_20 = no_20.drop(metric_feature, axis=1)\n",
        "no_20 = no_20.drop(['직책수행능력', '조직내 필요성', '동반자 의식'], axis=1)\n",
        "temp_20 = pd.concat([temp_20, no_20], axis=0)"
      ]
    },
    {
      "cell_type": "code",
      "execution_count": null,
      "metadata": {
        "colab": {
          "base_uri": "https://localhost:8080/"
        },
        "id": "dK-zSv54XNsX",
        "outputId": "006ca6dd-62e4-43c9-fe8d-c5cd0ccf86fa"
      },
      "outputs": [],
      "source": [
        "user_data_21 = data_2021['사번'].tolist()\n",
        "user_temp_21 = temp_21['사번'].tolist()\n",
        "user_all_21 = raw_data_21['사번'].tolist()\n",
        "\n",
        "\n",
        "user_all_21 = [x for x in user_all_21 if x not in user_data_21]\n",
        "user_all_21 = [x for x in user_all_21 if x not in user_temp_21]\n",
        "\n",
        "print(len(user_all_21) + len(user_data_21) + len(user_temp_21))\n",
        "\n",
        "index_21 = []\n",
        "for i in range(len(raw_data_21)) :\n",
        "  for name in user_all_21 : \n",
        "    if raw_data_21['사번'][i]==name : \n",
        "      index_21.append(i)\n",
        "\n",
        "no_21 = raw_data_21.iloc[index_21]\n",
        "no_21 = no_21.drop(metric_feature, axis=1)\n",
        "no_21 = no_21.drop(['직책수행능력', '조직내 필요성', '동반자 의식'], axis=1)\n",
        "temp_21 = pd.concat([temp_21, no_21], axis=0)"
      ]
    },
    {
      "cell_type": "code",
      "execution_count": null,
      "metadata": {
        "colab": {
          "base_uri": "https://localhost:8080/"
        },
        "id": "4JALtGrKwX8l",
        "outputId": "5dd2d1ff-7764-4a96-8f1f-5f6ed4d74f6b"
      },
      "outputs": [],
      "source": [
        "len(user_all_21)"
      ]
    },
    {
      "cell_type": "code",
      "execution_count": null,
      "metadata": {
        "id": "B9XTbnP8wH7Z"
      },
      "outputs": [],
      "source": [
        "raw_data_22 = pd.read_excel('/content/drive/My Drive/Colab Notebooks/NH농협캐피탈/추가데이터/NH농협캐피탈 데이터 작업_승진적합_1114.xlsx', sheet_name=3)"
      ]
    },
    {
      "cell_type": "code",
      "execution_count": null,
      "metadata": {
        "colab": {
          "base_uri": "https://localhost:8080/",
          "height": 849
        },
        "id": "lnsE9EdKhLfF",
        "outputId": "ffa23566-3ca4-41af-e2ab-1d18a9de3964"
      },
      "outputs": [],
      "source": [
        "raw_data_22"
      ]
    },
    {
      "cell_type": "code",
      "execution_count": null,
      "metadata": {
        "id": "iPlxsiicxSgu"
      },
      "outputs": [],
      "source": [
        "data_2022 = data_2021.copy()\n",
        "temp_22 = temp_21.copy()\n",
        "\n",
        "for name in raw_data_22.columns.tolist() : \n",
        "  if name != '사번' : \n",
        "    data_2022 = data_2022.join(raw_data_22.set_index('사번')[name], on='사번', rsuffix='_2022')\n",
        "    temp_22 = temp_22.join(raw_data_22.set_index('사번')[name], on='사번', rsuffix='_2022')\n",
        "\n",
        "# 21년 데이터는 제거하고 22년 데이터를 사용하되 교육점수, 교육 이수 여부에 대해서는 21년 데이터를 살리는 방향으로 구성"
      ]
    },
    {
      "cell_type": "code",
      "execution_count": null,
      "metadata": {
        "id": "c1dF-RkVdvlp"
      },
      "outputs": [],
      "source": [
        "data_2022 = data_2022[['사번','성명_2022', '연락처_2022', '이메일_2022', '생년월일_2022', '본부_2022', '실_2022', '팀_2022',\n",
        "       '직무_2022', '직급_2022', '직책_2022', '성별_2022', '연령_2022',\n",
        "       '당사근속기간(개월)_2022', '외부경력(개월)_2022', '총경력(개월)_2022', '현 직급 근속기간(연)_2022',\n",
        "       '이직횟수_2022', '입사경로_2022', '학력_2022', '전공', '거주지_2022',\n",
        "       '셀 참여횟수_2022', '봉사활동 참여횟수_2022', '직무관련자격증_2022', '수상횟수_2022',\n",
        "       '평균 교육점수', '교육 이수여부', '당년 역량평가등급_2022', '당년 업적평가등급_2022',\n",
        "       '역량평가등급(1년전)_2022', '역량평가등급(2년전)_2022', '업적평가등급(1년전)_2022',\n",
        "       '업적평가등급(2년전)_2022', '승진대상 후보여부_2022', '전문성_평균평점', '리더십_평균평점',\n",
        "       '부하육성_평균평점', '관계관리_평균평점', '조직비전_평균평점', '직책수행능력_평균평점', '조직내 필요성_평균평점',\n",
        "       '동반자 의식_평균평점', '직책수행능력', '조직내 필요성', '동반자 의식']]\n",
        "\n",
        "data_2022.columns = ['사번', '성명', '연락처', '이메일', '생년월일', '본부', '실', '팀', '직무', '직급', '직책', '성별',\n",
        "       '연령', '당사근속기간(개월)', '외부경력(개월)', '총경력(개월)', '현 직급 근속기간(연)', '이직횟수',\n",
        "       '입사경로', '학력', '전공', '거주지', '셀 참여횟수', '봉사활동 참여횟수', '직무관련자격증', '수상횟수',\n",
        "       '평균 교육점수', '교육 이수여부', '당년 역량평가등급', '당년 업적평가등급', '역량평가등급(1년전)',\n",
        "       '역량평가등급(2년전)', '업적평가등급(1년전)', '업적평가등급(2년전)', '승진대상 후보여부', '전문성_평균평점', '리더십_평균평점',\n",
        "       '부하육성_평균평점', '관계관리_평균평점', '조직비전_평균평점', '직책수행능력_평균평점', '조직내 필요성_평균평점',\n",
        "       '동반자 의식_평균평점', '직책수행능력', '조직내 필요성', '동반자 의식']"
      ]
    },
    {
      "cell_type": "code",
      "execution_count": null,
      "metadata": {
        "id": "BL2FPoIejz63"
      },
      "outputs": [],
      "source": [
        "temp_22 = temp_22[['사번','성명_2022', '연락처_2022', '이메일_2022', '생년월일_2022', '본부', '실', '팀',\n",
        "       '직무_2022', '직급_2022', '직책_2022', '성별_2022', '연령_2022',\n",
        "       '당사근속기간(개월)_2022', '외부경력(개월)_2022', '총경력(개월)_2022', '현 직급 근속기간(연)_2022',\n",
        "       '이직횟수_2022', '입사경로_2022', '학력_2022', '전공', '거주지_2022',\n",
        "       '셀 참여횟수_2022', '봉사활동 참여횟수_2022', '직무관련자격증_2022', '수상횟수_2022',\n",
        "       '평균 교육점수', '교육 이수여부', '당년 역량평가등급_2022', '당년 업적평가등급_2022',\n",
        "       '역량평가등급(1년전)_2022', '역량평가등급(2년전)_2022', '업적평가등급(1년전)_2022',\n",
        "       '업적평가등급(2년전)_2022', '승진대상 후보여부_2022']]\n",
        "\n",
        "temp_22.columns = ['사번', '성명', '연락처', '이메일', '생년월일', '본부', '실', '팀', '직무', '직급', '직책', '성별',\n",
        "       '연령', '당사근속기간(개월)', '외부경력(개월)', '총경력(개월)', '현 직급 근속기간(연)', '이직횟수',\n",
        "       '입사경로', '학력', '전공', '거주지', '셀 참여횟수', '봉사활동 참여횟수', '직무관련자격증', '수상횟수',\n",
        "       '평균 교육점수', '교육 이수여부', '당년 역량평가등급', '당년 업적평가등급', '역량평가등급(1년전)',\n",
        "       '역량평가등급(2년전)', '업적평가등급(1년전)', '업적평가등급(2년전)', '승진대상 후보여부']"
      ]
    },
    {
      "cell_type": "code",
      "execution_count": null,
      "metadata": {
        "id": "Ceg2TwPV1rlA"
      },
      "outputs": [],
      "source": [
        "data_2019.to_excel('/content/drive/My Drive/Colab Notebooks/NH농협캐피탈/승진적합/promotion_subject_19.xlsx', index=False)\n",
        "data_2020.to_excel('/content/drive/My Drive/Colab Notebooks/NH농협캐피탈/승진적합/promotion_subject_20.xlsx', index=False)\n",
        "data_2021.to_excel('/content/drive/My Drive/Colab Notebooks/NH농협캐피탈/승진적합/promotion_subject_21.xlsx', index=False)\n",
        "data_2022.to_excel('/content/drive/My Drive/Colab Notebooks/NH농협캐피탈/승진적합/promotion_subject_22.xlsx', index=False)"
      ]
    },
    {
      "cell_type": "code",
      "execution_count": null,
      "metadata": {
        "id": "_1-zqT0rTn--"
      },
      "outputs": [],
      "source": [
        "mind = pd.read_excel('/content/drive/My Drive/Colab Notebooks/NH농협캐피탈/dataset/인적성 검사 데이터_1117.xlsx')"
      ]
    },
    {
      "cell_type": "code",
      "execution_count": null,
      "metadata": {
        "id": "Ct4q_48vT0ix"
      },
      "outputs": [],
      "source": [
        "mind_data = mind.copy()\n",
        "temp_19_m = temp_19.copy()\n",
        "temp_20_m = temp_20.copy()\n",
        "temp_21_m = temp_21.copy()\n",
        "temp_22_m = temp_22.copy()"
      ]
    },
    {
      "cell_type": "code",
      "execution_count": null,
      "metadata": {
        "id": "K9xjM1E5URws"
      },
      "outputs": [],
      "source": [
        "mind_feature = ['긍정성', '적극성', '성실성', '사회성', '정체성', '관계성', '객관성',\n",
        "       '비활성', '과활성', '자기긍정', '기회긍정', '환경긍정', '성취추구', '인정추구', '성장추구', '점검행동',\n",
        "       '조절행동', '유지행동', '감정인식', '맥락이해', '관계대응', '성찰성', '수용성', '능동성', '공감성',\n",
        "       '우호성', '협력성', '도덕성', '정직성', '책임성', '우울성(저항성)', '부정성(저항성)', '태만성(저항성)', '불안성(저항성)', '충동성(저항성)',\n",
        "       '공격성(저항성)', '역량 평균']\n",
        "\n",
        "for name in mind_feature : \n",
        "  temp_19_m = temp_19_m.join(mind_data.set_index('이메일')[name], on='이메일')\n",
        "  temp_20_m = temp_20_m.join(mind_data.set_index('이메일')[name], on='이메일')\n",
        "  temp_21_m = temp_21_m.join(mind_data.set_index('이메일')[name], on='이메일')\n",
        "  temp_22_m = temp_22_m.join(mind_data.set_index('이메일')[name], on='이메일')"
      ]
    },
    {
      "cell_type": "code",
      "execution_count": null,
      "metadata": {
        "id": "0-2xtbEtWoCS"
      },
      "outputs": [],
      "source": [
        "temp_19_m.to_excel('/content/drive/My Drive/Colab Notebooks/NH농협캐피탈/승진적합/promotion_mind_19.xlsx', index=False)\n",
        "temp_20_m.to_excel('/content/drive/My Drive/Colab Notebooks/NH농협캐피탈/승진적합/promotion_mind_20.xlsx', index=False)\n",
        "temp_21_m.to_excel('/content/drive/My Drive/Colab Notebooks/NH농협캐피탈/승진적합/promotion_mind_21.xlsx', index=False)\n",
        "temp_22_m.to_excel('/content/drive/My Drive/Colab Notebooks/NH농협캐피탈/승진적합/promotion_mind_22.xlsx', index=False)"
      ]
    }
  ],
  "metadata": {
    "colab": {
      "provenance": []
    },
    "kernelspec": {
      "display_name": "Python 3",
      "name": "python3"
    },
    "language_info": {
      "name": "python"
    }
  },
  "nbformat": 4,
  "nbformat_minor": 0
}
