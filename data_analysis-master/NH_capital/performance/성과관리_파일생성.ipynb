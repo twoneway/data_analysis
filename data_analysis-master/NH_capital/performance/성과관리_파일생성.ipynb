{
  "cells": [
    {
      "cell_type": "code",
      "execution_count": null,
      "metadata": {
        "colab": {
          "base_uri": "https://localhost:8080/"
        },
        "id": "tuhMeYiSe0Jt",
        "outputId": "ec14e681-f4b9-4a74-ed81-d2c909cea3b3"
      },
      "outputs": [],
      "source": [
        "from google.colab import drive\n",
        "drive.mount('/content/drive')"
      ]
    },
    {
      "cell_type": "code",
      "execution_count": null,
      "metadata": {
        "colab": {
          "base_uri": "https://localhost:8080/"
        },
        "id": "BGQw_tHXe5aA",
        "outputId": "fce06010-2a57-4f1a-82a0-d10ed7925cab"
      },
      "outputs": [],
      "source": [
        "!sudo apt-get install -y fonts-nanum\n",
        "!sudo fc-cache -fv\n",
        "!rm ~/.cache/matplotlib -rf"
      ]
    },
    {
      "cell_type": "code",
      "execution_count": null,
      "metadata": {
        "colab": {
          "base_uri": "https://localhost:8080/"
        },
        "id": "ry9oexawknSH",
        "outputId": "acfbce3e-7abe-43ba-8440-eaf356f15b07"
      },
      "outputs": [],
      "source": [
        "!pip install konlpy"
      ]
    },
    {
      "cell_type": "code",
      "execution_count": null,
      "metadata": {
        "id": "60Hbeml0e60a"
      },
      "outputs": [],
      "source": [
        "import pandas as pd \n",
        "import numpy as np\n",
        "import re\n",
        "import matplotlib.pyplot as plt\n",
        "import seaborn as sns\n",
        "from plotly.offline import init_notebook_mode, plot, iplot\n",
        "import plotly.graph_objs as go\n",
        "from pandas.api.types import is_numeric_dtype\n",
        "from pandas.api.types import is_string_dtype"
      ]
    },
    {
      "cell_type": "code",
      "execution_count": null,
      "metadata": {
        "id": "dADM13-TfW65"
      },
      "outputs": [],
      "source": [
        "import nltk\n",
        "from konlpy.tag import Okt\n",
        "from wordcloud import WordCloud\n",
        "from collections import defaultdict\n",
        "from collections import Counter\n",
        "from nltk.corpus import stopwords"
      ]
    },
    {
      "cell_type": "code",
      "execution_count": null,
      "metadata": {
        "id": "zTBEE0M-e9n4"
      },
      "outputs": [],
      "source": [
        "plt.rc('font', family='NanumBarunGothic') "
      ]
    },
    {
      "cell_type": "code",
      "execution_count": null,
      "metadata": {
        "id": "pMt16ROie-nH"
      },
      "outputs": [],
      "source": [
        "raw_data_19 = pd.read_excel('/content/drive/My Drive/Colab Notebooks/NH농협캐피탈/추가데이터/NH농협캐피탈 데이터 작업_성과관리_1111.xlsx', sheet_name=0)\n",
        "major = pd.read_excel('/content/drive/My Drive/Colab Notebooks/NH농협캐피탈/dataset/전공 대분류.xlsx')"
      ]
    },
    {
      "cell_type": "code",
      "execution_count": null,
      "metadata": {
        "id": "2rwqG1qx9cK8"
      },
      "outputs": [],
      "source": [
        "raw_data_19['전공'] = major['대분류']"
      ]
    },
    {
      "cell_type": "code",
      "execution_count": null,
      "metadata": {
        "colab": {
          "base_uri": "https://localhost:8080/",
          "height": 1000
        },
        "id": "kh76eTXyhPI2",
        "outputId": "df791b92-08bb-4c82-f93f-f64085ece89a"
      },
      "outputs": [],
      "source": [
        "raw_data_20 = pd.read_excel('/content/drive/My Drive/Colab Notebooks/NH농협캐피탈/추가데이터/NH농협캐피탈 데이터 작업_성과관리_1111.xlsx', sheet_name=1)\n",
        "raw_data_21 = pd.read_excel('/content/drive/My Drive/Colab Notebooks/NH농협캐피탈/추가데이터/NH농협캐피탈 데이터 작업_성과관리_1111.xlsx', sheet_name=2)\n",
        "\n",
        "raw_data_19['셀 참여횟수'] = raw_data_19['셀 참여횟수'].fillna(0)\n",
        "raw_data_19['봉사활동 참여횟수'] = raw_data_19['봉사활동 참여횟수'].fillna(0)\n",
        "raw_data_20['셀 참여횟수'] = raw_data_20['셀 참여횟수'].fillna(0)\n",
        "raw_data_20['봉사활동 참여횟수'] = raw_data_20['봉사활동 참여횟수'].fillna(0)\n",
        "raw_data_21['셀 참여횟수'] = raw_data_21['셀 참여횟수'].fillna(0)\n",
        "raw_data_21['봉사활동 참여횟수'] = raw_data_21['봉사활동 참여횟수'].fillna(0)\n",
        "\n",
        "plt.rcParams[\"figure.figsize\"] = (10, 10)\n",
        "plt.rcParams.update({'font.size': 15})\n",
        "\n",
        "fig, axes = plt.subplots(2, 3)\n",
        "axes[0, 0].set_xlabel(\"2019\")\n",
        "axes[0, 1].set_xlabel(\"2020\")\n",
        "axes[0, 2].set_xlabel(\"2021\")\n",
        "axes[1, 0].set_xlabel(\"2019\")\n",
        "axes[1, 1].set_xlabel(\"2020\")\n",
        "axes[1, 2].set_xlabel(\"2021\")\n",
        "axes[0,0].set_ylabel(\"셀 참여횟수\")\n",
        "axes[0,1].set_ylabel(\" \")\n",
        "axes[0,2].set_ylabel(\" \")\n",
        "axes[1,0].set_ylabel(\"봉사활동 참여횟수\")\n",
        "axes[1,1].set_ylabel(\" \")\n",
        "axes[1,2].set_ylabel(\" \")\n",
        "\n",
        "sns.histplot(raw_data_19[\"셀 참여횟수\"], color=\"blue\", ax = axes[0, 0])\n",
        "sns.histplot(raw_data_19['봉사활동 참여횟수'], color=\"red\", ax = axes[1, 0])\n",
        "sns.histplot(raw_data_20[\"셀 참여횟수\"], color=\"blue\", ax = axes[0, 1])\n",
        "sns.histplot(raw_data_20['봉사활동 참여횟수'], color=\"red\", ax = axes[1, 1])\n",
        "sns.histplot(raw_data_21[\"셀 참여횟수\"], color=\"blue\", ax = axes[0, 2])\n",
        "sns.histplot(raw_data_21['봉사활동 참여횟수'], color=\"red\", ax = axes[1, 2])\n",
        "plt.show()"
      ]
    },
    {
      "cell_type": "code",
      "execution_count": null,
      "metadata": {
        "id": "ct8_XVh_fcpq"
      },
      "outputs": [],
      "source": [
        "sen1_data = pd.read_excel('/content/drive/My Drive/Colab Notebooks/NH농협캐피탈/dataset/sentiment_19년상.xlsx')\n",
        "sen2_data = pd.read_excel('/content/drive/My Drive/Colab Notebooks/NH농협캐피탈/dataset/sentiment_19년하.xlsx')\n",
        "sen3_data = pd.read_excel('/content/drive/My Drive/Colab Notebooks/NH농협캐피탈/dataset/sentiment_20년상.xlsx')\n",
        "sen4_data = pd.read_excel('/content/drive/My Drive/Colab Notebooks/NH농협캐피탈/dataset/sentiment_20년하.xlsx')\n",
        "sen5_data = pd.read_excel('/content/drive/My Drive/Colab Notebooks/NH농협캐피탈/dataset/sentiment_21년하.xlsx')"
      ]
    },
    {
      "cell_type": "code",
      "execution_count": null,
      "metadata": {
        "id": "nd9KDK4PlREY"
      },
      "outputs": [],
      "source": [
        "sen1 = sen1_data['사번'].unique()\n",
        "sen2 = sen2_data['사번'].unique()\n",
        "sen_2019 = list(set(np.append(sen1, sen2)))"
      ]
    },
    {
      "cell_type": "code",
      "execution_count": null,
      "metadata": {
        "id": "Re1Omj-ptojW"
      },
      "outputs": [],
      "source": [
        "sen3 = sen3_data['사번'].unique()\n",
        "sen4 = sen4_data['사번'].unique()\n",
        "sen_2020 = list(set(np.append(sen3, sen4)))"
      ]
    },
    {
      "cell_type": "code",
      "execution_count": null,
      "metadata": {
        "id": "pfQxP2sff5xM"
      },
      "outputs": [],
      "source": [
        "sen_2021 = sen5_data['사번'].unique()"
      ]
    },
    {
      "cell_type": "code",
      "execution_count": null,
      "metadata": {
        "colab": {
          "base_uri": "https://localhost:8080/",
          "height": 1000
        },
        "id": "ivEWxCyWjdXt",
        "outputId": "3f07c5a0-f386-4ed2-ddb3-1b9c8ee69a82"
      },
      "outputs": [],
      "source": [
        "fig, axes = plt.subplots(1, 3)\n",
        "fig.set_size_inches(12, 6)\n",
        "axes[0].set_ylim(0,50)\n",
        "axes[1].set_ylim(0,50)\n",
        "axes[2].set_ylim(0,50)\n",
        "sns.countplot(x='직책수행능력', data=sen1_data, ax=axes[0], order=['positive', 'neutral', 'negative'])\n",
        "sns.countplot(x='조직내 필요성', data=sen1_data, ax=axes[1], order=['positive', 'neutral', 'negative'])\n",
        "sns.countplot(x='동반자 의식', data=sen1_data, ax=axes[2], order=['positive', 'neutral', 'negative'])"
      ]
    },
    {
      "cell_type": "code",
      "execution_count": null,
      "metadata": {
        "colab": {
          "base_uri": "https://localhost:8080/",
          "height": 1000
        },
        "id": "czGS92k-jul5",
        "outputId": "065899ad-34cc-4e7c-e5ac-7dae29ffc037"
      },
      "outputs": [],
      "source": [
        "fig, axes = plt.subplots(1, 3)\n",
        "fig.set_size_inches(12, 6)\n",
        "axes[0].set_ylim(0,50)\n",
        "axes[1].set_ylim(0,50)\n",
        "axes[2].set_ylim(0,50)\n",
        "sns.countplot(x='직책수행능력', data=sen2_data, ax=axes[0], order=['positive', 'neutral', 'negative'])\n",
        "sns.countplot(x='조직내 필요성', data=sen2_data, ax=axes[1], order=['positive', 'neutral', 'negative'])\n",
        "sns.countplot(x='동반자 의식', data=sen2_data, ax=axes[2], order=['positive', 'neutral', 'negative'])"
      ]
    },
    {
      "cell_type": "code",
      "execution_count": null,
      "metadata": {
        "colab": {
          "base_uri": "https://localhost:8080/",
          "height": 1000
        },
        "id": "3U3y0tw7jvWD",
        "outputId": "ac9e4871-7c29-474a-d094-02ed0e7a232d"
      },
      "outputs": [],
      "source": [
        "fig, axes = plt.subplots(1, 3)\n",
        "fig.set_size_inches(12, 6)\n",
        "axes[0].set_ylim(0,50)\n",
        "axes[1].set_ylim(0,50)\n",
        "axes[2].set_ylim(0,50)\n",
        "sns.countplot(x='직책수행능력', data=sen3_data, ax=axes[0], order=['positive', 'neutral', 'negative'])\n",
        "sns.countplot(x='조직내 필요성', data=sen3_data, ax=axes[1], order=['positive', 'neutral', 'negative'])\n",
        "sns.countplot(x='동반자 의식', data=sen3_data, ax=axes[2], order=['positive', 'neutral', 'negative'])"
      ]
    },
    {
      "cell_type": "code",
      "execution_count": null,
      "metadata": {
        "colab": {
          "base_uri": "https://localhost:8080/",
          "height": 1000
        },
        "id": "QJ571wSGjvrB",
        "outputId": "18cd821f-b27b-4cab-f9f9-708d9c53fc6f"
      },
      "outputs": [],
      "source": [
        "fig, axes = plt.subplots(1, 3)\n",
        "fig.set_size_inches(12, 6)\n",
        "axes[0].set_ylim(0,50)\n",
        "axes[1].set_ylim(0,50)\n",
        "axes[2].set_ylim(0,50)\n",
        "sns.countplot(x='직책수행능력', data=sen4_data, ax=axes[0], order=['positive', 'neutral', 'negative'])\n",
        "sns.countplot(x='조직내 필요성', data=sen4_data, ax=axes[1], order=['positive', 'neutral', 'negative'])\n",
        "sns.countplot(x='동반자 의식', data=sen4_data, ax=axes[2], order=['positive', 'neutral', 'negative'])"
      ]
    },
    {
      "cell_type": "code",
      "execution_count": null,
      "metadata": {
        "colab": {
          "base_uri": "https://localhost:8080/",
          "height": 1000
        },
        "id": "WnARCWW5jv3H",
        "outputId": "5656d439-d83a-4890-ab18-5a9b31288438"
      },
      "outputs": [],
      "source": [
        "fig, axes = plt.subplots(1, 3)\n",
        "fig.set_size_inches(12, 6)\n",
        "axes[0].set_ylim(0,50)\n",
        "axes[1].set_ylim(0,50)\n",
        "axes[2].set_ylim(0,50)\n",
        "sns.countplot(x='직책수행능력', data=sen5_data, ax=axes[0], order=['positive', 'neutral', 'negative'])\n",
        "sns.countplot(x='조직내 필요성', data=sen5_data, ax=axes[1], order=['positive', 'neutral', 'negative'])\n",
        "sns.countplot(x='동반자 의식', data=sen5_data, ax=axes[2], order=['positive', 'neutral', 'negative'])"
      ]
    },
    {
      "cell_type": "code",
      "execution_count": null,
      "metadata": {
        "id": "qF9vyvLOoX-B"
      },
      "outputs": [],
      "source": [
        "sen1_data = sen1_data.replace('positive', 1)\n",
        "sen1_data = sen1_data.replace('negative', -1)\n",
        "sen1_data = sen1_data.replace('neutral', 0)"
      ]
    },
    {
      "cell_type": "code",
      "execution_count": null,
      "metadata": {
        "id": "db0yP7heouIr"
      },
      "outputs": [],
      "source": [
        "sen2_data = sen2_data.replace('positive', 1)\n",
        "sen2_data = sen2_data.replace('negative', -1)\n",
        "sen2_data = sen2_data.replace('neutral', 0)"
      ]
    },
    {
      "cell_type": "code",
      "execution_count": null,
      "metadata": {
        "id": "AqkISms8tVzo"
      },
      "outputs": [],
      "source": [
        "sen3_data = sen3_data.replace('positive', 1)\n",
        "sen3_data = sen3_data.replace('negative', -1)\n",
        "sen3_data = sen3_data.replace('neutral', 0)"
      ]
    },
    {
      "cell_type": "code",
      "execution_count": null,
      "metadata": {
        "id": "0RP1tVvZtWBB"
      },
      "outputs": [],
      "source": [
        "sen4_data = sen4_data.replace('positive', 1)\n",
        "sen4_data = sen4_data.replace('negative', -1)\n",
        "sen4_data = sen4_data.replace('neutral', 0)"
      ]
    },
    {
      "cell_type": "code",
      "execution_count": null,
      "metadata": {
        "id": "_-sqVYPatXm2"
      },
      "outputs": [],
      "source": [
        "sen5_data = sen5_data.replace('positive', 1)\n",
        "sen5_data = sen5_data.replace('negative', -1)\n",
        "sen5_data = sen5_data.replace('neutral', 0)"
      ]
    },
    {
      "cell_type": "code",
      "execution_count": null,
      "metadata": {
        "id": "JrEHj1fomckR"
      },
      "outputs": [],
      "source": [
        "con_list = []\n",
        "for name in sen_2019 : \n",
        "  temp_list = []\n",
        "  temp_list.append(name)\n",
        "  first = sen1_data.loc[sen1_data['사번']==name].reset_index(drop=True)\n",
        "  half = sen2_data.loc[sen2_data['사번']==name].reset_index(drop=True)\n",
        "  if (len(first)==0 and len(half)!=0) : \n",
        "    temp_list.append(half['직책수행능력'][0])\n",
        "    temp_list.append(half['조직내 필요성'][0])\n",
        "    temp_list.append(half['동반자 의식'][0])\n",
        "  elif (len(half)==0 and len(first)!=0) : \n",
        "    temp_list.append(first['직책수행능력'][0])\n",
        "    temp_list.append(first['조직내 필요성'][0])\n",
        "    temp_list.append(first['동반자 의식'][0])\n",
        "  else : \n",
        "    if (first['직책수행능력'][0]+half['직책수행능력'][0] > 0) : \n",
        "      temp_list.append(1)\n",
        "    elif (first['직책수행능력'][0]+half['직책수행능력'][0] < 0) : \n",
        "      temp_list.append(-1)\n",
        "    else : \n",
        "      temp_list.append(0)\n",
        "    \n",
        "    if (first['조직내 필요성'][0]+half['조직내 필요성'][0] > 0) : \n",
        "      temp_list.append(1)\n",
        "    elif (first['조직내 필요성'][0]+half['조직내 필요성'][0] < 0) : \n",
        "      temp_list.append(-1)\n",
        "    else : \n",
        "      temp_list.append(0)\n",
        "\n",
        "    if (first['동반자 의식'][0]+half['동반자 의식'][0] > 0) : \n",
        "      temp_list.append(1)\n",
        "    elif (first['동반자 의식'][0]+half['동반자 의식'][0] < 0) : \n",
        "      temp_list.append(-1)\n",
        "    else : \n",
        "      temp_list.append(0)\n",
        "\n",
        "  con_list.append(temp_list)\n",
        "\n",
        "sentiment_2019 = pd.DataFrame(con_list, columns=['사번', '직책수행능력', '조직내 필요성', '동반자 의식'])"
      ]
    },
    {
      "cell_type": "code",
      "execution_count": null,
      "metadata": {
        "id": "6ICbroZTtwwD"
      },
      "outputs": [],
      "source": [
        "con_list = []\n",
        "for name in sen_2020 : \n",
        "  temp_list = []\n",
        "  temp_list.append(name)\n",
        "  first = sen3_data.loc[sen3_data['사번']==name].reset_index(drop=True)\n",
        "  half = sen4_data.loc[sen4_data['사번']==name].reset_index(drop=True)\n",
        "  if (len(first)==0 and len(half)!=0) : \n",
        "    temp_list.append(half['직책수행능력'][0])\n",
        "    temp_list.append(half['조직내 필요성'][0])\n",
        "    temp_list.append(half['동반자 의식'][0])\n",
        "  elif (len(half)==0 and len(first)!=0) : \n",
        "    temp_list.append(first['직책수행능력'][0])\n",
        "    temp_list.append(first['조직내 필요성'][0])\n",
        "    temp_list.append(first['동반자 의식'][0])\n",
        "  else : \n",
        "    if (first['직책수행능력'][0]+half['직책수행능력'][0] > 0) : \n",
        "      temp_list.append(1)\n",
        "    elif (first['직책수행능력'][0]+half['직책수행능력'][0] < 0) : \n",
        "      temp_list.append(-1)\n",
        "    else : \n",
        "      temp_list.append(0)\n",
        "    \n",
        "    if (first['조직내 필요성'][0]+half['조직내 필요성'][0] > 0) : \n",
        "      temp_list.append(1)\n",
        "    elif (first['조직내 필요성'][0]+half['조직내 필요성'][0] < 0) : \n",
        "      temp_list.append(-1)\n",
        "    else : \n",
        "      temp_list.append(0)\n",
        "\n",
        "    if (first['동반자 의식'][0]+half['동반자 의식'][0] > 0) : \n",
        "      temp_list.append(1)\n",
        "    elif (first['동반자 의식'][0]+half['동반자 의식'][0] < 0) : \n",
        "      temp_list.append(-1)\n",
        "    else : \n",
        "      temp_list.append(0)\n",
        "\n",
        "  con_list.append(temp_list)\n",
        "\n",
        "sentiment_2020 = pd.DataFrame(con_list, columns=['사번', '직책수행능력', '조직내 필요성', '동반자 의식'])"
      ]
    },
    {
      "cell_type": "code",
      "execution_count": null,
      "metadata": {
        "id": "DuEgDRqgugj8"
      },
      "outputs": [],
      "source": [
        "sentiment_2021 = sen5_data"
      ]
    },
    {
      "cell_type": "code",
      "execution_count": null,
      "metadata": {
        "id": "jf4IZ1q29nJJ"
      },
      "outputs": [],
      "source": [
        "en_list = []\n",
        "\n",
        "f_list = ['전문성_평균평점_상반기', '리더십_평균평점_상반기', '부하육성_평균평점_상반기',\n",
        "       '관계관리_평균평점_상반기', '조직비전_평균평점_상반기', '직책수행능력_평균평점_상반기', '조직내 필요성_평균평점_상반기',\n",
        "       '동반자 의식_평균평점_상반기']\n",
        "h_list = ['전문성_평균평점_하반기', '리더십_평균평점_하반기', '부하육성_평균평점_하반기',\n",
        "       '관계관리_평균평점_하반기', '조직비전_평균평점_하반기', '직책수행능력_평균평점_하반기', '조직내 필요성_평균평점_하반기',\n",
        "       '동반자 의식_평균평점_하반기']\n",
        "\n",
        "for i in range(len(raw_data_19)) : \n",
        "  temp = [] \n",
        "  j = 0\n",
        "  for name in f_list : \n",
        "    if (type(raw_data_19[name][i])==type(str()) and type(raw_data_19[h_list[j]][i])!=type(str())) : \n",
        "      temp.append(raw_data_19[h_list[j]][i])\n",
        "    elif (type(raw_data_19[name][i])!=type(str()) and type(raw_data_19[h_list[j]][i])==type(str())) : \n",
        "      temp.append(raw_data_19[name][i])\n",
        "    elif (type(raw_data_19[name][i])==type(str()) and type(raw_data_19[h_list[j]][i])==type(str())) : \n",
        "      temp.append(\"No\")\n",
        "    else : \n",
        "      avg = (raw_data_19[name][i]+raw_data_19[h_list[j]][i])/2\n",
        "      temp.append(avg)\n",
        "    j += 1\n",
        "  en_list.append(temp)"
      ]
    },
    {
      "cell_type": "code",
      "execution_count": null,
      "metadata": {
        "id": "F4TGZjjkXXQe"
      },
      "outputs": [],
      "source": [
        "raw_data_19[['전문성_평균평점', '리더십_평균평점', '부하육성_평균평점', '관계관리_평균평점', '조직비전_평균평점', '직책수행능력_평균평점', '조직내 필요성_평균평점', '동반자 의식_평균평점']] = en_list\n",
        "raw_data_19 = raw_data_19.drop(f_list, axis=1)\n",
        "raw_data_19 = raw_data_19.drop(h_list, axis=1)"
      ]
    },
    {
      "cell_type": "code",
      "execution_count": null,
      "metadata": {
        "id": "-9pcHaIquw4b"
      },
      "outputs": [],
      "source": [
        "tmp = pd.DataFrame(columns=raw_data_19.columns)\n",
        "for name in sen_2019 : \n",
        "  temp = raw_data_19.loc[raw_data_19['사번']==name]\n",
        "  tmp = pd.concat([tmp, temp], ignore_index=True, axis=0)"
      ]
    },
    {
      "cell_type": "code",
      "execution_count": null,
      "metadata": {
        "id": "yj7QUY2S1M_r"
      },
      "outputs": [],
      "source": [
        "tmp = tmp.join(sentiment_2019.set_index('사번')['직책수행능력'], on='사번')\n",
        "tmp = tmp.join(sentiment_2019.set_index('사번')['조직내 필요성'], on='사번')\n",
        "tmp = tmp.join(sentiment_2019.set_index('사번')['동반자 의식'], on='사번')"
      ]
    },
    {
      "cell_type": "code",
      "execution_count": null,
      "metadata": {
        "colab": {
          "base_uri": "https://localhost:8080/"
        },
        "id": "muHAjyBS2fBF",
        "outputId": "18759920-e971-4fb6-a501-35e19011d90b"
      },
      "outputs": [],
      "source": [
        "data_2019 = tmp\n",
        "print(len(data_2019))"
      ]
    },
    {
      "cell_type": "code",
      "execution_count": null,
      "metadata": {
        "id": "-l_UQJiMcGmV"
      },
      "outputs": [],
      "source": [
        "temp_19 = raw_data_19\n",
        "b = data_2019['사번'].tolist()\n",
        "\n",
        "for i in range(len(raw_data_19)) : \n",
        "  if(raw_data_19['사번'][i] in b) : \n",
        "    temp_19 = temp_19.drop([i], axis=0)\n",
        "\n",
        "temp_19 = temp_19.loc[temp_19['역량평가등급']!='미입사']\n",
        "temp_19 = temp_19.loc[temp_19['역량평가등급']!='미평가']"
      ]
    },
    {
      "cell_type": "code",
      "execution_count": null,
      "metadata": {
        "colab": {
          "base_uri": "https://localhost:8080/",
          "height": 542
        },
        "id": "SJvRmu9wiR3o",
        "outputId": "dec75838-c15f-4e43-bb87-33be1265b3c2"
      },
      "outputs": [],
      "source": [
        "# feature 유형에 따른 데이터 분포 시각화\n",
        "sort = pd.DataFrame({'S':[5],'A':[4],'B':[3],'C':[2],'D':[1]}).T\n",
        "\n",
        "data = temp_19['역량평가등급'].value_counts().sort_values(ascending=False)\n",
        "data1 = pd.concat([pd.DataFrame(data),sort],axis=1).sort_values(by=0,ascending=False)\n",
        "\n",
        "if (temp_19['역량평가등급'].dtypes=='object') : \n",
        "  # barplot\n",
        "  trace = go.Bar(x = data1.index,\n",
        "                text = ['{:.1f} %'.format(val) for val in (data1['역량평가등급'].values / temp_19.shape[0] * 100)],\n",
        "                textposition = 'auto',\n",
        "                textfont = dict(color = '#000000'),\n",
        "                y = data1['역량평가등급'].values,\n",
        "                )\n",
        "  # Create layout\n",
        "  layout = dict(title = 'Distribution Of {}'.format('역량평가등급'),\n",
        "                xaxis = dict(title = '역량평가등급'),\n",
        "                yaxis = dict(title = 'Count'))\n",
        "  # Create plot\n",
        "  fig = go.Figure(data=[trace], layout=layout)\n",
        "  iplot(fig)\n",
        "else : \n",
        "  # histplot\n",
        "  trace = go.Box(y=temp_19['역량평가등급'], name=\"Boxplot\", jitter=0.3, pointpos=-1.8, boxpoints='all')\n",
        "  # Create layout\n",
        "  layout = dict(title = 'Distribution Of {}'.format('역량평가등급'),\n",
        "                xaxis = dict(title = '역량평가등급'),\n",
        "                yaxis = dict(title = 'Count'))\n",
        "  # Create plot\n",
        "  fig = go.Figure(data=[trace], layout=layout)\n",
        "  iplot(fig)"
      ]
    },
    {
      "cell_type": "code",
      "execution_count": null,
      "metadata": {
        "colab": {
          "base_uri": "https://localhost:8080/",
          "height": 542
        },
        "id": "2g1w-3h0khvI",
        "outputId": "f4e5862b-54d1-4537-abc5-6938d61926b9"
      },
      "outputs": [],
      "source": [
        "sort = pd.DataFrame({'S':[5],'A':[4],'B':[3],'C':[2],'D':[1]}).T\n",
        "\n",
        "data = temp_19['업적평가등급'].value_counts().sort_values(ascending=False)\n",
        "data1 = pd.concat([pd.DataFrame(data),sort],axis=1).sort_values(by=0,ascending=False)\n",
        "\n",
        "if (temp_19['업적평가등급'].dtypes=='object') : \n",
        "  # barplot\n",
        "  trace = go.Bar(x = data1.index,\n",
        "                text = ['{:.1f} %'.format(val) for val in (data1['업적평가등급'].values / temp_19.shape[0] * 100)],\n",
        "                textposition = 'auto',\n",
        "                textfont = dict(color = '#000000'),\n",
        "                y = data1['업적평가등급'].values,\n",
        "                )\n",
        "  # Create layout\n",
        "  layout = dict(title = 'Distribution Of {}'.format('업적평가등급'),\n",
        "                xaxis = dict(title = '업적평가등급'),\n",
        "                yaxis = dict(title = 'Count'))\n",
        "  # Create plot\n",
        "  fig = go.Figure(data=[trace], layout=layout)\n",
        "  iplot(fig)\n",
        "else : \n",
        "  # histplot\n",
        "  trace = go.Box(y=temp_19['업적평가등급'], name=\"Boxplot\", jitter=0.3, pointpos=-1.8, boxpoints='all')\n",
        "  # Create layout\n",
        "  layout = dict(title = 'Distribution Of {}'.format('업적평가등급'),\n",
        "                xaxis = dict(title = '업적평가등급'),\n",
        "                yaxis = dict(title = 'Count'))\n",
        "  # Create plot\n",
        "  fig = go.Figure(data=[trace], layout=layout)\n",
        "  iplot(fig)"
      ]
    },
    {
      "cell_type": "code",
      "execution_count": null,
      "metadata": {
        "colab": {
          "base_uri": "https://localhost:8080/"
        },
        "id": "RQC8jkE0pMrt",
        "outputId": "35dfb11b-0917-45c5-fe85-f933896fffca"
      },
      "outputs": [],
      "source": [
        "print(temp_19['셀 참여횟수'].value_counts())"
      ]
    },
    {
      "cell_type": "code",
      "execution_count": null,
      "metadata": {
        "colab": {
          "base_uri": "https://localhost:8080/",
          "height": 542
        },
        "id": "sJRR1P5XpMru",
        "outputId": "5795bcc5-fd44-40b5-dff0-7fe3d656ff8b"
      },
      "outputs": [],
      "source": [
        "sort = pd.DataFrame({'S':[5],'A':[4],'B':[3],'C':[2],'D':[1]}).T\n",
        "\n",
        "data = temp_19['금년 교육이수 여부'].value_counts().sort_values(ascending=False)\n",
        "\n",
        "if (temp_19['금년 교육이수 여부'].dtypes=='object') : \n",
        "  # barplot\n",
        "  trace = go.Bar(x = data.index,\n",
        "                text = ['{:.1f} %'.format(val) for val in (data.values / temp_19.shape[0] * 100)],\n",
        "                textposition = 'auto',\n",
        "                textfont = dict(color = '#000000'),\n",
        "                y = data.values,\n",
        "                )\n",
        "  # Create layout\n",
        "  layout = dict(title = 'Distribution Of {}'.format('금년 교육이수 여부'),\n",
        "                xaxis = dict(title = '금년 교육이수 여부'),\n",
        "                yaxis = dict(title = 'Count'))\n",
        "  # Create plot\n",
        "  fig = go.Figure(data=[trace], layout=layout)\n",
        "  iplot(fig)\n",
        "else : \n",
        "  # histplot\n",
        "  trace = go.Box(y=temp_19['금년 교육이수 여부'], name=\"Boxplot\", jitter=0.3, pointpos=-1.8, boxpoints='all')\n",
        "  # Create layout\n",
        "  layout = dict(title = 'Distribution Of {}'.format('금년 교육이수 여부'),\n",
        "                xaxis = dict(title = '금년 교육이수 여부'),\n",
        "                yaxis = dict(title = 'Count'))\n",
        "  # Create plot\n",
        "  fig = go.Figure(data=[trace], layout=layout)\n",
        "  iplot(fig)"
      ]
    },
    {
      "cell_type": "code",
      "execution_count": null,
      "metadata": {
        "colab": {
          "base_uri": "https://localhost:8080/",
          "height": 1000
        },
        "id": "5of_KWF-22Np",
        "outputId": "0f4809a3-b60c-40a5-f531-f8c54bbf229b"
      },
      "outputs": [],
      "source": [
        "from plotly.subplots import make_subplots\n",
        "\n",
        "fig, axes = plt.subplots(1, 3)\n",
        "fig.set_size_inches(20, 10)\n",
        "axes[0].set_ylim(0,25)\n",
        "axes[1].set_ylim(0,25)\n",
        "axes[2].set_ylim(0,25)\n",
        "sns.countplot(x='직책수행능력', data=data_2019, hue='역량평가등급', ax=axes[0], hue_order=['S', 'A','B','C','D'])\n",
        "sns.countplot(x='조직내 필요성', data=data_2019, hue='역량평가등급', ax=axes[1],  hue_order=['S', 'A','B','C','D'])\n",
        "sns.countplot(x='동반자 의식', data=data_2019, hue='역량평가등급', ax=axes[2],  hue_order=['S', 'A','B','C','D'])"
      ]
    },
    {
      "cell_type": "code",
      "execution_count": null,
      "metadata": {
        "colab": {
          "base_uri": "https://localhost:8080/",
          "height": 1000
        },
        "id": "RVC6H5c-pNFL",
        "outputId": "f3f34204-34dd-4c59-9783-23f806502c7b"
      },
      "outputs": [],
      "source": [
        "from plotly.subplots import make_subplots\n",
        "\n",
        "fig, axes = plt.subplots(1, 3)\n",
        "fig.set_size_inches(20, 10)\n",
        "axes[0].set_ylim(0,25)\n",
        "axes[1].set_ylim(0,25)\n",
        "axes[2].set_ylim(0,25)\n",
        "sns.countplot(x='직책수행능력', data=data_2019, hue='업적평가등급', ax=axes[0], hue_order=['S', 'A','B','C','D'])\n",
        "sns.countplot(x='조직내 필요성', data=data_2019, hue='업적평가등급', ax=axes[1],  hue_order=['S', 'A','B','C','D'])\n",
        "sns.countplot(x='동반자 의식', data=data_2019, hue='업적평가등급', ax=axes[2],  hue_order=['S', 'A','B','C','D'])"
      ]
    },
    {
      "cell_type": "code",
      "execution_count": null,
      "metadata": {
        "id": "iajQKZqZZ1vk"
      },
      "outputs": [],
      "source": [
        "table = []\n",
        "\n",
        "for i in range(len(raw_data_19)) : \n",
        "  sen = []\n",
        "  if (raw_data_19['사번'][i] in data_2019['사번'].unique()) : \n",
        "    temp = data_2019.loc[data_2019['사번']==raw_data_19['사번'][i]].reset_index(drop=True)\n",
        "    sen.append(temp['직책수행능력'][0])\n",
        "    sen.append(temp['조직내 필요성'][0])\n",
        "    sen.append(temp['동반자 의식'][0])\n",
        "  else : \n",
        "    sen.append('No')\n",
        "    sen.append('No')\n",
        "    sen.append('No')\n",
        "  table.append(sen)"
      ]
    },
    {
      "cell_type": "code",
      "execution_count": null,
      "metadata": {
        "id": "xEyUxoA9apF4"
      },
      "outputs": [],
      "source": [
        "raw_data_19[['직책수행능력', '조직내 필요성', '동반자 의식']] = table"
      ]
    },
    {
      "cell_type": "code",
      "execution_count": null,
      "metadata": {
        "id": "Y1v1U-xtd4os"
      },
      "outputs": [],
      "source": [
        "raw_data_20 = pd.read_excel('/content/drive/My Drive/Colab Notebooks/NH농협캐피탈/추가데이터/NH농협캐피탈 데이터 작업_성과관리_1111.xlsx', sheet_name=1)"
      ]
    },
    {
      "cell_type": "code",
      "execution_count": null,
      "metadata": {
        "id": "lIKcidq99mQC"
      },
      "outputs": [],
      "source": [
        "raw_data_20['전공'] = major['대분류']"
      ]
    },
    {
      "cell_type": "code",
      "execution_count": null,
      "metadata": {
        "id": "L5uCxModd4ov"
      },
      "outputs": [],
      "source": [
        "en_list = []\n",
        "\n",
        "f_list = ['전문성_평균평점_상반기', '리더십_평균평점_상반기', '부하육성_평균평점_상반기',\n",
        "       '관계관리_평균평점_상반기', '조직비전_평균평점_상반기', '직책수행능력_평균평점_상반기', '조직내 필요성_평균평점_상반기',\n",
        "       '동반자 의식_평균평점_상반기']\n",
        "h_list = ['전문성_평균평점_하반기', '리더십_평균평점_하반기', '부하육성_평균평점_하반기',\n",
        "       '관계관리_평균평점_하반기', '조직비전_평균평점_하반기', '직책수행능력_평균평점_하반기', '조직내 필요성_평균평점_하반기',\n",
        "       '동반자 의식_평균평점_하반기']\n",
        "\n",
        "for i in range(len(raw_data_20)) : \n",
        "  temp = [] \n",
        "  j = 0\n",
        "  for name in f_list : \n",
        "    if (type(raw_data_20[name][i])==type(str()) and type(raw_data_20[h_list[j]][i])!=type(str())) : \n",
        "      temp.append(raw_data_20[h_list[j]][i])\n",
        "    elif (type(raw_data_20[name][i])!=type(str()) and type(raw_data_20[h_list[j]][i])==type(str())) : \n",
        "      temp.append(raw_data_20[name][i])\n",
        "    elif (type(raw_data_20[name][i])==type(str()) and type(raw_data_20[h_list[j]][i])==type(str())) : \n",
        "      temp.append(\"No\")\n",
        "    else : \n",
        "      avg = (raw_data_20[name][i]+raw_data_20[h_list[j]][i])/2\n",
        "      temp.append(avg)\n",
        "    j += 1\n",
        "  en_list.append(temp)"
      ]
    },
    {
      "cell_type": "code",
      "execution_count": null,
      "metadata": {
        "id": "hQKH9gPed4ow"
      },
      "outputs": [],
      "source": [
        "raw_data_20[['전문성_평균평점', '리더십_평균평점', '부하육성_평균평점', '관계관리_평균평점', '조직비전_평균평점', '직책수행능력_평균평점', '조직내 필요성_평균평점', '동반자 의식_평균평점']] = en_list\n",
        "raw_data_20 = raw_data_20.drop(f_list, axis=1)\n",
        "raw_data_20 = raw_data_20.drop(h_list, axis=1)"
      ]
    },
    {
      "cell_type": "code",
      "execution_count": null,
      "metadata": {
        "id": "rVbyO9QLd4ow"
      },
      "outputs": [],
      "source": [
        "tmp = pd.DataFrame(columns=raw_data_20.columns)\n",
        "for name in sen_2020 : \n",
        "  temp = raw_data_20.loc[raw_data_20['사번']==name]\n",
        "  tmp = pd.concat([tmp, temp], ignore_index=True, axis=0)"
      ]
    },
    {
      "cell_type": "code",
      "execution_count": null,
      "metadata": {
        "id": "4YmbOuyAd4ow"
      },
      "outputs": [],
      "source": [
        "tmp = tmp.join(sentiment_2020.set_index('사번')['직책수행능력'], on='사번')\n",
        "tmp = tmp.join(sentiment_2020.set_index('사번')['조직내 필요성'], on='사번')\n",
        "tmp = tmp.join(sentiment_2020.set_index('사번')['동반자 의식'], on='사번')"
      ]
    },
    {
      "cell_type": "code",
      "execution_count": null,
      "metadata": {
        "colab": {
          "base_uri": "https://localhost:8080/"
        },
        "id": "mpnUcO-1d4ow",
        "outputId": "d9a3e397-8088-4b42-a918-72b114b98c5c"
      },
      "outputs": [],
      "source": [
        "data_2020 = tmp\n",
        "print(len(data_2020))"
      ]
    },
    {
      "cell_type": "code",
      "execution_count": null,
      "metadata": {
        "id": "Wk97PiZemJRO"
      },
      "outputs": [],
      "source": [
        "temp_20 = raw_data_20\n",
        "b = data_2020['사번'].tolist()\n",
        "\n",
        "for i in range(len(raw_data_20)) : \n",
        "  if(raw_data_20['사번'][i] in b) : \n",
        "    temp_20 = temp_20.drop([i], axis=0)\n",
        "\n",
        "temp_20 = temp_20.loc[temp_20['역량평가등급']!='미입사']\n",
        "temp_20 = temp_20.loc[temp_20['역량평가등급']!='미평가']"
      ]
    },
    {
      "cell_type": "code",
      "execution_count": null,
      "metadata": {
        "colab": {
          "base_uri": "https://localhost:8080/",
          "height": 542
        },
        "id": "mf4Rc22PmDzX",
        "outputId": "146422b4-56d1-4be6-9acd-ef3bf4681c7b"
      },
      "outputs": [],
      "source": [
        "# feature 유형에 따른 데이터 분포 시각화\n",
        "sort = pd.DataFrame({'S':[5],'A':[4],'B':[3],'C':[2],'D':[1]}).T\n",
        "\n",
        "data = temp_20['역량평가등급'].value_counts().sort_values(ascending=False)\n",
        "data1 = pd.concat([pd.DataFrame(data),sort],axis=1).sort_values(by=0,ascending=False)\n",
        "\n",
        "if (temp_20['역량평가등급'].dtypes=='object') : \n",
        "  # barplot\n",
        "  trace = go.Bar(x = data1.index,\n",
        "                text = ['{:.1f} %'.format(val) for val in (data1['역량평가등급'].values / temp_20.shape[0] * 100)],\n",
        "                textposition = 'auto',\n",
        "                textfont = dict(color = '#000000'),\n",
        "                y = data1['역량평가등급'].values,\n",
        "                )\n",
        "  # Create layout\n",
        "  layout = dict(title = 'Distribution Of {}'.format('역량평가등급'),\n",
        "                xaxis = dict(title = '역량평가등급'),\n",
        "                yaxis = dict(title = 'Count'))\n",
        "  # Create plot\n",
        "  fig = go.Figure(data=[trace], layout=layout)\n",
        "  iplot(fig)\n",
        "else : \n",
        "  # histplot\n",
        "  trace = go.Box(y=temp_20['역량평가등급'], name=\"Boxplot\", jitter=0.3, pointpos=-1.8, boxpoints='all')\n",
        "  # Create layout\n",
        "  layout = dict(title = 'Distribution Of {}'.format('역량평가등급'),\n",
        "                xaxis = dict(title = '역량평가등급'),\n",
        "                yaxis = dict(title = 'Count'))\n",
        "  # Create plot\n",
        "  fig = go.Figure(data=[trace], layout=layout)\n",
        "  iplot(fig)"
      ]
    },
    {
      "cell_type": "code",
      "execution_count": null,
      "metadata": {
        "colab": {
          "base_uri": "https://localhost:8080/",
          "height": 542
        },
        "id": "wrR6QDJfmDzY",
        "outputId": "e511967f-a105-4c41-b062-88f6effeb68d"
      },
      "outputs": [],
      "source": [
        "sort = pd.DataFrame({'S':[5],'A':[4],'B':[3],'C':[2],'D':[1]}).T\n",
        "\n",
        "data = temp_20['업적평가등급'].value_counts().sort_values(ascending=False)\n",
        "data1 = pd.concat([pd.DataFrame(data),sort],axis=1).sort_values(by=0,ascending=False)\n",
        "\n",
        "if (temp_20['업적평가등급'].dtypes=='object') : \n",
        "  # barplot\n",
        "  trace = go.Bar(x = data1.index,\n",
        "                text = ['{:.1f} %'.format(val) for val in (data1['업적평가등급'].values / temp_20.shape[0] * 100)],\n",
        "                textposition = 'auto',\n",
        "                textfont = dict(color = '#000000'),\n",
        "                y = data1['업적평가등급'].values,\n",
        "                )\n",
        "  # Create layout\n",
        "  layout = dict(title = 'Distribution Of {}'.format('업적평가등급'),\n",
        "                xaxis = dict(title = '업적평가등급'),\n",
        "                yaxis = dict(title = 'Count'))\n",
        "  # Create plot\n",
        "  fig = go.Figure(data=[trace], layout=layout)\n",
        "  iplot(fig)\n",
        "else : \n",
        "  # histplot\n",
        "  trace = go.Box(y=temp_20['업적평가등급'], name=\"Boxplot\", jitter=0.3, pointpos=-1.8, boxpoints='all')\n",
        "  # Create layout\n",
        "  layout = dict(title = 'Distribution Of {}'.format('업적평가등급'),\n",
        "                xaxis = dict(title = '업적평가등급'),\n",
        "                yaxis = dict(title = 'Count'))\n",
        "  # Create plot\n",
        "  fig = go.Figure(data=[trace], layout=layout)\n",
        "  iplot(fig)"
      ]
    },
    {
      "cell_type": "code",
      "execution_count": null,
      "metadata": {
        "colab": {
          "base_uri": "https://localhost:8080/"
        },
        "id": "zVDkTbGPpJj9",
        "outputId": "6fed4530-03b1-4893-a588-fe0727cce5b9"
      },
      "outputs": [],
      "source": [
        "print(temp_20['셀 참여횟수'].value_counts())"
      ]
    },
    {
      "cell_type": "code",
      "execution_count": null,
      "metadata": {
        "colab": {
          "base_uri": "https://localhost:8080/",
          "height": 542
        },
        "id": "x7dElLqSpJj9",
        "outputId": "84080f23-67ab-4f61-ff54-e3877b2221ca"
      },
      "outputs": [],
      "source": [
        "sort = pd.DataFrame({'S':[5],'A':[4],'B':[3],'C':[2],'D':[1]}).T\n",
        "\n",
        "data = temp_20['금년 교육이수 여부'].value_counts().sort_values(ascending=False)\n",
        "\n",
        "if (temp_20['금년 교육이수 여부'].dtypes=='object') : \n",
        "  # barplot\n",
        "  trace = go.Bar(x = data.index,\n",
        "                text = ['{:.1f} %'.format(val) for val in (data.values / temp_20.shape[0] * 100)],\n",
        "                textposition = 'auto',\n",
        "                textfont = dict(color = '#000000'),\n",
        "                y = data.values,\n",
        "                )\n",
        "  # Create layout\n",
        "  layout = dict(title = 'Distribution Of {}'.format('금년 교육이수 여부'),\n",
        "                xaxis = dict(title = '금년 교육이수 여부'),\n",
        "                yaxis = dict(title = 'Count'))\n",
        "  # Create plot\n",
        "  fig = go.Figure(data=[trace], layout=layout)\n",
        "  iplot(fig)\n",
        "else : \n",
        "  # histplot\n",
        "  trace = go.Box(y=temp_20['금년 교육이수 여부'], name=\"Boxplot\", jitter=0.3, pointpos=-1.8, boxpoints='all')\n",
        "  # Create layout\n",
        "  layout = dict(title = 'Distribution Of {}'.format('금년 교육이수 여부'),\n",
        "                xaxis = dict(title = '금년 교육이수 여부'),\n",
        "                yaxis = dict(title = 'Count'))\n",
        "  # Create plot\n",
        "  fig = go.Figure(data=[trace], layout=layout)\n",
        "  iplot(fig)"
      ]
    },
    {
      "cell_type": "code",
      "execution_count": null,
      "metadata": {
        "colab": {
          "base_uri": "https://localhost:8080/",
          "height": 1000
        },
        "id": "emITNtzzd4ow",
        "outputId": "8b1cdb94-1b2d-4fc9-c7e0-07ad578c0f17"
      },
      "outputs": [],
      "source": [
        "from plotly.subplots import make_subplots\n",
        "\n",
        "fig, axes = plt.subplots(1, 3)\n",
        "fig.set_size_inches(20, 10)\n",
        "axes[0].set_ylim(0,25)\n",
        "axes[1].set_ylim(0,25)\n",
        "axes[2].set_ylim(0,25)\n",
        "sns.countplot(x='직책수행능력', data=data_2020, hue='역량평가등급', ax=axes[0], hue_order=['S', 'A','B','C','D'])\n",
        "sns.countplot(x='조직내 필요성', data=data_2020, hue='역량평가등급', ax=axes[1],  hue_order=['S', 'A','B','C','D'])\n",
        "sns.countplot(x='동반자 의식', data=data_2020, hue='역량평가등급', ax=axes[2],  hue_order=['S', 'A','B','C','D'])"
      ]
    },
    {
      "cell_type": "code",
      "execution_count": null,
      "metadata": {
        "colab": {
          "base_uri": "https://localhost:8080/",
          "height": 1000
        },
        "id": "qd4i52KGnR8G",
        "outputId": "3df5caad-9c93-4a35-bf72-6191b00f626c"
      },
      "outputs": [],
      "source": [
        "fig, axes = plt.subplots(1, 3)\n",
        "fig.set_size_inches(20, 10)\n",
        "axes[0].set_ylim(0,25)\n",
        "axes[1].set_ylim(0,25)\n",
        "axes[2].set_ylim(0,25)\n",
        "sns.countplot(x='직책수행능력', data=data_2020, hue='업적평가등급', ax=axes[0], hue_order=['S', 'A','B','C','D'])\n",
        "sns.countplot(x='조직내 필요성', data=data_2020, hue='업적평가등급', ax=axes[1],  hue_order=['S', 'A','B','C','D'])\n",
        "sns.countplot(x='동반자 의식', data=data_2020, hue='업적평가등급', ax=axes[2],  hue_order=['S', 'A','B','C','D'])"
      ]
    },
    {
      "cell_type": "code",
      "execution_count": null,
      "metadata": {
        "id": "oPK8duTad4ow"
      },
      "outputs": [],
      "source": [
        "table = []\n",
        "\n",
        "for i in range(len(raw_data_20)) : \n",
        "  sen = []\n",
        "  if (raw_data_20['사번'][i] in data_2020['사번'].unique()) : \n",
        "    temp = data_2020.loc[data_2020['사번']==raw_data_20['사번'][i]].reset_index(drop=True)\n",
        "    sen.append(temp['직책수행능력'][0])\n",
        "    sen.append(temp['조직내 필요성'][0])\n",
        "    sen.append(temp['동반자 의식'][0])\n",
        "  else : \n",
        "    sen.append('No')\n",
        "    sen.append('No')\n",
        "    sen.append('No')\n",
        "  table.append(sen)"
      ]
    },
    {
      "cell_type": "code",
      "execution_count": null,
      "metadata": {
        "id": "c4DyyrKFd4ow"
      },
      "outputs": [],
      "source": [
        "raw_data_20[['직책수행능력', '조직내 필요성', '동반자 의식']] = table"
      ]
    },
    {
      "cell_type": "code",
      "execution_count": null,
      "metadata": {
        "id": "VJDHr4DJfpwA"
      },
      "outputs": [],
      "source": [
        "raw_data_21 = pd.read_excel('/content/drive/My Drive/Colab Notebooks/NH농협캐피탈/추가데이터/NH농협캐피탈 데이터 작업_성과관리_1111.xlsx', sheet_name=2)"
      ]
    },
    {
      "cell_type": "code",
      "execution_count": null,
      "metadata": {
        "id": "Ag9DXG5X9n1p"
      },
      "outputs": [],
      "source": [
        "raw_data_21['전공'] = major['대분류']"
      ]
    },
    {
      "cell_type": "code",
      "execution_count": null,
      "metadata": {
        "id": "lzehEBNKfpwB"
      },
      "outputs": [],
      "source": [
        "tmp = pd.DataFrame(columns=raw_data_21.columns)\n",
        "for name in sen_2021 : \n",
        "  temp = raw_data_21.loc[raw_data_21['사번']==name]\n",
        "  tmp = pd.concat([tmp, temp], ignore_index=True, axis=0)"
      ]
    },
    {
      "cell_type": "code",
      "execution_count": null,
      "metadata": {
        "id": "jhiIOXmdfpwB"
      },
      "outputs": [],
      "source": [
        "tmp = tmp.join(sentiment_2021.set_index('사번')['직책수행능력'], on='사번')\n",
        "tmp = tmp.join(sentiment_2021.set_index('사번')['조직내 필요성'], on='사번')\n",
        "tmp = tmp.join(sentiment_2021.set_index('사번')['동반자 의식'], on='사번')"
      ]
    },
    {
      "cell_type": "code",
      "execution_count": null,
      "metadata": {
        "colab": {
          "base_uri": "https://localhost:8080/"
        },
        "id": "eywTlOuhfpwB",
        "outputId": "64262491-467e-4103-d2e3-00d72068b7e5"
      },
      "outputs": [],
      "source": [
        "data_2021 = tmp\n",
        "print(len(data_2021))"
      ]
    },
    {
      "cell_type": "code",
      "execution_count": null,
      "metadata": {
        "id": "vvP6_abRnIos"
      },
      "outputs": [],
      "source": [
        "temp_21 = raw_data_21\n",
        "b = data_2021['사번'].tolist()\n",
        "\n",
        "for i in range(len(raw_data_21)) : \n",
        "  if(raw_data_21['사번'][i] in b) : \n",
        "    temp_21 = temp_21.drop([i], axis=0)\n",
        "\n",
        "temp_21 = temp_21.loc[temp_21['전문성_평균평점']!='미입사']\n",
        "temp_21 = temp_21.loc[temp_21['전문성_평균평점']!='미평가']"
      ]
    },
    {
      "cell_type": "code",
      "execution_count": null,
      "metadata": {
        "colab": {
          "base_uri": "https://localhost:8080/",
          "height": 111
        },
        "id": "ZIZ4XDa4nIos",
        "outputId": "e2e92e2d-177a-4af3-af26-70c8e9763c3e"
      },
      "outputs": [],
      "source": [
        "'''\n",
        "# feature 유형에 따른 데이터 분포 시각화\n",
        "sort = pd.DataFrame({'S':[5],'A':[4],'B':[3],'C':[2],'D':[1]}).T\n",
        "\n",
        "data = temp_21['역량평가등급'].value_counts().sort_values(ascending=False)\n",
        "data1 = pd.concat([pd.DataFrame(data),sort],axis=1).sort_values(by=0,ascending=False)\n",
        "\n",
        "if (temp_21['역량평가등급'].dtypes=='object') : \n",
        "  # barplot\n",
        "  trace = go.Bar(x = data1.index,\n",
        "                text = ['{:.1f} %'.format(val) for val in (data1['역량평가등급'].values / temp_21.shape[0] * 100)],\n",
        "                textposition = 'auto',\n",
        "                textfont = dict(color = '#000000'),\n",
        "                y = data1['역량평가등급'].values,\n",
        "                )\n",
        "  # Create layout\n",
        "  layout = dict(title = 'Distribution Of {}'.format('역량평가등급'),\n",
        "                xaxis = dict(title = '역량평가등급'),\n",
        "                yaxis = dict(title = 'Count'))\n",
        "  # Create plot\n",
        "  fig = go.Figure(data=[trace], layout=layout)\n",
        "  iplot(fig)\n",
        "else : \n",
        "  # histplot\n",
        "  trace = go.Box(y=temp_21['역량평가등급'], name=\"Boxplot\", jitter=0.3, pointpos=-1.8, boxpoints='all')\n",
        "  # Create layout\n",
        "  layout = dict(title = 'Distribution Of {}'.format('역량평가등급'),\n",
        "                xaxis = dict(title = '역량평가등급'),\n",
        "                yaxis = dict(title = 'Count'))\n",
        "  # Create plot\n",
        "  fig = go.Figure(data=[trace], layout=layout)\n",
        "  iplot(fig)\n",
        "  '''"
      ]
    },
    {
      "cell_type": "code",
      "execution_count": null,
      "metadata": {
        "colab": {
          "base_uri": "https://localhost:8080/",
          "height": 111
        },
        "id": "Ni430J1AnIos",
        "outputId": "c0908fcc-2241-40fe-b8fa-2a2ad424485f"
      },
      "outputs": [],
      "source": [
        "'''\n",
        "sort = pd.DataFrame({'S':[5],'A':[4],'B':[3],'C':[2],'D':[1]}).T\n",
        "\n",
        "data = temp_21['업적평가등급'].value_counts().sort_values(ascending=False)\n",
        "data1 = pd.concat([pd.DataFrame(data),sort],axis=1).sort_values(by=0,ascending=False)\n",
        "\n",
        "if (temp_21['업적평가등급'].dtypes=='object') : \n",
        "  # barplot\n",
        "  trace = go.Bar(x = data1.index,\n",
        "                text = ['{:.1f} %'.format(val) for val in (data1['업적평가등급'].values / temp_21.shape[0] * 100)],\n",
        "                textposition = 'auto',\n",
        "                textfont = dict(color = '#000000'),\n",
        "                y = data1['업적평가등급'].values,\n",
        "                )\n",
        "  # Create layout\n",
        "  layout = dict(title = 'Distribution Of {}'.format('업적평가등급'),\n",
        "                xaxis = dict(title = '업적평가등급'),\n",
        "                yaxis = dict(title = 'Count'))\n",
        "  # Create plot\n",
        "  fig = go.Figure(data=[trace], layout=layout)\n",
        "  iplot(fig)\n",
        "else : \n",
        "  # histplot\n",
        "  trace = go.Box(y=temp_21['업적평가등급'], name=\"Boxplot\", jitter=0.3, pointpos=-1.8, boxpoints='all')\n",
        "  # Create layout\n",
        "  layout = dict(title = 'Distribution Of {}'.format('업적평가등급'),\n",
        "                xaxis = dict(title = '업적평가등급'),\n",
        "                yaxis = dict(title = 'Count'))\n",
        "  # Create plot\n",
        "  fig = go.Figure(data=[trace], layout=layout)\n",
        "  iplot(fig)\n",
        "  '''"
      ]
    },
    {
      "cell_type": "code",
      "execution_count": null,
      "metadata": {
        "colab": {
          "base_uri": "https://localhost:8080/",
          "height": 111
        },
        "id": "umoeIUhKo0KA",
        "outputId": "33f5d8f9-2a5e-4936-c287-1660ed7ee4d0"
      },
      "outputs": [],
      "source": [
        "'''\n",
        "sort = pd.DataFrame({'S':[5],'A':[4],'B':[3],'C':[2],'D':[1]}).T\n",
        "\n",
        "data = temp_21['금년 교육이수 여부'].value_counts().sort_values(ascending=False)\n",
        "\n",
        "if (temp_21['금년 교육이수 여부'].dtypes=='object') : \n",
        "  # barplot\n",
        "  trace = go.Bar(x = data.index,\n",
        "                text = ['{:.1f} %'.format(val) for val in (data.values / temp_21.shape[0] * 100)],\n",
        "                textposition = 'auto',\n",
        "                textfont = dict(color = '#000000'),\n",
        "                y = data.values,\n",
        "                )\n",
        "  # Create layout\n",
        "  layout = dict(title = 'Distribution Of {}'.format('금년 교육이수 여부'),\n",
        "                xaxis = dict(title = '금년 교육이수 여부'),\n",
        "                yaxis = dict(title = 'Count'))\n",
        "  # Create plot\n",
        "  fig = go.Figure(data=[trace], layout=layout)\n",
        "  iplot(fig)\n",
        "else : \n",
        "  # histplot\n",
        "  trace = go.Box(y=temp_21['금년 교육이수 여부'], name=\"Boxplot\", jitter=0.3, pointpos=-1.8, boxpoints='all')\n",
        "  # Create layout\n",
        "  layout = dict(title = 'Distribution Of {}'.format('금년 교육이수 여부'),\n",
        "                xaxis = dict(title = '금년 교육이수 여부'),\n",
        "                yaxis = dict(title = 'Count'))\n",
        "  # Create plot\n",
        "  fig = go.Figure(data=[trace], layout=layout)\n",
        "  iplot(fig)\n",
        "'''"
      ]
    },
    {
      "cell_type": "code",
      "execution_count": null,
      "metadata": {
        "colab": {
          "base_uri": "https://localhost:8080/",
          "height": 73
        },
        "id": "wjo3vzMWfpwC",
        "outputId": "bc987585-add6-47f0-db9a-d0f84b1f991b"
      },
      "outputs": [],
      "source": [
        "'''\n",
        "from plotly.subplots import make_subplots\n",
        "\n",
        "fig, axes = plt.subplots(1, 3)\n",
        "fig.set_size_inches(20, 10)\n",
        "axes[0].set_ylim(0,25)\n",
        "axes[1].set_ylim(0,25)\n",
        "axes[2].set_ylim(0,25)\n",
        "sns.countplot(x='직책수행능력', data=data_2021, hue='역량평가등급', ax=axes[0], hue_order=['S', 'A','B','C','D'])\n",
        "sns.countplot(x='조직내 필요성', data=data_2021, hue='역량평가등급', ax=axes[1],  hue_order=['S', 'A','B','C','D'])\n",
        "sns.countplot(x='동반자 의식', data=data_2021, hue='역량평가등급', ax=axes[2],  hue_order=['S', 'A','B','C','D'])\n",
        "'''"
      ]
    },
    {
      "cell_type": "code",
      "execution_count": null,
      "metadata": {
        "colab": {
          "base_uri": "https://localhost:8080/",
          "height": 73
        },
        "id": "BvJ_F7zJnuOh",
        "outputId": "f411581f-56aa-44cd-c57d-52eec0c96c9b"
      },
      "outputs": [],
      "source": [
        "'''\n",
        "fig, axes = plt.subplots(1, 3)\n",
        "fig.set_size_inches(20, 10)\n",
        "axes[0].set_ylim(0,25)\n",
        "axes[1].set_ylim(0,25)\n",
        "axes[2].set_ylim(0,25)\n",
        "sns.countplot(x='직책수행능력', data=data_2021, hue='업적평가등급', ax=axes[0], hue_order=['S', 'A','B','C','D'])\n",
        "sns.countplot(x='조직내 필요성', data=data_2021, hue='업적평가등급', ax=axes[1],  hue_order=['S', 'A','B','C','D'])\n",
        "sns.countplot(x='동반자 의식', data=data_2021, hue='업적평가등급', ax=axes[2],  hue_order=['S', 'A','B','C','D'])\n",
        "'''"
      ]
    },
    {
      "cell_type": "code",
      "execution_count": null,
      "metadata": {
        "id": "TzGMKdWUfpwC"
      },
      "outputs": [],
      "source": [
        "table = []\n",
        "\n",
        "for i in range(len(raw_data_21)) : \n",
        "  sen = []\n",
        "  if (raw_data_21['사번'][i] in data_2021['사번'].unique()) : \n",
        "    temp = data_2021.loc[data_2021['사번']==raw_data_21['사번'][i]].reset_index(drop=True)\n",
        "    sen.append(temp['직책수행능력'][0])\n",
        "    sen.append(temp['조직내 필요성'][0])\n",
        "    sen.append(temp['동반자 의식'][0])\n",
        "  else : \n",
        "    sen.append('No')\n",
        "    sen.append('No')\n",
        "    sen.append('No')\n",
        "  table.append(sen)"
      ]
    },
    {
      "cell_type": "code",
      "execution_count": null,
      "metadata": {
        "id": "8nDqf0wyfpwC"
      },
      "outputs": [],
      "source": [
        "raw_data_21[['직책수행능력', '조직내 필요성', '동반자 의식']] = table"
      ]
    },
    {
      "cell_type": "code",
      "execution_count": null,
      "metadata": {
        "id": "kZYXzCfXo2ox"
      },
      "outputs": [],
      "source": [
        "years_19_f = pd.read_excel('/content/drive/My Drive/Colab Notebooks/NH농협캐피탈/dataset/years_19년상.xlsx')\n",
        "years_19_h = pd.read_excel('/content/drive/My Drive/Colab Notebooks/NH농협캐피탈/dataset/years_19년하.xlsx')\n",
        "years_20_f = pd.read_excel('/content/drive/My Drive/Colab Notebooks/NH농협캐피탈/dataset/years_20년상.xlsx')\n",
        "years_20_h = pd.read_excel('/content/drive/My Drive/Colab Notebooks/NH농협캐피탈/dataset/years_20년하.xlsx')\n",
        "years_21 = pd.read_excel('/content/drive/My Drive/Colab Notebooks/NH농협캐피탈/dataset/years_21년하.xlsx')"
      ]
    },
    {
      "cell_type": "code",
      "execution_count": null,
      "metadata": {
        "colab": {
          "base_uri": "https://localhost:8080/"
        },
        "id": "OzEaPRp3pL4b",
        "outputId": "27aff9bb-28b1-4028-c0f8-f0bf24100de2"
      },
      "outputs": [],
      "source": [
        "length = 0\n",
        "noun = 0 \n",
        "\n",
        "okt = Okt()\n",
        "text = \" \".join(years_19_f['직책수행능력'])\n",
        "nouns = okt.nouns(text)\n",
        "words = [n for n in nouns if len(n) > 1]\n",
        "stopwords = {'대한', '해당', '대해', '통한', '다소', '보이', '로서', '위해', '통해', '관련', '매우', '로써', '두루', '보임'}\n",
        "words = [i for i in words if i not in stopwords]\n",
        "c = Counter(words)\n",
        "print(\"length : \", len(text))\n",
        "print(\"noun : \", len(words))\n",
        "print(\"most common : \", c.most_common(5))\n",
        "length += len(text)\n",
        "noun += len(words)\n",
        "\n",
        "text = \" \".join(years_19_f['조직내 필요성'])\n",
        "nouns = okt.nouns(text)\n",
        "words = [n for n in nouns if len(n) > 1]\n",
        "words = [i for i in words if i not in stopwords]\n",
        "c = Counter(words)\n",
        "print(\"length : \", len(text))\n",
        "print(\"noun : \", len(words))\n",
        "print(\"most common : \", c.most_common(5))\n",
        "length += len(text)\n",
        "noun += len(words)\n",
        "\n",
        "text = \" \".join(years_19_f['동반자 의식'])\n",
        "nouns = okt.nouns(text)\n",
        "words = [n for n in nouns if len(n) > 1]\n",
        "words = [i for i in words if i not in stopwords]\n",
        "c = Counter(words)\n",
        "print(\"length : \", len(text))\n",
        "print(\"noun : \", len(words))\n",
        "print(\"most common : \", c.most_common(5))\n",
        "length += len(text)\n",
        "noun += len(words)\n",
        "\n",
        "print(\"19_f length :\", length)\n",
        "print(\"19_f noun :\", noun)"
      ]
    },
    {
      "cell_type": "code",
      "execution_count": null,
      "metadata": {
        "colab": {
          "base_uri": "https://localhost:8080/"
        },
        "id": "fHr9dLiZqeH_",
        "outputId": "2684e478-a008-4c1a-e5ce-1470784f9085"
      },
      "outputs": [],
      "source": [
        "length = 0\n",
        "noun = 0 \n",
        "\n",
        "okt = Okt()\n",
        "text = \" \".join(years_19_h['직책수행능력'])\n",
        "nouns = okt.nouns(text)\n",
        "words = [n for n in nouns if len(n) > 1]\n",
        "stopwords = {'대한', '해당', '대해', '통한', '다소', '보이', '로서', '위해', '통해', '관련', '매우', '로써', '두루', '보임'}\n",
        "words = [i for i in words if i not in stopwords]\n",
        "c = Counter(words)\n",
        "print(\"length : \", len(text))\n",
        "print(\"noun : \", len(words))\n",
        "print(\"most common : \", c.most_common(5))\n",
        "length += len(text)\n",
        "noun += len(words)\n",
        "\n",
        "text = \" \".join(years_19_h['조직내 필요성'])\n",
        "nouns = okt.nouns(text)\n",
        "words = [n for n in nouns if len(n) > 1]\n",
        "words = [i for i in words if i not in stopwords]\n",
        "c = Counter(words)\n",
        "print(\"length : \", len(text))\n",
        "print(\"noun : \", len(words))\n",
        "print(\"most common : \", c.most_common(5))\n",
        "length += len(text)\n",
        "noun += len(words)\n",
        "\n",
        "text = \" \".join(years_19_h['동반자 의식'])\n",
        "nouns = okt.nouns(text)\n",
        "words = [n for n in nouns if len(n) > 1]\n",
        "words = [i for i in words if i not in stopwords]\n",
        "c = Counter(words)\n",
        "print(\"length : \", len(text))\n",
        "print(\"noun : \", len(words))\n",
        "print(\"most common : \", c.most_common(5))\n",
        "length += len(text)\n",
        "noun += len(words)\n",
        "\n",
        "print(\"19_h length :\", length)\n",
        "print(\"19_h noun :\", noun)"
      ]
    },
    {
      "cell_type": "code",
      "execution_count": null,
      "metadata": {
        "colab": {
          "base_uri": "https://localhost:8080/"
        },
        "id": "zVqpiHArqoJ8",
        "outputId": "c1adc1f1-0038-4da0-b4e3-314e42b0d240"
      },
      "outputs": [],
      "source": [
        "length = 0\n",
        "noun = 0 \n",
        "\n",
        "okt = Okt()\n",
        "text = \" \".join(years_20_f['직책수행능력'])\n",
        "nouns = okt.nouns(text)\n",
        "words = [n for n in nouns if len(n) > 1]\n",
        "stopwords = {'대한', '해당', '대해', '통한', '다소', '보이', '로서', '위해', '통해', '관련', '매우', '로써', '두루', '보임'}\n",
        "words = [i for i in words if i not in stopwords]\n",
        "c = Counter(words)\n",
        "print(\"length : \", len(text))\n",
        "print(\"noun : \", len(words))\n",
        "print(\"most common : \", c.most_common(5))\n",
        "length += len(text)\n",
        "noun += len(words)\n",
        "\n",
        "text = \" \".join(years_20_f['조직내 필요성'])\n",
        "nouns = okt.nouns(text)\n",
        "words = [n for n in nouns if len(n) > 1]\n",
        "words = [i for i in words if i not in stopwords]\n",
        "c = Counter(words)\n",
        "print(\"length : \", len(text))\n",
        "print(\"noun : \", len(words))\n",
        "print(\"most common : \", c.most_common(5))\n",
        "length += len(text)\n",
        "noun += len(words)\n",
        "\n",
        "text = \" \".join(years_20_f['동반자 의식'])\n",
        "nouns = okt.nouns(text)\n",
        "words = [n for n in nouns if len(n) > 1]\n",
        "words = [i for i in words if i not in stopwords]\n",
        "c = Counter(words)\n",
        "print(\"length : \", len(text))\n",
        "print(\"noun : \", len(words))\n",
        "print(\"most common : \", c.most_common(5))\n",
        "length += len(text)\n",
        "noun += len(words)\n",
        "\n",
        "print(\"20_f length :\", length)\n",
        "print(\"20_f noun :\", noun)"
      ]
    },
    {
      "cell_type": "code",
      "execution_count": null,
      "metadata": {
        "colab": {
          "base_uri": "https://localhost:8080/"
        },
        "id": "j73zti_vqoSZ",
        "outputId": "b7206f83-8af2-4efa-c716-ff2abf5484cd"
      },
      "outputs": [],
      "source": [
        "length = 0\n",
        "noun = 0 \n",
        "\n",
        "okt = Okt()\n",
        "text = \" \".join(years_20_h['직책수행능력'])\n",
        "nouns = okt.nouns(text)\n",
        "words = [n for n in nouns if len(n) > 1]\n",
        "stopwords = {'대한', '해당', '대해', '통한', '다소', '보이', '로서', '위해', '통해', '관련', '매우', '로써', '두루', '보임'}\n",
        "words = [i for i in words if i not in stopwords]\n",
        "c = Counter(words)\n",
        "print(\"length : \", len(text))\n",
        "print(\"noun : \", len(words))\n",
        "print(\"most common : \", c.most_common(5))\n",
        "length += len(text)\n",
        "noun += len(words)\n",
        "\n",
        "text = \" \".join(years_20_h['조직내 필요성'])\n",
        "nouns = okt.nouns(text)\n",
        "words = [n for n in nouns if len(n) > 1]\n",
        "words = [i for i in words if i not in stopwords]\n",
        "c = Counter(words)\n",
        "print(\"length : \", len(text))\n",
        "print(\"noun : \", len(words))\n",
        "print(\"most common : \", c.most_common(5))\n",
        "length += len(text)\n",
        "noun += len(words)\n",
        "\n",
        "text = \" \".join(years_20_h['동반자 의식'])\n",
        "nouns = okt.nouns(text)\n",
        "words = [n for n in nouns if len(n) > 1]\n",
        "words = [i for i in words if i not in stopwords]\n",
        "c = Counter(words)\n",
        "print(\"length : \", len(text))\n",
        "print(\"noun : \", len(words))\n",
        "print(\"most common : \", c.most_common(5))\n",
        "length += len(text)\n",
        "noun += len(words)\n",
        "\n",
        "print(\"20_h length :\", length)\n",
        "print(\"20_h noun :\", noun)"
      ]
    },
    {
      "cell_type": "code",
      "execution_count": null,
      "metadata": {
        "colab": {
          "base_uri": "https://localhost:8080/"
        },
        "id": "Lj2s0nyrqoZH",
        "outputId": "fcbdd5b3-fa64-48cc-adc7-f9937233e454"
      },
      "outputs": [],
      "source": [
        "length = 0\n",
        "noun = 0 \n",
        "\n",
        "okt = Okt()\n",
        "text = \" \".join(years_21['직책수행능력'])\n",
        "nouns = okt.nouns(text)\n",
        "words = [n for n in nouns if len(n) > 1]\n",
        "stopwords = {'대한', '해당', '대해', '통한', '다소', '보이', '로서', '위해', '통해', '관련', '매우', '로써', '두루', '보임'}\n",
        "words = [i for i in words if i not in stopwords]\n",
        "c = Counter(words)\n",
        "print(\"length : \", len(text))\n",
        "print(\"noun : \", len(words))\n",
        "print(\"most common : \", c.most_common(5))\n",
        "length += len(text)\n",
        "noun += len(words)\n",
        "\n",
        "text = \" \".join(years_21['조직내 필요성'])\n",
        "nouns = okt.nouns(text)\n",
        "words = [n for n in nouns if len(n) > 1]\n",
        "words = [i for i in words if i not in stopwords]\n",
        "c = Counter(words)\n",
        "print(\"length : \", len(text))\n",
        "print(\"noun : \", len(words))\n",
        "print(\"most common : \", c.most_common(5))\n",
        "length += len(text)\n",
        "noun += len(words)\n",
        "\n",
        "text = \" \".join(years_21['동반자 의식'])\n",
        "nouns = okt.nouns(text)\n",
        "words = [n for n in nouns if len(n) > 1]\n",
        "words = [i for i in words if i not in stopwords]\n",
        "c = Counter(words)\n",
        "print(\"length : \", len(text))\n",
        "print(\"noun : \", len(words))\n",
        "print(\"most common : \", c.most_common(5))\n",
        "length += len(text)\n",
        "noun += len(words)\n",
        "\n",
        "print(\"21 length :\", length)\n",
        "print(\"21 noun :\", noun)"
      ]
    },
    {
      "cell_type": "code",
      "execution_count": null,
      "metadata": {
        "colab": {
          "base_uri": "https://localhost:8080/",
          "height": 542
        },
        "id": "DMkCEFsw9h2J",
        "outputId": "5e84dde6-7ee8-4008-9b6a-6d33f0ae8990"
      },
      "outputs": [],
      "source": [
        "# feature 유형에 따른 데이터 분포 시각화\n",
        "data = major['대분류'].value_counts().sort_values(ascending=False)\n",
        "if (major['대분류'].dtypes=='object') : \n",
        "  # barplot\n",
        "  trace = go.Bar(x = data.index,\n",
        "                text = ['{:.1f} %'.format(val) for val in (data.values / major.shape[0] * 100)],\n",
        "                textposition = 'auto',\n",
        "                textfont = dict(color = '#000000'),\n",
        "                y = data.values,\n",
        "                )\n",
        "  # Create layout\n",
        "  layout = dict(title = 'Distribution Of {}'.format('대분류'),\n",
        "                xaxis = dict(title = '대분류'),\n",
        "                yaxis = dict(title = 'Count'))\n",
        "  # Create plot\n",
        "  fig = go.Figure(data=[trace], layout=layout)\n",
        "  iplot(fig)\n",
        "else : \n",
        "  # histplot\n",
        "  trace = go.Box(y=major['대분류'], name=\"Boxplot\", jitter=0.3, pointpos=-1.8, boxpoints='all')\n",
        "  # Create layout\n",
        "  layout = dict(title = 'Distribution Of {}'.format('대분류'),\n",
        "                xaxis = dict(title = '대분류'),\n",
        "                yaxis = dict(title = 'Count'))\n",
        "  # Create plot\n",
        "  fig = go.Figure(data=[trace], layout=layout)\n",
        "  iplot(fig)"
      ]
    },
    {
      "cell_type": "code",
      "execution_count": null,
      "metadata": {
        "colab": {
          "base_uri": "https://localhost:8080/",
          "height": 1000
        },
        "id": "0icR8IlKORhl",
        "outputId": "2e6b3c49-718e-4f2c-d93b-58c2088d8010"
      },
      "outputs": [],
      "source": [
        "data_2021"
      ]
    },
    {
      "cell_type": "code",
      "execution_count": null,
      "metadata": {
        "id": "LCGD9srCRgyk"
      },
      "outputs": [],
      "source": [
        "metric_feature = ['전문성_평균평점', '리더십_평균평점', '부하육성_평균평점', '관계관리_평균평점',\n",
        "       '조직비전_평균평점', '직책수행능력_평균평점', '조직내 필요성_평균평점', '동반자 의식_평균평점']\n",
        "\n",
        "temp_19 = temp_19.drop(metric_feature, axis=1)\n",
        "temp_20 = temp_20.drop(metric_feature, axis=1)\n",
        "temp_21 = temp_21.drop(metric_feature, axis=1)"
      ]
    },
    {
      "cell_type": "code",
      "execution_count": null,
      "metadata": {
        "id": "3AyvZKBkBqrz"
      },
      "outputs": [],
      "source": [
        "data_2019 = data_2019.sort_values(by='사번')\n",
        "data_2020 = data_2020.sort_values(by='사번')\n",
        "data_2021 = data_2021.sort_values(by='사번')"
      ]
    },
    {
      "cell_type": "code",
      "execution_count": null,
      "metadata": {
        "id": "GzwiZjOqSePg"
      },
      "outputs": [],
      "source": [
        "temp_19 = temp_19.sort_values(by='사번')\n",
        "temp_20 = temp_20.sort_values(by='사번')\n",
        "temp_21 = temp_21.sort_values(by='사번')"
      ]
    },
    {
      "cell_type": "code",
      "execution_count": null,
      "metadata": {
        "colab": {
          "base_uri": "https://localhost:8080/"
        },
        "id": "-5S09-0XTdix",
        "outputId": "4130db62-f66e-4e70-d56c-bb39889db406"
      },
      "outputs": [],
      "source": [
        "user_data_19 = data_2019['사번'].tolist()\n",
        "user_temp_19 = temp_19['사번'].tolist()\n",
        "user_all_19 = raw_data_19['사번'].tolist()\n",
        "\n",
        "\n",
        "user_all_19 = [x for x in user_all_19 if x not in user_data_19]\n",
        "user_all_19 = [x for x in user_all_19 if x not in user_temp_19]\n",
        "\n",
        "print(len(user_all_19) + len(user_data_19) + len(user_temp_19))\n",
        "\n",
        "index_19 = []\n",
        "for i in range(len(raw_data_19)) :\n",
        "  for name in user_all_19 : \n",
        "    if raw_data_19['사번'][i]==name : \n",
        "      index_19.append(i)\n",
        "\n",
        "no_19 = raw_data_19.iloc[index_19]\n",
        "no_19 = no_19.drop(metric_feature, axis=1)\n",
        "no_19 = no_19.drop(['직책수행능력', '조직내 필요성', '동반자 의식'], axis=1)\n",
        "temp_19 = pd.concat([temp_19, no_19], axis=0)"
      ]
    },
    {
      "cell_type": "code",
      "execution_count": null,
      "metadata": {
        "colab": {
          "base_uri": "https://localhost:8080/"
        },
        "id": "_SrYCZ7aWhhh",
        "outputId": "d6cb8780-6d7c-4d0c-8bf3-f0dde826ff51"
      },
      "outputs": [],
      "source": [
        "user_data_20 = data_2020['사번'].tolist()\n",
        "user_temp_20 = temp_20['사번'].tolist()\n",
        "user_all_20 = raw_data_20['사번'].tolist()\n",
        "\n",
        "\n",
        "user_all_20 = [x for x in user_all_20 if x not in user_data_20]\n",
        "user_all_20 = [x for x in user_all_20 if x not in user_temp_20]\n",
        "\n",
        "print(len(user_all_20) + len(user_data_20) + len(user_temp_20))\n",
        "\n",
        "index_20 = []\n",
        "for i in range(len(raw_data_20)) :\n",
        "  for name in user_all_20 : \n",
        "    if raw_data_20['사번'][i]==name : \n",
        "      index_20.append(i)\n",
        "\n",
        "no_20 = raw_data_20.iloc[index_20]\n",
        "no_20 = no_20.drop(metric_feature, axis=1)\n",
        "no_20 = no_20.drop(['직책수행능력', '조직내 필요성', '동반자 의식'], axis=1)\n",
        "temp_20 = pd.concat([temp_20, no_20], axis=0)"
      ]
    },
    {
      "cell_type": "code",
      "execution_count": null,
      "metadata": {
        "colab": {
          "base_uri": "https://localhost:8080/"
        },
        "id": "dK-zSv54XNsX",
        "outputId": "ad480565-8138-46a7-c01e-961c600a07ce"
      },
      "outputs": [],
      "source": [
        "user_data_21 = data_2021['사번'].tolist()\n",
        "user_temp_21 = temp_21['사번'].tolist()\n",
        "user_all_21 = raw_data_21['사번'].tolist()\n",
        "\n",
        "\n",
        "user_all_21 = [x for x in user_all_21 if x not in user_data_21]\n",
        "user_all_21 = [x for x in user_all_21 if x not in user_temp_21]\n",
        "\n",
        "print(len(user_all_21) + len(user_data_21) + len(user_temp_21))\n",
        "\n",
        "index_21 = []\n",
        "for i in range(len(raw_data_21)) :\n",
        "  for name in user_all_21 : \n",
        "    if raw_data_21['사번'][i]==name : \n",
        "      index_21.append(i)\n",
        "\n",
        "no_21 = raw_data_21.iloc[index_21]\n",
        "no_21 = no_21.drop(metric_feature, axis=1)\n",
        "no_21 = no_21.drop(['직책수행능력', '조직내 필요성', '동반자 의식'], axis=1)\n",
        "temp_21 = pd.concat([temp_21, no_21], axis=0)"
      ]
    },
    {
      "cell_type": "code",
      "execution_count": null,
      "metadata": {
        "id": "Ceg2TwPV1rlA"
      },
      "outputs": [],
      "source": [
        "\n",
        "data_2019.to_excel('/content/drive/My Drive/Colab Notebooks/NH농협캐피탈/modeling/subject_19.xlsx', index=False)\n",
        "data_2020.to_excel('/content/drive/My Drive/Colab Notebooks/NH농협캐피탈/modeling/subject_20.xlsx', index=False)\n",
        "data_2021.to_excel('/content/drive/My Drive/Colab Notebooks/NH농협캐피탈/modeling/subject_21.xlsx', index=False)\n",
        "temp_19.to_excel('/content/drive/My Drive/Colab Notebooks/NH농협캐피탈/modeling/nosubject_19.xlsx', index=False)\n",
        "temp_20.to_excel('/content/drive/My Drive/Colab Notebooks/NH농협캐피탈/modeling/nosubject_20.xlsx', index=False)\n",
        "temp_21.to_excel('/content/drive/My Drive/Colab Notebooks/NH농협캐피탈/modeling/nosubject_21.xlsx', index=False)\n"
      ]
    },
    {
      "cell_type": "code",
      "execution_count": null,
      "metadata": {
        "id": "_1-zqT0rTn--"
      },
      "outputs": [],
      "source": [
        "mind = pd.read_excel('/content/drive/My Drive/Colab Notebooks/NH농협캐피탈/dataset/인적성 검사 데이터_1117.xlsx')"
      ]
    },
    {
      "cell_type": "code",
      "execution_count": null,
      "metadata": {
        "id": "Ct4q_48vT0ix"
      },
      "outputs": [],
      "source": [
        "mind_data = mind.copy()\n",
        "temp_19_m = temp_19.copy()\n",
        "temp_20_m = temp_20.copy()\n",
        "temp_21_m = temp_21.copy()"
      ]
    },
    {
      "cell_type": "code",
      "execution_count": null,
      "metadata": {
        "id": "K9xjM1E5URws"
      },
      "outputs": [],
      "source": [
        "mind_feature = ['긍정성', '적극성', '성실성', '사회성', '정체성', '관계성', '객관성',\n",
        "       '비활성', '과활성', '자기긍정', '기회긍정', '환경긍정', '성취추구', '인정추구', '성장추구', '점검행동',\n",
        "       '조절행동', '유지행동', '감정인식', '맥락이해', '관계대응', '성찰성', '수용성', '능동성', '공감성',\n",
        "       '우호성', '협력성', '도덕성', '정직성', '책임성', '우울성(저항성)', '부정성(저항성)', '태만성(저항성)', '불안성(저항성)', '충동성(저항성)',\n",
        "       '공격성(저항성)', '역량 평균']\n",
        "\n",
        "for name in mind_feature : \n",
        "  temp_19_m = temp_19_m.join(mind_data.set_index('이메일')[name], on='이메일')\n",
        "  temp_20_m = temp_20_m.join(mind_data.set_index('이메일')[name], on='이메일')\n",
        "  temp_21_m = temp_21_m.join(mind_data.set_index('이메일')[name], on='이메일')"
      ]
    },
    {
      "cell_type": "code",
      "execution_count": null,
      "metadata": {
        "id": "0-2xtbEtWoCS"
      },
      "outputs": [],
      "source": [
        "temp_19_m.to_excel('/content/drive/My Drive/Colab Notebooks/NH농협캐피탈/modeling/mind_19.xlsx', index=False)\n",
        "temp_20_m.to_excel('/content/drive/My Drive/Colab Notebooks/NH농협캐피탈/modeling/mind_20.xlsx', index=False)\n",
        "temp_21_m.to_excel('/content/drive/My Drive/Colab Notebooks/NH농협캐피탈/modeling/mind_21.xlsx', index=False)"
      ]
    }
  ],
  "metadata": {
    "colab": {
      "provenance": []
    },
    "kernelspec": {
      "display_name": "Python 3",
      "name": "python3"
    },
    "language_info": {
      "name": "python"
    }
  },
  "nbformat": 4,
  "nbformat_minor": 0
}
