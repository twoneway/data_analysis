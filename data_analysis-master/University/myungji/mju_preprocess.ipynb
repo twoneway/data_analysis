{
  "nbformat": 4,
  "nbformat_minor": 0,
  "metadata": {
    "colab": {
      "provenance": []
    },
    "kernelspec": {
      "name": "python3",
      "display_name": "Python 3"
    },
    "language_info": {
      "name": "python"
    }
  },
  "cells": [
    {
      "cell_type": "code",
      "execution_count": null,
      "metadata": {
        "id": "d2uUkcAOLayN"
      },
      "outputs": [],
      "source": [
        "import pandas as pd\n",
        "import numpy as np\n",
        "import os\n",
        "import csv\n",
        "import joblib"
      ]
    },
    {
      "cell_type": "code",
      "source": [
        "# value에 \",\"가 들어간 csv 파일 재구축\n",
        "file_path = '/ml/algorithmlabs.csv/crawldata/20230203/ALGORITHM.ALAB_STDSCHOOLSTS.csv'\n",
        "f = open(file_path, encoding='utf-8')\n",
        "reader = csv.reader(f)\n",
        "csv_list = []\n",
        "for i in reader : \n",
        "    csv_list.append(i)\n",
        "f.close()\n",
        "\n",
        "# 0207 수정\n",
        "long = len(csv_list[0])\n",
        "for i in range(len(csv_list)) : \n",
        "    idx = len(csv_list[i]) - long\n",
        "    del csv_list[i][3:4+idx]"
      ],
      "metadata": {
        "id": "ZpAjIjqBLg8s"
      },
      "execution_count": null,
      "outputs": []
    },
    {
      "cell_type": "code",
      "source": [
        "df_1 = pd.DataFrame(csv_list[1:], columns = csv_list[0])\n",
        "df_1 = df_1.replace('', np.nan)"
      ],
      "metadata": {
        "id": "mPffGoq1LhrV"
      },
      "execution_count": null,
      "outputs": []
    },
    {
      "cell_type": "code",
      "source": [
        "# value에 \",\"가 들어간 csv 파일 재구축\n",
        "file_path = '/ml/algorithmlabs.csv/crawldata/20230203/ALGORITHM.ALAB_STDENTER.csv'\n",
        "f = open(file_path, encoding='utf-8')\n",
        "reader = csv.reader(f)\n",
        "csv_list = []\n",
        "for i in reader : \n",
        "    csv_list.append(i)\n",
        "f.close()\n",
        "\n",
        "# 0207 수정\n",
        "long = len(csv_list[0])\n",
        "for i in range(len(csv_list)) : \n",
        "    idx = len(csv_list[i]) - long\n",
        "    del csv_list[i][3:4+idx]"
      ],
      "metadata": {
        "id": "UXsNm9CzLicz"
      },
      "execution_count": null,
      "outputs": []
    },
    {
      "cell_type": "code",
      "source": [
        "df_2 = pd.DataFrame(csv_list[1:], columns = csv_list[0])\n",
        "df_2 = df_2.replace('', np.nan)"
      ],
      "metadata": {
        "id": "Yw31iBxCLifg"
      },
      "execution_count": null,
      "outputs": []
    },
    {
      "cell_type": "code",
      "source": [
        "date = '20230203'"
      ],
      "metadata": {
        "id": "WfZIcmeBLiiI"
      },
      "execution_count": null,
      "outputs": []
    },
    {
      "cell_type": "code",
      "source": [
        "# 원본 데이터 읽기\n",
        "ests = pd.read_csv('/ml/algorithmlabs.csv/crawldata/'+date+'/ALGORITHM.ALAB_STDCHANGESTS.csv')\n",
        "cla = pd.read_csv('/ml/algorithmlabs.csv/crawldata/'+date+'/ALGORITHM.ALAB_STDCLASS.csv')\n",
        "fee = pd.read_csv('/ml/algorithmlabs.csv/crawldata/'+date+'/ALGORITHM.ALAB_STDFEE.csv')\n",
        "fees = pd.read_csv('/ml/algorithmlabs.csv/crawldata/'+date+'/ALGORITHM.ALAB_STDFEE_SUB.csv')\n",
        "grade = pd.read_csv('/ml/algorithmlabs.csv/crawldata/'+date+'/ALGORITHM.ALAB_STDGRADE.csv')\n",
        "gradet= pd.read_csv('/ml/algorithmlabs.csv/crawldata/'+date+'/ALGORITHM.ALAB_STDGRADE_TOTAL.csv')\n",
        "prize = pd.read_csv('/ml/algorithmlabs.csv/crawldata/'+date+'/ALGORITHM.ALAB_STDPRIZE.csv')\n",
        "scholar = pd.read_csv('/ml/algorithmlabs.csv/crawldata/'+date+'/ALGORITHM.ALAB_STDSCHOLAR.csv')\n",
        "gate = pd.read_csv('/ml/algorithmlabs.csv/crawldata/'+date+'/GATEDB.dbo.INNOV_ENTER_COUNT.csv')\n",
        "sts = df_1.copy()\n",
        "enter = df_2.copy()\n",
        "\n",
        "pro = pd.read_csv('/ml/algorithmlabs.csv/crawldata/'+date+'/h_mju.PROGRAM_PER.csv')\n",
        "get = pd.read_csv('/ml/algorithmlabs.csv/crawldata/'+date+'/h_mju.GETPOINT_PER.csv')\n",
        "vmi = pd.read_csv('/ml/algorithmlabs.csv/crawldata/'+date+'/h_mju.VMILEAGE_PER_CHECK.csv')\n",
        "pau = pd.read_csv('/ml/algorithmlabs.csv/crawldata/'+date+'/h_mju.ICAP_PAU.csv')\n",
        "jtu = pd.read_csv('/ml/algorithmlabs.csv/crawldata/'+date+'/h_mju.ICAP_JTU.csv')\n",
        "ncs = pd.read_csv('/ml/algorithmlabs.csv/crawldata/'+date+'/h_mju.ICAP_NCS.csv')\n",
        "hcp = pd.read_csv('/ml/algorithmlabs.csv/crawldata/'+date+'/h_mju.ICAP_HCP.csv')\n",
        "dlc = pd.read_csv('/ml/algorithmlabs.csv/crawldata/'+date+'/h_mju.ICAP_DLC.csv')\n",
        "counsel = pd.read_csv('/ml/algorithmlabs.csv/crawldata/'+date+'/h_mju.ICAP_COUNSEL.csv')\n",
        "\n",
        "book = pd.read_csv('/ml/algorithmlabs.csv/crawldata/'+date+'/SOLARS8.INNOV_CHARGE_BOOK.csv')\n",
        "room = pd.read_csv('/ml/algorithmlabs.csv/crawldata/'+date+'/SOLARS8.INNOV_ROOM_CHARGE.csv')\n",
        "seat = pd.read_csv('/ml/algorithmlabs.csv/crawldata/'+date+'/SOLARS8.INNOV_SEAT_CHARGE.csv')\n",
        "\n",
        "column_name = pd.read_csv('/ml/temp_wg/develop/feature_korean_name.csv')\n",
        "# 0207 수정\n",
        "name_data = pd.read_csv('/ml/algorithmlabs.csv/crawldata/'+date+'/h_mju.VMILEAGE_PER_CHECK.csv')"
      ],
      "metadata": {
        "id": "nmQ5f8HXLikj"
      },
      "execution_count": null,
      "outputs": []
    },
    {
      "cell_type": "code",
      "source": [
        "# 기준년도, 기준학기를 만들기 위한 함수\n",
        "def create_ys(year, semester) : \n",
        "    bsts_1 = enter.copy()\n",
        "    bsts_1['CHG_YEAR'] = year\n",
        "    bsts_1['CHG_SMT'] = semester\n",
        "    bsts_1 = bsts_1[['STUDENT_CD', 'CHG_YEAR', 'CHG_SMT', 'ENTER_YEAR', 'ENTER_SMT', 'JUN_NM', 'ENTER_CHASU', 'ENTER_PART_RANK', 'HI_SCH_AREA', 'GRADUATION_YEAR', 'ENTER_TYPE']]\n",
        "    return bsts_1"
      ],
      "metadata": {
        "id": "axKwGj2BLinX"
      },
      "execution_count": null,
      "outputs": []
    },
    {
      "cell_type": "code",
      "source": [
        "# 특정년도, 특정학기에 받은 장학금 총 횟수, 누적금액을 계산하기 위한 파생변수 생성 함수\n",
        "def scholar_sum(year, semester) : \n",
        "    fee_201 = en_scholar[(en_scholar['SCHOLAR_YEAR']==year) & (en_scholar['SCHOLAR_SMT']==semester)].sort_values(by='STUDENT_CD', ascending=True)\n",
        "    fee_201_sum = []\n",
        "    fee_201_cnt = []\n",
        "\n",
        "    for id in fee_201['STUDENT_CD'].unique().tolist() :\n",
        "        cnt = fee_201[fee_201['STUDENT_CD']==id]['SCHOLAR_AMT'].sum()\n",
        "        count = len(fee_201[fee_201['STUDENT_CD']==id])\n",
        "        for i in range(len(fee_201[fee_201['STUDENT_CD']==id])) : \n",
        "            fee_201_sum.append(cnt)\n",
        "            fee_201_cnt.append(count)\n",
        "            \n",
        "    fee_201['SCHOLAR_CNT'] = fee_201_cnt \n",
        "    fee_201['SCHOLAR_SUM'] = fee_201_sum\n",
        "    \n",
        "    return fee_201"
      ],
      "metadata": {
        "id": "NprD-3bCLipu"
      },
      "execution_count": null,
      "outputs": []
    },
    {
      "cell_type": "code",
      "source": [
        "# 도서관 데이터 구축을 위한 함수\n",
        "def lib(data, year, semester, column_name) : \n",
        "    temp = data[(data['CHG_YEAR']==year) & (data['CHG_SMT']==semester)]\n",
        "    new_data = []\n",
        "    \n",
        "    stu_id = temp['STUDENT_CD'].unique().tolist()\n",
        "    for name in stu_id : \n",
        "        stu_data = temp[temp['STUDENT_CD']==name]\n",
        "        enter_values = stu_data[column_name].sum()\n",
        "        new_data.append([name, enter_values, year, semester])\n",
        "        \n",
        "    result = pd.DataFrame(new_data, columns = temp.columns.tolist())\n",
        "    return result"
      ],
      "metadata": {
        "id": "Pv4Vl3f6LisX"
      },
      "execution_count": null,
      "outputs": []
    },
    {
      "cell_type": "code",
      "source": [
        "# stdenter\n",
        "en_enter = pd.concat([create_ys(2020, 1), create_ys(2020, 2), create_ys(2021, 1), create_ys(2021, 2), create_ys(2022, 1), create_ys(2022, 2)], axis=0)\n",
        "en_enter.replace({'ENTER_SMT' : {'1학기' : 1}}, inplace=True)\n",
        "en_enter['ENTER_YEAR'] = en_enter['ENTER_YEAR'].astype('int64')\n",
        "df = en_enter.loc[en_enter['CHG_YEAR']>=en_enter['ENTER_YEAR']]\n",
        "df.drop(['ENTER_SMT'], axis=1, inplace=True)"
      ],
      "metadata": {
        "id": "p4rAU8JALivH"
      },
      "execution_count": null,
      "outputs": []
    },
    {
      "cell_type": "code",
      "source": [
        "# schoolsts\n",
        "en_sts = sts.copy()\n",
        "en_sts = en_sts[['STUDENT_CD', 'BIRTH', 'SEX', 'CAMPUS_NM', 'DEPT_NM', 'MAJOR_NM', 'DOUBLE_MAJOR_NM', 'LINK_MAJOR_NM', 'SUB_MAJOR_NM']]\n",
        "df = pd.merge(df, en_sts, on = ['STUDENT_CD'], how='left')"
      ],
      "metadata": {
        "id": "0QlgUzWZLpP2"
      },
      "execution_count": null,
      "outputs": []
    },
    {
      "cell_type": "code",
      "source": [
        "df['STUDENT_CD'] = df['STUDENT_CD'].astype('int64')"
      ],
      "metadata": {
        "id": "ZkpaEeFWLpSf"
      },
      "execution_count": null,
      "outputs": []
    },
    {
      "cell_type": "code",
      "source": [
        "# stdchangests\n",
        "en_ests = ests.copy()\n",
        "sorting = en_ests.sort_values(by='CHG_DT', ascending=True).reset_index(drop=True)\n",
        "en_ests = sorting.drop_duplicates(['STUDENT_CD', 'CHG_YEAR', 'CHG_SMT'], keep='last')\n",
        "en_ests = en_ests[['STUDENT_CD', 'CHG_YEAR', 'CHG_SMT', 'CHG_DIV', 'CHG_NM', 'CHG_REA']]\n",
        "en_ests.replace({'CHG_SMT' : {'1학기' : 1, '2학기' : 2}}, inplace=True)\n",
        "df = pd.merge(df, en_ests, on = ['STUDENT_CD', 'CHG_YEAR', 'CHG_SMT'], how='left')"
      ],
      "metadata": {
        "id": "AjchdxfsLpVH"
      },
      "execution_count": null,
      "outputs": []
    },
    {
      "cell_type": "code",
      "source": [
        "# 제적되어 다음학기에 생성불가능한 row들을 사전제거\n",
        "df = df.sort_values(by=['STUDENT_CD', 'CHG_YEAR', 'CHG_SMT'], ascending=True).reset_index(drop=True)\n",
        "drop_idx = []\n",
        "for name in df['STUDENT_CD'].unique().tolist() : \n",
        "    tp = df[df['STUDENT_CD']==name]\n",
        "    if '제적' in tp['CHG_DIV'].tolist() : \n",
        "        idx = tp['CHG_DIV'].tolist().index('제적')\n",
        "        if (idx+1 != len(tp)) : \n",
        "            for i in range(idx+1, len(tp)) : \n",
        "                drop_idx.append(tp.index.tolist()[i])\n",
        "                \n",
        "df.drop(drop_idx, axis=0, inplace=True)"
      ],
      "metadata": {
        "id": "rzqDU0zILpXv"
      },
      "execution_count": null,
      "outputs": []
    },
    {
      "cell_type": "code",
      "source": [
        "# stdfee\n",
        "fee = fee.drop_duplicates(['STUDENT_CD', 'REG_YEAR', 'REG_SMT'], keep='last').dropna(subset='REG_DATE', axis=0)\n",
        "en_fee = fee[['STUDENT_CD', 'REG_YEAR', 'REG_SMT', 'IS_REG_STUDENT_FEE', 'IS_REG_DIV', 'IS_REG_YET']]\n",
        "en_fee.replace({'REG_SMT' : {10 : 1, 15 : 1.5, 20 : 2, 25 : 2.5}}, inplace=True)\n",
        "en_fee.rename(columns={'REG_YEAR' : 'CHG_YEAR', 'REG_SMT' : 'CHG_SMT'}, inplace=True)\n",
        "df = pd.merge(df, en_fee, on = ['STUDENT_CD', 'CHG_YEAR', 'CHG_SMT'], how='left')"
      ],
      "metadata": {
        "id": "Qx-abgNZLpaY"
      },
      "execution_count": null,
      "outputs": []
    },
    {
      "cell_type": "code",
      "source": [
        "# stdfee_sub\n",
        "en_fees = fees.replace({'REG_SMT' : {10 : 1, 20 : 2}})\n",
        "en_fees.rename(columns={'REG_YEAR' : 'CHG_YEAR', 'REG_SMT' : 'CHG_SMT'}, inplace=True)\n",
        "df = pd.merge(df, en_fees, on = ['STUDENT_CD', 'CHG_YEAR', 'CHG_SMT'], how='left')"
      ],
      "metadata": {
        "id": "XyFe4I-uLpdN"
      },
      "execution_count": null,
      "outputs": []
    },
    {
      "cell_type": "code",
      "source": [
        "# stdscholar\n",
        "en_scholar = scholar.loc[scholar['SCHOLAR_YEAR']>2019]\n",
        "en_scholar.replace({'SCHOLAR_SMT' : {'1학기' : 1, '2학기' : 2}}, inplace=True)\n",
        "en_scholar = en_scholar.astype({'STUDENT_CD' : 'int64'})\n",
        "\n",
        "sch_1 = scholar_sum(2020, 1)\n",
        "sch_2 = scholar_sum(2020, 2)\n",
        "sch_3 = scholar_sum(2021, 1)\n",
        "sch_4 = scholar_sum(2021, 2)\n",
        "sch_5 = scholar_sum(2022, 1)\n",
        "sch_6 = scholar_sum(2022, 2)\n",
        "\n",
        "sum_scholar = pd.concat([sch_1, sch_2, sch_3, sch_4, sch_5, sch_6], axis=0)\n",
        "sum_scholar = sum_scholar[['STUDENT_CD', 'SCHOLAR_YEAR', 'SCHOLAR_SMT', 'SCHOLAR_CNT', 'SCHOLAR_SUM', 'CONFIRM_YN', 'CONTINUE_YN', 'WORK_YN']]\n",
        "sum_scholar = sum_scholar.drop_duplicates(['STUDENT_CD', 'SCHOLAR_YEAR', 'SCHOLAR_SMT'], keep='last')\n",
        "sum_scholar.rename(columns={'SCHOLAR_YEAR' : 'CHG_YEAR', 'SCHOLAR_SMT' : 'CHG_SMT'}, inplace=True)\n",
        "df = pd.merge(df, sum_scholar, on = ['STUDENT_CD', 'CHG_YEAR', 'CHG_SMT'], how='left')"
      ],
      "metadata": {
        "id": "alF-TJK4Lpfx"
      },
      "execution_count": null,
      "outputs": []
    },
    {
      "cell_type": "code",
      "source": [
        "# stdclass\n",
        "en_cla = cla.copy()\n",
        "en_cla.replace({'CLASS_SMT' : {'1학기' : 1, '2학기' : 2}}, inplace=True)\n",
        "en_cla = en_cla.drop(['CDTTOTAL'], axis=1)\n",
        "en_cla.rename(columns={'CLASS_YEAR' : 'CHG_YEAR', 'CLASS_SMT' : 'CHG_SMT'}, inplace=True)\n",
        "df = pd.merge(df, en_cla, on = ['STUDENT_CD', 'CHG_YEAR', 'CHG_SMT'], how='left')"
      ],
      "metadata": {
        "id": "WvUYGNWJLvK5"
      },
      "execution_count": null,
      "outputs": []
    },
    {
      "cell_type": "code",
      "source": [
        "# stdgrade\n",
        "en_grade = grade.copy()\n",
        "en_grade.replace({'GRADE_SMT' : {'1학기' : 1, '2학기' : 2}}, inplace=True)\n",
        "en_grade.rename(columns={'GRADE_YEAR' : 'CHG_YEAR', 'GRADE_SMT' : 'CHG_SMT'}, inplace=True)\n",
        "df = pd.merge(df, en_grade, on = ['STUDENT_CD', 'CHG_YEAR', 'CHG_SMT'], how='left')"
      ],
      "metadata": {
        "id": "91WWR4kLLvNT"
      },
      "execution_count": null,
      "outputs": []
    },
    {
      "cell_type": "code",
      "source": [
        "# total gpa 파생변수 생성\n",
        "total_gpa = [] \n",
        "\n",
        "for name in df['STUDENT_CD'].unique().tolist() : \n",
        "    tp = df[df['STUDENT_CD']==name].reset_index(drop=True)\n",
        "    gpa = 0\n",
        "    if tp['GPA'][0] == tp['GPA'][0] : \n",
        "        gpa = tp['GPA'][0]\n",
        "        total_gpa.append(gpa)\n",
        "    else : \n",
        "        total_gpa.append(gpa)\n",
        "    for i in range(1, len(tp)) : \n",
        "        if tp['GPA'][i] != tp['GPA'][i] : \n",
        "            total_gpa.append(gpa)\n",
        "        else : \n",
        "            gpa = (gpa + tp['GPA'][i])/2\n",
        "            total_gpa.append(gpa)\n",
        "            \n",
        "df['TOTAL_GPA'] = total_gpa\n",
        "df['TOTAL_GPA'] = df['TOTAL_GPA'].round(2)"
      ],
      "metadata": {
        "id": "M5EoOxRFLvP7"
      },
      "execution_count": null,
      "outputs": []
    },
    {
      "cell_type": "code",
      "source": [
        "# icap 데이터 구축하는 함수 -> 내부 전역변수 선언이 있어 위치 변동 불가\n",
        "def en_icap(data, date, columns) : \n",
        "    en_pau = data.copy()\n",
        "    en_pau.dropna(subset=date, inplace=True)\n",
        "    en_pau = en_pau.reset_index(drop=True)\n",
        "\n",
        "    year_list = []\n",
        "    semester_list = []\n",
        "\n",
        "    for i in range(len(en_pau)) : \n",
        "        year = int(en_pau[date][i][0:4])\n",
        "        month = int(en_pau[date][i][5:7])\n",
        "        year_list.append(year)\n",
        "        if month >= 3 and month <=8 : \n",
        "            semester_list.append(1)\n",
        "        else : \n",
        "            semester_list.append(2)\n",
        "\n",
        "    en_pau['CHG_YEAR'] = year_list\n",
        "    en_pau['CHG_SMT'] = semester_list\n",
        "\n",
        "    en_pau = en_pau[['PID', columns, 'CHG_YEAR', 'CHG_SMT']]\n",
        "    en_pau.rename(columns={'PID' : 'STUDENT_CD'}, inplace=True)\n",
        "\n",
        "    for i in range(len(en_pau)) : \n",
        "        if len(en_pau['STUDENT_CD'][i]) != 8 : \n",
        "            en_pau = en_pau.drop(i, axis=0)\n",
        "\n",
        "    en_pau['STUDENT_CD'] = en_pau['STUDENT_CD'].astype(\"int64\")\n",
        "    global df\n",
        "    df = pd.merge(df, en_pau, on = ['STUDENT_CD', 'CHG_YEAR', 'CHG_SMT'], how='left')"
      ],
      "metadata": {
        "id": "GFCuqITNLvSf"
      },
      "execution_count": null,
      "outputs": []
    },
    {
      "cell_type": "code",
      "source": [
        "# icap\n",
        "en_icap(pau, 'TESTDATE', 'ISPAU')\n",
        "en_icap(jtu, 'TESTDATE', 'ISJTU')\n",
        "en_icap(ncs, 'WDATE', 'ISNCS')\n",
        "en_icap(hcp, 'TESTDATE', 'ISHCP')\n",
        "en_icap(dlc, 'TESTDATE', 'ISDLC')"
      ],
      "metadata": {
        "id": "IAIKwWT4LvVD"
      },
      "execution_count": null,
      "outputs": []
    },
    {
      "cell_type": "code",
      "source": [
        "df['CHG_SMT'] = df['CHG_SMT'].astype('int64')\n",
        "df['STUDENT_CD'] = df['STUDENT_CD'].astype('str')"
      ],
      "metadata": {
        "id": "MJc_wzwaLvXO"
      },
      "execution_count": null,
      "outputs": []
    },
    {
      "cell_type": "code",
      "source": [
        "# 0207 수정\n",
        "name_data = name_data[['학번', '이름']]\n",
        "name_data.rename(columns={'학번' : 'STUDENT_CD'}, inplace=True)\n",
        "df = pd.merge(df, name_data, on = ['STUDENT_CD'], how='left')"
      ],
      "metadata": {
        "id": "vJhR7S4BL0BM"
      },
      "execution_count": null,
      "outputs": []
    },
    {
      "cell_type": "code",
      "source": [
        "def lib_pre(data, date, number) : \n",
        "    en_data = data.copy()\n",
        "    year_list = []\n",
        "    smt_list = []\n",
        "\n",
        "    for i in range(len(en_data)) : \n",
        "        year_list.append(str(en_data[date][i])[:4])\n",
        "        if str(en_data[date][i])[-2:] in ['03', '04', '05' ,'06', '07', '08'] : \n",
        "            smt_list.append(1)\n",
        "        else : \n",
        "            smt_list.append(2)\n",
        "\n",
        "    en_data['CHG_YEAR'] = year_list\n",
        "    en_data['CHG_SMT'] = smt_list\n",
        "    en_data.drop([date], axis=1, inplace=True)\n",
        "    en_data['CHG_YEAR'] = en_data['CHG_YEAR'].astype('int64')\n",
        "    en_data.rename(columns={number : 'STUDENT_CD'}, inplace=True)\n",
        "    return en_data"
      ],
      "metadata": {
        "id": "YEhglpT-L0Dg"
      },
      "execution_count": null,
      "outputs": []
    },
    {
      "cell_type": "code",
      "source": [
        "# gate\n",
        "en_gate = lib_pre(gate, 'ENTER_DATE', 'ID')\n",
        "en_gate_new = pd.concat([lib(en_gate, 2020, 1, 'ENTER_COUNT'), lib(en_gate, 2020, 2, 'ENTER_COUNT'), lib(en_gate, 2021, 1, 'ENTER_COUNT'), \n",
        "                         lib(en_gate, 2021, 2, 'ENTER_COUNT'), lib(en_gate, 2022, 1, 'ENTER_COUNT'), lib(en_gate, 2022, 2, 'ENTER_COUNT')], axis=0)\n",
        "\n",
        "df = pd.merge(df, en_gate_new, on = ['STUDENT_CD', 'CHG_YEAR', 'CHG_SMT'], how='left')"
      ],
      "metadata": {
        "id": "-t7boFUVL0GI"
      },
      "execution_count": null,
      "outputs": []
    },
    {
      "cell_type": "code",
      "source": [
        "# book\n",
        "book.drop(['CLASS_NO'], axis=1, inplace=True)\n",
        "en_book = lib_pre(book, 'CHARGE_DATE', 'MEMBER_NO')\n",
        "\n",
        "en_book_new = pd.concat([lib(en_book, 2020, 1, 'CHARGE_CNT'), lib(en_book, 2020, 2, 'CHARGE_CNT'), lib(en_book, 2021, 1, 'CHARGE_CNT'), \n",
        "                         lib(en_book, 2021, 2, 'CHARGE_CNT'), lib(en_book, 2022, 1, 'CHARGE_CNT'), lib(en_book, 2022, 2, 'CHARGE_CNT')], axis=0)\n",
        "\n",
        "df = pd.merge(df, en_book_new, on = ['STUDENT_CD', 'CHG_YEAR', 'CHG_SMT'], how='left')"
      ],
      "metadata": {
        "id": "21s9iyxWL0Is"
      },
      "execution_count": null,
      "outputs": []
    },
    {
      "cell_type": "code",
      "source": [
        "# room\n",
        "en_room = lib_pre(room, 'CHARGE_DATE', 'MEMBER_NO')\n",
        "\n",
        "en_room_new = pd.concat([lib(en_room, 2020, 1, 'ROOM_CHARGE_CNT'), lib(en_room, 2020, 2, 'ROOM_CHARGE_CNT'), lib(en_room, 2021, 1, 'ROOM_CHARGE_CNT'), \n",
        "                         lib(en_room, 2021, 2, 'ROOM_CHARGE_CNT'), lib(en_room, 2022, 1, 'ROOM_CHARGE_CNT'), lib(en_room, 2022, 2, 'ROOM_CHARGE_CNT')], axis=0)\n",
        "\n",
        "df = pd.merge(df, en_room_new, on = ['STUDENT_CD', 'CHG_YEAR', 'CHG_SMT'], how='left')"
      ],
      "metadata": {
        "id": "XOiEGUhcL0LV"
      },
      "execution_count": null,
      "outputs": []
    },
    {
      "cell_type": "code",
      "source": [
        "# seat\n",
        "en_seat = lib_pre(seat, 'CHARGE_DATE', 'MEMBER_NO')\n",
        "\n",
        "en_seat_new = pd.concat([lib(en_seat, 2020, 1, 'SEAT_CHARGE_CNT'), lib(en_seat, 2020, 2, 'SEAT_CHARGE_CNT'), lib(en_seat, 2021, 1, 'SEAT_CHARGE_CNT'), \n",
        "                         lib(en_seat, 2021, 2, 'SEAT_CHARGE_CNT'), lib(en_seat, 2022, 1, 'SEAT_CHARGE_CNT'), lib(en_seat, 2022, 2, 'SEAT_CHARGE_CNT')], axis=0)\n",
        "\n",
        "df = pd.merge(df, en_seat_new, on = ['STUDENT_CD', 'CHG_YEAR', 'CHG_SMT'], how='left')"
      ],
      "metadata": {
        "id": "qq1qyB-mL0N1"
      },
      "execution_count": null,
      "outputs": []
    },
    {
      "cell_type": "code",
      "source": [
        "# 여기까지 각 데이터 연결 완료 -> 이후부터 labeling 작업\n",
        "# 재학인원 값 부여\n",
        "temp = df.copy()\n",
        "temp = temp.sort_values(by=['STUDENT_CD', 'CHG_YEAR', 'CHG_SMT'], ascending=True).reset_index(drop=True)\n",
        "for i in range(len(temp)) : \n",
        "    if (temp['CDT_APPLY'][i] == temp['CDT_APPLY'][i]) & (temp['CHG_DIV'][i] != temp['CHG_DIV'][i]) : \n",
        "        temp['CHG_DIV'][i] = '재학'"
      ],
      "metadata": {
        "id": "f-oXKAOOL4ut"
      },
      "execution_count": null,
      "outputs": []
    },
    {
      "cell_type": "code",
      "source": [
        "# 휴학인원 재분류\n",
        "temp['CHG_NM'].replace('병고휴학', '일반휴학', inplace=True)\n",
        "hakj = []\n",
        "\n",
        "for name in temp['STUDENT_CD'].unique().tolist() : \n",
        "    tp = temp[temp['STUDENT_CD']==name]\n",
        "    hakj_list = []\n",
        "    if tp['CHG_DIV'].tolist()[0] == '휴학' : \n",
        "        hakj_list.append(tp['CHG_NM'].tolist()[0])\n",
        "    else: \n",
        "        hakj_list.append(tp['CHG_DIV'].tolist()[0])\n",
        "    for i in range(1, len(tp)) : \n",
        "        if (tp['CHG_DIV'].tolist()[i] != tp['CHG_DIV'].tolist()[i]) & (hakj_list[i-1] == '군입대휴학') : \n",
        "            hakj_list.append('군입대휴학')\n",
        "        elif (tp['CHG_DIV'].tolist()[i] != tp['CHG_DIV'].tolist()[i]) & (hakj_list[i-1] == '일반휴학') : \n",
        "            hakj_list.append('일반휴학')\n",
        "        else : \n",
        "            if tp['CHG_DIV'].tolist()[i] == '휴학' : \n",
        "                hakj_list.append(tp['CHG_NM'].tolist()[i])\n",
        "            else : \n",
        "                hakj_list.append(tp['CHG_DIV'].tolist()[i])\n",
        "    hakj += hakj_list\n",
        "    \n",
        "temp['CHG_DIV'] = hakj"
      ],
      "metadata": {
        "id": "dYHfyPtSL4xv"
      },
      "execution_count": null,
      "outputs": []
    },
    {
      "cell_type": "code",
      "source": [
        "# 학점정보가 없고 모든 학적이 Null값인 경우 사용하기 어려운 데이터로 파악해 제거 -> drop_idx_1\n",
        "# 편입생들의 경우 학적변동이 없고 22년도(최근 1년) 데이터가 모두 결측치일 때, 졸업이라고 추정하여 해당 학기 값 제거 -> drop_idx_2\n",
        "drop_idx_1 = []\n",
        "drop_idx_2 = []\n",
        "\n",
        "for name in temp['STUDENT_CD'].unique().tolist() : \n",
        "    tp = temp[temp['STUDENT_CD']==name]\n",
        "    if tp['CHG_DIV'].isnull().sum() == len(tp) : \n",
        "        drop_idx_1 += tp.index.tolist()\n",
        "    if tp['ENTER_TYPE'].tolist()[:1][0] == '편입' : \n",
        "        if tp['CHG_DIV'].isnull().sum() != len(tp) : \n",
        "            if (tp['CHG_DIV'].tolist()[-1:][0] != tp['CHG_DIV'].tolist()[-1:][0]) : \n",
        "                drop_idx_2 += tp.index.tolist()[-1:]\n",
        "                if (tp['CHG_DIV'].tolist()[-2:-1][0] != tp['CHG_DIV'].tolist()[-2:-1][0]) :\n",
        "                    drop_idx_2 += tp.index.tolist()[-2:-1]\n",
        "                    \n",
        "temp = temp.drop(drop_idx_1, axis=0)\n",
        "temp = temp.drop(drop_idx_2, axis=0)"
      ],
      "metadata": {
        "id": "WJcoAud4L40V"
      },
      "execution_count": null,
      "outputs": []
    },
    {
      "cell_type": "code",
      "source": [
        "# '위험'이라는 신규 카테고리 생성 \n",
        "temp['CHG_DIV'] = temp['CHG_DIV'].fillna('위험')\n",
        "temp_data = temp.copy()\n",
        "temp_data = temp_data.reset_index(drop=True)"
      ],
      "metadata": {
        "id": "iRtaAjNtL427"
      },
      "execution_count": null,
      "outputs": []
    },
    {
      "cell_type": "code",
      "source": [
        "# 연속된 휴학횟수 카운팅\n",
        "HUHAK_list = ['군입대휴학', '일반휴학']\n",
        "cnt = 0 \n",
        "seq_list = [0]\n",
        "\n",
        "for i in range(1, len(temp_data)) : \n",
        "    if temp_data['STUDENT_CD'][i] == temp_data['STUDENT_CD'][i-1] : \n",
        "        if temp_data['CHG_DIV'][i] in HUHAK_list : \n",
        "            cnt += 1\n",
        "            seq_list.append(cnt)\n",
        "        else : \n",
        "            cnt = 0\n",
        "            seq_list.append(cnt)\n",
        "    else : \n",
        "        cnt = 0\n",
        "        if temp_data['CHG_DIV'][i] in HUHAK_list : \n",
        "            cnt += 1\n",
        "            seq_list.append(cnt)\n",
        "        else : \n",
        "            seq_list.append(cnt)\n",
        "            \n",
        "temp_data['seq'] = seq_list"
      ],
      "metadata": {
        "id": "xHkBB1n0L45h"
      },
      "execution_count": null,
      "outputs": []
    },
    {
      "cell_type": "code",
      "source": [
        "# 년도-학기를 하나의 column에 합치기 ex) 20221\n",
        "yy = []\n",
        "for i in range(len(temp_data)) : \n",
        "    sem = str(temp_data['CHG_YEAR'][i])+str(temp_data['CHG_SMT'][i])\n",
        "    yy.append(sem)\n",
        "    \n",
        "temp_data['YYHAKGI'] = yy"
      ],
      "metadata": {
        "id": "4N-1VfevL48V"
      },
      "execution_count": null,
      "outputs": []
    },
    {
      "cell_type": "code",
      "source": [
        "# 시점에 따른 Labeling 작업 진행\n",
        "semester_list = temp_data['YYHAKGI'].unique().tolist()\n",
        "dropout_list = []\n",
        "seq_drop_list = []\n",
        "# temp_list = [] \n",
        "\n",
        "for i in range(len(temp_data)) : \n",
        "    if temp_data['YYHAKGI'][i] != '20222' : \n",
        "        next_semester = semester_list[semester_list.index(temp_data['YYHAKGI'][i])+1]\n",
        "        temp_frame = temp_data.loc[(temp_data['YYHAKGI']==next_semester) & (temp_data['STUDENT_CD'] == temp_data['STUDENT_CD'][i])].reset_index(drop=True)\n",
        "        if len(temp_frame) == 0 : \n",
        "            dropout_list.append(\"NoData\")\n",
        "            seq_drop_list.append(\"NOData\")\n",
        "        else : \n",
        "            dropout_list.append(temp_frame['CHG_DIV'][0])\n",
        "            seq_drop_list.append(temp_frame['seq'][0])\n",
        "    else : \n",
        "        dropout_list.append(\"NoData\")\n",
        "        seq_drop_list.append(\"NoData\")\n",
        "\n",
        "temp_data['HAKJ'] = dropout_list\n",
        "temp_data['seq_la'] = seq_drop_list"
      ],
      "metadata": {
        "id": "JN9rBPNVL4-e"
      },
      "execution_count": null,
      "outputs": []
    },
    {
      "cell_type": "code",
      "source": [
        "# label 부여\n",
        "label_list = []\n",
        "\n",
        "for i in range(len(temp_data)) : \n",
        "    if temp_data['HAKJ'][i] in ['재학', '복학', '전과'] : \n",
        "        label_list.append(0)\n",
        "    elif temp_data['HAKJ'][i] in ['제적', '위험'] : \n",
        "        label_list.append(1)\n",
        "    elif temp_data['HAKJ'][i] == '군입대휴학' : \n",
        "        if temp_data['seq_la'][i] > 4 : #column명 수정\n",
        "            label_list.append(1)\n",
        "        else : \n",
        "            label_list.append(0)\n",
        "    elif temp_data['HAKJ'][i] == '일반휴학' : \n",
        "        if temp_data['seq_la'][i] > 2 : #column명 수정\n",
        "            label_list.append(1)\n",
        "        else : label_list.append(0)\n",
        "    else : \n",
        "        label_list.append(\"NoData\")\n",
        "        \n",
        "temp_data['LABEL'] = label_list"
      ],
      "metadata": {
        "id": "RI-vS5HtL-SC"
      },
      "execution_count": null,
      "outputs": []
    },
    {
      "cell_type": "code",
      "source": [
        "# 0208 수정\n",
        "temp_data.drop(['seq', 'YYHAKGI', 'HAKJ', 'seq_la', 'CHG_NM', 'CHG_REA'], axis=1, inplace=True)"
      ],
      "metadata": {
        "id": "cYIWPPH2L-Uw"
      },
      "execution_count": null,
      "outputs": []
    },
    {
      "cell_type": "code",
      "source": [
        "# 결측비율 계산\n",
        "missing_temp = temp_data.loc[(temp_data['CHG_YEAR']==2021) & (temp_data['CHG_SMT']==1)] \n",
        "missing_temp = missing_temp.loc[missing_temp['LABEL'] != 'NoData']\n",
        "missing_rate = (missing_temp.isnull().sum()/len(missing_temp)).to_dict()"
      ],
      "metadata": {
        "id": "NghfX5VbL-XW"
      },
      "execution_count": null,
      "outputs": []
    },
    {
      "cell_type": "code",
      "source": [
        "en_data = temp_data.copy()"
      ],
      "metadata": {
        "id": "DgnNn_GzL-Z9"
      },
      "execution_count": null,
      "outputs": []
    },
    {
      "cell_type": "code",
      "source": [
        "# 결측치 전처리\n",
        "en_data['HI_SCH_AREA'] = en_data['HI_SCH_AREA'].fillna('서울')\n",
        "for i in range(len(en_data)) : \n",
        "    if en_data['GRADUATION_YEAR'][i] != en_data['GRADUATION_YEAR'][i] : \n",
        "        en_data['GRADUATION_YEAR'][i] = en_data['ENTER_YEAR'][i]\n",
        "        \n",
        "en_data[['MAJOR_NM', 'DOUBLE_MAJOR_NM', 'LINK_MAJOR_NM', 'SUB_MAJOR_NM']] = en_data[['MAJOR_NM', 'DOUBLE_MAJOR_NM', 'LINK_MAJOR_NM', 'SUB_MAJOR_NM']].fillna('없음')"
      ],
      "metadata": {
        "id": "-GfVfva0L-cn"
      },
      "execution_count": null,
      "outputs": []
    },
    {
      "cell_type": "code",
      "source": [
        "en_data['IS_REG_STUDENT_FEE'] = en_data['IS_REG_STUDENT_FEE'].fillna('Y')\n",
        "en_data['IS_REG_YET'] = en_data['IS_REG_YET'].fillna('Y')\n",
        "en_data['IS_REG_DIV'] = en_data['IS_REG_DIV'].fillna('N')\n",
        "en_data['CONFIRM_YN'] = en_data['CONFIRM_YN'].fillna('N')\n",
        "en_data['CONTINUE_YN'] = en_data['CONTINUE_YN'].fillna('N')\n",
        "en_data['WORK_YN'] = en_data['WORK_YN'].fillna('N')\n",
        "en_data['WARN_YN'] = en_data['WARN_YN'].fillna('N')\n",
        "en_data['ISPAU'] = en_data['ISPAU'].fillna('N')\n",
        "en_data['ISJTU'] = en_data['ISJTU'].fillna('N')\n",
        "en_data['ISNCS'] = en_data['ISNCS'].fillna('N')\n",
        "en_data['ISHCP'] = en_data['ISHCP'].fillna('N')\n",
        "en_data['ISDLC'] = en_data['ISDLC'].fillna('N')"
      ],
      "metadata": {
        "id": "HrVrRAB-L-fK"
      },
      "execution_count": null,
      "outputs": []
    },
    {
      "cell_type": "code",
      "source": [
        "en_data = en_data.fillna(0)"
      ],
      "metadata": {
        "id": "vvbupSIGMC3w"
      },
      "execution_count": null,
      "outputs": []
    },
    {
      "cell_type": "code",
      "source": [
        "train_data = en_data.loc[(en_data['CHG_YEAR']==2021) & (en_data['CHG_SMT']==1)]\n",
        "inf_data = en_data.loc[(en_data['CHG_YEAR']==2022) & (en_data['CHG_SMT']==2)]"
      ],
      "metadata": {
        "id": "O8pHEnW7MC6q"
      },
      "execution_count": null,
      "outputs": []
    },
    {
      "cell_type": "code",
      "source": [
        "train_data = train_data.loc[train_data['LABEL'] != 'NoData']\n",
        "inf_data.drop(['LABEL'], axis=1, inplace=True)"
      ],
      "metadata": {
        "id": "QfOfVlVcMC9Q"
      },
      "execution_count": null,
      "outputs": []
    },
    {
      "cell_type": "code",
      "source": [
        "# 0208 추가\n",
        "inf_data = inf_data.reset_index(drop=True)\n",
        "for i in range(len(inf_data)) : \n",
        "    if inf_data['CHG_DIV'][i] in ['제적'] : \n",
        "        inf_data.drop([i], axis=0, inplace=True)"
      ],
      "metadata": {
        "id": "UvdQOz7NMC_5"
      },
      "execution_count": null,
      "outputs": []
    },
    {
      "cell_type": "code",
      "source": [
        "# 0208 최종\n",
        "train_data['CHG_DIV'].replace({'복학' : '재학',  '전과' : '재학', '위험' : '재학'}, inplace=True)\n",
        "inf_data['CHG_DIV'].replace({'복학' : '재학', '전과' : '재학', '위험' : '재학'}, inplace=True)"
      ],
      "metadata": {
        "id": "FmpPbabLMGyH"
      },
      "execution_count": null,
      "outputs": []
    },
    {
      "cell_type": "code",
      "source": [
        "name_dict = {}\n",
        "for i in range(len(column_name)) : \n",
        "    name_dict[column_name['feature'][i]] = column_name['feature_name'][i]"
      ],
      "metadata": {
        "id": "50_jtltkMG1A"
      },
      "execution_count": null,
      "outputs": []
    },
    {
      "cell_type": "code",
      "source": [
        "# train_data, inference_data 분리, missing_rate pickle 저장\n",
        "train_data.to_csv('/ml/algorithmlabs.inference/train_data.csv', index=False)\n",
        "inf_data.to_csv('/ml/algorithmlabs.inference/inference_data.csv', index=False)\n",
        "joblib.dump(missing_rate, '/ml/algorithmlabs.inference/pickle/missing_rate.pkl')\n",
        "joblib.dump(name_dict, '/ml/algorithmlabs.inference/pickle/name_dict.pkl')"
      ],
      "metadata": {
        "id": "c1fwqjjuMG3J"
      },
      "execution_count": null,
      "outputs": []
    }
  ]
}