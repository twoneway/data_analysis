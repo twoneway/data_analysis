{
  "cells": [
    {
      "cell_type": "code",
      "execution_count": null,
      "metadata": {
        "id": "AZAg_Q41Lp26"
      },
      "outputs": [],
      "source": [
        "# 모델 학습(Training Data)"
      ]
    },
    {
      "cell_type": "code",
      "execution_count": null,
      "metadata": {
        "colab": {
          "base_uri": "https://localhost:8080/"
        },
        "id": "G3xREUL9qeHp",
        "outputId": "fc7e8ff4-8341-461f-b4b2-76233ae554a8"
      },
      "outputs": [],
      "source": [
        "from google.colab import drive\n",
        "drive.mount('/content/drive')"
      ]
    },
    {
      "cell_type": "code",
      "execution_count": null,
      "metadata": {
        "id": "QhD766q7uYA1"
      },
      "outputs": [],
      "source": [
        "import pandas as pd\n",
        "import numpy as np\n",
        "from sklearn.model_selection import train_test_split\n",
        "from sklearn.preprocessing import StandardScaler\n",
        "from sklearn.ensemble import AdaBoostRegressor\n",
        "from sklearn.tree import DecisionTreeRegressor\n",
        "from sklearn.metrics import mean_absolute_error, mean_squared_error, mean_absolute_percentage_error, r2_score\n",
        "from math import sqrt"
      ]
    },
    {
      "cell_type": "code",
      "execution_count": null,
      "metadata": {
        "id": "8_t9URY5yCtw"
      },
      "outputs": [],
      "source": [
        "raw_data=pd.read_csv('/content/drive/My Drive/Colab Notebooks/performance forecasting(train data)_v2.csv')"
      ]
    },
    {
      "cell_type": "code",
      "execution_count": null,
      "metadata": {
        "id": "y-MEDJ8zyJJ6"
      },
      "outputs": [],
      "source": [
        "random_seed = 4"
      ]
    },
    {
      "cell_type": "code",
      "execution_count": null,
      "metadata": {
        "colab": {
          "base_uri": "https://localhost:8080/",
          "height": 73
        },
        "id": "9HvUGGquyiMj",
        "outputId": "96248e41-d6e8-4d52-a353-96cc89c638ae"
      },
      "outputs": [],
      "source": [
        "'''\n",
        "scaling = raw_data.drop(['9블록(5등급)', '이름', '직책', '직급', '성별', '학력', '입사경로(경력/신입)', '팀코드'], axis=1)\n",
        "scaler = StandardScaler()\n",
        "scaler.fit(scaling)\n",
        "scaled = scaler.transform(scaling)\n",
        "scaling = pd.DataFrame(data=scaled, index=scaling.index, columns=scaling.columns)\n",
        "categorical_data = raw_data[['9블록(5등급)', '이름', '직책', '직급', '성별', '학력', '입사경로(경력/신입)', '팀코드']]\n",
        "raw_data = pd.concat([scaling, categorical_data], axis=1)\n",
        "'''"
      ]
    },
    {
      "cell_type": "code",
      "execution_count": null,
      "metadata": {
        "id": "B_vJOriRyMGI"
      },
      "outputs": [],
      "source": [
        "X = pd.get_dummies(raw_data.drop(['9블록(5등급)', '이름', '팀코드', '팀번호'], axis=1), columns = ['직책', '직급', '성별', '학력', '입사경로(경력/신입)'], drop_first=True)\n",
        "y = raw_data['9블록(5등급)']"
      ]
    },
    {
      "cell_type": "code",
      "execution_count": null,
      "metadata": {
        "id": "KDNp-yaI2fKz"
      },
      "outputs": [],
      "source": [
        "scaler = StandardScaler()\n",
        "scaler.fit(X)\n",
        "X_scaled = scaler.transform(X)\n",
        "X = pd.DataFrame(data=X_scaled, index=X.index, columns=X.columns)"
      ]
    },
    {
      "cell_type": "code",
      "execution_count": null,
      "metadata": {
        "id": "46azHT-dkWlx"
      },
      "outputs": [],
      "source": [
        "X = pd.concat([X, raw_data['팀번호']], axis=1)"
      ]
    },
    {
      "cell_type": "code",
      "execution_count": null,
      "metadata": {
        "id": "iio5dgAi1IEx"
      },
      "outputs": [],
      "source": [
        "X_train, X_test, y_train, y_test = train_test_split(X, y, test_size=0.3, random_state=random_seed)"
      ]
    },
    {
      "cell_type": "code",
      "execution_count": null,
      "metadata": {
        "id": "qd4H0Xz11i92"
      },
      "outputs": [],
      "source": [
        "model_ada = AdaBoostRegressor(DecisionTreeRegressor(max_depth = 8), n_estimators=700, learning_rate = 0.05, random_state=random_seed)\n",
        "model_ada.fit(X_train, y_train)\n",
        "pred_ada = model_ada.predict(X_test)"
      ]
    },
    {
      "cell_type": "code",
      "execution_count": null,
      "metadata": {
        "id": "jDmmgjMbL1sK"
      },
      "outputs": [],
      "source": [
        "# 학습 모델 평가지표"
      ]
    },
    {
      "cell_type": "code",
      "execution_count": null,
      "metadata": {
        "colab": {
          "base_uri": "https://localhost:8080/"
        },
        "id": "UEFy2RfdFY9K",
        "outputId": "7df729dd-1fa3-4afc-9c2b-8002177b9f0a"
      },
      "outputs": [],
      "source": [
        "print('MAE = {:.3f}'.format(mean_absolute_error(y_test, pred_ada)))\n",
        "print('RMSE = {:.3f}'.format(sqrt(mean_squared_error(y_test, pred_ada, squared=False))))\n",
        "print('MAPE = {:.3f}'.format(mean_absolute_percentage_error(y_test, pred_ada)))\n",
        "print('r2 score = {:.3f}'.format(r2_score(y_test, pred_ada)))"
      ]
    },
    {
      "cell_type": "code",
      "execution_count": null,
      "metadata": {
        "id": "yERorF-mL6Tg"
      },
      "outputs": [],
      "source": [
        "# 모델 예측(Inference Data)"
      ]
    },
    {
      "cell_type": "code",
      "execution_count": null,
      "metadata": {
        "id": "hyNL94hB-H1k"
      },
      "outputs": [],
      "source": [
        "in_data = pd.read_csv('/content/drive/My Drive/Colab Notebooks/performance forecasting(inference data)_v2.csv')"
      ]
    },
    {
      "cell_type": "code",
      "execution_count": null,
      "metadata": {
        "id": "N1P0fa0XPBXf"
      },
      "outputs": [],
      "source": [
        "rest_data = in_data.drop(['사원 번호', '이름', '부문명', '본부명', '팀명', '팀코드', '팀번호'], axis=1)"
      ]
    },
    {
      "cell_type": "code",
      "execution_count": null,
      "metadata": {
        "colab": {
          "base_uri": "https://localhost:8080/",
          "height": 55
        },
        "id": "eOPCPcNNz7aM",
        "outputId": "3343d517-0cd0-4d2d-8817-26865f614526"
      },
      "outputs": [],
      "source": [
        "'''\n",
        "in_scaling = rest_data.drop(['직책', '직급', '성별', '학력', '입사경로(경력/신입)', '팀코드'], axis=1)\n",
        "in_scaled = scaler.transform(in_scaling)\n",
        "in_scaling = pd.DataFrame(data=in_scaled, index=in_scaling.index, columns=in_scaling.columns)\n",
        "categorical_in_data = in_data[['직책', '직급', '성별', '학력', '입사경로(경력/신입)', '팀코드']]\n",
        "rest_data = pd.concat([in_scaling, categorical_in_data], axis=1)\n",
        "rest_data\n",
        "'''"
      ]
    },
    {
      "cell_type": "code",
      "execution_count": null,
      "metadata": {
        "id": "tun2kKLIFupf"
      },
      "outputs": [],
      "source": [
        "# drop하여 제거하는 '사원 번호', '이름', '부문명', '본부명', '팀명' 5개 column은 모델링에 미활용하는 HR 인사정보 데이터\n",
        "inference_data = pd.get_dummies(rest_data,\n",
        "                                  columns = ['직책', '직급', '성별', '학력', '입사경로(경력/신입)'], drop_first=True)"
      ]
    },
    {
      "cell_type": "code",
      "execution_count": null,
      "metadata": {
        "id": "OHQqba4wSu_n"
      },
      "outputs": [],
      "source": [
        "inference_data['목표달성도'] = inference_data['목표달성도']+0.226"
      ]
    },
    {
      "cell_type": "code",
      "execution_count": null,
      "metadata": {
        "id": "dz8Cpis4OgiQ"
      },
      "outputs": [],
      "source": [
        "#csv 파일 저장 코드"
      ]
    },
    {
      "cell_type": "code",
      "execution_count": null,
      "metadata": {
        "id": "HTaOXK1xOiiw"
      },
      "outputs": [],
      "source": [
        "real_model = model_ada\n",
        "path = \"/content/drive/MyDrive/Colab Notebooks/\"\n",
        "'''\n",
        "fixed_col_name = ['직급(과거)', '생년', '입사일', 'GC근속기간 월단위', '외부 경력 월단위', '총경력 월단위', '이직횟수',\n",
        "       '포상', '사내MBA 선발대상', 'two_years_ago', 'one_years_ago', '목표(개수)', '목표달성도',\n",
        "       '주기성', '체크인 횟수', '코멘트 횟수', '받은 배지(all)', '받은 배지(내부)', '받은 배지(외부)',\n",
        "       '보낸 배지(all)', '보낸 배지(내부)', '보낸 배지(외부)', '빠르게_긍정응답율', '젊게_긍정응답율',\n",
        "       '강하게_긍정응답율', '단도직입문항1_긍정응답율', '단도직입문항2_긍정응답율', 'taskboard 개수',\n",
        "       'task 개수', 'task comment 개수', '직책[팀장]', '직급[G2]', '직급[G3]', '직급[S1]',\n",
        "       '직급[S2]','성별[여]', '학력[대학-졸업]', '학력[박사]', '학력[석사]', '학력[전문대-졸업]',\n",
        "       '입사경로(경력/신입)[신입]']\n",
        "'''\n",
        "X = inference_data\n",
        "scaled_X = scaler.transform(inference_data)\n",
        "y = []"
      ]
    },
    {
      "cell_type": "code",
      "execution_count": null,
      "metadata": {
        "id": "6-ZqGPvjlNj9"
      },
      "outputs": [],
      "source": [
        "inference_data = pd.DataFrame(data=scaled_X, index=inference_data.index, columns=inference_data.columns)"
      ]
    },
    {
      "cell_type": "code",
      "execution_count": null,
      "metadata": {
        "id": "P7OCIS8qlkQS"
      },
      "outputs": [],
      "source": [
        "inference_data = pd.concat([inference_data, in_data['팀번호']], axis=1)"
      ]
    },
    {
      "cell_type": "code",
      "execution_count": null,
      "metadata": {
        "colab": {
          "base_uri": "https://localhost:8080/",
          "height": 1000,
          "referenced_widgets": [
            "b51d18f1af4d42cc8c1ac942aa228a96",
            "022dbbc4105e4cdeac9771b66ac99735",
            "2b700a7a93544640851a2aa8ad07aaa8",
            "805ee1ea5e1d427fb4d4266f82e62e1d",
            "ebfbaa252fce448291284c6d909b77cd",
            "186d5e6cbe2a4549bc4d48650dfdf59a",
            "3265106e73534c69b35af6be0c2db675",
            "22e673433cce418797cc78c696a47877",
            "363d0dba37c34e1287c7f9a376760f8c",
            "eb1d49c2f7be4bedaed5445cf09ec44b",
            "38380f780f404e7ca41641ff35cc3552"
          ]
        },
        "id": "166pWDIlOldG",
        "outputId": "fdf306f2-9688-48f4-d771-d971ec1fda3c"
      },
      "outputs": [],
      "source": [
        "#변경사항1\n",
        "# link = 'logit' 제거 -> link 파라미터 사용 시 결측값이 포함되었다는 에러와 함께 실행 중단되어 해당 파라미터 제거\n",
        "# Input contains NaN, infinity or a value too large for dtype('float64')\n",
        "# github 참고하여 위 logit 제거 방법 솔루션 리서치했지만 원인 및 해결이유는 설명하지 않아 파악 어려움  \n",
        "# X does not have valid feature names, but SVC was fitted with feature names <- 원인파악 불가, 코드는 중단없이 계속 실행\n",
        "# 위 'X~'이슈의 경우 jupyter notebook에서 동일한 코드 실행결과 이슈가 발생하지 않아 colab 환경문제로 생각\n",
        "!pip install shap\n",
        "import shap\n",
        "shap.initjs()\n",
        "explainer = shap.KernelExplainer(model_ada.predict, X_train)\n",
        "shap_values = explainer.shap_values(scaled_X)"
      ]
    },
    {
      "cell_type": "code",
      "execution_count": null,
      "metadata": {
        "id": "UmvHoOc8Ol81"
      },
      "outputs": [],
      "source": [
        "# 변경사항2\n",
        "# inference 데이터에는 label이 존재하지 않기에 y column 제거\n",
        "# X.columns = fixed_col_name\n",
        "# predicted = real_model.predict(scaled_X)\n",
        "# X.index = pd.RangeIndex(len(scaled_X))\n",
        "predicted = real_model.predict(inference_data)\n",
        "X.index = pd.RangeIndex(len(inference_data))"
      ]
    },
    {
      "cell_type": "code",
      "execution_count": null,
      "metadata": {
        "id": "guTvAuUyOnkC"
      },
      "outputs": [],
      "source": [
        "pred = pd.Series(predicted)\n",
        "pred.name = \"결과\""
      ]
    },
    {
      "cell_type": "code",
      "execution_count": null,
      "metadata": {
        "id": "6o3gWnpSOpAY"
      },
      "outputs": [],
      "source": [
        "inference_data = pd.concat([X, pred], axis=1)\n",
        "inference_data.to_csv(path + \"inference_data.csv\", index=False)"
      ]
    },
    {
      "cell_type": "code",
      "execution_count": null,
      "metadata": {
        "id": "Xc9LgPwl-2MY"
      },
      "outputs": [],
      "source": [
        "metric_data = pd.read_csv('/content/drive/My Drive/Colab Notebooks/metrics_compare.csv')"
      ]
    },
    {
      "cell_type": "code",
      "execution_count": null,
      "metadata": {
        "id": "fCc-ZlRL_TJa"
      },
      "outputs": [],
      "source": [
        "present = metric_data['9블록 점수']\n",
        "modified = metric_data['조직포함(후)']\n",
        "modified_2 = metric_data['조직포함(전)']\n",
        "modified_3 = metric_data['결과']"
      ]
    },
    {
      "cell_type": "code",
      "execution_count": null,
      "metadata": {
        "colab": {
          "base_uri": "https://localhost:8080/"
        },
        "id": "pqYoGC8n_irF",
        "outputId": "6d24c80a-6525-4f65-912e-6866f57f99d4"
      },
      "outputs": [],
      "source": [
        "print('조직포함 데이터(보정치 적용 후)')\n",
        "print('MAE = {:.3f}'.format(mean_absolute_error(present, modified)))\n",
        "print('RMSE = {:.3f}'.format(sqrt(mean_squared_error(present, modified, squared=False))))\n",
        "print('MAPE = {:.3f}'.format(mean_absolute_percentage_error(present, modified)))\n",
        "print('r2 score = {:.3f}'.format(r2_score(present, modified)))"
      ]
    },
    {
      "cell_type": "code",
      "execution_count": null,
      "metadata": {
        "colab": {
          "base_uri": "https://localhost:8080/"
        },
        "id": "jg894tTAA9aF",
        "outputId": "242af66b-f034-45f0-9cbd-df9bbf227aba"
      },
      "outputs": [],
      "source": [
        "print('조직포함 데이터(보정치 적용 전)')\n",
        "print('MAE = {:.3f}'.format(mean_absolute_error(present, modified_2)))\n",
        "print('RMSE = {:.3f}'.format(sqrt(mean_squared_error(present, modified_2, squared=False))))\n",
        "print('MAPE = {:.3f}'.format(mean_absolute_percentage_error(present, modified_2)))\n",
        "print('r2 score = {:.3f}'.format(r2_score(present, modified_2)))"
      ]
    },
    {
      "cell_type": "code",
      "execution_count": null,
      "metadata": {
        "colab": {
          "base_uri": "https://localhost:8080/"
        },
        "id": "BErWYv2HnXfW",
        "outputId": "0067b9c4-f5c2-4b05-c6a3-dd9e0689ed80"
      },
      "outputs": [],
      "source": [
        "print('조직포함 데이터(보정치 적용 후, 조직 미스케일링)')\n",
        "print('MAE = {:.3f}'.format(mean_absolute_error(present, modified_3)))\n",
        "print('RMSE = {:.3f}'.format(sqrt(mean_squared_error(present, modified_3, squared=False))))\n",
        "print('MAPE = {:.3f}'.format(mean_absolute_percentage_error(present, modified_3)))\n",
        "print('r2 score = {:.3f}'.format(r2_score(present, modified_3)))"
      ]
    },
    {
      "cell_type": "code",
      "execution_count": null,
      "metadata": {
        "id": "43LVY0HzOqfM"
      },
      "outputs": [],
      "source": [
        "# 변경사항3\n",
        "# shape_values의 type이 shap._explanation.Explanation -> numpy.ndarray로 변경되어 type에 맞추어 value값 추출\n",
        "importances = np.absolute(shap_values).sum(axis=0) / shap_values.shape[0]\n",
        "feature_importance = pd.Series(importances / sum(importances))\n",
        "feature_importance.index = fixed_col_name\n",
        "feature_importance.to_csv(path + \"feature_importance.csv\", index=True)"
      ]
    },
    {
      "cell_type": "code",
      "execution_count": null,
      "metadata": {
        "id": "SO7zrKukOr_H"
      },
      "outputs": [],
      "source": [
        "means = shap_values.sum(axis=0) / shap_values.shape[0]\n",
        "means = pd.Series(means, index = fixed_col_name)\n",
        "means = means / means.abs().sum()\n",
        "means.columns = [\"feature\", \"mean\"]\n",
        "means.to_csv(path + \"mean_weight.csv\", index=True)"
      ]
    },
    {
      "cell_type": "code",
      "execution_count": null,
      "metadata": {
        "id": "dlM0VlSrOtGp"
      },
      "outputs": [],
      "source": [
        "'''\n",
        "feature_weight = pd.DataFrame(np.array(\n",
        "    [x / np.absolute(x).sum() for x in shap_values]\n",
        "), index = pd.RangeIndex(len(shap_values)), columns = fixed_col_name)\n",
        "feature_weight.to_csv(path + \"feature_weight.csv\", index=False)\n",
        "'''"
      ]
    },
    {
      "cell_type": "code",
      "execution_count": null,
      "metadata": {
        "id": "4W51pQff8jUM"
      },
      "outputs": [],
      "source": [
        "pos_max = shap_values.max(axis=0)\n",
        "neg_max = shap_values.min(axis=0)\n",
        "new_list = []\n",
        "for row in shap_values:\n",
        "  temp = []\n",
        "  for ele, pos, neg in zip(row, pos_max, neg_max):\n",
        "    if ele >= 0:\n",
        "      if max == 0:\n",
        "        temp.append(0)\n",
        "      else:\n",
        "        temp.append(ele/pos)\n",
        "    else:\n",
        "      if neg == 0:\n",
        "        temp.append(0)\n",
        "      else:\n",
        "        temp.append(-ele/neg)\n",
        "  new_list.append(temp)\n",
        "\n",
        "feature_weight = pd.DataFrame(new_list, index = pd.RangeIndex(len(shap_values)), columns = fixed_col_name)\n",
        "feature_weight = feature_weight.fillna(0)\n",
        "      \n",
        "# feature_weight = pd.DataFrame(np.array(\n",
        "#     [x / np.absolute(x).sum() for x in shap_values.values]\n",
        "# ), index = pd.RangeIndex(len(shap_values.values)), columns = fixed_col_name)\n",
        "feature_weight.to_csv(path + \"feature_weight.csv\", index=False)\n",
        "feature_weight"
      ]
    },
    {
      "cell_type": "code",
      "execution_count": null,
      "metadata": {
        "id": "JGkJp6SsgF3R"
      },
      "outputs": [],
      "source": [
        "import matplotlib.pyplot as plt\n",
        "import seaborn as sns\n",
        "from plotly.offline import init_notebook_mode, plot, iplot\n",
        "import plotly.graph_objs as go"
      ]
    },
    {
      "cell_type": "code",
      "execution_count": null,
      "metadata": {
        "colab": {
          "base_uri": "https://localhost:8080/",
          "height": 542
        },
        "id": "viEcaJnbf3UR",
        "outputId": "552de10e-cecf-4739-a5d8-3a2d5f8a0224"
      },
      "outputs": [],
      "source": [
        "# column 그래프 그리기\n",
        "data = raw_data['팀코드'].value_counts().sort_values(ascending=False)\n",
        "trace = go.Bar(x = data.index,\n",
        "               text = ['{:.1f} %'.format(val) for val in (data.values / raw_data.shape[0] * 100)],\n",
        "               textposition = 'auto',\n",
        "               textfont = dict(color = '#000000'),\n",
        "               y = data.values,\n",
        "               )\n",
        "# Create layout\n",
        "layout = dict(title = 'Distribution Of {}'.format('Training set 팀코드'),\n",
        "              xaxis = dict(title = '팀코드'),\n",
        "              yaxis = dict(title = 'Count'))\n",
        "# Create plot\n",
        "fig = go.Figure(data=[trace], layout=layout)\n",
        "iplot(fig)"
      ]
    },
    {
      "cell_type": "code",
      "execution_count": null,
      "metadata": {
        "colab": {
          "base_uri": "https://localhost:8080/",
          "height": 542
        },
        "id": "UpaVGfPih9ek",
        "outputId": "d6689e47-1a56-4500-92eb-8fe6e25c8fd1"
      },
      "outputs": [],
      "source": [
        "# column 그래프 그리기\n",
        "data = in_data['팀코드'].value_counts().sort_values(ascending=False)\n",
        "trace = go.Bar(x = data.index,\n",
        "               text = ['{:.1f} %'.format(val) for val in (data.values / in_data.shape[0] * 100)],\n",
        "               textposition = 'auto',\n",
        "               textfont = dict(color = '#000000'),\n",
        "               y = data.values,\n",
        "               )\n",
        "# Create layout\n",
        "layout = dict(title = 'Distribution Of {}'.format('Test set 팀코드'),\n",
        "              xaxis = dict(title = '팀코드'),\n",
        "              yaxis = dict(title = 'Count'))\n",
        "# Create plot\n",
        "fig = go.Figure(data=[trace], layout=layout)\n",
        "iplot(fig)"
      ]
    }
  ],
  "metadata": {
    "colab": {
      "provenance": []
    },
    "kernelspec": {
      "display_name": "Python 3",
      "name": "python3"
    },
    "language_info": {
      "name": "python"
    },
    "widgets": {
      "application/vnd.jupyter.widget-state+json": {
        "022dbbc4105e4cdeac9771b66ac99735": {
          "model_module": "@jupyter-widgets/base",
          "model_module_version": "1.2.0",
          "model_name": "LayoutModel",
          "state": {
            "_model_module": "@jupyter-widgets/base",
            "_model_module_version": "1.2.0",
            "_model_name": "LayoutModel",
            "_view_count": null,
            "_view_module": "@jupyter-widgets/base",
            "_view_module_version": "1.2.0",
            "_view_name": "LayoutView",
            "align_content": null,
            "align_items": null,
            "align_self": null,
            "border": null,
            "bottom": null,
            "display": null,
            "flex": null,
            "flex_flow": null,
            "grid_area": null,
            "grid_auto_columns": null,
            "grid_auto_flow": null,
            "grid_auto_rows": null,
            "grid_column": null,
            "grid_gap": null,
            "grid_row": null,
            "grid_template_areas": null,
            "grid_template_columns": null,
            "grid_template_rows": null,
            "height": null,
            "justify_content": null,
            "justify_items": null,
            "left": null,
            "margin": null,
            "max_height": null,
            "max_width": null,
            "min_height": null,
            "min_width": null,
            "object_fit": null,
            "object_position": null,
            "order": null,
            "overflow": null,
            "overflow_x": null,
            "overflow_y": null,
            "padding": null,
            "right": null,
            "top": null,
            "visibility": null,
            "width": null
          }
        },
        "186d5e6cbe2a4549bc4d48650dfdf59a": {
          "model_module": "@jupyter-widgets/controls",
          "model_module_version": "1.5.0",
          "model_name": "DescriptionStyleModel",
          "state": {
            "_model_module": "@jupyter-widgets/controls",
            "_model_module_version": "1.5.0",
            "_model_name": "DescriptionStyleModel",
            "_view_count": null,
            "_view_module": "@jupyter-widgets/base",
            "_view_module_version": "1.2.0",
            "_view_name": "StyleView",
            "description_width": ""
          }
        },
        "22e673433cce418797cc78c696a47877": {
          "model_module": "@jupyter-widgets/controls",
          "model_module_version": "1.5.0",
          "model_name": "ProgressStyleModel",
          "state": {
            "_model_module": "@jupyter-widgets/controls",
            "_model_module_version": "1.5.0",
            "_model_name": "ProgressStyleModel",
            "_view_count": null,
            "_view_module": "@jupyter-widgets/base",
            "_view_module_version": "1.2.0",
            "_view_name": "StyleView",
            "bar_color": null,
            "description_width": ""
          }
        },
        "2b700a7a93544640851a2aa8ad07aaa8": {
          "model_module": "@jupyter-widgets/controls",
          "model_module_version": "1.5.0",
          "model_name": "HTMLModel",
          "state": {
            "_dom_classes": [],
            "_model_module": "@jupyter-widgets/controls",
            "_model_module_version": "1.5.0",
            "_model_name": "HTMLModel",
            "_view_count": null,
            "_view_module": "@jupyter-widgets/controls",
            "_view_module_version": "1.5.0",
            "_view_name": "HTMLView",
            "description": "",
            "description_tooltip": null,
            "layout": "IPY_MODEL_3265106e73534c69b35af6be0c2db675",
            "placeholder": "​",
            "style": "IPY_MODEL_186d5e6cbe2a4549bc4d48650dfdf59a",
            "value": "  2%"
          }
        },
        "3265106e73534c69b35af6be0c2db675": {
          "model_module": "@jupyter-widgets/base",
          "model_module_version": "1.2.0",
          "model_name": "LayoutModel",
          "state": {
            "_model_module": "@jupyter-widgets/base",
            "_model_module_version": "1.2.0",
            "_model_name": "LayoutModel",
            "_view_count": null,
            "_view_module": "@jupyter-widgets/base",
            "_view_module_version": "1.2.0",
            "_view_name": "LayoutView",
            "align_content": null,
            "align_items": null,
            "align_self": null,
            "border": null,
            "bottom": null,
            "display": null,
            "flex": null,
            "flex_flow": null,
            "grid_area": null,
            "grid_auto_columns": null,
            "grid_auto_flow": null,
            "grid_auto_rows": null,
            "grid_column": null,
            "grid_gap": null,
            "grid_row": null,
            "grid_template_areas": null,
            "grid_template_columns": null,
            "grid_template_rows": null,
            "height": null,
            "justify_content": null,
            "justify_items": null,
            "left": null,
            "margin": null,
            "max_height": null,
            "max_width": null,
            "min_height": null,
            "min_width": null,
            "object_fit": null,
            "object_position": null,
            "order": null,
            "overflow": null,
            "overflow_x": null,
            "overflow_y": null,
            "padding": null,
            "right": null,
            "top": null,
            "visibility": null,
            "width": null
          }
        },
        "363d0dba37c34e1287c7f9a376760f8c": {
          "model_module": "@jupyter-widgets/base",
          "model_module_version": "1.2.0",
          "model_name": "LayoutModel",
          "state": {
            "_model_module": "@jupyter-widgets/base",
            "_model_module_version": "1.2.0",
            "_model_name": "LayoutModel",
            "_view_count": null,
            "_view_module": "@jupyter-widgets/base",
            "_view_module_version": "1.2.0",
            "_view_name": "LayoutView",
            "align_content": null,
            "align_items": null,
            "align_self": null,
            "border": null,
            "bottom": null,
            "display": null,
            "flex": null,
            "flex_flow": null,
            "grid_area": null,
            "grid_auto_columns": null,
            "grid_auto_flow": null,
            "grid_auto_rows": null,
            "grid_column": null,
            "grid_gap": null,
            "grid_row": null,
            "grid_template_areas": null,
            "grid_template_columns": null,
            "grid_template_rows": null,
            "height": null,
            "justify_content": null,
            "justify_items": null,
            "left": null,
            "margin": null,
            "max_height": null,
            "max_width": null,
            "min_height": null,
            "min_width": null,
            "object_fit": null,
            "object_position": null,
            "order": null,
            "overflow": null,
            "overflow_x": null,
            "overflow_y": null,
            "padding": null,
            "right": null,
            "top": null,
            "visibility": null,
            "width": null
          }
        },
        "38380f780f404e7ca41641ff35cc3552": {
          "model_module": "@jupyter-widgets/base",
          "model_module_version": "1.2.0",
          "model_name": "LayoutModel",
          "state": {
            "_model_module": "@jupyter-widgets/base",
            "_model_module_version": "1.2.0",
            "_model_name": "LayoutModel",
            "_view_count": null,
            "_view_module": "@jupyter-widgets/base",
            "_view_module_version": "1.2.0",
            "_view_name": "LayoutView",
            "align_content": null,
            "align_items": null,
            "align_self": null,
            "border": null,
            "bottom": null,
            "display": null,
            "flex": null,
            "flex_flow": null,
            "grid_area": null,
            "grid_auto_columns": null,
            "grid_auto_flow": null,
            "grid_auto_rows": null,
            "grid_column": null,
            "grid_gap": null,
            "grid_row": null,
            "grid_template_areas": null,
            "grid_template_columns": null,
            "grid_template_rows": null,
            "height": null,
            "justify_content": null,
            "justify_items": null,
            "left": null,
            "margin": null,
            "max_height": null,
            "max_width": null,
            "min_height": null,
            "min_width": null,
            "object_fit": null,
            "object_position": null,
            "order": null,
            "overflow": null,
            "overflow_x": null,
            "overflow_y": null,
            "padding": null,
            "right": null,
            "top": null,
            "visibility": null,
            "width": null
          }
        },
        "805ee1ea5e1d427fb4d4266f82e62e1d": {
          "model_module": "@jupyter-widgets/controls",
          "model_module_version": "1.5.0",
          "model_name": "FloatProgressModel",
          "state": {
            "_dom_classes": [],
            "_model_module": "@jupyter-widgets/controls",
            "_model_module_version": "1.5.0",
            "_model_name": "FloatProgressModel",
            "_view_count": null,
            "_view_module": "@jupyter-widgets/controls",
            "_view_module_version": "1.5.0",
            "_view_name": "ProgressView",
            "bar_style": "danger",
            "description": "",
            "description_tooltip": null,
            "layout": "IPY_MODEL_363d0dba37c34e1287c7f9a376760f8c",
            "max": 123,
            "min": 0,
            "orientation": "horizontal",
            "style": "IPY_MODEL_22e673433cce418797cc78c696a47877",
            "value": 3
          }
        },
        "b51d18f1af4d42cc8c1ac942aa228a96": {
          "model_module": "@jupyter-widgets/controls",
          "model_module_version": "1.5.0",
          "model_name": "HBoxModel",
          "state": {
            "_dom_classes": [],
            "_model_module": "@jupyter-widgets/controls",
            "_model_module_version": "1.5.0",
            "_model_name": "HBoxModel",
            "_view_count": null,
            "_view_module": "@jupyter-widgets/controls",
            "_view_module_version": "1.5.0",
            "_view_name": "HBoxView",
            "box_style": "",
            "children": [
              "IPY_MODEL_2b700a7a93544640851a2aa8ad07aaa8",
              "IPY_MODEL_805ee1ea5e1d427fb4d4266f82e62e1d",
              "IPY_MODEL_ebfbaa252fce448291284c6d909b77cd"
            ],
            "layout": "IPY_MODEL_022dbbc4105e4cdeac9771b66ac99735"
          }
        },
        "eb1d49c2f7be4bedaed5445cf09ec44b": {
          "model_module": "@jupyter-widgets/controls",
          "model_module_version": "1.5.0",
          "model_name": "DescriptionStyleModel",
          "state": {
            "_model_module": "@jupyter-widgets/controls",
            "_model_module_version": "1.5.0",
            "_model_name": "DescriptionStyleModel",
            "_view_count": null,
            "_view_module": "@jupyter-widgets/base",
            "_view_module_version": "1.2.0",
            "_view_name": "StyleView",
            "description_width": ""
          }
        },
        "ebfbaa252fce448291284c6d909b77cd": {
          "model_module": "@jupyter-widgets/controls",
          "model_module_version": "1.5.0",
          "model_name": "HTMLModel",
          "state": {
            "_dom_classes": [],
            "_model_module": "@jupyter-widgets/controls",
            "_model_module_version": "1.5.0",
            "_model_name": "HTMLModel",
            "_view_count": null,
            "_view_module": "@jupyter-widgets/controls",
            "_view_module_version": "1.5.0",
            "_view_name": "HTMLView",
            "description": "",
            "description_tooltip": null,
            "layout": "IPY_MODEL_38380f780f404e7ca41641ff35cc3552",
            "placeholder": "​",
            "style": "IPY_MODEL_eb1d49c2f7be4bedaed5445cf09ec44b",
            "value": " 3/123 [01:39&lt;51:17, 25.64s/it]"
          }
        }
      }
    }
  },
  "nbformat": 4,
  "nbformat_minor": 0
}
