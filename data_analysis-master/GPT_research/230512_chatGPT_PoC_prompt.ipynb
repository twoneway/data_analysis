{
  "cells": [
    {
      "cell_type": "code",
      "execution_count": null,
      "metadata": {
        "colab": {
          "base_uri": "https://localhost:8080/"
        },
        "id": "4QkXB8-Cj-_s",
        "outputId": "4eb9bbf3-9829-46a7-e942-3fc06640c44c"
      },
      "outputs": [],
      "source": [
        "!pip install openai"
      ]
    },
    {
      "cell_type": "code",
      "execution_count": null,
      "metadata": {
        "colab": {
          "base_uri": "https://localhost:8080/"
        },
        "id": "y1ENn8CokEue",
        "outputId": "9bd9d8b3-058d-43e5-dcbd-ee72d7eae5be"
      },
      "outputs": [],
      "source": [
        "!pip install mysql-connector-python"
      ]
    },
    {
      "cell_type": "code",
      "execution_count": null,
      "metadata": {
        "id": "5REHsjZVnc7l"
      },
      "outputs": [],
      "source": [
        "# package\n",
        "\n",
        "import openai\n",
        "import mysql.connector\n",
        "from pprint import pprint # chatGPT message가 잘 출력되되도록 사용\n",
        "import pandas as pd\n",
        "import numpy as np\n",
        "from datetime import datetime\n",
        "from pathlib import Path"
      ]
    },
    {
      "cell_type": "code",
      "execution_count": null,
      "metadata": {
        "colab": {
          "base_uri": "https://localhost:8080/"
        },
        "id": "iTD2WzYG5KQx",
        "outputId": "6a6460a4-f481-4a05-9585-35afeaba70c0"
      },
      "outputs": [],
      "source": [
        "# Google Drive 마운트\n",
        "# 마운트는 본인 드라이브만 가능하기에 공유 폴더 같은 경우 본인 드라이브에 바로가기를 추가하여 사용\n",
        "\n",
        "from google.colab import drive\n",
        "drive.mount('/content/drive')"
      ]
    },
    {
      "cell_type": "code",
      "execution_count": null,
      "metadata": {
        "id": "8eXAa6AR4jsS"
      },
      "outputs": [],
      "source": [
        "# API KEY : contact 계정의 API key 발급하여 사용\n",
        "\n",
        "openai.api_key = \"\""
      ]
    },
    {
      "cell_type": "code",
      "execution_count": null,
      "metadata": {
        "id": "Um6CAncjC2ww"
      },
      "outputs": [],
      "source": [
        "today = datetime.today().strftime(\"%Y%m%d\")\n",
        "Path(f\"/content/drive/MyDrive/HAI research/output/{today}/py_output\").mkdir(parents=True, exist_ok=True)"
      ]
    },
    {
      "cell_type": "code",
      "execution_count": null,
      "metadata": {
        "id": "0kN4airL6Y-6"
      },
      "outputs": [],
      "source": [
        "# google sheet를 바로 연동하는 것은 원본 훼손 위험이 존재하기에 우선 xlsx 파일을 다운로드 및 업로드하여여 활용\n",
        "\n",
        "raw_data = pd.read_excel(\"/content/drive/MyDrive/HAI research/data/PoC 평가.xlsx\", sheet_name='total')"
      ]
    },
    {
      "cell_type": "code",
      "execution_count": null,
      "metadata": {
        "id": "DGFP9nY-9yhi"
      },
      "outputs": [],
      "source": [
        "en_data = raw_data.copy()"
      ]
    },
    {
      "cell_type": "code",
      "execution_count": null,
      "metadata": {
        "id": "l3W0B0WL-NLg"
      },
      "outputs": [],
      "source": [
        "# PoC 평가가 A+인 인원들만 불러오기\n",
        "# url 주소에 userID가 존재하는 형식 데이터만 불러오기\n",
        "# en_data = en_data.loc[en_data['총평 \\n(Letter grade, like A+, B+)'] == 'A+']\n",
        "en_data = en_data[en_data['framing docs'].str.contains('&userID', na = False)].reset_index(drop=True)"
      ]
    },
    {
      "cell_type": "code",
      "execution_count": null,
      "metadata": {
        "id": "tXMz2ql1-aRn"
      },
      "outputs": [],
      "source": [
        "# '&' 기준으로 파싱하여 user_id 리스트에 저장하기\n",
        "id_list = []\n",
        "for i in range(len(en_data)) :\n",
        "  id_list.append(en_data['framing docs'][i].split('&')[1][7:])"
      ]
    },
    {
      "cell_type": "code",
      "execution_count": null,
      "metadata": {
        "id": "xlOt9-8sBdSS"
      },
      "outputs": [],
      "source": [
        "# DB 연동\n",
        "\n",
        "mydb = mysql.connector.connect(\n",
        "  host=\"\",\n",
        "  user=\"\",\n",
        "  password=\"\",\n",
        "  database=\"\"\n",
        ")\n",
        "\n",
        "# 저장된 userID 정보 불러와서 사용\n",
        "userCode = id_list[777]\n",
        "\n",
        "mycursor = mydb.cursor()\n",
        "\n",
        "mycursor.execute(\"SELECT user_id from userCodeTable where code='\" + userCode + \"'\")\n",
        "\n",
        "myresult = mycursor.fetchall()\n",
        "\n",
        "userID = myresult[0][0]\n",
        "\n",
        "mycursor.execute(\"SELECT user_id, question_id, response FROM responseTable where user_id='\" + str(userID) + \"'\")\n",
        "\n",
        "myresult = mycursor.fetchall()\n",
        "\n",
        "userResponse = {}\n",
        "\n",
        "# 0부터 시작되는 문항번호를 1부터 시작하도록 변경\n",
        "for x in myresult:\n",
        "    userResponse[x[1]+1] = x[2]"
      ]
    },
    {
      "cell_type": "code",
      "execution_count": null,
      "metadata": {
        "colab": {
          "base_uri": "https://localhost:8080/"
        },
        "id": "mU63pTCGYSzN",
        "outputId": "750f77d9-194f-448b-f1f3-63ad6abedfdc"
      },
      "outputs": [],
      "source": [
        "userResponse"
      ]
    },
    {
      "cell_type": "code",
      "execution_count": null,
      "metadata": {
        "colab": {
          "base_uri": "https://localhost:8080/"
        },
        "id": "Bg3Zw-A9Y_3F",
        "outputId": "ebf7a6ff-0e5f-41f8-c087-7ed3f8bcbf56"
      },
      "outputs": [],
      "source": [
        "id_list.index('on02m3H7')"
      ]
    },
    {
      "cell_type": "code",
      "execution_count": null,
      "metadata": {
        "id": "kwTwYvVuniwm"
      },
      "outputs": [],
      "source": [
        "# 문항 정보 입력\n",
        "qna = pd.read_csv(\"/content/drive/MyDrive/HAI research/data/PoC_Question.csv\")"
      ]
    },
    {
      "cell_type": "code",
      "execution_count": null,
      "metadata": {
        "id": "QkU1DIOkllOq"
      },
      "outputs": [],
      "source": [
        "objective = '시끄러운 퇴사자 예측'"
      ]
    },
    {
      "cell_type": "code",
      "execution_count": null,
      "metadata": {
        "id": "4gzLM13UkzjA"
      },
      "outputs": [],
      "source": [
        "output = []\n",
        "\n",
        "# userResponse[8] = objective\n",
        "\n",
        "for i in range(10) :\n",
        "\n",
        "  messages = [{\"role\": \"system\", \"content\": \"너는 AI 분야의 data scientist야\"},\n",
        "              # {\"role\" : \"system\", \"content\" : f\"너가 개선하고 싶은 프로세스는 {userResponse[5]}야\"},\n",
        "              {\"role\" : \"system\", \"content\" : \"인간의 주관적인 감정과 경험은 인공지능을 사용하기에 적합하지 않은 영역이야\"},\n",
        "              {\"role\" : \"system\", \"content\" : \"인공지능의 적합성 여부 이유를 설명할 때, 구체적으로, 단계적으로 설명해줘\"},\n",
        "              {\"role\" : \"user\", \"content\" : f\"인공지능의 목적은 {userResponse[8]}이야. 해당 목적이 인공지능을 사용하기에 적합한지 예, 아니오로 답변해줘. 답변한 이후, 해당 이유를 설명해줘.\"}\n",
        "              ]\n",
        "\n",
        "  completion = openai.ChatCompletion.create(\n",
        "  model=\"gpt-3.5-turbo\",\n",
        "  messages=messages,\n",
        "  temperature=1,\n",
        "  max_tokens=3000\n",
        "  )\n",
        "\n",
        "  chat_response = completion.choices[0].message.content\n",
        "  # pprint(chat_response)\n",
        "\n",
        "  output.append(chat_response)"
      ]
    },
    {
      "cell_type": "code",
      "execution_count": null,
      "metadata": {
        "colab": {
          "base_uri": "https://localhost:8080/"
        },
        "id": "ZejMJP8RmCCn",
        "outputId": "1d0ccc0c-1dbc-4b34-f77e-544bd2d6fbed"
      },
      "outputs": [],
      "source": [
        "for i in range(10) :\n",
        "  pprint(output[i])"
      ]
    },
    {
      "cell_type": "code",
      "execution_count": null,
      "metadata": {
        "id": "WnDDUNE6nlAq"
      },
      "outputs": [],
      "source": [
        "import json"
      ]
    },
    {
      "cell_type": "code",
      "execution_count": null,
      "metadata": {
        "id": "onv-imhVqwxc"
      },
      "outputs": [],
      "source": [
        "for i in range(len(output)) :\n",
        "  output[i] = output[i].split('\\n')"
      ]
    },
    {
      "cell_type": "code",
      "execution_count": null,
      "metadata": {
        "id": "5XKWIQmopX-T"
      },
      "outputs": [],
      "source": [
        "file_path = f\"/content/drive/MyDrive/HAI research/output/{today}/py_output/{userCode}.json\"\n",
        "with open(file_path, 'w', encoding='utf-8') as file:\n",
        "    file.write(json.dumps(output, ensure_ascii=False, indent=2))"
      ]
    }
  ],
  "metadata": {
    "colab": {
      "provenance": []
    },
    "kernelspec": {
      "display_name": "Python 3",
      "name": "python3"
    },
    "language_info": {
      "name": "python"
    }
  },
  "nbformat": 4,
  "nbformat_minor": 0
}
