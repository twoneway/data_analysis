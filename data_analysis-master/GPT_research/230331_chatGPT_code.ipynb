{
  "cells": [
    {
      "cell_type": "markdown",
      "metadata": {
        "id": "LiFX5sZ15d82"
      },
      "source": [
        "### Base settings"
      ]
    },
    {
      "cell_type": "code",
      "execution_count": null,
      "metadata": {
        "colab": {
          "base_uri": "https://localhost:8080/"
        },
        "id": "t_K6oFJd4cBC",
        "outputId": "758ef8ef-b4c0-4063-b5db-abfcb91e42c1"
      },
      "outputs": [],
      "source": [
        "!pip install openai"
      ]
    },
    {
      "cell_type": "code",
      "execution_count": null,
      "metadata": {
        "colab": {
          "base_uri": "https://localhost:8080/"
        },
        "id": "UwzBLMxqBbIE",
        "outputId": "fabd94e9-1f77-454c-c716-f0c6b914617e"
      },
      "outputs": [],
      "source": [
        "!pip install mysql-connector-python"
      ]
    },
    {
      "cell_type": "code",
      "execution_count": null,
      "metadata": {
        "id": "BZdFsiW14yxg"
      },
      "outputs": [],
      "source": [
        "# package\n",
        "\n",
        "import openai\n",
        "import mysql.connector\n",
        "from pprint import pprint # chatGPT message가 잘 출력되되도록 사용\n",
        "import pandas as pd\n",
        "import numpy as np"
      ]
    },
    {
      "cell_type": "code",
      "execution_count": null,
      "metadata": {
        "colab": {
          "base_uri": "https://localhost:8080/"
        },
        "id": "iTD2WzYG5KQx",
        "outputId": "82589af4-ddfb-4585-c1d6-216f8883654c"
      },
      "outputs": [],
      "source": [
        "# Google Drive 마운트\n",
        "# 마운트는 본인 드라이브만 가능하기에 공유 폴더 같은 경우 본인 드라이브에 바로가기를 추가하여 사용\n",
        "\n",
        "from google.colab import drive\n",
        "drive.mount('/content/drive')"
      ]
    },
    {
      "cell_type": "code",
      "execution_count": null,
      "metadata": {
        "id": "8eXAa6AR4jsS"
      },
      "outputs": [],
      "source": [
        "# API KEY : contact 계정의 API key 발급하여 사용\n",
        "\n",
        "openai.api_key = \"\""
      ]
    },
    {
      "cell_type": "code",
      "execution_count": null,
      "metadata": {
        "id": "0kN4airL6Y-6"
      },
      "outputs": [],
      "source": [
        "# google sheet를 바로 연동하는 것은 원본 훼손손 위험이 존재하기에 우선 xlsx 파일을 다운로드 및 업로드하여여 활용\n",
        "\n",
        "raw_data = pd.read_excel(\"/content/drive/MyDrive/HAI 연구개발 리서치/data/PoC 평가.xlsx\", sheet_name='total')"
      ]
    },
    {
      "cell_type": "markdown",
      "metadata": {
        "id": "TRhCHPyu9zhH"
      },
      "source": [
        "### Input 불러오기"
      ]
    },
    {
      "cell_type": "code",
      "execution_count": null,
      "metadata": {
        "id": "DGFP9nY-9yhi"
      },
      "outputs": [],
      "source": [
        "en_data = raw_data.copy()"
      ]
    },
    {
      "cell_type": "code",
      "execution_count": null,
      "metadata": {
        "id": "l3W0B0WL-NLg"
      },
      "outputs": [],
      "source": [
        "# PoC 평가가 A+인 인원들만 불러오기\n",
        "# url 주소에 userID가 존재하는 형식 데이터만 불러오기\n",
        "en_data = en_data.loc[en_data['총평 \\n(Letter grade, like A+, B+)'] == 'A+']\n",
        "en_data = en_data[en_data['framing docs'].str.contains('&userID', na = False)].reset_index(drop=True)"
      ]
    },
    {
      "cell_type": "code",
      "execution_count": null,
      "metadata": {
        "id": "tXMz2ql1-aRn"
      },
      "outputs": [],
      "source": [
        "# '&' 기준으로 파싱하여 user_id 리스트에 저장하기\n",
        "id_list = []\n",
        "for i in range(len(en_data)) :\n",
        "  id_list.append(en_data['framing docs'][i].split('&')[1][7:])"
      ]
    },
    {
      "cell_type": "code",
      "execution_count": null,
      "metadata": {
        "id": "xlOt9-8sBdSS"
      },
      "outputs": [],
      "source": [
        "# DB 연동\n",
        "\n",
        "mydb = mysql.connector.connect(\n",
        "  host=\"\",\n",
        "  user=\"\",\n",
        "  password=\"\",\n",
        "  database=\"\"\n",
        ")\n",
        "\n",
        "# 저장된 userID 정보 불러와서 사용\n",
        "userCode = id_list[0]\n",
        "\n",
        "mycursor = mydb.cursor()\n",
        "\n",
        "mycursor.execute(\"SELECT user_id from userCodeTable where code='\" + userCode + \"'\")\n",
        "\n",
        "myresult = mycursor.fetchall()\n",
        "\n",
        "userID = myresult[0][0]\n",
        "\n",
        "mycursor.execute(\"SELECT user_id, question_id, response FROM responseTable where user_id='\" + str(userID) + \"'\")\n",
        "\n",
        "myresult = mycursor.fetchall()\n",
        "\n",
        "userResponse = {}\n",
        "\n",
        "# 0부터 시작되는 문항번호를 1부터 시작하도록 변경\n",
        "for x in myresult:\n",
        "    userResponse[x[1]+1] = x[2]"
      ]
    },
    {
      "cell_type": "code",
      "execution_count": null,
      "metadata": {
        "colab": {
          "base_uri": "https://localhost:8080/"
        },
        "id": "MBVU4_irCI_T",
        "outputId": "169d8c4c-ac34-478a-9243-74a15315e95d"
      },
      "outputs": [],
      "source": [
        "# PoC 데이터는 dictionary 형태로 저장\n",
        "userResponse"
      ]
    },
    {
      "cell_type": "code",
      "execution_count": null,
      "metadata": {
        "id": "JjmKHv_AITd9"
      },
      "outputs": [],
      "source": [
        "# 문항 정보 입력\n",
        "qna = pd.read_csv(\"/content/drive/MyDrive/HAI 연구개발 리서치/data/PoC_Question.csv\")"
      ]
    },
    {
      "cell_type": "markdown",
      "metadata": {
        "id": "k_H3LAhQIhC6"
      },
      "source": [
        "### chatGPT 활용하여 Output 산출 (1차 trial and error)\n",
        "\n",
        "\n",
        "*   29번 문항까지 메시지 응답을 주고 받을 때, 토큰 초과 이슈가 발생하여 특정 문항 중심으로 선별해서 질문할 필요성이 있음\n",
        "\n"
      ]
    },
    {
      "cell_type": "code",
      "execution_count": null,
      "metadata": {
        "id": "kXOyzUiCIrtH"
      },
      "outputs": [],
      "source": [
        "# 초기 system role 세팅\n",
        "messages = [{\"role\": \"system\", \"content\": \"너는 AI 분야의 data scientist야\"}]"
      ]
    },
    {
      "cell_type": "code",
      "execution_count": null,
      "metadata": {
        "colab": {
          "base_uri": "https://localhost:8080/",
          "height": 405
        },
        "id": "v8noofSnI0Ud",
        "outputId": "12d57d02-7041-48bc-a90b-b4d0c0ef6160"
      },
      "outputs": [],
      "source": [
        "# 29번 문항까지 메시지 응답을 주고 받을 때, 토큰 초과 이슈가 발생하여 특정 문항 중심으로 선별해서 질문할 필요성이 있음\n",
        "for i in range(len(userResponse)) :\n",
        "  messages.append({\"role\" : \"assistant\", \"content\" : f\"{str(qna['문항번호'][i])}번 문항 : {qna['문항'][i]}\"})\n",
        "  messages.append({\"role\" : \"user\", \"content\" : f\"{i+1}번 문항 답변 : {userResponse[i+1]}\"})\n",
        "\n",
        "  if i >= 3 :\n",
        "    completion = openai.ChatCompletion.create(\n",
        "    model=\"gpt-3.5-turbo\",\n",
        "    messages=messages,\n",
        "    temperature=1\n",
        "    )\n",
        "\n",
        "    chat_response = completion.choices[0].message.content\n",
        "    messages.append({\"role\" : \"assistant\", \"content\" : chat_response})"
      ]
    },
    {
      "cell_type": "code",
      "execution_count": null,
      "metadata": {
        "id": "YcoUiYBaMwFx"
      },
      "outputs": [],
      "source": [
        "# output 결과 저장\n",
        "output = pd.DataFrame.from_dict(data=messages, orient='columns')\n",
        "output.to_csv(f\"/content/drive/MyDrive/HAI 연구개발 리서치/output/230331_output_{id_list[0]}.csv\")"
      ]
    },
    {
      "cell_type": "markdown",
      "metadata": {
        "id": "xqRSUfTBRAIQ"
      },
      "source": [
        "### chatGPT 활용하여 Output 산출 (2차 trial and error)\n",
        "\n",
        "\n",
        "*   16개 문항을 제거하였지만 chatGPT의 답변이 더욱 구체적으로 도출되었는지 오히려 더 많은 문항을 한번에 다루지 못함(14번까지)\n",
        "*   이전 output 비교했을 때, 전자가 54, 후자가 27개 index를 가지고 있어 문항은 줄었지만 output도 절반으로 줄음\n",
        "*   핵심 문항으로 더 축소할 필요 있음\n",
        "\n"
      ]
    },
    {
      "cell_type": "code",
      "execution_count": null,
      "metadata": {
        "id": "fkHg60MITEPS"
      },
      "outputs": [],
      "source": [
        "# 일부 문항 제거하여 dictionary 구성\n",
        "userResponse_input = userResponse.copy()\n",
        "drop_user_list = [1, 2, 3, 11, 12, 15, 16, 17, 18, 19, 20, 21, 24, 25, 26, 27]\n",
        "[userResponse_input.pop(key, None) for key in drop_user_list]\n",
        "userResponse_input"
      ]
    },
    {
      "cell_type": "code",
      "execution_count": null,
      "metadata": {
        "id": "PAwGagMzV56W"
      },
      "outputs": [],
      "source": [
        "# 메시지 초기화 및 system role 부여\n",
        "messages = [{\"role\": \"system\", \"content\": \"너는 AI 분야의 data scientist야\"}]"
      ]
    },
    {
      "cell_type": "code",
      "execution_count": null,
      "metadata": {
        "id": "qF4qOHyMVKQB"
      },
      "outputs": [],
      "source": [
        "# 문항을 줄였지만 여전히 토큰 초과 오류 발생\n",
        "for i in userResponse_input.keys() :\n",
        "  messages.append({\"role\" : \"assistant\", \"content\" : f\"{str(qna['문항번호'][i-1])}번 문항 : {qna['문항'][i-1]}\"})\n",
        "  messages.append({\"role\" : \"user\", \"content\" : f\"{i}번 문항 답변 : {userResponse_input[i]}\"})\n",
        "\n",
        "  completion = openai.ChatCompletion.create(\n",
        "  model=\"gpt-3.5-turbo\",\n",
        "  messages=messages,\n",
        "  temperature=1\n",
        "  )\n",
        "\n",
        "  chat_response = completion.choices[0].message.content\n",
        "  messages.append({\"role\" : \"assistant\", \"content\" : chat_response})"
      ]
    },
    {
      "cell_type": "code",
      "execution_count": null,
      "metadata": {
        "id": "TTasaLL9V3z6"
      },
      "outputs": [],
      "source": [
        "# output 결과 저장\n",
        "output_2 = pd.DataFrame.from_dict(data=messages, orient='columns')\n",
        "output_2.to_csv(f\"/content/drive/MyDrive/HAI 연구개발 리서치/output/230331_output_2_{id_list[0]}.csv\")"
      ]
    },
    {
      "cell_type": "markdown",
      "metadata": {
        "id": "ZXL_mDFOYkEP"
      },
      "source": [
        "### chatGPT 활용하여 Output 산출 (3차 trial and error)\n",
        "\n",
        "\n",
        "*   6개 문항으로 축소하였고 error 발생하지 않음\n",
        "*   토큰 수의 한계가 있기 때문에 현재 별다른 프롬프트 엔지니어링을 하지 않은 상태이기에 적절하게 user의 질문 변형 필요 있음\n",
        "*   교육생이 많은 텍스트를 작성할 때에 대한 방안도 고민 필요\n",
        "*   assistant로 문항 정보를 가져왔는데 불필요한 토큰을 늘리는 것이 아닌지에 대해서도 고민 필요\n",
        "\n"
      ]
    },
    {
      "cell_type": "code",
      "execution_count": null,
      "metadata": {
        "id": "WcgFO07mZa1X"
      },
      "outputs": [],
      "source": [
        "# 메시지 초기화 및 system role 부여\n",
        "messages = [{\"role\": \"system\", \"content\": \"너는 AI 분야의 data scientist야\"}]"
      ]
    },
    {
      "cell_type": "code",
      "execution_count": null,
      "metadata": {
        "id": "1HhvcMjkYyz_"
      },
      "outputs": [],
      "source": [
        "# 6개 문항 선택\n",
        "for i in [5, 6, 7, 8, 9, 10] :\n",
        "  messages.append({\"role\" : \"assistant\", \"content\" : f\"{str(qna['문항번호'][i-1])}번 문항 : {qna['문항'][i-1]}\"})\n",
        "  messages.append({\"role\" : \"user\", \"content\" : f\"{i}번 문항 답변 : {userResponse[i]}\"})\n",
        "\n",
        "  completion = openai.ChatCompletion.create(\n",
        "  model=\"gpt-3.5-turbo\",\n",
        "  messages=messages,\n",
        "  temperature=1\n",
        "  )\n",
        "\n",
        "  chat_response = completion.choices[0].message.content\n",
        "  messages.append({\"role\" : \"assistant\", \"content\" : chat_response})"
      ]
    },
    {
      "cell_type": "code",
      "execution_count": null,
      "metadata": {
        "id": "jgCM6_yMZfqH"
      },
      "outputs": [],
      "source": [
        "output_3 = pd.DataFrame.from_dict(data=messages, orient='columns')\n",
        "output_3.to_csv(f\"/content/drive/MyDrive/HAI 연구개발 리서치/output/230331_output_3_{id_list[0]}.csv\")"
      ]
    },
    {
      "cell_type": "code",
      "execution_count": null,
      "metadata": {
        "id": "NGLZV63qZhs5"
      },
      "outputs": [],
      "source": [
        "output_3"
      ]
    },
    {
      "cell_type": "code",
      "execution_count": null,
      "metadata": {
        "id": "hFAxbWCZEpsH"
      },
      "outputs": [],
      "source": [
        "# 메시지 초기화 및 system role 부여\n",
        "messages = [{\"role\": \"system\", \"content\": \"너는 AI 분야의 data scientist야\"}]"
      ]
    },
    {
      "cell_type": "code",
      "execution_count": null,
      "metadata": {
        "id": "lmLYl6y-EpsI"
      },
      "outputs": [],
      "source": [
        "# 6개 문항 선택\n",
        "for i in [5, 8, 22] :\n",
        "  messages.append({\"role\" : \"assistant\", \"content\" : f\"{str(qna['문항번호'][i-1])}번 문항 : {qna['문항'][i-1]}\"})\n",
        "  messages.append({\"role\" : \"user\", \"content\" : f\"{i}번 문항 답변 : {userResponse[i]}\"})\n",
        "\n",
        "  completion = openai.ChatCompletion.create(\n",
        "  model=\"gpt-3.5-turbo\",\n",
        "  messages=messages,\n",
        "  temperature=1\n",
        "  )\n",
        "\n",
        "  chat_response = completion.choices[0].message.content\n",
        "  messages.append({\"role\" : \"assistant\", \"content\" : chat_response})"
      ]
    },
    {
      "cell_type": "code",
      "execution_count": null,
      "metadata": {
        "id": "lHimixSDEpsI"
      },
      "outputs": [],
      "source": [
        "output_4 = pd.DataFrame.from_dict(data=messages, orient='columns')\n",
        "output_4.to_csv(f\"/content/drive/MyDrive/HAI 연구개발 리서치/output/230331_output_4_{id_list[0]}.csv\")"
      ]
    },
    {
      "cell_type": "code",
      "execution_count": null,
      "metadata": {
        "colab": {
          "base_uri": "https://localhost:8080/",
          "height": 481
        },
        "id": "P-VwM78aEpsI",
        "outputId": "f7d823fd-71fd-4b63-9d8d-290d661a84a0"
      },
      "outputs": [],
      "source": [
        "output_4"
      ]
    }
  ],
  "metadata": {
    "colab": {
      "provenance": []
    },
    "kernelspec": {
      "display_name": "Python 3",
      "name": "python3"
    },
    "language_info": {
      "name": "python"
    }
  },
  "nbformat": 4,
  "nbformat_minor": 0
}
