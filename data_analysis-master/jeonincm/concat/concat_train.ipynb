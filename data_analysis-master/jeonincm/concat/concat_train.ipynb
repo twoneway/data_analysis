{
  "cells": [
    {
      "cell_type": "code",
      "execution_count": null,
      "metadata": {
        "colab": {
          "base_uri": "https://localhost:8080/"
        },
        "id": "RUz-ZH00eE2v",
        "outputId": "aa6c920f-534b-4ae8-9235-405074434ffc"
      },
      "outputs": [],
      "source": [
        "from google.colab import drive\n",
        "drive.mount('/content/drive')"
      ]
    },
    {
      "cell_type": "code",
      "execution_count": null,
      "metadata": {
        "colab": {
          "base_uri": "https://localhost:8080/"
        },
        "id": "s0SPyWBzerIg",
        "outputId": "0c2c5119-5a4e-414d-d966-6be946f60bbd"
      },
      "outputs": [],
      "source": [
        "!pip install shap"
      ]
    },
    {
      "cell_type": "code",
      "execution_count": null,
      "metadata": {
        "colab": {
          "base_uri": "https://localhost:8080/"
        },
        "id": "CiETsGq4esuK",
        "outputId": "e3ea9100-0122-4ddd-d43e-0048dda11a65"
      },
      "outputs": [],
      "source": [
        "!sudo apt-get install -y fonts-nanum\n",
        "!sudo fc-cache -fv\n",
        "!rm ~/.cache/matplotlib -rf"
      ]
    },
    {
      "cell_type": "code",
      "execution_count": null,
      "metadata": {
        "id": "FNltzNpeet8H"
      },
      "outputs": [],
      "source": [
        "import pandas as pd\n",
        "import numpy as np\n",
        "from sklearn.model_selection import train_test_split, GridSearchCV, KFold\n",
        "from sklearn.preprocessing import StandardScaler, MinMaxScaler\n",
        "from sklearn.linear_model import LinearRegression, Ridge, Lasso\n",
        "from sklearn.ensemble import RandomForestRegressor, GradientBoostingRegressor\n",
        "from sklearn.neural_network import MLPRegressor\n",
        "from xgboost import XGBRegressor\n",
        "from sklearn.metrics import mean_absolute_error, mean_squared_error, mean_absolute_percentage_error, r2_score\n",
        "from imblearn.pipeline import Pipeline\n",
        "import seaborn as sns\n",
        "import matplotlib.pyplot as plt\n",
        "import shap\n",
        "from datetime import datetime\n",
        "import json\n",
        "import joblib"
      ]
    },
    {
      "cell_type": "code",
      "execution_count": null,
      "metadata": {
        "id": "uJy-mHJmezB8"
      },
      "outputs": [],
      "source": [
        "plt.rc('font', family='NanumBarunGothic')"
      ]
    },
    {
      "cell_type": "code",
      "execution_count": null,
      "metadata": {
        "id": "2OPoF_CIe3aa"
      },
      "outputs": [],
      "source": [
        "pd.options.display.float_format = '{:.6f}'.format"
      ]
    },
    {
      "cell_type": "code",
      "execution_count": null,
      "metadata": {
        "id": "Aj64U_acez9z"
      },
      "outputs": [],
      "source": [
        "# 파일 저장경로 및 sheet 설정\n",
        "filename = '/content/drive/MyDrive/Colab Notebooks/전인CM/input/전인CM_통합데이터_221011.xlsx'\n",
        "sheetname = '지산+의료+오피스빌딩'"
      ]
    },
    {
      "cell_type": "code",
      "execution_count": null,
      "metadata": {
        "id": "R0PKUTfEe1k2"
      },
      "outputs": [],
      "source": [
        "raw = pd.read_excel(filename, sheet_name=sheetname, engine='openpyxl')"
      ]
    },
    {
      "cell_type": "code",
      "execution_count": null,
      "metadata": {
        "id": "kQ-ObP7ae39Y"
      },
      "outputs": [],
      "source": [
        "raw_data = raw.copy()"
      ]
    },
    {
      "cell_type": "markdown",
      "metadata": {
        "id": "GQGsCjDlfIJG"
      },
      "source": [
        "전처리"
      ]
    },
    {
      "cell_type": "code",
      "execution_count": null,
      "metadata": {
        "id": "mquB30Wfe_P0"
      },
      "outputs": [],
      "source": [
        "nalist = []\n",
        "\n",
        "for colname in raw_data.iloc[:, 0:17].columns : # 공종 비율 제외 결측 탐지 및 채우기 진행\n",
        "  nacount = raw_data[colname].isna().sum()\n",
        "  if nacount >= 1 :\n",
        "    nalist.append(colname)\n",
        "\n",
        "for col in nalist :  \n",
        "  if raw_data[col].dtype == object :\n",
        "    raw_data.loc[raw_data[col].isna()==True,col] = raw_data[col].mode()[0] # 최빈 처리\n",
        "  else :\n",
        "    raw_data.loc[raw_data[col].isna()==True,col] = raw_data[col].mean() # 평균처리"
      ]
    },
    {
      "cell_type": "code",
      "execution_count": null,
      "metadata": {
        "id": "JBGtwdq4fFJq"
      },
      "outputs": [],
      "source": [
        "# label encoding\n",
        "raw_data['건물외형'] = raw_data['건물외형'].replace('정형', 0)\n",
        "raw_data['건물외형'] = raw_data['건물외형'].replace('비정형', 1)\n",
        "raw_data['철거공사 포함 여부'] = raw_data['철거공사 포함 여부'].replace('미포함', 0)\n",
        "raw_data['철거공사 포함 여부'] = raw_data['철거공사 포함 여부'].replace('포함', 1)\n",
        "raw_data['인테리어'] = raw_data['인테리어'].replace('유', 1)\n",
        "raw_data['인테리어'] = raw_data['인테리어'].replace('무', 0)\n",
        "\n",
        "sector = []\n",
        "for i in range(len(raw_data)) :\n",
        "  if raw_data['지역'][i] == '서울' : \n",
        "    sector.append(1)\n",
        "  elif raw_data['지역'][i] == '인천' : \n",
        "    sector.append(2)\n",
        "  elif raw_data['지역'][i] == '경기' : \n",
        "    sector.append(3)\n",
        "  elif raw_data['지역'][i] == '충청' : \n",
        "    sector.append(4)\n",
        "  elif raw_data['지역'][i] == '강원' : \n",
        "    sector.append(5)\n",
        "  elif raw_data['지역'][i] == '영남' : \n",
        "    sector.append(6)\n",
        "  elif raw_data['지역'][i] == '호남' : \n",
        "    sector.append(7)\n",
        "\n",
        "raw_data['지역'] =  sector"
      ]
    },
    {
      "cell_type": "code",
      "execution_count": null,
      "metadata": {
        "id": "fuXXIe-BfL4Q"
      },
      "outputs": [],
      "source": [
        "# 유사도 측정을 위한 공종 제외 feature 데이터 구축\n",
        "encoding = pd.get_dummies(raw_data.drop(['공사비', '시공사명', '2015 평당가', '2015 기준공사비', '토목', '건축', '설비', '전기', '통신', '소방', '조경', '추가공종', '간접비 및 이윤'], axis=1), \n",
        "                       columns=['공법', '토목공법', '건물유형'], drop_first=True)"
      ]
    },
    {
      "cell_type": "code",
      "execution_count": null,
      "metadata": {
        "id": "8ThtoD7TfNGm"
      },
      "outputs": [],
      "source": [
        "# scaling을 위한 문자열 데이터 제거\n",
        "column_list = encoding['프로젝트명']\n",
        "column_data = pd.DataFrame(columns=column_list)\n",
        "basic = encoding.drop(['프로젝트명'], axis=1)"
      ]
    },
    {
      "cell_type": "code",
      "execution_count": null,
      "metadata": {
        "id": "YehVPTVXfOmq"
      },
      "outputs": [],
      "source": [
        "# scaling 작업\n",
        "scaler = MinMaxScaler()\n",
        "scaler.fit(basic)\n",
        "scaled_data = scaler.transform(basic)\n",
        "en_data = pd.DataFrame(data = scaled_data, index=basic.index, columns=basic.columns)\n",
        "en_data = en_data.reset_index(drop=True)"
      ]
    },
    {
      "cell_type": "code",
      "execution_count": null,
      "metadata": {
        "id": "yLbU-c78fPrg"
      },
      "outputs": [],
      "source": [
        "# 유사도 측정 로직 수정\n",
        "for name in column_list : \n",
        "  data_list = []\n",
        "  main_index = encoding[encoding['프로젝트명']==name].index\n",
        "  main_values = en_data.values[main_index]\n",
        "  main_year = en_data['착공년도'][main_index].values[0]\n",
        "\n",
        "  for num in range(len(en_data)) : \n",
        "    compare_values = en_data.values[num]\n",
        "    uclid_dist = np.sqrt(np.sum(np.square(main_values-compare_values)))\n",
        "    if (main_year==en_data['착공년도'].min()) : \n",
        "      data_list.append(uclid_dist)\n",
        "    else : \n",
        "      if (main_year < en_data['착공년도'][num]) :\n",
        "        data_list.append(0)\n",
        "      else : \n",
        "        data_list.append(uclid_dist)\n",
        "  column_data[name] = data_list"
      ]
    },
    {
      "cell_type": "code",
      "execution_count": null,
      "metadata": {
        "id": "rd11kwxRfQyQ"
      },
      "outputs": [],
      "source": [
        "# 가장 유사도가 깊은 데이터 탐색\n",
        "con_data = pd.concat([raw_data, column_data], axis=1)\n",
        "sim = []\n",
        "for name in raw_data['프로젝트명'] : \n",
        "  unique_data = column_data[name].unique()\n",
        "  zero = [0]\n",
        "  sim_data = np.setdiff1d(unique_data, zero).min()\n",
        "  sim.append(sim_data)"
      ]
    },
    {
      "cell_type": "code",
      "execution_count": null,
      "metadata": {
        "id": "iyYFva69fR6A"
      },
      "outputs": [],
      "source": [
        "# 가장 유사도가 깊은 공사의 label 데이터 가져오기 \n",
        "result = [] \n",
        "i = 0\n",
        "for name in column_list : \n",
        "  sim_values = []\n",
        "  result.append(con_data.loc[con_data[name]==sim[i]]['2015 기준공사비'].values[0])\n",
        "  i += 1"
      ]
    },
    {
      "cell_type": "code",
      "execution_count": null,
      "metadata": {
        "id": "CeMd3EQjvZnf"
      },
      "outputs": [],
      "source": [
        "result_2 = []\n",
        "i = 0\n",
        "for name in column_list : \n",
        "  sim_values = []\n",
        "  sim_values.append(con_data.loc[con_data[name]== sim[i]]['토목'].values[0])\n",
        "  sim_values.append(con_data.loc[con_data[name]== sim[i]]['건축'].values[0])\n",
        "  sim_values.append(con_data.loc[con_data[name]== sim[i]]['설비'].values[0])\n",
        "  sim_values.append(con_data.loc[con_data[name]== sim[i]]['전기'].values[0])\n",
        "  sim_values.append(con_data.loc[con_data[name]== sim[i]]['통신'].values[0])\n",
        "  sim_values.append(con_data.loc[con_data[name]== sim[i]]['소방'].values[0])\n",
        "  sim_values.append(con_data.loc[con_data[name]== sim[i]]['조경'].values[0])\n",
        "  sim_values.append(con_data.loc[con_data[name]== sim[i]]['추가공종'].values[0])\n",
        "  sim_values.append(con_data.loc[con_data[name]== sim[i]]['간접비 및 이윤'].values[0])\n",
        "  result_2.append(sim_values)\n",
        "  i += 1"
      ]
    },
    {
      "cell_type": "code",
      "execution_count": null,
      "metadata": {
        "id": "UkJz1o9KfUWI"
      },
      "outputs": [],
      "source": [
        "raw_data['유사도 기준공사비'] = result\n",
        "raw_data.iloc[27, 17:26] = result_2[27]\n",
        "raw_data.iloc[29, 17:26] = result_2[29]"
      ]
    },
    {
      "cell_type": "markdown",
      "metadata": {
        "id": "uKDvn-qRfX31"
      },
      "source": [
        "모델링"
      ]
    },
    {
      "cell_type": "code",
      "execution_count": null,
      "metadata": {
        "id": "v83EN3UrmS-c"
      },
      "outputs": [],
      "source": [
        "# baseline modeling을 위한 파라미터 설정\n",
        "random_seed = 4\n",
        "kfold = KFold(n_splits=5, shuffle=True, random_state=random_seed)"
      ]
    },
    {
      "cell_type": "code",
      "execution_count": null,
      "metadata": {
        "id": "NA3v94BNlevh"
      },
      "outputs": [],
      "source": [
        "drop_feature = ['프로젝트명', '공사비', '시공사명', '2015 평당가'] # 모든 데이터 사용\n",
        "main_data = pd.get_dummies(raw_data.drop(drop_feature, axis=1), columns=['토목공법', '공법', '건물유형'], drop_first=True)\n",
        "main_data = main_data[['착공년도', '연면적(평)', '지하층', '지상층', '층', '시공사 등급', '공사기간(개월)', '인테리어',\n",
        "       '공사비지수', '2015 기준공사비', '토목', '건축', '설비', '전기', '통신', '소방', '조경', '추가공종',\n",
        "       '간접비 및 이윤', '건물외형', '철거공사 포함 여부', '지역', '유사도 기준공사비', '공법_PRC ',\n",
        "       '공법_RC', '공법_RC / PC', '공법_RC / 철골조', '공법_SRC', '공법_SRC / RC',\n",
        "       '공법_SRC / SC', '토목공법_순타', '토목공법_역타', '건물유형_의료시설', '건물유형_지식산업센터']]"
      ]
    },
    {
      "cell_type": "code",
      "execution_count": null,
      "metadata": {
        "id": "UXcNG3sVl0UR"
      },
      "outputs": [],
      "source": [
        "idx = raw_data[list(map( lambda x : x in ['PC / PEB', 'PRC ', 'SRC / SC'], raw_data['공법']))].index\n",
        "\n",
        "c = main_data.loc[idx,:]\n",
        "A_c = c.drop(['2015 기준공사비'], axis=1)\n",
        "b_c = c['2015 기준공사비']\n",
        "\n",
        "d = main_data.loc[main_data.index.difference(idx),:]\n",
        "A_d = d.drop(['2015 기준공사비'], axis=1)\n",
        "b_d = d['2015 기준공사비']\n",
        "A_train, A_test, b_train, b_test = train_test_split(A_d, b_d, test_size=0.3, random_state=random_seed) # 총 데이터 길이 27개 : 0.2 = 약 6개 / 3개 제외하고 사용하므로 0.3으로 설정하는 것으로\n",
        "\n",
        "A_train = pd.concat([A_train, A_c], axis=0)\n",
        "b_train = pd.concat([b_train, b_c], axis=0)"
      ]
    },
    {
      "cell_type": "code",
      "execution_count": null,
      "metadata": {
        "colab": {
          "base_uri": "https://localhost:8080/"
        },
        "id": "ZXPSJLV0l7G3",
        "outputId": "959621b1-421a-4a65-ce69-805e6ce52d9f"
      },
      "outputs": [],
      "source": [
        "# algorithm test 진행, 연관된 알고리즘을 리스트에 더 추가해도 무방\n",
        "benchmark = pd.DataFrame(columns=['Algorithm', 'MAE', 'RMSE', 'MAPE', 'r2'])\n",
        "\n",
        "for algorithm in [LinearRegression(), RandomForestRegressor(random_state=random_seed), XGBRegressor(random_state=random_seed),MLPRegressor(random_state=random_seed), Lasso(), Ridge(), GradientBoostingRegressor(random_state=random_seed)]:\n",
        "    pipeline = Pipeline(steps = [['regressor', algorithm]])\n",
        "    \n",
        "    results = GridSearchCV(estimator=pipeline,\n",
        "                           scoring= 'neg_mean_absolute_error',\n",
        "                           param_grid ={},\n",
        "                           cv = kfold,\n",
        "                           n_jobs=-1)\n",
        "    results.fit(A_train, b_train)\n",
        "    results_pred = results.predict(A_test)\n",
        "    mae = mean_absolute_error(b_test, results_pred)\n",
        "    rmse = mean_squared_error(b_test, results_pred, squared=False)\n",
        "    mape = mean_absolute_percentage_error(b_test, results_pred)\n",
        "    r2_cof = r2_score(b_test, results_pred)\n",
        "    benchmark = benchmark.append({'Algorithm' : algorithm, 'MAE' : mae,'RMSE' : rmse, 'MAPE' : mape, 'r2' : r2_cof}, ignore_index=True)"
      ]
    },
    {
      "cell_type": "code",
      "execution_count": null,
      "metadata": {
        "colab": {
          "base_uri": "https://localhost:8080/",
          "height": 269
        },
        "id": "-yhHxNAul9zD",
        "outputId": "9273250c-6e9d-4a04-e6a8-ba8d41642357"
      },
      "outputs": [],
      "source": [
        "benchmark"
      ]
    },
    {
      "cell_type": "code",
      "execution_count": null,
      "metadata": {
        "colab": {
          "base_uri": "https://localhost:8080/"
        },
        "id": "8Y-kH5QbiJos",
        "outputId": "7d209714-d351-4157-caee-7a7c2b41e544"
      },
      "outputs": [],
      "source": [
        "opt_dict = {}\n",
        "idx = benchmark['MAPE'].idxmin()\n",
        "column_list = ['MAE', 'RMSE', 'MAPE', 'r2']\n",
        "benchmark = benchmark.drop([idx], axis=0).reset_index(drop=True)\n",
        "\n",
        "for columns in list(column_list) : \n",
        "  opt_dict['Average '+columns] = benchmark[columns].mean()\n",
        "\n",
        "opt_dict  "
      ]
    },
    {
      "cell_type": "code",
      "execution_count": null,
      "metadata": {
        "colab": {
          "base_uri": "https://localhost:8080/"
        },
        "id": "lAJr5e3FuGly",
        "outputId": "595d3332-7642-4494-8246-5eaf64dd1958"
      },
      "outputs": [],
      "source": [
        "size = 0.2\n",
        "X_train, X_test, y_train, y_test = train_test_split(A_d, b_d, test_size=size, random_state=7) # 10 8\n",
        "X_train = pd.concat([X_train, A_c], axis=0)\n",
        "y_train = pd.concat([y_train, b_c], axis=0)\n",
        "\n",
        "pipeline_xgb = Pipeline(steps=[['regressor', XGBRegressor(objective='reg:squarederror', random_state=4)]])\n",
        "\n",
        "\n",
        "params_xgb={'regressor__n_estimators' : [100, 200, 300, 500],\n",
        "            'regressor__max_depth' : [3, 5, 8, 10], \n",
        "            'regressor__min_samples_split' : [2, 3, 5]}\n",
        "\n",
        "\n",
        "grid_search_xgb = GridSearchCV(estimator=pipeline_xgb,\n",
        "                               param_grid=params_xgb,\n",
        "                               cv = kfold,\n",
        "                               scoring = 'neg_mean_absolute_percentage_error',\n",
        "                               n_jobs=-1)\n",
        "\n",
        "grid_search_xgb.fit(X_train, y_train)\n",
        "pred_xgb = grid_search_xgb.predict(X_test)\n",
        "print(grid_search_xgb.best_params_)\n",
        "print('MAE = {:.3f}'.format(mean_absolute_error(y_test, pred_xgb)))\n",
        "print('RMSE = {:.3f}'.format(mean_squared_error(y_test, pred_xgb, squared=False)))\n",
        "print('MAPE = {:.3f}'.format(mean_absolute_percentage_error(y_test, pred_xgb)))\n",
        "print('r2 score = {:.3f}'.format(r2_score(y_test, pred_xgb)))\n",
        "\n",
        "now = datetime.now()\n",
        "f_mae = mean_absolute_error(y_test, pred_xgb)\n",
        "f_rmse = mean_squared_error(y_test, pred_xgb, squared=False)\n",
        "f_mape = mean_absolute_percentage_error(y_test, pred_xgb)\n",
        "f_r2_cof = r2_score(y_test, pred_xgb)\n",
        "\n",
        "metrics_dict = {}\n",
        "metrics_dict['MAE'] = f_mae\n",
        "metrics_dict['RMSE'] = f_rmse\n",
        "metrics_dict['MAPE'] = f_mape\n",
        "metrics_dict['r2_score'] = f_r2_cof\n",
        "\n",
        "metrics_dict"
      ]
    },
    {
      "cell_type": "code",
      "execution_count": null,
      "metadata": {
        "id": "KRclHbIBlb8l"
      },
      "outputs": [],
      "source": [
        "end_model = grid_search_xgb.best_estimator_['regressor']"
      ]
    },
    {
      "cell_type": "code",
      "execution_count": null,
      "metadata": {
        "colab": {
          "base_uri": "https://localhost:8080/",
          "height": 718
        },
        "id": "3xjm9Wm3lJpq",
        "outputId": "9bcbdf8e-d9fb-45c8-f644-a7d3fca0d2f4"
      },
      "outputs": [],
      "source": [
        "# SHAP feature importance 구축\n",
        "explainer = shap.TreeExplainer(end_model, data=X_train) \n",
        "shap_values = explainer.shap_values(X_test) \n",
        "shap_obj = explainer(X_test)\n",
        "shap.initjs()\n",
        "shap.summary_plot(shap_values, X_test, plot_type = \"bar\")"
      ]
    },
    {
      "cell_type": "code",
      "execution_count": null,
      "metadata": {
        "id": "43OsowlRiufO"
      },
      "outputs": [],
      "source": [
        "importances = np.absolute(shap_values).sum(axis=0) / shap_values.shape[0]\n",
        "feature_importance = pd.Series(importances / np.sum(importances))\n",
        "feature_importance.index = X_train.columns"
      ]
    },
    {
      "cell_type": "code",
      "execution_count": null,
      "metadata": {
        "id": "O28Npl6ST1FS"
      },
      "outputs": [],
      "source": [
        "# 수정\n",
        "numerical = raw_data.select_dtypes(include = 'number').columns.drop(['공사비', '2015 기준공사비', '2015 평당가'])\n",
        "categorical = ['토목공법', '공법', '건물유형']\n",
        "fe_list = list(feature_importance.index)"
      ]
    },
    {
      "cell_type": "code",
      "execution_count": null,
      "metadata": {
        "id": "iOIttfS4aSh7"
      },
      "outputs": [],
      "source": [
        "cat_imp = []\n",
        "for name in categorical : \n",
        "  sum = 0\n",
        "  for i in range (len(fe_list)) : \n",
        "    if name in fe_list[i] :\n",
        "      sum += feature_importance[i]\n",
        "  cat_imp.append(sum)"
      ]
    },
    {
      "cell_type": "code",
      "execution_count": null,
      "metadata": {
        "id": "V-ppXav7dqRl"
      },
      "outputs": [],
      "source": [
        "cat_fe = pd.Series(cat_imp)\n",
        "cat_fe.index = categorical"
      ]
    },
    {
      "cell_type": "code",
      "execution_count": null,
      "metadata": {
        "id": "Zb0RNHkCezDu"
      },
      "outputs": [],
      "source": [
        "nu_fe = feature_importance[numerical]"
      ]
    },
    {
      "cell_type": "code",
      "execution_count": null,
      "metadata": {
        "id": "ljSXF84QfKXS"
      },
      "outputs": [],
      "source": [
        "result_fe = pd.concat([nu_fe, cat_fe])\n",
        "fe_dict = result_fe.to_dict()"
      ]
    },
    {
      "cell_type": "code",
      "execution_count": null,
      "metadata": {
        "id": "NWwjzMGYkmT9"
      },
      "outputs": [],
      "source": [
        "missing_rate = {}\n",
        "feature_data = raw.drop(['공사비', '2015 기준공사비', '2015 평당가'], axis=1)\n",
        "\n",
        "for name in feature_data.columns.tolist() : \n",
        "  cnt = 0\n",
        "  for i in range(len(feature_data)) : \n",
        "    if feature_data[name].isnull()[i] == True : \n",
        "      cnt+=1\n",
        "  missing_rate[name] = cnt/len(feature_data)"
      ]
    },
    {
      "cell_type": "code",
      "execution_count": null,
      "metadata": {
        "id": "ISfZxWEslBdQ"
      },
      "outputs": [],
      "source": [
        "main_dict = {}\n",
        "main_dict['feature importance'] = fe_dict\n",
        "main_dict['trainset_size'] = len(X_train)\n",
        "main_dict['testset_size'] = len(X_test)\n",
        "main_dict['total_size'] = len(X_train)+len(X_test)\n",
        "main_dict['last_train_date'] = str(now)\n",
        "main_dict['metrics'] = metrics_dict\n",
        "main_dict['algorithm others'] = opt_dict\n",
        "main_dict['feature missing rate'] = missing_rate"
      ]
    },
    {
      "cell_type": "code",
      "execution_count": null,
      "metadata": {
        "colab": {
          "base_uri": "https://localhost:8080/"
        },
        "id": "VC_UrPLWjq2H",
        "outputId": "aad7db05-e6ae-42db-da9b-54ca6440bcdf"
      },
      "outputs": [],
      "source": [
        "main_dict"
      ]
    },
    {
      "cell_type": "code",
      "execution_count": null,
      "metadata": {
        "id": "TV47K97mlIWh"
      },
      "outputs": [],
      "source": [
        "json_file = json.dumps(main_dict)"
      ]
    },
    {
      "cell_type": "code",
      "execution_count": null,
      "metadata": {
        "id": "0euCoFMZlIoI"
      },
      "outputs": [],
      "source": [
        "file_path = '/content/drive/My Drive/Colab Notebooks/전인CM/output/지산의료오피.json'"
      ]
    },
    {
      "cell_type": "code",
      "execution_count": null,
      "metadata": {
        "id": "t5LB9FTPlIq6"
      },
      "outputs": [],
      "source": [
        "with open(file_path, 'w', encoding='utf-8') as file:\n",
        "    file.write(json.dumps(main_dict, ensure_ascii=False))"
      ]
    },
    {
      "cell_type": "code",
      "execution_count": null,
      "metadata": {
        "colab": {
          "base_uri": "https://localhost:8080/"
        },
        "id": "wvNOdrkA4-UQ",
        "outputId": "9863880f-19c8-43a6-8387-a7596e880414"
      },
      "outputs": [],
      "source": [
        "joblib.dump(end_model, '/content/drive/My Drive/Colab Notebooks/전인CM/output/지산의료오피_model.pkl')\n",
        "joblib.dump(scaler, '/content/drive/My Drive/Colab Notebooks/전인CM/output/지산의료오피_scaler.pkl')\n",
        "joblib.dump(con_data, '/content/drive/My Drive/Colab Notebooks/전인CM/output/지산의료오피_data.pkl')\n",
        "joblib.dump(en_data, '/content/drive/My Drive/Colab Notebooks/전인CM/output/지산의료오피_en_data.pkl')\n",
        "joblib.dump(explainer, '/content/drive/My Drive/Colab Notebooks/전인CM/output/지산의료오피_explainer.pkl')"
      ]
    }
  ],
  "metadata": {
    "colab": {
      "provenance": []
    },
    "kernelspec": {
      "display_name": "Python 3",
      "name": "python3"
    },
    "language_info": {
      "name": "python"
    }
  },
  "nbformat": 4,
  "nbformat_minor": 0
}
