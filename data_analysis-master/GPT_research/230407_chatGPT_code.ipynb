{
  "cells": [
    {
      "cell_type": "code",
      "execution_count": null,
      "metadata": {
        "colab": {
          "base_uri": "https://localhost:8080/"
        },
        "id": "2pvSk1epGG1A",
        "outputId": "e728a6e0-e6ca-47df-b722-263d688247c5"
      },
      "outputs": [],
      "source": [
        "!pip install openai"
      ]
    },
    {
      "cell_type": "code",
      "execution_count": null,
      "metadata": {
        "colab": {
          "base_uri": "https://localhost:8080/"
        },
        "id": "aURnB9F6GPKu",
        "outputId": "25330951-1801-408f-b2f3-4136c274ec76"
      },
      "outputs": [],
      "source": [
        "!pip install mysql-connector-python"
      ]
    },
    {
      "cell_type": "code",
      "execution_count": null,
      "metadata": {
        "id": "BZdFsiW14yxg"
      },
      "outputs": [],
      "source": [
        "# package\n",
        "\n",
        "import openai\n",
        "import mysql.connector\n",
        "from pprint import pprint # chatGPT message가 잘 출력되되도록 사용\n",
        "import pandas as pd\n",
        "import numpy as np"
      ]
    },
    {
      "cell_type": "code",
      "execution_count": null,
      "metadata": {
        "colab": {
          "base_uri": "https://localhost:8080/"
        },
        "id": "iTD2WzYG5KQx",
        "outputId": "4c719730-0489-4443-a1cb-e876199ac160"
      },
      "outputs": [],
      "source": [
        "# Google Drive 마운트\n",
        "# 마운트는 본인 드라이브만 가능하기에 공유 폴더 같은 경우 본인 드라이브에 바로가기를 추가하여 사용\n",
        "\n",
        "from google.colab import drive\n",
        "drive.mount('/content/drive')"
      ]
    },
    {
      "cell_type": "code",
      "execution_count": null,
      "metadata": {
        "id": "8eXAa6AR4jsS"
      },
      "outputs": [],
      "source": [
        "# API KEY : contact 계정의 API key 발급하여 사용\n",
        "\n",
        "openai.api_key = \"\""
      ]
    },
    {
      "cell_type": "code",
      "execution_count": null,
      "metadata": {
        "id": "0kN4airL6Y-6"
      },
      "outputs": [],
      "source": [
        "# google sheet를 바로 연동하는 것은 원본 훼손 위험이 존재하기에 우선 xlsx 파일을 다운로드 및 업로드하여여 활용\n",
        "\n",
        "raw_data = pd.read_excel(\"/content/drive/MyDrive/HAI 연구개발 리서치/data/PoC 평가.xlsx\", sheet_name='total')"
      ]
    },
    {
      "cell_type": "code",
      "execution_count": null,
      "metadata": {
        "id": "DGFP9nY-9yhi"
      },
      "outputs": [],
      "source": [
        "en_data = raw_data.copy()"
      ]
    },
    {
      "cell_type": "code",
      "execution_count": null,
      "metadata": {
        "id": "l3W0B0WL-NLg"
      },
      "outputs": [],
      "source": [
        "# PoC 평가가 A+인 인원들만 불러오기\n",
        "# url 주소에 userID가 존재하는 형식 데이터만 불러오기\n",
        "en_data = en_data.loc[en_data['총평 \\n(Letter grade, like A+, B+)'] == 'A+']\n",
        "en_data = en_data[en_data['framing docs'].str.contains('&userID', na = False)].reset_index(drop=True)"
      ]
    },
    {
      "cell_type": "code",
      "execution_count": null,
      "metadata": {
        "id": "tXMz2ql1-aRn"
      },
      "outputs": [],
      "source": [
        "# '&' 기준으로 파싱하여 user_id 리스트에 저장하기\n",
        "id_list = []\n",
        "for i in range(len(en_data)) :\n",
        "  id_list.append(en_data['framing docs'][i].split('&')[1][7:])"
      ]
    },
    {
      "cell_type": "code",
      "execution_count": null,
      "metadata": {
        "id": "xlOt9-8sBdSS"
      },
      "outputs": [],
      "source": [
        "# DB 연동\n",
        "\n",
        "mydb = mysql.connector.connect(\n",
        "  host=\"\",\n",
        "  user=\"\",\n",
        "  password=\"\",\n",
        "  database=\"\"\n",
        ")\n",
        "\n",
        "# 저장된 userID 정보 불러와서 사용\n",
        "userCode = id_list[1]\n",
        "\n",
        "mycursor = mydb.cursor()\n",
        "\n",
        "mycursor.execute(\"SELECT user_id from userCodeTable where code='\" + userCode + \"'\")\n",
        "\n",
        "myresult = mycursor.fetchall()\n",
        "\n",
        "userID = myresult[0][0]\n",
        "\n",
        "mycursor.execute(\"SELECT user_id, question_id, response FROM responseTable where user_id='\" + str(userID) + \"'\")\n",
        "\n",
        "myresult = mycursor.fetchall()\n",
        "\n",
        "userResponse = {}\n",
        "\n",
        "# 0부터 시작되는 문항번호를 1부터 시작하도록 변경\n",
        "for x in myresult:\n",
        "    userResponse[x[1]+1] = x[2]"
      ]
    },
    {
      "cell_type": "code",
      "execution_count": null,
      "metadata": {
        "colab": {
          "base_uri": "https://localhost:8080/"
        },
        "id": "MBVU4_irCI_T",
        "outputId": "9d4daef8-84e1-4461-a79a-f70e2c157de6"
      },
      "outputs": [],
      "source": [
        "# PoC 데이터는 dictionary 형태로 저장\n",
        "userResponse"
      ]
    },
    {
      "cell_type": "code",
      "execution_count": null,
      "metadata": {
        "id": "JjmKHv_AITd9"
      },
      "outputs": [],
      "source": [
        "# 문항 정보 입력\n",
        "qna = pd.read_csv(\"/content/drive/MyDrive/HAI 연구개발 리서치/data/PoC_Question.csv\")"
      ]
    },
    {
      "cell_type": "code",
      "execution_count": null,
      "metadata": {
        "id": "TjOXybawGVcC"
      },
      "outputs": [],
      "source": [
        "# 초기 system role 세팅\n"
      ]
    },
    {
      "cell_type": "code",
      "execution_count": null,
      "metadata": {
        "id": "1pSGWm3dDQUj"
      },
      "outputs": [],
      "source": [
        "i = 22\n",
        "messages = [{\"role\": \"system\", \"content\": \"너는 AI 분야의 data scientist야\"},\n",
        "            {\"role\" : \"system\", \"content\" : f\"{str(qna['문항번호'][i-1])}번 문항 : {qna['문항'][i-1]}\"}\n",
        "            ]\n",
        "\n",
        "messages.append({\"role\" : \"user\", \"content\" : f\"{i}번 문항 답변 : '원재료1-유동지수/원재료1-충격강도/원재료2-유동지수/원재료2-녹는점/원재료3-인열강도/ ... 원재료n-상대점도/제품의 유동지수'\"})\n",
        "\n",
        "completion = openai.ChatCompletion.create(\n",
        "model=\"gpt-3.5-turbo\",\n",
        "messages=messages,\n",
        "temperature=1\n",
        ")\n",
        "\n",
        "chat_response = completion.choices[0].message.content\n",
        "messages.append({\"role\" : \"assistant\", \"content\" : chat_response})"
      ]
    },
    {
      "cell_type": "code",
      "execution_count": null,
      "metadata": {
        "colab": {
          "base_uri": "https://localhost:8080/"
        },
        "id": "2jp5U0iLDuZJ",
        "outputId": "7276435d-099a-4e0e-f110-b56aa0b6c29d"
      },
      "outputs": [],
      "source": [
        "messages = [{\"role\": \"system\", \"content\": \"너는 AI 분야의 data scientist야\"},\n",
        "            {\"role\" : \"system\", \"content\" : f\"{str(qna['문항번호'][i-1])}번 문항 : {qna['문항'][i-1]}\"},\n",
        "            {\"role\" : \"user\", \"content\" : f\"{i}번 문항 답변 : '원재료1-유동지수/원재료1-충격강도/원재료2-유동지수/원재료2-녹는점/원재료3-인열강도/ ... 원재료n-상대점도/제품의 유동지수'\"},\n",
        "            \"role\" : \"assistant\", \"content\" : chat_response}\n",
        "            ]"
      ]
    },
    {
      "cell_type": "code",
      "execution_count": null,
      "metadata": {
        "id": "dyHvpbTzGWqU"
      },
      "outputs": [],
      "source": [
        "# 6개 문항 선택\n",
        "i = 5\n",
        "messages.append({\"role\" : \"assistant\", \"content\" : f\"{str(qna['문항번호'][i-1])}번 문항 : {qna['문항'][i-1]}\"})\n",
        "messages.append({\"role\" : \"user\", \"content\" : f\"{i}번 문항 답변 : {userResponse[i]}\"})\n",
        "\n",
        "completion = openai.ChatCompletion.create(\n",
        "model=\"gpt-3.5-turbo\",\n",
        "messages=messages,\n",
        "temperature=1\n",
        ")\n",
        "\n",
        "chat_response = completion.choices[0].message.content\n",
        "messages.append({\"role\" : \"assistant\", \"content\" : chat_response})"
      ]
    },
    {
      "cell_type": "code",
      "execution_count": null,
      "metadata": {
        "id": "JHBR3JQXLA5q"
      },
      "outputs": [],
      "source": [
        "i = 8\n",
        "messages.append({\"role\" : \"assistant\", \"content\" : f\"{str(qna['문항번호'][i-1])}번 문항 : {qna['문항'][i-1]}\"})\n",
        "messages.append({\"role\" : \"user\", \"content\" : f\"{i}번 문항 답변 : {userResponse[i]}\"})\n",
        "\n",
        "completion = openai.ChatCompletion.create(\n",
        "model=\"gpt-3.5-turbo\",\n",
        "messages=messages,\n",
        "temperature=1\n",
        ")\n",
        "\n",
        "chat_response = completion.choices[0].message.content\n",
        "messages.append({\"role\" : \"assistant\", \"content\" : chat_response})"
      ]
    },
    {
      "cell_type": "code",
      "execution_count": null,
      "metadata": {
        "id": "47VTrJ4ILCN0"
      },
      "outputs": [],
      "source": [
        "i = 22\n",
        "messages.append({\"role\" : \"assistant\", \"content\" : f\"{str(qna['문항번호'][i-1])}번 문항 : {qna['문항'][i-1]}\"})\n",
        "messages.append({\"role\" : \"user\", \"content\" : f\"{i}번 문항 답변 : {userResponse[i]}\"})\n",
        "\n",
        "completion = openai.ChatCompletion.create(\n",
        "model=\"gpt-3.5-turbo\",\n",
        "messages=messages,\n",
        "temperature=1\n",
        ")\n",
        "\n",
        "chat_response = completion.choices[0].message.content\n",
        "messages.append({\"role\" : \"assistant\", \"content\" : chat_response})"
      ]
    },
    {
      "cell_type": "code",
      "execution_count": null,
      "metadata": {
        "id": "3UM1Ao1ILynn"
      },
      "outputs": [],
      "source": [
        "messages.append({\"role\" : \"user\", \"content\" : \"위 22번에 대한 예시로 10개 row를 보유하고 있는 데이터프레임을 구성해줘\"})\n",
        "\n",
        "completion = openai.ChatCompletion.create(\n",
        "model=\"gpt-3.5-turbo\",\n",
        "messages=messages,\n",
        "temperature=1\n",
        ")\n",
        "\n",
        "chat_response = completion.choices[0].message.content\n",
        "messages.append({\"role\" : \"assistant\", \"content\" : chat_response})"
      ]
    },
    {
      "cell_type": "code",
      "execution_count": null,
      "metadata": {
        "id": "DTUBanEJMIkP"
      },
      "outputs": [],
      "source": [
        "messages.append({\"role\" : \"user\", \"content\" : \"위 구성한 데이터프레임을 활용하여 인공지능 모델 구축 코드를 만들고 해당 metrics까지 산출해줘\"})\n",
        "\n",
        "completion = openai.ChatCompletion.create(\n",
        "model=\"gpt-3.5-turbo\",\n",
        "messages=messages,\n",
        "temperature=1\n",
        ")\n",
        "\n",
        "chat_response = completion.choices[0].message.content\n",
        "messages.append({\"role\" : \"assistant\", \"content\" : chat_response})"
      ]
    },
    {
      "cell_type": "code",
      "execution_count": null,
      "metadata": {
        "id": "5SWRhs7LdrT7"
      },
      "outputs": [],
      "source": [
        "# 초기 system role 세팅\n",
        "messages = [{\"role\": \"system\", \"content\": \"너는 AI 분야의 data scientist야\"}]"
      ]
    },
    {
      "cell_type": "code",
      "execution_count": null,
      "metadata": {
        "id": "iGuMAM8OdtiJ"
      },
      "outputs": [],
      "source": [
        "i = 22\n",
        "messages.append({\"role\" : \"assistant\", \"content\" : f\"{str(qna['문항번호'][i-1])}번 문항 : {qna['문항'][i-1]}\"})\n",
        "messages.append({\"role\" : \"user\", \"content\" : f\"{i}번 문항 답변 : {userResponse[i]}\"})\n",
        "\n",
        "completion = openai.ChatCompletion.create(\n",
        "model=\"gpt-3.5-turbo\",\n",
        "messages=messages,\n",
        "temperature=1\n",
        ")\n",
        "\n",
        "chat_response = completion.choices[0].message.content\n",
        "messages.append({\"role\" : \"assistant\", \"content\" : chat_response})"
      ]
    },
    {
      "cell_type": "code",
      "execution_count": null,
      "metadata": {
        "id": "hvGFE5IqNZXf"
      },
      "outputs": [],
      "source": [
        "messages.append({\"role\" : \"user\", \"content\" : \"위 22번에 대한 예시로 10개 row를 보유하고 있는 데이터프레임을 구성해줘\"})\n",
        "\n",
        "completion = openai.ChatCompletion.create(\n",
        "model=\"gpt-3.5-turbo\",\n",
        "messages=messages,\n",
        "temperature=1\n",
        ")\n",
        "\n",
        "chat_response = completion.choices[0].message.content\n",
        "messages.append({\"role\" : \"assistant\", \"content\" : chat_response})"
      ]
    },
    {
      "cell_type": "code",
      "execution_count": null,
      "metadata": {
        "id": "S3TEe1BugCZA"
      },
      "outputs": [],
      "source": [
        "messages.append({\"role\" : \"user\", \"content\" : \"위 데이터프레임을 feature 명칭, Label 명칭을 참고하여 python code로 생성한 후, csv 파일로 결과를 얻을 수 있도록 코드를 구축해줘\"})\n",
        "\n",
        "completion = openai.ChatCompletion.create(\n",
        "model=\"gpt-3.5-turbo\",\n",
        "messages=messages,\n",
        "temperature=1\n",
        ")\n",
        "\n",
        "chat_response = completion.choices[0].message.content\n",
        "messages.append({\"role\" : \"assistant\", \"content\" : chat_response})"
      ]
    },
    {
      "cell_type": "code",
      "execution_count": null,
      "metadata": {
        "colab": {
          "base_uri": "https://localhost:8080/"
        },
        "id": "kxZz80Ked6o7",
        "outputId": "23a06efb-2b4a-4723-e095-8281046c46f6"
      },
      "outputs": [],
      "source": [
        "messages"
      ]
    },
    {
      "cell_type": "code",
      "execution_count": null,
      "metadata": {
        "colab": {
          "base_uri": "https://localhost:8080/"
        },
        "id": "S5mXhRCXNyZN",
        "outputId": "8c09a3ae-14fb-486e-80bb-4f19d515413f"
      },
      "outputs": [],
      "source": [
        "# 일단 대충 얼기설기 짜놓았습니다.\n",
        "# 앞에서부터 탐색 / 뒤에서부터 탐색 두개로 각각 발견되면 멈추게 짜면 될 것 같습니다.\n",
        "divided = chat_response.split('\\n')\n",
        "idx = []\n",
        "for i, w in enumerate(divided):\n",
        "    if w.startswith(\"```\") or w.endswith(\"```\"):\n",
        "        idx.append(i)\n",
        "output_code = '\\n'.join(divided[idx[0]+1:idx[-1]])\n",
        "\n",
        "pprint(output_code)"
      ]
    },
    {
      "cell_type": "code",
      "execution_count": null,
      "metadata": {
        "id": "Jy540N-jeCRW"
      },
      "outputs": [],
      "source": [
        "with open('/content/drive/MyDrive/HAI 연구개발 리서치/output/output_script_2.py', 'w') as f:\n",
        "    f.write(output_code)"
      ]
    },
    {
      "cell_type": "code",
      "execution_count": null,
      "metadata": {
        "colab": {
          "base_uri": "https://localhost:8080/",
          "height": 110
        },
        "id": "6F7gqw3aO_J4",
        "outputId": "2998c075-b54b-4d64-b1ec-808d5cc48420"
      },
      "outputs": [],
      "source": [
        "def Code_CoT_test(q_1:str, q_2:str, q_3:str, plot:list, ChatGPT_api_key:str, data_path:str, model:str=\"gpt-3.5-turbo\")->str:\n",
        "\n",
        "    openai.api_key = ChatGPT_api_key\n",
        "\n",
        "    messages = [\n",
        "        {\n",
        "            \"role\": \"system\",\n",
        "            \"content\": \"인공지능 모델을 활용하여 개선이 가능한 영역인지 확인해줘\",\n",
        "        },\n",
        "\n",
        "        {\n",
        "            \"role\": \"system\",\n",
        "            \"content\": \"인공지능을 활용했을 때, 회귀, 분류 모델 중 어떤 모델이 적합한지 확인해줘\",\n",
        "        },\n",
        "\n",
        "        {\n",
        "            \"role\": \"system\",\n",
        "            \"content\": \"개선이 필요한 영역을 한 줄로 정리해서 요약해줘\",\n",
        "        },\n",
        "\n",
        "        {\n",
        "            \"role\": \"user\",\n",
        "            \"content\": f'인공지능을 적용하여여 개선이 필요한 영역은 \"{q_1}\"이야'\n",
        "        }\n",
        "    ]\n",
        "\n",
        "    response = openai.ChatCompletion.create(model=model, messages=messages)\n",
        "\n",
        "    answer_1 = response[\"choices\"][0][\"message\"][\"content\"]\n",
        "\n",
        "    messages = [\n",
        "        {\n",
        "            \"role\": \"system\",\n",
        "            \"content\": f\"'{answer_1}' 영역에 대해 인공지능을 활용하고 싶어\",\n",
        "        },\n",
        "\n",
        "        {\n",
        "            \"role\": \"system\",\n",
        "            \"content\": \"인공지능이 예측하려는 Target이 무엇인지 확인해줘\",\n",
        "        },\n",
        "\n",
        "        {\n",
        "            \"role\": \"system\",\n",
        "            \"content\": \"인공지능의 목적을 한 줄로 정리해서 요약해줘.\",\n",
        "        },\n",
        "\n",
        "        {\n",
        "            \"role\": \"user\",\n",
        "            \"content\": f'인공지능의 목적은 \"{q_2}\"이야'\n",
        "        }\n",
        "    ]\n",
        "\n",
        "    response = openai.ChatCompletion.create(model=model, messages=messages)\n",
        "    answer_2 = response[\"choices\"][0][\"message\"][\"content\"]\n",
        "\n",
        "    messages = [\n",
        "        {\n",
        "            \"role\": \"system\",\n",
        "            \"content\": f\"AI의 주제는 '{answer_2}'이야\",\n",
        "        },\n",
        "        {\n",
        "            \"role\": \"system\",\n",
        "            \"content\": \"입력된 데이터를 feature와 label 두 종류로 구분해줘\",\n",
        "        },\n",
        "\n",
        "        {\n",
        "            \"role\": \"system\",\n",
        "            \"content\":\"python script를 사용하여 dataframe을 생성해줘\",\n",
        "        },\n",
        "\n",
        "        {\n",
        "            \"role\": \"system\",\n",
        "            \"content\": \"결과 전달 시 python script만 출력해줘\",\n",
        "        },\n",
        "\n",
        "        {\n",
        "            \"role\": \"system\",\n",
        "            \"content\": \"dataframe 생성 시, column의 명칭은 입력된 feature와 Label 명칭으로 사용해줘\",\n",
        "        },\n",
        "\n",
        "        {\n",
        "            \"role\": \"system\",\n",
        "            \"content\": \"dataframe의 value값들은 임의로 10개만 생성해줘\",\n",
        "        },\n",
        "\n",
        "         {\n",
        "            \"role\": \"system\",\n",
        "            \"content\": f\"생성한 dataframe의 저장 경로는 {data_path}야\",\n",
        "        },\n",
        "\n",
        "         {\n",
        "            \"role\": \"system\",\n",
        "            \"content\": \"위 단계들을 차근차근 생각해줘\",\n",
        "        },\n",
        "        {\n",
        "            \"role\": \"user\",\n",
        "            \"content\": f\"예시 데이터 세트는 '{q_3}'이야. dataframe을 생성하고 저장해줘\"\n",
        "        }\n",
        "    ]\n",
        "\n",
        "    response = openai.ChatCompletion.create(model=model, messages=messages)\n",
        "    answer_3 = response[\"choices\"][0][\"message\"][\"content\"]\n",
        "\n",
        "    messages = [\n",
        "            {\n",
        "                \"role\": \"system\",\n",
        "                \"content\": f\"인공지능의 목적은 '{answer_2}'이야\",\n",
        "            },\n",
        "            {\n",
        "                \"role\": \"system\",\n",
        "                \"content\": f\"현재 보유한 데이터프레임은 {answer_3}이야\",\n",
        "            },\n",
        "\n",
        "            {\n",
        "                \"role\": \"system\",\n",
        "                \"content\": \"AI Modeling 관점으로 사용가능한 plot들을 1개만 추천해줘\",\n",
        "            },\n",
        "\n",
        "            {\n",
        "                \"role\": \"system\",\n",
        "                \"content\":\"데이터프레임의 feature들을 참고하여 사용가능한 plot들을 1개만 추천해줘\",\n",
        "            },\n",
        "\n",
        "            {\n",
        "                \"role\": \"system\",\n",
        "                \"content\": f\"plot들을 추천할 시 {plot} 리스트 목록에 존재하는 plot들만 추천해줘\",\n",
        "            },\n",
        "\n",
        "            {\n",
        "                \"role\": \"user\",\n",
        "                \"content\": '데이터프레임을 참고하여 필요한 시각화 plot들을 추천해줘'\n",
        "            }\n",
        "        ]\n",
        "\n",
        "    response = openai.ChatCompletion.create(model=model, messages=messages)\n",
        "    answer_4 = response[\"choices\"][0][\"message\"][\"content\"]\n",
        "\n",
        "    return answer_3, answer_4\n",
        "'''\n",
        "    messages = [\n",
        "        {\n",
        "            \"role\": \"system\",\n",
        "            \"content\": f\"지금부터 {answer_3}를 리뷰할거야\",\n",
        "        },\n",
        "        {\n",
        "            \"role\": \"system\",\n",
        "            \"content\": \"차근차근 생각하고 효율적으로 코드를 구축해줘\",\n",
        "        },\n",
        "\n",
        "        {\n",
        "            \"role\": \"system\",\n",
        "            \"content\": \"결과 전달 시 python script만 출력해줘\",\n",
        "        },\n",
        "\n",
        "        {\n",
        "            \"role\": \"system\",\n",
        "            \"content\":f\"생성한 {answer_3}가 실행하는데 문제가 없는지 체크해줘\",\n",
        "        },\n",
        "\n",
        "        {\n",
        "            \"role\": \"system\",\n",
        "            \"content\": f\"실행하는데 문제가 발생하지 않을 경우 {answer_3}를 그대로 둬\",\n",
        "        },\n",
        "\n",
        "        {\n",
        "            \"role\": \"user\",\n",
        "            \"content\": f'생성한 {answer_3}를 리뷰해주고 python script를 다시 전달해줘'\n",
        "        }\n",
        "    ]\n",
        "\n",
        "    response = openai.ChatCompletion.create(model=model, messages=messages)\n",
        "    answer_3 = response[\"choices\"][0][\"message\"][\"content\"]\n",
        "'''"
      ]
    },
    {
      "cell_type": "code",
      "execution_count": null,
      "metadata": {
        "id": "Yr60QXOZSRkI"
      },
      "outputs": [],
      "source": [
        "output, output_2 = Code_CoT_test(q_1=userResponse[5], q_2=userResponse[8], q_3=userResponse[22],\n",
        "                      plot = [\"feature_importance\", \"roc_curve\", \"bar_plot\", \"line_plot\", \"pie_plot\", \"heatmap\", \"confusion_matrix\", \"histogram\"],\n",
        "                      ChatGPT_api_key=openai.api_key,\n",
        "                      data_path='/content/drive/MyDrive/HAI 연구개발 리서치/output/',\n",
        "                      model=\"gpt-3.5-turbo\")"
      ]
    },
    {
      "cell_type": "code",
      "execution_count": null,
      "metadata": {
        "id": "7Wf3EQ4nTttV"
      },
      "outputs": [],
      "source": [
        "from pprint import pprint"
      ]
    },
    {
      "cell_type": "code",
      "execution_count": null,
      "metadata": {
        "colab": {
          "base_uri": "https://localhost:8080/"
        },
        "id": "yN5TsxVjT9rn",
        "outputId": "4bf09784-62f1-4c95-8c31-ddb9b224edc9"
      },
      "outputs": [],
      "source": [
        "pprint(output)"
      ]
    },
    {
      "cell_type": "code",
      "execution_count": null,
      "metadata": {
        "colab": {
          "base_uri": "https://localhost:8080/"
        },
        "id": "uvaPGU3XfLoE",
        "outputId": "f949f2d7-b1ff-4e70-9f20-4bad6978a361"
      },
      "outputs": [],
      "source": [
        "print(output_2)"
      ]
    },
    {
      "cell_type": "code",
      "execution_count": null,
      "metadata": {
        "colab": {
          "base_uri": "https://localhost:8080/"
        },
        "id": "34DG6VM1T_DM",
        "outputId": "226e0553-f702-41df-c5e6-680e927358dc"
      },
      "outputs": [],
      "source": [
        "# 일단 대충 얼기설기 짜놓았습니다.\n",
        "# 앞에서부터 탐색 / 뒤에서부터 탐색 두개로 각각 발견되면 멈추게 짜면 될 것 같습니다.\n",
        "divided = output.split('\\n')\n",
        "idx = []\n",
        "for i, w in enumerate(divided):\n",
        "    if w.startswith(\"```\") or w.endswith(\"```\"):\n",
        "        idx.append(i)\n",
        "output_code = '\\n'.join(divided[idx[0]+1:idx[1]])\n",
        "\n",
        "pprint(output_code)"
      ]
    },
    {
      "cell_type": "code",
      "execution_count": null,
      "metadata": {
        "id": "lRhU11cgUAwr"
      },
      "outputs": [],
      "source": [
        "with open('/content/drive/MyDrive/HAI 연구개발 리서치/output/output_poc_3.py', 'w') as f:\n",
        "    f.write(output_code)"
      ]
    },
    {
      "cell_type": "code",
      "execution_count": null,
      "metadata": {
        "colab": {
          "base_uri": "https://localhost:8080/",
          "height": 368
        },
        "id": "v0TP_6vCYGbi",
        "outputId": "a903156f-7c26-4721-a340-a585bcd9d3e4"
      },
      "outputs": [],
      "source": [
        "%run -i '/content/drive/MyDrive/HAI 연구개발 리서치/output/output_poc_2.py'"
      ]
    },
    {
      "cell_type": "code",
      "execution_count": null,
      "metadata": {
        "id": "UgIaV6SWD9zs"
      },
      "outputs": [],
      "source": [
        "\"system : 인공지능 모델을 활용하여 개선이 가능한 영역인지 확인해줘\"\n",
        "\n",
        "\"system : 인공지능을 활용했을 때, 회귀, 분류 모델 중 어떤 모델이 적합한지 확인해줘\"\n",
        "\n",
        "\"system : 개선이 필요한 영역을 한 줄로 정리해서 요약해줘\"\n",
        "\n",
        "\"user : 인공지능을 적용하여여 개선이 필요한 영역은 {input}이야\"\n",
        "===============\n",
        "\n",
        "\"system : {요약} 영역에 대해 인공지능을 활용하고 싶어\"\n",
        "\n",
        "\"system : 인공지능이 예측하려는 Target이 무엇인지 확인해줘\"\n",
        "\n",
        "\"system : 인공지능의 목적을 한 줄로 정리해서 요약해줘\"\n",
        "\n",
        "\"user : 인공지능의 목적은 {input}이야\"\n",
        "\n",
        "=============\n",
        "\n",
        "\"AI의 주제는 {요약}이야\"\n",
        "\n",
        "\"입력된 데이터를 feature와 label 두 종류로 구분해줘\"\n",
        "\n",
        "\"python script를 사용하여 dataframe을 생성해줘\"\n",
        "\n",
        "\"dataframe 생성 시, column의 명칭은 입력된 feature와 Label 명칭으로 사용해줘\"\n",
        "\n",
        "\"dataframe의 value값들은 랜덤으로 50개만 생성해줘\"\n",
        "\n",
        "\"value 값 생성 시, feature의 type에 맞게 생성해줘\"\n",
        "\n",
        "\"생성한 데이터프레임을 csv 파일로 저장해줘\"\n",
        "\n",
        "\"생성한 dataframe의 저장 경로는 /ml/algorithmlabs.csv 폴더야\"\n",
        "\n",
        "\"저장하는 데이터의 이름은 'test_csv'야\"\n",
        "\n",
        "\"위 단계들을 차근차근 생각해줘\"\n",
        "\n",
        "\"user : 예시 데이터 세트는 {input}이야. dataframe을 생성하고 저장해줘\"\n",
        "\n",
        "# review\n",
        "\n",
        "\"지금부터 python code를 리뷰할거야\"\n",
        "\n",
        "\"차근차근 생각하고 효율적으로 코드를 구축해줘\"\n",
        "\n",
        "\"생성한 python code가 실행하는데 문제가 없는지 체크해줘\"\n",
        "\n",
        "\"실행하는데 문제가 발생하지 않을 경우 python script를 그대로 둬\"\n",
        "\n",
        "\"실행하는데 문제가 발생할 경우 python script 코드를 수정해줘\"\n",
        "\n",
        "\"user : 생성한 {answer}를 리뷰해주고 python script를 다시 전달해줘\"\n",
        "\n",
        "=================================\n",
        "\n",
        "\"개선이 필요한 프로세스는 {요약1}이야\"\n",
        "\n",
        "\"인공지능의 목적은 {요약2}이야\"\n",
        "\n",
        "\"현재 보유한 데이터프레임은 {python script}이야\"\n",
        "\n",
        "\"생성한 데이터프레임이 인공지능 회귀, 분류 모델 중 무엇이 적합한지 생각해줘\"\n",
        "\n",
        "\"인공지능 회귀 모델이 적합할 경우 사용가능한 plot들을 3개만 나열해줘\"\n",
        "\n",
        "\"인공지능 분류 모델이 적합할 경우 사용가능한 plot들을 3개만 나열해줘\"\n",
        "\n",
        "\"데이터프레임의 feature type들을 참고하여 사용할 수 있는 plot들을 3개만 나열해줘\"\n",
        "\n",
        "\"plot들을 나열할 시 반드시 {visualize plot}에 있는 plot들만 추천해줘\"\n",
        "\n",
        "\"user : 데이터프레임을 참고하여 인공지능 모델에 필요한 시각화 plot들을 알려줘\"\n",
        "\n",
        "# review\n",
        "\n",
        "\"{plot}들에 대해 리뷰할게\"\n",
        "\n",
        "\"{plot}이 {visualize plot} 목록 내에 모두 존재하면 그대로 결과를 나열해줘\"\n",
        "\n",
        "\" 만약 목록 내에 존재하지 않는다면 {visualize plot}을 기반으로 다시 나열해줘\"\n",
        "\n",
        "\"현재 보유한 데이터프레임은 {python script}이야\"\n",
        "\n",
        "\"생성한 데이터프레임이 인공지능 회귀, 분류 모델 중 무엇이 적합한지 생각해줘\"\n",
        "\n",
        "\"인공지능 회귀 모델이 적합할 경우 사용가능한 plot들을 3개만 나열해줘\"\n",
        "\n",
        "\"인공지능 분류 모델이 적합할 경우 사용가능한 plot들을 3개만 나열해줘\"\n",
        "\n",
        "\"데이터프레임의 feature type들을 참고하여 사용할 수 있는 plot들을 3개만 나열해줘\"\n",
        "\n",
        "\"plot들을 나열할 시 반드시 {visualize plot}에 있는 plot들만 추천해줘\"\n",
        "\n",
        "\"user : 데이터프레임을 참고하여 인공지능 모델에 필요한 시각화 plot들을 알려줘\""
      ]
    }
  ],
  "metadata": {
    "colab": {
      "provenance": []
    },
    "kernelspec": {
      "display_name": "Python 3",
      "name": "python3"
    },
    "language_info": {
      "name": "python"
    }
  },
  "nbformat": 4,
  "nbformat_minor": 0
}
