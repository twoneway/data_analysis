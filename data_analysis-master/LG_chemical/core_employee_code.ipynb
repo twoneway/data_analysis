{
  "cells": [
    {
      "cell_type": "code",
      "execution_count": null,
      "metadata": {
        "colab": {
          "base_uri": "https://localhost:8080/"
        },
        "id": "lC8sQJmCSXO3",
        "outputId": "eac5bff2-f4b6-41b4-c281-04abfc388c39"
      },
      "outputs": [],
      "source": [
        "from google.colab import drive\n",
        "drive.mount('/content/drive')"
      ]
    },
    {
      "cell_type": "code",
      "execution_count": null,
      "metadata": {
        "id": "fzCyqUHEVHOx"
      },
      "outputs": [],
      "source": [
        "import numpy as np\n",
        "import pandas as pd\n",
        "from sklearn.preprocessing import LabelEncoder # Label Encoding\n",
        "from imblearn.over_sampling import SMOTE\n",
        "from sklearn.preprocessing import StandardScaler, Binarizer, RobustScaler\n",
        "from imblearn.pipeline import Pipeline\n",
        "from sklearn.model_selection import train_test_split, GridSearchCV, StratifiedKFold\n",
        "from xgboost import XGBClassifier\n",
        "from sklearn.metrics import accuracy_score, precision_score, recall_score, confusion_matrix, roc_auc_score, roc_curve, make_scorer\n",
        "import matplotlib.pyplot as plt\n",
        "import seaborn as sns"
      ]
    },
    {
      "cell_type": "code",
      "execution_count": null,
      "metadata": {
        "id": "YTuO0yivVHrJ"
      },
      "outputs": [],
      "source": [
        "class MultiColumnLabelEncoder: # 다수의 Column을 동시에 Label encoding하는 class 생성\n",
        "    def __init__(self,columns = None):\n",
        "        self.columns = columns # array of column names to encode\n",
        "\n",
        "    def fit(self,X,y=None):\n",
        "        return self # not relevant here\n",
        "\n",
        "    def transform(self,X):\n",
        "        output = X.copy()\n",
        "        if self.columns is not None:\n",
        "            for col in self.columns:\n",
        "                output[col] = LabelEncoder().fit_transform(output[col])\n",
        "        else:\n",
        "            for colname,col in output.iteritems():\n",
        "                output[colname] = LabelEncoder().fit_transform(col)\n",
        "        return output\n",
        "\n",
        "    def fit_transform(self,X,y=None):\n",
        "        return self.fit(X,y).transform(X)"
      ]
    },
    {
      "cell_type": "code",
      "execution_count": null,
      "metadata": {
        "id": "0s_yM1XnVJa-"
      },
      "outputs": [],
      "source": [
        "def get_clf_eval(y_test, pred): # 분류모델의 평가지표를 출력하는 함수\n",
        "    confusion = confusion_matrix(y_test, pred)\n",
        "    accuracy = accuracy_score(y_test, pred)\n",
        "    precision = precision_score(y_test, pred)\n",
        "    recall = recall_score(y_test, pred)\n",
        "    print('Confusion_matrix')\n",
        "    print(confusion)\n",
        "    print('Accuracy : {:.4f}\\nPrecision : {:.4f}\\nRecall : {:.4f}'.format(accuracy, precision, recall))"
      ]
    },
    {
      "cell_type": "code",
      "execution_count": null,
      "metadata": {
        "id": "7ClD1NXoVKay"
      },
      "outputs": [],
      "source": [
        "def get_eval_by_threshold(y_test, pred_proba_c1, thresholds): # threshold를 반복하면서 분류모델의 평가지표를 출력하는 함수\n",
        "    for custom_threshold in thresholds:\n",
        "        binarizer = Binarizer(threshold=custom_threshold).fit(pred_proba_c1)\n",
        "        custom_predict = binarizer.transform(pred_proba_c1)\n",
        "        print('\\nThreshold: ', custom_threshold)\n",
        "        get_clf_eval(y_test, custom_predict)"
      ]
    },
    {
      "cell_type": "code",
      "execution_count": null,
      "metadata": {
        "id": "v12eVtJaVL7w"
      },
      "outputs": [],
      "source": [
        "random_seed = 12\n",
        "thresholds = [0.06, 0.3, 0.5, 0.6]"
      ]
    },
    {
      "cell_type": "code",
      "execution_count": null,
      "metadata": {
        "id": "brMcyNPXVQQF"
      },
      "outputs": [],
      "source": [
        "auc_scorer = make_scorer(roc_auc_score, needs_threshold=True)"
      ]
    },
    {
      "cell_type": "code",
      "execution_count": null,
      "metadata": {
        "id": "j62AuFrIVQmh"
      },
      "outputs": [],
      "source": [
        "stratified_kfold = StratifiedKFold(n_splits=5,\n",
        "                                       shuffle=True,\n",
        "                                       random_state=random_seed)"
      ]
    },
    {
      "cell_type": "code",
      "execution_count": null,
      "metadata": {
        "id": "3uwM2KWQVRkC"
      },
      "outputs": [],
      "source": [
        "raw_data=pd.read_csv('/content/drive/My Drive/Colab Notebooks/core employee prediction.csv')"
      ]
    },
    {
      "cell_type": "code",
      "execution_count": null,
      "metadata": {
        "id": "hx5Ga-vTVfbR"
      },
      "outputs": [],
      "source": [
        "# Label Encoding / A, b\n",
        "X = raw_data.drop(['핵심인재여부'], axis=1)\n",
        "X = MultiColumnLabelEncoder(columns = ['조직', 'AL', 'AP', 'AR', 'AT']).fit_transform(X)\n",
        "y = raw_data['핵심인재여부']"
      ]
    },
    {
      "cell_type": "code",
      "execution_count": null,
      "metadata": {
        "id": "42GhXSNtVhDI"
      },
      "outputs": [],
      "source": [
        "pipeline_xgb = Pipeline(steps = [['smote', SMOTE(random_state=random_seed)],\n",
        "                                ['scaler', StandardScaler()],\n",
        "                                ['classifier', XGBClassifier(random_state=random_seed, use_label_encoder=False)]])"
      ]
    },
    {
      "cell_type": "code",
      "execution_count": null,
      "metadata": {
        "id": "dBJutrsmVjB8"
      },
      "outputs": [],
      "source": [
        "X_train, X_test, y_train, y_test = train_test_split(X, y, test_size=0.3, random_state=random_seed)"
      ]
    },
    {
      "cell_type": "code",
      "execution_count": null,
      "metadata": {
        "colab": {
          "base_uri": "https://localhost:8080/"
        },
        "id": "2mO1cc1XVjnC",
        "outputId": "829571e5-f451-4b5a-83cc-f8ba05be4547"
      },
      "outputs": [],
      "source": [
        "param = { 'smote__k_neighbors' : [1],\n",
        "           'classifier__n_estimators' : [200],\n",
        "           'classifier__max_depth' : [3],\n",
        "         'classifier__learning_rate' : [0.1],\n",
        "         'classifier__objective' : ['binary:logistic'],\n",
        "         'classifier__gamma' : [5], #트리에서 추가적으로 가지를 나눌지를 결정할 최소 손실 감소 값으로 클수록 과적합 감소 효과\n",
        "         'classifier__colsample_bytree' : [1]} # 각 트리마다 데이터 샘플링 비율 overfitting 방지\n",
        "\n",
        "grid_search = GridSearchCV(estimator=pipeline_xgb,\n",
        "                           param_grid=param,\n",
        "                           scoring=auc_scorer,\n",
        "                           cv=stratified_kfold,\n",
        "                           n_jobs=-1, return_train_score=True)\n",
        "grid_search.fit(X_train, y_train)\n",
        "pred = grid_search.predict_proba(X_test)[:,1]\n",
        "print(grid_search.best_params_)\n",
        "roc_auc_score(y_test, pred)"
      ]
    },
    {
      "cell_type": "code",
      "execution_count": null,
      "metadata": {
        "colab": {
          "base_uri": "https://localhost:8080/"
        },
        "id": "e9NWMPLAWA6o",
        "outputId": "718569de-884c-4c15-88d0-5a4f896246c6"
      },
      "outputs": [],
      "source": [
        "get_eval_by_threshold(y_test, pred.reshape(-1,1), [0.29])"
      ]
    },
    {
      "cell_type": "code",
      "execution_count": null,
      "metadata": {
        "colab": {
          "base_uri": "https://localhost:8080/"
        },
        "id": "L0NdqAVtWFuo",
        "outputId": "979867ba-20fc-4b94-a24d-a79f0e3af8d2"
      },
      "outputs": [],
      "source": [
        "grid_search.best_estimator_.named_steps[\"classifier\"].feature_importances_"
      ]
    },
    {
      "cell_type": "code",
      "execution_count": null,
      "metadata": {
        "id": "Xibu49g0eWMc"
      },
      "outputs": [],
      "source": [
        "# in_data = pd.read_csv('/content/drive/My Drive/Colab Notebooks/performance forecasting(inference data).csv')"
      ]
    },
    {
      "cell_type": "code",
      "execution_count": null,
      "metadata": {
        "id": "_fQQfPvleYLL"
      },
      "outputs": [],
      "source": [
        "# in_data = MultiColumnLabelEncoder(columns = ['조직', 'AL', 'AP', 'AR', 'AT']).transform(X)"
      ]
    },
    {
      "cell_type": "code",
      "execution_count": null,
      "metadata": {
        "colab": {
          "base_uri": "https://localhost:8080/",
          "height": 36
        },
        "id": "rCDcPeelWPb5",
        "outputId": "fc6591a6-a058-4130-ebf7-3b7a21ec8df5"
      },
      "outputs": [],
      "source": [
        "real_model = grid_search\n",
        "path = \"/content/drive/MyDrive/Colab Notebooks/\"\n",
        "fixed_col_name = []\n",
        "'''\n",
        "X = in_data\n",
        "scaled_X = scaler.transform(in_data)\n",
        "y = []\n",
        "'''"
      ]
    },
    {
      "cell_type": "code",
      "execution_count": null,
      "metadata": {
        "colab": {
          "base_uri": "https://localhost:8080/"
        },
        "id": "2gyfpTReX1LK",
        "outputId": "5d963801-b8f8-4460-a496-44314f29d600"
      },
      "outputs": [],
      "source": [
        "!pip install shap"
      ]
    },
    {
      "cell_type": "code",
      "execution_count": null,
      "metadata": {
        "colab": {
          "base_uri": "https://localhost:8080/",
          "height": 1000,
          "referenced_widgets": [
            "479013a8ecba4b77ab68db4cf548d747",
            "f56ae8c9c4304e23a01f2fd02a78fed7",
            "c3579b40aa1444c89388b4e1491f36f2",
            "4849977ab9974b3faf4fc49e8f1930d7",
            "b6493fe651414d8d8a6acc1df357abcc",
            "2e6315bbcccd4faa99e08b056104aadb",
            "b3f0ce0a65c44e5bb50bd253ecb0ae3d",
            "2e9f340f477948f3889e292e43aae55d",
            "9fa2a9587ea84a7da8b4416466fe9be7",
            "29e746e3eed247adaed204d44c7ae7f1",
            "3d404f57175d4905a53384af01071be5"
          ]
        },
        "id": "eEPFHBlbX6tG",
        "outputId": "53d08ce6-1fa4-4230-f5a3-4079c2286457"
      },
      "outputs": [],
      "source": [
        "import shap\n",
        "shap.initjs()\n",
        "explainer = shap.KernelExplainer(grid_search.predict, X_train)\n",
        "shap_values = explainer.shap_values(X)"
      ]
    },
    {
      "cell_type": "code",
      "execution_count": null,
      "metadata": {
        "id": "xjgg17t_Zhj1"
      },
      "outputs": [],
      "source": [
        "X.columns = fixed_col_name\n",
        "predicted = real_model.predict(scaled_X)\n",
        "X.index = pd.RangeIndex(len(scaled_X))"
      ]
    },
    {
      "cell_type": "code",
      "execution_count": null,
      "metadata": {
        "id": "JY1Y9x8lZiE8"
      },
      "outputs": [],
      "source": [
        "pred = pd.Series(predicted)\n",
        "pred.name = \"결과\""
      ]
    },
    {
      "cell_type": "code",
      "execution_count": null,
      "metadata": {
        "id": "6o3gWnpSOpAY"
      },
      "outputs": [],
      "source": [
        "inference_data = pd.concat([X, pred], axis=1)\n",
        "inference_data.to_csv(path + \"inference_data.csv\", index=False)"
      ]
    },
    {
      "cell_type": "code",
      "execution_count": null,
      "metadata": {
        "id": "43LVY0HzOqfM"
      },
      "outputs": [],
      "source": [
        "# 변경사항3\n",
        "# shape_values의 type이 shap._explanation.Explanation -> numpy.ndarray로 변경되어 type에 맞추어 value값 추출\n",
        "importances = np.absolute(shap_values).sum(axis=0) / shap_values.shape[0]\n",
        "feature_importance = pd.Series(importances / sum(importances))\n",
        "feature_importance.index = fixed_col_name\n",
        "feature_importance.to_csv(path + \"feature_importance.csv\", index=True)"
      ]
    },
    {
      "cell_type": "code",
      "execution_count": null,
      "metadata": {
        "id": "SO7zrKukOr_H"
      },
      "outputs": [],
      "source": [
        "means = shap_values.sum(axis=0) / shap_values.shape[0]\n",
        "means = pd.Series(means, index = fixed_col_name)\n",
        "means = means / means.abs().sum()\n",
        "means.columns = [\"feature\", \"mean\"]\n",
        "means.to_csv(path + \"mean_weight.csv\", index=True)"
      ]
    },
    {
      "cell_type": "code",
      "execution_count": null,
      "metadata": {
        "id": "4W51pQff8jUM"
      },
      "outputs": [],
      "source": [
        "pos_max = shap_values.max(axis=0)\n",
        "neg_max = shap_values.min(axis=0)\n",
        "new_list = []\n",
        "for row in shap_values:\n",
        "  temp = []\n",
        "  for ele, pos, neg in zip(row, pos_max, neg_max):\n",
        "    if ele >= 0:\n",
        "      if max == 0:\n",
        "        temp.append(0)\n",
        "      else:\n",
        "        temp.append(ele/pos)\n",
        "    else:\n",
        "      if neg == 0:\n",
        "        temp.append(0)\n",
        "      else:\n",
        "        temp.append(-ele/neg)\n",
        "  new_list.append(temp)\n",
        "\n",
        "feature_weight = pd.DataFrame(new_list, index = pd.RangeIndex(len(shap_values)), columns = fixed_col_name)\n",
        "feature_weight = feature_weight.fillna(0)\n",
        "      \n",
        "# feature_weight = pd.DataFrame(np.array(\n",
        "#     [x / np.absolute(x).sum() for x in shap_values.values]\n",
        "# ), index = pd.RangeIndex(len(shap_values.values)), columns = fixed_col_name)\n",
        "feature_weight.to_csv(path + \"feature_weight.csv\", index=False)\n",
        "feature_weight"
      ]
    }
  ],
  "metadata": {
    "colab": {
      "provenance": []
    },
    "kernelspec": {
      "display_name": "Python 3",
      "name": "python3"
    },
    "language_info": {
      "name": "python"
    },
    "widgets": {
      "application/vnd.jupyter.widget-state+json": {
        "29e746e3eed247adaed204d44c7ae7f1": {
          "model_module": "@jupyter-widgets/controls",
          "model_module_version": "1.5.0",
          "model_name": "DescriptionStyleModel",
          "state": {
            "_model_module": "@jupyter-widgets/controls",
            "_model_module_version": "1.5.0",
            "_model_name": "DescriptionStyleModel",
            "_view_count": null,
            "_view_module": "@jupyter-widgets/base",
            "_view_module_version": "1.2.0",
            "_view_name": "StyleView",
            "description_width": ""
          }
        },
        "2e6315bbcccd4faa99e08b056104aadb": {
          "model_module": "@jupyter-widgets/controls",
          "model_module_version": "1.5.0",
          "model_name": "DescriptionStyleModel",
          "state": {
            "_model_module": "@jupyter-widgets/controls",
            "_model_module_version": "1.5.0",
            "_model_name": "DescriptionStyleModel",
            "_view_count": null,
            "_view_module": "@jupyter-widgets/base",
            "_view_module_version": "1.2.0",
            "_view_name": "StyleView",
            "description_width": ""
          }
        },
        "2e9f340f477948f3889e292e43aae55d": {
          "model_module": "@jupyter-widgets/controls",
          "model_module_version": "1.5.0",
          "model_name": "ProgressStyleModel",
          "state": {
            "_model_module": "@jupyter-widgets/controls",
            "_model_module_version": "1.5.0",
            "_model_name": "ProgressStyleModel",
            "_view_count": null,
            "_view_module": "@jupyter-widgets/base",
            "_view_module_version": "1.2.0",
            "_view_name": "StyleView",
            "bar_color": null,
            "description_width": ""
          }
        },
        "3d404f57175d4905a53384af01071be5": {
          "model_module": "@jupyter-widgets/base",
          "model_module_version": "1.2.0",
          "model_name": "LayoutModel",
          "state": {
            "_model_module": "@jupyter-widgets/base",
            "_model_module_version": "1.2.0",
            "_model_name": "LayoutModel",
            "_view_count": null,
            "_view_module": "@jupyter-widgets/base",
            "_view_module_version": "1.2.0",
            "_view_name": "LayoutView",
            "align_content": null,
            "align_items": null,
            "align_self": null,
            "border": null,
            "bottom": null,
            "display": null,
            "flex": null,
            "flex_flow": null,
            "grid_area": null,
            "grid_auto_columns": null,
            "grid_auto_flow": null,
            "grid_auto_rows": null,
            "grid_column": null,
            "grid_gap": null,
            "grid_row": null,
            "grid_template_areas": null,
            "grid_template_columns": null,
            "grid_template_rows": null,
            "height": null,
            "justify_content": null,
            "justify_items": null,
            "left": null,
            "margin": null,
            "max_height": null,
            "max_width": null,
            "min_height": null,
            "min_width": null,
            "object_fit": null,
            "object_position": null,
            "order": null,
            "overflow": null,
            "overflow_x": null,
            "overflow_y": null,
            "padding": null,
            "right": null,
            "top": null,
            "visibility": null,
            "width": null
          }
        },
        "479013a8ecba4b77ab68db4cf548d747": {
          "model_module": "@jupyter-widgets/controls",
          "model_module_version": "1.5.0",
          "model_name": "HBoxModel",
          "state": {
            "_dom_classes": [],
            "_model_module": "@jupyter-widgets/controls",
            "_model_module_version": "1.5.0",
            "_model_name": "HBoxModel",
            "_view_count": null,
            "_view_module": "@jupyter-widgets/controls",
            "_view_module_version": "1.5.0",
            "_view_name": "HBoxView",
            "box_style": "",
            "children": [
              "IPY_MODEL_c3579b40aa1444c89388b4e1491f36f2",
              "IPY_MODEL_4849977ab9974b3faf4fc49e8f1930d7",
              "IPY_MODEL_b6493fe651414d8d8a6acc1df357abcc"
            ],
            "layout": "IPY_MODEL_f56ae8c9c4304e23a01f2fd02a78fed7"
          }
        },
        "4849977ab9974b3faf4fc49e8f1930d7": {
          "model_module": "@jupyter-widgets/controls",
          "model_module_version": "1.5.0",
          "model_name": "FloatProgressModel",
          "state": {
            "_dom_classes": [],
            "_model_module": "@jupyter-widgets/controls",
            "_model_module_version": "1.5.0",
            "_model_name": "FloatProgressModel",
            "_view_count": null,
            "_view_module": "@jupyter-widgets/controls",
            "_view_module_version": "1.5.0",
            "_view_name": "ProgressView",
            "bar_style": "danger",
            "description": "",
            "description_tooltip": null,
            "layout": "IPY_MODEL_9fa2a9587ea84a7da8b4416466fe9be7",
            "max": 3523,
            "min": 0,
            "orientation": "horizontal",
            "style": "IPY_MODEL_2e9f340f477948f3889e292e43aae55d",
            "value": 61
          }
        },
        "9fa2a9587ea84a7da8b4416466fe9be7": {
          "model_module": "@jupyter-widgets/base",
          "model_module_version": "1.2.0",
          "model_name": "LayoutModel",
          "state": {
            "_model_module": "@jupyter-widgets/base",
            "_model_module_version": "1.2.0",
            "_model_name": "LayoutModel",
            "_view_count": null,
            "_view_module": "@jupyter-widgets/base",
            "_view_module_version": "1.2.0",
            "_view_name": "LayoutView",
            "align_content": null,
            "align_items": null,
            "align_self": null,
            "border": null,
            "bottom": null,
            "display": null,
            "flex": null,
            "flex_flow": null,
            "grid_area": null,
            "grid_auto_columns": null,
            "grid_auto_flow": null,
            "grid_auto_rows": null,
            "grid_column": null,
            "grid_gap": null,
            "grid_row": null,
            "grid_template_areas": null,
            "grid_template_columns": null,
            "grid_template_rows": null,
            "height": null,
            "justify_content": null,
            "justify_items": null,
            "left": null,
            "margin": null,
            "max_height": null,
            "max_width": null,
            "min_height": null,
            "min_width": null,
            "object_fit": null,
            "object_position": null,
            "order": null,
            "overflow": null,
            "overflow_x": null,
            "overflow_y": null,
            "padding": null,
            "right": null,
            "top": null,
            "visibility": null,
            "width": null
          }
        },
        "b3f0ce0a65c44e5bb50bd253ecb0ae3d": {
          "model_module": "@jupyter-widgets/base",
          "model_module_version": "1.2.0",
          "model_name": "LayoutModel",
          "state": {
            "_model_module": "@jupyter-widgets/base",
            "_model_module_version": "1.2.0",
            "_model_name": "LayoutModel",
            "_view_count": null,
            "_view_module": "@jupyter-widgets/base",
            "_view_module_version": "1.2.0",
            "_view_name": "LayoutView",
            "align_content": null,
            "align_items": null,
            "align_self": null,
            "border": null,
            "bottom": null,
            "display": null,
            "flex": null,
            "flex_flow": null,
            "grid_area": null,
            "grid_auto_columns": null,
            "grid_auto_flow": null,
            "grid_auto_rows": null,
            "grid_column": null,
            "grid_gap": null,
            "grid_row": null,
            "grid_template_areas": null,
            "grid_template_columns": null,
            "grid_template_rows": null,
            "height": null,
            "justify_content": null,
            "justify_items": null,
            "left": null,
            "margin": null,
            "max_height": null,
            "max_width": null,
            "min_height": null,
            "min_width": null,
            "object_fit": null,
            "object_position": null,
            "order": null,
            "overflow": null,
            "overflow_x": null,
            "overflow_y": null,
            "padding": null,
            "right": null,
            "top": null,
            "visibility": null,
            "width": null
          }
        },
        "b6493fe651414d8d8a6acc1df357abcc": {
          "model_module": "@jupyter-widgets/controls",
          "model_module_version": "1.5.0",
          "model_name": "HTMLModel",
          "state": {
            "_dom_classes": [],
            "_model_module": "@jupyter-widgets/controls",
            "_model_module_version": "1.5.0",
            "_model_name": "HTMLModel",
            "_view_count": null,
            "_view_module": "@jupyter-widgets/controls",
            "_view_module_version": "1.5.0",
            "_view_name": "HTMLView",
            "description": "",
            "description_tooltip": null,
            "layout": "IPY_MODEL_3d404f57175d4905a53384af01071be5",
            "placeholder": "​",
            "style": "IPY_MODEL_29e746e3eed247adaed204d44c7ae7f1",
            "value": " 61/3523 [41:37&lt;39:28:13, 41.04s/it]"
          }
        },
        "c3579b40aa1444c89388b4e1491f36f2": {
          "model_module": "@jupyter-widgets/controls",
          "model_module_version": "1.5.0",
          "model_name": "HTMLModel",
          "state": {
            "_dom_classes": [],
            "_model_module": "@jupyter-widgets/controls",
            "_model_module_version": "1.5.0",
            "_model_name": "HTMLModel",
            "_view_count": null,
            "_view_module": "@jupyter-widgets/controls",
            "_view_module_version": "1.5.0",
            "_view_name": "HTMLView",
            "description": "",
            "description_tooltip": null,
            "layout": "IPY_MODEL_b3f0ce0a65c44e5bb50bd253ecb0ae3d",
            "placeholder": "​",
            "style": "IPY_MODEL_2e6315bbcccd4faa99e08b056104aadb",
            "value": "  2%"
          }
        },
        "f56ae8c9c4304e23a01f2fd02a78fed7": {
          "model_module": "@jupyter-widgets/base",
          "model_module_version": "1.2.0",
          "model_name": "LayoutModel",
          "state": {
            "_model_module": "@jupyter-widgets/base",
            "_model_module_version": "1.2.0",
            "_model_name": "LayoutModel",
            "_view_count": null,
            "_view_module": "@jupyter-widgets/base",
            "_view_module_version": "1.2.0",
            "_view_name": "LayoutView",
            "align_content": null,
            "align_items": null,
            "align_self": null,
            "border": null,
            "bottom": null,
            "display": null,
            "flex": null,
            "flex_flow": null,
            "grid_area": null,
            "grid_auto_columns": null,
            "grid_auto_flow": null,
            "grid_auto_rows": null,
            "grid_column": null,
            "grid_gap": null,
            "grid_row": null,
            "grid_template_areas": null,
            "grid_template_columns": null,
            "grid_template_rows": null,
            "height": null,
            "justify_content": null,
            "justify_items": null,
            "left": null,
            "margin": null,
            "max_height": null,
            "max_width": null,
            "min_height": null,
            "min_width": null,
            "object_fit": null,
            "object_position": null,
            "order": null,
            "overflow": null,
            "overflow_x": null,
            "overflow_y": null,
            "padding": null,
            "right": null,
            "top": null,
            "visibility": null,
            "width": null
          }
        }
      }
    }
  },
  "nbformat": 4,
  "nbformat_minor": 0
}
