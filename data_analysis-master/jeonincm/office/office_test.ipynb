{
  "cells": [
    {
      "cell_type": "code",
      "execution_count": null,
      "metadata": {
        "colab": {
          "base_uri": "https://localhost:8080/"
        },
        "id": "RUz-ZH00eE2v",
        "outputId": "f3fbe0f7-bf0b-4eb7-8e91-52dd76907549"
      },
      "outputs": [],
      "source": [
        "from google.colab import drive\n",
        "drive.mount('/content/drive')"
      ]
    },
    {
      "cell_type": "code",
      "execution_count": null,
      "metadata": {
        "colab": {
          "base_uri": "https://localhost:8080/"
        },
        "id": "s0SPyWBzerIg",
        "outputId": "425138c3-efe9-49f7-8b99-849c4f70f105"
      },
      "outputs": [],
      "source": [
        "!pip install shap"
      ]
    },
    {
      "cell_type": "code",
      "execution_count": null,
      "metadata": {
        "colab": {
          "base_uri": "https://localhost:8080/"
        },
        "id": "CiETsGq4esuK",
        "outputId": "0b58294d-4891-4f69-b26d-0b43b448b633"
      },
      "outputs": [],
      "source": [
        "!sudo apt-get install -y fonts-nanum\n",
        "!sudo fc-cache -fv\n",
        "!rm ~/.cache/matplotlib -rf"
      ]
    },
    {
      "cell_type": "code",
      "execution_count": null,
      "metadata": {
        "id": "FNltzNpeet8H"
      },
      "outputs": [],
      "source": [
        "import pandas as pd\n",
        "import numpy as np\n",
        "from sklearn.model_selection import train_test_split, GridSearchCV, KFold\n",
        "from sklearn.preprocessing import StandardScaler, MinMaxScaler\n",
        "from sklearn.linear_model import LinearRegression, Ridge, Lasso\n",
        "from sklearn.ensemble import RandomForestRegressor, GradientBoostingRegressor\n",
        "from sklearn.neural_network import MLPRegressor\n",
        "from xgboost import XGBRegressor\n",
        "from sklearn.metrics import mean_absolute_error, mean_squared_error, mean_absolute_percentage_error, r2_score\n",
        "from imblearn.pipeline import Pipeline\n",
        "import seaborn as sns\n",
        "import matplotlib.pyplot as plt\n",
        "import shap\n",
        "from datetime import datetime\n",
        "import json\n",
        "import joblib"
      ]
    },
    {
      "cell_type": "code",
      "execution_count": null,
      "metadata": {
        "id": "uJy-mHJmezB8"
      },
      "outputs": [],
      "source": [
        "plt.rc('font', family='NanumBarunGothic')"
      ]
    },
    {
      "cell_type": "code",
      "execution_count": null,
      "metadata": {
        "id": "yr62Uu7ce2Zi"
      },
      "outputs": [],
      "source": [
        "pd.options.display.float_format = '{:.6f}'.format"
      ]
    },
    {
      "cell_type": "code",
      "execution_count": null,
      "metadata": {
        "id": "kBFkiULE7yRM"
      },
      "outputs": [],
      "source": [
        "sheetname = '오피스텔'"
      ]
    },
    {
      "cell_type": "code",
      "execution_count": null,
      "metadata": {
        "id": "7gnJt-2Ora5Z"
      },
      "outputs": [],
      "source": [
        "pre_data = pd.read_excel('/content/drive/MyDrive/Colab Notebooks/전인CM/input/전인CM_Inference.xlsx', sheet_name=sheetname, engine='openpyxl')"
      ]
    },
    {
      "cell_type": "code",
      "execution_count": null,
      "metadata": {
        "colab": {
          "base_uri": "https://localhost:8080/"
        },
        "id": "ZGscZ-oar4rd",
        "outputId": "283fb389-fadb-4224-9cc7-0f4b77cd89dc"
      },
      "outputs": [],
      "source": [
        "pre_data.info()"
      ]
    },
    {
      "cell_type": "code",
      "execution_count": null,
      "metadata": {
        "id": "0LGHvfUPzEJt"
      },
      "outputs": [],
      "source": [
        "label = pre_data.copy()"
      ]
    },
    {
      "cell_type": "code",
      "execution_count": null,
      "metadata": {
        "id": "47PF4gTb7JEp"
      },
      "outputs": [],
      "source": [
        "end_model = joblib.load('/content/drive/My Drive/Colab Notebooks/전인CM/output/오피스텔_model.pkl')\n",
        "scaler = joblib.load('/content/drive/My Drive/Colab Notebooks/전인CM/output/오피스텔_scaler.pkl')\n",
        "con_data = joblib.load('/content/drive/My Drive/Colab Notebooks/전인CM/output/오피스텔_data.pkl')\n",
        "en_data = joblib.load('/content/drive/My Drive/Colab Notebooks/전인CM/output/오피스텔_en_data.pkl')\n",
        "explainer = joblib.load('/content/drive/My Drive/Colab Notebooks/전인CM/output/오피스텔_explainer.pkl')"
      ]
    },
    {
      "cell_type": "code",
      "execution_count": null,
      "metadata": {
        "id": "PFTF_ezj3so6"
      },
      "outputs": [],
      "source": [
        "# label encoding\n",
        "pre_data['건물외형'] = pre_data['건물외형'].replace('정형', 0)\n",
        "pre_data['건물외형'] = pre_data['건물외형'].replace('비정형', 1)\n",
        "pre_data['철거공사 포함 여부'] = pre_data['철거공사 포함 여부'].replace('미포함', 0)\n",
        "pre_data['철거공사 포함 여부'] = pre_data['철거공사 포함 여부'].replace('포함', 1)\n",
        "\n",
        "sector = []\n",
        "for i in range(len(pre_data)) :\n",
        "  if pre_data['지역'][i] == '서울' : \n",
        "    sector.append(1)\n",
        "  elif pre_data['지역'][i] == '인천' : \n",
        "    sector.append(2)\n",
        "  elif pre_data['지역'][i] == '경기' : \n",
        "    sector.append(3)\n",
        "  elif pre_data['지역'][i] == '충청' : \n",
        "    sector.append(4)\n",
        "  elif pre_data['지역'][i] == '강원' : \n",
        "    sector.append(5)\n",
        "  elif pre_data['지역'][i] == '영남' : \n",
        "    sector.append(6)\n",
        "  elif pre_data['지역'][i] == '호남' : \n",
        "    sector.append(7)\n",
        "\n",
        "pre_data['지역'] =  sector"
      ]
    },
    {
      "cell_type": "code",
      "execution_count": null,
      "metadata": {
        "id": "EsTn-VUvvVXO"
      },
      "outputs": [],
      "source": [
        "sec = pre_data.copy()\n",
        "\n",
        "one_hot = ['토목공법_순타 + 역타', '토목공법_역타', '공법_SRC / RC']\n",
        "for col in one_hot  :\n",
        "  sec[col] = 0\n",
        "if sec['토목공법'][0] == '순타 + 역타' : \n",
        "  sec['토목공법_순타 + 역타'] = 1\n",
        "if sec['토목공법'][0] == '역타' : \n",
        "  sec['토목공법_역타'] = 1\n",
        "\n",
        "if '공법_'+sec['공법'][0] in one_hot : \n",
        "  sec['공법_'+sec['공법'][0]] = 1\n",
        "\n",
        "sec = sec[['착공년도', '프로젝트명', '연면적(평)', '지하층', '지상층', '층', '시공사 등급', '공사기간(개월)', '공사비지수', '건물외형', '철거공사 포함 여부', '지역',\n",
        "       '토목공법_순타 + 역타', '토목공법_역타', '공법_SRC / RC']]"
      ]
    },
    {
      "cell_type": "code",
      "execution_count": null,
      "metadata": {
        "colab": {
          "base_uri": "https://localhost:8080/"
        },
        "id": "7VK0vqCdMQJp",
        "outputId": "cfa2a906-1160-4dc2-9c95-f171e44940a8"
      },
      "outputs": [],
      "source": [
        "main = pd.concat([con_data, sec], axis=0).reset_index(drop=True)\n",
        "\n",
        "temp = sec.drop(['프로젝트명'], axis=1)\n",
        "scaled_temp = scaler.transform(temp)\n",
        "sec_data = pd.DataFrame(data = scaled_temp, index=temp.index, columns=temp.columns)\n",
        "conc = pd.concat([en_data, sec_data], axis=0).reset_index(drop=True)"
      ]
    },
    {
      "cell_type": "code",
      "execution_count": null,
      "metadata": {
        "id": "7ce_MgNPPDhp"
      },
      "outputs": [],
      "source": [
        "pre_list = sec['프로젝트명']\n",
        "pred_sec = pd.DataFrame(columns=pre_list)"
      ]
    },
    {
      "cell_type": "code",
      "execution_count": null,
      "metadata": {
        "id": "ETZGAx2Di-Jp"
      },
      "outputs": [],
      "source": [
        "# 유사도 측정 로직 수정\n",
        "for name in pre_list : \n",
        "  data_list = []\n",
        "  main_index = main[main['프로젝트명']==name].index\n",
        "  main_values = conc.values[main_index]\n",
        "  main_year = conc['착공년도'][main_index].values[0]\n",
        "\n",
        "  for num in range(len(conc)) : \n",
        "    compare_values = conc.values[num]\n",
        "    uclid_dist = np.sqrt(np.sum(np.square(main_values-compare_values)))\n",
        "    if (main_year==conc['착공년도'].min()) : \n",
        "      data_list.append(uclid_dist)\n",
        "    else : \n",
        "      if (main_year < conc['착공년도'][num]) :\n",
        "        data_list.append(0)\n",
        "      else : \n",
        "        data_list.append(uclid_dist)\n",
        "  pred_sec[name] = data_list"
      ]
    },
    {
      "cell_type": "code",
      "execution_count": null,
      "metadata": {
        "id": "W1AqgNe4QGqM"
      },
      "outputs": [],
      "source": [
        "train_sim = pred_sec[:len(con_data)]\n",
        "\n",
        "pred_sim = []\n",
        "for name in pre_data['프로젝트명'] : \n",
        "  unique_data = train_sim[name].unique()\n",
        "  zero = [0]\n",
        "  sim_data = np.setdiff1d(unique_data, zero).min()\n",
        "  pred_sim.append(sim_data)"
      ]
    },
    {
      "cell_type": "code",
      "execution_count": null,
      "metadata": {
        "id": "2Blp4TOzN9sS"
      },
      "outputs": [],
      "source": [
        "similar_cons = ['토목', '건축', '설비', '전기', '통신', '소방', '조경', '추가공종', '간접비 및 이윤']"
      ]
    },
    {
      "cell_type": "code",
      "execution_count": null,
      "metadata": {
        "id": "ZFgrFz8i-5_-"
      },
      "outputs": [],
      "source": [
        "similar_fe = ['착공년도', '프로젝트명', '연면적(평)', '지하층', '지상층', '층', '공법', '시공사 등급', '공사기간(개월)', '토목공법', '공사비', '공사비지수', '지역', '건물외형', '철거공사 포함 여부']"
      ]
    },
    {
      "cell_type": "code",
      "execution_count": null,
      "metadata": {
        "id": "rbCnfswCUcel"
      },
      "outputs": [],
      "source": [
        "pred_result_1 = [] \n",
        "i = 0\n",
        "for name in pre_list : \n",
        "  pred_result_1.append(con_data.loc[pred_sec[name]==pred_sim[i]]['2015 기준공사비'].values[0])\n",
        "  i += 1"
      ]
    },
    {
      "cell_type": "code",
      "execution_count": null,
      "metadata": {
        "id": "L0ljLy6YY5R6"
      },
      "outputs": [],
      "source": [
        "# 가장 유사도가 깊은 공사의 공종 데이터 가져오기 \n",
        "pred_result_2 = []\n",
        "i = 0\n",
        "for name in pre_data['프로젝트명'] : \n",
        "  sim_values = []\n",
        "  for project in similar_cons : \n",
        "    sim_values.append(con_data.loc[pred_sec[name]== pred_sim[i]][project].values[0])\n",
        "  pred_result_2.append(sim_values)\n",
        "  i += 1"
      ]
    },
    {
      "cell_type": "code",
      "execution_count": null,
      "metadata": {
        "id": "ZzeR_dP5nkka"
      },
      "outputs": [],
      "source": [
        "pred_result_3 = []\n",
        "i = 0\n",
        "for name in pre_data['프로젝트명'] : \n",
        "  sim_values = []\n",
        "  for project in similar_fe : \n",
        "    sim_values.append(con_data.loc[pred_sec[name]== pred_sim[i]][project].values[0])\n",
        "  pred_result_3.append(sim_values)\n",
        "  i += 1"
      ]
    },
    {
      "cell_type": "code",
      "execution_count": null,
      "metadata": {
        "id": "OTZPeoPRZmqe"
      },
      "outputs": [],
      "source": [
        "pre_data['유사도 기준공사비'] = pred_result_1\n",
        "pre_data[['토목', '건축', '설비', '전기', '통신', '소방', '조경', '추가공종', '간접비 및 이윤']] = pred_result_2"
      ]
    },
    {
      "cell_type": "code",
      "execution_count": null,
      "metadata": {
        "id": "dALlDooLTL03"
      },
      "outputs": [],
      "source": [
        "similar_data = pd.DataFrame(pred_result_3, columns = similar_fe)\n",
        "similar_data['지역'] = label['지역']\n",
        "similar_data['건물외형'] = label['건물외형']\n",
        "similar_data['철거공사 포함 여부'] = label['철거공사 포함 여부']\n",
        "similar_data['유사도'] = (1-pred_sim[0]/10)*100"
      ]
    },
    {
      "cell_type": "code",
      "execution_count": null,
      "metadata": {
        "id": "vk_7FtT_FZY1"
      },
      "outputs": [],
      "source": [
        "similar_data.to_csv('/content/drive/My Drive/Colab Notebooks/전인CM/output/similarity_오피스텔.csv', encoding='utf-8-sig', index=False)"
      ]
    },
    {
      "cell_type": "markdown",
      "metadata": {
        "id": "aY_ajXYWlzMT"
      },
      "source": [
        "inference 모델링"
      ]
    },
    {
      "cell_type": "code",
      "execution_count": null,
      "metadata": {
        "id": "HQ6HXHllWoHH"
      },
      "outputs": [],
      "source": [
        "fe_data = pre_data.copy()\n",
        "\n",
        "one_hot = ['토목공법_순타 + 역타', '토목공법_역타', '공법_SRC / RC']\n",
        "for col in one_hot  :\n",
        "  fe_data[col] = 0\n",
        "if fe_data['토목공법'][0] == '순타 + 역타' : \n",
        "  fe_data['토목공법_순타 + 역타'] = 1\n",
        "if fe_data['토목공법'][0] == '역타' : \n",
        "  fe_data['토목공법_역타'] = 1\n",
        "\n",
        "if '공법_'+fe_data['공법'][0] in one_hot : \n",
        "  fe_data['공법_'+fe_data['공법'][0]] = 1\n",
        "\n",
        "fe_data = fe_data[['착공년도', '연면적(평)', '지하층', '지상층', '층', '시공사 등급', '공사기간(개월)', '공사비지수',\n",
        "        '토목', '건축', '설비', '전기', '통신', '소방', '조경', '추가공종',\n",
        "       '간접비 및 이윤', '건물외형', '철거공사 포함 여부', '지역', '유사도 기준공사비', '토목공법_순타 + 역타', '토목공법_역타', '공법_SRC / RC']]"
      ]
    },
    {
      "cell_type": "code",
      "execution_count": null,
      "metadata": {
        "id": "0yC4LXRgcvkd"
      },
      "outputs": [],
      "source": [
        "# pred_data = end_model.predict(fe_data)\n",
        "pred_data = end_model.predict(fe_data)\n",
        "pre_data['예측 총공사비'] = pred_data[0]*pre_data['공사비지수'][0]/100\n",
        "pre_data['예측 평당가'] = pred_data[0]*pre_data['공사비지수'][0]/100/pre_data['연면적(평)'][0]"
      ]
    },
    {
      "cell_type": "code",
      "execution_count": null,
      "metadata": {
        "id": "Vm1uzNYnl3zN"
      },
      "outputs": [],
      "source": [
        "pre_data['지역'] = label['지역']\n",
        "pre_data['건물외형'] = label['건물외형']\n",
        "pre_data['철거공사 포함 여부'] = label['철거공사 포함 여부']"
      ]
    },
    {
      "cell_type": "code",
      "execution_count": null,
      "metadata": {
        "id": "Pli_r6artqN-"
      },
      "outputs": [],
      "source": [
        "pre_data.to_csv('/content/drive/My Drive/Colab Notebooks/전인CM/output/output_오피스텔.csv', encoding='utf-8-sig', index=False)"
      ]
    },
    {
      "cell_type": "code",
      "execution_count": null,
      "metadata": {
        "id": "uYWED5KKyHZy"
      },
      "outputs": [],
      "source": [
        "shap_values_inf = explainer.shap_values(fe_data)\n",
        "dd = shap_values_inf[0] / np.absolute(shap_values_inf).sum()"
      ]
    },
    {
      "cell_type": "code",
      "execution_count": null,
      "metadata": {
        "id": "HNCaXscQrWWo"
      },
      "outputs": [],
      "source": [
        "feature_weight = pd.DataFrame(columns = fe_data.columns)\n",
        "feature_weight.loc[0] = dd.tolist()"
      ]
    },
    {
      "cell_type": "code",
      "execution_count": null,
      "metadata": {
        "id": "MyW1vPibVr1p"
      },
      "outputs": [],
      "source": [
        "categorical_feature = ['토목공법', '공법']\n",
        "cate_main = []\n",
        "\n",
        "for i in range(len(feature_weight)) :\n",
        "  temp_1 = []\n",
        "  for name in categorical_feature : \n",
        "    temp_2 = []\n",
        "    for j in range (len(feature_weight.columns.tolist())) : \n",
        "      if name in feature_weight.columns.tolist()[j] : \n",
        "        real_name = feature_weight.columns.tolist()[j]\n",
        "        temp_2.append(feature_weight[real_name][i])\n",
        "    data_sum = np.sum(temp_2)\n",
        "    temp_1.append(data_sum)\n",
        "  cate_main.append(temp_1)"
      ]
    },
    {
      "cell_type": "code",
      "execution_count": null,
      "metadata": {
        "id": "m4GPVP7dV8DD"
      },
      "outputs": [],
      "source": [
        "ttt_f = pd.DataFrame(cate_main, columns=categorical_feature)\n",
        "\n",
        "feature_weight.drop(one_hot, axis=1, inplace=True)\n",
        "feature_weight = pd.concat([feature_weight, ttt_f], axis=1)"
      ]
    },
    {
      "cell_type": "code",
      "execution_count": null,
      "metadata": {
        "id": "US_Lh6YKbwmS"
      },
      "outputs": [],
      "source": [
        "feature_weight.insert(0, '프로젝트명', pre_data['프로젝트명'].tolist())"
      ]
    },
    {
      "cell_type": "code",
      "execution_count": null,
      "metadata": {
        "id": "kvKj_xr108sp"
      },
      "outputs": [],
      "source": [
        "feature_weight.to_csv('/content/drive/My Drive/Colab Notebooks/전인CM/output/feature_weight_오피스텔.csv', encoding='utf-8-sig', index=False)"
      ]
    }
  ],
  "metadata": {
    "colab": {
      "collapsed_sections": [],
      "provenance": []
    },
    "kernelspec": {
      "display_name": "Python 3",
      "name": "python3"
    },
    "language_info": {
      "name": "python"
    }
  },
  "nbformat": 4,
  "nbformat_minor": 0
}
