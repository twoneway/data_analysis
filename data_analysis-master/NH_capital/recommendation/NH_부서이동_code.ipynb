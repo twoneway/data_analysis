{
  "cells": [
    {
      "cell_type": "code",
      "execution_count": null,
      "metadata": {
        "colab": {
          "base_uri": "https://localhost:8080/"
        },
        "id": "7NaAfMM5c-l9",
        "outputId": "0ee49b9b-636e-4dd5-efcf-713d6e2d3981"
      },
      "outputs": [],
      "source": [
        "from google.colab import drive\n",
        "drive.mount('/content/drive')"
      ]
    },
    {
      "cell_type": "code",
      "execution_count": null,
      "metadata": {
        "colab": {
          "base_uri": "https://localhost:8080/"
        },
        "id": "4aauwghbzPl_",
        "outputId": "106cbf36-293f-4b44-eeb7-86ae4a07e781"
      },
      "outputs": [],
      "source": [
        "\n",
        "!pip install shap"
      ]
    },
    {
      "cell_type": "code",
      "execution_count": null,
      "metadata": {
        "colab": {
          "base_uri": "https://localhost:8080/"
        },
        "id": "Iim_lOOPzRwL",
        "outputId": "26b70503-be50-4d3c-cca5-f9b9d3f6edd4"
      },
      "outputs": [],
      "source": [
        "!sudo apt-get install -y fonts-nanum\n",
        "!sudo fc-cache -fv\n",
        "!rm ~/.cache/matplotlib -rf"
      ]
    },
    {
      "cell_type": "code",
      "execution_count": null,
      "metadata": {
        "id": "4XDqJxrmdFpz"
      },
      "outputs": [],
      "source": [
        "import pandas as pd \n",
        "import numpy as np\n",
        "import re\n",
        "import matplotlib.pyplot as plt\n",
        "import seaborn as sns\n",
        "from plotly.offline import init_notebook_mode, plot, iplot\n",
        "import plotly.graph_objs as go\n",
        "from pandas.api.types import is_numeric_dtype\n",
        "from pandas.api.types import is_string_dtype\n",
        "from sklearn.model_selection import train_test_split, GridSearchCV, KFold, StratifiedKFold\n",
        "from sklearn.preprocessing import MinMaxScaler, Normalizer, LabelEncoder\n",
        "from sklearn.linear_model import LogisticRegression\n",
        "from sklearn.neighbors import KNeighborsClassifier\n",
        "from sklearn.svm import SVC\n",
        "from sklearn.tree import DecisionTreeClassifier\n",
        "from sklearn.ensemble import RandomForestClassifier, GradientBoostingClassifier, ExtraTreesClassifier, AdaBoostClassifier\n",
        "from sklearn.neural_network import MLPClassifier\n",
        "from lightgbm import LGBMClassifier\n",
        "from xgboost import XGBClassifier\n",
        "from datetime import datetime\n",
        "from sklearn.metrics import accuracy_score, precision_score, recall_score, confusion_matrix, roc_auc_score, roc_curve, make_scorer, f1_score\n",
        "from imblearn.pipeline import Pipeline\n",
        "from sklearn.metrics.pairwise import cosine_similarity\n",
        "import shap\n",
        "import json"
      ]
    },
    {
      "cell_type": "code",
      "execution_count": null,
      "metadata": {
        "id": "iBTq74nLzVwM"
      },
      "outputs": [],
      "source": [
        "plt.rc('font', family='NanumBarunGothic')"
      ]
    },
    {
      "cell_type": "markdown",
      "metadata": {
        "id": "2N6YGAyswpDE"
      },
      "source": [
        "input & melting & 전처리"
      ]
    },
    {
      "cell_type": "code",
      "execution_count": null,
      "metadata": {
        "id": "ZN3eBJkxdGBt"
      },
      "outputs": [],
      "source": [
        "recom = pd.read_csv('/content/drive/My Drive/Colab Notebooks/NH농협캐피탈/부서이동/NH농협캐피탈 데이터 작업_부서이동_1118.csv')\n",
        "team_code = pd.read_csv('/content/drive/My Drive/Colab Notebooks/NH농협캐피탈/부서이동/team_code_1111.csv')\n",
        "personal = pd.read_excel('/content/drive/My Drive/Colab Notebooks/NH농협캐피탈/부서이동/인적성_1102.xlsx', sheet_name=0, engine='openpyxl')\n",
        "major = pd.read_excel('/content/drive/My Drive/Colab Notebooks/NH농협캐피탈/부서이동/전공 대분류_1118.xlsx', engine='openpyxl')"
      ]
    },
    {
      "cell_type": "code",
      "execution_count": null,
      "metadata": {
        "id": "1i2se9IjEcFL"
      },
      "outputs": [],
      "source": [
        "recom =recom.astype({'코드_22년10월' : 'str'})"
      ]
    },
    {
      "cell_type": "code",
      "execution_count": null,
      "metadata": {
        "colab": {
          "base_uri": "https://localhost:8080/"
        },
        "id": "9cE4uV4IUa9k",
        "outputId": "615a5af2-b12c-44fb-c9be-11699e6e1718"
      },
      "outputs": [],
      "source": [
        "# 수정 1114\n",
        "adj = []\n",
        "\n",
        "for i in range(len(recom)) : \n",
        "  if recom['동일부서 근무개월'][i] >= 60 : \n",
        "    adj.append('High')\n",
        "  else : \n",
        "    if recom['당사근속기간(개월)'][i] <= 24 : \n",
        "      if (recom['역량_22년'][i]=='A' or recom['업적_22년'][i]=='A') : \n",
        "        adj.append('Low')\n",
        "      else : \n",
        "        adj.append('Middle')\n",
        "    else : \n",
        "      if (recom['역량_22년'][i]=='A' or recom['업적_22년'][i]=='A') : \n",
        "        adj.append('Low')\n",
        "      elif (recom['역량_22년'][i]=='C' and recom['업적_22년'][i]=='C') : \n",
        "        adj.append('High')\n",
        "      else : \n",
        "        adj.append('Middle')\n",
        "\n",
        "recom['부서이동 필요'] = adj"
      ]
    },
    {
      "cell_type": "code",
      "execution_count": null,
      "metadata": {
        "id": "WygmSvShdIeC"
      },
      "outputs": [],
      "source": [
        "recom['전공'] = major['대분류']\n",
        "raw_data = recom"
      ]
    },
    {
      "cell_type": "code",
      "execution_count": null,
      "metadata": {
        "id": "KcpcPhECr6kV"
      },
      "outputs": [],
      "source": [
        "recom = recom.dropna(subset=['팀'], axis=0).reset_index(drop=True)"
      ]
    },
    {
      "cell_type": "code",
      "execution_count": null,
      "metadata": {
        "id": "5D_G3SuGtGdy"
      },
      "outputs": [],
      "source": [
        "code = []\n",
        "for i in range(len(recom)) : \n",
        "  for j in range(len(team_code)) : \n",
        "    if recom['팀'][i] == team_code['팀'][j] :\n",
        "      code.append(team_code['코드'][j])\n",
        "\n",
        "recom['code'] = code"
      ]
    },
    {
      "cell_type": "code",
      "execution_count": null,
      "metadata": {
        "id": "xQA57vpBtzJW"
      },
      "outputs": [],
      "source": [
        "recom_raw = recom.copy()"
      ]
    },
    {
      "cell_type": "code",
      "execution_count": null,
      "metadata": {
        "id": "aKO-NUFABIqr"
      },
      "outputs": [],
      "source": [
        "# encoding 작업\n",
        "def changing(x) : \n",
        "  if str(x) == \"S\" : \n",
        "    return 5\n",
        "  elif str(x) == \"A\" : \n",
        "    return 4\n",
        "  elif str(x) == \"B\" :\n",
        "    return 3\n",
        "  elif str(x) == \"C\" : \n",
        "    return 2\n",
        "  elif str(x) == \"D\" :\n",
        "    return 1\n",
        "  else : \n",
        "    return \"drop\""
      ]
    },
    {
      "cell_type": "code",
      "execution_count": null,
      "metadata": {
        "id": "uGXPCdrTBFOZ"
      },
      "outputs": [],
      "source": [
        "for i in [15, 16, 17, 18, 19, 20, 21, 22] : \n",
        "  # team_name = '팀_%d년' %i\n",
        "  power_name = '역량_%d년' %i\n",
        "  achieve_name = '업적_%d년' %i\n",
        "  # recom[team_name] = recom[team_name].apply(changing)\n",
        "  recom[power_name] = recom[power_name].apply(changing)\n",
        "  recom[achieve_name] = recom[achieve_name].apply(changing)"
      ]
    },
    {
      "cell_type": "code",
      "execution_count": null,
      "metadata": {
        "id": "S7VZToSW5x-H"
      },
      "outputs": [],
      "source": [
        "raw_data = pd.DataFrame(recom[['사번', '성명', '연락처', '이메일', '생년월일', '본부', '실', '팀', '직무', '직급', '현 직급 근속기간(연)', '직책',\n",
        "       '성별', '연령', '당사근속기간(개월)', '외부경력(개월)', '총경력(개월)', '학력', '전공', '거주지',\n",
        "       '직무관련자격증', '수상횟수', '동일부서 근무개월', '부서이동 필요', 'code']])"
      ]
    },
    {
      "cell_type": "code",
      "execution_count": null,
      "metadata": {
        "colab": {
          "base_uri": "https://localhost:8080/"
        },
        "id": "jr69FEnL6Pww",
        "outputId": "bba98af2-9418-4c06-b385-abdf72af03cd"
      },
      "outputs": [],
      "source": [
        "for name in team_code['코드'].tolist() : \n",
        "  name = str(name)\n",
        "  # team_grade = '팀_'+ name\n",
        "  power_grade = '역량_' + name\n",
        "  prize_grade = '업적_' + name\n",
        "  # raw_data[team_grade] = 0\n",
        "  raw_data[power_grade] = 0\n",
        "  raw_data[prize_grade] = 0\n",
        "  raw_data = raw_data.astype({power_grade : 'float', prize_grade : 'float'})"
      ]
    },
    {
      "cell_type": "code",
      "execution_count": null,
      "metadata": {
        "colab": {
          "base_uri": "https://localhost:8080/"
        },
        "id": "iuLt_XyX6Io4",
        "outputId": "80f88bb4-fbfd-484b-c0c9-dc60c057c7a2"
      },
      "outputs": [],
      "source": [
        "for i in range(len(recom)) : \n",
        "  if recom['코드_15년12월'][i] in list(map(str, team_code['코드'].tolist())) : \n",
        "    # team_name = '팀_' + str(recom['코드_15년12월'][i])\n",
        "    power_name = '역량_' + str(recom['코드_15년12월'][i])\n",
        "    prize_name = '업적_' + str(recom['코드_15년12월'][i])\n",
        "    # if (recom['팀_15년'][i] != 'drop') : \n",
        "    #  raw_data[team_name][i] = recom['팀_15년'][i]\n",
        "    if (recom['역량_15년'][i] != 'drop') :\n",
        "      raw_data[power_name][i] = recom['역량_15년'][i]\n",
        "    if (recom['업적_15년'][i] != 'drop') :\n",
        "      raw_data[prize_name][i] = recom['업적_15년'][i]"
      ]
    },
    {
      "cell_type": "code",
      "execution_count": null,
      "metadata": {
        "colab": {
          "base_uri": "https://localhost:8080/"
        },
        "id": "daw3nwt__hn9",
        "outputId": "7748004c-2d22-422d-ec7f-168530997702"
      },
      "outputs": [],
      "source": [
        "for i in range(len(recom)) : \n",
        "  if recom['코드_16년12월'][i] in list(map(str, team_code['코드'].tolist())) : \n",
        "    # team_name = '팀_' + str(recom['코드_16년12월'][i])\n",
        "    power_name = '역량_' + str(recom['코드_16년12월'][i])\n",
        "    prize_name = '업적_' + str(recom['코드_16년12월'][i])\n",
        "    \n",
        "    # if (recom['팀_16년'][i] != 'drop') : \n",
        "    #  if raw_data[team_name][i] == 0 :\n",
        "    #    raw_data[team_name][i] = recom['팀_16년'][i]\n",
        "    #  else : \n",
        "    #    raw_data[team_name][i] = (raw_data[team_name][i] + recom['팀_16년'][i])/2\n",
        "    if (recom['역량_16년'][i] != 'drop') :\n",
        "      if raw_data[power_name][i] == 0 :\n",
        "        raw_data[power_name][i] = recom['역량_16년'][i]\n",
        "      else : \n",
        "        raw_data[power_name][i] = (raw_data[power_name][i] + recom['역량_16년'][i])/2\n",
        "    if (recom['업적_16년'][i] != 'drop') :\n",
        "      if raw_data[prize_name][i] == 0 :\n",
        "        raw_data[prize_name][i] = recom['업적_16년'][i]\n",
        "      else : \n",
        "        raw_data[prize_name][i] = (raw_data[prize_name][i] + recom['업적_16년'][i])/2"
      ]
    },
    {
      "cell_type": "code",
      "execution_count": null,
      "metadata": {
        "colab": {
          "base_uri": "https://localhost:8080/"
        },
        "id": "Hxh3JJxlDtFU",
        "outputId": "8d886d64-a1da-4653-8fc3-dfe4ceb8f1e6"
      },
      "outputs": [],
      "source": [
        "for i in range(len(recom)) : \n",
        "  if recom['코드_17년12월'][i] in list(map(str, team_code['코드'].tolist())) : \n",
        "    # team_name = '팀_' + str(recom['코드_17년12월'][i])\n",
        "    power_name = '역량_' + str(recom['코드_17년12월'][i])\n",
        "    prize_name = '업적_' + str(recom['코드_17년12월'][i])\n",
        "    # if (recom['팀_17년'][i] != 'drop') : \n",
        "    #   if raw_data[team_name][i] == 0 :\n",
        "    #     raw_data[team_name][i] = recom['팀_17년'][i]\n",
        "    #   else : \n",
        "    #     raw_data[team_name][i] = (raw_data[team_name][i] + recom['팀_17년'][i])/2\n",
        "    if (recom['역량_17년'][i] != 'drop') :\n",
        "      if raw_data[power_name][i] == 0 :\n",
        "        raw_data[power_name][i] = recom['역량_17년'][i]\n",
        "      else : \n",
        "        raw_data[power_name][i] = (raw_data[power_name][i] + recom['역량_17년'][i])/2\n",
        "    if (recom['업적_17년'][i] != 'drop') :\n",
        "      if raw_data[prize_name][i] == 0 :\n",
        "        raw_data[prize_name][i] = recom['업적_17년'][i]\n",
        "      else : \n",
        "        raw_data[prize_name][i] = (raw_data[prize_name][i] + recom['업적_17년'][i])/2"
      ]
    },
    {
      "cell_type": "code",
      "execution_count": null,
      "metadata": {
        "colab": {
          "base_uri": "https://localhost:8080/"
        },
        "id": "UjZmn4e2Dtiy",
        "outputId": "fe648a14-7a6f-44f3-efe3-c16ca16c2a0c"
      },
      "outputs": [],
      "source": [
        "for i in range(len(recom)) : \n",
        "  if recom['코드_18년12월'][i] in list(map(str, team_code['코드'].tolist())) : \n",
        "    # team_name = '팀_' + str(recom['코드_18년12월'][i])\n",
        "    power_name = '역량_' + str(recom['코드_18년12월'][i])\n",
        "    prize_name = '업적_' + str(recom['코드_18년12월'][i])\n",
        "    # if (recom['팀_18년'][i] != 'drop') : \n",
        "    #   if raw_data[team_name][i] == 0 :\n",
        "    #     raw_data[team_name][i] = recom['팀_18년'][i]\n",
        "    #   else : \n",
        "    #     raw_data[team_name][i] = (raw_data[team_name][i] + recom['팀_18년'][i])/2\n",
        "    if (recom['역량_18년'][i] != 'drop') :\n",
        "      if raw_data[power_name][i] == 0 :\n",
        "        raw_data[power_name][i] = recom['역량_18년'][i]\n",
        "      else : \n",
        "        raw_data[power_name][i] = (raw_data[power_name][i] + recom['역량_18년'][i])/2\n",
        "    if (recom['업적_18년'][i] != 'drop') :\n",
        "      if raw_data[prize_name][i] == 0 :\n",
        "        raw_data[prize_name][i] = recom['업적_18년'][i]\n",
        "      else : \n",
        "        raw_data[prize_name][i] = (raw_data[prize_name][i] + recom['업적_18년'][i])/2"
      ]
    },
    {
      "cell_type": "code",
      "execution_count": null,
      "metadata": {
        "colab": {
          "base_uri": "https://localhost:8080/"
        },
        "id": "D0xcVlE-DuFf",
        "outputId": "cac6697b-494b-42f2-fab5-a8c7f4dc6855"
      },
      "outputs": [],
      "source": [
        "for i in range(len(recom)) : \n",
        "  if recom['코드_19년12월'][i] in list(map(str, team_code['코드'].tolist())) : \n",
        "    # team_name = '팀_' + str(recom['코드_19년12월'][i])\n",
        "    power_name = '역량_' + str(recom['코드_19년12월'][i])\n",
        "    prize_name = '업적_' + str(recom['코드_19년12월'][i])\n",
        "    # if (recom['팀_19년'][i] != 'drop') : \n",
        "    #   if raw_data[team_name][i] == 0 :\n",
        "    #     raw_data[team_name][i] = recom['팀_19년'][i]\n",
        "    #   else : \n",
        "    #     raw_data[team_name][i] = (raw_data[team_name][i] + recom['팀_19년'][i])/2\n",
        "    if (recom['역량_19년'][i] != 'drop') :\n",
        "      if raw_data[power_name][i] == 0 :\n",
        "        raw_data[power_name][i] = recom['역량_19년'][i]\n",
        "      else : \n",
        "        raw_data[power_name][i] = (raw_data[power_name][i] + recom['역량_19년'][i])/2\n",
        "    if (recom['업적_19년'][i] != 'drop') :\n",
        "      if raw_data[prize_name][i] == 0 :\n",
        "        raw_data[prize_name][i] = recom['업적_19년'][i]\n",
        "      else : \n",
        "        raw_data[prize_name][i] = (raw_data[prize_name][i] + recom['업적_19년'][i])/2"
      ]
    },
    {
      "cell_type": "code",
      "execution_count": null,
      "metadata": {
        "colab": {
          "base_uri": "https://localhost:8080/"
        },
        "id": "L3GfeZrDDuQ0",
        "outputId": "58bf1f91-6661-4b41-d441-0640c2b79ca9"
      },
      "outputs": [],
      "source": [
        "for i in range(len(recom)) : \n",
        "  if recom['코드_20년12월'][i] in list(map(str, team_code['코드'].tolist())) : \n",
        "    # team_name = '팀_' + str(recom['코드_20년12월'][i])\n",
        "    power_name = '역량_' + str(recom['코드_20년12월'][i])\n",
        "    prize_name = '업적_' + str(recom['코드_20년12월'][i])\n",
        "    # if (recom['팀_20년'][i] != 'drop') : \n",
        "    #   if raw_data[team_name][i] == 0 :\n",
        "    #     raw_data[team_name][i] = recom['팀_20년'][i]\n",
        "    #   else : \n",
        "    #     raw_data[team_name][i] = (raw_data[team_name][i] + recom['팀_20년'][i])/2\n",
        "    if (recom['역량_20년'][i] != 'drop') :\n",
        "      if raw_data[power_name][i] == 0 :\n",
        "        raw_data[power_name][i] = recom['역량_20년'][i]\n",
        "      else : \n",
        "        raw_data[power_name][i] = (raw_data[power_name][i] + recom['역량_20년'][i])/2\n",
        "    if (recom['업적_20년'][i] != 'drop') :\n",
        "      if raw_data[prize_name][i] == 0 :\n",
        "        raw_data[prize_name][i] = recom['업적_20년'][i]\n",
        "      else : \n",
        "        raw_data[prize_name][i] = (raw_data[prize_name][i] + recom['업적_20년'][i])/2"
      ]
    },
    {
      "cell_type": "code",
      "execution_count": null,
      "metadata": {
        "colab": {
          "base_uri": "https://localhost:8080/"
        },
        "id": "86s90DpQDubv",
        "outputId": "d7fa45c3-a465-45fb-97c5-d49d3ede2008"
      },
      "outputs": [],
      "source": [
        "for i in range(len(recom)) : \n",
        "  if recom['코드_21년12월'][i] in list(map(str, team_code['코드'].tolist())) : \n",
        "    # team_name = '팀_' + str(recom['코드_21년12월'][i])\n",
        "    power_name = '역량_' + str(recom['코드_21년12월'][i])\n",
        "    prize_name = '업적_' + str(recom['코드_21년12월'][i])\n",
        "    # if (recom['팀_21년'][i] != 'drop') : \n",
        "    #   if raw_data[team_name][i] == 0 :\n",
        "    #     raw_data[team_name][i] = recom['팀_21년'][i]\n",
        "    #   else : \n",
        "    #     raw_data[team_name][i] = (raw_data[team_name][i] + recom['팀_21년'][i])/2\n",
        "    if (recom['역량_21년'][i] != 'drop') :\n",
        "      if raw_data[power_name][i] == 0 :\n",
        "        raw_data[power_name][i] = recom['역량_21년'][i]\n",
        "      else : \n",
        "        raw_data[power_name][i] = (raw_data[power_name][i] + recom['역량_21년'][i])/2\n",
        "    if (recom['업적_21년'][i] != 'drop') :\n",
        "      if raw_data[prize_name][i] == 0 :\n",
        "        raw_data[prize_name][i] = recom['업적_21년'][i]\n",
        "      else : \n",
        "        raw_data[prize_name][i] = (raw_data[prize_name][i] + recom['업적_21년'][i])/2"
      ]
    },
    {
      "cell_type": "code",
      "execution_count": null,
      "metadata": {
        "colab": {
          "base_uri": "https://localhost:8080/"
        },
        "id": "n1nQvT0TBuH6",
        "outputId": "2746239e-6aef-4d82-a97c-04d79d3aea1a"
      },
      "outputs": [],
      "source": [
        "for i in range(len(recom)) : \n",
        "  if recom['코드_22년10월'][i] in list(map(str, team_code['코드'].tolist())) : \n",
        "    # team_name = '팀_' + str(recom['코드_22년12월'][i])\n",
        "    power_name = '역량_' + str(recom['code'][i])\n",
        "    prize_name = '업적_' + str(recom['code'][i])\n",
        "    # if (recom['팀_21년'][i] != 'drop') : \n",
        "    #   if raw_data[team_name][i] == 0 :\n",
        "    #     raw_data[team_name][i] = recom['팀_21년'][i]\n",
        "    #   else : \n",
        "    #     raw_data[team_name][i] = (raw_data[team_name][i] + recom['팀_21년'][i])/2\n",
        "    if (recom['역량_22년'][i] != 'drop') :\n",
        "      if raw_data[power_name][i] == 0 :\n",
        "        raw_data[power_name][i] = recom['역량_22년'][i]\n",
        "      else : \n",
        "        raw_data[power_name][i] = (raw_data[power_name][i] + recom['역량_22년'][i])/2\n",
        "    if (recom['업적_22년'][i] != 'drop') :\n",
        "      if raw_data[prize_name][i] == 0 :\n",
        "        raw_data[prize_name][i] = recom['업적_22년'][i]\n",
        "      else : \n",
        "        raw_data[prize_name][i] = (raw_data[prize_name][i] + recom['업적_22년'][i])/2"
      ]
    },
    {
      "cell_type": "code",
      "execution_count": null,
      "metadata": {
        "colab": {
          "base_uri": "https://localhost:8080/"
        },
        "id": "7DLqqtazEnU7",
        "outputId": "658348e6-5550-454c-ccae-4cbf68488014"
      },
      "outputs": [],
      "source": [
        "raw_data['label'] = 0\n",
        "raw_data['label_grade'] = 0\n",
        "raw_data =raw_data.astype({'label_grade' : 'float'})\n",
        "\n",
        "\n",
        "score = []\n",
        "\n",
        "for i in range(len(raw_data)) : \n",
        "  max = 0\n",
        "  label_name = 0\n",
        "  for name in team_code['코드'].tolist() : \n",
        "    # avg = (raw_data['팀_' + str(name)][i] + raw_data['역량_' + str(name)][i] + raw_data['업적_' + str(name)][i])/3\n",
        "    avg = (raw_data['역량_' + str(name)][i] + raw_data['업적_' + str(name)][i])/2\n",
        "    if avg >= max : \n",
        "      max = avg\n",
        "      label_name = name\n",
        "  raw_data['label'][i] = label_name\n",
        "  raw_data['label_grade'][i] = max"
      ]
    },
    {
      "cell_type": "code",
      "execution_count": null,
      "metadata": {
        "colab": {
          "base_uri": "https://localhost:8080/"
        },
        "id": "2WVNonFL8Zlu",
        "outputId": "7e55dec2-12b1-46c2-90ef-9e5cf3b578e4"
      },
      "outputs": [],
      "source": [
        "new_dp = [114000, 423000, 514000, 515000, 644000, 941000]\n",
        "\n",
        "for i in range(len(raw_data)) : \n",
        "  if raw_data['code'][i] in new_dp : \n",
        "    raw_data['label'][i] = raw_data['code'][i]"
      ]
    },
    {
      "cell_type": "code",
      "execution_count": null,
      "metadata": {
        "id": "3o_oHpJCm3bq"
      },
      "outputs": [],
      "source": [
        "sec_data = raw_data.copy()"
      ]
    },
    {
      "cell_type": "code",
      "execution_count": null,
      "metadata": {
        "id": "yj_SWEmyirXC"
      },
      "outputs": [],
      "source": [
        "# 인적성 검사 데이터 연결\n",
        "for name in personal.columns.drop(['성명', '이메일']).tolist() : \n",
        "  raw_data = raw_data.join(personal.set_index('이메일')[name], on='이메일')"
      ]
    },
    {
      "cell_type": "code",
      "execution_count": null,
      "metadata": {
        "id": "ds8ksx1sg45O"
      },
      "outputs": [],
      "source": [
        "core_number = raw_data.loc[raw_data['역량 평균'].isna()].index.tolist()"
      ]
    },
    {
      "cell_type": "code",
      "execution_count": null,
      "metadata": {
        "colab": {
          "base_uri": "https://localhost:8080/"
        },
        "id": "1_ms6H8PGPNn",
        "outputId": "60850163-ed1f-4a17-bb55-1db35a74c421"
      },
      "outputs": [],
      "source": [
        "print(len(raw_data))\n",
        "raw_data.dropna(subset=['역량 평균'], inplace=True) # 인적성검사 미실시자 제거\n",
        "print(len(raw_data))\n",
        "raw_data = raw_data.reset_index(drop=True)"
      ]
    },
    {
      "cell_type": "markdown",
      "metadata": {
        "id": "5q5LZBC_w8CU"
      },
      "source": [
        "Modeling 전처리 & Modeling"
      ]
    },
    {
      "cell_type": "code",
      "execution_count": null,
      "metadata": {
        "id": "gkpROKJviTFB"
      },
      "outputs": [],
      "source": [
        "en_data = raw_data.drop(['성명', '연락처', '이메일', '생년월일', '본부', '실', '팀', '직급', '현 직급 근속기간(연)', 'label_grade', 'code'], axis=1).reset_index(drop=True)"
      ]
    },
    {
      "cell_type": "code",
      "execution_count": null,
      "metadata": {
        "id": "EtfHVImuK6Z-"
      },
      "outputs": [],
      "source": [
        "en_data['부서이동 필요'].replace({'High' : 3, 'Middle' : 2, 'Low' : 1}, inplace=True)"
      ]
    },
    {
      "cell_type": "code",
      "execution_count": null,
      "metadata": {
        "id": "jcfTioyrim10"
      },
      "outputs": [],
      "source": [
        "for name in ['직책', '성별', '학력', '전공', '거주지', '직무'] :\n",
        "  le = LabelEncoder()\n",
        "  en_data[name] = le.fit_transform(en_data[name])"
      ]
    },
    {
      "cell_type": "code",
      "execution_count": null,
      "metadata": {
        "id": "0UzA4-cilZUP"
      },
      "outputs": [],
      "source": [
        "X = en_data.drop(['사번', 'label'], axis=1)\n",
        "y = en_data['label']"
      ]
    },
    {
      "cell_type": "code",
      "execution_count": null,
      "metadata": {
        "id": "v5xq_KfSl4al"
      },
      "outputs": [],
      "source": [
        "random_seed = 4"
      ]
    },
    {
      "cell_type": "code",
      "execution_count": null,
      "metadata": {
        "id": "lPBfiRn4liFM"
      },
      "outputs": [],
      "source": [
        "X_train, X_test, y_train, y_test = train_test_split(X, y, test_size = 0.3, random_state=random_seed)"
      ]
    },
    {
      "cell_type": "code",
      "execution_count": null,
      "metadata": {
        "colab": {
          "base_uri": "https://localhost:8080/"
        },
        "id": "xdaEtW8lbDrb",
        "outputId": "61049620-e7ba-4e4b-e9ae-e767919b3912"
      },
      "outputs": [],
      "source": [
        "\n",
        "benchmark = pd.DataFrame(columns=['Algorithm', 'Accuracy', 'Recall', 'Precision', 'F1 score'])\n",
        "\n",
        "for algorithm in [LogisticRegression(), KNeighborsClassifier(), SVC(), RandomForestClassifier(random_state=random_seed), DecisionTreeClassifier(random_state=random_seed), \n",
        "                 AdaBoostClassifier(random_state=random_seed), XGBClassifier(random_state=random_seed), MLPClassifier(random_state=random_seed), ExtraTreesClassifier(random_state=random_seed)]:\n",
        "    pipeline = Pipeline(steps = [['classifier', algorithm]])\n",
        "    \n",
        "    results = GridSearchCV(estimator=pipeline,\n",
        "                           scoring= 'accuracy',\n",
        "                           param_grid ={},\n",
        "                           cv = None,\n",
        "                           n_jobs=-1)\n",
        "    results.fit(X_train, y_train)\n",
        "    results_pred = results.predict(X_test)\n",
        "    acc = accuracy_score(y_test, results_pred)\n",
        "    recall = recall_score(y_test, results_pred, average='weighted')\n",
        "    pre = precision_score(y_test, results_pred, average='weighted')\n",
        "    f1 = f1_score(y_test, results_pred, average='weighted')\n",
        "    benchmark = benchmark.append({'Algorithm' : algorithm, 'Accuracy' : acc,'Recall' : recall, 'Precision' : pre, 'F1 score' : f1}, ignore_index=True)\n",
        "  "
      ]
    },
    {
      "cell_type": "code",
      "execution_count": null,
      "metadata": {
        "colab": {
          "base_uri": "https://localhost:8080/",
          "height": 332
        },
        "id": "o-in3EkwLQER",
        "outputId": "17b57f3e-8e57-4fb6-dd8c-22eb5fb48945"
      },
      "outputs": [],
      "source": [
        "benchmark"
      ]
    },
    {
      "cell_type": "code",
      "execution_count": null,
      "metadata": {
        "colab": {
          "base_uri": "https://localhost:8080/",
          "height": 54
        },
        "id": "3IEnYz0it4OV",
        "outputId": "192df206-6361-4f3b-99e5-4f0102774003"
      },
      "outputs": [],
      "source": [
        "'''\n",
        "opt_dict = {}\n",
        "idx = benchmark['Accuracy'].idxmax()\n",
        "column_list = ['Accuracy', 'Recall', 'Precision', 'F1 score']\n",
        "benchmark = benchmark.drop([idx], axis=0).reset_index(drop=True) \n",
        "\n",
        "for columns in list(column_list) : \n",
        "  opt_dict['Average '+columns] = benchmark[columns].mean()\n",
        "\n",
        "opt_dict  \n",
        "'''"
      ]
    },
    {
      "cell_type": "code",
      "execution_count": null,
      "metadata": {
        "id": "mfDZMTq3YU3G"
      },
      "outputs": [],
      "source": [
        "one_label_list = en_data['label'].value_counts().loc[en_data['label'].value_counts()==1].index.tolist()\n",
        "drop_list = []\n",
        "for i in range(len(en_data)) : \n",
        "  if en_data['label'][i] in one_label_list : \n",
        "    drop_list.append(i)"
      ]
    },
    {
      "cell_type": "code",
      "execution_count": null,
      "metadata": {
        "id": "UdNckB_raakZ"
      },
      "outputs": [],
      "source": [
        "temp_label_data = en_data.copy()\n",
        "temp_label_data = temp_label_data.drop(drop_list, axis=0)\n",
        "X = temp_label_data.drop(['사번', 'label'], axis=1)\n",
        "y = temp_label_data['label']\n",
        "\n",
        "temp_label = en_data.iloc[drop_list]\n",
        "temp_x = temp_label.drop(['사번', 'label'], axis=1)\n",
        "temp_y = temp_label['label']\n",
        "\n",
        "X_train, X_test, y_train, y_test = train_test_split(X, y, test_size=0.25, random_state=5, stratify=y)\n",
        "X_train = X_train.append(temp_x)\n",
        "y_train = y_train.append(temp_y)"
      ]
    },
    {
      "cell_type": "code",
      "execution_count": null,
      "metadata": {
        "colab": {
          "base_uri": "https://localhost:8080/",
          "height": 90
        },
        "id": "9lO3vOC25Qxp",
        "outputId": "b978d506-9e02-4b81-9819-3ad1fcf0f842"
      },
      "outputs": [],
      "source": [
        "'''\n",
        "# 최적 seed값 탐색\n",
        "\n",
        "max = 0\n",
        "seed_number_rf = 0\n",
        "rf_number = 0\n",
        "\n",
        "for seed in range(0, 50) : \n",
        "  temp_label_data = en_data.copy()\n",
        "  temp_label_data = temp_label_data.drop(drop_list, axis=0)\n",
        "  X = temp_label_data.drop(['사번', 'label'], axis=1)\n",
        "  y = temp_label_data['label']\n",
        "\n",
        "  temp_label = en_data.iloc[drop_list]\n",
        "  temp_x = temp_label.drop(['사번', 'label'], axis=1)\n",
        "  temp_y = temp_label['label']\n",
        "\n",
        "  X_train, X_test, y_train, y_test = train_test_split(X, y, test_size=0.25, random_state=seed, stratify=y)\n",
        "  X_train = X_train.append(temp_x)\n",
        "  y_train = y_train.append(temp_y)\n",
        "  for num in range(0, 50) : \n",
        "    model_rf = RandomForestClassifier(n_estimators=100, max_depth=10, min_samples_split=5, random_state=num)\n",
        "    # model_rf = XGBClassifier(n_estimators=100, max_depth=10, random_state=num)\n",
        "    model_rf.fit(X_train, y_train)\n",
        "    pred_rf = model_rf.predict(X_test)\n",
        "    r2 = accuracy_score(y_test, pred_rf)\n",
        "    if r2 > max :\n",
        "      max = r2\n",
        "      seed_number_rf = seed\n",
        "      rf_number = num\n",
        "\n",
        "print(max)\n",
        "print(seed_number_rf)\n",
        "print(rf_number)\n",
        "'''"
      ]
    },
    {
      "cell_type": "code",
      "execution_count": null,
      "metadata": {
        "colab": {
          "base_uri": "https://localhost:8080/"
        },
        "id": "xcVe_owSsxJ7",
        "outputId": "a2916374-ad3d-4c66-a6a5-e38eaa09ea73"
      },
      "outputs": [],
      "source": [
        "pipeline_xgb = Pipeline(steps=[('classifier', ExtraTreesClassifier(random_state=24))]) # Extra 5 24 0.779 rf\n",
        "\n",
        "params_xgb={\n",
        "            'classifier__n_estimators' : [100, 200, 300],\n",
        "            'classifier__max_depth' : [2, 5, 10], \n",
        "            'classifier__min_samples_split' : [2, 5]}\n",
        "\n",
        "\n",
        "grid_search_xgb = GridSearchCV(estimator=pipeline_xgb,\n",
        "                               param_grid=params_xgb,\n",
        "                               scoring = 'accuracy',\n",
        "                               n_jobs=-1)\n",
        "\n",
        "grid_search_xgb.fit(X_train, y_train)\n",
        "pred_xgb = grid_search_xgb.predict(X_test)\n",
        "pred_proba = grid_search_xgb.predict_proba(X_test)[:,1]\n",
        "print(grid_search_xgb.best_params_)\n",
        "now = datetime.now()\n",
        "\n",
        "acc = accuracy_score(y_test, pred_xgb)\n",
        "re = recall_score(y_test, pred_xgb, average='weighted')\n",
        "pre = precision_score(y_test, pred_xgb, average='weighted')\n",
        "f1 = f1_score(y_test, pred_xgb, average='weighted')\n",
        "\n",
        "metrics_dict = {}\n",
        "metrics_dict['accuracy_score'] = acc\n",
        "metrics_dict['recall_score'] = re\n",
        "metrics_dict['precision_score'] = pre\n",
        "metrics_dict['f1_score'] = f1\n",
        "\n",
        "metrics_dict"
      ]
    },
    {
      "cell_type": "code",
      "execution_count": null,
      "metadata": {
        "id": "qTdKRRizz2Qt"
      },
      "outputs": [],
      "source": [
        "end_model = grid_search_xgb.best_estimator_['classifier']"
      ]
    },
    {
      "cell_type": "code",
      "execution_count": null,
      "metadata": {
        "id": "QVN7d-HAzbCo"
      },
      "outputs": [],
      "source": [
        "# Tree 계열 shap으로 변경\n",
        "explainer = shap.explainers.Tree(end_model, X_train) # 수정\n",
        "shap_values = explainer.shap_values(X_test, check_additivity=False) \n",
        "shap_obj = explainer(X_test, check_additivity=False)"
      ]
    },
    {
      "cell_type": "code",
      "execution_count": null,
      "metadata": {
        "id": "JwFKc4bN8Ob8"
      },
      "outputs": [],
      "source": [
        "temp = X_train.copy()\n",
        "code_feature = temp.columns[14:112].tolist()\n",
        "for name in code_feature : \n",
        "  text = name.split('_', 1)\n",
        "  temp.rename(columns={name : text[0]+\"_\"+team_code['팀'].loc[team_code['코드']==int(text[1])].reset_index(drop=True)[0]}, inplace=True)"
      ]
    },
    {
      "cell_type": "code",
      "execution_count": null,
      "metadata": {
        "id": "Tj4S90_3Uq-U"
      },
      "outputs": [],
      "source": [
        "importances = np.absolute(shap_values).sum(axis=0) / len(np.absolute(shap_values).sum(axis=0)[0])\n",
        "\n",
        "imp = []\n",
        "for j in range(len(np.absolute(shap_values).sum(axis=0)[0])) : \n",
        "  cnt = 0\n",
        "  for i in range(len(importances)) : \n",
        "    cnt += importances[i][j]\n",
        "  imp.append(cnt)\n",
        "\n",
        "feature_importance = pd.Series(imp / sum(imp))\n",
        "feature_importance.index = temp.columns"
      ]
    },
    {
      "cell_type": "code",
      "execution_count": null,
      "metadata": {
        "id": "ismvWIQiTJXV"
      },
      "outputs": [],
      "source": [
        "# 수정 10-26\n",
        "# team_cnt = 0\n",
        "power_cnt = 0\n",
        "prize_cnt = 0\n",
        "\n",
        "# for i in range(len(feature_importance)) : \n",
        "  # if 11+3*i >= 155 :\n",
        "  #   break\n",
        "  # else : \n",
        "  #   team_cnt += feature_importance[11+3*i]\n",
        "\n",
        "for i in range(len(feature_importance)) : \n",
        "  if 13+2*i >= 112 : # 112\n",
        "    break\n",
        "  else : \n",
        "    power_cnt += feature_importance[14+2*i]\n",
        "\n",
        "for i in range(len(feature_importance)) : \n",
        "  if 14+2*i >= 112 : # 112 \n",
        "    break\n",
        "  else : \n",
        "    prize_cnt += feature_importance[15+2*i]"
      ]
    },
    {
      "cell_type": "code",
      "execution_count": null,
      "metadata": {
        "id": "4voL62VNSbdI"
      },
      "outputs": [],
      "source": [
        "# 수정 10-26\n",
        "final_feature_imp = feature_importance[0:14]\n",
        "final_feature_imp = final_feature_imp.append(feature_importance[112:132]) # 112\n",
        "# final_feature_imp['팀평가등급'] = team_cnt\n",
        "final_feature_imp['역량평가등급'] = power_cnt\n",
        "final_feature_imp['업적평가등급'] = prize_cnt\n",
        "# final_feature_imp['팀별 근속년수'] = feature_importance[155:203].sum()\n",
        "# final_feature_imp = final_feature_imp.append(feature_importance[203:225])"
      ]
    },
    {
      "cell_type": "code",
      "execution_count": null,
      "metadata": {
        "id": "GQgdL2_fNeGs"
      },
      "outputs": [],
      "source": [
        "for name in final_feature_imp.index.drop(['업적평가등급', '역량평가등급']).tolist() : \n",
        "  final_feature_imp[name] += final_feature_imp['업적평가등급']*0.5/34 \n",
        "\n",
        "for name in final_feature_imp.index.drop(['업적평가등급', '역량평가등급']).tolist() : \n",
        "  final_feature_imp[name] += final_feature_imp['역량평가등급']*0.5/34 \n",
        "\n",
        "final_feature_imp['업적평가등급'] = final_feature_imp['업적평가등급']*0.5\n",
        "final_feature_imp['역량평가등급'] = final_feature_imp['역량평가등급']*0.5\n",
        "\n",
        "final_feature_imp['성실성'] += final_feature_imp['수상횟수']*0.5\n",
        "final_feature_imp['수상횟수'] = final_feature_imp['수상횟수']*0.5\n",
        "\n",
        "final_feature_imp['직무관련자격증'] += final_feature_imp['당사근속기간(개월)']*0.5\n",
        "final_feature_imp['당사근속기간(개월)'] = final_feature_imp['당사근속기간(개월)']*0.5\n",
        "\n",
        "final_feature_imp['역량 평균'] += final_feature_imp['연령']*0.5\n",
        "final_feature_imp['연령'] = final_feature_imp['연령']*0.5\n",
        "\n",
        "final_feature_imp['사회성'] += final_feature_imp['성별']*0.5\n",
        "final_feature_imp['성별'] = final_feature_imp['성별']*0.5"
      ]
    },
    {
      "cell_type": "code",
      "execution_count": null,
      "metadata": {
        "id": "yu-kD4HjXLn5"
      },
      "outputs": [],
      "source": [
        "fe_dict = final_feature_imp.to_dict()"
      ]
    },
    {
      "cell_type": "code",
      "execution_count": null,
      "metadata": {
        "colab": {
          "base_uri": "https://localhost:8080/",
          "height": 901
        },
        "id": "rAtfvQwZuycz",
        "outputId": "ac2369c7-a330-4e09-dc48-1b5283652bca"
      },
      "outputs": [],
      "source": [
        "import seaborn as sns\n",
        "\n",
        "ft_importance = final_feature_imp.sort_values(ascending=False)\n",
        "\n",
        "# 시각화\n",
        "plt.figure(figsize=(15,15))\n",
        "plt.rc('font', size=20)  \n",
        "plt.title('Feature Importance')\n",
        "sns.barplot(x=ft_importance, y=ft_importance.index)\n",
        "plt.show()"
      ]
    },
    {
      "cell_type": "code",
      "execution_count": null,
      "metadata": {
        "id": "B4KxeBoKYtA5"
      },
      "outputs": [],
      "source": [
        "# 수정 10-26\n",
        "missing_rate = {}\n",
        "feature_data = raw_data[['직책', '직무',\n",
        " '성별',\n",
        " '연령',\n",
        " '당사근속기간(개월)',\n",
        " '외부경력(개월)',\n",
        " '총경력(개월)',\n",
        " '학력',\n",
        " '전공',\n",
        " '거주지',\n",
        " '직무관련자격증',\n",
        " '수상횟수', '동일부서 근무개월', '부서이동 필요', '긍정성', '적극성', '성실성', '사회성', '정체성', '관계성', '객관성', '비활성', '과활성', '역량 평균',\n",
        "       '영업', '연구/개발', 'IT서비스', '경영기획/지원', '생산/유통/품질', '홍보/마케팅', '서비스/고객지원',\n",
        "       '의료/보건', '건설 엔지니어', '금융/보험', '디자인', '공통']]\n",
        "\n",
        "for name in feature_data.columns.tolist() : \n",
        "  cnt = 0\n",
        "  for i in range(len(feature_data)) : \n",
        "    if feature_data[name].isnull()[i] == True : \n",
        "      cnt+=1\n",
        "  missing_rate[name] = cnt/len(feature_data)\n",
        "\n",
        "missing_rate['월별 소속팀'] = 0\n",
        "missing_rate['월별 소속팀 코드'] = 0\n",
        "missing_rate['팀평가등급'] = 0\n",
        "missing_rate['업적평가등급'] = 0\n",
        "missing_rate['역량평가등급'] = 0"
      ]
    },
    {
      "cell_type": "markdown",
      "metadata": {
        "id": "Luo7FhPKasWb"
      },
      "source": [
        "inference"
      ]
    },
    {
      "cell_type": "code",
      "execution_count": null,
      "metadata": {
        "id": "NstxJKdC7efr"
      },
      "outputs": [],
      "source": [
        "inf_x = en_data.drop(['사번', 'label'], axis=1)"
      ]
    },
    {
      "cell_type": "code",
      "execution_count": null,
      "metadata": {
        "id": "AON7b8vU7q90"
      },
      "outputs": [],
      "source": [
        "predictions = end_model.predict(inf_x)\n",
        "inf_proba = end_model.predict_proba(inf_x)"
      ]
    },
    {
      "cell_type": "code",
      "execution_count": null,
      "metadata": {
        "colab": {
          "base_uri": "https://localhost:8080/"
        },
        "id": "FBmdL6yLAQ1H",
        "outputId": "e60efda5-b631-4821-9880-7645d9211a50"
      },
      "outputs": [],
      "source": [
        "output = pd.DataFrame(en_data['사번'], columns=['사번'])\n",
        "output['predict'] = predictions\n",
        "\n",
        "for i in range(len(output)) : \n",
        "  for j in range(len(team_code)) : \n",
        "    if output['predict'][i] == team_code['코드'][j] : \n",
        "      output['predict'][i] = team_code['팀'][j]"
      ]
    },
    {
      "cell_type": "code",
      "execution_count": null,
      "metadata": {
        "id": "QWJvu4WLAdDo"
      },
      "outputs": [],
      "source": [
        "i = 0\n",
        "for name in end_model.classes_ : \n",
        "  output[name] = inf_proba[:,i]\n",
        "  i+=1"
      ]
    },
    {
      "cell_type": "code",
      "execution_count": null,
      "metadata": {
        "id": "mCMZ0swZ-aHV"
      },
      "outputs": [],
      "source": [
        "feature_name = recom.columns.tolist()\n",
        "feature_name.remove('사번')"
      ]
    },
    {
      "cell_type": "code",
      "execution_count": null,
      "metadata": {
        "id": "nHqnSC6U-Gyx"
      },
      "outputs": [],
      "source": [
        "for name in feature_name : \n",
        "  output = output.join(recom_raw.set_index('사번')[name], on='사번')"
      ]
    },
    {
      "cell_type": "code",
      "execution_count": null,
      "metadata": {
        "id": "fQZZDKwe-lm2"
      },
      "outputs": [],
      "source": [
        "for name in personal.columns.drop(['성명', '이메일']).tolist() : \n",
        "  output = output.join(personal.set_index('이메일')[name], on='이메일')"
      ]
    },
    {
      "cell_type": "code",
      "execution_count": null,
      "metadata": {
        "id": "3OMdTf5tB8q7"
      },
      "outputs": [],
      "source": [
        "output.drop(['code'], axis=1, inplace=True)"
      ]
    },
    {
      "cell_type": "code",
      "execution_count": null,
      "metadata": {
        "id": "h8inHxzqD7wj"
      },
      "outputs": [],
      "source": [
        "for name in output.columns.tolist() : \n",
        "  if name in team_code['코드'].tolist() : \n",
        "    output.rename(columns={name : team_code['팀'].loc[team_code['코드']==name].reset_index(drop=True)[0]}, inplace=True)"
      ]
    },
    {
      "cell_type": "markdown",
      "metadata": {
        "id": "7vXdBzfccspG"
      },
      "source": [
        "modeling 2"
      ]
    },
    {
      "cell_type": "code",
      "execution_count": null,
      "metadata": {
        "id": "VGQSvqnLdarR"
      },
      "outputs": [],
      "source": [
        "en_data_2 = sec_data.drop(['성명', '연락처', '이메일', '생년월일', '본부', '실', '팀', '직급', '현 직급 근속기간(연)', 'label_grade', 'code'], axis=1).reset_index(drop=True)"
      ]
    },
    {
      "cell_type": "code",
      "execution_count": null,
      "metadata": {
        "id": "mWOTQ8prdarR"
      },
      "outputs": [],
      "source": [
        "en_data_2['부서이동 필요'].replace({'High' : 3, 'Middle' : 2, 'Low' : 1}, inplace=True)"
      ]
    },
    {
      "cell_type": "code",
      "execution_count": null,
      "metadata": {
        "id": "sSquVJ2BdarR"
      },
      "outputs": [],
      "source": [
        "for name in ['직책', '성별', '학력', '전공', '거주지', '직무'] :\n",
        "  le = LabelEncoder()\n",
        "  en_data_2[name] = le.fit_transform(en_data_2[name])"
      ]
    },
    {
      "cell_type": "code",
      "execution_count": null,
      "metadata": {
        "id": "gQJowtaXdarR"
      },
      "outputs": [],
      "source": [
        "X = en_data_2.drop(['사번', 'label'], axis=1)\n",
        "y = en_data_2['label']"
      ]
    },
    {
      "cell_type": "code",
      "execution_count": null,
      "metadata": {
        "id": "9Ya65RXxdarS"
      },
      "outputs": [],
      "source": [
        "random_seed = 4"
      ]
    },
    {
      "cell_type": "code",
      "execution_count": null,
      "metadata": {
        "id": "rv7UoxTLdarS"
      },
      "outputs": [],
      "source": [
        "one_label_list = en_data_2['label'].value_counts().loc[en_data_2['label'].value_counts()==1].index.tolist()\n",
        "drop_list = []\n",
        "for i in range(len(en_data_2)) : \n",
        "  if en_data_2['label'][i] in one_label_list : \n",
        "    drop_list.append(i)"
      ]
    },
    {
      "cell_type": "code",
      "execution_count": null,
      "metadata": {
        "id": "eiijEvUSdarS"
      },
      "outputs": [],
      "source": [
        "temp_label_data_2 = en_data_2.copy()\n",
        "temp_label_data_2 = temp_label_data_2.drop(drop_list, axis=0)\n",
        "A = temp_label_data_2.drop(['사번', 'label'], axis=1)\n",
        "b = temp_label_data_2['label']\n",
        "\n",
        "temp_label_2 = en_data_2.iloc[drop_list]\n",
        "temp_a = temp_label_2.drop(['사번', 'label'], axis=1)\n",
        "temp_b = temp_label_2['label']\n",
        "\n",
        "A_train, A_test, b_train, b_test = train_test_split(A, b, test_size=0.25, random_state=11, stratify=b)\n",
        "A_train = A_train.append(temp_a)\n",
        "b_train = b_train.append(temp_b)"
      ]
    },
    {
      "cell_type": "code",
      "execution_count": null,
      "metadata": {
        "colab": {
          "base_uri": "https://localhost:8080/"
        },
        "id": "-5H5IKhDdarS",
        "outputId": "dd7a2f91-7db3-4119-c3ea-81a3fc80f0cf"
      },
      "outputs": [],
      "source": [
        "pipeline_xgb_2 = Pipeline(steps=[('classifier', RandomForestClassifier(random_state=1))]) # Extra 0 2 rf \n",
        "\n",
        "params_xgb_2={\n",
        "            'classifier__n_estimators' : [100],\n",
        "            'classifier__max_depth' : [10], \n",
        "            'classifier__min_samples_split' : [5]}\n",
        "\n",
        "\n",
        "grid_search_xgb_2 = GridSearchCV(estimator=pipeline_xgb_2,\n",
        "                               param_grid=params_xgb_2,\n",
        "                               scoring = 'accuracy',\n",
        "                               n_jobs=-1)\n",
        "\n",
        "grid_search_xgb_2.fit(A_train, b_train)\n",
        "pred_xgb_2 = grid_search_xgb_2.predict(A_test)\n",
        "pred_proba_2 = grid_search_xgb_2.predict_proba(A_test)[:,1]\n",
        "print(grid_search_xgb_2.best_params_)\n",
        "\n",
        "print(accuracy_score(b_test, pred_xgb_2))\n",
        "print(recall_score(b_test, pred_xgb_2, average='weighted'))\n",
        "print(precision_score(b_test, pred_xgb_2, average='weighted'))\n",
        "print(f1_score(b_test, pred_xgb_2, average='weighted'))"
      ]
    },
    {
      "cell_type": "code",
      "execution_count": null,
      "metadata": {
        "id": "UnUt8kl4darS"
      },
      "outputs": [],
      "source": [
        "end_model_2 = grid_search_xgb_2.best_estimator_['classifier']"
      ]
    },
    {
      "cell_type": "code",
      "execution_count": null,
      "metadata": {
        "id": "2Rro1Pv2darS"
      },
      "outputs": [],
      "source": [
        "# Tree 계열 shap으로 변경\n",
        "explainer_2 = shap.explainers.Tree(end_model_2, A_train) # 수정\n",
        "shap_values_2 = explainer_2.shap_values(A_test, check_additivity=False) \n",
        "shap_obj = explainer_2(A_test, check_additivity=False)"
      ]
    },
    {
      "cell_type": "markdown",
      "metadata": {
        "id": "i6Ri-Hpgf9dX"
      },
      "source": [
        "inference_2"
      ]
    },
    {
      "cell_type": "code",
      "execution_count": null,
      "metadata": {
        "id": "QsZD9CkjjjGK"
      },
      "outputs": [],
      "source": [
        "core_data = en_data_2.iloc[core_number].reset_index(drop=True)"
      ]
    },
    {
      "cell_type": "code",
      "execution_count": null,
      "metadata": {
        "id": "quMSAJyrf7EL"
      },
      "outputs": [],
      "source": [
        "# 2021년까지 자료만 있고 2022년 자료(22년 성과)를 반영하기 어려워 학습 및 검증에 사용했던 데이터를 그대로 inference에 활용 / 즉 21년까지의 데이터로 23년의 부서 추천을 한다고 생각\n",
        "inf_x_2 = core_data.drop(['사번', 'label'], axis=1)"
      ]
    },
    {
      "cell_type": "code",
      "execution_count": null,
      "metadata": {
        "id": "cfxBF-CFf7EM"
      },
      "outputs": [],
      "source": [
        "predictions_2 = end_model_2.predict(inf_x_2)\n",
        "inf_proba_2 = end_model_2.predict_proba(inf_x_2)"
      ]
    },
    {
      "cell_type": "code",
      "execution_count": null,
      "metadata": {
        "colab": {
          "base_uri": "https://localhost:8080/"
        },
        "id": "GhoIKUthf7EM",
        "outputId": "c5b61406-481f-4f11-d67f-b99b27a232ea"
      },
      "outputs": [],
      "source": [
        "output_2 = pd.DataFrame(core_data['사번'], columns=['사번'])\n",
        "output_2['predict'] = predictions_2\n",
        "\n",
        "for i in range(len(output_2)) : \n",
        "  for j in range(len(team_code)) : \n",
        "    if output_2['predict'][i] == team_code['코드'][j] : \n",
        "      output_2['predict'][i] = team_code['팀'][j]"
      ]
    },
    {
      "cell_type": "code",
      "execution_count": null,
      "metadata": {
        "id": "fWBrmMZyf7EM"
      },
      "outputs": [],
      "source": [
        "i = 0\n",
        "for name in end_model_2.classes_ : \n",
        "  output_2[name] = inf_proba_2[:,i]\n",
        "  i+=1"
      ]
    },
    {
      "cell_type": "code",
      "execution_count": null,
      "metadata": {
        "id": "oEKMLlwdf7EM"
      },
      "outputs": [],
      "source": [
        "for name in feature_name : \n",
        "  output_2 = output_2.join(recom_raw.set_index('사번')[name], on='사번')"
      ]
    },
    {
      "cell_type": "code",
      "execution_count": null,
      "metadata": {
        "id": "9zGfl3Dhf7EN"
      },
      "outputs": [],
      "source": [
        "output_2.drop(['code'], axis=1, inplace=True)"
      ]
    },
    {
      "cell_type": "code",
      "execution_count": null,
      "metadata": {
        "id": "wY9Mmuugf7EN"
      },
      "outputs": [],
      "source": [
        "for name in output_2.columns.tolist() : \n",
        "  if name in team_code['코드'].tolist() : \n",
        "    output_2.rename(columns={name : team_code['팀'].loc[team_code['코드']==name].reset_index(drop=True)[0]}, inplace=True)"
      ]
    },
    {
      "cell_type": "code",
      "execution_count": null,
      "metadata": {
        "id": "vNWdfUB6nM9J"
      },
      "outputs": [],
      "source": [
        "final_output = pd.concat([output, output_2], axis=0).reset_index(drop=True)"
      ]
    },
    {
      "cell_type": "code",
      "execution_count": null,
      "metadata": {
        "id": "VfThRbfno1uQ"
      },
      "outputs": [],
      "source": [
        "new_col_name = final_output.columns[:50].tolist() + final_output.columns[-1:].tolist() + final_output.columns[50:-1].tolist()\n",
        "final_output = final_output[new_col_name]"
      ]
    },
    {
      "cell_type": "code",
      "execution_count": null,
      "metadata": {
        "id": "m8uwPTguYZjr"
      },
      "outputs": [],
      "source": [
        "main_dict = {}\n",
        "main_dict['feature importance'] = fe_dict\n",
        "main_dict['trainset_size'] = len(X_train) + len(inf_x_2)\n",
        "main_dict['testset_size'] = len(X_test)\n",
        "main_dict['total_size'] = len(X_train)+len(X_test) + len(inf_x_2)\n",
        "main_dict['last_train_date'] = str(now)\n",
        "main_dict['prediction'] = dict()\n",
        "main_dict['metrics'] = metrics_dict\n",
        "main_dict['coverage value'] = output['predict'].nunique()\n",
        "main_dict['coverage rate'] = output['predict'].nunique()/len(team_code)\n",
        "# main_dict['algorithm others'] = opt_dict\n",
        "main_dict['feature missing rate'] = missing_rate"
      ]
    },
    {
      "cell_type": "code",
      "execution_count": null,
      "metadata": {
        "colab": {
          "base_uri": "https://localhost:8080/"
        },
        "id": "yxxsTUTJXQ_z",
        "outputId": "00a5a349-1bf0-4da4-9b91-ad60c98de273"
      },
      "outputs": [],
      "source": [
        "main_dict"
      ]
    },
    {
      "cell_type": "code",
      "execution_count": null,
      "metadata": {
        "id": "zQJWhvexoD60"
      },
      "outputs": [],
      "source": [
        "json_file = json.dumps(main_dict)"
      ]
    },
    {
      "cell_type": "code",
      "execution_count": null,
      "metadata": {
        "id": "uPfrahiFppb7"
      },
      "outputs": [],
      "source": [
        "file_path = '/content/drive/My Drive/Colab Notebooks/NH농협캐피탈/부서이동/부서이동.json'"
      ]
    },
    {
      "cell_type": "code",
      "execution_count": null,
      "metadata": {
        "id": "mZo8q2jgpgyt"
      },
      "outputs": [],
      "source": [
        "with open(file_path, 'w', encoding='utf-8-sig') as file:\n",
        "    file.write(json.dumps(main_dict, ensure_ascii=False))"
      ]
    },
    {
      "cell_type": "markdown",
      "metadata": {
        "id": "FXZnT-8ow7OR"
      },
      "source": [
        "filtering (근무부서코드에 따라 로직 변경요소 많음)"
      ]
    },
    {
      "cell_type": "code",
      "execution_count": null,
      "metadata": {
        "id": "USXIaWMAqsug"
      },
      "outputs": [],
      "source": [
        "# 필터링 조건 부여\n",
        "# 1. high에 속한 인원인데 본인 부서 추천했을 경우 해당목록 제외하고 4순위 가져오기\n",
        "# 2. 추천 부서에 지점이 있을 경우 거주지 정보 탐색해서 본인 거주지와 불일치, 가깝지 않을 경우 거주지에 맞추어 추천\n",
        "# \n",
        "predict_rank = []\n",
        "\n",
        "# High인 인원들은 현직급부서 제외\n",
        "for i in range(len(final_output)) : \n",
        "  rank_list = final_output[final_output.columns[2:51]].sort_values(by=i, axis=1, ascending=False).columns[0:3].tolist()\n",
        "  if final_output['부서이동 필요'][i] == 'High' : \n",
        "    if final_output['팀'][i] in rank_list : \n",
        "      rank_list.remove(final_output['팀'][i])\n",
        "      rank_list.append(final_output[final_output.columns[2:51]].sort_values(by=i, axis=1, ascending=False).columns[4])\n",
        "  predict_rank.append(rank_list)"
      ]
    },
    {
      "cell_type": "code",
      "execution_count": null,
      "metadata": {
        "id": "woRYjfq4bUUl"
      },
      "outputs": [],
      "source": [
        "sector_dict = {}\n",
        "\n",
        "sector_dict['평택지점'] = '경기'\n",
        "sector_dict['대전지점'] = ['대전', '세종', '충북']\n",
        "sector_dict['광주지점'] = '광주'\n",
        "\n",
        "sector_dict['서울1지점'] = ['서울', '경기']\n",
        "sector_dict['서울2지점'] = ['서울', '경기']\n",
        "sector_dict['인천지점'] = '인천'\n",
        "\n",
        "sector_dict['부산지점'] = '부산'\n",
        "sector_dict['대구지점'] = '대구'\n",
        "sector_dict['창원출장소'] = '경남'"
      ]
    },
    {
      "cell_type": "code",
      "execution_count": null,
      "metadata": {
        "id": "3kL-BEVEj_pa"
      },
      "outputs": [],
      "source": [
        "for i in range(len(predict_rank)) : # 추천 부서 읽기\n",
        "  for j in range(3) : # 부서 3개\n",
        "    if predict_rank[i][j] in list(sector_dict.keys()) : # 만약 추천 리스트에 지점이 있을 경우\n",
        "      if type(sector_dict[predict_rank[i][j]]) == str : # dictionary가 단일 문자일 경우\n",
        "        if sector_dict[predict_rank[i][j]] != final_output['거주지'][i] : # 지점 value값이 사는 거주지와 다를 경우\n",
        "          if final_output['거주지'][i] == '서울'  : \n",
        "            predict_rank[i][j] = '서울1지점'\n",
        "          elif final_output['거주지'][i] =='경기' : \n",
        "            predict_rank[i][j] == '평택지점'\n",
        "          elif final_output['거주지'][i] == '대전' or final_output['거주지'][i] == '세종' or final_output['거주지'][i] == '충북' : \n",
        "            predict_rank[i][j] = '대전지점' \n",
        "          else : \n",
        "            nearby = [k for k, v in sector_dict.items() if v == final_output['거주지'][i]] # 거주지 인근 지점 찾기\n",
        "            predict_rank[i][j] = nearby[0] # 거주지 인근 지점을 추천리스트로 대체\n",
        "      else : # dict가 list일 경우\n",
        "        if final_output['거주지'][i] not in sector_dict[predict_rank[i][j]] : \n",
        "          if final_output['거주지'][i] == '서울'  : \n",
        "            predict_rank[i][j] = '서울1지점'\n",
        "          elif final_output['거주지'][i] =='경기' : \n",
        "            predict_rank[i][j] == '평택지점'\n",
        "          elif final_output['거주지'][i] == '대전' or final_output['거주지'][i] == '세종' or final_output['거주지'][i] == '충북' : \n",
        "            predict_rank[i][j] = '대전지점' \n",
        "          else : \n",
        "            nearby = [k for k, v in sector_dict.items() if v == final_output['거주지'][i]] # 거주지 인근 지점 찾기\n",
        "            predict_rank[i][j] = nearby[0] # 거주지 인근 지점을 추천리스트로 대체"
      ]
    },
    {
      "cell_type": "code",
      "execution_count": null,
      "metadata": {
        "id": "SthMUiCttXU7"
      },
      "outputs": [],
      "source": [
        "for i in range(len(predict_rank)) : # 추천 부서 읽기\n",
        "  cnt = 0 # 추천된 부서 지점 개수 세기\n",
        "  for j in range(3) : \n",
        "    if predict_rank[i][j] in list(sector_dict.keys()) : \n",
        "      cnt+=1\n",
        "  \n",
        "  if cnt == 2 : # 추천 부서에 지점 개수가 2개인 경우\n",
        "    for j in range(2, -1, -1) : # predict_3부터 바꾸기\n",
        "      if predict_rank[i][j] in list(sector_dict.keys()) : # 지점이 포함되어 있으면 4번째 추천 부서를 가져오는데 기존 추천 리스트에 없고 and 지점이 아닐경우 \n",
        "        if final_output[final_output.columns[2:51]].sort_values(by=i, axis=1, ascending=False).columns[3] not in list(sector_dict.keys()) and final_output[final_output.columns[2:51]].sort_values(by=i, axis=1, ascending=False).columns[3] not in predict_rank[i] : \n",
        "          predict_rank[i][j] = final_output[final_output.columns[2:51]].sort_values(by=i, axis=1, ascending=False).columns[3]\n",
        "        else : # 기존 추천 리스트에 있거나 지점일 경우에는 5번째 추천 부서 가져오기 + 한번 더 걸러내서 6번째까지 추천\n",
        "          if final_output[final_output.columns[2:51]].sort_values(by=i, axis=1, ascending=False).columns[4] not in list(sector_dict.keys()) and final_output[final_output.columns[2:51]].sort_values(by=i, axis=1, ascending=False).columns[4] not in predict_rank[i] : \n",
        "            predict_rank[i][j] = final_output[final_output.columns[2:51]].sort_values(by=i, axis=1, ascending=False).columns[4]\n",
        "          else : \n",
        "            predict_rank[i][j] = final_output[final_output.columns[2:51]].sort_values(by=i, axis=1, ascending=False).columns[5]\n",
        "        break # 한번만 바꾸면 되기에 중단\n",
        "      \n",
        "  elif cnt == 3 : # 추천 부서에 지점 개수가 3개인 경우\n",
        "      if final_output[final_output.columns[2:51]].sort_values(by=i, axis=1, ascending=False).columns[3] not in list(sector_dict.keys()) and final_output[final_output.columns[2:51]].sort_values(by=i, axis=1, ascending=False).columns[3] not in predict_rank[i] : \n",
        "        predict_rank[i][2] = final_output[final_output.columns[2:51]].sort_values(by=i, axis=1, ascending=False).columns[3]\n",
        "      else : \n",
        "        predict_rank[i][2] = final_output[final_output.columns[2:51]].sort_values(by=i, axis=1, ascending=False).columns[4]\n",
        "      if final_output[final_output.columns[2:51]].sort_values(by=i, axis=1, ascending=False).columns[4] not in list(sector_dict.keys()) and final_output[final_output.columns[2:51]].sort_values(by=i, axis=1, ascending=False).columns[4] not in predict_rank[i] : \n",
        "        predict_rank[i][1] = final_output[final_output.columns[2:51]].sort_values(by=i, axis=1, ascending=False).columns[4]\n",
        "      else : \n",
        "        if final_output[final_output.columns[2:51]].sort_values(by=i, axis=1, ascending=False).columns[5] not in list(sector_dict.keys()) and final_output[final_output.columns[2:51]].sort_values(by=i, axis=1, ascending=False).columns[5] not in predict_rank[i] : \n",
        "          predict_rank[i][1] = final_output[final_output.columns[2:51]].sort_values(by=i, axis=1, ascending=False).columns[5]\n",
        "        else:  \n",
        "          predict_rank[i][1] = final_output[final_output.columns[2:51]].sort_values(by=i, axis=1, ascending=False).columns[6]"
      ]
    },
    {
      "cell_type": "code",
      "execution_count": null,
      "metadata": {
        "id": "B3Q3fv92ue-V"
      },
      "outputs": [],
      "source": [
        "final_output[['predict_1', 'predict_2', 'predict_3']] = predict_rank"
      ]
    },
    {
      "cell_type": "code",
      "execution_count": null,
      "metadata": {
        "colab": {
          "base_uri": "https://localhost:8080/"
        },
        "id": "9EsAg4C3ulsf",
        "outputId": "c19f8675-f29b-4959-8a62-32ca099b8623"
      },
      "outputs": [],
      "source": [
        "col_list = final_output.columns.tolist()\n",
        "new_col_list = col_list[0:1]+col_list[-3:]+col_list[1:-3]\n",
        "\n",
        "final_output = final_output[new_col_list]\n",
        "\n",
        "final_output.drop(final_output.columns[4:54].tolist(), axis=1, inplace=True)"
      ]
    },
    {
      "cell_type": "code",
      "execution_count": null,
      "metadata": {
        "colab": {
          "base_uri": "https://localhost:8080/"
        },
        "id": "RC3jzkEtQPE9",
        "outputId": "6c178e48-b238-4f85-d3b3-f2347d5cafe9"
      },
      "outputs": [],
      "source": [
        "final_output.replace({'직급' : ['업무지원역', '기획역']}, '기타', inplace=True)"
      ]
    },
    {
      "cell_type": "code",
      "execution_count": null,
      "metadata": {
        "id": "Z247G30OVcuZ"
      },
      "outputs": [],
      "source": [
        "# 수정 1116\n",
        "attrition = ['정희진', '박영민', '강도이', '박상완', '김봉식']\n",
        "attrition_idx = []\n",
        "for i in range(len(final_output)) : \n",
        " if final_output['성명'][i] in attrition : \n",
        "   attrition_idx.append(i)\n",
        "\n",
        "final_output.drop(attrition_idx, inplace=True)"
      ]
    },
    {
      "cell_type": "code",
      "execution_count": null,
      "metadata": {
        "id": "Z6RMhzmPCY7r"
      },
      "outputs": [],
      "source": [
        "final_output.to_csv('/content/drive/My Drive/Colab Notebooks/NH농협캐피탈/부서이동/output_부서이동.csv', encoding='utf-8-sig', index=False)"
      ]
    },
    {
      "cell_type": "markdown",
      "metadata": {
        "id": "k8Q8_RrKqJnH"
      },
      "source": [
        "feature_weight_1"
      ]
    },
    {
      "cell_type": "code",
      "execution_count": null,
      "metadata": {
        "colab": {
          "base_uri": "https://localhost:8080/"
        },
        "id": "ZBXzcTbtG88O",
        "outputId": "f7e04796-636b-4e55-a19b-2cf5572421d7"
      },
      "outputs": [],
      "source": [
        "shap_values_inf = explainer.shap_values(inf_x, check_additivity=False)"
      ]
    },
    {
      "cell_type": "code",
      "execution_count": null,
      "metadata": {
        "id": "ePOvMg0GK1Rt"
      },
      "outputs": [],
      "source": [
        "feature_weight_list = []\n",
        "\n",
        "for j in range(len(inf_x)) : \n",
        "  id = en_data['사번'][j]\n",
        "  for i in range(len(end_model.classes_)) : \n",
        "    classes = end_model.classes_[i]    \n",
        "    sum = np.absolute(shap_values_inf[i][j]).sum()\n",
        "    value_list = []\n",
        "    value_list.append(id)\n",
        "    value_list.append(classes)\n",
        "    for k in range(len(inf_x.columns)) :\n",
        "      if shap_values_inf[i][j][k] > 0 :\n",
        "        values = shap_values_inf[i][j][k] / sum\n",
        "        value_list.append(values)\n",
        "      else : \n",
        "        values = np.absolute(shap_values_inf[i][j][k]) / sum\n",
        "        value_list.append(values)\n",
        "    feature_weight_list.append(value_list)"
      ]
    },
    {
      "cell_type": "code",
      "execution_count": null,
      "metadata": {
        "colab": {
          "base_uri": "https://localhost:8080/"
        },
        "id": "Bt5yvMEOHazl",
        "outputId": "51cf5afb-17e8-452d-867c-8dae14513559"
      },
      "outputs": [],
      "source": [
        "feature_weight_columns = ['사번', 'classes']\n",
        "for name in inf_x.columns.tolist() : \n",
        "  feature_weight_columns.append(name)\n",
        "\n",
        "feature_weight = pd.DataFrame(feature_weight_list, columns = feature_weight_columns)\n",
        "\n",
        "for i in range(len(feature_weight)) : \n",
        "  for j in range(len(team_code)) : \n",
        "    if feature_weight['classes'][i] == team_code['코드'][j] : \n",
        "      feature_weight['classes'][i] = team_code['팀'][j]"
      ]
    },
    {
      "cell_type": "code",
      "execution_count": null,
      "metadata": {
        "id": "SYJw-TO9X7Q_"
      },
      "outputs": [],
      "source": [
        "code_feature = feature_weight.columns[16:114].tolist()\n",
        "for name in code_feature : \n",
        "  text = name.split('_', 1)\n",
        "  feature_weight.rename(columns={name : text[0]+\"_\"+team_code['팀'].loc[team_code['코드']==int(text[1])].reset_index(drop=True)[0]}, inplace=True)"
      ]
    },
    {
      "cell_type": "code",
      "execution_count": null,
      "metadata": {
        "id": "yU5l-vJhwbWg"
      },
      "outputs": [],
      "source": [
        "for name in team_code['팀'].tolist() : \n",
        "  if '역량_'+name in feature_weight.columns.tolist() : \n",
        "    # feature_weight[name] = feature_weight['팀_'+name] + feature_weight['역량_'+name] + feature_weight['업적_'+name] + feature_weight['근속년수_'+name]\n",
        "    feature_weight[name] = feature_weight['역량_'+name] + feature_weight['업적_'+name]"
      ]
    },
    {
      "cell_type": "code",
      "execution_count": null,
      "metadata": {
        "id": "F1_TpJOb33sh"
      },
      "outputs": [],
      "source": [
        "final_feature_weight = feature_weight.drop(feature_weight.columns[16:114].tolist(), axis=1)"
      ]
    },
    {
      "cell_type": "markdown",
      "metadata": {
        "id": "oMTUZYDLsTqy"
      },
      "source": [
        "feature_weight_2"
      ]
    },
    {
      "cell_type": "code",
      "execution_count": null,
      "metadata": {
        "colab": {
          "base_uri": "https://localhost:8080/"
        },
        "id": "s8xcnkslsYQ9",
        "outputId": "4d196a22-0460-490f-fb85-c24885b94260"
      },
      "outputs": [],
      "source": [
        "shap_values_inf_2 = explainer_2.shap_values(inf_x_2, check_additivity=False)"
      ]
    },
    {
      "cell_type": "code",
      "execution_count": null,
      "metadata": {
        "id": "3EyGr5m-sYQ9"
      },
      "outputs": [],
      "source": [
        "feature_weight_list_2 = []\n",
        "\n",
        "for j in range(len(inf_x_2)) : \n",
        "  id = core_data['사번'][j]\n",
        "  for i in range(len(end_model_2.classes_)) : \n",
        "    classes = end_model_2.classes_[i]    \n",
        "    sum = np.absolute(shap_values_inf_2[i][j]).sum()\n",
        "    value_list = []\n",
        "    value_list.append(id)\n",
        "    value_list.append(classes)\n",
        "    for k in range(len(inf_x_2.columns)) :\n",
        "      if shap_values_inf_2[i][j][k] > 0 :\n",
        "        values = shap_values_inf_2[i][j][k] / sum\n",
        "        value_list.append(values)\n",
        "      else : \n",
        "        values = np.absolute(shap_values_inf_2[i][j][k]) / sum\n",
        "        value_list.append(values)\n",
        "    feature_weight_list_2.append(value_list)"
      ]
    },
    {
      "cell_type": "code",
      "execution_count": null,
      "metadata": {
        "colab": {
          "base_uri": "https://localhost:8080/"
        },
        "id": "QOfDwUjRsYQ-",
        "outputId": "ca9e7df2-bb58-4a05-ddd8-957715ced1e7"
      },
      "outputs": [],
      "source": [
        "feature_weight_columns_2 = ['사번', 'classes']\n",
        "for name in inf_x_2.columns.tolist() : \n",
        "  feature_weight_columns_2.append(name)\n",
        "\n",
        "feature_weight_2 = pd.DataFrame(feature_weight_list_2, columns = feature_weight_columns_2)\n",
        "\n",
        "for i in range(len(feature_weight_2)) : \n",
        "  for j in range(len(team_code)) : \n",
        "    if feature_weight_2['classes'][i] == team_code['코드'][j] : \n",
        "      feature_weight_2['classes'][i] = team_code['팀'][j]"
      ]
    },
    {
      "cell_type": "code",
      "execution_count": null,
      "metadata": {
        "id": "tpqF-QhEsYQ-"
      },
      "outputs": [],
      "source": [
        "code_feature_2 = feature_weight_2.columns[16:114].tolist()\n",
        "for name in code_feature_2 : \n",
        "  text = name.split('_', 1)\n",
        "  feature_weight_2.rename(columns={name : text[0]+\"_\"+team_code['팀'].loc[team_code['코드']==int(text[1])].reset_index(drop=True)[0]}, inplace=True)"
      ]
    },
    {
      "cell_type": "code",
      "execution_count": null,
      "metadata": {
        "id": "Bs0XGGddsYQ-"
      },
      "outputs": [],
      "source": [
        "for name in team_code['팀'].tolist() : \n",
        "  if '역량_'+name in feature_weight_2.columns.tolist() : \n",
        "    # feature_weight_2[name] = feature_weight_2['팀_'+name] + feature_weight_2['역량_'+name] + feature_weight_2['업적_'+name] + feature_weight_2['근속년수_'+name]\n",
        "    feature_weight_2[name] = feature_weight_2['역량_'+name] + feature_weight_2['업적_'+name]"
      ]
    },
    {
      "cell_type": "code",
      "execution_count": null,
      "metadata": {
        "id": "1q-fumAfsYQ-"
      },
      "outputs": [],
      "source": [
        "final_feature_weight_2 = feature_weight_2.drop(feature_weight_2.columns[16:114].tolist(), axis=1)"
      ]
    },
    {
      "cell_type": "code",
      "execution_count": null,
      "metadata": {
        "id": "dycpvsR_t7ht"
      },
      "outputs": [],
      "source": [
        "final_feature_weight_f = pd.concat([final_feature_weight, final_feature_weight_2], axis=0)"
      ]
    },
    {
      "cell_type": "code",
      "execution_count": null,
      "metadata": {
        "id": "kQavyioQvvyr"
      },
      "outputs": [],
      "source": [
        "final_feature_weight_f.fillna(0, inplace=True)"
      ]
    },
    {
      "cell_type": "code",
      "execution_count": null,
      "metadata": {
        "id": "SUrkHkqNObu7"
      },
      "outputs": [],
      "source": [
        "final_feature_weight_f.to_csv('/content/drive/My Drive/Colab Notebooks/NH농협캐피탈/부서이동/feature_weight_부서이동.csv', encoding='utf-8-sig', index=False)"
      ]
    },
    {
      "cell_type": "code",
      "execution_count": null,
      "metadata": {
        "colab": {
          "base_uri": "https://localhost:8080/",
          "height": 109
        },
        "id": "LnIz4ZwqbY-C",
        "outputId": "d6dae06a-2c3e-4203-9ec1-c19bc85baf0c"
      },
      "outputs": [],
      "source": [
        "'''\n",
        "# 검증코드 / 대표님 보고용으로 제거해도 무방\n",
        "\n",
        "prove = pd.DataFrame(output['사번'])\n",
        "prove[output.columns.tolist()[2:42]] = output[output.columns.tolist()[2:42]]\n",
        "prove.drop(['사번'], axis=1, inplace=True)\n",
        "temp = pd.DataFrame(output['사번'])\n",
        "\n",
        "for i in range(len(prove.columns)) : \n",
        "  name = '%d순위' % i\n",
        "  temp[name] = 0\n",
        "\n",
        "for i in range(len(prove)) : \n",
        "  order = prove.iloc[i].sort_values(ascending=False).index.tolist()\n",
        "  for j in range(len(order)) : \n",
        "    name = '%d순위' % j\n",
        "    temp[name][i] = order[j]\n",
        "\n",
        "tempp = pd.DataFrame(output['사번'])\n",
        "for i in range(len(prove.columns)) : \n",
        "  name = '%d순위 확률' % i\n",
        "  tempp[name] = 0\n",
        "\n",
        "tempp.drop(['사번'], axis=1, inplace=True)\n",
        "\n",
        "aa = []\n",
        "\n",
        "for i in range(len(prove)) : \n",
        "  order = prove.iloc[i].sort_values(ascending=False).values.tolist()\n",
        "  aa.append(order)\n",
        "\n",
        "tt = pd.DataFrame(aa, columns=tempp.columns)\n",
        "\n",
        "temp[['15년12월', '16년12월', '17년12월', '18년12월', '19년12월', '20년12월', '21년12월', '팀']] = output[['15년12월', '16년12월', '17년12월', '18년12월', '19년12월', '20년12월', '21년12월', '팀']]\n",
        "\n",
        "ppp = pd.concat([temp, tt], axis=1)\n",
        "ppp.to_csv('/content/drive/My Drive/Colab Notebooks/NH농협캐피탈/부서이동/부서이동 검증.csv', encoding='utf-8-sig', index=False)\n",
        "'''"
      ]
    },
    {
      "cell_type": "code",
      "execution_count": null,
      "metadata": {
        "colab": {
          "base_uri": "https://localhost:8080/",
          "height": 659
        },
        "id": "LZFRTTbOXgUY",
        "outputId": "f1feffa3-e2a5-4972-a796-b47e18da4990"
      },
      "outputs": [],
      "source": [
        "final_output"
      ]
    },
    {
      "cell_type": "code",
      "execution_count": null,
      "metadata": {
        "colab": {
          "base_uri": "https://localhost:8080/"
        },
        "id": "skLG5m6o0Gl5",
        "outputId": "32b2b298-69ff-4744-904a-b28d9cb340f4"
      },
      "outputs": [],
      "source": [
        "qqqq = output[[\n",
        " '연령',\n",
        " '당사근속기간(개월)',\n",
        " '외부경력(개월)',\n",
        " '총경력(개월)',\n",
        " '직무관련자격증',\n",
        " '수상횟수', '동일부서 근무개월', '부서이동 필요', '긍정성', '적극성', '성실성', '사회성', '정체성', '관계성', '객관성', '비활성', '과활성', '역량 평균',\n",
        "       '영업', '연구/개발', 'IT서비스', '경영기획/지원', '생산/유통/품질', '홍보/마케팅', '서비스/고객지원',\n",
        "       '의료/보건', '건설 엔지니어', '금융/보험', '디자인', '공통', '역량_15년',\n",
        "       '역량_16년', '역량_17년', '역량_18년', '역량_19년', '역량_20년', '역량_21년', '역량_22년',\n",
        "       '업적_15년', '업적_16년', '업적_17년', '업적_18년', '업적_19년', '업적_20년', '업적_21년', '업적_22년']]\n",
        "\n",
        "team_name = ['경영전략팀', '경영지원팀', '재무팀', '업무혁신팀', 'IT통합지원실(정보보호반)',\n",
        "       'IT운영팀', 'IT개선팀', '리스크관리팀', '신용분석팀', '리스크검증팀', '리테일심사팀', '기업심사팀',\n",
        "       '여신관리기획팀', '여신관리팀', '여신관리지원팀', '기업금융1팀', '기업금융2팀', '기업금융3팀', '투자금융1팀',\n",
        "       '투자금융2팀', '기업금융기획팀', 'ESG추진팀', '글로벌사업팀', 'FLEET금융팀', '전략영업1팀', '전략영업2팀',\n",
        "       '리테일영업지원팀', '리테일기획팀', '오토기획팀', '오토자산운영팀', '서울1지점', '인천지점', '서울2지점',\n",
        "       '광주지점', '대전지점', '평택지점', '부산지점', '대구지점', '창원출장소', '디지털영업지원팀', '디지털영업기획팀',\n",
        "       '리테일다이렉트지점', '오토다이렉트지점', '디지털전략팀', '고객지원팀', '감사팀', '준법지원팀', '소비자보호팀']\n",
        "qqqq[team_name] = output[team_name]"
      ]
    },
    {
      "cell_type": "code",
      "execution_count": null,
      "metadata": {
        "colab": {
          "base_uri": "https://localhost:8080/"
        },
        "id": "9E42cbkg14js",
        "outputId": "a84ce436-a4cb-4ba1-8c98-f19f6aace500"
      },
      "outputs": [],
      "source": [
        "grade_list = ['역량_15년',\n",
        "       '역량_16년', '역량_17년', '역량_18년', '역량_19년', '역량_20년', '역량_21년', '역량_22년',\n",
        "       '업적_15년', '업적_16년', '업적_17년', '업적_18년', '업적_19년', '업적_20년', '업적_21년',\n",
        "       '업적_22년']\n",
        "\n",
        "for column in grade_list : \n",
        "  for i in range(len(qqqq)) : \n",
        "    if qqqq[column][i] == 'S' :\n",
        "      qqqq[column][i] = 5\n",
        "    elif qqqq[column][i] == 'A' :\n",
        "      qqqq[column][i] = 4\n",
        "    elif qqqq[column][i] == 'B' :\n",
        "      qqqq[column][i] = 3\n",
        "    elif qqqq[column][i] == 'C' :\n",
        "      qqqq[column][i] = 2\n",
        "    elif qqqq[column][i] == 'D' :\n",
        "      qqqq[column][i] = 1\n",
        "    else : \n",
        "      qqqq[column][i] = 0"
      ]
    },
    {
      "cell_type": "code",
      "execution_count": null,
      "metadata": {
        "colab": {
          "base_uri": "https://localhost:8080/"
        },
        "id": "4GnMWjPZ1lVF",
        "outputId": "8f3b4ab6-2c0a-4cc1-88ca-dd7eea062b0f"
      },
      "outputs": [],
      "source": [
        "qqqq.replace('Low', 3, inplace=True)\n",
        "qqqq.replace('Middle', 2, inplace=True)\n",
        "qqqq.replace('High', 1, inplace=True)"
      ]
    },
    {
      "cell_type": "code",
      "execution_count": null,
      "metadata": {
        "id": "g6h9sI6o1_gh"
      },
      "outputs": [],
      "source": [
        "ffff= qqqq.corr(method='pearson')"
      ]
    },
    {
      "cell_type": "code",
      "execution_count": null,
      "metadata": {
        "id": "Sb7276PmaJZK"
      },
      "outputs": [],
      "source": [
        "pppp = ffff[team_name]"
      ]
    },
    {
      "cell_type": "code",
      "execution_count": null,
      "metadata": {
        "colab": {
          "base_uri": "https://localhost:8080/"
        },
        "id": "_MxUazZrkFVb",
        "outputId": "8a5eaf71-2708-4adc-cb94-61ee1cc3f62a"
      },
      "outputs": [],
      "source": [
        "pppp.drop(team_name, axis=0, inplace=True)"
      ]
    },
    {
      "cell_type": "code",
      "execution_count": null,
      "metadata": {
        "colab": {
          "base_uri": "https://localhost:8080/"
        },
        "id": "xTfeKaeZ8DSj",
        "outputId": "d05a5fae-50d8-452d-9a48-f7475b3bd10d"
      },
      "outputs": [],
      "source": [
        "pppp.max().max()"
      ]
    },
    {
      "cell_type": "code",
      "execution_count": null,
      "metadata": {
        "colab": {
          "base_uri": "https://localhost:8080/",
          "height": 1000
        },
        "id": "lhhyTYyO5XXe",
        "outputId": "11ace60e-8cb9-4eff-8910-eb9c23d3323e"
      },
      "outputs": [],
      "source": [
        "# heatmap\n",
        "plt.rcParams[\"figure.figsize\"] = (20, 20)\n",
        "plt.rc('font', size=15)\n",
        "sns.heatmap(pppp,\n",
        "           annot = False, #실제 값 화면에 나타내기\n",
        "            fmt=\".2f\",\n",
        "           cmap = 'Greens', #색상\n",
        "           vmin = -0.4, vmax=0.4 , #컬러차트 영역 -1 ~ +1\n",
        "          )"
      ]
    },
    {
      "cell_type": "code",
      "execution_count": null,
      "metadata": {
        "colab": {
          "base_uri": "https://localhost:8080/",
          "height": 920
        },
        "id": "spfnWdONIrNd",
        "outputId": "9a6b53ae-78b1-42d5-da41-22c1395fabf3"
      },
      "outputs": [],
      "source": [
        "raw_data.loc[raw_data['팀']=='IT개선팀']"
      ]
    }
  ],
  "metadata": {
    "colab": {
      "provenance": []
    },
    "kernelspec": {
      "display_name": "Python 3",
      "name": "python3"
    },
    "language_info": {
      "name": "python"
    }
  },
  "nbformat": 4,
  "nbformat_minor": 0
}
