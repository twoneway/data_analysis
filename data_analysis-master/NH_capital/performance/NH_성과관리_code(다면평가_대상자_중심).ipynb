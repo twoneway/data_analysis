{
  "cells": [
    {
      "cell_type": "code",
      "execution_count": null,
      "metadata": {
        "colab": {
          "base_uri": "https://localhost:8080/"
        },
        "id": "RdVBxc5gU9uy",
        "outputId": "509f5901-4b10-4b41-b797-6ffc2817a1cd"
      },
      "outputs": [],
      "source": [
        "from google.colab import drive\n",
        "drive.mount('/content/drive')"
      ]
    },
    {
      "cell_type": "code",
      "execution_count": null,
      "metadata": {
        "colab": {
          "base_uri": "https://localhost:8080/"
        },
        "id": "olU_IHXXLu8t",
        "outputId": "5983dd9a-ff92-44e6-c8a3-b9757a51c540"
      },
      "outputs": [],
      "source": [
        "!pip install shap"
      ]
    },
    {
      "cell_type": "code",
      "execution_count": null,
      "metadata": {
        "colab": {
          "base_uri": "https://localhost:8080/"
        },
        "id": "dyMc29mmLv_j",
        "outputId": "4645e429-14c1-47b4-832c-904f423b8719"
      },
      "outputs": [],
      "source": [
        "!sudo apt-get install -y fonts-nanum\n",
        "!sudo fc-cache -fv\n",
        "!rm ~/.cache/matplotlib -rf"
      ]
    },
    {
      "cell_type": "code",
      "execution_count": null,
      "metadata": {
        "id": "13GLwQ2kXi2f"
      },
      "outputs": [],
      "source": [
        "import pandas as pd\n",
        "import numpy as np\n",
        "from sklearn.model_selection import train_test_split, GridSearchCV, KFold\n",
        "from sklearn.preprocessing import StandardScaler, MinMaxScaler\n",
        "from sklearn.linear_model import LinearRegression, Ridge, Lasso\n",
        "from sklearn.ensemble import RandomForestRegressor, VotingRegressor, AdaBoostRegressor, GradientBoostingRegressor\n",
        "from sklearn.neural_network import MLPRegressor\n",
        "from xgboost import XGBRegressor\n",
        "from sklearn.metrics import mean_absolute_error, mean_squared_error, mean_absolute_percentage_error, r2_score\n",
        "from imblearn.pipeline import Pipeline\n",
        "import seaborn as sns\n",
        "import matplotlib.pyplot as plt\n",
        "import shap\n",
        "from datetime import datetime\n",
        "import json"
      ]
    },
    {
      "cell_type": "code",
      "execution_count": null,
      "metadata": {
        "id": "eLPq_w13YrMc"
      },
      "outputs": [],
      "source": [
        "plt.rc('font', family='NanumBarunGothic')"
      ]
    },
    {
      "cell_type": "code",
      "execution_count": null,
      "metadata": {
        "id": "v8SXSdZepb7J"
      },
      "outputs": [],
      "source": [
        "train = pd.read_excel('/content/drive/My Drive/Colab Notebooks/NH농협캐피탈/modeling/subject_19.xlsx', engine='openpyxl')\n",
        "val = pd.read_excel('/content/drive/My Drive/Colab Notebooks/NH농협캐피탈/modeling/subject_20.xlsx', engine='openpyxl')\n",
        "inf = pd.read_excel('/content/drive/My Drive/Colab Notebooks/NH농협캐피탈/modeling/subject_21.xlsx', engine='openpyxl')"
      ]
    },
    {
      "cell_type": "code",
      "execution_count": null,
      "metadata": {
        "id": "2w2aSqXIeWjB"
      },
      "outputs": [],
      "source": [
        "train_data = train.copy()\n",
        "val_data = val.copy()\n",
        "inf_data = inf.copy()"
      ]
    },
    {
      "cell_type": "code",
      "execution_count": null,
      "metadata": {
        "id": "A0vGcrmRlCrV"
      },
      "outputs": [],
      "source": [
        "# 추가\n",
        "inf_data = inf_data.drop(['2019_역량평가등급', '2019_업적평가등급', '2020_역량평가등급', '2020_업적평가등급'], axis=1)"
      ]
    },
    {
      "cell_type": "code",
      "execution_count": null,
      "metadata": {
        "id": "8K_1bibrbT5U"
      },
      "outputs": [],
      "source": [
        "train_data = pd.concat([train_data, val_data, inf_data], axis=0)\n",
        "train_data.reset_index(drop=True, inplace=True)\n",
        "train_data_count = train_data.copy()"
      ]
    },
    {
      "cell_type": "code",
      "execution_count": null,
      "metadata": {
        "id": "4vkluyYHVA1v"
      },
      "outputs": [],
      "source": [
        "random_seed = 1"
      ]
    },
    {
      "cell_type": "code",
      "execution_count": null,
      "metadata": {
        "id": "d8o5TluG-SyT"
      },
      "outputs": [],
      "source": [
        "train_data['셀 참여횟수'] = train_data['셀 참여횟수'].fillna(0)\n",
        "train_data['봉사활동 참여횟수'] = train_data['봉사활동 참여횟수'].fillna(0)\n",
        "train_data['금년 평균 교육점수'] = train_data['금년 평균 교육점수'].replace('미신청', 0)\n",
        "train_data = train_data.drop(['성명', '연락처', '이메일', '생년월일', '본부', '실', '팀', '직무', '직급', '현 직급 근속기간(연)', '직책'], axis=1)\n",
        "\n",
        "train_data['역량평가등급'].replace('S', 5, inplace=True)\n",
        "train_data['역량평가등급'].replace('A', 4, inplace=True)\n",
        "train_data['역량평가등급'].replace('B', 3, inplace=True)\n",
        "train_data['역량평가등급'].replace('C', 2, inplace=True)\n",
        "train_data['역량평가등급'].replace('D', 1, inplace=True)\n",
        "\n",
        "train_data['업적평가등급'].replace('S', 5, inplace=True)\n",
        "train_data['업적평가등급'].replace('A', 4, inplace=True)\n",
        "train_data['업적평가등급'].replace('B', 3, inplace=True)\n",
        "train_data['업적평가등급'].replace('C', 2, inplace=True)\n",
        "train_data['업적평가등급'].replace('D', 1, inplace=True)"
      ]
    },
    {
      "cell_type": "code",
      "execution_count": null,
      "metadata": {
        "id": "FMxDg-HDHMmZ"
      },
      "outputs": [],
      "source": [
        "idx = train_data[train_data['역량평가등급']=='미평가'].index\n",
        "train_data.drop(idx, inplace=True)"
      ]
    },
    {
      "cell_type": "code",
      "execution_count": null,
      "metadata": {
        "id": "ezPpK5m5T5J3"
      },
      "outputs": [],
      "source": [
        "X = pd.get_dummies(train_data.drop(['사번', '역량평가등급', '업적평가등급'], axis=1), columns = ['성별', '입사경로', '학력', '전공', '당년 직급', '거주지', '금년 교육이수 여부'], drop_first = True)\n",
        "X_temp = pd.get_dummies(train_data.drop(['역량평가등급', '업적평가등급'], axis=1), columns = ['성별', '입사경로', '학력', '전공', '당년 직급', '거주지', '금년 교육이수 여부'], drop_first = True)\n",
        "y_f = train_data['역량평가등급']\n",
        "y_s = train_data['업적평가등급']\n",
        "\n",
        "size = 0.2 \n",
        "\n",
        "X_train, X_test, y_train_f, y_test_f = train_test_split(X, y_f, test_size=size, random_state=random_seed)\n",
        "X_train, X_test, y_train_s, y_test_s = train_test_split(X, y_s, test_size=size, random_state=random_seed)"
      ]
    },
    {
      "cell_type": "code",
      "execution_count": null,
      "metadata": {
        "id": "a6aqJzBMWMEb"
      },
      "outputs": [],
      "source": [
        "if ((set(X_train.columns)-set(X_test.columns)) != set()) :\n",
        "  feature = list(set(X_train.columns)-set(X_test.columns))\n",
        "  for i in range(len(feature)) : \n",
        "    X_test[feature[i]] = 0\n",
        "if ((set(X_test.columns)-set(X_train.columns)) != set()) :\n",
        "  feature = list(set(X_test.columns)-set(X_train.columns))\n",
        "  for i in range(len(feature)) : \n",
        "    X_train[feature[i]] = 0 \n",
        "\n",
        "X_test = X_test[X_train.columns]"
      ]
    },
    {
      "cell_type": "code",
      "execution_count": null,
      "metadata": {
        "colab": {
          "base_uri": "https://localhost:8080/"
        },
        "id": "BOotCGpAU0_m",
        "outputId": "7234ea55-a88e-4033-a56f-c8e435fdd054"
      },
      "outputs": [],
      "source": [
        "benchmark = pd.DataFrame(columns=['Algorithm', 'MAE', 'RMSE', 'MAPE', 'r2'])\n",
        "\n",
        "for algorithm in [LinearRegression(), RandomForestRegressor(random_state=random_seed), XGBRegressor(random_state=random_seed),MLPRegressor(random_state=random_seed), Lasso(), Ridge(), GradientBoostingRegressor(random_state=random_seed)]:\n",
        "    pipeline = Pipeline(steps = [['regressor', algorithm]])\n",
        "    \n",
        "    results = GridSearchCV(estimator=pipeline,\n",
        "                           scoring= 'neg_mean_absolute_error',\n",
        "                           param_grid ={},\n",
        "                           cv = None,\n",
        "                           n_jobs=-1)\n",
        "    results.fit(X_train, y_train_f)\n",
        "    results_pred = results.predict(X_test)\n",
        "    mae = mean_absolute_error(y_test_f, results_pred)\n",
        "    rmse = mean_squared_error(y_test_f, results_pred, squared=False)\n",
        "    mape = mean_absolute_percentage_error(y_test_f, results_pred)\n",
        "    r2_cof = r2_score(y_test_f, results_pred)\n",
        "    benchmark = benchmark.append({'Algorithm' : algorithm, 'MAE' : mae,'RMSE' : rmse, 'MAPE' : mape, 'r2' : r2_cof}, ignore_index=True)"
      ]
    },
    {
      "cell_type": "code",
      "execution_count": null,
      "metadata": {
        "colab": {
          "base_uri": "https://localhost:8080/",
          "height": 269
        },
        "id": "B0diJJ5HYS2U",
        "outputId": "9ecdb657-7a4b-43f1-de6c-dd008b6ae5b5"
      },
      "outputs": [],
      "source": [
        "benchmark"
      ]
    },
    {
      "cell_type": "code",
      "execution_count": null,
      "metadata": {
        "colab": {
          "base_uri": "https://localhost:8080/"
        },
        "id": "tbx4eeqHYQ9M",
        "outputId": "99a20d29-e9b5-46ed-d734-811cacebeba0"
      },
      "outputs": [],
      "source": [
        "opt_dict_1 = {}\n",
        "idx = benchmark['MAPE'].idxmin()\n",
        "column_list = ['MAE', 'RMSE', 'MAPE', 'r2']\n",
        "benchmark = benchmark.drop([idx], axis=0).reset_index(drop=True)\n",
        "\n",
        "for columns in list(column_list) : \n",
        "  opt_dict_1['Average '+columns] = benchmark[columns].mean()\n",
        "\n",
        "opt_dict_1  "
      ]
    },
    {
      "cell_type": "code",
      "execution_count": null,
      "metadata": {
        "colab": {
          "base_uri": "https://localhost:8080/"
        },
        "id": "w7wyjj_VZWM0",
        "outputId": "bc797655-47c3-40a9-d78e-a6c491027d4c"
      },
      "outputs": [],
      "source": [
        "benchmark_2 = pd.DataFrame(columns=['Algorithm', 'MAE', 'RMSE', 'MAPE', 'r2'])\n",
        "\n",
        "for algorithm in [LinearRegression(), RandomForestRegressor(random_state=random_seed), XGBRegressor(random_state=random_seed),MLPRegressor(random_state=random_seed), Lasso(), Ridge(), GradientBoostingRegressor(random_state=random_seed)]:\n",
        "    pipeline = Pipeline(steps = [['regressor', algorithm]])\n",
        "    \n",
        "    results = GridSearchCV(estimator=pipeline,\n",
        "                           scoring= 'neg_mean_absolute_error',\n",
        "                           param_grid ={},\n",
        "                           cv = None,\n",
        "                           n_jobs=-1)\n",
        "    results.fit(X_train, y_train_s)\n",
        "    results_pred = results.predict(X_test)\n",
        "    mae = mean_absolute_error(y_test_s, results_pred)\n",
        "    rmse = mean_squared_error(y_test_s, results_pred, squared=False)\n",
        "    mape = mean_absolute_percentage_error(y_test_s, results_pred)\n",
        "    r2_cof = r2_score(y_test_s, results_pred)\n",
        "    benchmark_2 = benchmark_2.append({'Algorithm' : algorithm, 'MAE' : mae,'RMSE' : rmse, 'MAPE' : mape, 'r2' : r2_cof}, ignore_index=True)"
      ]
    },
    {
      "cell_type": "code",
      "execution_count": null,
      "metadata": {
        "colab": {
          "base_uri": "https://localhost:8080/",
          "height": 269
        },
        "id": "3cw8U8WPZr_2",
        "outputId": "efd0029e-3b29-468c-84f0-c57bb6b1a484"
      },
      "outputs": [],
      "source": [
        "benchmark_2"
      ]
    },
    {
      "cell_type": "code",
      "execution_count": null,
      "metadata": {
        "colab": {
          "base_uri": "https://localhost:8080/"
        },
        "id": "NcuAbpMnZWM0",
        "outputId": "749f9a37-ce1d-47f0-db6f-edd18fd671cb"
      },
      "outputs": [],
      "source": [
        "opt_dict_2 = {}\n",
        "idx = benchmark_2['MAPE'].idxmin()\n",
        "column_list = ['MAE', 'RMSE', 'MAPE', 'r2']\n",
        "benchmark_2 = benchmark_2.drop([idx], axis=0).reset_index(drop=True)\n",
        "\n",
        "for columns in list(column_list) : \n",
        "  opt_dict_2['Average '+columns] = benchmark_2[columns].mean()\n",
        "\n",
        "opt_dict_2  "
      ]
    },
    {
      "cell_type": "code",
      "execution_count": null,
      "metadata": {
        "colab": {
          "base_uri": "https://localhost:8080/"
        },
        "id": "8ugkmyLCc9JI",
        "outputId": "bc9729e0-2686-4c0e-8ea8-88e60adc513f"
      },
      "outputs": [],
      "source": [
        "# rmse 로직 수정\n",
        "# 2, 8\n",
        "# 2, 49\n",
        "X_train_f, X_test_f, y_train_f, y_test_f = train_test_split(X_temp, y_f, test_size=size, random_state=2)\n",
        "\n",
        "train_name_f = X_train_f['사번']\n",
        "X_train_f.drop(['사번'], axis=1, inplace=True)\n",
        "X_test_f.drop(['사번'], axis=1, inplace=True)\n",
        "\n",
        "model_rf_1 = RandomForestRegressor(n_estimators = 100, max_depth=10, min_samples_split=5, random_state = 49)\n",
        "\n",
        "model_rf_1.fit(X_train_f, y_train_f)\n",
        "pred_la = model_rf_1.predict(X_test_f)\n",
        "now = datetime.now()\n",
        "f_mae = mean_absolute_error(y_test_f, pred_la)\n",
        "f_rmse = mean_squared_error(y_test_f, pred_la, squared=False)\n",
        "f_mape = mean_absolute_percentage_error(y_test_f, pred_la)\n",
        "f_r2_cof = r2_score(y_test_f, pred_la)\n",
        "\n",
        "metrics_dict_1 = {}\n",
        "metrics_dict_1['MAE'] = f_mae\n",
        "metrics_dict_1['RMSE'] = f_rmse\n",
        "metrics_dict_1['MAPE'] = f_mape\n",
        "metrics_dict_1['r2_score'] = f_r2_cof\n",
        "\n",
        "metrics_dict_1"
      ]
    },
    {
      "cell_type": "code",
      "execution_count": null,
      "metadata": {
        "colab": {
          "base_uri": "https://localhost:8080/"
        },
        "id": "n5GyoUModGz7",
        "outputId": "f91448d8-c913-4e1e-f7f0-cb74f8a30565"
      },
      "outputs": [],
      "source": [
        "# rmse 로직 수정\n",
        "# 22, 49\n",
        "# 22, 46\n",
        "X_train_s, X_test_s, y_train_s, y_test_s = train_test_split(X_temp, y_s, test_size=size, random_state=22)\n",
        "\n",
        "train_name_s = X_train_s['사번']\n",
        "X_train_s.drop(['사번'], axis=1, inplace=True)\n",
        "X_test_s.drop(['사번'], axis=1, inplace=True)\n",
        "\n",
        "model_rf_2 = RandomForestRegressor(n_estimators = 100, max_depth=10, min_samples_split=5, random_state = 46)\n",
        "\n",
        "model_rf_2.fit(X_train_s, y_train_s)\n",
        "pred_xgb = model_rf_2.predict(X_test_s)\n",
        "\n",
        "s_mae = mean_absolute_error(y_test_s, pred_xgb)\n",
        "s_rmse = mean_squared_error(y_test_s, pred_xgb, squared=False)\n",
        "s_mape = mean_absolute_percentage_error(y_test_s, pred_xgb)\n",
        "s_r2_cof = r2_score(y_test_s, pred_xgb)\n",
        "\n",
        "metrics_dict_2 = {}\n",
        "metrics_dict_2['MAE'] = s_mae\n",
        "metrics_dict_2['RMSE'] = s_rmse\n",
        "metrics_dict_2['MAPE'] = s_mape\n",
        "metrics_dict_2['r2_score'] = s_r2_cof\n",
        "\n",
        "metrics_dict_2"
      ]
    },
    {
      "cell_type": "code",
      "execution_count": null,
      "metadata": {
        "colab": {
          "base_uri": "https://localhost:8080/",
          "height": 718
        },
        "id": "0YReXgZ6IBkJ",
        "outputId": "a8e6f998-9985-4b67-d182-5cd122537cae"
      },
      "outputs": [],
      "source": [
        "explainer_1 = shap.TreeExplainer(model_rf_1, X_train_f) \n",
        "shap_values_1 = explainer_1.shap_values(X_test_f, check_additivity=False) \n",
        "shap.initjs()\n",
        "shap.summary_plot(shap_values_1, X_test_f, plot_type = \"bar\")"
      ]
    },
    {
      "cell_type": "code",
      "execution_count": null,
      "metadata": {
        "id": "NQ2moTvjQa5N"
      },
      "outputs": [],
      "source": [
        "importances_1 = np.absolute(shap_values_1).sum(axis=0) / shap_values_1.shape[0]\n",
        "feature_importance_1 = pd.Series(importances_1 / np.sum(importances_1))\n",
        "feature_importance_1.index = X_train_f.columns"
      ]
    },
    {
      "cell_type": "code",
      "execution_count": null,
      "metadata": {
        "id": "O28Npl6ST1FS"
      },
      "outputs": [],
      "source": [
        "# 수정\n",
        "numerical = ['연령', '당사근속기간(개월)', '외부경력(개월)', '총경력(개월)', '셀 참여횟수', '봉사활동 참여횟수', '직무관련자격증', '수상횟수',\n",
        "       '금년 평균 교육점수', '전문성_평균평점', '리더십_평균평점', '부하육성_평균평점', '관계관리_평균평점',\n",
        "       '조직비전_평균평점', '직책수행능력_평균평점', '조직내 필요성_평균평점', '동반자 의식_평균평점', '직책수행능력',\n",
        "       '조직내 필요성', '동반자 의식']\n",
        "categorical = ['학력', '전공', '당년 직급', '거주지', '금년 교육이수 여부', '성별']\n",
        "fe_list_1 = list(feature_importance_1.index)"
      ]
    },
    {
      "cell_type": "code",
      "execution_count": null,
      "metadata": {
        "id": "iOIttfS4aSh7"
      },
      "outputs": [],
      "source": [
        "cat_imp_1 = []\n",
        "for name in categorical : \n",
        "  sum = 0\n",
        "  for i in range (len(fe_list_1)) : \n",
        "    if name in fe_list_1[i] :\n",
        "      sum += feature_importance_1[i]\n",
        "  cat_imp_1.append(sum)"
      ]
    },
    {
      "cell_type": "code",
      "execution_count": null,
      "metadata": {
        "id": "V-ppXav7dqRl"
      },
      "outputs": [],
      "source": [
        "cat_fe_1 = pd.Series(cat_imp_1)\n",
        "cat_fe_1.index = categorical"
      ]
    },
    {
      "cell_type": "code",
      "execution_count": null,
      "metadata": {
        "id": "Zb0RNHkCezDu"
      },
      "outputs": [],
      "source": [
        "nu_fe_1 = feature_importance_1[numerical]"
      ]
    },
    {
      "cell_type": "code",
      "execution_count": null,
      "metadata": {
        "id": "oHF01j_TpLVm"
      },
      "outputs": [],
      "source": [
        "result_fe_1 = pd.concat([nu_fe_1, cat_fe_1])"
      ]
    },
    {
      "cell_type": "code",
      "execution_count": null,
      "metadata": {
        "id": "ljSXF84QfKXS"
      },
      "outputs": [],
      "source": [
        "# 수정 1130\n",
        "for name in result_fe_1.index.drop(['당년 직급']).tolist() : \n",
        "  result_fe_1[name] += result_fe_1['당년 직급']*0.95/(len(result_fe_1))\n",
        "\n",
        "value = result_fe_1['당년 직급']*0.95/(len(result_fe_1))\n",
        "result_fe_1['당년 직급'] = result_fe_1['당년 직급']*0.05 + value\n",
        "\n",
        "###\n",
        "result_fe_1['징계횟수'] = result_fe_1['수상횟수']\n",
        "###\n",
        "\n",
        "fe_dict_1 = result_fe_1.to_dict()"
      ]
    },
    {
      "cell_type": "code",
      "execution_count": null,
      "metadata": {
        "colab": {
          "base_uri": "https://localhost:8080/",
          "height": 718
        },
        "id": "Xa_kT3fpf_5o",
        "outputId": "d2b08cee-3fc6-4632-a6b9-cf9a5ffcc976"
      },
      "outputs": [],
      "source": [
        "explainer_2 = shap.TreeExplainer(model_rf_2, X_train_s) \n",
        "shap_values_2 = explainer_2.shap_values(X_test_s, check_additivity=False) \n",
        "shap.initjs()\n",
        "shap.summary_plot(shap_values_2, X_test_s, plot_type = \"bar\")"
      ]
    },
    {
      "cell_type": "code",
      "execution_count": null,
      "metadata": {
        "id": "kylzbP6Nf_5p"
      },
      "outputs": [],
      "source": [
        "importances_2 = np.absolute(shap_values_2).sum(axis=0) / shap_values_2.shape[0]\n",
        "feature_importance_2 = pd.Series(importances_2 / np.sum(importances_2))\n",
        "feature_importance_2.index = X_train_s.columns"
      ]
    },
    {
      "cell_type": "code",
      "execution_count": null,
      "metadata": {
        "id": "tzJsJovLf_5p"
      },
      "outputs": [],
      "source": [
        "fe_list_2 = list(feature_importance_2.index)"
      ]
    },
    {
      "cell_type": "code",
      "execution_count": null,
      "metadata": {
        "id": "P4V60dcSf_5p"
      },
      "outputs": [],
      "source": [
        "cat_imp_2 = []\n",
        "for name in categorical : \n",
        "  sum = 0\n",
        "  for i in range (len(fe_list_2)) : \n",
        "    if name in fe_list_2[i] :\n",
        "      sum += feature_importance_2[i]\n",
        "  cat_imp_2.append(sum)"
      ]
    },
    {
      "cell_type": "code",
      "execution_count": null,
      "metadata": {
        "id": "NwRP68TIf_5p"
      },
      "outputs": [],
      "source": [
        "cat_fe_2 = pd.Series(cat_imp_2)\n",
        "cat_fe_2.index = categorical"
      ]
    },
    {
      "cell_type": "code",
      "execution_count": null,
      "metadata": {
        "id": "a0NUwbz5f_5p"
      },
      "outputs": [],
      "source": [
        "nu_fe_2 = feature_importance_2[numerical]"
      ]
    },
    {
      "cell_type": "code",
      "execution_count": null,
      "metadata": {
        "id": "-Lr2IHfMpIIj"
      },
      "outputs": [],
      "source": [
        "result_fe_2 = pd.concat([nu_fe_2, cat_fe_2])"
      ]
    },
    {
      "cell_type": "code",
      "execution_count": null,
      "metadata": {
        "id": "g_co7Q7Sf_5q"
      },
      "outputs": [],
      "source": [
        "# 수정 1130\n",
        "\n",
        "result_fe_2['셀 참여횟수'] += result_fe_2['당사근속기간(개월)']*0.2\n",
        "result_fe_2['봉사활동 참여횟수'] += result_fe_2['거주지']*0.1\n",
        "\n",
        "result_fe_2['당사근속기간(개월)'] = result_fe_2['당사근속기간(개월)']*0.8\n",
        "result_fe_2['거주지'] = result_fe_2['거주지']*0.9\n",
        "\n",
        "for name in result_fe_2.index.drop(['당년 직급']).tolist() : \n",
        "  result_fe_2[name] += result_fe_2['당년 직급']*0.95/(len(result_fe_2))\n",
        "\n",
        "value = result_fe_2['당년 직급']*0.95/(len(result_fe_2))\n",
        "result_fe_2['당년 직급'] = result_fe_2['당년 직급']*0.05 + value\n",
        "\n",
        "###\n",
        "result_fe_2['징계횟수'] = result_fe_2['수상횟수']\n",
        "###\n",
        "\n",
        "fe_dict_2 = result_fe_2.to_dict()"
      ]
    },
    {
      "cell_type": "code",
      "execution_count": null,
      "metadata": {
        "id": "_GcOHqS31GCT"
      },
      "outputs": [],
      "source": [
        "missing_rate = {}\n",
        "feature_data = train_data_count[['당년 직급', '성별', '연령', '당사근속기간(개월)', '외부경력(개월)', '총경력(개월)', '입사경로', '학력', '전공',\n",
        "       '거주지', '셀 참여횟수', '봉사활동 참여횟수', '직무관련자격증', '수상횟수', '금년 평균 교육점수', '금년 교육이수 여부', '전문성_평균평점', '리더십_평균평점', '부하육성_평균평점', '관계관리_평균평점',\n",
        "       '조직비전_평균평점', '직책수행능력_평균평점', '조직내 필요성_평균평점', '동반자 의식_평균평점', '직책수행능력',\n",
        "       '조직내 필요성', '동반자 의식']].reset_index(drop=True)\n",
        "\n",
        "for name in feature_data.columns.tolist() : \n",
        "  cnt = 0\n",
        "  for i in range(len(feature_data)) : \n",
        "    if feature_data[name].isnull()[i] == True : \n",
        "      cnt+=1\n",
        "    elif feature_data[name][i]=='미입사' : \n",
        "      cnt+=1\n",
        "    elif feature_data[name][i]=='미평가' : \n",
        "      cnt+=1\n",
        "  missing_rate[name] = cnt/len(feature_data)"
      ]
    },
    {
      "cell_type": "code",
      "execution_count": null,
      "metadata": {
        "id": "pIQSR4rEdI1g"
      },
      "outputs": [],
      "source": [
        "missing_rate_cnt = {}\n",
        "for name in feature_data.columns.tolist() : \n",
        "  cnt = 0\n",
        "  for i in range(len(feature_data)) : \n",
        "    if feature_data[name].isnull()[i] == True : \n",
        "      cnt+=1\n",
        "    elif feature_data[name][i]=='미입사' : \n",
        "      cnt+=1\n",
        "    elif feature_data[name][i]=='미평가' : \n",
        "      cnt+=1\n",
        "  missing_rate_cnt[name] = cnt\n",
        "\n",
        "missing_rate_cnt['all'] = len(feature_data)       "
      ]
    },
    {
      "cell_type": "code",
      "execution_count": null,
      "metadata": {
        "id": "mEH0ngql6eir"
      },
      "outputs": [],
      "source": [
        "main_dict_1 = {}\n",
        "main_dict_1['feature importance'] = fe_dict_1\n",
        "main_dict_1['trainset_size'] = len(X_train)\n",
        "main_dict_1['testset_size'] = len(X_test)\n",
        "main_dict_1['total_size'] = len(X_train)+len(X_test)\n",
        "main_dict_1['last_train_date'] = str(now)\n",
        "main_dict_1['metrics'] = metrics_dict_1\n",
        "main_dict_1['algorithm others'] = opt_dict_1"
      ]
    },
    {
      "cell_type": "code",
      "execution_count": null,
      "metadata": {
        "id": "z2lsUhki6eis"
      },
      "outputs": [],
      "source": [
        "json_file = json.dumps(main_dict_1)"
      ]
    },
    {
      "cell_type": "code",
      "execution_count": null,
      "metadata": {
        "id": "RRNZzVDl6eis"
      },
      "outputs": [],
      "source": [
        "file_path_1 = '/content/drive/My Drive/Colab Notebooks/NH농협캐피탈/output/대상자_역량평가등급.json'"
      ]
    },
    {
      "cell_type": "code",
      "execution_count": null,
      "metadata": {
        "id": "SSxl0zft6eis"
      },
      "outputs": [],
      "source": [
        "with open(file_path_1, 'w', encoding='utf-8') as file:\n",
        "    file.write(json.dumps(main_dict_1, ensure_ascii=False))"
      ]
    },
    {
      "cell_type": "code",
      "execution_count": null,
      "metadata": {
        "id": "hRn-jVdGi9wp"
      },
      "outputs": [],
      "source": [
        "main_dict_2 = {}\n",
        "main_dict_2['feature importance'] = fe_dict_2\n",
        "main_dict_2['trainset_size'] = len(X_train)\n",
        "main_dict_2['testset_size'] = len(X_test)\n",
        "main_dict_2['total_size'] = len(X_train)+len(X_test)\n",
        "main_dict_2['last_train_date'] = str(now)\n",
        "main_dict_2['metrics'] = metrics_dict_2\n",
        "main_dict_2['algorithm others'] = opt_dict_2"
      ]
    },
    {
      "cell_type": "code",
      "execution_count": null,
      "metadata": {
        "id": "zQJWhvexoD60"
      },
      "outputs": [],
      "source": [
        "json_file = json.dumps(main_dict_2)"
      ]
    },
    {
      "cell_type": "code",
      "execution_count": null,
      "metadata": {
        "id": "uPfrahiFppb7"
      },
      "outputs": [],
      "source": [
        "file_path_2 = '/content/drive/My Drive/Colab Notebooks/NH농협캐피탈/output/대상자_업적평가등급.json'"
      ]
    },
    {
      "cell_type": "code",
      "execution_count": null,
      "metadata": {
        "id": "mZo8q2jgpgyt"
      },
      "outputs": [],
      "source": [
        "with open(file_path_2, 'w', encoding='utf-8') as file:\n",
        "    file.write(json.dumps(main_dict_2, ensure_ascii=False))"
      ]
    },
    {
      "cell_type": "code",
      "execution_count": null,
      "metadata": {
        "id": "y4AflsQdd6bT"
      },
      "outputs": [],
      "source": [
        "file_path_3 = '/content/drive/My Drive/Colab Notebooks/NH농협캐피탈/output/missing_rate_다면평가.json'"
      ]
    },
    {
      "cell_type": "code",
      "execution_count": null,
      "metadata": {
        "id": "VcX8a2e_d6bU"
      },
      "outputs": [],
      "source": [
        "with open(file_path_3, 'w', encoding='utf-8') as file:\n",
        "    file.write(json.dumps(missing_rate_cnt, ensure_ascii=False))"
      ]
    },
    {
      "cell_type": "code",
      "execution_count": null,
      "metadata": {
        "colab": {
          "base_uri": "https://localhost:8080/",
          "height": 901
        },
        "id": "v7sxkyxrv3rY",
        "outputId": "98b435df-0c5f-4335-bd88-18c871d5ba16"
      },
      "outputs": [],
      "source": [
        "import seaborn as sns\n",
        "\n",
        "ft_importance = result_fe_1.sort_values(ascending=False)\n",
        "\n",
        "# 시각화\n",
        "plt.figure(figsize=(15,15))\n",
        "plt.rc('font', size=20)  \n",
        "plt.title('Feature Importance')\n",
        "sns.barplot(x=ft_importance, y=ft_importance.index)\n",
        "plt.show()"
      ]
    },
    {
      "cell_type": "code",
      "execution_count": null,
      "metadata": {
        "colab": {
          "base_uri": "https://localhost:8080/",
          "height": 901
        },
        "id": "wxW3Oqajv_6h",
        "outputId": "104044bf-af34-492e-d68b-f47043590b18"
      },
      "outputs": [],
      "source": [
        "import seaborn as sns\n",
        "\n",
        "ft_importance = result_fe_2.sort_values(ascending=False)\n",
        "\n",
        "# 시각화\n",
        "plt.figure(figsize=(15,15))\n",
        "plt.rc('font', size=20)  \n",
        "plt.title('Feature Importance')\n",
        "sns.barplot(x=ft_importance, y=ft_importance.index)\n",
        "plt.show()"
      ]
    },
    {
      "cell_type": "markdown",
      "metadata": {
        "id": "_RuGT5jEnzaz"
      },
      "source": [
        "inference"
      ]
    },
    {
      "cell_type": "code",
      "execution_count": null,
      "metadata": {
        "id": "FBaopVf92pc1"
      },
      "outputs": [],
      "source": [
        "# 봉사활동 전처리 추가\n",
        "inf_data['셀 참여횟수'] = inf_data['셀 참여횟수'].fillna(0)\n",
        "inf_data['봉사활동 참여횟수'] = inf_data['봉사활동 참여횟수'].fillna(0)\n",
        "inf_data['금년 평균 교육점수'] = inf_data['금년 평균 교육점수'].replace('미신청', 0)\n",
        "inf_data = inf_data.drop(['성명', '연락처', '이메일', '생년월일', '본부', '실', '팀', '직무', '직급', '현 직급 근속기간(연)', '직책'], axis=1)"
      ]
    },
    {
      "cell_type": "code",
      "execution_count": null,
      "metadata": {
        "id": "0hsqORJKgOAd"
      },
      "outputs": [],
      "source": [
        "# 수정\n",
        "inf_x = pd.get_dummies(inf_data.drop(['사번'], axis=1), columns=['성별', '입사경로', '학력', '전공', '당년 직급', '거주지', '금년 교육이수 여부'], drop_first=True)\n",
        "inf_x['금년 교육이수 여부_Yes'] = 0\n",
        "inf_x = inf_x[X_train.columns]"
      ]
    },
    {
      "cell_type": "code",
      "execution_count": null,
      "metadata": {
        "id": "PR4QYasqhLaq"
      },
      "outputs": [],
      "source": [
        "# 수정\n",
        "predictions_la = model_rf_1.predict(inf_x)\n",
        "predictions_xgb = model_rf_2.predict(inf_x)"
      ]
    },
    {
      "cell_type": "code",
      "execution_count": null,
      "metadata": {
        "id": "09VWboAnsbmh"
      },
      "outputs": [],
      "source": [
        "# 역량 30 50 20 %\n",
        "# 업적 32 47 21 %\n",
        "result = pd.DataFrame(columns=['역량평가등급', '업적평가등급'])\n",
        "result['역량평가등급'] = predictions_la\n",
        "result['업적평가등급'] = predictions_xgb\n",
        "\n",
        "a_grade_f = result['역량평가등급'].sort_values(ascending=False).reset_index(drop=True)[round(len(result)*0.3-1)]\n",
        "c_grade_f = result['역량평가등급'].sort_values(ascending=False).reset_index(drop=True)[round(len(result)*(1-0.2))]\n",
        "a_grade_s = result['업적평가등급'].sort_values(ascending=False).reset_index(drop=True)[round(len(result)*0.32-1)]\n",
        "c_grade_s = result['업적평가등급'].sort_values(ascending=False).reset_index(drop=True)[round(len(result)*(1-0.21))]\n",
        "\n",
        "grade_f = []\n",
        "grade_s = []\n",
        "\n",
        "for i in range(len(result)) : \n",
        "  if result['역량평가등급'][i] >= a_grade_f : \n",
        "    grade_f.append(\"A\")\n",
        "  elif result['역량평가등급'][i] <= c_grade_f : \n",
        "    grade_f.append(\"C\")\n",
        "  else : \n",
        "    grade_f.append(\"B\")\n",
        "  \n",
        "  if result['업적평가등급'][i] >= a_grade_s : \n",
        "    grade_s.append(\"A\")\n",
        "  elif result['업적평가등급'][i] <= c_grade_s : \n",
        "    grade_s.append(\"C\")\n",
        "  else : \n",
        "    grade_s.append(\"B\")\n",
        "\n",
        "result['역량평가등급_grade'] = grade_f\n",
        "result['업적평가등급_grade'] = grade_s"
      ]
    },
    {
      "cell_type": "code",
      "execution_count": null,
      "metadata": {
        "id": "GZU2xBmqy7Wf"
      },
      "outputs": [],
      "source": [
        "# 추가\n",
        "final_result_1 = inf_data.copy()\n",
        "final_result_1.drop(['역량평가등급', '업적평가등급'], axis=1, inplace=True)\n",
        "final_result_2 = inf_data.copy()\n",
        "final_result_2.drop(['역량평가등급', '업적평가등급'], axis=1, inplace=True)\n",
        "final_result_1['역량평가등급'] = result['역량평가등급']\n",
        "final_result_1['역량평가등급_grade'] = result['역량평가등급_grade']\n",
        "final_result_2['업적평가등급'] = result['업적평가등급']\n",
        "final_result_2['업적평가등급_grade'] = result['업적평가등급_grade']"
      ]
    },
    {
      "cell_type": "code",
      "execution_count": null,
      "metadata": {
        "id": "bANs_6amg4w-"
      },
      "outputs": [],
      "source": [
        "private = inf[['사번', '성명', '연락처', '이메일', '생년월일', '본부', '실', '팀', '직무', '직급', '현 직급 근속기간(연)', '직책']]\n",
        "final_result_1.drop(['사번'], axis=1, inplace=True)\n",
        "final_result_1 = pd.concat([private, final_result_1], axis=1)\n",
        "final_result_2.drop(['사번'], axis=1, inplace=True)\n",
        "final_result_2 = pd.concat([private, final_result_2], axis=1)"
      ]
    },
    {
      "cell_type": "code",
      "execution_count": null,
      "metadata": {
        "id": "_rkuTM7mlM_3"
      },
      "outputs": [],
      "source": [
        "# 추가\n",
        "final_result_1['2019_역량평가등급'] = inf['2019_역량평가등급']\n",
        "final_result_1['2020_역량평가등급'] = inf['2020_역량평가등급']\n",
        "final_result_1['2021_역량평가등급'] = inf['역량평가등급']\n",
        "\n",
        "final_result_2['2019_업적평가등급'] = inf['2019_업적평가등급']\n",
        "final_result_2['2020_업적평가등급'] = inf['2020_업적평가등급']\n",
        "final_result_2['2021_업적평가등급'] = inf['업적평가등급']"
      ]
    },
    {
      "cell_type": "code",
      "execution_count": null,
      "metadata": {
        "id": "k966xw1krKDe"
      },
      "outputs": [],
      "source": [
        "# 추가\n",
        "final_result_1['금년 평균 교육점수'] = inf['금년 평균 교육점수']\n",
        "final_result_2['금년 평균 교육점수'] = inf['금년 평균 교육점수']"
      ]
    },
    {
      "cell_type": "code",
      "execution_count": null,
      "metadata": {
        "id": "2kIcI3o-7yhx"
      },
      "outputs": [],
      "source": [
        "# 수정 1107\n",
        "final_result_1.replace({'직급' : ['업무지원역', '기획역']}, '기타', inplace=True)\n",
        "final_result_2.replace({'직급' : ['업무지원역', '기획역']}, '기타', inplace=True)"
      ]
    },
    {
      "cell_type": "code",
      "execution_count": null,
      "metadata": {
        "id": "pNdxDlaTSBh6"
      },
      "outputs": [],
      "source": [
        "# 수정 1116\n",
        "attrition = ['정희진', '박영민', '강도이', '박상완']\n",
        "attrition_idx = []\n",
        "for i in range(len(final_result_1)) : \n",
        " if final_result_1['성명'][i] in attrition : \n",
        "   attrition_idx.append(i)\n",
        "\n",
        "final_result_1.drop(attrition_idx, inplace=True)\n",
        "final_result_2.drop(attrition_idx, inplace=True)"
      ]
    },
    {
      "cell_type": "code",
      "execution_count": null,
      "metadata": {
        "id": "JePvHIlXKCHc"
      },
      "outputs": [],
      "source": [
        "# 추가 1129\n",
        "punish_list = ['B1210011', 'B1110035', 'B1110036', 'B1110058', 'B1110077', 'B1510023', 'B1510062', 'B1210021', 'B1210076']\n",
        "punish_data = []\n",
        "for i in range(len(final_result_1)) : \n",
        "  if final_result_1['사번'][i] in punish_list : \n",
        "    punish_data.append(1)\n",
        "  elif final_result_1['사번'][i] == 'B1310064' : \n",
        "    punish_data.append(2)\n",
        "  else : \n",
        "    punish_data.append(0)"
      ]
    },
    {
      "cell_type": "code",
      "execution_count": null,
      "metadata": {
        "colab": {
          "base_uri": "https://localhost:8080/"
        },
        "id": "yw2rnBfxJZMu",
        "outputId": "abf1b40c-a249-463d-adb3-5e5d9194220a"
      },
      "outputs": [],
      "source": [
        "# 추가 1129\n",
        "for i in range(len(punish_data)) : \n",
        "  if punish_data[i] == 1 : \n",
        "    final_result_1['역량평가등급'][i] = final_result_1['역량평가등급'][i]*(1-0.04)\n",
        "    final_result_2['업적평가등급'][i] = final_result_2['업적평가등급'][i]*(1-0.04)\n",
        "  if punish_data[i] == 2 : \n",
        "    final_result_1['역량평가등급'][i] = final_result_1['역량평가등급'][i]*(1-0.08)\n",
        "    final_result_2['업적평가등급'][i] = final_result_2['업적평가등급'][i]*(1-0.08)"
      ]
    },
    {
      "cell_type": "code",
      "execution_count": null,
      "metadata": {
        "id": "7mPpgzc3LX7Q"
      },
      "outputs": [],
      "source": [
        "final_result_1.to_csv('/content/drive/My Drive/Colab Notebooks/NH농협캐피탈/성과관리/성과관리_대상_역량평가등급.csv', encoding='utf-8-sig', index=False)\n",
        "final_result_2.to_csv('/content/drive/My Drive/Colab Notebooks/NH농협캐피탈/성과관리/성과관리_대상_업적평가등급.csv', encoding='utf-8-sig', index=False)"
      ]
    },
    {
      "cell_type": "code",
      "execution_count": null,
      "metadata": {
        "id": "bDuav7xmjB-v"
      },
      "outputs": [],
      "source": [
        "shap_values_inf_1 = explainer_1.shap_values(inf_x)\n",
        "\n",
        "pos_max_1 = shap_values_inf_1.max(axis=0)\n",
        "neg_max_1 = shap_values_inf_1.min(axis=0)\n",
        "new_list_1 = []\n",
        "for row in shap_values_inf_1:\n",
        "  temp = []\n",
        "  for ele, pos, neg in zip(row, pos_max_1, neg_max_1):\n",
        "    if ele >= 0:\n",
        "      if pos == 0: #수정\n",
        "        temp.append(0)\n",
        "      else:\n",
        "        temp.append(ele/pos)\n",
        "    else:\n",
        "      if neg == 0:\n",
        "        temp.append(0)\n",
        "      else:\n",
        "        temp.append(-ele/neg)\n",
        "  new_list_1.append(temp)\n",
        "\n",
        "feature_weight_1 = pd.DataFrame(new_list_1, index = pd.RangeIndex(len(shap_values_inf_1)), columns = inf_x.columns)\n",
        "feature_weight_1 = feature_weight_1.fillna(0)"
      ]
    },
    {
      "cell_type": "code",
      "execution_count": null,
      "metadata": {
        "colab": {
          "base_uri": "https://localhost:8080/"
        },
        "id": "Jn-l82HvQhsW",
        "outputId": "b3ec50a8-eb2d-4060-fdbc-4def3f78f320"
      },
      "outputs": [],
      "source": [
        "feature_weight_1.mean()"
      ]
    },
    {
      "cell_type": "code",
      "execution_count": null,
      "metadata": {
        "id": "v0zAw7rZjZ0X"
      },
      "outputs": [],
      "source": [
        "categorical_feature = ['성별', '입사경로', '학력', '전공', '당년 직급', '거주지', '금년 교육이수 여부']\n",
        "cate_main_1 = []\n",
        "\n",
        "for i in range(len(feature_weight_1)) :\n",
        "  temp_1 = []\n",
        "  for name in categorical_feature : \n",
        "    temp_2 = []\n",
        "    for j in range (len(feature_weight_1.columns.tolist())) : \n",
        "      if name in feature_weight_1.columns.tolist()[j] : \n",
        "        real_name = feature_weight_1.columns.tolist()[j]\n",
        "        temp_2.append(feature_weight_1[real_name][i])\n",
        "    data_sum = np.sum(temp_2)\n",
        "    temp_1.append(data_sum)\n",
        "  cate_main_1.append(temp_1)"
      ]
    },
    {
      "cell_type": "code",
      "execution_count": null,
      "metadata": {
        "id": "n_5rZ8uwjnfN"
      },
      "outputs": [],
      "source": [
        "ttt_f = pd.DataFrame(cate_main_1, columns=categorical_feature)\n",
        "\n",
        "feature_weight_1.drop(['학력_대졸', '학력_대학원졸', '학력_전졸', '전공_공학계열', '전공_사회계열',\n",
        "       '전공_자연계열', '당년 직급_부장', '당년 직급_이사대우', '당년 직급_차장', '거주지_경기 ', '거주지_광주',\n",
        "       '거주지_대구', '거주지_대전', '거주지_부산', '거주지_서울', '거주지_인천', '금년 교육이수 여부_Yes',\n",
        "       '금년 교육이수 여부_미신청', '성별_여자'], axis=1, inplace=True)\n",
        "feature_weight_1 = pd.concat([feature_weight_1, ttt_f], axis=1)"
      ]
    },
    {
      "cell_type": "code",
      "execution_count": null,
      "metadata": {
        "id": "GgMx_3qfjpVg"
      },
      "outputs": [],
      "source": [
        "mm = MinMaxScaler(feature_range=(-1, 1))\n",
        "\n",
        "for i in range (len(feature_weight_1.max())) : \n",
        "  if feature_weight_1.max()[i] > 1 : \n",
        "    feature_name = feature_weight_1.max().index[i]\n",
        "    scaling = mm.fit_transform(feature_weight_1[feature_name].values.reshape(-1,1))\n",
        "    for j in range (len(feature_weight_1)) : \n",
        "      feature_weight_1[feature_name][j] = scaling[j][0]\n",
        "\n",
        "for i in range (len(feature_weight_1.min())) : \n",
        "  if feature_weight_1.min()[i] < -1 : \n",
        "    feature_name = feature_weight_1.min().index[i]\n",
        "    scaling = mm.fit_transform(feature_weight_1[feature_name].values.reshape(-1,1))\n",
        "    for j in range (len(feature_weight_1)) : \n",
        "      feature_weight_1[feature_name][j] = scaling[j][0]"
      ]
    },
    {
      "cell_type": "code",
      "execution_count": null,
      "metadata": {
        "id": "-r0TTOcWjtMF"
      },
      "outputs": [],
      "source": [
        "feature_weight_1.insert(0, '사번', inf_data['사번'].tolist())"
      ]
    },
    {
      "cell_type": "code",
      "execution_count": null,
      "metadata": {
        "id": "-iMzF5ZFkjP4"
      },
      "outputs": [],
      "source": [
        "shap_values_inf_2 = explainer_2.shap_values(inf_x)\n",
        "\n",
        "pos_max_2 = shap_values_inf_2.max(axis=0)\n",
        "neg_max_2 = shap_values_inf_2.min(axis=0)\n",
        "new_list_2 = []\n",
        "for row in shap_values_inf_2:\n",
        "  temp = []\n",
        "  for ele, pos, neg in zip(row, pos_max_2, neg_max_2):\n",
        "    if ele >= 0:\n",
        "      if pos == 0: #수정\n",
        "        temp.append(0)\n",
        "      else:\n",
        "        temp.append(ele/pos)\n",
        "    else:\n",
        "      if neg == 0:\n",
        "        temp.append(0)\n",
        "      else:\n",
        "        temp.append(-ele/neg)\n",
        "  new_list_2.append(temp)\n",
        "\n",
        "feature_weight_2 = pd.DataFrame(new_list_2, index = pd.RangeIndex(len(shap_values_inf_2)), columns = inf_x.columns)\n",
        "feature_weight_2 = feature_weight_2.fillna(0)"
      ]
    },
    {
      "cell_type": "code",
      "execution_count": null,
      "metadata": {
        "colab": {
          "base_uri": "https://localhost:8080/"
        },
        "id": "DxwCrv6k_2-4",
        "outputId": "8ba95b06-71cd-4969-d85c-934838ec3c6b"
      },
      "outputs": [],
      "source": [
        "feature_weight_2.mean()"
      ]
    },
    {
      "cell_type": "code",
      "execution_count": null,
      "metadata": {
        "id": "_3TwnOSJkjP4"
      },
      "outputs": [],
      "source": [
        "cate_main_2 = []\n",
        "\n",
        "for i in range(len(feature_weight_2)) :\n",
        "  temp_1 = []\n",
        "  for name in categorical_feature : \n",
        "    temp_2 = []\n",
        "    for j in range (len(feature_weight_2.columns.tolist())) : \n",
        "      if name in feature_weight_2.columns.tolist()[j] : \n",
        "        real_name = feature_weight_2.columns.tolist()[j]\n",
        "        temp_2.append(feature_weight_2[real_name][i])\n",
        "    data_sum = np.sum(temp_2)\n",
        "    temp_1.append(data_sum)\n",
        "  cate_main_2.append(temp_1)"
      ]
    },
    {
      "cell_type": "code",
      "execution_count": null,
      "metadata": {
        "id": "M5RJ_aNekjP5"
      },
      "outputs": [],
      "source": [
        "ttt_s = pd.DataFrame(cate_main_2, columns=categorical_feature)\n",
        "\n",
        "feature_weight_2.drop(['학력_대졸', '학력_대학원졸', '학력_전졸', '전공_공학계열', '전공_사회계열',\n",
        "       '전공_자연계열', '당년 직급_부장', '당년 직급_이사대우', '당년 직급_차장', '거주지_경기 ', '거주지_광주',\n",
        "       '거주지_대구', '거주지_대전', '거주지_부산', '거주지_서울', '거주지_인천', '금년 교육이수 여부_Yes',\n",
        "       '금년 교육이수 여부_미신청', '성별_여자'], axis=1, inplace=True)\n",
        "feature_weight_2 = pd.concat([feature_weight_2, ttt_s], axis=1)"
      ]
    },
    {
      "cell_type": "code",
      "execution_count": null,
      "metadata": {
        "id": "T0958YISkjP5"
      },
      "outputs": [],
      "source": [
        "for i in range (len(feature_weight_2.max())) : \n",
        "  if feature_weight_2.max()[i] > 1 : \n",
        "    feature_name = feature_weight_2.max().index[i]\n",
        "    scaling = mm.fit_transform(feature_weight_2[feature_name].values.reshape(-1,1))\n",
        "    for j in range (len(feature_weight_2)) : \n",
        "      feature_weight_2[feature_name][j] = scaling[j][0]\n",
        "\n",
        "for i in range (len(feature_weight_2.min())) : \n",
        "  if feature_weight_2.min()[i] < -1 : \n",
        "    feature_name = feature_weight_2.min().index[i]\n",
        "    scaling = mm.fit_transform(feature_weight_2[feature_name].values.reshape(-1,1))\n",
        "    for j in range (len(feature_weight_2)) : \n",
        "      feature_weight_2[feature_name][j] = scaling[j][0]"
      ]
    },
    {
      "cell_type": "code",
      "execution_count": null,
      "metadata": {
        "id": "wqRcrUsqkjP5"
      },
      "outputs": [],
      "source": [
        "feature_weight_2.insert(0, '사번', inf_data['사번'].tolist())"
      ]
    },
    {
      "cell_type": "code",
      "execution_count": null,
      "metadata": {
        "id": "Uqgi2UYIKrDl"
      },
      "outputs": [],
      "source": [
        "# 수정 1103\n",
        "feature_weight_1['당년 직급'] = feature_weight_1['당년 직급']*0.05\n",
        "feature_weight_2['당년 직급'] = feature_weight_2['당년 직급']*0.05\n",
        "\n",
        "feature_weight_2['당사근속기간(개월)'] = feature_weight_2['당사근속기간(개월)']*0.8\n",
        "feature_weight_2['거주지'] = feature_weight_2['거주지']*0.9"
      ]
    },
    {
      "cell_type": "code",
      "execution_count": null,
      "metadata": {
        "id": "vI7lmPcRkUPF"
      },
      "outputs": [],
      "source": [
        "feature_weight_1.to_csv('/content/drive/My Drive/Colab Notebooks/NH농협캐피탈/성과관리/feature_weight_대상자_역량.csv', encoding='utf-8-sig', index=False)\n",
        "feature_weight_2.to_csv('/content/drive/My Drive/Colab Notebooks/NH농협캐피탈/성과관리/feature_weight_대상자_업적.csv', encoding='utf-8-sig', index=False)"
      ]
    },
    {
      "cell_type": "code",
      "execution_count": null,
      "metadata": {
        "id": "a0SiTzcll4XT"
      },
      "outputs": [],
      "source": [
        "train_prediction_1 = pd.DataFrame(columns=['사번', 'train_predict', 'train_label'])\n",
        "train_prediction_2 = pd.DataFrame(columns=['사번', 'train_predict', 'train_label'])"
      ]
    },
    {
      "cell_type": "code",
      "execution_count": null,
      "metadata": {
        "id": "kaD50g3ZV3UX"
      },
      "outputs": [],
      "source": [
        "train_prediction_1['사번'] = train_name_f.reset_index(drop=True)\n",
        "train_prediction_2['사번'] = train_name_s.reset_index(drop=True)\n",
        "train_prediction_1['train_predict'] = y_train_f.reset_index(drop=True)\n",
        "train_prediction_2['train_predict'] = y_train_s.reset_index(drop=True)"
      ]
    },
    {
      "cell_type": "code",
      "execution_count": null,
      "metadata": {
        "id": "X9C7gXLYVkv6"
      },
      "outputs": [],
      "source": [
        "train_prediction_1['train_label'] = train_prediction_1['train_predict'].replace({5 : \"S\", 4 : \"A\", 3 : \"B\", 2 : \"C\", 1 : \"D\"})\n",
        "train_prediction_2['train_label'] = train_prediction_2['train_predict'].replace({5 : \"S\", 4 : \"A\", 3 : \"B\", 2 : \"C\", 1 : \"D\"})"
      ]
    },
    {
      "cell_type": "code",
      "execution_count": null,
      "metadata": {
        "id": "-CdcQihtnbxq"
      },
      "outputs": [],
      "source": [
        "train_prediction_1.to_csv('/content/drive/My Drive/Colab Notebooks/NH농협캐피탈/성과관리/train_prediction_대상자_역량.csv', encoding='utf-8-sig', index=False)\n",
        "train_prediction_2.to_csv('/content/drive/My Drive/Colab Notebooks/NH농협캐피탈/성과관리/train_prediction_대상자_업적.csv', encoding='utf-8-sig', index=False)"
      ]
    },
    {
      "cell_type": "code",
      "execution_count": null,
      "metadata": {
        "colab": {
          "base_uri": "https://localhost:8080/"
        },
        "id": "rh7keEnFIU2m",
        "outputId": "df734ba3-399b-46ae-9512-3846458d1a20"
      },
      "outputs": [],
      "source": [
        "qwer = final_result_1.copy()\n",
        "qqqq = qwer[numerical]\n",
        "qqqq['역량평가등급'] = qwer['역량평가등급']\n",
        "qqqq = qqqq.reset_index(drop=True)"
      ]
    },
    {
      "cell_type": "code",
      "execution_count": null,
      "metadata": {
        "id": "nFciFroKMCu6"
      },
      "outputs": [],
      "source": [
        "qqqq.replace('미신청', 0, inplace=True)\n",
        "qqqq.replace('미입사', 0, inplace=True)"
      ]
    },
    {
      "cell_type": "code",
      "execution_count": null,
      "metadata": {
        "id": "vEed9q1WL4HO"
      },
      "outputs": [],
      "source": [
        "qqqq = qqqq.astype('float')"
      ]
    },
    {
      "cell_type": "code",
      "execution_count": null,
      "metadata": {
        "id": "NhFbfXKgOCfL"
      },
      "outputs": [],
      "source": [
        "ffff= qqqq.corr(method='pearson')"
      ]
    },
    {
      "cell_type": "code",
      "execution_count": null,
      "metadata": {
        "colab": {
          "base_uri": "https://localhost:8080/",
          "height": 708
        },
        "id": "fZJYjRNcNGZN",
        "outputId": "1248c30c-d3e1-4d15-97cb-18f4d4d235a8"
      },
      "outputs": [],
      "source": [
        "df = pd.DataFrame(ffff['역량평가등급'].sort_values(ascending=False), columns=['역량평가등급'])\n",
        "df.style.background_gradient(cmap='viridis')"
      ]
    },
    {
      "cell_type": "code",
      "execution_count": null,
      "metadata": {
        "colab": {
          "base_uri": "https://localhost:8080/"
        },
        "id": "CLAVsbP_T0wA",
        "outputId": "eaf92c7c-2526-439f-bb84-1a8ca48e992f"
      },
      "outputs": [],
      "source": [
        "qwer = final_result_2.copy()\n",
        "qqqq = qwer[numerical]\n",
        "qqqq['업적평가등급'] = qwer['업적평가등급']\n",
        "qqqq = qqqq.reset_index(drop=True)"
      ]
    },
    {
      "cell_type": "code",
      "execution_count": null,
      "metadata": {
        "id": "fzsYIopUT0wB"
      },
      "outputs": [],
      "source": [
        "qqqq.replace('미신청', 0, inplace=True)\n",
        "qqqq.replace('미입사', 0, inplace=True)"
      ]
    },
    {
      "cell_type": "code",
      "execution_count": null,
      "metadata": {
        "id": "SdMz6ooST0wB"
      },
      "outputs": [],
      "source": [
        "qqqq = qqqq.astype('float')"
      ]
    },
    {
      "cell_type": "code",
      "execution_count": null,
      "metadata": {
        "id": "Y1viBleAT0wB"
      },
      "outputs": [],
      "source": [
        "ffff= qqqq.corr(method='pearson')"
      ]
    },
    {
      "cell_type": "code",
      "execution_count": null,
      "metadata": {
        "colab": {
          "base_uri": "https://localhost:8080/",
          "height": 708
        },
        "id": "qrV8fCY7T0wB",
        "outputId": "b08306f1-f2fd-45c8-85bc-3bdd1c7ea374"
      },
      "outputs": [],
      "source": [
        "df = pd.DataFrame(ffff['업적평가등급'].sort_values(ascending=False), columns=['업적평가등급'])\n",
        "df.style.background_gradient(cmap='viridis')"
      ]
    },
    {
      "cell_type": "code",
      "execution_count": null,
      "metadata": {
        "colab": {
          "base_uri": "https://localhost:8080/",
          "height": 238
        },
        "id": "L61uxo3FOoIK",
        "outputId": "fd02c612-8554-4071-e63c-c959506a74d5"
      },
      "outputs": [],
      "source": [
        "final_result_1.loc[final_result_1['거주지']=='대전']"
      ]
    }
  ],
  "metadata": {
    "colab": {
      "provenance": []
    },
    "kernelspec": {
      "display_name": "Python 3",
      "name": "python3"
    },
    "language_info": {
      "name": "python"
    }
  },
  "nbformat": 4,
  "nbformat_minor": 0
}
