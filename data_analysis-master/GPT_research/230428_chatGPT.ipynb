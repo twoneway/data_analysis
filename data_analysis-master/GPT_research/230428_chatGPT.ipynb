{
  "cells": [
    {
      "cell_type": "code",
      "execution_count": null,
      "metadata": {
        "colab": {
          "base_uri": "https://localhost:8080/"
        },
        "id": "4QkXB8-Cj-_s",
        "outputId": "d51115b8-5a33-47e2-a825-f21bab7cda1a"
      },
      "outputs": [],
      "source": [
        "!pip install openai"
      ]
    },
    {
      "cell_type": "code",
      "execution_count": null,
      "metadata": {
        "colab": {
          "base_uri": "https://localhost:8080/"
        },
        "id": "y1ENn8CokEue",
        "outputId": "0638d3b8-8ef1-40ba-8cae-948af3a56efc"
      },
      "outputs": [],
      "source": [
        "!pip install mysql-connector-python"
      ]
    },
    {
      "cell_type": "code",
      "execution_count": null,
      "metadata": {
        "id": "5REHsjZVnc7l"
      },
      "outputs": [],
      "source": [
        "# package\n",
        "\n",
        "import openai\n",
        "import mysql.connector\n",
        "from pprint import pprint # chatGPT message가 잘 출력되되도록 사용\n",
        "import pandas as pd\n",
        "import numpy as np\n",
        "from datetime import datetime\n",
        "from pathlib import Path"
      ]
    },
    {
      "cell_type": "code",
      "execution_count": null,
      "metadata": {
        "colab": {
          "base_uri": "https://localhost:8080/"
        },
        "id": "iTD2WzYG5KQx",
        "outputId": "18a1edec-1331-49ba-854a-dd9d77806026"
      },
      "outputs": [],
      "source": [
        "# Google Drive 마운트\n",
        "# 마운트는 본인 드라이브만 가능하기에 공유 폴더 같은 경우 본인 드라이브에 바로가기를 추가하여 사용\n",
        "\n",
        "from google.colab import drive\n",
        "drive.mount('/content/drive')"
      ]
    },
    {
      "cell_type": "code",
      "execution_count": null,
      "metadata": {
        "id": "8eXAa6AR4jsS"
      },
      "outputs": [],
      "source": [
        "# API KEY : contact 계정의 API key 발급하여 사용\n",
        "\n",
        "openai.api_key = \"\""
      ]
    },
    {
      "cell_type": "code",
      "execution_count": null,
      "metadata": {
        "id": "Um6CAncjC2ww"
      },
      "outputs": [],
      "source": [
        "today = datetime.today().strftime(\"%Y%m%d\")\n",
        "Path(f\"/content/drive/MyDrive/HAI research/output/{today}/py_output\").mkdir(parents=True, exist_ok=True)"
      ]
    },
    {
      "cell_type": "code",
      "execution_count": null,
      "metadata": {
        "id": "0kN4airL6Y-6"
      },
      "outputs": [],
      "source": [
        "# google sheet를 바로 연동하는 것은 원본 훼손 위험이 존재하기에 우선 xlsx 파일을 다운로드 및 업로드하여여 활용\n",
        "\n",
        "raw_data = pd.read_excel(\"/content/drive/MyDrive/HAI research/data/PoC 평가.xlsx\", sheet_name='total')"
      ]
    },
    {
      "cell_type": "code",
      "execution_count": null,
      "metadata": {
        "id": "DGFP9nY-9yhi"
      },
      "outputs": [],
      "source": [
        "en_data = raw_data.copy()"
      ]
    },
    {
      "cell_type": "code",
      "execution_count": null,
      "metadata": {
        "id": "l3W0B0WL-NLg"
      },
      "outputs": [],
      "source": [
        "# PoC 평가가 A+인 인원들만 불러오기\n",
        "# url 주소에 userID가 존재하는 형식 데이터만 불러오기\n",
        "en_data = en_data.loc[en_data['총평 \\n(Letter grade, like A+, B+)'] == 'A+']\n",
        "en_data = en_data[en_data['framing docs'].str.contains('&userID', na = False)].reset_index(drop=True)"
      ]
    },
    {
      "cell_type": "code",
      "execution_count": null,
      "metadata": {
        "id": "tXMz2ql1-aRn"
      },
      "outputs": [],
      "source": [
        "# '&' 기준으로 파싱하여 user_id 리스트에 저장하기\n",
        "id_list = []\n",
        "for i in range(len(en_data)) :\n",
        "  id_list.append(en_data['framing docs'][i].split('&')[1][7:])"
      ]
    },
    {
      "cell_type": "code",
      "execution_count": null,
      "metadata": {
        "id": "xlOt9-8sBdSS"
      },
      "outputs": [],
      "source": [
        "# DB 연동\n",
        "\n",
        "mydb = mysql.connector.connect(\n",
        "  host=\"\",\n",
        "  user=\"\",\n",
        "  password=\"\",\n",
        "  database=\"\"\n",
        ")\n",
        "\n",
        "# 저장된 userID 정보 불러와서 사용\n",
        "userCode = id_list[8]\n",
        "\n",
        "mycursor = mydb.cursor()\n",
        "\n",
        "mycursor.execute(\"SELECT user_id from userCodeTable where code='\" + userCode + \"'\")\n",
        "\n",
        "myresult = mycursor.fetchall()\n",
        "\n",
        "userID = myresult[0][0]\n",
        "\n",
        "mycursor.execute(\"SELECT user_id, question_id, response FROM responseTable where user_id='\" + str(userID) + \"'\")\n",
        "\n",
        "myresult = mycursor.fetchall()\n",
        "\n",
        "userResponse = {}\n",
        "\n",
        "# 0부터 시작되는 문항번호를 1부터 시작하도록 변경\n",
        "for x in myresult:\n",
        "    userResponse[x[1]+1] = x[2]"
      ]
    },
    {
      "cell_type": "code",
      "execution_count": null,
      "metadata": {
        "colab": {
          "base_uri": "https://localhost:8080/"
        },
        "id": "mU63pTCGYSzN",
        "outputId": "08b99d1a-1c8d-4133-8dbb-3e4528530ce4"
      },
      "outputs": [],
      "source": [
        "userResponse"
      ]
    },
    {
      "cell_type": "code",
      "execution_count": null,
      "metadata": {
        "id": "kwTwYvVuniwm"
      },
      "outputs": [],
      "source": [
        "# 문항 정보 입력\n",
        "qna = pd.read_csv(\"/content/drive/MyDrive/HAI research/data/PoC_Question.csv\")"
      ]
    },
    {
      "cell_type": "code",
      "execution_count": null,
      "metadata": {
        "colab": {
          "base_uri": "https://localhost:8080/"
        },
        "id": "4gzLM13UkzjA",
        "outputId": "4d4f1294-0deb-496f-a60d-e5836b14bb07"
      },
      "outputs": [],
      "source": [
        "widget = [\"Accuracy chart\", \"Bar chart\", \"Scatter chart\"]\n",
        "purpose = \"임직원들의 승진 여부를 예측하는 것\"\n",
        "\n",
        "messages = [{\"role\": \"system\", \"content\": \"너는 AI 분야의 data scientist야\"},\n",
        "            # {\"role\": \"system\", \"content\": \"너는 인공지능 목적에 적합한 시각화 위젯을 3개만 추천해줘\"},\n",
        "            {\"role\" : \"system\", \"content\" : f\"너는 시각화 위젯을 추천할 때, {widget}안에 존재하는 시각화 위젯만 반드시 추천해줘\"},\n",
        "            {\"role\" : \"system\", \"content\" : f\"{widget[0]}은 시각화 plot에 해당하고 인공지능 모델의 정확도를 시각화하여 나타낸 그래프야\"},\n",
        "            {\"role\" : \"user\", \"content\" : f\"인공지능의 목적은 {purpose}야. 해당 목적에 부합하는 시각화 위젯을 그래프 이름 및 설명과 함께 3개 추천해줘\"}\n",
        "            ]\n",
        "\n",
        "completion = openai.ChatCompletion.create(\n",
        "model=\"gpt-3.5-turbo\",\n",
        "messages=messages,\n",
        "temperature=0\n",
        ")\n",
        "'''\n",
        "chat_response = completion.choices[0].message.content\n",
        "\n",
        "messages=[{\"role\" : \"system\", \"content\" : \"너는 AI 분야의 data scientist야\"},\n",
        "          {\"role\" : \"system\", \"content\" : \"너는 적합한 시각화 위젯을 추천했는지 리뷰하는 역할을 할거야\"},\n",
        "          {\"role\" : \"system\", \"content\" : f\"{chat_response}가 {widget}안에 있는 시각화 그래프들을 추천해주지 않았을 경우, {widget}안에 있는 시각화 그래프들로 다시 3개 추천해줘\"},\n",
        "          {\"role\" : \"user\", \"content\" : f\"{chat_response}를 리뷰할거야. 적절한 시각화 위젯을 추천했다면 해당 결과를 그대로 보여줘\"}\n",
        "          ]\n",
        "\n",
        "completion = openai.ChatCompletion.create(\n",
        "model=\"gpt-3.5-turbo\",\n",
        "messages=messages,\n",
        "temperature=0\n",
        ")\n",
        "'''\n",
        "chat_response = completion.choices[0].message.content\n",
        "pprint(chat_response)"
      ]
    }
  ],
  "metadata": {
    "colab": {
      "provenance": []
    },
    "kernelspec": {
      "display_name": "Python 3",
      "name": "python3"
    },
    "language_info": {
      "name": "python"
    }
  },
  "nbformat": 4,
  "nbformat_minor": 0
}
