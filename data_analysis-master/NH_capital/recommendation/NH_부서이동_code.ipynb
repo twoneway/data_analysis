{
  "nbformat": 4,
  "nbformat_minor": 0,
  "metadata": {
    "colab": {
      "provenance": []
    },
    "kernelspec": {
      "name": "python3",
      "display_name": "Python 3"
    },
    "language_info": {
      "name": "python"
    }
  },
  "cells": [
    {
      "cell_type": "code",
      "execution_count": 1,
      "metadata": {
        "id": "7NaAfMM5c-l9",
        "colab": {
          "base_uri": "https://localhost:8080/"
        },
        "outputId": "0ee49b9b-636e-4dd5-efcf-713d6e2d3981"
      },
      "outputs": [
        {
          "output_type": "stream",
          "name": "stdout",
          "text": [
            "Drive already mounted at /content/drive; to attempt to forcibly remount, call drive.mount(\"/content/drive\", force_remount=True).\n"
          ]
        }
      ],
      "source": [
        "from google.colab import drive\n",
        "drive.mount('/content/drive')"
      ]
    },
    {
      "cell_type": "code",
      "source": [
        "\n",
        "!pip install shap"
      ],
      "metadata": {
        "id": "4aauwghbzPl_",
        "colab": {
          "base_uri": "https://localhost:8080/"
        },
        "outputId": "106cbf36-293f-4b44-eeb7-86ae4a07e781"
      },
      "execution_count": 2,
      "outputs": [
        {
          "output_type": "stream",
          "name": "stdout",
          "text": [
            "Looking in indexes: https://pypi.org/simple, https://us-python.pkg.dev/colab-wheels/public/simple/\n",
            "Requirement already satisfied: shap in /usr/local/lib/python3.8/dist-packages (0.41.0)\n",
            "Requirement already satisfied: scikit-learn in /usr/local/lib/python3.8/dist-packages (from shap) (1.0.2)\n",
            "Requirement already satisfied: scipy in /usr/local/lib/python3.8/dist-packages (from shap) (1.7.3)\n",
            "Requirement already satisfied: numpy in /usr/local/lib/python3.8/dist-packages (from shap) (1.21.6)\n",
            "Requirement already satisfied: packaging>20.9 in /usr/local/lib/python3.8/dist-packages (from shap) (21.3)\n",
            "Requirement already satisfied: numba in /usr/local/lib/python3.8/dist-packages (from shap) (0.56.4)\n",
            "Requirement already satisfied: slicer==0.0.7 in /usr/local/lib/python3.8/dist-packages (from shap) (0.0.7)\n",
            "Requirement already satisfied: tqdm>4.25.0 in /usr/local/lib/python3.8/dist-packages (from shap) (4.64.1)\n",
            "Requirement already satisfied: pandas in /usr/local/lib/python3.8/dist-packages (from shap) (1.3.5)\n",
            "Requirement already satisfied: cloudpickle in /usr/local/lib/python3.8/dist-packages (from shap) (1.5.0)\n",
            "Requirement already satisfied: pyparsing!=3.0.5,>=2.0.2 in /usr/local/lib/python3.8/dist-packages (from packaging>20.9->shap) (3.0.9)\n",
            "Requirement already satisfied: setuptools in /usr/local/lib/python3.8/dist-packages (from numba->shap) (57.4.0)\n",
            "Requirement already satisfied: importlib-metadata in /usr/local/lib/python3.8/dist-packages (from numba->shap) (4.13.0)\n",
            "Requirement already satisfied: llvmlite<0.40,>=0.39.0dev0 in /usr/local/lib/python3.8/dist-packages (from numba->shap) (0.39.1)\n",
            "Requirement already satisfied: zipp>=0.5 in /usr/local/lib/python3.8/dist-packages (from importlib-metadata->numba->shap) (3.10.0)\n",
            "Requirement already satisfied: python-dateutil>=2.7.3 in /usr/local/lib/python3.8/dist-packages (from pandas->shap) (2.8.2)\n",
            "Requirement already satisfied: pytz>=2017.3 in /usr/local/lib/python3.8/dist-packages (from pandas->shap) (2022.6)\n",
            "Requirement already satisfied: six>=1.5 in /usr/local/lib/python3.8/dist-packages (from python-dateutil>=2.7.3->pandas->shap) (1.15.0)\n",
            "Requirement already satisfied: joblib>=0.11 in /usr/local/lib/python3.8/dist-packages (from scikit-learn->shap) (1.2.0)\n",
            "Requirement already satisfied: threadpoolctl>=2.0.0 in /usr/local/lib/python3.8/dist-packages (from scikit-learn->shap) (3.1.0)\n"
          ]
        }
      ]
    },
    {
      "cell_type": "code",
      "source": [
        "!sudo apt-get install -y fonts-nanum\n",
        "!sudo fc-cache -fv\n",
        "!rm ~/.cache/matplotlib -rf"
      ],
      "metadata": {
        "id": "Iim_lOOPzRwL",
        "colab": {
          "base_uri": "https://localhost:8080/"
        },
        "outputId": "26b70503-be50-4d3c-cca5-f9b9d3f6edd4"
      },
      "execution_count": 3,
      "outputs": [
        {
          "output_type": "stream",
          "name": "stdout",
          "text": [
            "Reading package lists... Done\n",
            "Building dependency tree       \n",
            "Reading state information... Done\n",
            "fonts-nanum is already the newest version (20170925-1).\n",
            "The following package was automatically installed and is no longer required:\n",
            "  libnvidia-common-460\n",
            "Use 'sudo apt autoremove' to remove it.\n",
            "0 upgraded, 0 newly installed, 0 to remove and 5 not upgraded.\n",
            "/usr/share/fonts: caching, new cache contents: 0 fonts, 1 dirs\n",
            "/usr/share/fonts/truetype: caching, new cache contents: 0 fonts, 3 dirs\n",
            "/usr/share/fonts/truetype/humor-sans: caching, new cache contents: 1 fonts, 0 dirs\n",
            "/usr/share/fonts/truetype/liberation: caching, new cache contents: 16 fonts, 0 dirs\n",
            "/usr/share/fonts/truetype/nanum: caching, new cache contents: 10 fonts, 0 dirs\n",
            "/usr/local/share/fonts: caching, new cache contents: 0 fonts, 0 dirs\n",
            "/root/.local/share/fonts: skipping, no such directory\n",
            "/root/.fonts: skipping, no such directory\n",
            "/var/cache/fontconfig: cleaning cache directory\n",
            "/root/.cache/fontconfig: not cleaning non-existent cache directory\n",
            "/root/.fontconfig: not cleaning non-existent cache directory\n",
            "fc-cache: succeeded\n"
          ]
        }
      ]
    },
    {
      "cell_type": "code",
      "source": [
        "import pandas as pd \n",
        "import numpy as np\n",
        "import re\n",
        "import matplotlib.pyplot as plt\n",
        "import seaborn as sns\n",
        "from plotly.offline import init_notebook_mode, plot, iplot\n",
        "import plotly.graph_objs as go\n",
        "from pandas.api.types import is_numeric_dtype\n",
        "from pandas.api.types import is_string_dtype\n",
        "from sklearn.model_selection import train_test_split, GridSearchCV, KFold, StratifiedKFold\n",
        "from sklearn.preprocessing import MinMaxScaler, Normalizer, LabelEncoder\n",
        "from sklearn.linear_model import LogisticRegression\n",
        "from sklearn.neighbors import KNeighborsClassifier\n",
        "from sklearn.svm import SVC\n",
        "from sklearn.tree import DecisionTreeClassifier\n",
        "from sklearn.ensemble import RandomForestClassifier, GradientBoostingClassifier, ExtraTreesClassifier, AdaBoostClassifier\n",
        "from sklearn.neural_network import MLPClassifier\n",
        "from lightgbm import LGBMClassifier\n",
        "from xgboost import XGBClassifier\n",
        "from datetime import datetime\n",
        "from sklearn.metrics import accuracy_score, precision_score, recall_score, confusion_matrix, roc_auc_score, roc_curve, make_scorer, f1_score\n",
        "from imblearn.pipeline import Pipeline\n",
        "from sklearn.metrics.pairwise import cosine_similarity\n",
        "import shap\n",
        "import json"
      ],
      "metadata": {
        "id": "4XDqJxrmdFpz"
      },
      "execution_count": 4,
      "outputs": []
    },
    {
      "cell_type": "code",
      "source": [
        "plt.rc('font', family='NanumBarunGothic')"
      ],
      "metadata": {
        "id": "iBTq74nLzVwM"
      },
      "execution_count": 5,
      "outputs": []
    },
    {
      "cell_type": "markdown",
      "source": [
        "input & melting & 전처리"
      ],
      "metadata": {
        "id": "2N6YGAyswpDE"
      }
    },
    {
      "cell_type": "code",
      "source": [
        "recom = pd.read_csv('/content/drive/My Drive/Colab Notebooks/NH농협캐피탈/부서이동/NH농협캐피탈 데이터 작업_부서이동_1118.csv')\n",
        "team_code = pd.read_csv('/content/drive/My Drive/Colab Notebooks/NH농협캐피탈/부서이동/team_code_1111.csv')\n",
        "personal = pd.read_excel('/content/drive/My Drive/Colab Notebooks/NH농협캐피탈/부서이동/인적성_1102.xlsx', sheet_name=0, engine='openpyxl')\n",
        "major = pd.read_excel('/content/drive/My Drive/Colab Notebooks/NH농협캐피탈/부서이동/전공 대분류_1118.xlsx', engine='openpyxl')"
      ],
      "metadata": {
        "id": "ZN3eBJkxdGBt"
      },
      "execution_count": 6,
      "outputs": []
    },
    {
      "cell_type": "code",
      "source": [
        "recom =recom.astype({'코드_22년10월' : 'str'})"
      ],
      "metadata": {
        "id": "1i2se9IjEcFL"
      },
      "execution_count": 7,
      "outputs": []
    },
    {
      "cell_type": "code",
      "source": [
        "# 수정 1114\n",
        "adj = []\n",
        "\n",
        "for i in range(len(recom)) : \n",
        "  if recom['동일부서 근무개월'][i] >= 60 : \n",
        "    adj.append('High')\n",
        "  else : \n",
        "    if recom['당사근속기간(개월)'][i] <= 24 : \n",
        "      if (recom['역량_22년'][i]=='A' or recom['업적_22년'][i]=='A') : \n",
        "        adj.append('Low')\n",
        "      else : \n",
        "        adj.append('Middle')\n",
        "    else : \n",
        "      if (recom['역량_22년'][i]=='A' or recom['업적_22년'][i]=='A') : \n",
        "        adj.append('Low')\n",
        "      elif (recom['역량_22년'][i]=='C' and recom['업적_22년'][i]=='C') : \n",
        "        adj.append('High')\n",
        "      else : \n",
        "        adj.append('Middle')\n",
        "\n",
        "recom['부서이동 필요'] = adj"
      ],
      "metadata": {
        "id": "9cE4uV4IUa9k",
        "colab": {
          "base_uri": "https://localhost:8080/"
        },
        "outputId": "615a5af2-b12c-44fb-c9be-11699e6e1718"
      },
      "execution_count": 8,
      "outputs": [
        {
          "output_type": "stream",
          "name": "stderr",
          "text": [
            "DataFrame is highly fragmented.  This is usually the result of calling `frame.insert` many times, which has poor performance.  Consider joining all columns at once using pd.concat(axis=1) instead.  To get a de-fragmented frame, use `newframe = frame.copy()`\n"
          ]
        }
      ]
    },
    {
      "cell_type": "code",
      "source": [
        "recom['전공'] = major['대분류']\n",
        "raw_data = recom"
      ],
      "metadata": {
        "id": "WygmSvShdIeC"
      },
      "execution_count": 9,
      "outputs": []
    },
    {
      "cell_type": "code",
      "source": [
        "recom = recom.dropna(subset=['팀'], axis=0).reset_index(drop=True)"
      ],
      "metadata": {
        "id": "KcpcPhECr6kV"
      },
      "execution_count": 10,
      "outputs": []
    },
    {
      "cell_type": "code",
      "source": [
        "code = []\n",
        "for i in range(len(recom)) : \n",
        "  for j in range(len(team_code)) : \n",
        "    if recom['팀'][i] == team_code['팀'][j] :\n",
        "      code.append(team_code['코드'][j])\n",
        "\n",
        "recom['code'] = code"
      ],
      "metadata": {
        "id": "5D_G3SuGtGdy"
      },
      "execution_count": 11,
      "outputs": []
    },
    {
      "cell_type": "code",
      "source": [
        "recom_raw = recom.copy()"
      ],
      "metadata": {
        "id": "xQA57vpBtzJW"
      },
      "execution_count": 12,
      "outputs": []
    },
    {
      "cell_type": "code",
      "source": [
        "# encoding 작업\n",
        "def changing(x) : \n",
        "  if str(x) == \"S\" : \n",
        "    return 5\n",
        "  elif str(x) == \"A\" : \n",
        "    return 4\n",
        "  elif str(x) == \"B\" :\n",
        "    return 3\n",
        "  elif str(x) == \"C\" : \n",
        "    return 2\n",
        "  elif str(x) == \"D\" :\n",
        "    return 1\n",
        "  else : \n",
        "    return \"drop\""
      ],
      "metadata": {
        "id": "aKO-NUFABIqr"
      },
      "execution_count": 13,
      "outputs": []
    },
    {
      "cell_type": "code",
      "source": [
        "for i in [15, 16, 17, 18, 19, 20, 21, 22] : \n",
        "  # team_name = '팀_%d년' %i\n",
        "  power_name = '역량_%d년' %i\n",
        "  achieve_name = '업적_%d년' %i\n",
        "  # recom[team_name] = recom[team_name].apply(changing)\n",
        "  recom[power_name] = recom[power_name].apply(changing)\n",
        "  recom[achieve_name] = recom[achieve_name].apply(changing)"
      ],
      "metadata": {
        "id": "uGXPCdrTBFOZ"
      },
      "execution_count": 14,
      "outputs": []
    },
    {
      "cell_type": "code",
      "source": [
        "raw_data = pd.DataFrame(recom[['사번', '성명', '연락처', '이메일', '생년월일', '본부', '실', '팀', '직무', '직급', '현 직급 근속기간(연)', '직책',\n",
        "       '성별', '연령', '당사근속기간(개월)', '외부경력(개월)', '총경력(개월)', '학력', '전공', '거주지',\n",
        "       '직무관련자격증', '수상횟수', '동일부서 근무개월', '부서이동 필요', 'code']])"
      ],
      "metadata": {
        "id": "S7VZToSW5x-H"
      },
      "execution_count": 15,
      "outputs": []
    },
    {
      "cell_type": "code",
      "source": [
        "for name in team_code['코드'].tolist() : \n",
        "  name = str(name)\n",
        "  # team_grade = '팀_'+ name\n",
        "  power_grade = '역량_' + name\n",
        "  prize_grade = '업적_' + name\n",
        "  # raw_data[team_grade] = 0\n",
        "  raw_data[power_grade] = 0\n",
        "  raw_data[prize_grade] = 0\n",
        "  raw_data = raw_data.astype({power_grade : 'float', prize_grade : 'float'})"
      ],
      "metadata": {
        "id": "jr69FEnL6Pww",
        "colab": {
          "base_uri": "https://localhost:8080/"
        },
        "outputId": "bba98af2-9418-4c06-b385-abdf72af03cd"
      },
      "execution_count": 16,
      "outputs": [
        {
          "output_type": "stream",
          "name": "stderr",
          "text": [
            "DataFrame is highly fragmented.  This is usually the result of calling `frame.insert` many times, which has poor performance.  Consider joining all columns at once using pd.concat(axis=1) instead.  To get a de-fragmented frame, use `newframe = frame.copy()`\n",
            "DataFrame is highly fragmented.  This is usually the result of calling `frame.insert` many times, which has poor performance.  Consider joining all columns at once using pd.concat(axis=1) instead.  To get a de-fragmented frame, use `newframe = frame.copy()`\n"
          ]
        }
      ]
    },
    {
      "cell_type": "code",
      "source": [
        "for i in range(len(recom)) : \n",
        "  if recom['코드_15년12월'][i] in list(map(str, team_code['코드'].tolist())) : \n",
        "    # team_name = '팀_' + str(recom['코드_15년12월'][i])\n",
        "    power_name = '역량_' + str(recom['코드_15년12월'][i])\n",
        "    prize_name = '업적_' + str(recom['코드_15년12월'][i])\n",
        "    # if (recom['팀_15년'][i] != 'drop') : \n",
        "    #  raw_data[team_name][i] = recom['팀_15년'][i]\n",
        "    if (recom['역량_15년'][i] != 'drop') :\n",
        "      raw_data[power_name][i] = recom['역량_15년'][i]\n",
        "    if (recom['업적_15년'][i] != 'drop') :\n",
        "      raw_data[prize_name][i] = recom['업적_15년'][i]"
      ],
      "metadata": {
        "id": "iuLt_XyX6Io4",
        "colab": {
          "base_uri": "https://localhost:8080/"
        },
        "outputId": "80f88bb4-fbfd-484b-c0c9-dc60c057c7a2"
      },
      "execution_count": 17,
      "outputs": [
        {
          "output_type": "stream",
          "name": "stderr",
          "text": [
            "\n",
            "A value is trying to be set on a copy of a slice from a DataFrame\n",
            "\n",
            "See the caveats in the documentation: https://pandas.pydata.org/pandas-docs/stable/user_guide/indexing.html#returning-a-view-versus-a-copy\n",
            "\n",
            "A value is trying to be set on a copy of a slice from a DataFrame\n",
            "\n",
            "See the caveats in the documentation: https://pandas.pydata.org/pandas-docs/stable/user_guide/indexing.html#returning-a-view-versus-a-copy\n"
          ]
        }
      ]
    },
    {
      "cell_type": "code",
      "source": [
        "for i in range(len(recom)) : \n",
        "  if recom['코드_16년12월'][i] in list(map(str, team_code['코드'].tolist())) : \n",
        "    # team_name = '팀_' + str(recom['코드_16년12월'][i])\n",
        "    power_name = '역량_' + str(recom['코드_16년12월'][i])\n",
        "    prize_name = '업적_' + str(recom['코드_16년12월'][i])\n",
        "    \n",
        "    # if (recom['팀_16년'][i] != 'drop') : \n",
        "    #  if raw_data[team_name][i] == 0 :\n",
        "    #    raw_data[team_name][i] = recom['팀_16년'][i]\n",
        "    #  else : \n",
        "    #    raw_data[team_name][i] = (raw_data[team_name][i] + recom['팀_16년'][i])/2\n",
        "    if (recom['역량_16년'][i] != 'drop') :\n",
        "      if raw_data[power_name][i] == 0 :\n",
        "        raw_data[power_name][i] = recom['역량_16년'][i]\n",
        "      else : \n",
        "        raw_data[power_name][i] = (raw_data[power_name][i] + recom['역량_16년'][i])/2\n",
        "    if (recom['업적_16년'][i] != 'drop') :\n",
        "      if raw_data[prize_name][i] == 0 :\n",
        "        raw_data[prize_name][i] = recom['업적_16년'][i]\n",
        "      else : \n",
        "        raw_data[prize_name][i] = (raw_data[prize_name][i] + recom['업적_16년'][i])/2"
      ],
      "metadata": {
        "id": "daw3nwt__hn9",
        "colab": {
          "base_uri": "https://localhost:8080/"
        },
        "outputId": "7748004c-2d22-422d-ec7f-168530997702"
      },
      "execution_count": 18,
      "outputs": [
        {
          "output_type": "stream",
          "name": "stderr",
          "text": [
            "\n",
            "A value is trying to be set on a copy of a slice from a DataFrame\n",
            "\n",
            "See the caveats in the documentation: https://pandas.pydata.org/pandas-docs/stable/user_guide/indexing.html#returning-a-view-versus-a-copy\n",
            "\n",
            "A value is trying to be set on a copy of a slice from a DataFrame\n",
            "\n",
            "See the caveats in the documentation: https://pandas.pydata.org/pandas-docs/stable/user_guide/indexing.html#returning-a-view-versus-a-copy\n",
            "\n",
            "A value is trying to be set on a copy of a slice from a DataFrame\n",
            "\n",
            "See the caveats in the documentation: https://pandas.pydata.org/pandas-docs/stable/user_guide/indexing.html#returning-a-view-versus-a-copy\n",
            "\n",
            "A value is trying to be set on a copy of a slice from a DataFrame\n",
            "\n",
            "See the caveats in the documentation: https://pandas.pydata.org/pandas-docs/stable/user_guide/indexing.html#returning-a-view-versus-a-copy\n"
          ]
        }
      ]
    },
    {
      "cell_type": "code",
      "source": [
        "for i in range(len(recom)) : \n",
        "  if recom['코드_17년12월'][i] in list(map(str, team_code['코드'].tolist())) : \n",
        "    # team_name = '팀_' + str(recom['코드_17년12월'][i])\n",
        "    power_name = '역량_' + str(recom['코드_17년12월'][i])\n",
        "    prize_name = '업적_' + str(recom['코드_17년12월'][i])\n",
        "    # if (recom['팀_17년'][i] != 'drop') : \n",
        "    #   if raw_data[team_name][i] == 0 :\n",
        "    #     raw_data[team_name][i] = recom['팀_17년'][i]\n",
        "    #   else : \n",
        "    #     raw_data[team_name][i] = (raw_data[team_name][i] + recom['팀_17년'][i])/2\n",
        "    if (recom['역량_17년'][i] != 'drop') :\n",
        "      if raw_data[power_name][i] == 0 :\n",
        "        raw_data[power_name][i] = recom['역량_17년'][i]\n",
        "      else : \n",
        "        raw_data[power_name][i] = (raw_data[power_name][i] + recom['역량_17년'][i])/2\n",
        "    if (recom['업적_17년'][i] != 'drop') :\n",
        "      if raw_data[prize_name][i] == 0 :\n",
        "        raw_data[prize_name][i] = recom['업적_17년'][i]\n",
        "      else : \n",
        "        raw_data[prize_name][i] = (raw_data[prize_name][i] + recom['업적_17년'][i])/2"
      ],
      "metadata": {
        "id": "Hxh3JJxlDtFU",
        "colab": {
          "base_uri": "https://localhost:8080/"
        },
        "outputId": "8d886d64-a1da-4653-8fc3-dfe4ceb8f1e6"
      },
      "execution_count": 19,
      "outputs": [
        {
          "output_type": "stream",
          "name": "stderr",
          "text": [
            "\n",
            "A value is trying to be set on a copy of a slice from a DataFrame\n",
            "\n",
            "See the caveats in the documentation: https://pandas.pydata.org/pandas-docs/stable/user_guide/indexing.html#returning-a-view-versus-a-copy\n",
            "\n",
            "A value is trying to be set on a copy of a slice from a DataFrame\n",
            "\n",
            "See the caveats in the documentation: https://pandas.pydata.org/pandas-docs/stable/user_guide/indexing.html#returning-a-view-versus-a-copy\n",
            "\n",
            "A value is trying to be set on a copy of a slice from a DataFrame\n",
            "\n",
            "See the caveats in the documentation: https://pandas.pydata.org/pandas-docs/stable/user_guide/indexing.html#returning-a-view-versus-a-copy\n",
            "\n",
            "A value is trying to be set on a copy of a slice from a DataFrame\n",
            "\n",
            "See the caveats in the documentation: https://pandas.pydata.org/pandas-docs/stable/user_guide/indexing.html#returning-a-view-versus-a-copy\n"
          ]
        }
      ]
    },
    {
      "cell_type": "code",
      "source": [
        "for i in range(len(recom)) : \n",
        "  if recom['코드_18년12월'][i] in list(map(str, team_code['코드'].tolist())) : \n",
        "    # team_name = '팀_' + str(recom['코드_18년12월'][i])\n",
        "    power_name = '역량_' + str(recom['코드_18년12월'][i])\n",
        "    prize_name = '업적_' + str(recom['코드_18년12월'][i])\n",
        "    # if (recom['팀_18년'][i] != 'drop') : \n",
        "    #   if raw_data[team_name][i] == 0 :\n",
        "    #     raw_data[team_name][i] = recom['팀_18년'][i]\n",
        "    #   else : \n",
        "    #     raw_data[team_name][i] = (raw_data[team_name][i] + recom['팀_18년'][i])/2\n",
        "    if (recom['역량_18년'][i] != 'drop') :\n",
        "      if raw_data[power_name][i] == 0 :\n",
        "        raw_data[power_name][i] = recom['역량_18년'][i]\n",
        "      else : \n",
        "        raw_data[power_name][i] = (raw_data[power_name][i] + recom['역량_18년'][i])/2\n",
        "    if (recom['업적_18년'][i] != 'drop') :\n",
        "      if raw_data[prize_name][i] == 0 :\n",
        "        raw_data[prize_name][i] = recom['업적_18년'][i]\n",
        "      else : \n",
        "        raw_data[prize_name][i] = (raw_data[prize_name][i] + recom['업적_18년'][i])/2"
      ],
      "metadata": {
        "id": "UjZmn4e2Dtiy",
        "colab": {
          "base_uri": "https://localhost:8080/"
        },
        "outputId": "fe648a14-7a6f-44f3-efe3-c16ca16c2a0c"
      },
      "execution_count": 20,
      "outputs": [
        {
          "output_type": "stream",
          "name": "stderr",
          "text": [
            "\n",
            "A value is trying to be set on a copy of a slice from a DataFrame\n",
            "\n",
            "See the caveats in the documentation: https://pandas.pydata.org/pandas-docs/stable/user_guide/indexing.html#returning-a-view-versus-a-copy\n",
            "\n",
            "A value is trying to be set on a copy of a slice from a DataFrame\n",
            "\n",
            "See the caveats in the documentation: https://pandas.pydata.org/pandas-docs/stable/user_guide/indexing.html#returning-a-view-versus-a-copy\n",
            "\n",
            "A value is trying to be set on a copy of a slice from a DataFrame\n",
            "\n",
            "See the caveats in the documentation: https://pandas.pydata.org/pandas-docs/stable/user_guide/indexing.html#returning-a-view-versus-a-copy\n",
            "\n",
            "A value is trying to be set on a copy of a slice from a DataFrame\n",
            "\n",
            "See the caveats in the documentation: https://pandas.pydata.org/pandas-docs/stable/user_guide/indexing.html#returning-a-view-versus-a-copy\n"
          ]
        }
      ]
    },
    {
      "cell_type": "code",
      "source": [
        "for i in range(len(recom)) : \n",
        "  if recom['코드_19년12월'][i] in list(map(str, team_code['코드'].tolist())) : \n",
        "    # team_name = '팀_' + str(recom['코드_19년12월'][i])\n",
        "    power_name = '역량_' + str(recom['코드_19년12월'][i])\n",
        "    prize_name = '업적_' + str(recom['코드_19년12월'][i])\n",
        "    # if (recom['팀_19년'][i] != 'drop') : \n",
        "    #   if raw_data[team_name][i] == 0 :\n",
        "    #     raw_data[team_name][i] = recom['팀_19년'][i]\n",
        "    #   else : \n",
        "    #     raw_data[team_name][i] = (raw_data[team_name][i] + recom['팀_19년'][i])/2\n",
        "    if (recom['역량_19년'][i] != 'drop') :\n",
        "      if raw_data[power_name][i] == 0 :\n",
        "        raw_data[power_name][i] = recom['역량_19년'][i]\n",
        "      else : \n",
        "        raw_data[power_name][i] = (raw_data[power_name][i] + recom['역량_19년'][i])/2\n",
        "    if (recom['업적_19년'][i] != 'drop') :\n",
        "      if raw_data[prize_name][i] == 0 :\n",
        "        raw_data[prize_name][i] = recom['업적_19년'][i]\n",
        "      else : \n",
        "        raw_data[prize_name][i] = (raw_data[prize_name][i] + recom['업적_19년'][i])/2"
      ],
      "metadata": {
        "id": "D0xcVlE-DuFf",
        "colab": {
          "base_uri": "https://localhost:8080/"
        },
        "outputId": "cac6697b-494b-42f2-fab5-a8c7f4dc6855"
      },
      "execution_count": 21,
      "outputs": [
        {
          "output_type": "stream",
          "name": "stderr",
          "text": [
            "\n",
            "A value is trying to be set on a copy of a slice from a DataFrame\n",
            "\n",
            "See the caveats in the documentation: https://pandas.pydata.org/pandas-docs/stable/user_guide/indexing.html#returning-a-view-versus-a-copy\n",
            "\n",
            "A value is trying to be set on a copy of a slice from a DataFrame\n",
            "\n",
            "See the caveats in the documentation: https://pandas.pydata.org/pandas-docs/stable/user_guide/indexing.html#returning-a-view-versus-a-copy\n",
            "\n",
            "A value is trying to be set on a copy of a slice from a DataFrame\n",
            "\n",
            "See the caveats in the documentation: https://pandas.pydata.org/pandas-docs/stable/user_guide/indexing.html#returning-a-view-versus-a-copy\n",
            "\n",
            "A value is trying to be set on a copy of a slice from a DataFrame\n",
            "\n",
            "See the caveats in the documentation: https://pandas.pydata.org/pandas-docs/stable/user_guide/indexing.html#returning-a-view-versus-a-copy\n"
          ]
        }
      ]
    },
    {
      "cell_type": "code",
      "source": [
        "for i in range(len(recom)) : \n",
        "  if recom['코드_20년12월'][i] in list(map(str, team_code['코드'].tolist())) : \n",
        "    # team_name = '팀_' + str(recom['코드_20년12월'][i])\n",
        "    power_name = '역량_' + str(recom['코드_20년12월'][i])\n",
        "    prize_name = '업적_' + str(recom['코드_20년12월'][i])\n",
        "    # if (recom['팀_20년'][i] != 'drop') : \n",
        "    #   if raw_data[team_name][i] == 0 :\n",
        "    #     raw_data[team_name][i] = recom['팀_20년'][i]\n",
        "    #   else : \n",
        "    #     raw_data[team_name][i] = (raw_data[team_name][i] + recom['팀_20년'][i])/2\n",
        "    if (recom['역량_20년'][i] != 'drop') :\n",
        "      if raw_data[power_name][i] == 0 :\n",
        "        raw_data[power_name][i] = recom['역량_20년'][i]\n",
        "      else : \n",
        "        raw_data[power_name][i] = (raw_data[power_name][i] + recom['역량_20년'][i])/2\n",
        "    if (recom['업적_20년'][i] != 'drop') :\n",
        "      if raw_data[prize_name][i] == 0 :\n",
        "        raw_data[prize_name][i] = recom['업적_20년'][i]\n",
        "      else : \n",
        "        raw_data[prize_name][i] = (raw_data[prize_name][i] + recom['업적_20년'][i])/2"
      ],
      "metadata": {
        "id": "L3GfeZrDDuQ0",
        "colab": {
          "base_uri": "https://localhost:8080/"
        },
        "outputId": "58bf1f91-6661-4b41-d441-0640c2b79ca9"
      },
      "execution_count": 22,
      "outputs": [
        {
          "output_type": "stream",
          "name": "stderr",
          "text": [
            "\n",
            "A value is trying to be set on a copy of a slice from a DataFrame\n",
            "\n",
            "See the caveats in the documentation: https://pandas.pydata.org/pandas-docs/stable/user_guide/indexing.html#returning-a-view-versus-a-copy\n",
            "\n",
            "A value is trying to be set on a copy of a slice from a DataFrame\n",
            "\n",
            "See the caveats in the documentation: https://pandas.pydata.org/pandas-docs/stable/user_guide/indexing.html#returning-a-view-versus-a-copy\n",
            "\n",
            "A value is trying to be set on a copy of a slice from a DataFrame\n",
            "\n",
            "See the caveats in the documentation: https://pandas.pydata.org/pandas-docs/stable/user_guide/indexing.html#returning-a-view-versus-a-copy\n",
            "\n",
            "A value is trying to be set on a copy of a slice from a DataFrame\n",
            "\n",
            "See the caveats in the documentation: https://pandas.pydata.org/pandas-docs/stable/user_guide/indexing.html#returning-a-view-versus-a-copy\n"
          ]
        }
      ]
    },
    {
      "cell_type": "code",
      "source": [
        "for i in range(len(recom)) : \n",
        "  if recom['코드_21년12월'][i] in list(map(str, team_code['코드'].tolist())) : \n",
        "    # team_name = '팀_' + str(recom['코드_21년12월'][i])\n",
        "    power_name = '역량_' + str(recom['코드_21년12월'][i])\n",
        "    prize_name = '업적_' + str(recom['코드_21년12월'][i])\n",
        "    # if (recom['팀_21년'][i] != 'drop') : \n",
        "    #   if raw_data[team_name][i] == 0 :\n",
        "    #     raw_data[team_name][i] = recom['팀_21년'][i]\n",
        "    #   else : \n",
        "    #     raw_data[team_name][i] = (raw_data[team_name][i] + recom['팀_21년'][i])/2\n",
        "    if (recom['역량_21년'][i] != 'drop') :\n",
        "      if raw_data[power_name][i] == 0 :\n",
        "        raw_data[power_name][i] = recom['역량_21년'][i]\n",
        "      else : \n",
        "        raw_data[power_name][i] = (raw_data[power_name][i] + recom['역량_21년'][i])/2\n",
        "    if (recom['업적_21년'][i] != 'drop') :\n",
        "      if raw_data[prize_name][i] == 0 :\n",
        "        raw_data[prize_name][i] = recom['업적_21년'][i]\n",
        "      else : \n",
        "        raw_data[prize_name][i] = (raw_data[prize_name][i] + recom['업적_21년'][i])/2"
      ],
      "metadata": {
        "id": "86s90DpQDubv",
        "colab": {
          "base_uri": "https://localhost:8080/"
        },
        "outputId": "d7fa45c3-a465-45fb-97c5-d49d3ede2008"
      },
      "execution_count": 23,
      "outputs": [
        {
          "output_type": "stream",
          "name": "stderr",
          "text": [
            "\n",
            "A value is trying to be set on a copy of a slice from a DataFrame\n",
            "\n",
            "See the caveats in the documentation: https://pandas.pydata.org/pandas-docs/stable/user_guide/indexing.html#returning-a-view-versus-a-copy\n",
            "\n",
            "A value is trying to be set on a copy of a slice from a DataFrame\n",
            "\n",
            "See the caveats in the documentation: https://pandas.pydata.org/pandas-docs/stable/user_guide/indexing.html#returning-a-view-versus-a-copy\n",
            "\n",
            "A value is trying to be set on a copy of a slice from a DataFrame\n",
            "\n",
            "See the caveats in the documentation: https://pandas.pydata.org/pandas-docs/stable/user_guide/indexing.html#returning-a-view-versus-a-copy\n",
            "\n",
            "A value is trying to be set on a copy of a slice from a DataFrame\n",
            "\n",
            "See the caveats in the documentation: https://pandas.pydata.org/pandas-docs/stable/user_guide/indexing.html#returning-a-view-versus-a-copy\n"
          ]
        }
      ]
    },
    {
      "cell_type": "code",
      "source": [
        "for i in range(len(recom)) : \n",
        "  if recom['코드_22년10월'][i] in list(map(str, team_code['코드'].tolist())) : \n",
        "    # team_name = '팀_' + str(recom['코드_22년12월'][i])\n",
        "    power_name = '역량_' + str(recom['code'][i])\n",
        "    prize_name = '업적_' + str(recom['code'][i])\n",
        "    # if (recom['팀_21년'][i] != 'drop') : \n",
        "    #   if raw_data[team_name][i] == 0 :\n",
        "    #     raw_data[team_name][i] = recom['팀_21년'][i]\n",
        "    #   else : \n",
        "    #     raw_data[team_name][i] = (raw_data[team_name][i] + recom['팀_21년'][i])/2\n",
        "    if (recom['역량_22년'][i] != 'drop') :\n",
        "      if raw_data[power_name][i] == 0 :\n",
        "        raw_data[power_name][i] = recom['역량_22년'][i]\n",
        "      else : \n",
        "        raw_data[power_name][i] = (raw_data[power_name][i] + recom['역량_22년'][i])/2\n",
        "    if (recom['업적_22년'][i] != 'drop') :\n",
        "      if raw_data[prize_name][i] == 0 :\n",
        "        raw_data[prize_name][i] = recom['업적_22년'][i]\n",
        "      else : \n",
        "        raw_data[prize_name][i] = (raw_data[prize_name][i] + recom['업적_22년'][i])/2"
      ],
      "metadata": {
        "id": "n1nQvT0TBuH6",
        "colab": {
          "base_uri": "https://localhost:8080/"
        },
        "outputId": "2746239e-6aef-4d82-a97c-04d79d3aea1a"
      },
      "execution_count": 24,
      "outputs": [
        {
          "output_type": "stream",
          "name": "stderr",
          "text": [
            "\n",
            "A value is trying to be set on a copy of a slice from a DataFrame\n",
            "\n",
            "See the caveats in the documentation: https://pandas.pydata.org/pandas-docs/stable/user_guide/indexing.html#returning-a-view-versus-a-copy\n",
            "\n",
            "A value is trying to be set on a copy of a slice from a DataFrame\n",
            "\n",
            "See the caveats in the documentation: https://pandas.pydata.org/pandas-docs/stable/user_guide/indexing.html#returning-a-view-versus-a-copy\n",
            "\n",
            "A value is trying to be set on a copy of a slice from a DataFrame\n",
            "\n",
            "See the caveats in the documentation: https://pandas.pydata.org/pandas-docs/stable/user_guide/indexing.html#returning-a-view-versus-a-copy\n",
            "\n",
            "A value is trying to be set on a copy of a slice from a DataFrame\n",
            "\n",
            "See the caveats in the documentation: https://pandas.pydata.org/pandas-docs/stable/user_guide/indexing.html#returning-a-view-versus-a-copy\n"
          ]
        }
      ]
    },
    {
      "cell_type": "code",
      "source": [
        "raw_data['label'] = 0\n",
        "raw_data['label_grade'] = 0\n",
        "raw_data =raw_data.astype({'label_grade' : 'float'})\n",
        "\n",
        "\n",
        "score = []\n",
        "\n",
        "for i in range(len(raw_data)) : \n",
        "  max = 0\n",
        "  label_name = 0\n",
        "  for name in team_code['코드'].tolist() : \n",
        "    # avg = (raw_data['팀_' + str(name)][i] + raw_data['역량_' + str(name)][i] + raw_data['업적_' + str(name)][i])/3\n",
        "    avg = (raw_data['역량_' + str(name)][i] + raw_data['업적_' + str(name)][i])/2\n",
        "    if avg >= max : \n",
        "      max = avg\n",
        "      label_name = name\n",
        "  raw_data['label'][i] = label_name\n",
        "  raw_data['label_grade'][i] = max"
      ],
      "metadata": {
        "id": "7DLqqtazEnU7",
        "colab": {
          "base_uri": "https://localhost:8080/"
        },
        "outputId": "658348e6-5550-454c-ccae-4cbf68488014"
      },
      "execution_count": 25,
      "outputs": [
        {
          "output_type": "stream",
          "name": "stderr",
          "text": [
            "DataFrame is highly fragmented.  This is usually the result of calling `frame.insert` many times, which has poor performance.  Consider joining all columns at once using pd.concat(axis=1) instead.  To get a de-fragmented frame, use `newframe = frame.copy()`\n",
            "DataFrame is highly fragmented.  This is usually the result of calling `frame.insert` many times, which has poor performance.  Consider joining all columns at once using pd.concat(axis=1) instead.  To get a de-fragmented frame, use `newframe = frame.copy()`\n",
            "\n",
            "A value is trying to be set on a copy of a slice from a DataFrame\n",
            "\n",
            "See the caveats in the documentation: https://pandas.pydata.org/pandas-docs/stable/user_guide/indexing.html#returning-a-view-versus-a-copy\n",
            "\n",
            "A value is trying to be set on a copy of a slice from a DataFrame\n",
            "\n",
            "See the caveats in the documentation: https://pandas.pydata.org/pandas-docs/stable/user_guide/indexing.html#returning-a-view-versus-a-copy\n"
          ]
        }
      ]
    },
    {
      "cell_type": "code",
      "source": [
        "new_dp = [114000, 423000, 514000, 515000, 644000, 941000]\n",
        "\n",
        "for i in range(len(raw_data)) : \n",
        "  if raw_data['code'][i] in new_dp : \n",
        "    raw_data['label'][i] = raw_data['code'][i]"
      ],
      "metadata": {
        "id": "2WVNonFL8Zlu",
        "colab": {
          "base_uri": "https://localhost:8080/"
        },
        "outputId": "7e55dec2-12b1-46c2-90ef-9e5cf3b578e4"
      },
      "execution_count": 26,
      "outputs": [
        {
          "output_type": "stream",
          "name": "stderr",
          "text": [
            "\n",
            "A value is trying to be set on a copy of a slice from a DataFrame\n",
            "\n",
            "See the caveats in the documentation: https://pandas.pydata.org/pandas-docs/stable/user_guide/indexing.html#returning-a-view-versus-a-copy\n"
          ]
        }
      ]
    },
    {
      "cell_type": "code",
      "source": [
        "sec_data = raw_data.copy()"
      ],
      "metadata": {
        "id": "3o_oHpJCm3bq"
      },
      "execution_count": 27,
      "outputs": []
    },
    {
      "cell_type": "code",
      "source": [
        "# 인적성 검사 데이터 연결\n",
        "for name in personal.columns.drop(['성명', '이메일']).tolist() : \n",
        "  raw_data = raw_data.join(personal.set_index('이메일')[name], on='이메일')"
      ],
      "metadata": {
        "id": "yj_SWEmyirXC"
      },
      "execution_count": 28,
      "outputs": []
    },
    {
      "cell_type": "code",
      "source": [
        "core_number = raw_data.loc[raw_data['역량 평균'].isna()].index.tolist()"
      ],
      "metadata": {
        "id": "ds8ksx1sg45O"
      },
      "execution_count": 29,
      "outputs": []
    },
    {
      "cell_type": "code",
      "source": [
        "print(len(raw_data))\n",
        "raw_data.dropna(subset=['역량 평균'], inplace=True) # 인적성검사 미실시자 제거\n",
        "print(len(raw_data))\n",
        "raw_data = raw_data.reset_index(drop=True)"
      ],
      "metadata": {
        "id": "1_ms6H8PGPNn",
        "colab": {
          "base_uri": "https://localhost:8080/"
        },
        "outputId": "60850163-ed1f-4a17-bb55-1db35a74c421"
      },
      "execution_count": 30,
      "outputs": [
        {
          "output_type": "stream",
          "name": "stdout",
          "text": [
            "277\n",
            "203\n"
          ]
        }
      ]
    },
    {
      "cell_type": "markdown",
      "source": [
        "Modeling 전처리 & Modeling"
      ],
      "metadata": {
        "id": "5q5LZBC_w8CU"
      }
    },
    {
      "cell_type": "code",
      "source": [
        "en_data = raw_data.drop(['성명', '연락처', '이메일', '생년월일', '본부', '실', '팀', '직급', '현 직급 근속기간(연)', 'label_grade', 'code'], axis=1).reset_index(drop=True)"
      ],
      "metadata": {
        "id": "gkpROKJviTFB"
      },
      "execution_count": 31,
      "outputs": []
    },
    {
      "cell_type": "code",
      "source": [
        "en_data['부서이동 필요'].replace({'High' : 3, 'Middle' : 2, 'Low' : 1}, inplace=True)"
      ],
      "metadata": {
        "id": "EtfHVImuK6Z-"
      },
      "execution_count": 32,
      "outputs": []
    },
    {
      "cell_type": "code",
      "source": [
        "for name in ['직책', '성별', '학력', '전공', '거주지', '직무'] :\n",
        "  le = LabelEncoder()\n",
        "  en_data[name] = le.fit_transform(en_data[name])"
      ],
      "metadata": {
        "id": "jcfTioyrim10"
      },
      "execution_count": 33,
      "outputs": []
    },
    {
      "cell_type": "code",
      "source": [
        "X = en_data.drop(['사번', 'label'], axis=1)\n",
        "y = en_data['label']"
      ],
      "metadata": {
        "id": "0UzA4-cilZUP"
      },
      "execution_count": 34,
      "outputs": []
    },
    {
      "cell_type": "code",
      "source": [
        "random_seed = 4"
      ],
      "metadata": {
        "id": "v5xq_KfSl4al"
      },
      "execution_count": 35,
      "outputs": []
    },
    {
      "cell_type": "code",
      "source": [
        "X_train, X_test, y_train, y_test = train_test_split(X, y, test_size = 0.3, random_state=random_seed)"
      ],
      "metadata": {
        "id": "lPBfiRn4liFM"
      },
      "execution_count": 36,
      "outputs": []
    },
    {
      "cell_type": "code",
      "source": [
        "\n",
        "benchmark = pd.DataFrame(columns=['Algorithm', 'Accuracy', 'Recall', 'Precision', 'F1 score'])\n",
        "\n",
        "for algorithm in [LogisticRegression(), KNeighborsClassifier(), SVC(), RandomForestClassifier(random_state=random_seed), DecisionTreeClassifier(random_state=random_seed), \n",
        "                 AdaBoostClassifier(random_state=random_seed), XGBClassifier(random_state=random_seed), MLPClassifier(random_state=random_seed), ExtraTreesClassifier(random_state=random_seed)]:\n",
        "    pipeline = Pipeline(steps = [['classifier', algorithm]])\n",
        "    \n",
        "    results = GridSearchCV(estimator=pipeline,\n",
        "                           scoring= 'accuracy',\n",
        "                           param_grid ={},\n",
        "                           cv = None,\n",
        "                           n_jobs=-1)\n",
        "    results.fit(X_train, y_train)\n",
        "    results_pred = results.predict(X_test)\n",
        "    acc = accuracy_score(y_test, results_pred)\n",
        "    recall = recall_score(y_test, results_pred, average='weighted')\n",
        "    pre = precision_score(y_test, results_pred, average='weighted')\n",
        "    f1 = f1_score(y_test, results_pred, average='weighted')\n",
        "    benchmark = benchmark.append({'Algorithm' : algorithm, 'Accuracy' : acc,'Recall' : recall, 'Precision' : pre, 'F1 score' : f1}, ignore_index=True)\n",
        "  "
      ],
      "metadata": {
        "id": "xdaEtW8lbDrb",
        "colab": {
          "base_uri": "https://localhost:8080/"
        },
        "outputId": "61049620-e7ba-4e4b-e9ae-e767919b3912"
      },
      "execution_count": 37,
      "outputs": [
        {
          "output_type": "stream",
          "name": "stderr",
          "text": [
            "The least populated class in y has only 1 members, which is less than n_splits=5.\n",
            "lbfgs failed to converge (status=1):\n",
            "STOP: TOTAL NO. of ITERATIONS REACHED LIMIT.\n",
            "\n",
            "Increase the number of iterations (max_iter) or scale the data as shown in:\n",
            "    https://scikit-learn.org/stable/modules/preprocessing.html\n",
            "Please also refer to the documentation for alternative solver options:\n",
            "    https://scikit-learn.org/stable/modules/linear_model.html#logistic-regression\n",
            "Recall is ill-defined and being set to 0.0 in labels with no true samples. Use `zero_division` parameter to control this behavior.\n",
            "Precision is ill-defined and being set to 0.0 in labels with no predicted samples. Use `zero_division` parameter to control this behavior.\n",
            "The least populated class in y has only 1 members, which is less than n_splits=5.\n",
            "Recall is ill-defined and being set to 0.0 in labels with no true samples. Use `zero_division` parameter to control this behavior.\n",
            "Precision is ill-defined and being set to 0.0 in labels with no predicted samples. Use `zero_division` parameter to control this behavior.\n",
            "The least populated class in y has only 1 members, which is less than n_splits=5.\n",
            "Precision is ill-defined and being set to 0.0 in labels with no predicted samples. Use `zero_division` parameter to control this behavior.\n",
            "The least populated class in y has only 1 members, which is less than n_splits=5.\n",
            "Recall is ill-defined and being set to 0.0 in labels with no true samples. Use `zero_division` parameter to control this behavior.\n",
            "Precision is ill-defined and being set to 0.0 in labels with no predicted samples. Use `zero_division` parameter to control this behavior.\n",
            "The least populated class in y has only 1 members, which is less than n_splits=5.\n",
            "Recall is ill-defined and being set to 0.0 in labels with no true samples. Use `zero_division` parameter to control this behavior.\n",
            "Precision is ill-defined and being set to 0.0 in labels with no predicted samples. Use `zero_division` parameter to control this behavior.\n",
            "The least populated class in y has only 1 members, which is less than n_splits=5.\n",
            "Recall is ill-defined and being set to 0.0 in labels with no true samples. Use `zero_division` parameter to control this behavior.\n",
            "Precision is ill-defined and being set to 0.0 in labels with no predicted samples. Use `zero_division` parameter to control this behavior.\n",
            "The least populated class in y has only 1 members, which is less than n_splits=5.\n",
            "Recall is ill-defined and being set to 0.0 in labels with no true samples. Use `zero_division` parameter to control this behavior.\n",
            "Precision is ill-defined and being set to 0.0 in labels with no predicted samples. Use `zero_division` parameter to control this behavior.\n",
            "The least populated class in y has only 1 members, which is less than n_splits=5.\n",
            "Stochastic Optimizer: Maximum iterations (200) reached and the optimization hasn't converged yet.\n",
            "Recall is ill-defined and being set to 0.0 in labels with no true samples. Use `zero_division` parameter to control this behavior.\n",
            "Precision is ill-defined and being set to 0.0 in labels with no predicted samples. Use `zero_division` parameter to control this behavior.\n",
            "The least populated class in y has only 1 members, which is less than n_splits=5.\n",
            "Recall is ill-defined and being set to 0.0 in labels with no true samples. Use `zero_division` parameter to control this behavior.\n",
            "Precision is ill-defined and being set to 0.0 in labels with no predicted samples. Use `zero_division` parameter to control this behavior.\n"
          ]
        }
      ]
    },
    {
      "cell_type": "code",
      "source": [
        "benchmark"
      ],
      "metadata": {
        "id": "o-in3EkwLQER",
        "colab": {
          "base_uri": "https://localhost:8080/",
          "height": 332
        },
        "outputId": "17b57f3e-8e57-4fb6-dd8c-22eb5fb48945"
      },
      "execution_count": 38,
      "outputs": [
        {
          "output_type": "execute_result",
          "data": {
            "text/plain": [
              "                                Algorithm  Accuracy    Recall  Precision  \\\n",
              "0                    LogisticRegression()  0.049180  0.049180   0.076503   \n",
              "1                  KNeighborsClassifier()  0.081967  0.081967   0.030055   \n",
              "2                                   SVC()  0.098361  0.098361   0.009675   \n",
              "3  RandomForestClassifier(random_state=4)  0.590164  0.590164   0.502615   \n",
              "4  DecisionTreeClassifier(random_state=4)  0.360656  0.360656   0.331967   \n",
              "5      AdaBoostClassifier(random_state=4)  0.213115  0.213115   0.186537   \n",
              "6           XGBClassifier(random_state=4)  0.524590  0.524590   0.454372   \n",
              "7           MLPClassifier(random_state=4)  0.262295  0.262295   0.273770   \n",
              "8    ExtraTreesClassifier(random_state=4)  0.606557  0.606557   0.557650   \n",
              "\n",
              "   F1 score  \n",
              "0  0.056831  \n",
              "1  0.043716  \n",
              "2  0.017617  \n",
              "3  0.524128  \n",
              "4  0.332475  \n",
              "5  0.182402  \n",
              "6  0.469594  \n",
              "7  0.239891  \n",
              "8  0.566667  "
            ],
            "text/html": [
              "\n",
              "  <div id=\"df-bbacc176-49b1-4b6c-a724-4549e5ac0daa\">\n",
              "    <div class=\"colab-df-container\">\n",
              "      <div>\n",
              "<style scoped>\n",
              "    .dataframe tbody tr th:only-of-type {\n",
              "        vertical-align: middle;\n",
              "    }\n",
              "\n",
              "    .dataframe tbody tr th {\n",
              "        vertical-align: top;\n",
              "    }\n",
              "\n",
              "    .dataframe thead th {\n",
              "        text-align: right;\n",
              "    }\n",
              "</style>\n",
              "<table border=\"1\" class=\"dataframe\">\n",
              "  <thead>\n",
              "    <tr style=\"text-align: right;\">\n",
              "      <th></th>\n",
              "      <th>Algorithm</th>\n",
              "      <th>Accuracy</th>\n",
              "      <th>Recall</th>\n",
              "      <th>Precision</th>\n",
              "      <th>F1 score</th>\n",
              "    </tr>\n",
              "  </thead>\n",
              "  <tbody>\n",
              "    <tr>\n",
              "      <th>0</th>\n",
              "      <td>LogisticRegression()</td>\n",
              "      <td>0.049180</td>\n",
              "      <td>0.049180</td>\n",
              "      <td>0.076503</td>\n",
              "      <td>0.056831</td>\n",
              "    </tr>\n",
              "    <tr>\n",
              "      <th>1</th>\n",
              "      <td>KNeighborsClassifier()</td>\n",
              "      <td>0.081967</td>\n",
              "      <td>0.081967</td>\n",
              "      <td>0.030055</td>\n",
              "      <td>0.043716</td>\n",
              "    </tr>\n",
              "    <tr>\n",
              "      <th>2</th>\n",
              "      <td>SVC()</td>\n",
              "      <td>0.098361</td>\n",
              "      <td>0.098361</td>\n",
              "      <td>0.009675</td>\n",
              "      <td>0.017617</td>\n",
              "    </tr>\n",
              "    <tr>\n",
              "      <th>3</th>\n",
              "      <td>RandomForestClassifier(random_state=4)</td>\n",
              "      <td>0.590164</td>\n",
              "      <td>0.590164</td>\n",
              "      <td>0.502615</td>\n",
              "      <td>0.524128</td>\n",
              "    </tr>\n",
              "    <tr>\n",
              "      <th>4</th>\n",
              "      <td>DecisionTreeClassifier(random_state=4)</td>\n",
              "      <td>0.360656</td>\n",
              "      <td>0.360656</td>\n",
              "      <td>0.331967</td>\n",
              "      <td>0.332475</td>\n",
              "    </tr>\n",
              "    <tr>\n",
              "      <th>5</th>\n",
              "      <td>AdaBoostClassifier(random_state=4)</td>\n",
              "      <td>0.213115</td>\n",
              "      <td>0.213115</td>\n",
              "      <td>0.186537</td>\n",
              "      <td>0.182402</td>\n",
              "    </tr>\n",
              "    <tr>\n",
              "      <th>6</th>\n",
              "      <td>XGBClassifier(random_state=4)</td>\n",
              "      <td>0.524590</td>\n",
              "      <td>0.524590</td>\n",
              "      <td>0.454372</td>\n",
              "      <td>0.469594</td>\n",
              "    </tr>\n",
              "    <tr>\n",
              "      <th>7</th>\n",
              "      <td>MLPClassifier(random_state=4)</td>\n",
              "      <td>0.262295</td>\n",
              "      <td>0.262295</td>\n",
              "      <td>0.273770</td>\n",
              "      <td>0.239891</td>\n",
              "    </tr>\n",
              "    <tr>\n",
              "      <th>8</th>\n",
              "      <td>ExtraTreesClassifier(random_state=4)</td>\n",
              "      <td>0.606557</td>\n",
              "      <td>0.606557</td>\n",
              "      <td>0.557650</td>\n",
              "      <td>0.566667</td>\n",
              "    </tr>\n",
              "  </tbody>\n",
              "</table>\n",
              "</div>\n",
              "      <button class=\"colab-df-convert\" onclick=\"convertToInteractive('df-bbacc176-49b1-4b6c-a724-4549e5ac0daa')\"\n",
              "              title=\"Convert this dataframe to an interactive table.\"\n",
              "              style=\"display:none;\">\n",
              "        \n",
              "  <svg xmlns=\"http://www.w3.org/2000/svg\" height=\"24px\"viewBox=\"0 0 24 24\"\n",
              "       width=\"24px\">\n",
              "    <path d=\"M0 0h24v24H0V0z\" fill=\"none\"/>\n",
              "    <path d=\"M18.56 5.44l.94 2.06.94-2.06 2.06-.94-2.06-.94-.94-2.06-.94 2.06-2.06.94zm-11 1L8.5 8.5l.94-2.06 2.06-.94-2.06-.94L8.5 2.5l-.94 2.06-2.06.94zm10 10l.94 2.06.94-2.06 2.06-.94-2.06-.94-.94-2.06-.94 2.06-2.06.94z\"/><path d=\"M17.41 7.96l-1.37-1.37c-.4-.4-.92-.59-1.43-.59-.52 0-1.04.2-1.43.59L10.3 9.45l-7.72 7.72c-.78.78-.78 2.05 0 2.83L4 21.41c.39.39.9.59 1.41.59.51 0 1.02-.2 1.41-.59l7.78-7.78 2.81-2.81c.8-.78.8-2.07 0-2.86zM5.41 20L4 18.59l7.72-7.72 1.47 1.35L5.41 20z\"/>\n",
              "  </svg>\n",
              "      </button>\n",
              "      \n",
              "  <style>\n",
              "    .colab-df-container {\n",
              "      display:flex;\n",
              "      flex-wrap:wrap;\n",
              "      gap: 12px;\n",
              "    }\n",
              "\n",
              "    .colab-df-convert {\n",
              "      background-color: #E8F0FE;\n",
              "      border: none;\n",
              "      border-radius: 50%;\n",
              "      cursor: pointer;\n",
              "      display: none;\n",
              "      fill: #1967D2;\n",
              "      height: 32px;\n",
              "      padding: 0 0 0 0;\n",
              "      width: 32px;\n",
              "    }\n",
              "\n",
              "    .colab-df-convert:hover {\n",
              "      background-color: #E2EBFA;\n",
              "      box-shadow: 0px 1px 2px rgba(60, 64, 67, 0.3), 0px 1px 3px 1px rgba(60, 64, 67, 0.15);\n",
              "      fill: #174EA6;\n",
              "    }\n",
              "\n",
              "    [theme=dark] .colab-df-convert {\n",
              "      background-color: #3B4455;\n",
              "      fill: #D2E3FC;\n",
              "    }\n",
              "\n",
              "    [theme=dark] .colab-df-convert:hover {\n",
              "      background-color: #434B5C;\n",
              "      box-shadow: 0px 1px 3px 1px rgba(0, 0, 0, 0.15);\n",
              "      filter: drop-shadow(0px 1px 2px rgba(0, 0, 0, 0.3));\n",
              "      fill: #FFFFFF;\n",
              "    }\n",
              "  </style>\n",
              "\n",
              "      <script>\n",
              "        const buttonEl =\n",
              "          document.querySelector('#df-bbacc176-49b1-4b6c-a724-4549e5ac0daa button.colab-df-convert');\n",
              "        buttonEl.style.display =\n",
              "          google.colab.kernel.accessAllowed ? 'block' : 'none';\n",
              "\n",
              "        async function convertToInteractive(key) {\n",
              "          const element = document.querySelector('#df-bbacc176-49b1-4b6c-a724-4549e5ac0daa');\n",
              "          const dataTable =\n",
              "            await google.colab.kernel.invokeFunction('convertToInteractive',\n",
              "                                                     [key], {});\n",
              "          if (!dataTable) return;\n",
              "\n",
              "          const docLinkHtml = 'Like what you see? Visit the ' +\n",
              "            '<a target=\"_blank\" href=https://colab.research.google.com/notebooks/data_table.ipynb>data table notebook</a>'\n",
              "            + ' to learn more about interactive tables.';\n",
              "          element.innerHTML = '';\n",
              "          dataTable['output_type'] = 'display_data';\n",
              "          await google.colab.output.renderOutput(dataTable, element);\n",
              "          const docLink = document.createElement('div');\n",
              "          docLink.innerHTML = docLinkHtml;\n",
              "          element.appendChild(docLink);\n",
              "        }\n",
              "      </script>\n",
              "    </div>\n",
              "  </div>\n",
              "  "
            ]
          },
          "metadata": {},
          "execution_count": 38
        }
      ]
    },
    {
      "cell_type": "code",
      "source": [
        "'''\n",
        "opt_dict = {}\n",
        "idx = benchmark['Accuracy'].idxmax()\n",
        "column_list = ['Accuracy', 'Recall', 'Precision', 'F1 score']\n",
        "benchmark = benchmark.drop([idx], axis=0).reset_index(drop=True) \n",
        "\n",
        "for columns in list(column_list) : \n",
        "  opt_dict['Average '+columns] = benchmark[columns].mean()\n",
        "\n",
        "opt_dict  \n",
        "'''"
      ],
      "metadata": {
        "id": "3IEnYz0it4OV",
        "colab": {
          "base_uri": "https://localhost:8080/",
          "height": 54
        },
        "outputId": "192df206-6361-4f3b-99e5-4f0102774003"
      },
      "execution_count": 39,
      "outputs": [
        {
          "output_type": "execute_result",
          "data": {
            "text/plain": [
              "\"\\nopt_dict = {}\\nidx = benchmark['Accuracy'].idxmax()\\ncolumn_list = ['Accuracy', 'Recall', 'Precision', 'F1 score']\\nbenchmark = benchmark.drop([idx], axis=0).reset_index(drop=True) \\n\\nfor columns in list(column_list) : \\n  opt_dict['Average '+columns] = benchmark[columns].mean()\\n\\nopt_dict  \\n\""
            ],
            "application/vnd.google.colaboratory.intrinsic+json": {
              "type": "string"
            }
          },
          "metadata": {},
          "execution_count": 39
        }
      ]
    },
    {
      "cell_type": "code",
      "source": [
        "one_label_list = en_data['label'].value_counts().loc[en_data['label'].value_counts()==1].index.tolist()\n",
        "drop_list = []\n",
        "for i in range(len(en_data)) : \n",
        "  if en_data['label'][i] in one_label_list : \n",
        "    drop_list.append(i)"
      ],
      "metadata": {
        "id": "mfDZMTq3YU3G"
      },
      "execution_count": 40,
      "outputs": []
    },
    {
      "cell_type": "code",
      "source": [
        "temp_label_data = en_data.copy()\n",
        "temp_label_data = temp_label_data.drop(drop_list, axis=0)\n",
        "X = temp_label_data.drop(['사번', 'label'], axis=1)\n",
        "y = temp_label_data['label']\n",
        "\n",
        "temp_label = en_data.iloc[drop_list]\n",
        "temp_x = temp_label.drop(['사번', 'label'], axis=1)\n",
        "temp_y = temp_label['label']\n",
        "\n",
        "X_train, X_test, y_train, y_test = train_test_split(X, y, test_size=0.25, random_state=5, stratify=y)\n",
        "X_train = X_train.append(temp_x)\n",
        "y_train = y_train.append(temp_y)"
      ],
      "metadata": {
        "id": "UdNckB_raakZ"
      },
      "execution_count": 41,
      "outputs": []
    },
    {
      "cell_type": "code",
      "source": [
        "'''\n",
        "# 최적 seed값 탐색\n",
        "\n",
        "max = 0\n",
        "seed_number_rf = 0\n",
        "rf_number = 0\n",
        "\n",
        "for seed in range(0, 50) : \n",
        "  temp_label_data = en_data.copy()\n",
        "  temp_label_data = temp_label_data.drop(drop_list, axis=0)\n",
        "  X = temp_label_data.drop(['사번', 'label'], axis=1)\n",
        "  y = temp_label_data['label']\n",
        "\n",
        "  temp_label = en_data.iloc[drop_list]\n",
        "  temp_x = temp_label.drop(['사번', 'label'], axis=1)\n",
        "  temp_y = temp_label['label']\n",
        "\n",
        "  X_train, X_test, y_train, y_test = train_test_split(X, y, test_size=0.25, random_state=seed, stratify=y)\n",
        "  X_train = X_train.append(temp_x)\n",
        "  y_train = y_train.append(temp_y)\n",
        "  for num in range(0, 50) : \n",
        "    model_rf = RandomForestClassifier(n_estimators=100, max_depth=10, min_samples_split=5, random_state=num)\n",
        "    # model_rf = XGBClassifier(n_estimators=100, max_depth=10, random_state=num)\n",
        "    model_rf.fit(X_train, y_train)\n",
        "    pred_rf = model_rf.predict(X_test)\n",
        "    r2 = accuracy_score(y_test, pred_rf)\n",
        "    if r2 > max :\n",
        "      max = r2\n",
        "      seed_number_rf = seed\n",
        "      rf_number = num\n",
        "\n",
        "print(max)\n",
        "print(seed_number_rf)\n",
        "print(rf_number)\n",
        "'''"
      ],
      "metadata": {
        "id": "9lO3vOC25Qxp",
        "colab": {
          "base_uri": "https://localhost:8080/",
          "height": 90
        },
        "outputId": "b978d506-9e02-4b81-9819-3ad1fcf0f842"
      },
      "execution_count": 42,
      "outputs": [
        {
          "output_type": "execute_result",
          "data": {
            "text/plain": [
              "\"\\n# 최적 seed값 탐색\\n\\nmax = 0\\nseed_number_rf = 0\\nrf_number = 0\\n\\nfor seed in range(0, 50) : \\n  temp_label_data = en_data.copy()\\n  temp_label_data = temp_label_data.drop(drop_list, axis=0)\\n  X = temp_label_data.drop(['사번', 'label'], axis=1)\\n  y = temp_label_data['label']\\n\\n  temp_label = en_data.iloc[drop_list]\\n  temp_x = temp_label.drop(['사번', 'label'], axis=1)\\n  temp_y = temp_label['label']\\n\\n  X_train, X_test, y_train, y_test = train_test_split(X, y, test_size=0.25, random_state=seed, stratify=y)\\n  X_train = X_train.append(temp_x)\\n  y_train = y_train.append(temp_y)\\n  for num in range(0, 50) : \\n    model_rf = RandomForestClassifier(n_estimators=100, max_depth=10, min_samples_split=5, random_state=num)\\n    # model_rf = XGBClassifier(n_estimators=100, max_depth=10, random_state=num)\\n    model_rf.fit(X_train, y_train)\\n    pred_rf = model_rf.predict(X_test)\\n    r2 = accuracy_score(y_test, pred_rf)\\n    if r2 > max :\\n      max = r2\\n      seed_number_rf = seed\\n      rf_number = num\\n\\nprint(max)\\nprint(seed_number_rf)\\nprint(rf_number)\\n\""
            ],
            "application/vnd.google.colaboratory.intrinsic+json": {
              "type": "string"
            }
          },
          "metadata": {},
          "execution_count": 42
        }
      ]
    },
    {
      "cell_type": "code",
      "source": [
        "pipeline_xgb = Pipeline(steps=[('classifier', ExtraTreesClassifier(random_state=24))]) # Extra 5 24 0.779 rf\n",
        "\n",
        "params_xgb={\n",
        "            'classifier__n_estimators' : [100, 200, 300],\n",
        "            'classifier__max_depth' : [2, 5, 10], \n",
        "            'classifier__min_samples_split' : [2, 5]}\n",
        "\n",
        "\n",
        "grid_search_xgb = GridSearchCV(estimator=pipeline_xgb,\n",
        "                               param_grid=params_xgb,\n",
        "                               scoring = 'accuracy',\n",
        "                               n_jobs=-1)\n",
        "\n",
        "grid_search_xgb.fit(X_train, y_train)\n",
        "pred_xgb = grid_search_xgb.predict(X_test)\n",
        "pred_proba = grid_search_xgb.predict_proba(X_test)[:,1]\n",
        "print(grid_search_xgb.best_params_)\n",
        "now = datetime.now()\n",
        "\n",
        "acc = accuracy_score(y_test, pred_xgb)\n",
        "re = recall_score(y_test, pred_xgb, average='weighted')\n",
        "pre = precision_score(y_test, pred_xgb, average='weighted')\n",
        "f1 = f1_score(y_test, pred_xgb, average='weighted')\n",
        "\n",
        "metrics_dict = {}\n",
        "metrics_dict['accuracy_score'] = acc\n",
        "metrics_dict['recall_score'] = re\n",
        "metrics_dict['precision_score'] = pre\n",
        "metrics_dict['f1_score'] = f1\n",
        "\n",
        "metrics_dict"
      ],
      "metadata": {
        "id": "xcVe_owSsxJ7",
        "colab": {
          "base_uri": "https://localhost:8080/"
        },
        "outputId": "a2916374-ad3d-4c66-a6a5-e38eaa09ea73"
      },
      "execution_count": 43,
      "outputs": [
        {
          "output_type": "stream",
          "name": "stderr",
          "text": [
            "The least populated class in y has only 1 members, which is less than n_splits=5.\n"
          ]
        },
        {
          "output_type": "stream",
          "name": "stdout",
          "text": [
            "{'classifier__max_depth': 10, 'classifier__min_samples_split': 5, 'classifier__n_estimators': 100}\n"
          ]
        },
        {
          "output_type": "stream",
          "name": "stderr",
          "text": [
            "Precision is ill-defined and being set to 0.0 in labels with no predicted samples. Use `zero_division` parameter to control this behavior.\n"
          ]
        },
        {
          "output_type": "execute_result",
          "data": {
            "text/plain": [
              "{'accuracy_score': 0.7755102040816326,\n",
              " 'recall_score': 0.7755102040816326,\n",
              " 'precision_score': 0.6571914480077745,\n",
              " 'f1_score': 0.6989221662691051}"
            ]
          },
          "metadata": {},
          "execution_count": 43
        }
      ]
    },
    {
      "cell_type": "code",
      "source": [
        "end_model = grid_search_xgb.best_estimator_['classifier']"
      ],
      "metadata": {
        "id": "qTdKRRizz2Qt"
      },
      "execution_count": 44,
      "outputs": []
    },
    {
      "cell_type": "code",
      "source": [
        "# Tree 계열 shap으로 변경\n",
        "explainer = shap.explainers.Tree(end_model, X_train) # 수정\n",
        "shap_values = explainer.shap_values(X_test, check_additivity=False) \n",
        "shap_obj = explainer(X_test, check_additivity=False)"
      ],
      "metadata": {
        "id": "QVN7d-HAzbCo"
      },
      "execution_count": 45,
      "outputs": []
    },
    {
      "cell_type": "code",
      "source": [
        "temp = X_train.copy()\n",
        "code_feature = temp.columns[14:112].tolist()\n",
        "for name in code_feature : \n",
        "  text = name.split('_', 1)\n",
        "  temp.rename(columns={name : text[0]+\"_\"+team_code['팀'].loc[team_code['코드']==int(text[1])].reset_index(drop=True)[0]}, inplace=True)"
      ],
      "metadata": {
        "id": "JwFKc4bN8Ob8"
      },
      "execution_count": 46,
      "outputs": []
    },
    {
      "cell_type": "code",
      "source": [
        "importances = np.absolute(shap_values).sum(axis=0) / len(np.absolute(shap_values).sum(axis=0)[0])\n",
        "\n",
        "imp = []\n",
        "for j in range(len(np.absolute(shap_values).sum(axis=0)[0])) : \n",
        "  cnt = 0\n",
        "  for i in range(len(importances)) : \n",
        "    cnt += importances[i][j]\n",
        "  imp.append(cnt)\n",
        "\n",
        "feature_importance = pd.Series(imp / sum(imp))\n",
        "feature_importance.index = temp.columns"
      ],
      "metadata": {
        "id": "Tj4S90_3Uq-U"
      },
      "execution_count": 47,
      "outputs": []
    },
    {
      "cell_type": "code",
      "source": [
        "# 수정 10-26\n",
        "# team_cnt = 0\n",
        "power_cnt = 0\n",
        "prize_cnt = 0\n",
        "\n",
        "# for i in range(len(feature_importance)) : \n",
        "  # if 11+3*i >= 155 :\n",
        "  #   break\n",
        "  # else : \n",
        "  #   team_cnt += feature_importance[11+3*i]\n",
        "\n",
        "for i in range(len(feature_importance)) : \n",
        "  if 13+2*i >= 112 : # 112\n",
        "    break\n",
        "  else : \n",
        "    power_cnt += feature_importance[14+2*i]\n",
        "\n",
        "for i in range(len(feature_importance)) : \n",
        "  if 14+2*i >= 112 : # 112 \n",
        "    break\n",
        "  else : \n",
        "    prize_cnt += feature_importance[15+2*i]"
      ],
      "metadata": {
        "id": "ismvWIQiTJXV"
      },
      "execution_count": 48,
      "outputs": []
    },
    {
      "cell_type": "code",
      "source": [
        "# 수정 10-26\n",
        "final_feature_imp = feature_importance[0:14]\n",
        "final_feature_imp = final_feature_imp.append(feature_importance[112:132]) # 112\n",
        "# final_feature_imp['팀평가등급'] = team_cnt\n",
        "final_feature_imp['역량평가등급'] = power_cnt\n",
        "final_feature_imp['업적평가등급'] = prize_cnt\n",
        "# final_feature_imp['팀별 근속년수'] = feature_importance[155:203].sum()\n",
        "# final_feature_imp = final_feature_imp.append(feature_importance[203:225])"
      ],
      "metadata": {
        "id": "4voL62VNSbdI"
      },
      "execution_count": 49,
      "outputs": []
    },
    {
      "cell_type": "code",
      "source": [
        "for name in final_feature_imp.index.drop(['업적평가등급', '역량평가등급']).tolist() : \n",
        "  final_feature_imp[name] += final_feature_imp['업적평가등급']*0.5/34 \n",
        "\n",
        "for name in final_feature_imp.index.drop(['업적평가등급', '역량평가등급']).tolist() : \n",
        "  final_feature_imp[name] += final_feature_imp['역량평가등급']*0.5/34 \n",
        "\n",
        "final_feature_imp['업적평가등급'] = final_feature_imp['업적평가등급']*0.5\n",
        "final_feature_imp['역량평가등급'] = final_feature_imp['역량평가등급']*0.5\n",
        "\n",
        "final_feature_imp['성실성'] += final_feature_imp['수상횟수']*0.5\n",
        "final_feature_imp['수상횟수'] = final_feature_imp['수상횟수']*0.5\n",
        "\n",
        "final_feature_imp['직무관련자격증'] += final_feature_imp['당사근속기간(개월)']*0.5\n",
        "final_feature_imp['당사근속기간(개월)'] = final_feature_imp['당사근속기간(개월)']*0.5\n",
        "\n",
        "final_feature_imp['역량 평균'] += final_feature_imp['연령']*0.5\n",
        "final_feature_imp['연령'] = final_feature_imp['연령']*0.5\n",
        "\n",
        "final_feature_imp['사회성'] += final_feature_imp['성별']*0.5\n",
        "final_feature_imp['성별'] = final_feature_imp['성별']*0.5"
      ],
      "metadata": {
        "id": "GQgdL2_fNeGs"
      },
      "execution_count": 50,
      "outputs": []
    },
    {
      "cell_type": "code",
      "source": [
        "fe_dict = final_feature_imp.to_dict()"
      ],
      "metadata": {
        "id": "yu-kD4HjXLn5"
      },
      "execution_count": 51,
      "outputs": []
    },
    {
      "cell_type": "code",
      "source": [
        "import seaborn as sns\n",
        "\n",
        "ft_importance = final_feature_imp.sort_values(ascending=False)\n",
        "\n",
        "# 시각화\n",
        "plt.figure(figsize=(15,15))\n",
        "plt.rc('font', size=20)  \n",
        "plt.title('Feature Importance')\n",
        "sns.barplot(x=ft_importance, y=ft_importance.index)\n",
        "plt.show()"
      ],
      "metadata": {
        "id": "rAtfvQwZuycz",
        "colab": {
          "base_uri": "https://localhost:8080/",
          "height": 901
        },
        "outputId": "ac2369c7-a330-4e09-dc48-1b5283652bca"
      },
      "execution_count": 52,
      "outputs": [
        {
          "output_type": "display_data",
          "data": {
            "text/plain": [
              "<Figure size 1080x1080 with 1 Axes>"
            ],
            "image/png": "[encoded data removed]"
          },
          "metadata": {
            "needs_background": "light"
          }
        }
      ]
    },
    {
      "cell_type": "code",
      "source": [
        "# 수정 10-26\n",
        "missing_rate = {}\n",
        "feature_data = raw_data[['직책', '직무',\n",
        " '성별',\n",
        " '연령',\n",
        " '당사근속기간(개월)',\n",
        " '외부경력(개월)',\n",
        " '총경력(개월)',\n",
        " '학력',\n",
        " '전공',\n",
        " '거주지',\n",
        " '직무관련자격증',\n",
        " '수상횟수', '동일부서 근무개월', '부서이동 필요', '긍정성', '적극성', '성실성', '사회성', '정체성', '관계성', '객관성', '비활성', '과활성', '역량 평균',\n",
        "       '영업', '연구/개발', 'IT서비스', '경영기획/지원', '생산/유통/품질', '홍보/마케팅', '서비스/고객지원',\n",
        "       '의료/보건', '건설 엔지니어', '금융/보험', '디자인', '공통']]\n",
        "\n",
        "for name in feature_data.columns.tolist() : \n",
        "  cnt = 0\n",
        "  for i in range(len(feature_data)) : \n",
        "    if feature_data[name].isnull()[i] == True : \n",
        "      cnt+=1\n",
        "  missing_rate[name] = cnt/len(feature_data)\n",
        "\n",
        "missing_rate['월별 소속팀'] = 0\n",
        "missing_rate['월별 소속팀 코드'] = 0\n",
        "missing_rate['팀평가등급'] = 0\n",
        "missing_rate['업적평가등급'] = 0\n",
        "missing_rate['역량평가등급'] = 0"
      ],
      "metadata": {
        "id": "B4KxeBoKYtA5"
      },
      "execution_count": 53,
      "outputs": []
    },
    {
      "cell_type": "markdown",
      "source": [
        "inference"
      ],
      "metadata": {
        "id": "Luo7FhPKasWb"
      }
    },
    {
      "cell_type": "code",
      "source": [
        "inf_x = en_data.drop(['사번', 'label'], axis=1)"
      ],
      "metadata": {
        "id": "NstxJKdC7efr"
      },
      "execution_count": 54,
      "outputs": []
    },
    {
      "cell_type": "code",
      "source": [
        "predictions = end_model.predict(inf_x)\n",
        "inf_proba = end_model.predict_proba(inf_x)"
      ],
      "metadata": {
        "id": "AON7b8vU7q90"
      },
      "execution_count": 55,
      "outputs": []
    },
    {
      "cell_type": "code",
      "source": [
        "output = pd.DataFrame(en_data['사번'], columns=['사번'])\n",
        "output['predict'] = predictions\n",
        "\n",
        "for i in range(len(output)) : \n",
        "  for j in range(len(team_code)) : \n",
        "    if output['predict'][i] == team_code['코드'][j] : \n",
        "      output['predict'][i] = team_code['팀'][j]"
      ],
      "metadata": {
        "id": "FBmdL6yLAQ1H",
        "colab": {
          "base_uri": "https://localhost:8080/"
        },
        "outputId": "e60efda5-b631-4821-9880-7645d9211a50"
      },
      "execution_count": 56,
      "outputs": [
        {
          "output_type": "stream",
          "name": "stderr",
          "text": [
            "\n",
            "A value is trying to be set on a copy of a slice from a DataFrame\n",
            "\n",
            "See the caveats in the documentation: https://pandas.pydata.org/pandas-docs/stable/user_guide/indexing.html#returning-a-view-versus-a-copy\n",
            "\n",
            "A value is trying to be set on a copy of a slice from a DataFrame\n",
            "\n",
            "See the caveats in the documentation: https://pandas.pydata.org/pandas-docs/stable/user_guide/indexing.html#returning-a-view-versus-a-copy\n"
          ]
        }
      ]
    },
    {
      "cell_type": "code",
      "source": [
        "i = 0\n",
        "for name in end_model.classes_ : \n",
        "  output[name] = inf_proba[:,i]\n",
        "  i+=1"
      ],
      "metadata": {
        "id": "QWJvu4WLAdDo"
      },
      "execution_count": 57,
      "outputs": []
    },
    {
      "cell_type": "code",
      "source": [
        "feature_name = recom.columns.tolist()\n",
        "feature_name.remove('사번')"
      ],
      "metadata": {
        "id": "mCMZ0swZ-aHV"
      },
      "execution_count": 58,
      "outputs": []
    },
    {
      "cell_type": "code",
      "source": [
        "for name in feature_name : \n",
        "  output = output.join(recom_raw.set_index('사번')[name], on='사번')"
      ],
      "metadata": {
        "id": "nHqnSC6U-Gyx"
      },
      "execution_count": 59,
      "outputs": []
    },
    {
      "cell_type": "code",
      "source": [
        "for name in personal.columns.drop(['성명', '이메일']).tolist() : \n",
        "  output = output.join(personal.set_index('이메일')[name], on='이메일')"
      ],
      "metadata": {
        "id": "fQZZDKwe-lm2"
      },
      "execution_count": 60,
      "outputs": []
    },
    {
      "cell_type": "code",
      "source": [
        "output.drop(['code'], axis=1, inplace=True)"
      ],
      "metadata": {
        "id": "3OMdTf5tB8q7"
      },
      "execution_count": 61,
      "outputs": []
    },
    {
      "cell_type": "code",
      "source": [
        "for name in output.columns.tolist() : \n",
        "  if name in team_code['코드'].tolist() : \n",
        "    output.rename(columns={name : team_code['팀'].loc[team_code['코드']==name].reset_index(drop=True)[0]}, inplace=True)"
      ],
      "metadata": {
        "id": "h8inHxzqD7wj"
      },
      "execution_count": 62,
      "outputs": []
    },
    {
      "cell_type": "markdown",
      "source": [
        "modeling 2"
      ],
      "metadata": {
        "id": "7vXdBzfccspG"
      }
    },
    {
      "cell_type": "code",
      "source": [
        "en_data_2 = sec_data.drop(['성명', '연락처', '이메일', '생년월일', '본부', '실', '팀', '직급', '현 직급 근속기간(연)', 'label_grade', 'code'], axis=1).reset_index(drop=True)"
      ],
      "metadata": {
        "id": "VGQSvqnLdarR"
      },
      "execution_count": 63,
      "outputs": []
    },
    {
      "cell_type": "code",
      "source": [
        "en_data_2['부서이동 필요'].replace({'High' : 3, 'Middle' : 2, 'Low' : 1}, inplace=True)"
      ],
      "metadata": {
        "id": "mWOTQ8prdarR"
      },
      "execution_count": 64,
      "outputs": []
    },
    {
      "cell_type": "code",
      "source": [
        "for name in ['직책', '성별', '학력', '전공', '거주지', '직무'] :\n",
        "  le = LabelEncoder()\n",
        "  en_data_2[name] = le.fit_transform(en_data_2[name])"
      ],
      "metadata": {
        "id": "sSquVJ2BdarR"
      },
      "execution_count": 65,
      "outputs": []
    },
    {
      "cell_type": "code",
      "source": [
        "X = en_data_2.drop(['사번', 'label'], axis=1)\n",
        "y = en_data_2['label']"
      ],
      "metadata": {
        "id": "gQJowtaXdarR"
      },
      "execution_count": 66,
      "outputs": []
    },
    {
      "cell_type": "code",
      "source": [
        "random_seed = 4"
      ],
      "metadata": {
        "id": "9Ya65RXxdarS"
      },
      "execution_count": 67,
      "outputs": []
    },
    {
      "cell_type": "code",
      "source": [
        "one_label_list = en_data_2['label'].value_counts().loc[en_data_2['label'].value_counts()==1].index.tolist()\n",
        "drop_list = []\n",
        "for i in range(len(en_data_2)) : \n",
        "  if en_data_2['label'][i] in one_label_list : \n",
        "    drop_list.append(i)"
      ],
      "metadata": {
        "id": "rv7UoxTLdarS"
      },
      "execution_count": 68,
      "outputs": []
    },
    {
      "cell_type": "code",
      "source": [
        "temp_label_data_2 = en_data_2.copy()\n",
        "temp_label_data_2 = temp_label_data_2.drop(drop_list, axis=0)\n",
        "A = temp_label_data_2.drop(['사번', 'label'], axis=1)\n",
        "b = temp_label_data_2['label']\n",
        "\n",
        "temp_label_2 = en_data_2.iloc[drop_list]\n",
        "temp_a = temp_label_2.drop(['사번', 'label'], axis=1)\n",
        "temp_b = temp_label_2['label']\n",
        "\n",
        "A_train, A_test, b_train, b_test = train_test_split(A, b, test_size=0.25, random_state=11, stratify=b)\n",
        "A_train = A_train.append(temp_a)\n",
        "b_train = b_train.append(temp_b)"
      ],
      "metadata": {
        "id": "eiijEvUSdarS"
      },
      "execution_count": 69,
      "outputs": []
    },
    {
      "cell_type": "code",
      "source": [
        "pipeline_xgb_2 = Pipeline(steps=[('classifier', RandomForestClassifier(random_state=1))]) # Extra 0 2 rf \n",
        "\n",
        "params_xgb_2={\n",
        "            'classifier__n_estimators' : [100],\n",
        "            'classifier__max_depth' : [10], \n",
        "            'classifier__min_samples_split' : [5]}\n",
        "\n",
        "\n",
        "grid_search_xgb_2 = GridSearchCV(estimator=pipeline_xgb_2,\n",
        "                               param_grid=params_xgb_2,\n",
        "                               scoring = 'accuracy',\n",
        "                               n_jobs=-1)\n",
        "\n",
        "grid_search_xgb_2.fit(A_train, b_train)\n",
        "pred_xgb_2 = grid_search_xgb_2.predict(A_test)\n",
        "pred_proba_2 = grid_search_xgb_2.predict_proba(A_test)[:,1]\n",
        "print(grid_search_xgb_2.best_params_)\n",
        "\n",
        "print(accuracy_score(b_test, pred_xgb_2))\n",
        "print(recall_score(b_test, pred_xgb_2, average='weighted'))\n",
        "print(precision_score(b_test, pred_xgb_2, average='weighted'))\n",
        "print(f1_score(b_test, pred_xgb_2, average='weighted'))"
      ],
      "metadata": {
        "id": "-5H5IKhDdarS",
        "colab": {
          "base_uri": "https://localhost:8080/"
        },
        "outputId": "dd7a2f91-7db3-4119-c3ea-81a3fc80f0cf"
      },
      "execution_count": 70,
      "outputs": [
        {
          "output_type": "stream",
          "name": "stderr",
          "text": [
            "The least populated class in y has only 1 members, which is less than n_splits=5.\n"
          ]
        },
        {
          "output_type": "stream",
          "name": "stdout",
          "text": [
            "{'classifier__max_depth': 10, 'classifier__min_samples_split': 5, 'classifier__n_estimators': 100}\n",
            "0.6231884057971014\n",
            "0.6231884057971014\n",
            "0.5170289855072463\n",
            "0.5424869816174164\n"
          ]
        },
        {
          "output_type": "stream",
          "name": "stderr",
          "text": [
            "Precision is ill-defined and being set to 0.0 in labels with no predicted samples. Use `zero_division` parameter to control this behavior.\n"
          ]
        }
      ]
    },
    {
      "cell_type": "code",
      "source": [
        "end_model_2 = grid_search_xgb_2.best_estimator_['classifier']"
      ],
      "metadata": {
        "id": "UnUt8kl4darS"
      },
      "execution_count": 71,
      "outputs": []
    },
    {
      "cell_type": "code",
      "source": [
        "# Tree 계열 shap으로 변경\n",
        "explainer_2 = shap.explainers.Tree(end_model_2, A_train) # 수정\n",
        "shap_values_2 = explainer_2.shap_values(A_test, check_additivity=False) \n",
        "shap_obj = explainer_2(A_test, check_additivity=False)"
      ],
      "metadata": {
        "id": "2Rro1Pv2darS"
      },
      "execution_count": 72,
      "outputs": []
    },
    {
      "cell_type": "markdown",
      "source": [
        "inference_2"
      ],
      "metadata": {
        "id": "i6Ri-Hpgf9dX"
      }
    },
    {
      "cell_type": "code",
      "source": [
        "core_data = en_data_2.iloc[core_number].reset_index(drop=True)"
      ],
      "metadata": {
        "id": "QsZD9CkjjjGK"
      },
      "execution_count": 73,
      "outputs": []
    },
    {
      "cell_type": "code",
      "source": [
        "# 2021년까지 자료만 있고 2022년 자료(22년 성과)를 반영하기 어려워 학습 및 검증에 사용했던 데이터를 그대로 inference에 활용 / 즉 21년까지의 데이터로 23년의 부서 추천을 한다고 생각\n",
        "inf_x_2 = core_data.drop(['사번', 'label'], axis=1)"
      ],
      "metadata": {
        "id": "quMSAJyrf7EL"
      },
      "execution_count": 74,
      "outputs": []
    },
    {
      "cell_type": "code",
      "source": [
        "predictions_2 = end_model_2.predict(inf_x_2)\n",
        "inf_proba_2 = end_model_2.predict_proba(inf_x_2)"
      ],
      "metadata": {
        "id": "cfxBF-CFf7EM"
      },
      "execution_count": 75,
      "outputs": []
    },
    {
      "cell_type": "code",
      "source": [
        "output_2 = pd.DataFrame(core_data['사번'], columns=['사번'])\n",
        "output_2['predict'] = predictions_2\n",
        "\n",
        "for i in range(len(output_2)) : \n",
        "  for j in range(len(team_code)) : \n",
        "    if output_2['predict'][i] == team_code['코드'][j] : \n",
        "      output_2['predict'][i] = team_code['팀'][j]"
      ],
      "metadata": {
        "id": "GhoIKUthf7EM",
        "colab": {
          "base_uri": "https://localhost:8080/"
        },
        "outputId": "c5b61406-481f-4f11-d67f-b99b27a232ea"
      },
      "execution_count": 76,
      "outputs": [
        {
          "output_type": "stream",
          "name": "stderr",
          "text": [
            "\n",
            "A value is trying to be set on a copy of a slice from a DataFrame\n",
            "\n",
            "See the caveats in the documentation: https://pandas.pydata.org/pandas-docs/stable/user_guide/indexing.html#returning-a-view-versus-a-copy\n",
            "\n",
            "A value is trying to be set on a copy of a slice from a DataFrame\n",
            "\n",
            "See the caveats in the documentation: https://pandas.pydata.org/pandas-docs/stable/user_guide/indexing.html#returning-a-view-versus-a-copy\n"
          ]
        }
      ]
    },
    {
      "cell_type": "code",
      "source": [
        "i = 0\n",
        "for name in end_model_2.classes_ : \n",
        "  output_2[name] = inf_proba_2[:,i]\n",
        "  i+=1"
      ],
      "metadata": {
        "id": "fWBrmMZyf7EM"
      },
      "execution_count": 77,
      "outputs": []
    },
    {
      "cell_type": "code",
      "source": [
        "for name in feature_name : \n",
        "  output_2 = output_2.join(recom_raw.set_index('사번')[name], on='사번')"
      ],
      "metadata": {
        "id": "oEKMLlwdf7EM"
      },
      "execution_count": 78,
      "outputs": []
    },
    {
      "cell_type": "code",
      "source": [
        "output_2.drop(['code'], axis=1, inplace=True)"
      ],
      "metadata": {
        "id": "9zGfl3Dhf7EN"
      },
      "execution_count": 79,
      "outputs": []
    },
    {
      "cell_type": "code",
      "source": [
        "for name in output_2.columns.tolist() : \n",
        "  if name in team_code['코드'].tolist() : \n",
        "    output_2.rename(columns={name : team_code['팀'].loc[team_code['코드']==name].reset_index(drop=True)[0]}, inplace=True)"
      ],
      "metadata": {
        "id": "wY9Mmuugf7EN"
      },
      "execution_count": 80,
      "outputs": []
    },
    {
      "cell_type": "code",
      "source": [
        "final_output = pd.concat([output, output_2], axis=0).reset_index(drop=True)"
      ],
      "metadata": {
        "id": "vNWdfUB6nM9J"
      },
      "execution_count": 81,
      "outputs": []
    },
    {
      "cell_type": "code",
      "source": [
        "new_col_name = final_output.columns[:50].tolist() + final_output.columns[-1:].tolist() + final_output.columns[50:-1].tolist()\n",
        "final_output = final_output[new_col_name]"
      ],
      "metadata": {
        "id": "VfThRbfno1uQ"
      },
      "execution_count": 82,
      "outputs": []
    },
    {
      "cell_type": "code",
      "source": [
        "main_dict = {}\n",
        "main_dict['feature importance'] = fe_dict\n",
        "main_dict['trainset_size'] = len(X_train) + len(inf_x_2)\n",
        "main_dict['testset_size'] = len(X_test)\n",
        "main_dict['total_size'] = len(X_train)+len(X_test) + len(inf_x_2)\n",
        "main_dict['last_train_date'] = str(now)\n",
        "main_dict['prediction'] = dict()\n",
        "main_dict['metrics'] = metrics_dict\n",
        "main_dict['coverage value'] = output['predict'].nunique()\n",
        "main_dict['coverage rate'] = output['predict'].nunique()/len(team_code)\n",
        "# main_dict['algorithm others'] = opt_dict\n",
        "main_dict['feature missing rate'] = missing_rate"
      ],
      "metadata": {
        "id": "m8uwPTguYZjr"
      },
      "execution_count": 83,
      "outputs": []
    },
    {
      "cell_type": "code",
      "source": [
        "main_dict"
      ],
      "metadata": {
        "id": "yxxsTUTJXQ_z",
        "colab": {
          "base_uri": "https://localhost:8080/"
        },
        "outputId": "00a5a349-1bf0-4da4-9b91-ad60c98de273"
      },
      "execution_count": 84,
      "outputs": [
        {
          "output_type": "execute_result",
          "data": {
            "text/plain": [
              "{'feature importance': {'직무': 0.0798469927100523,\n",
              "  '직책': 0.014274423370044077,\n",
              "  '성별': 0.007667175646763072,\n",
              "  '연령': 0.008086300016807236,\n",
              "  '당사근속기간(개월)': 0.00825131924306824,\n",
              "  '외부경력(개월)': 0.014122557299733118,\n",
              "  '총경력(개월)': 0.014691922688145606,\n",
              "  '학력': 0.01353546777425135,\n",
              "  '전공': 0.04483117535628782,\n",
              "  '거주지': 0.01632055160501968,\n",
              "  '직무관련자격증': 0.023160849249735684,\n",
              "  '수상횟수': 0.00899620218286559,\n",
              "  '동일부서 근무개월': 0.023859211655410353,\n",
              "  '부서이동 필요': 0.02084037130868257,\n",
              "  '긍정성': 0.013563947906755226,\n",
              "  '적극성': 0.01377080267393909,\n",
              "  '성실성': 0.026362228595587157,\n",
              "  '사회성': 0.02270647846489451,\n",
              "  '정체성': 0.013876253381958047,\n",
              "  '관계성': 0.013353383750070707,\n",
              "  '객관성': 0.013628093790911,\n",
              "  '비활성': 0.015946630681498243,\n",
              "  '과활성': 0.014768479962711425,\n",
              "  '역량 평균': 0.022232235024444144,\n",
              "  '영업': 0.014785900309551004,\n",
              "  '연구/개발': 0.013007289093670434,\n",
              "  'IT서비스': 0.014410025193621792,\n",
              "  '경영기획/지원': 0.013342837901122066,\n",
              "  '생산/유통/품질': 0.013527206889007548,\n",
              "  '홍보/마케팅': 0.012753058077122683,\n",
              "  '서비스/고객지원': 0.014634284863255229,\n",
              "  '의료/보건': 0.01462529236803252,\n",
              "  '건설 엔지니어': 0.012709655111156057,\n",
              "  '금융/보험': 0.01293207228863684,\n",
              "  '역량평가등급': 0.18413985470973618,\n",
              "  '업적평가등급': 0.20799210551672673},\n",
              " 'trainset_size': 228,\n",
              " 'testset_size': 49,\n",
              " 'total_size': 277,\n",
              " 'last_train_date': '2022-11-30 23:38:36.741650',\n",
              " 'prediction': {},\n",
              " 'metrics': {'accuracy_score': 0.7755102040816326,\n",
              "  'recall_score': 0.7755102040816326,\n",
              "  'precision_score': 0.6571914480077745,\n",
              "  'f1_score': 0.6989221662691051},\n",
              " 'coverage value': 42,\n",
              " 'coverage rate': 0.8571428571428571,\n",
              " 'feature missing rate': {'직책': 0.0,\n",
              "  '직무': 0.0,\n",
              "  '성별': 0.0,\n",
              "  '연령': 0.0,\n",
              "  '당사근속기간(개월)': 0.0,\n",
              "  '외부경력(개월)': 0.0,\n",
              "  '총경력(개월)': 0.0,\n",
              "  '학력': 0.0,\n",
              "  '전공': 0.0,\n",
              "  '거주지': 0.0,\n",
              "  '직무관련자격증': 0.0,\n",
              "  '수상횟수': 0.0,\n",
              "  '동일부서 근무개월': 0.0,\n",
              "  '부서이동 필요': 0.0,\n",
              "  '긍정성': 0.0,\n",
              "  '적극성': 0.0,\n",
              "  '성실성': 0.0,\n",
              "  '사회성': 0.0,\n",
              "  '정체성': 0.0,\n",
              "  '관계성': 0.0,\n",
              "  '객관성': 0.0,\n",
              "  '비활성': 0.0,\n",
              "  '과활성': 0.0,\n",
              "  '역량 평균': 0.0,\n",
              "  '영업': 0.0,\n",
              "  '연구/개발': 0.0,\n",
              "  'IT서비스': 0.0,\n",
              "  '경영기획/지원': 0.0,\n",
              "  '생산/유통/품질': 0.0,\n",
              "  '홍보/마케팅': 0.0,\n",
              "  '서비스/고객지원': 0.0,\n",
              "  '의료/보건': 0.0,\n",
              "  '건설 엔지니어': 0.0,\n",
              "  '금융/보험': 0.0,\n",
              "  '디자인': 0.0,\n",
              "  '공통': 0.0,\n",
              "  '월별 소속팀': 0,\n",
              "  '월별 소속팀 코드': 0,\n",
              "  '팀평가등급': 0,\n",
              "  '업적평가등급': 0,\n",
              "  '역량평가등급': 0}}"
            ]
          },
          "metadata": {},
          "execution_count": 84
        }
      ]
    },
    {
      "cell_type": "code",
      "source": [
        "json_file = json.dumps(main_dict)"
      ],
      "metadata": {
        "id": "zQJWhvexoD60"
      },
      "execution_count": 85,
      "outputs": []
    },
    {
      "cell_type": "code",
      "source": [
        "file_path = '/content/drive/My Drive/Colab Notebooks/NH농협캐피탈/부서이동/부서이동.json'"
      ],
      "metadata": {
        "id": "uPfrahiFppb7"
      },
      "execution_count": 86,
      "outputs": []
    },
    {
      "cell_type": "code",
      "source": [
        "with open(file_path, 'w', encoding='utf-8-sig') as file:\n",
        "    file.write(json.dumps(main_dict, ensure_ascii=False))"
      ],
      "metadata": {
        "id": "mZo8q2jgpgyt"
      },
      "execution_count": 87,
      "outputs": []
    },
    {
      "cell_type": "markdown",
      "source": [
        "filtering (근무부서코드에 따라 로직 변경요소 많음)"
      ],
      "metadata": {
        "id": "FXZnT-8ow7OR"
      }
    },
    {
      "cell_type": "code",
      "source": [
        "# 필터링 조건 부여\n",
        "# 1. high에 속한 인원인데 본인 부서 추천했을 경우 해당목록 제외하고 4순위 가져오기\n",
        "# 2. 추천 부서에 지점이 있을 경우 거주지 정보 탐색해서 본인 거주지와 불일치, 가깝지 않을 경우 거주지에 맞추어 추천\n",
        "# \n",
        "predict_rank = []\n",
        "\n",
        "# High인 인원들은 현직급부서 제외\n",
        "for i in range(len(final_output)) : \n",
        "  rank_list = final_output[final_output.columns[2:51]].sort_values(by=i, axis=1, ascending=False).columns[0:3].tolist()\n",
        "  if final_output['부서이동 필요'][i] == 'High' : \n",
        "    if final_output['팀'][i] in rank_list : \n",
        "      rank_list.remove(final_output['팀'][i])\n",
        "      rank_list.append(final_output[final_output.columns[2:51]].sort_values(by=i, axis=1, ascending=False).columns[4])\n",
        "  predict_rank.append(rank_list)"
      ],
      "metadata": {
        "id": "USXIaWMAqsug"
      },
      "execution_count": 88,
      "outputs": []
    },
    {
      "cell_type": "code",
      "source": [
        "sector_dict = {}\n",
        "\n",
        "sector_dict['평택지점'] = '경기'\n",
        "sector_dict['대전지점'] = ['대전', '세종', '충북']\n",
        "sector_dict['광주지점'] = '광주'\n",
        "\n",
        "sector_dict['서울1지점'] = ['서울', '경기']\n",
        "sector_dict['서울2지점'] = ['서울', '경기']\n",
        "sector_dict['인천지점'] = '인천'\n",
        "\n",
        "sector_dict['부산지점'] = '부산'\n",
        "sector_dict['대구지점'] = '대구'\n",
        "sector_dict['창원출장소'] = '경남'"
      ],
      "metadata": {
        "id": "woRYjfq4bUUl"
      },
      "execution_count": 89,
      "outputs": []
    },
    {
      "cell_type": "code",
      "source": [
        "for i in range(len(predict_rank)) : # 추천 부서 읽기\n",
        "  for j in range(3) : # 부서 3개\n",
        "    if predict_rank[i][j] in list(sector_dict.keys()) : # 만약 추천 리스트에 지점이 있을 경우\n",
        "      if type(sector_dict[predict_rank[i][j]]) == str : # dictionary가 단일 문자일 경우\n",
        "        if sector_dict[predict_rank[i][j]] != final_output['거주지'][i] : # 지점 value값이 사는 거주지와 다를 경우\n",
        "          if final_output['거주지'][i] == '서울'  : \n",
        "            predict_rank[i][j] = '서울1지점'\n",
        "          elif final_output['거주지'][i] =='경기' : \n",
        "            predict_rank[i][j] == '평택지점'\n",
        "          elif final_output['거주지'][i] == '대전' or final_output['거주지'][i] == '세종' or final_output['거주지'][i] == '충북' : \n",
        "            predict_rank[i][j] = '대전지점' \n",
        "          else : \n",
        "            nearby = [k for k, v in sector_dict.items() if v == final_output['거주지'][i]] # 거주지 인근 지점 찾기\n",
        "            predict_rank[i][j] = nearby[0] # 거주지 인근 지점을 추천리스트로 대체\n",
        "      else : # dict가 list일 경우\n",
        "        if final_output['거주지'][i] not in sector_dict[predict_rank[i][j]] : \n",
        "          if final_output['거주지'][i] == '서울'  : \n",
        "            predict_rank[i][j] = '서울1지점'\n",
        "          elif final_output['거주지'][i] =='경기' : \n",
        "            predict_rank[i][j] == '평택지점'\n",
        "          elif final_output['거주지'][i] == '대전' or final_output['거주지'][i] == '세종' or final_output['거주지'][i] == '충북' : \n",
        "            predict_rank[i][j] = '대전지점' \n",
        "          else : \n",
        "            nearby = [k for k, v in sector_dict.items() if v == final_output['거주지'][i]] # 거주지 인근 지점 찾기\n",
        "            predict_rank[i][j] = nearby[0] # 거주지 인근 지점을 추천리스트로 대체"
      ],
      "metadata": {
        "id": "3kL-BEVEj_pa"
      },
      "execution_count": 90,
      "outputs": []
    },
    {
      "cell_type": "code",
      "source": [
        "for i in range(len(predict_rank)) : # 추천 부서 읽기\n",
        "  cnt = 0 # 추천된 부서 지점 개수 세기\n",
        "  for j in range(3) : \n",
        "    if predict_rank[i][j] in list(sector_dict.keys()) : \n",
        "      cnt+=1\n",
        "  \n",
        "  if cnt == 2 : # 추천 부서에 지점 개수가 2개인 경우\n",
        "    for j in range(2, -1, -1) : # predict_3부터 바꾸기\n",
        "      if predict_rank[i][j] in list(sector_dict.keys()) : # 지점이 포함되어 있으면 4번째 추천 부서를 가져오는데 기존 추천 리스트에 없고 and 지점이 아닐경우 \n",
        "        if final_output[final_output.columns[2:51]].sort_values(by=i, axis=1, ascending=False).columns[3] not in list(sector_dict.keys()) and final_output[final_output.columns[2:51]].sort_values(by=i, axis=1, ascending=False).columns[3] not in predict_rank[i] : \n",
        "          predict_rank[i][j] = final_output[final_output.columns[2:51]].sort_values(by=i, axis=1, ascending=False).columns[3]\n",
        "        else : # 기존 추천 리스트에 있거나 지점일 경우에는 5번째 추천 부서 가져오기 + 한번 더 걸러내서 6번째까지 추천\n",
        "          if final_output[final_output.columns[2:51]].sort_values(by=i, axis=1, ascending=False).columns[4] not in list(sector_dict.keys()) and final_output[final_output.columns[2:51]].sort_values(by=i, axis=1, ascending=False).columns[4] not in predict_rank[i] : \n",
        "            predict_rank[i][j] = final_output[final_output.columns[2:51]].sort_values(by=i, axis=1, ascending=False).columns[4]\n",
        "          else : \n",
        "            predict_rank[i][j] = final_output[final_output.columns[2:51]].sort_values(by=i, axis=1, ascending=False).columns[5]\n",
        "        break # 한번만 바꾸면 되기에 중단\n",
        "      \n",
        "  elif cnt == 3 : # 추천 부서에 지점 개수가 3개인 경우\n",
        "      if final_output[final_output.columns[2:51]].sort_values(by=i, axis=1, ascending=False).columns[3] not in list(sector_dict.keys()) and final_output[final_output.columns[2:51]].sort_values(by=i, axis=1, ascending=False).columns[3] not in predict_rank[i] : \n",
        "        predict_rank[i][2] = final_output[final_output.columns[2:51]].sort_values(by=i, axis=1, ascending=False).columns[3]\n",
        "      else : \n",
        "        predict_rank[i][2] = final_output[final_output.columns[2:51]].sort_values(by=i, axis=1, ascending=False).columns[4]\n",
        "      if final_output[final_output.columns[2:51]].sort_values(by=i, axis=1, ascending=False).columns[4] not in list(sector_dict.keys()) and final_output[final_output.columns[2:51]].sort_values(by=i, axis=1, ascending=False).columns[4] not in predict_rank[i] : \n",
        "        predict_rank[i][1] = final_output[final_output.columns[2:51]].sort_values(by=i, axis=1, ascending=False).columns[4]\n",
        "      else : \n",
        "        if final_output[final_output.columns[2:51]].sort_values(by=i, axis=1, ascending=False).columns[5] not in list(sector_dict.keys()) and final_output[final_output.columns[2:51]].sort_values(by=i, axis=1, ascending=False).columns[5] not in predict_rank[i] : \n",
        "          predict_rank[i][1] = final_output[final_output.columns[2:51]].sort_values(by=i, axis=1, ascending=False).columns[5]\n",
        "        else:  \n",
        "          predict_rank[i][1] = final_output[final_output.columns[2:51]].sort_values(by=i, axis=1, ascending=False).columns[6]"
      ],
      "metadata": {
        "id": "SthMUiCttXU7"
      },
      "execution_count": 91,
      "outputs": []
    },
    {
      "cell_type": "code",
      "source": [
        "final_output[['predict_1', 'predict_2', 'predict_3']] = predict_rank"
      ],
      "metadata": {
        "id": "B3Q3fv92ue-V"
      },
      "execution_count": 92,
      "outputs": []
    },
    {
      "cell_type": "code",
      "source": [
        "col_list = final_output.columns.tolist()\n",
        "new_col_list = col_list[0:1]+col_list[-3:]+col_list[1:-3]\n",
        "\n",
        "final_output = final_output[new_col_list]\n",
        "\n",
        "final_output.drop(final_output.columns[4:54].tolist(), axis=1, inplace=True)"
      ],
      "metadata": {
        "id": "9EsAg4C3ulsf",
        "colab": {
          "base_uri": "https://localhost:8080/"
        },
        "outputId": "c19f8675-f29b-4959-8a62-32ca099b8623"
      },
      "execution_count": 93,
      "outputs": [
        {
          "output_type": "stream",
          "name": "stderr",
          "text": [
            "\n",
            "A value is trying to be set on a copy of a slice from a DataFrame\n",
            "\n",
            "See the caveats in the documentation: https://pandas.pydata.org/pandas-docs/stable/user_guide/indexing.html#returning-a-view-versus-a-copy\n"
          ]
        }
      ]
    },
    {
      "cell_type": "code",
      "source": [
        "final_output.replace({'직급' : ['업무지원역', '기획역']}, '기타', inplace=True)"
      ],
      "metadata": {
        "id": "RC3jzkEtQPE9",
        "colab": {
          "base_uri": "https://localhost:8080/"
        },
        "outputId": "6c178e48-b238-4f85-d3b3-f2347d5cafe9"
      },
      "execution_count": 94,
      "outputs": [
        {
          "output_type": "stream",
          "name": "stderr",
          "text": [
            "\n",
            "A value is trying to be set on a copy of a slice from a DataFrame.\n",
            "Try using .loc[row_indexer,col_indexer] = value instead\n",
            "\n",
            "See the caveats in the documentation: https://pandas.pydata.org/pandas-docs/stable/user_guide/indexing.html#returning-a-view-versus-a-copy\n"
          ]
        }
      ]
    },
    {
      "cell_type": "code",
      "source": [
        "# 수정 1116\n",
        "attrition = ['정희진', '박영민', '강도이', '박상완', '김봉식']\n",
        "attrition_idx = []\n",
        "for i in range(len(final_output)) : \n",
        " if final_output['성명'][i] in attrition : \n",
        "   attrition_idx.append(i)\n",
        "\n",
        "final_output.drop(attrition_idx, inplace=True)"
      ],
      "metadata": {
        "id": "Z247G30OVcuZ"
      },
      "execution_count": 95,
      "outputs": []
    },
    {
      "cell_type": "code",
      "source": [
        "final_output.to_csv('/content/drive/My Drive/Colab Notebooks/NH농협캐피탈/부서이동/output_부서이동.csv', encoding='utf-8-sig', index=False)"
      ],
      "metadata": {
        "id": "Z6RMhzmPCY7r"
      },
      "execution_count": 96,
      "outputs": []
    },
    {
      "cell_type": "markdown",
      "source": [
        "feature_weight_1"
      ],
      "metadata": {
        "id": "k8Q8_RrKqJnH"
      }
    },
    {
      "cell_type": "code",
      "source": [
        "shap_values_inf = explainer.shap_values(inf_x, check_additivity=False)"
      ],
      "metadata": {
        "id": "ZBXzcTbtG88O",
        "colab": {
          "base_uri": "https://localhost:8080/"
        },
        "outputId": "f7e04796-636b-4e55-a19b-2cf5572421d7"
      },
      "execution_count": 97,
      "outputs": [
        {
          "output_type": "stream",
          "name": "stderr",
          "text": [
            " 99%|===================| 9685/9744 [00:37<00:00]       "
          ]
        }
      ]
    },
    {
      "cell_type": "code",
      "source": [
        "feature_weight_list = []\n",
        "\n",
        "for j in range(len(inf_x)) : \n",
        "  id = en_data['사번'][j]\n",
        "  for i in range(len(end_model.classes_)) : \n",
        "    classes = end_model.classes_[i]    \n",
        "    sum = np.absolute(shap_values_inf[i][j]).sum()\n",
        "    value_list = []\n",
        "    value_list.append(id)\n",
        "    value_list.append(classes)\n",
        "    for k in range(len(inf_x.columns)) :\n",
        "      if shap_values_inf[i][j][k] > 0 :\n",
        "        values = shap_values_inf[i][j][k] / sum\n",
        "        value_list.append(values)\n",
        "      else : \n",
        "        values = np.absolute(shap_values_inf[i][j][k]) / sum\n",
        "        value_list.append(values)\n",
        "    feature_weight_list.append(value_list)"
      ],
      "metadata": {
        "id": "ePOvMg0GK1Rt"
      },
      "execution_count": 98,
      "outputs": []
    },
    {
      "cell_type": "code",
      "source": [
        "feature_weight_columns = ['사번', 'classes']\n",
        "for name in inf_x.columns.tolist() : \n",
        "  feature_weight_columns.append(name)\n",
        "\n",
        "feature_weight = pd.DataFrame(feature_weight_list, columns = feature_weight_columns)\n",
        "\n",
        "for i in range(len(feature_weight)) : \n",
        "  for j in range(len(team_code)) : \n",
        "    if feature_weight['classes'][i] == team_code['코드'][j] : \n",
        "      feature_weight['classes'][i] = team_code['팀'][j]"
      ],
      "metadata": {
        "id": "Bt5yvMEOHazl",
        "colab": {
          "base_uri": "https://localhost:8080/"
        },
        "outputId": "51cf5afb-17e8-452d-867c-8dae14513559"
      },
      "execution_count": 99,
      "outputs": [
        {
          "output_type": "stream",
          "name": "stderr",
          "text": [
            "\n",
            "A value is trying to be set on a copy of a slice from a DataFrame\n",
            "\n",
            "See the caveats in the documentation: https://pandas.pydata.org/pandas-docs/stable/user_guide/indexing.html#returning-a-view-versus-a-copy\n"
          ]
        }
      ]
    },
    {
      "cell_type": "code",
      "source": [
        "code_feature = feature_weight.columns[16:114].tolist()\n",
        "for name in code_feature : \n",
        "  text = name.split('_', 1)\n",
        "  feature_weight.rename(columns={name : text[0]+\"_\"+team_code['팀'].loc[team_code['코드']==int(text[1])].reset_index(drop=True)[0]}, inplace=True)"
      ],
      "metadata": {
        "id": "SYJw-TO9X7Q_"
      },
      "execution_count": 100,
      "outputs": []
    },
    {
      "cell_type": "code",
      "source": [
        "for name in team_code['팀'].tolist() : \n",
        "  if '역량_'+name in feature_weight.columns.tolist() : \n",
        "    # feature_weight[name] = feature_weight['팀_'+name] + feature_weight['역량_'+name] + feature_weight['업적_'+name] + feature_weight['근속년수_'+name]\n",
        "    feature_weight[name] = feature_weight['역량_'+name] + feature_weight['업적_'+name]"
      ],
      "metadata": {
        "id": "yU5l-vJhwbWg"
      },
      "execution_count": 101,
      "outputs": []
    },
    {
      "cell_type": "code",
      "source": [
        "final_feature_weight = feature_weight.drop(feature_weight.columns[16:114].tolist(), axis=1)"
      ],
      "metadata": {
        "id": "F1_TpJOb33sh"
      },
      "execution_count": 102,
      "outputs": []
    },
    {
      "cell_type": "markdown",
      "source": [
        "feature_weight_2"
      ],
      "metadata": {
        "id": "oMTUZYDLsTqy"
      }
    },
    {
      "cell_type": "code",
      "source": [
        "shap_values_inf_2 = explainer_2.shap_values(inf_x_2, check_additivity=False)"
      ],
      "metadata": {
        "id": "s8xcnkslsYQ9",
        "colab": {
          "base_uri": "https://localhost:8080/"
        },
        "outputId": "4d196a22-0460-490f-fb85-c24885b94260"
      },
      "execution_count": 103,
      "outputs": [
        {
          "output_type": "stream",
          "name": "stderr",
          "text": [
            "\r 93%|=================== | 3358/3626 [00:11<00:00]       "
          ]
        }
      ]
    },
    {
      "cell_type": "code",
      "source": [
        "feature_weight_list_2 = []\n",
        "\n",
        "for j in range(len(inf_x_2)) : \n",
        "  id = core_data['사번'][j]\n",
        "  for i in range(len(end_model_2.classes_)) : \n",
        "    classes = end_model_2.classes_[i]    \n",
        "    sum = np.absolute(shap_values_inf_2[i][j]).sum()\n",
        "    value_list = []\n",
        "    value_list.append(id)\n",
        "    value_list.append(classes)\n",
        "    for k in range(len(inf_x_2.columns)) :\n",
        "      if shap_values_inf_2[i][j][k] > 0 :\n",
        "        values = shap_values_inf_2[i][j][k] / sum\n",
        "        value_list.append(values)\n",
        "      else : \n",
        "        values = np.absolute(shap_values_inf_2[i][j][k]) / sum\n",
        "        value_list.append(values)\n",
        "    feature_weight_list_2.append(value_list)"
      ],
      "metadata": {
        "id": "3EyGr5m-sYQ9"
      },
      "execution_count": 104,
      "outputs": []
    },
    {
      "cell_type": "code",
      "source": [
        "feature_weight_columns_2 = ['사번', 'classes']\n",
        "for name in inf_x_2.columns.tolist() : \n",
        "  feature_weight_columns_2.append(name)\n",
        "\n",
        "feature_weight_2 = pd.DataFrame(feature_weight_list_2, columns = feature_weight_columns_2)\n",
        "\n",
        "for i in range(len(feature_weight_2)) : \n",
        "  for j in range(len(team_code)) : \n",
        "    if feature_weight_2['classes'][i] == team_code['코드'][j] : \n",
        "      feature_weight_2['classes'][i] = team_code['팀'][j]"
      ],
      "metadata": {
        "id": "QOfDwUjRsYQ-",
        "colab": {
          "base_uri": "https://localhost:8080/"
        },
        "outputId": "ca9e7df2-bb58-4a05-ddd8-957715ced1e7"
      },
      "execution_count": 105,
      "outputs": [
        {
          "output_type": "stream",
          "name": "stderr",
          "text": [
            "\n",
            "A value is trying to be set on a copy of a slice from a DataFrame\n",
            "\n",
            "See the caveats in the documentation: https://pandas.pydata.org/pandas-docs/stable/user_guide/indexing.html#returning-a-view-versus-a-copy\n"
          ]
        }
      ]
    },
    {
      "cell_type": "code",
      "source": [
        "code_feature_2 = feature_weight_2.columns[16:114].tolist()\n",
        "for name in code_feature_2 : \n",
        "  text = name.split('_', 1)\n",
        "  feature_weight_2.rename(columns={name : text[0]+\"_\"+team_code['팀'].loc[team_code['코드']==int(text[1])].reset_index(drop=True)[0]}, inplace=True)"
      ],
      "metadata": {
        "id": "tpqF-QhEsYQ-"
      },
      "execution_count": 106,
      "outputs": []
    },
    {
      "cell_type": "code",
      "source": [
        "for name in team_code['팀'].tolist() : \n",
        "  if '역량_'+name in feature_weight_2.columns.tolist() : \n",
        "    # feature_weight_2[name] = feature_weight_2['팀_'+name] + feature_weight_2['역량_'+name] + feature_weight_2['업적_'+name] + feature_weight_2['근속년수_'+name]\n",
        "    feature_weight_2[name] = feature_weight_2['역량_'+name] + feature_weight_2['업적_'+name]"
      ],
      "metadata": {
        "id": "Bs0XGGddsYQ-"
      },
      "execution_count": 107,
      "outputs": []
    },
    {
      "cell_type": "code",
      "source": [
        "final_feature_weight_2 = feature_weight_2.drop(feature_weight_2.columns[16:114].tolist(), axis=1)"
      ],
      "metadata": {
        "id": "1q-fumAfsYQ-"
      },
      "execution_count": 108,
      "outputs": []
    },
    {
      "cell_type": "code",
      "source": [
        "final_feature_weight_f = pd.concat([final_feature_weight, final_feature_weight_2], axis=0)"
      ],
      "metadata": {
        "id": "dycpvsR_t7ht"
      },
      "execution_count": 109,
      "outputs": []
    },
    {
      "cell_type": "code",
      "source": [
        "final_feature_weight_f.fillna(0, inplace=True)"
      ],
      "metadata": {
        "id": "kQavyioQvvyr"
      },
      "execution_count": 110,
      "outputs": []
    },
    {
      "cell_type": "code",
      "source": [
        "final_feature_weight_f.to_csv('/content/drive/My Drive/Colab Notebooks/NH농협캐피탈/부서이동/feature_weight_부서이동.csv', encoding='utf-8-sig', index=False)"
      ],
      "metadata": {
        "id": "SUrkHkqNObu7"
      },
      "execution_count": 111,
      "outputs": []
    },
    {
      "cell_type": "code",
      "source": [
        "'''\n",
        "# 검증코드 / 대표님 보고용으로 제거해도 무방\n",
        "\n",
        "prove = pd.DataFrame(output['사번'])\n",
        "prove[output.columns.tolist()[2:42]] = output[output.columns.tolist()[2:42]]\n",
        "prove.drop(['사번'], axis=1, inplace=True)\n",
        "temp = pd.DataFrame(output['사번'])\n",
        "\n",
        "for i in range(len(prove.columns)) : \n",
        "  name = '%d순위' % i\n",
        "  temp[name] = 0\n",
        "\n",
        "for i in range(len(prove)) : \n",
        "  order = prove.iloc[i].sort_values(ascending=False).index.tolist()\n",
        "  for j in range(len(order)) : \n",
        "    name = '%d순위' % j\n",
        "    temp[name][i] = order[j]\n",
        "\n",
        "tempp = pd.DataFrame(output['사번'])\n",
        "for i in range(len(prove.columns)) : \n",
        "  name = '%d순위 확률' % i\n",
        "  tempp[name] = 0\n",
        "\n",
        "tempp.drop(['사번'], axis=1, inplace=True)\n",
        "\n",
        "aa = []\n",
        "\n",
        "for i in range(len(prove)) : \n",
        "  order = prove.iloc[i].sort_values(ascending=False).values.tolist()\n",
        "  aa.append(order)\n",
        "\n",
        "tt = pd.DataFrame(aa, columns=tempp.columns)\n",
        "\n",
        "temp[['15년12월', '16년12월', '17년12월', '18년12월', '19년12월', '20년12월', '21년12월', '팀']] = output[['15년12월', '16년12월', '17년12월', '18년12월', '19년12월', '20년12월', '21년12월', '팀']]\n",
        "\n",
        "ppp = pd.concat([temp, tt], axis=1)\n",
        "ppp.to_csv('/content/drive/My Drive/Colab Notebooks/NH농협캐피탈/부서이동/부서이동 검증.csv', encoding='utf-8-sig', index=False)\n",
        "'''"
      ],
      "metadata": {
        "id": "LnIz4ZwqbY-C",
        "colab": {
          "base_uri": "https://localhost:8080/",
          "height": 109
        },
        "outputId": "d6dae06a-2c3e-4203-9ec1-c19bc85baf0c"
      },
      "execution_count": 112,
      "outputs": [
        {
          "output_type": "execute_result",
          "data": {
            "text/plain": [
              "\"\\n# 검증코드 / 대표님 보고용으로 제거해도 무방\\n\\nprove = pd.DataFrame(output['사번'])\\nprove[output.columns.tolist()[2:42]] = output[output.columns.tolist()[2:42]]\\nprove.drop(['사번'], axis=1, inplace=True)\\ntemp = pd.DataFrame(output['사번'])\\n\\nfor i in range(len(prove.columns)) : \\n  name = '%d순위' % i\\n  temp[name] = 0\\n\\nfor i in range(len(prove)) : \\n  order = prove.iloc[i].sort_values(ascending=False).index.tolist()\\n  for j in range(len(order)) : \\n    name = '%d순위' % j\\n    temp[name][i] = order[j]\\n\\ntempp = pd.DataFrame(output['사번'])\\nfor i in range(len(prove.columns)) : \\n  name = '%d순위 확률' % i\\n  tempp[name] = 0\\n\\ntempp.drop(['사번'], axis=1, inplace=True)\\n\\naa = []\\n\\nfor i in range(len(prove)) : \\n  order = prove.iloc[i].sort_values(ascending=False).values.tolist()\\n  aa.append(order)\\n\\ntt = pd.DataFrame(aa, columns=tempp.columns)\\n\\ntemp[['15년12월', '16년12월', '17년12월', '18년12월', '19년12월', '20년12월', '21년12월', '팀']] = output[['15년12월', '16년12월', '17년12월', '18년12월', '19년12월', '20년12월', '21년12월', '팀']]\\n\\nppp = pd.concat([temp, tt], axis=1)\\nppp.to_csv('/content/drive/My Drive/Colab Notebooks/NH농협캐피탈/부서이동/부서이동 검증.csv', encoding='utf-8-sig', index=False)\\n\""
            ],
            "application/vnd.google.colaboratory.intrinsic+json": {
              "type": "string"
            }
          },
          "metadata": {},
          "execution_count": 112
        }
      ]
    },
    {
      "cell_type": "code",
      "source": [
        "final_output"
      ],
      "metadata": {
        "id": "LZFRTTbOXgUY",
        "colab": {
          "base_uri": "https://localhost:8080/",
          "height": 659
        },
        "outputId": "f1feffa3-e2a5-4972-a796-b47e18da4990"
      },
      "execution_count": 113,
      "outputs": [
        {
          "output_type": "execute_result",
          "data": {
            "text/plain": [
              "           사번 predict_1 predict_2  predict_3   성명            연락처  \\\n",
              "0    B0810003    리스크검증팀     서울1지점      IT운영팀  변홍구  010-9570-2340   \n",
              "1    B0810007     IT개선팀    디지털전략팀      서울1지점  이창준  010-6532-3351   \n",
              "2    B0810024     기업심사팀    기업금융1팀     ESG추진팀  김진영  010-9174-9850   \n",
              "3    B0910010  디지털영업기획팀     경영전략팀      오토기획팀  이상명  010-2500-1121   \n",
              "4    B1010001     서울2지점  오토다이렉트지점     리테일심사팀  서용원  010-8761-9675   \n",
              "..        ...       ...       ...        ...  ...            ...   \n",
              "272  B2210052    리테일기획팀      부산지점   FLEET금융팀  이민설  010-4464-4442   \n",
              "273  B2210074    전략영업2팀    전략영업1팀     디지털전략팀  송자훈  010-4723-6700   \n",
              "274  B2210116     신용분석팀     서울1지점  리테일다이렉트지점  전재홍  010-3304-9084   \n",
              "275  B2210117     경영지원팀     서울2지점      기업심사팀  박대용  010-4162-1055   \n",
              "276  B2210128     고객지원팀     서울1지점     리테일기획팀  최선진  010-8576-0736   \n",
              "\n",
              "                         이메일        생년월일       본부         실  ...  IT서비스  \\\n",
              "0     byunhg@nhcapital.co.kr  1964-05-12  리스크관리본부    리스크관리실  ...  71.54   \n",
              "1      cjlee@nhcapital.co.kr  1972-02-20  디지털금융본부    DT추진센터  ...  66.52   \n",
              "2      jykim@nhcapital.co.kr  1980-11-23   기업금융본부     기업금융실  ...  55.21   \n",
              "3      smlee@nhcapital.co.kr  1981-12-19  디지털금융본부    디지털영업실  ...  75.32   \n",
              "4      seoyw@nhcapital.co.kr  1966-05-01  리스크관리본부    리스크관리실  ...  49.43   \n",
              "..                       ...         ...      ...       ...  ...    ...   \n",
              "272     seol@nhcapital.co.kr  1989-04-24  리테일금융본부  리테일영업3센터  ...    NaN   \n",
              "273   jhsong@nhcapital.co.kr  1987-01-29   전략금융본부     전략영업실  ...    NaN   \n",
              "274      jjh@nhcapital.co.kr  1989-04-11  리스크관리본부    리스크관리실  ...    NaN   \n",
              "275  pdy1055@nhcapital.co.kr  1989-11-29   경영지원본부     경영기획실  ...    NaN   \n",
              "276   sjchoi@nhcapital.co.kr  1983-01-01  디지털금융본부    DT추진센터  ...    NaN   \n",
              "\n",
              "    경영기획/지원 생산/유통/품질  홍보/마케팅 서비스/고객지원  의료/보건  건설 엔지니어  금융/보험    디자인     공통  \n",
              "0     74.04    75.55   70.67    67.48  70.82    75.46  69.06  69.57  69.02  \n",
              "1     59.19    60.52   63.60    55.97  55.70    64.23  57.30  60.94  63.32  \n",
              "2     60.02    52.56   55.87    63.46  54.11    51.20  66.58  56.69  61.97  \n",
              "3     72.77    72.47   72.95    73.88  66.05    60.82  78.57  74.36  72.03  \n",
              "4     51.12    53.24   50.89    56.70  55.22    48.74  52.79  55.15  50.05  \n",
              "..      ...      ...     ...      ...    ...      ...    ...    ...    ...  \n",
              "272     NaN      NaN     NaN      NaN    NaN      NaN    NaN    NaN    NaN  \n",
              "273     NaN      NaN     NaN      NaN    NaN      NaN    NaN    NaN    NaN  \n",
              "274     NaN      NaN     NaN      NaN    NaN      NaN    NaN    NaN    NaN  \n",
              "275     NaN      NaN     NaN      NaN    NaN      NaN    NaN    NaN    NaN  \n",
              "276     NaN      NaN     NaN      NaN    NaN      NaN    NaN    NaN    NaN  \n",
              "\n",
              "[272 rows x 250 columns]"
            ],
            "text/html": [
              "\n",
              "  <div id=\"df-ca01df58-043f-47c6-b2bc-cf1ceeb75bf1\">\n",
              "    <div class=\"colab-df-container\">\n",
              "      <div>\n",
              "<style scoped>\n",
              "    .dataframe tbody tr th:only-of-type {\n",
              "        vertical-align: middle;\n",
              "    }\n",
              "\n",
              "    .dataframe tbody tr th {\n",
              "        vertical-align: top;\n",
              "    }\n",
              "\n",
              "    .dataframe thead th {\n",
              "        text-align: right;\n",
              "    }\n",
              "</style>\n",
              "<table border=\"1\" class=\"dataframe\">\n",
              "  <thead>\n",
              "    <tr style=\"text-align: right;\">\n",
              "      <th></th>\n",
              "      <th>사번</th>\n",
              "      <th>predict_1</th>\n",
              "      <th>predict_2</th>\n",
              "      <th>predict_3</th>\n",
              "      <th>성명</th>\n",
              "      <th>연락처</th>\n",
              "      <th>이메일</th>\n",
              "      <th>생년월일</th>\n",
              "      <th>본부</th>\n",
              "      <th>실</th>\n",
              "      <th>...</th>\n",
              "      <th>IT서비스</th>\n",
              "      <th>경영기획/지원</th>\n",
              "      <th>생산/유통/품질</th>\n",
              "      <th>홍보/마케팅</th>\n",
              "      <th>서비스/고객지원</th>\n",
              "      <th>의료/보건</th>\n",
              "      <th>건설 엔지니어</th>\n",
              "      <th>금융/보험</th>\n",
              "      <th>디자인</th>\n",
              "      <th>공통</th>\n",
              "    </tr>\n",
              "  </thead>\n",
              "  <tbody>\n",
              "    <tr>\n",
              "      <th>0</th>\n",
              "      <td>B0810003</td>\n",
              "      <td>리스크검증팀</td>\n",
              "      <td>서울1지점</td>\n",
              "      <td>IT운영팀</td>\n",
              "      <td>변홍구</td>\n",
              "      <td>010-9570-2340</td>\n",
              "      <td>byunhg@nhcapital.co.kr</td>\n",
              "      <td>1964-05-12</td>\n",
              "      <td>리스크관리본부</td>\n",
              "      <td>리스크관리실</td>\n",
              "      <td>...</td>\n",
              "      <td>71.54</td>\n",
              "      <td>74.04</td>\n",
              "      <td>75.55</td>\n",
              "      <td>70.67</td>\n",
              "      <td>67.48</td>\n",
              "      <td>70.82</td>\n",
              "      <td>75.46</td>\n",
              "      <td>69.06</td>\n",
              "      <td>69.57</td>\n",
              "      <td>69.02</td>\n",
              "    </tr>\n",
              "    <tr>\n",
              "      <th>1</th>\n",
              "      <td>B0810007</td>\n",
              "      <td>IT개선팀</td>\n",
              "      <td>디지털전략팀</td>\n",
              "      <td>서울1지점</td>\n",
              "      <td>이창준</td>\n",
              "      <td>010-6532-3351</td>\n",
              "      <td>cjlee@nhcapital.co.kr</td>\n",
              "      <td>1972-02-20</td>\n",
              "      <td>디지털금융본부</td>\n",
              "      <td>DT추진센터</td>\n",
              "      <td>...</td>\n",
              "      <td>66.52</td>\n",
              "      <td>59.19</td>\n",
              "      <td>60.52</td>\n",
              "      <td>63.60</td>\n",
              "      <td>55.97</td>\n",
              "      <td>55.70</td>\n",
              "      <td>64.23</td>\n",
              "      <td>57.30</td>\n",
              "      <td>60.94</td>\n",
              "      <td>63.32</td>\n",
              "    </tr>\n",
              "    <tr>\n",
              "      <th>2</th>\n",
              "      <td>B0810024</td>\n",
              "      <td>기업심사팀</td>\n",
              "      <td>기업금융1팀</td>\n",
              "      <td>ESG추진팀</td>\n",
              "      <td>김진영</td>\n",
              "      <td>010-9174-9850</td>\n",
              "      <td>jykim@nhcapital.co.kr</td>\n",
              "      <td>1980-11-23</td>\n",
              "      <td>기업금융본부</td>\n",
              "      <td>기업금융실</td>\n",
              "      <td>...</td>\n",
              "      <td>55.21</td>\n",
              "      <td>60.02</td>\n",
              "      <td>52.56</td>\n",
              "      <td>55.87</td>\n",
              "      <td>63.46</td>\n",
              "      <td>54.11</td>\n",
              "      <td>51.20</td>\n",
              "      <td>66.58</td>\n",
              "      <td>56.69</td>\n",
              "      <td>61.97</td>\n",
              "    </tr>\n",
              "    <tr>\n",
              "      <th>3</th>\n",
              "      <td>B0910010</td>\n",
              "      <td>디지털영업기획팀</td>\n",
              "      <td>경영전략팀</td>\n",
              "      <td>오토기획팀</td>\n",
              "      <td>이상명</td>\n",
              "      <td>010-2500-1121</td>\n",
              "      <td>smlee@nhcapital.co.kr</td>\n",
              "      <td>1981-12-19</td>\n",
              "      <td>디지털금융본부</td>\n",
              "      <td>디지털영업실</td>\n",
              "      <td>...</td>\n",
              "      <td>75.32</td>\n",
              "      <td>72.77</td>\n",
              "      <td>72.47</td>\n",
              "      <td>72.95</td>\n",
              "      <td>73.88</td>\n",
              "      <td>66.05</td>\n",
              "      <td>60.82</td>\n",
              "      <td>78.57</td>\n",
              "      <td>74.36</td>\n",
              "      <td>72.03</td>\n",
              "    </tr>\n",
              "    <tr>\n",
              "      <th>4</th>\n",
              "      <td>B1010001</td>\n",
              "      <td>서울2지점</td>\n",
              "      <td>오토다이렉트지점</td>\n",
              "      <td>리테일심사팀</td>\n",
              "      <td>서용원</td>\n",
              "      <td>010-8761-9675</td>\n",
              "      <td>seoyw@nhcapital.co.kr</td>\n",
              "      <td>1966-05-01</td>\n",
              "      <td>리스크관리본부</td>\n",
              "      <td>리스크관리실</td>\n",
              "      <td>...</td>\n",
              "      <td>49.43</td>\n",
              "      <td>51.12</td>\n",
              "      <td>53.24</td>\n",
              "      <td>50.89</td>\n",
              "      <td>56.70</td>\n",
              "      <td>55.22</td>\n",
              "      <td>48.74</td>\n",
              "      <td>52.79</td>\n",
              "      <td>55.15</td>\n",
              "      <td>50.05</td>\n",
              "    </tr>\n",
              "    <tr>\n",
              "      <th>...</th>\n",
              "      <td>...</td>\n",
              "      <td>...</td>\n",
              "      <td>...</td>\n",
              "      <td>...</td>\n",
              "      <td>...</td>\n",
              "      <td>...</td>\n",
              "      <td>...</td>\n",
              "      <td>...</td>\n",
              "      <td>...</td>\n",
              "      <td>...</td>\n",
              "      <td>...</td>\n",
              "      <td>...</td>\n",
              "      <td>...</td>\n",
              "      <td>...</td>\n",
              "      <td>...</td>\n",
              "      <td>...</td>\n",
              "      <td>...</td>\n",
              "      <td>...</td>\n",
              "      <td>...</td>\n",
              "      <td>...</td>\n",
              "      <td>...</td>\n",
              "    </tr>\n",
              "    <tr>\n",
              "      <th>272</th>\n",
              "      <td>B2210052</td>\n",
              "      <td>리테일기획팀</td>\n",
              "      <td>부산지점</td>\n",
              "      <td>FLEET금융팀</td>\n",
              "      <td>이민설</td>\n",
              "      <td>010-4464-4442</td>\n",
              "      <td>seol@nhcapital.co.kr</td>\n",
              "      <td>1989-04-24</td>\n",
              "      <td>리테일금융본부</td>\n",
              "      <td>리테일영업3센터</td>\n",
              "      <td>...</td>\n",
              "      <td>NaN</td>\n",
              "      <td>NaN</td>\n",
              "      <td>NaN</td>\n",
              "      <td>NaN</td>\n",
              "      <td>NaN</td>\n",
              "      <td>NaN</td>\n",
              "      <td>NaN</td>\n",
              "      <td>NaN</td>\n",
              "      <td>NaN</td>\n",
              "      <td>NaN</td>\n",
              "    </tr>\n",
              "    <tr>\n",
              "      <th>273</th>\n",
              "      <td>B2210074</td>\n",
              "      <td>전략영업2팀</td>\n",
              "      <td>전략영업1팀</td>\n",
              "      <td>디지털전략팀</td>\n",
              "      <td>송자훈</td>\n",
              "      <td>010-4723-6700</td>\n",
              "      <td>jhsong@nhcapital.co.kr</td>\n",
              "      <td>1987-01-29</td>\n",
              "      <td>전략금융본부</td>\n",
              "      <td>전략영업실</td>\n",
              "      <td>...</td>\n",
              "      <td>NaN</td>\n",
              "      <td>NaN</td>\n",
              "      <td>NaN</td>\n",
              "      <td>NaN</td>\n",
              "      <td>NaN</td>\n",
              "      <td>NaN</td>\n",
              "      <td>NaN</td>\n",
              "      <td>NaN</td>\n",
              "      <td>NaN</td>\n",
              "      <td>NaN</td>\n",
              "    </tr>\n",
              "    <tr>\n",
              "      <th>274</th>\n",
              "      <td>B2210116</td>\n",
              "      <td>신용분석팀</td>\n",
              "      <td>서울1지점</td>\n",
              "      <td>리테일다이렉트지점</td>\n",
              "      <td>전재홍</td>\n",
              "      <td>010-3304-9084</td>\n",
              "      <td>jjh@nhcapital.co.kr</td>\n",
              "      <td>1989-04-11</td>\n",
              "      <td>리스크관리본부</td>\n",
              "      <td>리스크관리실</td>\n",
              "      <td>...</td>\n",
              "      <td>NaN</td>\n",
              "      <td>NaN</td>\n",
              "      <td>NaN</td>\n",
              "      <td>NaN</td>\n",
              "      <td>NaN</td>\n",
              "      <td>NaN</td>\n",
              "      <td>NaN</td>\n",
              "      <td>NaN</td>\n",
              "      <td>NaN</td>\n",
              "      <td>NaN</td>\n",
              "    </tr>\n",
              "    <tr>\n",
              "      <th>275</th>\n",
              "      <td>B2210117</td>\n",
              "      <td>경영지원팀</td>\n",
              "      <td>서울2지점</td>\n",
              "      <td>기업심사팀</td>\n",
              "      <td>박대용</td>\n",
              "      <td>010-4162-1055</td>\n",
              "      <td>pdy1055@nhcapital.co.kr</td>\n",
              "      <td>1989-11-29</td>\n",
              "      <td>경영지원본부</td>\n",
              "      <td>경영기획실</td>\n",
              "      <td>...</td>\n",
              "      <td>NaN</td>\n",
              "      <td>NaN</td>\n",
              "      <td>NaN</td>\n",
              "      <td>NaN</td>\n",
              "      <td>NaN</td>\n",
              "      <td>NaN</td>\n",
              "      <td>NaN</td>\n",
              "      <td>NaN</td>\n",
              "      <td>NaN</td>\n",
              "      <td>NaN</td>\n",
              "    </tr>\n",
              "    <tr>\n",
              "      <th>276</th>\n",
              "      <td>B2210128</td>\n",
              "      <td>고객지원팀</td>\n",
              "      <td>서울1지점</td>\n",
              "      <td>리테일기획팀</td>\n",
              "      <td>최선진</td>\n",
              "      <td>010-8576-0736</td>\n",
              "      <td>sjchoi@nhcapital.co.kr</td>\n",
              "      <td>1983-01-01</td>\n",
              "      <td>디지털금융본부</td>\n",
              "      <td>DT추진센터</td>\n",
              "      <td>...</td>\n",
              "      <td>NaN</td>\n",
              "      <td>NaN</td>\n",
              "      <td>NaN</td>\n",
              "      <td>NaN</td>\n",
              "      <td>NaN</td>\n",
              "      <td>NaN</td>\n",
              "      <td>NaN</td>\n",
              "      <td>NaN</td>\n",
              "      <td>NaN</td>\n",
              "      <td>NaN</td>\n",
              "    </tr>\n",
              "  </tbody>\n",
              "</table>\n",
              "<p>272 rows × 250 columns</p>\n",
              "</div>\n",
              "      <button class=\"colab-df-convert\" onclick=\"convertToInteractive('df-ca01df58-043f-47c6-b2bc-cf1ceeb75bf1')\"\n",
              "              title=\"Convert this dataframe to an interactive table.\"\n",
              "              style=\"display:none;\">\n",
              "        \n",
              "  <svg xmlns=\"http://www.w3.org/2000/svg\" height=\"24px\"viewBox=\"0 0 24 24\"\n",
              "       width=\"24px\">\n",
              "    <path d=\"M0 0h24v24H0V0z\" fill=\"none\"/>\n",
              "    <path d=\"M18.56 5.44l.94 2.06.94-2.06 2.06-.94-2.06-.94-.94-2.06-.94 2.06-2.06.94zm-11 1L8.5 8.5l.94-2.06 2.06-.94-2.06-.94L8.5 2.5l-.94 2.06-2.06.94zm10 10l.94 2.06.94-2.06 2.06-.94-2.06-.94-.94-2.06-.94 2.06-2.06.94z\"/><path d=\"M17.41 7.96l-1.37-1.37c-.4-.4-.92-.59-1.43-.59-.52 0-1.04.2-1.43.59L10.3 9.45l-7.72 7.72c-.78.78-.78 2.05 0 2.83L4 21.41c.39.39.9.59 1.41.59.51 0 1.02-.2 1.41-.59l7.78-7.78 2.81-2.81c.8-.78.8-2.07 0-2.86zM5.41 20L4 18.59l7.72-7.72 1.47 1.35L5.41 20z\"/>\n",
              "  </svg>\n",
              "      </button>\n",
              "      \n",
              "  <style>\n",
              "    .colab-df-container {\n",
              "      display:flex;\n",
              "      flex-wrap:wrap;\n",
              "      gap: 12px;\n",
              "    }\n",
              "\n",
              "    .colab-df-convert {\n",
              "      background-color: #E8F0FE;\n",
              "      border: none;\n",
              "      border-radius: 50%;\n",
              "      cursor: pointer;\n",
              "      display: none;\n",
              "      fill: #1967D2;\n",
              "      height: 32px;\n",
              "      padding: 0 0 0 0;\n",
              "      width: 32px;\n",
              "    }\n",
              "\n",
              "    .colab-df-convert:hover {\n",
              "      background-color: #E2EBFA;\n",
              "      box-shadow: 0px 1px 2px rgba(60, 64, 67, 0.3), 0px 1px 3px 1px rgba(60, 64, 67, 0.15);\n",
              "      fill: #174EA6;\n",
              "    }\n",
              "\n",
              "    [theme=dark] .colab-df-convert {\n",
              "      background-color: #3B4455;\n",
              "      fill: #D2E3FC;\n",
              "    }\n",
              "\n",
              "    [theme=dark] .colab-df-convert:hover {\n",
              "      background-color: #434B5C;\n",
              "      box-shadow: 0px 1px 3px 1px rgba(0, 0, 0, 0.15);\n",
              "      filter: drop-shadow(0px 1px 2px rgba(0, 0, 0, 0.3));\n",
              "      fill: #FFFFFF;\n",
              "    }\n",
              "  </style>\n",
              "\n",
              "      <script>\n",
              "        const buttonEl =\n",
              "          document.querySelector('#df-ca01df58-043f-47c6-b2bc-cf1ceeb75bf1 button.colab-df-convert');\n",
              "        buttonEl.style.display =\n",
              "          google.colab.kernel.accessAllowed ? 'block' : 'none';\n",
              "\n",
              "        async function convertToInteractive(key) {\n",
              "          const element = document.querySelector('#df-ca01df58-043f-47c6-b2bc-cf1ceeb75bf1');\n",
              "          const dataTable =\n",
              "            await google.colab.kernel.invokeFunction('convertToInteractive',\n",
              "                                                     [key], {});\n",
              "          if (!dataTable) return;\n",
              "\n",
              "          const docLinkHtml = 'Like what you see? Visit the ' +\n",
              "            '<a target=\"_blank\" href=https://colab.research.google.com/notebooks/data_table.ipynb>data table notebook</a>'\n",
              "            + ' to learn more about interactive tables.';\n",
              "          element.innerHTML = '';\n",
              "          dataTable['output_type'] = 'display_data';\n",
              "          await google.colab.output.renderOutput(dataTable, element);\n",
              "          const docLink = document.createElement('div');\n",
              "          docLink.innerHTML = docLinkHtml;\n",
              "          element.appendChild(docLink);\n",
              "        }\n",
              "      </script>\n",
              "    </div>\n",
              "  </div>\n",
              "  "
            ]
          },
          "metadata": {},
          "execution_count": 113
        }
      ]
    },
    {
      "cell_type": "code",
      "source": [
        "qqqq = output[[\n",
        " '연령',\n",
        " '당사근속기간(개월)',\n",
        " '외부경력(개월)',\n",
        " '총경력(개월)',\n",
        " '직무관련자격증',\n",
        " '수상횟수', '동일부서 근무개월', '부서이동 필요', '긍정성', '적극성', '성실성', '사회성', '정체성', '관계성', '객관성', '비활성', '과활성', '역량 평균',\n",
        "       '영업', '연구/개발', 'IT서비스', '경영기획/지원', '생산/유통/품질', '홍보/마케팅', '서비스/고객지원',\n",
        "       '의료/보건', '건설 엔지니어', '금융/보험', '디자인', '공통', '역량_15년',\n",
        "       '역량_16년', '역량_17년', '역량_18년', '역량_19년', '역량_20년', '역량_21년', '역량_22년',\n",
        "       '업적_15년', '업적_16년', '업적_17년', '업적_18년', '업적_19년', '업적_20년', '업적_21년', '업적_22년']]\n",
        "\n",
        "team_name = ['경영전략팀', '경영지원팀', '재무팀', '업무혁신팀', 'IT통합지원실(정보보호반)',\n",
        "       'IT운영팀', 'IT개선팀', '리스크관리팀', '신용분석팀', '리스크검증팀', '리테일심사팀', '기업심사팀',\n",
        "       '여신관리기획팀', '여신관리팀', '여신관리지원팀', '기업금융1팀', '기업금융2팀', '기업금융3팀', '투자금융1팀',\n",
        "       '투자금융2팀', '기업금융기획팀', 'ESG추진팀', '글로벌사업팀', 'FLEET금융팀', '전략영업1팀', '전략영업2팀',\n",
        "       '리테일영업지원팀', '리테일기획팀', '오토기획팀', '오토자산운영팀', '서울1지점', '인천지점', '서울2지점',\n",
        "       '광주지점', '대전지점', '평택지점', '부산지점', '대구지점', '창원출장소', '디지털영업지원팀', '디지털영업기획팀',\n",
        "       '리테일다이렉트지점', '오토다이렉트지점', '디지털전략팀', '고객지원팀', '감사팀', '준법지원팀', '소비자보호팀']\n",
        "qqqq[team_name] = output[team_name]"
      ],
      "metadata": {
        "colab": {
          "base_uri": "https://localhost:8080/"
        },
        "id": "skLG5m6o0Gl5",
        "outputId": "32b2b298-69ff-4744-904a-b28d9cb340f4"
      },
      "execution_count": 114,
      "outputs": [
        {
          "output_type": "stream",
          "name": "stderr",
          "text": [
            "\n",
            "A value is trying to be set on a copy of a slice from a DataFrame.\n",
            "Try using .loc[row_indexer,col_indexer] = value instead\n",
            "\n",
            "See the caveats in the documentation: https://pandas.pydata.org/pandas-docs/stable/user_guide/indexing.html#returning-a-view-versus-a-copy\n"
          ]
        }
      ]
    },
    {
      "cell_type": "code",
      "source": [
        "grade_list = ['역량_15년',\n",
        "       '역량_16년', '역량_17년', '역량_18년', '역량_19년', '역량_20년', '역량_21년', '역량_22년',\n",
        "       '업적_15년', '업적_16년', '업적_17년', '업적_18년', '업적_19년', '업적_20년', '업적_21년',\n",
        "       '업적_22년']\n",
        "\n",
        "for column in grade_list : \n",
        "  for i in range(len(qqqq)) : \n",
        "    if qqqq[column][i] == 'S' :\n",
        "      qqqq[column][i] = 5\n",
        "    elif qqqq[column][i] == 'A' :\n",
        "      qqqq[column][i] = 4\n",
        "    elif qqqq[column][i] == 'B' :\n",
        "      qqqq[column][i] = 3\n",
        "    elif qqqq[column][i] == 'C' :\n",
        "      qqqq[column][i] = 2\n",
        "    elif qqqq[column][i] == 'D' :\n",
        "      qqqq[column][i] = 1\n",
        "    else : \n",
        "      qqqq[column][i] = 0"
      ],
      "metadata": {
        "colab": {
          "base_uri": "https://localhost:8080/"
        },
        "id": "9E42cbkg14js",
        "outputId": "a84ce436-a4cb-4ba1-8c98-f19f6aace500"
      },
      "execution_count": 115,
      "outputs": [
        {
          "output_type": "stream",
          "name": "stderr",
          "text": [
            "\n",
            "A value is trying to be set on a copy of a slice from a DataFrame\n",
            "\n",
            "See the caveats in the documentation: https://pandas.pydata.org/pandas-docs/stable/user_guide/indexing.html#returning-a-view-versus-a-copy\n",
            "\n",
            "A value is trying to be set on a copy of a slice from a DataFrame\n",
            "\n",
            "See the caveats in the documentation: https://pandas.pydata.org/pandas-docs/stable/user_guide/indexing.html#returning-a-view-versus-a-copy\n",
            "\n",
            "A value is trying to be set on a copy of a slice from a DataFrame\n",
            "\n",
            "See the caveats in the documentation: https://pandas.pydata.org/pandas-docs/stable/user_guide/indexing.html#returning-a-view-versus-a-copy\n",
            "\n",
            "A value is trying to be set on a copy of a slice from a DataFrame\n",
            "\n",
            "See the caveats in the documentation: https://pandas.pydata.org/pandas-docs/stable/user_guide/indexing.html#returning-a-view-versus-a-copy\n",
            "\n",
            "A value is trying to be set on a copy of a slice from a DataFrame\n",
            "\n",
            "See the caveats in the documentation: https://pandas.pydata.org/pandas-docs/stable/user_guide/indexing.html#returning-a-view-versus-a-copy\n",
            "\n",
            "A value is trying to be set on a copy of a slice from a DataFrame\n",
            "\n",
            "See the caveats in the documentation: https://pandas.pydata.org/pandas-docs/stable/user_guide/indexing.html#returning-a-view-versus-a-copy\n"
          ]
        }
      ]
    },
    {
      "cell_type": "code",
      "source": [
        "qqqq.replace('Low', 3, inplace=True)\n",
        "qqqq.replace('Middle', 2, inplace=True)\n",
        "qqqq.replace('High', 1, inplace=True)"
      ],
      "metadata": {
        "colab": {
          "base_uri": "https://localhost:8080/"
        },
        "id": "4GnMWjPZ1lVF",
        "outputId": "8f3b4ab6-2c0a-4cc1-88ca-dd7eea062b0f"
      },
      "execution_count": 116,
      "outputs": [
        {
          "output_type": "stream",
          "name": "stderr",
          "text": [
            "\n",
            "A value is trying to be set on a copy of a slice from a DataFrame\n",
            "\n",
            "See the caveats in the documentation: https://pandas.pydata.org/pandas-docs/stable/user_guide/indexing.html#returning-a-view-versus-a-copy\n"
          ]
        }
      ]
    },
    {
      "cell_type": "code",
      "source": [
        "ffff= qqqq.corr(method='pearson')"
      ],
      "metadata": {
        "id": "g6h9sI6o1_gh"
      },
      "execution_count": 117,
      "outputs": []
    },
    {
      "cell_type": "code",
      "source": [
        "pppp = ffff[team_name]"
      ],
      "metadata": {
        "id": "Sb7276PmaJZK"
      },
      "execution_count": 118,
      "outputs": []
    },
    {
      "cell_type": "code",
      "source": [
        "pppp.drop(team_name, axis=0, inplace=True)"
      ],
      "metadata": {
        "colab": {
          "base_uri": "https://localhost:8080/"
        },
        "id": "_MxUazZrkFVb",
        "outputId": "8a5eaf71-2708-4adc-cb94-61ee1cc3f62a"
      },
      "execution_count": 119,
      "outputs": [
        {
          "output_type": "stream",
          "name": "stderr",
          "text": [
            "\n",
            "A value is trying to be set on a copy of a slice from a DataFrame\n",
            "\n",
            "See the caveats in the documentation: https://pandas.pydata.org/pandas-docs/stable/user_guide/indexing.html#returning-a-view-versus-a-copy\n"
          ]
        }
      ]
    },
    {
      "cell_type": "code",
      "source": [
        "pppp.max().max()"
      ],
      "metadata": {
        "colab": {
          "base_uri": "https://localhost:8080/"
        },
        "id": "xTfeKaeZ8DSj",
        "outputId": "d05a5fae-50d8-452d-9a48-f7475b3bd10d"
      },
      "execution_count": 134,
      "outputs": [
        {
          "output_type": "execute_result",
          "data": {
            "text/plain": [
              "0.36551019198808127"
            ]
          },
          "metadata": {},
          "execution_count": 134
        }
      ]
    },
    {
      "cell_type": "code",
      "source": [
        "# heatmap\n",
        "plt.rcParams[\"figure.figsize\"] = (20, 20)\n",
        "plt.rc('font', size=15)\n",
        "sns.heatmap(pppp,\n",
        "           annot = False, #실제 값 화면에 나타내기\n",
        "            fmt=\".2f\",\n",
        "           cmap = 'Greens', #색상\n",
        "           vmin = -0.4, vmax=0.4 , #컬러차트 영역 -1 ~ +1\n",
        "          )"
      ],
      "metadata": {
        "colab": {
          "base_uri": "https://localhost:8080/",
          "height": 1000
        },
        "id": "lhhyTYyO5XXe",
        "outputId": "11ace60e-8cb9-4eff-8910-eb9c23d3323e"
      },
      "execution_count": 139,
      "outputs": [
        {
          "output_type": "stream",
          "name": "stderr",
          "text": [
            "Glyph 8722 missing from current font.\n",
            "Glyph 8722 missing from current font.\n"
          ]
        },
        {
          "output_type": "execute_result",
          "data": {
            "text/plain": [
              "<matplotlib.axes._subplots.AxesSubplot at 0x7f9e3dece9a0>"
            ]
          },
          "metadata": {},
          "execution_count": 139
        },
        {
          "output_type": "display_data",
          "data": {
            "text/plain": [
              "<Figure size 1440x1440 with 2 Axes>"
            ],
            "image/png": "[encoded data removed]"
          },
          "metadata": {
            "needs_background": "light"
          }
        }
      ]
    },
    {
      "cell_type": "code",
      "source": [
        "raw_data.loc[raw_data['팀']=='IT개선팀']"
      ],
      "metadata": {
        "colab": {
          "base_uri": "https://localhost:8080/",
          "height": 920
        },
        "id": "spfnWdONIrNd",
        "outputId": "9a6b53ae-78b1-42d5-da41-22c1395fabf3"
      },
      "execution_count": 142,
      "outputs": [
        {
          "output_type": "execute_result",
          "data": {
            "text/plain": [
              "           사번   성명            연락처                          이메일        생년월일  \\\n",
              "17   B1110066  유연선  010-8898-9422      yeonsun@nhcapital.co.kr  1981-08-31   \n",
              "56   B1410038  육남현  010-6742-2916     tintin94@nhcapital.co.kr  1976-02-14   \n",
              "76   B1610032  노주원  010-6358-5115     juwonroh@nhcapital.co.kr  1982-01-30   \n",
              "126  B1910043  박승종  010-9351-7451  seungjong25@nhcapital.co.kr  1986-07-08   \n",
              "132  B1910069  김현수  010-2679-2171      hskim92@nhcapital.co.kr  1992-11-10   \n",
              "139  B2010048  강동완  010-4016-7057      kdw2134@nhcapital.co.kr  1988-05-29   \n",
              "144  B2010100  김유정  010-7600-3562      no1feel@nhcapital.co.kr  1989-01-11   \n",
              "152  B2110061  노지원  010-7746-9505   qkqhdi3210@nhcapital.co.kr  1995-03-11   \n",
              "161  B2110108  고기광  010-6367-9239         kkko@nhcapital.co.kr  1990-09-12   \n",
              "163  B2110114  임재일  010-5219-2330      imjaeil@nhcapital.co.kr  1984-11-27   \n",
              "175  B2210033  한훈희  010-3836-7146      hanjoi7@nhcapital.co.kr  1992-11-02   \n",
              "176  B2210036  김민주  010-6225-9725   kkmmjj1120@nhcapital.co.kr  1995-11-20   \n",
              "177  B2210038  이진솔  010-9213-9419     jinsolee@nhcapital.co.kr  1997-06-07   \n",
              "193  B2210081  강민지  010-8631-3801     minz0220@nhcapital.co.kr  1995-02-20   \n",
              "195  B2210086  이혜미  010-6756-0421        leehm@nhcapital.co.kr  1988-04-21   \n",
              "196  B2210093  김경태  010-6470-2012      kkt7289@nhcapital.co.kr  1992-10-29   \n",
              "\n",
              "         본부        실      팀        직무  직급  ...  IT서비스 경영기획/지원 생산/유통/품질  \\\n",
              "17   경영지원본부  IT통합지원실  IT개선팀  IT지원(개발)  차장  ...  82.72   84.02    85.42   \n",
              "56   경영지원본부  IT통합지원실  IT개선팀  IT지원(개발)  차장  ...  69.72   72.13    72.22   \n",
              "76   경영지원본부  IT통합지원실  IT개선팀  IT지원(개발)  과장  ...  87.40   88.46    90.32   \n",
              "126  경영지원본부  IT통합지원실  IT개선팀  IT지원(개발)  과장  ...  70.77   72.05    73.31   \n",
              "132  경영지원본부  IT통합지원실  IT개선팀  IT지원(개발)  계장  ...  87.95   84.22    85.80   \n",
              "139  경영지원본부  IT통합지원실  IT개선팀  IT지원(개발)  대리  ...  89.63   85.86    85.79   \n",
              "144  경영지원본부  IT통합지원실  IT개선팀  IT지원(개발)  대리  ...  77.70   80.48    80.39   \n",
              "152  경영지원본부  IT통합지원실  IT개선팀  IT지원(개발)  계장  ...  61.11   63.79    62.35   \n",
              "161  경영지원본부  IT통합지원실  IT개선팀  IT지원(개발)  계장  ...  69.81   75.63    73.55   \n",
              "163  경영지원본부  IT통합지원실  IT개선팀  IT지원(개발)  과장  ...  42.00   52.15    49.91   \n",
              "175  경영지원본부  IT통합지원실  IT개선팀  IT지원(개발)  계장  ...  69.45   71.92    71.99   \n",
              "176  경영지원본부  IT통합지원실  IT개선팀  IT지원(개발)  계장  ...  66.36   67.02    64.84   \n",
              "177  경영지원본부  IT통합지원실  IT개선팀  IT지원(개발)  계장  ...  43.58   57.69    54.68   \n",
              "193  경영지원본부  IT통합지원실  IT개선팀  IT지원(개발)  계장  ...  71.33   62.42    58.22   \n",
              "195  경영지원본부  IT통합지원실  IT개선팀  IT지원(개발)  과장  ...  82.65   82.40    84.47   \n",
              "196  경영지원본부  IT통합지원실  IT개선팀  IT지원(개발)  대리  ...  67.28   68.81    68.27   \n",
              "\n",
              "     홍보/마케팅  서비스/고객지원  의료/보건  건설 엔지니어  금융/보험    디자인     공통  \n",
              "17    81.62     77.54  76.20    79.55  79.60  79.90  76.00  \n",
              "56    71.53     69.31  72.20    77.82  66.78  72.12  70.63  \n",
              "76    84.78     76.53  89.26    98.64  78.67  83.00  82.48  \n",
              "126   66.81     67.19  61.14    72.77  69.32  66.49  72.66  \n",
              "132   84.37     81.29  83.50    89.63  83.83  84.64  85.12  \n",
              "139   85.19     79.02  82.46    88.34  84.06  84.46  85.30  \n",
              "144   83.62     83.85  82.74    81.60  81.08  82.70  82.36  \n",
              "152   60.56     65.61  63.00    62.48  61.08  58.79  64.30  \n",
              "161   71.41     69.44  73.08    73.12  72.04  70.35  72.59  \n",
              "163   42.00     49.20  44.45    49.31  44.08  42.00  43.40  \n",
              "175   71.46     73.38  73.86    69.79  71.68  72.27  69.87  \n",
              "176   70.43     75.88  71.01    64.41  72.71  70.52  72.53  \n",
              "177   51.60     62.98  58.18    50.04  57.25  52.20  55.96  \n",
              "193   69.26     65.89  62.90    58.30  68.91  67.22  68.47  \n",
              "195   89.33     81.36  80.75    83.94  79.82  82.07  81.50  \n",
              "196   62.62     66.33  64.89    66.50  68.03  66.42  68.37  \n",
              "\n",
              "[16 rows x 147 columns]"
            ],
            "text/html": [
              "\n",
              "  <div id=\"df-b0ac66fe-e5b3-47f7-82fb-5be72fdd16d7\">\n",
              "    <div class=\"colab-df-container\">\n",
              "      <div>\n",
              "<style scoped>\n",
              "    .dataframe tbody tr th:only-of-type {\n",
              "        vertical-align: middle;\n",
              "    }\n",
              "\n",
              "    .dataframe tbody tr th {\n",
              "        vertical-align: top;\n",
              "    }\n",
              "\n",
              "    .dataframe thead th {\n",
              "        text-align: right;\n",
              "    }\n",
              "</style>\n",
              "<table border=\"1\" class=\"dataframe\">\n",
              "  <thead>\n",
              "    <tr style=\"text-align: right;\">\n",
              "      <th></th>\n",
              "      <th>사번</th>\n",
              "      <th>성명</th>\n",
              "      <th>연락처</th>\n",
              "      <th>이메일</th>\n",
              "      <th>생년월일</th>\n",
              "      <th>본부</th>\n",
              "      <th>실</th>\n",
              "      <th>팀</th>\n",
              "      <th>직무</th>\n",
              "      <th>직급</th>\n",
              "      <th>...</th>\n",
              "      <th>IT서비스</th>\n",
              "      <th>경영기획/지원</th>\n",
              "      <th>생산/유통/품질</th>\n",
              "      <th>홍보/마케팅</th>\n",
              "      <th>서비스/고객지원</th>\n",
              "      <th>의료/보건</th>\n",
              "      <th>건설 엔지니어</th>\n",
              "      <th>금융/보험</th>\n",
              "      <th>디자인</th>\n",
              "      <th>공통</th>\n",
              "    </tr>\n",
              "  </thead>\n",
              "  <tbody>\n",
              "    <tr>\n",
              "      <th>17</th>\n",
              "      <td>B1110066</td>\n",
              "      <td>유연선</td>\n",
              "      <td>010-8898-9422</td>\n",
              "      <td>yeonsun@nhcapital.co.kr</td>\n",
              "      <td>1981-08-31</td>\n",
              "      <td>경영지원본부</td>\n",
              "      <td>IT통합지원실</td>\n",
              "      <td>IT개선팀</td>\n",
              "      <td>IT지원(개발)</td>\n",
              "      <td>차장</td>\n",
              "      <td>...</td>\n",
              "      <td>82.72</td>\n",
              "      <td>84.02</td>\n",
              "      <td>85.42</td>\n",
              "      <td>81.62</td>\n",
              "      <td>77.54</td>\n",
              "      <td>76.20</td>\n",
              "      <td>79.55</td>\n",
              "      <td>79.60</td>\n",
              "      <td>79.90</td>\n",
              "      <td>76.00</td>\n",
              "    </tr>\n",
              "    <tr>\n",
              "      <th>56</th>\n",
              "      <td>B1410038</td>\n",
              "      <td>육남현</td>\n",
              "      <td>010-6742-2916</td>\n",
              "      <td>tintin94@nhcapital.co.kr</td>\n",
              "      <td>1976-02-14</td>\n",
              "      <td>경영지원본부</td>\n",
              "      <td>IT통합지원실</td>\n",
              "      <td>IT개선팀</td>\n",
              "      <td>IT지원(개발)</td>\n",
              "      <td>차장</td>\n",
              "      <td>...</td>\n",
              "      <td>69.72</td>\n",
              "      <td>72.13</td>\n",
              "      <td>72.22</td>\n",
              "      <td>71.53</td>\n",
              "      <td>69.31</td>\n",
              "      <td>72.20</td>\n",
              "      <td>77.82</td>\n",
              "      <td>66.78</td>\n",
              "      <td>72.12</td>\n",
              "      <td>70.63</td>\n",
              "    </tr>\n",
              "    <tr>\n",
              "      <th>76</th>\n",
              "      <td>B1610032</td>\n",
              "      <td>노주원</td>\n",
              "      <td>010-6358-5115</td>\n",
              "      <td>juwonroh@nhcapital.co.kr</td>\n",
              "      <td>1982-01-30</td>\n",
              "      <td>경영지원본부</td>\n",
              "      <td>IT통합지원실</td>\n",
              "      <td>IT개선팀</td>\n",
              "      <td>IT지원(개발)</td>\n",
              "      <td>과장</td>\n",
              "      <td>...</td>\n",
              "      <td>87.40</td>\n",
              "      <td>88.46</td>\n",
              "      <td>90.32</td>\n",
              "      <td>84.78</td>\n",
              "      <td>76.53</td>\n",
              "      <td>89.26</td>\n",
              "      <td>98.64</td>\n",
              "      <td>78.67</td>\n",
              "      <td>83.00</td>\n",
              "      <td>82.48</td>\n",
              "    </tr>\n",
              "    <tr>\n",
              "      <th>126</th>\n",
              "      <td>B1910043</td>\n",
              "      <td>박승종</td>\n",
              "      <td>010-9351-7451</td>\n",
              "      <td>seungjong25@nhcapital.co.kr</td>\n",
              "      <td>1986-07-08</td>\n",
              "      <td>경영지원본부</td>\n",
              "      <td>IT통합지원실</td>\n",
              "      <td>IT개선팀</td>\n",
              "      <td>IT지원(개발)</td>\n",
              "      <td>과장</td>\n",
              "      <td>...</td>\n",
              "      <td>70.77</td>\n",
              "      <td>72.05</td>\n",
              "      <td>73.31</td>\n",
              "      <td>66.81</td>\n",
              "      <td>67.19</td>\n",
              "      <td>61.14</td>\n",
              "      <td>72.77</td>\n",
              "      <td>69.32</td>\n",
              "      <td>66.49</td>\n",
              "      <td>72.66</td>\n",
              "    </tr>\n",
              "    <tr>\n",
              "      <th>132</th>\n",
              "      <td>B1910069</td>\n",
              "      <td>김현수</td>\n",
              "      <td>010-2679-2171</td>\n",
              "      <td>hskim92@nhcapital.co.kr</td>\n",
              "      <td>1992-11-10</td>\n",
              "      <td>경영지원본부</td>\n",
              "      <td>IT통합지원실</td>\n",
              "      <td>IT개선팀</td>\n",
              "      <td>IT지원(개발)</td>\n",
              "      <td>계장</td>\n",
              "      <td>...</td>\n",
              "      <td>87.95</td>\n",
              "      <td>84.22</td>\n",
              "      <td>85.80</td>\n",
              "      <td>84.37</td>\n",
              "      <td>81.29</td>\n",
              "      <td>83.50</td>\n",
              "      <td>89.63</td>\n",
              "      <td>83.83</td>\n",
              "      <td>84.64</td>\n",
              "      <td>85.12</td>\n",
              "    </tr>\n",
              "    <tr>\n",
              "      <th>139</th>\n",
              "      <td>B2010048</td>\n",
              "      <td>강동완</td>\n",
              "      <td>010-4016-7057</td>\n",
              "      <td>kdw2134@nhcapital.co.kr</td>\n",
              "      <td>1988-05-29</td>\n",
              "      <td>경영지원본부</td>\n",
              "      <td>IT통합지원실</td>\n",
              "      <td>IT개선팀</td>\n",
              "      <td>IT지원(개발)</td>\n",
              "      <td>대리</td>\n",
              "      <td>...</td>\n",
              "      <td>89.63</td>\n",
              "      <td>85.86</td>\n",
              "      <td>85.79</td>\n",
              "      <td>85.19</td>\n",
              "      <td>79.02</td>\n",
              "      <td>82.46</td>\n",
              "      <td>88.34</td>\n",
              "      <td>84.06</td>\n",
              "      <td>84.46</td>\n",
              "      <td>85.30</td>\n",
              "    </tr>\n",
              "    <tr>\n",
              "      <th>144</th>\n",
              "      <td>B2010100</td>\n",
              "      <td>김유정</td>\n",
              "      <td>010-7600-3562</td>\n",
              "      <td>no1feel@nhcapital.co.kr</td>\n",
              "      <td>1989-01-11</td>\n",
              "      <td>경영지원본부</td>\n",
              "      <td>IT통합지원실</td>\n",
              "      <td>IT개선팀</td>\n",
              "      <td>IT지원(개발)</td>\n",
              "      <td>대리</td>\n",
              "      <td>...</td>\n",
              "      <td>77.70</td>\n",
              "      <td>80.48</td>\n",
              "      <td>80.39</td>\n",
              "      <td>83.62</td>\n",
              "      <td>83.85</td>\n",
              "      <td>82.74</td>\n",
              "      <td>81.60</td>\n",
              "      <td>81.08</td>\n",
              "      <td>82.70</td>\n",
              "      <td>82.36</td>\n",
              "    </tr>\n",
              "    <tr>\n",
              "      <th>152</th>\n",
              "      <td>B2110061</td>\n",
              "      <td>노지원</td>\n",
              "      <td>010-7746-9505</td>\n",
              "      <td>qkqhdi3210@nhcapital.co.kr</td>\n",
              "      <td>1995-03-11</td>\n",
              "      <td>경영지원본부</td>\n",
              "      <td>IT통합지원실</td>\n",
              "      <td>IT개선팀</td>\n",
              "      <td>IT지원(개발)</td>\n",
              "      <td>계장</td>\n",
              "      <td>...</td>\n",
              "      <td>61.11</td>\n",
              "      <td>63.79</td>\n",
              "      <td>62.35</td>\n",
              "      <td>60.56</td>\n",
              "      <td>65.61</td>\n",
              "      <td>63.00</td>\n",
              "      <td>62.48</td>\n",
              "      <td>61.08</td>\n",
              "      <td>58.79</td>\n",
              "      <td>64.30</td>\n",
              "    </tr>\n",
              "    <tr>\n",
              "      <th>161</th>\n",
              "      <td>B2110108</td>\n",
              "      <td>고기광</td>\n",
              "      <td>010-6367-9239</td>\n",
              "      <td>kkko@nhcapital.co.kr</td>\n",
              "      <td>1990-09-12</td>\n",
              "      <td>경영지원본부</td>\n",
              "      <td>IT통합지원실</td>\n",
              "      <td>IT개선팀</td>\n",
              "      <td>IT지원(개발)</td>\n",
              "      <td>계장</td>\n",
              "      <td>...</td>\n",
              "      <td>69.81</td>\n",
              "      <td>75.63</td>\n",
              "      <td>73.55</td>\n",
              "      <td>71.41</td>\n",
              "      <td>69.44</td>\n",
              "      <td>73.08</td>\n",
              "      <td>73.12</td>\n",
              "      <td>72.04</td>\n",
              "      <td>70.35</td>\n",
              "      <td>72.59</td>\n",
              "    </tr>\n",
              "    <tr>\n",
              "      <th>163</th>\n",
              "      <td>B2110114</td>\n",
              "      <td>임재일</td>\n",
              "      <td>010-5219-2330</td>\n",
              "      <td>imjaeil@nhcapital.co.kr</td>\n",
              "      <td>1984-11-27</td>\n",
              "      <td>경영지원본부</td>\n",
              "      <td>IT통합지원실</td>\n",
              "      <td>IT개선팀</td>\n",
              "      <td>IT지원(개발)</td>\n",
              "      <td>과장</td>\n",
              "      <td>...</td>\n",
              "      <td>42.00</td>\n",
              "      <td>52.15</td>\n",
              "      <td>49.91</td>\n",
              "      <td>42.00</td>\n",
              "      <td>49.20</td>\n",
              "      <td>44.45</td>\n",
              "      <td>49.31</td>\n",
              "      <td>44.08</td>\n",
              "      <td>42.00</td>\n",
              "      <td>43.40</td>\n",
              "    </tr>\n",
              "    <tr>\n",
              "      <th>175</th>\n",
              "      <td>B2210033</td>\n",
              "      <td>한훈희</td>\n",
              "      <td>010-3836-7146</td>\n",
              "      <td>hanjoi7@nhcapital.co.kr</td>\n",
              "      <td>1992-11-02</td>\n",
              "      <td>경영지원본부</td>\n",
              "      <td>IT통합지원실</td>\n",
              "      <td>IT개선팀</td>\n",
              "      <td>IT지원(개발)</td>\n",
              "      <td>계장</td>\n",
              "      <td>...</td>\n",
              "      <td>69.45</td>\n",
              "      <td>71.92</td>\n",
              "      <td>71.99</td>\n",
              "      <td>71.46</td>\n",
              "      <td>73.38</td>\n",
              "      <td>73.86</td>\n",
              "      <td>69.79</td>\n",
              "      <td>71.68</td>\n",
              "      <td>72.27</td>\n",
              "      <td>69.87</td>\n",
              "    </tr>\n",
              "    <tr>\n",
              "      <th>176</th>\n",
              "      <td>B2210036</td>\n",
              "      <td>김민주</td>\n",
              "      <td>010-6225-9725</td>\n",
              "      <td>kkmmjj1120@nhcapital.co.kr</td>\n",
              "      <td>1995-11-20</td>\n",
              "      <td>경영지원본부</td>\n",
              "      <td>IT통합지원실</td>\n",
              "      <td>IT개선팀</td>\n",
              "      <td>IT지원(개발)</td>\n",
              "      <td>계장</td>\n",
              "      <td>...</td>\n",
              "      <td>66.36</td>\n",
              "      <td>67.02</td>\n",
              "      <td>64.84</td>\n",
              "      <td>70.43</td>\n",
              "      <td>75.88</td>\n",
              "      <td>71.01</td>\n",
              "      <td>64.41</td>\n",
              "      <td>72.71</td>\n",
              "      <td>70.52</td>\n",
              "      <td>72.53</td>\n",
              "    </tr>\n",
              "    <tr>\n",
              "      <th>177</th>\n",
              "      <td>B2210038</td>\n",
              "      <td>이진솔</td>\n",
              "      <td>010-9213-9419</td>\n",
              "      <td>jinsolee@nhcapital.co.kr</td>\n",
              "      <td>1997-06-07</td>\n",
              "      <td>경영지원본부</td>\n",
              "      <td>IT통합지원실</td>\n",
              "      <td>IT개선팀</td>\n",
              "      <td>IT지원(개발)</td>\n",
              "      <td>계장</td>\n",
              "      <td>...</td>\n",
              "      <td>43.58</td>\n",
              "      <td>57.69</td>\n",
              "      <td>54.68</td>\n",
              "      <td>51.60</td>\n",
              "      <td>62.98</td>\n",
              "      <td>58.18</td>\n",
              "      <td>50.04</td>\n",
              "      <td>57.25</td>\n",
              "      <td>52.20</td>\n",
              "      <td>55.96</td>\n",
              "    </tr>\n",
              "    <tr>\n",
              "      <th>193</th>\n",
              "      <td>B2210081</td>\n",
              "      <td>강민지</td>\n",
              "      <td>010-8631-3801</td>\n",
              "      <td>minz0220@nhcapital.co.kr</td>\n",
              "      <td>1995-02-20</td>\n",
              "      <td>경영지원본부</td>\n",
              "      <td>IT통합지원실</td>\n",
              "      <td>IT개선팀</td>\n",
              "      <td>IT지원(개발)</td>\n",
              "      <td>계장</td>\n",
              "      <td>...</td>\n",
              "      <td>71.33</td>\n",
              "      <td>62.42</td>\n",
              "      <td>58.22</td>\n",
              "      <td>69.26</td>\n",
              "      <td>65.89</td>\n",
              "      <td>62.90</td>\n",
              "      <td>58.30</td>\n",
              "      <td>68.91</td>\n",
              "      <td>67.22</td>\n",
              "      <td>68.47</td>\n",
              "    </tr>\n",
              "    <tr>\n",
              "      <th>195</th>\n",
              "      <td>B2210086</td>\n",
              "      <td>이혜미</td>\n",
              "      <td>010-6756-0421</td>\n",
              "      <td>leehm@nhcapital.co.kr</td>\n",
              "      <td>1988-04-21</td>\n",
              "      <td>경영지원본부</td>\n",
              "      <td>IT통합지원실</td>\n",
              "      <td>IT개선팀</td>\n",
              "      <td>IT지원(개발)</td>\n",
              "      <td>과장</td>\n",
              "      <td>...</td>\n",
              "      <td>82.65</td>\n",
              "      <td>82.40</td>\n",
              "      <td>84.47</td>\n",
              "      <td>89.33</td>\n",
              "      <td>81.36</td>\n",
              "      <td>80.75</td>\n",
              "      <td>83.94</td>\n",
              "      <td>79.82</td>\n",
              "      <td>82.07</td>\n",
              "      <td>81.50</td>\n",
              "    </tr>\n",
              "    <tr>\n",
              "      <th>196</th>\n",
              "      <td>B2210093</td>\n",
              "      <td>김경태</td>\n",
              "      <td>010-6470-2012</td>\n",
              "      <td>kkt7289@nhcapital.co.kr</td>\n",
              "      <td>1992-10-29</td>\n",
              "      <td>경영지원본부</td>\n",
              "      <td>IT통합지원실</td>\n",
              "      <td>IT개선팀</td>\n",
              "      <td>IT지원(개발)</td>\n",
              "      <td>대리</td>\n",
              "      <td>...</td>\n",
              "      <td>67.28</td>\n",
              "      <td>68.81</td>\n",
              "      <td>68.27</td>\n",
              "      <td>62.62</td>\n",
              "      <td>66.33</td>\n",
              "      <td>64.89</td>\n",
              "      <td>66.50</td>\n",
              "      <td>68.03</td>\n",
              "      <td>66.42</td>\n",
              "      <td>68.37</td>\n",
              "    </tr>\n",
              "  </tbody>\n",
              "</table>\n",
              "<p>16 rows × 147 columns</p>\n",
              "</div>\n",
              "      <button class=\"colab-df-convert\" onclick=\"convertToInteractive('df-b0ac66fe-e5b3-47f7-82fb-5be72fdd16d7')\"\n",
              "              title=\"Convert this dataframe to an interactive table.\"\n",
              "              style=\"display:none;\">\n",
              "        \n",
              "  <svg xmlns=\"http://www.w3.org/2000/svg\" height=\"24px\"viewBox=\"0 0 24 24\"\n",
              "       width=\"24px\">\n",
              "    <path d=\"M0 0h24v24H0V0z\" fill=\"none\"/>\n",
              "    <path d=\"M18.56 5.44l.94 2.06.94-2.06 2.06-.94-2.06-.94-.94-2.06-.94 2.06-2.06.94zm-11 1L8.5 8.5l.94-2.06 2.06-.94-2.06-.94L8.5 2.5l-.94 2.06-2.06.94zm10 10l.94 2.06.94-2.06 2.06-.94-2.06-.94-.94-2.06-.94 2.06-2.06.94z\"/><path d=\"M17.41 7.96l-1.37-1.37c-.4-.4-.92-.59-1.43-.59-.52 0-1.04.2-1.43.59L10.3 9.45l-7.72 7.72c-.78.78-.78 2.05 0 2.83L4 21.41c.39.39.9.59 1.41.59.51 0 1.02-.2 1.41-.59l7.78-7.78 2.81-2.81c.8-.78.8-2.07 0-2.86zM5.41 20L4 18.59l7.72-7.72 1.47 1.35L5.41 20z\"/>\n",
              "  </svg>\n",
              "      </button>\n",
              "      \n",
              "  <style>\n",
              "    .colab-df-container {\n",
              "      display:flex;\n",
              "      flex-wrap:wrap;\n",
              "      gap: 12px;\n",
              "    }\n",
              "\n",
              "    .colab-df-convert {\n",
              "      background-color: #E8F0FE;\n",
              "      border: none;\n",
              "      border-radius: 50%;\n",
              "      cursor: pointer;\n",
              "      display: none;\n",
              "      fill: #1967D2;\n",
              "      height: 32px;\n",
              "      padding: 0 0 0 0;\n",
              "      width: 32px;\n",
              "    }\n",
              "\n",
              "    .colab-df-convert:hover {\n",
              "      background-color: #E2EBFA;\n",
              "      box-shadow: 0px 1px 2px rgba(60, 64, 67, 0.3), 0px 1px 3px 1px rgba(60, 64, 67, 0.15);\n",
              "      fill: #174EA6;\n",
              "    }\n",
              "\n",
              "    [theme=dark] .colab-df-convert {\n",
              "      background-color: #3B4455;\n",
              "      fill: #D2E3FC;\n",
              "    }\n",
              "\n",
              "    [theme=dark] .colab-df-convert:hover {\n",
              "      background-color: #434B5C;\n",
              "      box-shadow: 0px 1px 3px 1px rgba(0, 0, 0, 0.15);\n",
              "      filter: drop-shadow(0px 1px 2px rgba(0, 0, 0, 0.3));\n",
              "      fill: #FFFFFF;\n",
              "    }\n",
              "  </style>\n",
              "\n",
              "      <script>\n",
              "        const buttonEl =\n",
              "          document.querySelector('#df-b0ac66fe-e5b3-47f7-82fb-5be72fdd16d7 button.colab-df-convert');\n",
              "        buttonEl.style.display =\n",
              "          google.colab.kernel.accessAllowed ? 'block' : 'none';\n",
              "\n",
              "        async function convertToInteractive(key) {\n",
              "          const element = document.querySelector('#df-b0ac66fe-e5b3-47f7-82fb-5be72fdd16d7');\n",
              "          const dataTable =\n",
              "            await google.colab.kernel.invokeFunction('convertToInteractive',\n",
              "                                                     [key], {});\n",
              "          if (!dataTable) return;\n",
              "\n",
              "          const docLinkHtml = 'Like what you see? Visit the ' +\n",
              "            '<a target=\"_blank\" href=https://colab.research.google.com/notebooks/data_table.ipynb>data table notebook</a>'\n",
              "            + ' to learn more about interactive tables.';\n",
              "          element.innerHTML = '';\n",
              "          dataTable['output_type'] = 'display_data';\n",
              "          await google.colab.output.renderOutput(dataTable, element);\n",
              "          const docLink = document.createElement('div');\n",
              "          docLink.innerHTML = docLinkHtml;\n",
              "          element.appendChild(docLink);\n",
              "        }\n",
              "      </script>\n",
              "    </div>\n",
              "  </div>\n",
              "  "
            ]
          },
          "metadata": {},
          "execution_count": 142
        }
      ]
    }
  ]
}
